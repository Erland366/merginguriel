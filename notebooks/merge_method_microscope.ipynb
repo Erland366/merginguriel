{
  "cells": [
    {
      "cell_type": "markdown",
      "id": "a1ddab21",
      "metadata": {},
      "source": [
        "# English"
      ]
    },
    {
      "cell_type": "code",
      "execution_count": 1,
      "id": "c26e1c20",
      "metadata": {},
      "outputs": [
        {
          "name": "stderr",
          "output_type": "stream",
          "text": [
            "/home/coder/Python_project/MergingUriel/submodules/lang2vec/lang2vec/lang2vec.py:8: UserWarning: pkg_resources is deprecated as an API. See https://setuptools.pypa.io/en/latest/pkg_resources.html. The pkg_resources package is slated for removal as early as 2025-11-30. Refrain from using this package or pin to Setuptools<81.\n",
            "  import pkg_resources\n"
          ]
        }
      ],
      "source": [
        "from collections import OrderedDict\n",
        "from pathlib import Path\n",
        "\n",
        "import pandas as pd\n",
        "import plotly.express as px\n",
        "import torch\n",
        "from IPython.display import display\n",
        "\n",
        "from merginguriel.analysis_helpers import (\n",
        "    aggregate_parameter_stats,\n",
        "    collect_model_signals,\n",
        "    compute_weight_deltas,\n",
        "    ensure_text_samples,\n",
        "    load_model_artifacts,\n",
        "    merge_models_in_memory,\n",
        "    summarize_attentions,\n",
        "    summarize_hidden_states,\n",
        "    summarize_logits,\n",
        ")\n",
        "from merginguriel.run_merging_pipeline_refactored import MergeConfig\n",
        "\n",
        "pd.set_option(\"display.max_rows\", 200)\n",
        "pd.set_option(\"display.max_columns\", 50)"
      ]
    },
    {
      "cell_type": "markdown",
      "id": "9892a56f",
      "metadata": {},
      "source": [
        "## 1. Configure target & merge recipes\n",
        "\n",
        "Define the target locale, choose which base architecture to use, and list the merges to run on-the-fly. Adjust `MODEL_BASE_DIRS` if your checkpoints live elsewhere."
      ]
    },
    {
      "cell_type": "code",
      "execution_count": 2,
      "id": "1066b23d",
      "metadata": {},
      "outputs": [],
      "source": [
        "PROJECT_ROOT = Path.cwd().resolve().parent\n",
        "\n",
        "TARGET_LOCALE = \"en-US\"  # <-- change to the locale you want to inspect\n",
        "BASE_MODEL_NAME = \"xlm-roberta-base\"  # options: 'xlm-roberta-base', 'xlm-roberta-large'\n",
        "DEFAULT_NUM_LANGUAGES = 5\n",
        "\n",
        "MODEL_BASE_DIRS = {\n",
        "    \"xlm-roberta-base\": PROJECT_ROOT / \"haryos_model\",\n",
        "    \"xlm-roberta-large\": PROJECT_ROOT / \"haryos_model_large\",\n",
        "}\n",
        "\n",
        "BASE_DIR = MODEL_BASE_DIRS[BASE_MODEL_NAME]\n",
        "\n",
        "MODEL_SETUPS = OrderedDict({\n",
        "    \"baseline\": {\n",
        "        \"kind\": \"pretrained\",\n",
        "        \"path\": BASE_DIR / f\"{BASE_MODEL_NAME}_massive_k_{TARGET_LOCALE}\",\n",
        "        \"notes\": f\"{BASE_MODEL_NAME} baseline checkpoint\",\n",
        "    },\n",
        "    \"average_merge\": {\n",
        "        \"kind\": \"merge\",\n",
        "        \"config\": MergeConfig(\n",
        "            mode=\"average\",\n",
        "            target_lang=TARGET_LOCALE,\n",
        "            base_model=BASE_MODEL_NAME,\n",
        "            num_languages=DEFAULT_NUM_LANGUAGES,\n",
        "        ),\n",
        "        \"notes\": \"Equal-weight merge of top-K sources\",\n",
        "    },\n",
        "    \"similarity_merge\": {\n",
        "        \"kind\": \"merge\",\n",
        "        \"config\": MergeConfig(\n",
        "            mode=\"similarity\",\n",
        "            target_lang=TARGET_LOCALE,\n",
        "            base_model=BASE_MODEL_NAME,\n",
        "            num_languages=DEFAULT_NUM_LANGUAGES,\n",
        "            similarity_type=\"URIEL\",\n",
        "        ),\n",
        "        \"notes\": \"URIEL-weighted similarity merge\",\n",
        "    },\n",
        "    \"task_arithmetic\": {\n",
        "        \"kind\": \"merge\",\n",
        "        \"config\": MergeConfig(\n",
        "            mode=\"task_arithmetic\",\n",
        "            target_lang=TARGET_LOCALE,\n",
        "            base_model=BASE_MODEL_NAME,\n",
        "            num_languages=DEFAULT_NUM_LANGUAGES,\n",
        "        ),\n",
        "        \"notes\": \"Task arithmetic merge using similarity-selected sources\",\n",
        "    },\n",
        "    # \"fisher_dataset\": {\n",
        "    #     \"kind\": \"merge\",\n",
        "    #     \"config\": MergeConfig(\n",
        "    #         mode=\"fisher_dataset\",\n",
        "    #         target_lang=TARGET_LOCALE,\n",
        "    #         base_model=BASE_MODEL_NAME,\n",
        "    #         num_languages=DEFAULT_NUM_LANGUAGES,\n",
        "    #         dataset_name=\"AmazonScience/massive\",\n",
        "    #         dataset_split=\"train\",\n",
        "    #         text_column=\"utt\",\n",
        "    #         num_fisher_examples=500,\n",
        "    #         fisher_data_mode=\"target\",\n",
        "    #         preweight=\"uriel\",\n",
        "    #     ),\n",
        "    #     \"notes\": \"Fisher merge (requires cached dataset)\",\n",
        "    # },\n",
        "    \n",
        "})"
      ]
    },
    {
      "cell_type": "markdown",
      "id": "f743ebfe",
      "metadata": {},
      "source": [
        "## 2. Inspect available setups\n",
        "\n",
        "The table shows which baseline path will be used and the parameters for each merge recipe. Remove or edit rows as needed for your experiment."
      ]
    },
    {
      "cell_type": "code",
      "execution_count": 3,
      "id": "a71d28d7",
      "metadata": {},
      "outputs": [
        {
          "data": {
            "text/html": [
              "<div>\n",
              "<style scoped>\n",
              "    .dataframe tbody tr th:only-of-type {\n",
              "        vertical-align: middle;\n",
              "    }\n",
              "\n",
              "    .dataframe tbody tr th {\n",
              "        vertical-align: top;\n",
              "    }\n",
              "\n",
              "    .dataframe thead th {\n",
              "        text-align: right;\n",
              "    }\n",
              "</style>\n",
              "<table border=\"1\" class=\"dataframe\">\n",
              "  <thead>\n",
              "    <tr style=\"text-align: right;\">\n",
              "      <th></th>\n",
              "      <th>model</th>\n",
              "      <th>kind</th>\n",
              "      <th>notes</th>\n",
              "      <th>path</th>\n",
              "      <th>exists</th>\n",
              "      <th>mode</th>\n",
              "      <th>base_model</th>\n",
              "      <th>target_lang</th>\n",
              "      <th>num_languages</th>\n",
              "      <th>preweight</th>\n",
              "    </tr>\n",
              "  </thead>\n",
              "  <tbody>\n",
              "    <tr>\n",
              "      <th>0</th>\n",
              "      <td>baseline</td>\n",
              "      <td>pretrained</td>\n",
              "      <td>xlm-roberta-base baseline checkpoint</td>\n",
              "      <td>/home/coder/Python_project/MergingUriel/haryos...</td>\n",
              "      <td>True</td>\n",
              "      <td>NaN</td>\n",
              "      <td>NaN</td>\n",
              "      <td>NaN</td>\n",
              "      <td>NaN</td>\n",
              "      <td>NaN</td>\n",
              "    </tr>\n",
              "    <tr>\n",
              "      <th>1</th>\n",
              "      <td>average_merge</td>\n",
              "      <td>merge</td>\n",
              "      <td>Equal-weight merge of top-K sources</td>\n",
              "      <td>NaN</td>\n",
              "      <td>NaN</td>\n",
              "      <td>average</td>\n",
              "      <td>xlm-roberta-base</td>\n",
              "      <td>en-US</td>\n",
              "      <td>5.0</td>\n",
              "      <td>equal</td>\n",
              "    </tr>\n",
              "    <tr>\n",
              "      <th>2</th>\n",
              "      <td>similarity_merge</td>\n",
              "      <td>merge</td>\n",
              "      <td>URIEL-weighted similarity merge</td>\n",
              "      <td>NaN</td>\n",
              "      <td>NaN</td>\n",
              "      <td>similarity</td>\n",
              "      <td>xlm-roberta-base</td>\n",
              "      <td>en-US</td>\n",
              "      <td>5.0</td>\n",
              "      <td>equal</td>\n",
              "    </tr>\n",
              "    <tr>\n",
              "      <th>3</th>\n",
              "      <td>task_arithmetic</td>\n",
              "      <td>merge</td>\n",
              "      <td>Task arithmetic merge using similarity-selecte...</td>\n",
              "      <td>NaN</td>\n",
              "      <td>NaN</td>\n",
              "      <td>task_arithmetic</td>\n",
              "      <td>xlm-roberta-base</td>\n",
              "      <td>en-US</td>\n",
              "      <td>5.0</td>\n",
              "      <td>equal</td>\n",
              "    </tr>\n",
              "  </tbody>\n",
              "</table>\n",
              "</div>"
            ],
            "text/plain": [
              "              model        kind  \\\n",
              "0          baseline  pretrained   \n",
              "1     average_merge       merge   \n",
              "2  similarity_merge       merge   \n",
              "3   task_arithmetic       merge   \n",
              "\n",
              "                                               notes  \\\n",
              "0               xlm-roberta-base baseline checkpoint   \n",
              "1                Equal-weight merge of top-K sources   \n",
              "2                    URIEL-weighted similarity merge   \n",
              "3  Task arithmetic merge using similarity-selecte...   \n",
              "\n",
              "                                                path exists             mode  \\\n",
              "0  /home/coder/Python_project/MergingUriel/haryos...   True              NaN   \n",
              "1                                                NaN    NaN          average   \n",
              "2                                                NaN    NaN       similarity   \n",
              "3                                                NaN    NaN  task_arithmetic   \n",
              "\n",
              "         base_model target_lang  num_languages preweight  \n",
              "0               NaN         NaN            NaN       NaN  \n",
              "1  xlm-roberta-base       en-US            5.0     equal  \n",
              "2  xlm-roberta-base       en-US            5.0     equal  \n",
              "3  xlm-roberta-base       en-US            5.0     equal  "
            ]
          },
          "metadata": {},
          "output_type": "display_data"
        }
      ],
      "source": [
        "summary_rows = []\n",
        "for name, cfg in MODEL_SETUPS.items():\n",
        "    row = {\"model\": name, \"kind\": cfg[\"kind\"], \"notes\": cfg.get(\"notes\", \"\")}\n",
        "    if cfg[\"kind\"] == \"pretrained\":\n",
        "        path = cfg[\"path\"]\n",
        "        row[\"path\"] = str(path)\n",
        "        row[\"exists\"] = path.exists()\n",
        "    else:\n",
        "        conf = cfg[\"config\"]\n",
        "        row[\"mode\"] = conf.mode\n",
        "        row[\"base_model\"] = conf.base_model\n",
        "        row[\"target_lang\"] = conf.target_lang\n",
        "        row[\"num_languages\"] = conf.num_languages\n",
        "        row[\"preweight\"] = getattr(conf, \"preweight\", None)\n",
        "    summary_rows.append(row)\n",
        "\n",
        "display(pd.DataFrame(summary_rows))"
      ]
    },
    {
      "cell_type": "markdown",
      "id": "16c49b4f",
      "metadata": {},
      "source": [
        "## 3. Load baseline & run dynamic merges\n",
        "\n",
        "Each merge configuration is executed on demand (nothing is written to disk). Results are cached in-memory for the remainder of the session."
      ]
    },
    {
      "cell_type": "code",
      "execution_count": 4,
      "id": "97b4aed1",
      "metadata": {},
      "outputs": [
        {
          "name": "stderr",
          "output_type": "stream",
          "text": [
            "2025-10-29 07:38:21.710989: E external/local_xla/xla/stream_executor/cuda/cuda_fft.cc:467] Unable to register cuFFT factory: Attempting to register factory for plugin cuFFT when one has already been registered\n",
            "WARNING: All log messages before absl::InitializeLog() is called are written to STDERR\n",
            "E0000 00:00:1761723501.719620  855326 cuda_dnn.cc:8579] Unable to register cuDNN factory: Attempting to register factory for plugin cuDNN when one has already been registered\n",
            "E0000 00:00:1761723501.722554  855326 cuda_blas.cc:1407] Unable to register cuBLAS factory: Attempting to register factory for plugin cuBLAS when one has already been registered\n",
            "W0000 00:00:1761723501.732558  855326 computation_placer.cc:177] computation placer already registered. Please check linkage and avoid linking the same target more than once.\n",
            "W0000 00:00:1761723501.732567  855326 computation_placer.cc:177] computation placer already registered. Please check linkage and avoid linking the same target more than once.\n",
            "W0000 00:00:1761723501.732569  855326 computation_placer.cc:177] computation placer already registered. Please check linkage and avoid linking the same target more than once.\n",
            "W0000 00:00:1761723501.732570  855326 computation_placer.cc:177] computation placer already registered. Please check linkage and avoid linking the same target more than once.\n",
            "2025-10-29 07:38:21.736012: I tensorflow/core/platform/cpu_feature_guard.cc:210] This TensorFlow binary is optimized to use available CPU instructions in performance-critical operations.\n",
            "To enable the following instructions: AVX2 FMA, in other operations, rebuild TensorFlow with the appropriate compiler flags.\n"
          ]
        },
        {
          "name": "stdout",
          "output_type": "stream",
          "text": [
            "\n",
            "--- Setting Up Average (Equal) Weights for en-US ---\n",
            "\n",
            "--- Computing Similarity Weights for en-US ---\n",
            "Using URIEL similarity matrix with top-k + Sinkhorn normalization\n",
            "Loading similarity matrix from /home/coder/Python_project/MergingUriel/language_similarity_matrix_unified.csv\n",
            "Loaded similarity matrix with shape: (50, 50)\n",
            "Available languages: ['af-ZA', 'am-ET', 'ar-SA', 'az-AZ', 'bn-BD', 'ca-ES', 'cy-GB', 'da-DK', 'de-DE', 'el-GR', 'en-US', 'es-ES', 'fa-IR', 'fi-FI', 'fr-FR', 'hi-IN', 'hu-HU', 'hy-AM', 'id-ID', 'is-IS', 'it-IT', 'ja-JP', 'jv-ID', 'ka-GE', 'km-KH', 'kn-IN', 'ko-KR', 'lv-LV', 'ml-IN', 'mn-MN', 'ms-MY', 'my-MM', 'nb-NO', 'nl-NL', 'pl-PL', 'pt-PT', 'ro-RO', 'ru-RU', 'sl-SL', 'sq-AL', 'sw-KE', 'ta-IN', 'te-IN', 'th-TH', 'tl-PH', 'tr-TR', 'ur-PK', 'vi-VN', 'zh-TW', 'zh-TW']\n",
            "Processing similarity matrix for en-US\n",
            "Matrix shape: (50, 50)\n",
            "Applying top-k filtering (k=20)...\n",
            "Warning: The diagonal of the matrix does consist entirely of ones. We will make it to 0\n",
            "50\n",
            "Applying Sinkhorn normalization (20 iterations)...\n",
            "Generated processed matrix: (50, 50)\n",
            "Top 5 similar languages to en-US:\n",
            "  - id-ID: 0.174375\n",
            "  - af-ZA: 0.078983\n",
            "  - cy-GB: 0.055268\n",
            "  - nl-NL: 0.046932\n",
            "  - lv-LV: 0.045872\n",
            "  ✓ /home/coder/Python_project/MergingUriel/haryos_model/xlm-roberta-base_massive_k_id-ID: 0.174375 (locale: id-ID)\n",
            "  ✓ /home/coder/Python_project/MergingUriel/haryos_model/xlm-roberta-base_massive_k_af-ZA: 0.078983 (locale: af-ZA)\n",
            "  ✓ /home/coder/Python_project/MergingUriel/haryos_model/xlm-roberta-base_massive_k_cy-GB: 0.055268 (locale: cy-GB)\n",
            "  ✓ /home/coder/Python_project/MergingUriel/haryos_model/xlm-roberta-base_massive_k_nl-NL: 0.046932 (locale: nl-NL)\n",
            "  ✓ /home/coder/Python_project/MergingUriel/haryos_model/xlm-roberta-base_massive_k_lv-LV: 0.045872 (locale: lv-LV)\n",
            "Using equal weights for 5 models: 0.200000 each\n",
            "\n",
            "--- Performing Model Merge ---\n",
            "Base model: /home/coder/Python_project/MergingUriel/haryos_model/xlm-roberta-base_massive_k_id-ID\n",
            "Models to merge: ['/home/coder/Python_project/MergingUriel/haryos_model/xlm-roberta-base_massive_k_af-ZA', '/home/coder/Python_project/MergingUriel/haryos_model/xlm-roberta-base_massive_k_cy-GB', '/home/coder/Python_project/MergingUriel/haryos_model/xlm-roberta-base_massive_k_nl-NL', '/home/coder/Python_project/MergingUriel/haryos_model/xlm-roberta-base_massive_k_lv-LV']\n",
            "Weights: [0.2, 0.2, 0.2, 0.2]\n",
            "2025-10-29 07:38:26 - auto_merge_llm.tokenizer.build_tokenizer_embed - INFO - Vocab size of pretrained model is %d .\n",
            "2025-10-29 07:38:27 - auto_merge_llm.tokenizer.build_tokenizer_embed - INFO - Vocab size of index %d finetuned model is %d.\n",
            "2025-10-29 07:38:27 - auto_merge_llm.tokenizer.build_tokenizer_embed - INFO - Added pad tokens of index 0 finetuned model is [].\n",
            "2025-10-29 07:38:27 - auto_merge_llm.tokenizer.build_tokenizer_embed - INFO - Vocab size of index %d finetuned model is %d.\n",
            "2025-10-29 07:38:27 - auto_merge_llm.tokenizer.build_tokenizer_embed - INFO - Added pad tokens of index 1 finetuned model is [].\n",
            "2025-10-29 07:38:27 - auto_merge_llm.tokenizer.build_tokenizer_embed - INFO - Vocab size of index %d finetuned model is %d.\n",
            "2025-10-29 07:38:27 - auto_merge_llm.tokenizer.build_tokenizer_embed - INFO - Added pad tokens of index 2 finetuned model is [].\n",
            "2025-10-29 07:38:28 - auto_merge_llm.tokenizer.build_tokenizer_embed - INFO - Vocab size of index %d finetuned model is %d.\n",
            "2025-10-29 07:38:28 - auto_merge_llm.tokenizer.build_tokenizer_embed - INFO - Added pad tokens of index 3 finetuned model is [].\n",
            "2025-10-29 07:38:28 - auto_merge_llm.tokenizer.build_tokenizer_embed - INFO - All added pad tokens of finetuned models are set().\n",
            "2025-10-29 07:38:28 - auto_merge_llm.tokenizer.build_tokenizer_embed - INFO - Aligned index 0 model: input token embedding shape torch.Size([250002, 768]), output token embedding shape N/A, tokenizer added tokens [{'id': 0, 'content': '<s>', 'single_word': False, 'lstrip': False, 'rstrip': False, 'normalized': False, 'special': True}, {'id': 1, 'content': '<pad>', 'single_word': False, 'lstrip': False, 'rstrip': False, 'normalized': False, 'special': True}, {'id': 2, 'content': '</s>', 'single_word': False, 'lstrip': False, 'rstrip': False, 'normalized': False, 'special': True}, {'id': 3, 'content': '<unk>', 'single_word': False, 'lstrip': False, 'rstrip': False, 'normalized': False, 'special': True}, {'id': 250001, 'content': '<mask>', 'single_word': False, 'lstrip': True, 'rstrip': False, 'normalized': False, 'special': True}].\n",
            "2025-10-29 07:38:28 - auto_merge_llm.tokenizer.build_tokenizer_embed - INFO - Aligned index 1 model: input token embedding shape torch.Size([250002, 768]), output token embedding shape N/A, tokenizer added tokens [{'id': 0, 'content': '<s>', 'single_word': False, 'lstrip': False, 'rstrip': False, 'normalized': False, 'special': True}, {'id': 1, 'content': '<pad>', 'single_word': False, 'lstrip': False, 'rstrip': False, 'normalized': False, 'special': True}, {'id': 2, 'content': '</s>', 'single_word': False, 'lstrip': False, 'rstrip': False, 'normalized': False, 'special': True}, {'id': 3, 'content': '<unk>', 'single_word': False, 'lstrip': False, 'rstrip': False, 'normalized': False, 'special': True}, {'id': 250001, 'content': '<mask>', 'single_word': False, 'lstrip': True, 'rstrip': False, 'normalized': False, 'special': True}].\n",
            "2025-10-29 07:38:29 - auto_merge_llm.tokenizer.build_tokenizer_embed - INFO - Aligned index 2 model: input token embedding shape torch.Size([250002, 768]), output token embedding shape N/A, tokenizer added tokens [{'id': 0, 'content': '<s>', 'single_word': False, 'lstrip': False, 'rstrip': False, 'normalized': False, 'special': True}, {'id': 1, 'content': '<pad>', 'single_word': False, 'lstrip': False, 'rstrip': False, 'normalized': False, 'special': True}, {'id': 2, 'content': '</s>', 'single_word': False, 'lstrip': False, 'rstrip': False, 'normalized': False, 'special': True}, {'id': 3, 'content': '<unk>', 'single_word': False, 'lstrip': False, 'rstrip': False, 'normalized': False, 'special': True}, {'id': 250001, 'content': '<mask>', 'single_word': False, 'lstrip': True, 'rstrip': False, 'normalized': False, 'special': True}].\n",
            "2025-10-29 07:38:29 - auto_merge_llm.tokenizer.build_tokenizer_embed - INFO - Aligned index 3 model: input token embedding shape torch.Size([250002, 768]), output token embedding shape N/A, tokenizer added tokens [{'id': 0, 'content': '<s>', 'single_word': False, 'lstrip': False, 'rstrip': False, 'normalized': False, 'special': True}, {'id': 1, 'content': '<pad>', 'single_word': False, 'lstrip': False, 'rstrip': False, 'normalized': False, 'special': True}, {'id': 2, 'content': '</s>', 'single_word': False, 'lstrip': False, 'rstrip': False, 'normalized': False, 'special': True}, {'id': 3, 'content': '<unk>', 'single_word': False, 'lstrip': False, 'rstrip': False, 'normalized': False, 'special': True}, {'id': 250001, 'content': '<mask>', 'single_word': False, 'lstrip': True, 'rstrip': False, 'normalized': False, 'special': True}].\n",
            "2025-10-29 07:38:29 - auto_merge_llm.tokenizer.build_tokenizer_embed - INFO - Aligned index 4 model: input token embedding shape torch.Size([250002, 768]), output token embedding shape N/A, tokenizer added tokens [{'id': 0, 'content': '<s>', 'single_word': False, 'lstrip': False, 'rstrip': False, 'normalized': False, 'special': True}, {'id': 1, 'content': '<pad>', 'single_word': False, 'lstrip': False, 'rstrip': False, 'normalized': False, 'special': True}, {'id': 2, 'content': '</s>', 'single_word': False, 'lstrip': False, 'rstrip': False, 'normalized': False, 'special': True}, {'id': 3, 'content': '<unk>', 'single_word': False, 'lstrip': False, 'rstrip': False, 'normalized': False, 'special': True}, {'id': 250001, 'content': '<mask>', 'single_word': False, 'lstrip': True, 'rstrip': False, 'normalized': False, 'special': True}].\n",
            "2025-10-29 07:38:29 - auto_merge_llm.tokenizer.build_tokenizer_embed - INFO - Current aligned model vocab sizes: {torch.Size([250002, 768])}\n",
            "Merge successful!\n",
            "\n",
            "--- Computing Similarity Weights for en-US ---\n",
            "Using URIEL similarity matrix with top-k + Sinkhorn normalization\n",
            "Loading similarity matrix from /home/coder/Python_project/MergingUriel/language_similarity_matrix_unified.csv\n",
            "Loaded similarity matrix with shape: (50, 50)\n",
            "Available languages: ['af-ZA', 'am-ET', 'ar-SA', 'az-AZ', 'bn-BD', 'ca-ES', 'cy-GB', 'da-DK', 'de-DE', 'el-GR', 'en-US', 'es-ES', 'fa-IR', 'fi-FI', 'fr-FR', 'hi-IN', 'hu-HU', 'hy-AM', 'id-ID', 'is-IS', 'it-IT', 'ja-JP', 'jv-ID', 'ka-GE', 'km-KH', 'kn-IN', 'ko-KR', 'lv-LV', 'ml-IN', 'mn-MN', 'ms-MY', 'my-MM', 'nb-NO', 'nl-NL', 'pl-PL', 'pt-PT', 'ro-RO', 'ru-RU', 'sl-SL', 'sq-AL', 'sw-KE', 'ta-IN', 'te-IN', 'th-TH', 'tl-PH', 'tr-TR', 'ur-PK', 'vi-VN', 'zh-TW', 'zh-TW']\n",
            "Processing similarity matrix for en-US\n",
            "Matrix shape: (50, 50)\n",
            "Applying top-k filtering (k=20)...\n",
            "Warning: The diagonal of the matrix does consist entirely of ones. We will make it to 0\n",
            "50\n",
            "Applying Sinkhorn normalization (20 iterations)...\n",
            "Generated processed matrix: (50, 50)\n",
            "Top 5 similar languages to en-US:\n",
            "  - id-ID: 0.174375\n",
            "  - af-ZA: 0.078983\n",
            "  - cy-GB: 0.055268\n",
            "  - nl-NL: 0.046932\n",
            "  - lv-LV: 0.045872\n",
            "  ✓ /home/coder/Python_project/MergingUriel/haryos_model/xlm-roberta-base_massive_k_id-ID: 0.174375 (locale: id-ID)\n",
            "  ✓ /home/coder/Python_project/MergingUriel/haryos_model/xlm-roberta-base_massive_k_af-ZA: 0.078983 (locale: af-ZA)\n",
            "  ✓ /home/coder/Python_project/MergingUriel/haryos_model/xlm-roberta-base_massive_k_cy-GB: 0.055268 (locale: cy-GB)\n",
            "  ✓ /home/coder/Python_project/MergingUriel/haryos_model/xlm-roberta-base_massive_k_nl-NL: 0.046932 (locale: nl-NL)\n",
            "  ✓ /home/coder/Python_project/MergingUriel/haryos_model/xlm-roberta-base_massive_k_lv-LV: 0.045872 (locale: lv-LV)\n",
            "\n",
            "--- Performing Model Merge ---\n",
            "Base model: /home/coder/Python_project/MergingUriel/haryos_model/xlm-roberta-base_massive_k_id-ID\n",
            "Models to merge: ['/home/coder/Python_project/MergingUriel/haryos_model/xlm-roberta-base_massive_k_af-ZA', '/home/coder/Python_project/MergingUriel/haryos_model/xlm-roberta-base_massive_k_cy-GB', '/home/coder/Python_project/MergingUriel/haryos_model/xlm-roberta-base_massive_k_nl-NL', '/home/coder/Python_project/MergingUriel/haryos_model/xlm-roberta-base_massive_k_lv-LV']\n",
            "Weights: [0.19675452369972826, 0.13767767360058072, 0.1169111312743741, 0.11427049071483651]\n",
            "2025-10-29 07:38:33 - auto_merge_llm.tokenizer.build_tokenizer_embed - INFO - Vocab size of pretrained model is %d .\n",
            "2025-10-29 07:38:34 - auto_merge_llm.tokenizer.build_tokenizer_embed - INFO - Vocab size of index %d finetuned model is %d.\n",
            "2025-10-29 07:38:34 - auto_merge_llm.tokenizer.build_tokenizer_embed - INFO - Added pad tokens of index 0 finetuned model is [].\n",
            "2025-10-29 07:38:34 - auto_merge_llm.tokenizer.build_tokenizer_embed - INFO - Vocab size of index %d finetuned model is %d.\n",
            "2025-10-29 07:38:34 - auto_merge_llm.tokenizer.build_tokenizer_embed - INFO - Added pad tokens of index 1 finetuned model is [].\n",
            "2025-10-29 07:38:34 - auto_merge_llm.tokenizer.build_tokenizer_embed - INFO - Vocab size of index %d finetuned model is %d.\n",
            "2025-10-29 07:38:34 - auto_merge_llm.tokenizer.build_tokenizer_embed - INFO - Added pad tokens of index 2 finetuned model is [].\n",
            "2025-10-29 07:38:35 - auto_merge_llm.tokenizer.build_tokenizer_embed - INFO - Vocab size of index %d finetuned model is %d.\n",
            "2025-10-29 07:38:35 - auto_merge_llm.tokenizer.build_tokenizer_embed - INFO - Added pad tokens of index 3 finetuned model is [].\n",
            "2025-10-29 07:38:35 - auto_merge_llm.tokenizer.build_tokenizer_embed - INFO - All added pad tokens of finetuned models are set().\n",
            "2025-10-29 07:38:35 - auto_merge_llm.tokenizer.build_tokenizer_embed - INFO - Aligned index 0 model: input token embedding shape torch.Size([250002, 768]), output token embedding shape N/A, tokenizer added tokens [{'id': 0, 'content': '<s>', 'single_word': False, 'lstrip': False, 'rstrip': False, 'normalized': False, 'special': True}, {'id': 1, 'content': '<pad>', 'single_word': False, 'lstrip': False, 'rstrip': False, 'normalized': False, 'special': True}, {'id': 2, 'content': '</s>', 'single_word': False, 'lstrip': False, 'rstrip': False, 'normalized': False, 'special': True}, {'id': 3, 'content': '<unk>', 'single_word': False, 'lstrip': False, 'rstrip': False, 'normalized': False, 'special': True}, {'id': 250001, 'content': '<mask>', 'single_word': False, 'lstrip': True, 'rstrip': False, 'normalized': False, 'special': True}].\n",
            "2025-10-29 07:38:35 - auto_merge_llm.tokenizer.build_tokenizer_embed - INFO - Aligned index 1 model: input token embedding shape torch.Size([250002, 768]), output token embedding shape N/A, tokenizer added tokens [{'id': 0, 'content': '<s>', 'single_word': False, 'lstrip': False, 'rstrip': False, 'normalized': False, 'special': True}, {'id': 1, 'content': '<pad>', 'single_word': False, 'lstrip': False, 'rstrip': False, 'normalized': False, 'special': True}, {'id': 2, 'content': '</s>', 'single_word': False, 'lstrip': False, 'rstrip': False, 'normalized': False, 'special': True}, {'id': 3, 'content': '<unk>', 'single_word': False, 'lstrip': False, 'rstrip': False, 'normalized': False, 'special': True}, {'id': 250001, 'content': '<mask>', 'single_word': False, 'lstrip': True, 'rstrip': False, 'normalized': False, 'special': True}].\n",
            "2025-10-29 07:38:36 - auto_merge_llm.tokenizer.build_tokenizer_embed - INFO - Aligned index 2 model: input token embedding shape torch.Size([250002, 768]), output token embedding shape N/A, tokenizer added tokens [{'id': 0, 'content': '<s>', 'single_word': False, 'lstrip': False, 'rstrip': False, 'normalized': False, 'special': True}, {'id': 1, 'content': '<pad>', 'single_word': False, 'lstrip': False, 'rstrip': False, 'normalized': False, 'special': True}, {'id': 2, 'content': '</s>', 'single_word': False, 'lstrip': False, 'rstrip': False, 'normalized': False, 'special': True}, {'id': 3, 'content': '<unk>', 'single_word': False, 'lstrip': False, 'rstrip': False, 'normalized': False, 'special': True}, {'id': 250001, 'content': '<mask>', 'single_word': False, 'lstrip': True, 'rstrip': False, 'normalized': False, 'special': True}].\n",
            "2025-10-29 07:38:36 - auto_merge_llm.tokenizer.build_tokenizer_embed - INFO - Aligned index 3 model: input token embedding shape torch.Size([250002, 768]), output token embedding shape N/A, tokenizer added tokens [{'id': 0, 'content': '<s>', 'single_word': False, 'lstrip': False, 'rstrip': False, 'normalized': False, 'special': True}, {'id': 1, 'content': '<pad>', 'single_word': False, 'lstrip': False, 'rstrip': False, 'normalized': False, 'special': True}, {'id': 2, 'content': '</s>', 'single_word': False, 'lstrip': False, 'rstrip': False, 'normalized': False, 'special': True}, {'id': 3, 'content': '<unk>', 'single_word': False, 'lstrip': False, 'rstrip': False, 'normalized': False, 'special': True}, {'id': 250001, 'content': '<mask>', 'single_word': False, 'lstrip': True, 'rstrip': False, 'normalized': False, 'special': True}].\n",
            "2025-10-29 07:38:36 - auto_merge_llm.tokenizer.build_tokenizer_embed - INFO - Aligned index 4 model: input token embedding shape torch.Size([250002, 768]), output token embedding shape N/A, tokenizer added tokens [{'id': 0, 'content': '<s>', 'single_word': False, 'lstrip': False, 'rstrip': False, 'normalized': False, 'special': True}, {'id': 1, 'content': '<pad>', 'single_word': False, 'lstrip': False, 'rstrip': False, 'normalized': False, 'special': True}, {'id': 2, 'content': '</s>', 'single_word': False, 'lstrip': False, 'rstrip': False, 'normalized': False, 'special': True}, {'id': 3, 'content': '<unk>', 'single_word': False, 'lstrip': False, 'rstrip': False, 'normalized': False, 'special': True}, {'id': 250001, 'content': '<mask>', 'single_word': False, 'lstrip': True, 'rstrip': False, 'normalized': False, 'special': True}].\n",
            "2025-10-29 07:38:36 - auto_merge_llm.tokenizer.build_tokenizer_embed - INFO - Current aligned model vocab sizes: {torch.Size([250002, 768])}\n",
            "Merge successful!\n",
            "\n",
            "--- Computing Similarity Weights for en-US ---\n",
            "Using URIEL similarity matrix with top-k + Sinkhorn normalization\n",
            "Loading similarity matrix from /home/coder/Python_project/MergingUriel/language_similarity_matrix_unified.csv\n",
            "Loaded similarity matrix with shape: (50, 50)\n",
            "Available languages: ['af-ZA', 'am-ET', 'ar-SA', 'az-AZ', 'bn-BD', 'ca-ES', 'cy-GB', 'da-DK', 'de-DE', 'el-GR', 'en-US', 'es-ES', 'fa-IR', 'fi-FI', 'fr-FR', 'hi-IN', 'hu-HU', 'hy-AM', 'id-ID', 'is-IS', 'it-IT', 'ja-JP', 'jv-ID', 'ka-GE', 'km-KH', 'kn-IN', 'ko-KR', 'lv-LV', 'ml-IN', 'mn-MN', 'ms-MY', 'my-MM', 'nb-NO', 'nl-NL', 'pl-PL', 'pt-PT', 'ro-RO', 'ru-RU', 'sl-SL', 'sq-AL', 'sw-KE', 'ta-IN', 'te-IN', 'th-TH', 'tl-PH', 'tr-TR', 'ur-PK', 'vi-VN', 'zh-TW', 'zh-TW']\n",
            "Processing similarity matrix for en-US\n",
            "Matrix shape: (50, 50)\n",
            "Applying top-k filtering (k=20)...\n",
            "Warning: The diagonal of the matrix does consist entirely of ones. We will make it to 0\n",
            "50\n",
            "Applying Sinkhorn normalization (20 iterations)...\n",
            "Generated processed matrix: (50, 50)\n",
            "Top 5 similar languages to en-US:\n",
            "  - id-ID: 0.174375\n",
            "  - af-ZA: 0.078983\n",
            "  - cy-GB: 0.055268\n",
            "  - nl-NL: 0.046932\n",
            "  - lv-LV: 0.045872\n",
            "  ✓ /home/coder/Python_project/MergingUriel/haryos_model/xlm-roberta-base_massive_k_id-ID: 0.174375 (locale: id-ID)\n",
            "  ✓ /home/coder/Python_project/MergingUriel/haryos_model/xlm-roberta-base_massive_k_af-ZA: 0.078983 (locale: af-ZA)\n",
            "  ✓ /home/coder/Python_project/MergingUriel/haryos_model/xlm-roberta-base_massive_k_cy-GB: 0.055268 (locale: cy-GB)\n",
            "  ✓ /home/coder/Python_project/MergingUriel/haryos_model/xlm-roberta-base_massive_k_nl-NL: 0.046932 (locale: nl-NL)\n",
            "  ✓ /home/coder/Python_project/MergingUriel/haryos_model/xlm-roberta-base_massive_k_lv-LV: 0.045872 (locale: lv-LV)\n",
            "\n",
            "--- Performing Model Merge ---\n",
            "Base model: /home/coder/Python_project/MergingUriel/haryos_model/xlm-roberta-base_massive_k_id-ID\n",
            "Models to merge: ['/home/coder/Python_project/MergingUriel/haryos_model/xlm-roberta-base_massive_k_af-ZA', '/home/coder/Python_project/MergingUriel/haryos_model/xlm-roberta-base_massive_k_cy-GB', '/home/coder/Python_project/MergingUriel/haryos_model/xlm-roberta-base_massive_k_nl-NL', '/home/coder/Python_project/MergingUriel/haryos_model/xlm-roberta-base_massive_k_lv-LV']\n",
            "Weights: [0.19675452369972826, 0.13767767360058072, 0.1169111312743741, 0.11427049071483651]\n",
            "2025-10-29 07:38:40 - auto_merge_llm.tokenizer.build_tokenizer_embed - INFO - Vocab size of pretrained model is %d .\n",
            "2025-10-29 07:38:41 - auto_merge_llm.tokenizer.build_tokenizer_embed - INFO - Vocab size of index %d finetuned model is %d.\n",
            "2025-10-29 07:38:41 - auto_merge_llm.tokenizer.build_tokenizer_embed - INFO - Added pad tokens of index 0 finetuned model is [].\n",
            "2025-10-29 07:38:41 - auto_merge_llm.tokenizer.build_tokenizer_embed - INFO - Vocab size of index %d finetuned model is %d.\n",
            "2025-10-29 07:38:41 - auto_merge_llm.tokenizer.build_tokenizer_embed - INFO - Added pad tokens of index 1 finetuned model is [].\n",
            "2025-10-29 07:38:41 - auto_merge_llm.tokenizer.build_tokenizer_embed - INFO - Vocab size of index %d finetuned model is %d.\n",
            "2025-10-29 07:38:41 - auto_merge_llm.tokenizer.build_tokenizer_embed - INFO - Added pad tokens of index 2 finetuned model is [].\n",
            "2025-10-29 07:38:42 - auto_merge_llm.tokenizer.build_tokenizer_embed - INFO - Vocab size of index %d finetuned model is %d.\n",
            "2025-10-29 07:38:42 - auto_merge_llm.tokenizer.build_tokenizer_embed - INFO - Added pad tokens of index 3 finetuned model is [].\n",
            "2025-10-29 07:38:42 - auto_merge_llm.tokenizer.build_tokenizer_embed - INFO - All added pad tokens of finetuned models are set().\n",
            "2025-10-29 07:38:42 - auto_merge_llm.tokenizer.build_tokenizer_embed - INFO - Aligned index 0 model: input token embedding shape torch.Size([250002, 768]), output token embedding shape N/A, tokenizer added tokens [{'id': 0, 'content': '<s>', 'single_word': False, 'lstrip': False, 'rstrip': False, 'normalized': False, 'special': True}, {'id': 1, 'content': '<pad>', 'single_word': False, 'lstrip': False, 'rstrip': False, 'normalized': False, 'special': True}, {'id': 2, 'content': '</s>', 'single_word': False, 'lstrip': False, 'rstrip': False, 'normalized': False, 'special': True}, {'id': 3, 'content': '<unk>', 'single_word': False, 'lstrip': False, 'rstrip': False, 'normalized': False, 'special': True}, {'id': 250001, 'content': '<mask>', 'single_word': False, 'lstrip': True, 'rstrip': False, 'normalized': False, 'special': True}].\n",
            "2025-10-29 07:38:43 - auto_merge_llm.tokenizer.build_tokenizer_embed - INFO - Aligned index 1 model: input token embedding shape torch.Size([250002, 768]), output token embedding shape N/A, tokenizer added tokens [{'id': 0, 'content': '<s>', 'single_word': False, 'lstrip': False, 'rstrip': False, 'normalized': False, 'special': True}, {'id': 1, 'content': '<pad>', 'single_word': False, 'lstrip': False, 'rstrip': False, 'normalized': False, 'special': True}, {'id': 2, 'content': '</s>', 'single_word': False, 'lstrip': False, 'rstrip': False, 'normalized': False, 'special': True}, {'id': 3, 'content': '<unk>', 'single_word': False, 'lstrip': False, 'rstrip': False, 'normalized': False, 'special': True}, {'id': 250001, 'content': '<mask>', 'single_word': False, 'lstrip': True, 'rstrip': False, 'normalized': False, 'special': True}].\n",
            "2025-10-29 07:38:43 - auto_merge_llm.tokenizer.build_tokenizer_embed - INFO - Aligned index 2 model: input token embedding shape torch.Size([250002, 768]), output token embedding shape N/A, tokenizer added tokens [{'id': 0, 'content': '<s>', 'single_word': False, 'lstrip': False, 'rstrip': False, 'normalized': False, 'special': True}, {'id': 1, 'content': '<pad>', 'single_word': False, 'lstrip': False, 'rstrip': False, 'normalized': False, 'special': True}, {'id': 2, 'content': '</s>', 'single_word': False, 'lstrip': False, 'rstrip': False, 'normalized': False, 'special': True}, {'id': 3, 'content': '<unk>', 'single_word': False, 'lstrip': False, 'rstrip': False, 'normalized': False, 'special': True}, {'id': 250001, 'content': '<mask>', 'single_word': False, 'lstrip': True, 'rstrip': False, 'normalized': False, 'special': True}].\n",
            "2025-10-29 07:38:43 - auto_merge_llm.tokenizer.build_tokenizer_embed - INFO - Aligned index 3 model: input token embedding shape torch.Size([250002, 768]), output token embedding shape N/A, tokenizer added tokens [{'id': 0, 'content': '<s>', 'single_word': False, 'lstrip': False, 'rstrip': False, 'normalized': False, 'special': True}, {'id': 1, 'content': '<pad>', 'single_word': False, 'lstrip': False, 'rstrip': False, 'normalized': False, 'special': True}, {'id': 2, 'content': '</s>', 'single_word': False, 'lstrip': False, 'rstrip': False, 'normalized': False, 'special': True}, {'id': 3, 'content': '<unk>', 'single_word': False, 'lstrip': False, 'rstrip': False, 'normalized': False, 'special': True}, {'id': 250001, 'content': '<mask>', 'single_word': False, 'lstrip': True, 'rstrip': False, 'normalized': False, 'special': True}].\n",
            "2025-10-29 07:38:44 - auto_merge_llm.tokenizer.build_tokenizer_embed - INFO - Aligned index 4 model: input token embedding shape torch.Size([250002, 768]), output token embedding shape N/A, tokenizer added tokens [{'id': 0, 'content': '<s>', 'single_word': False, 'lstrip': False, 'rstrip': False, 'normalized': False, 'special': True}, {'id': 1, 'content': '<pad>', 'single_word': False, 'lstrip': False, 'rstrip': False, 'normalized': False, 'special': True}, {'id': 2, 'content': '</s>', 'single_word': False, 'lstrip': False, 'rstrip': False, 'normalized': False, 'special': True}, {'id': 3, 'content': '<unk>', 'single_word': False, 'lstrip': False, 'rstrip': False, 'normalized': False, 'special': True}, {'id': 250001, 'content': '<mask>', 'single_word': False, 'lstrip': True, 'rstrip': False, 'normalized': False, 'special': True}].\n",
            "2025-10-29 07:38:44 - auto_merge_llm.tokenizer.build_tokenizer_embed - INFO - Current aligned model vocab sizes: {torch.Size([250002, 768])}\n",
            "Merge successful!\n",
            "Prepared 4 models on cuda.\n",
            "Reference model: baseline\n"
          ]
        }
      ],
      "source": [
        "DEVICE = \"cuda\" if torch.cuda.is_available() else \"cpu\"\n",
        "artifacts = {}\n",
        "merge_metadata = {}\n",
        "\n",
        "for name, cfg in MODEL_SETUPS.items():\n",
        "    if cfg[\"kind\"] == \"pretrained\":\n",
        "        path = cfg[\"path\"]\n",
        "        if not path.exists():\n",
        "            print(f\"⚠️ Skipping {name}: checkpoint not found at {path}\")\n",
        "            continue\n",
        "        artifacts[name] = load_model_artifacts(path, device=DEVICE)\n",
        "    else:\n",
        "        artifact, meta = merge_models_in_memory(cfg[\"config\"], device=DEVICE)\n",
        "        artifacts[name] = artifact\n",
        "        merge_metadata[name] = meta\n",
        "\n",
        "print(f\"Prepared {len(artifacts)} models on {DEVICE}.\")\n",
        "REFERENCE_KEY = \"baseline\" if \"baseline\" in artifacts else next(iter(artifacts))\n",
        "print(f\"Reference model: {REFERENCE_KEY}\")"
      ]
    },
    {
      "cell_type": "code",
      "execution_count": 5,
      "id": "e52f88d3",
      "metadata": {},
      "outputs": [
        {
          "data": {
            "text/html": [
              "<div>\n",
              "<style scoped>\n",
              "    .dataframe tbody tr th:only-of-type {\n",
              "        vertical-align: middle;\n",
              "    }\n",
              "\n",
              "    .dataframe tbody tr th {\n",
              "        vertical-align: top;\n",
              "    }\n",
              "\n",
              "    .dataframe thead th {\n",
              "        text-align: right;\n",
              "    }\n",
              "</style>\n",
              "<table border=\"1\" class=\"dataframe\">\n",
              "  <thead>\n",
              "    <tr style=\"text-align: right;\">\n",
              "      <th></th>\n",
              "      <th>model</th>\n",
              "      <th>base_model_path</th>\n",
              "      <th>base_weight</th>\n",
              "      <th>sources</th>\n",
              "    </tr>\n",
              "  </thead>\n",
              "  <tbody>\n",
              "    <tr>\n",
              "      <th>0</th>\n",
              "      <td>average_merge</td>\n",
              "      <td>/home/coder/Python_project/MergingUriel/haryos...</td>\n",
              "      <td>0.200000</td>\n",
              "      <td>af-ZA:0.200, cy-GB:0.200, nl-NL:0.200, lv-LV:0...</td>\n",
              "    </tr>\n",
              "    <tr>\n",
              "      <th>1</th>\n",
              "      <td>similarity_merge</td>\n",
              "      <td>/home/coder/Python_project/MergingUriel/haryos...</td>\n",
              "      <td>0.434386</td>\n",
              "      <td>af-ZA:0.197, cy-GB:0.138, nl-NL:0.117, lv-LV:0...</td>\n",
              "    </tr>\n",
              "    <tr>\n",
              "      <th>2</th>\n",
              "      <td>task_arithmetic</td>\n",
              "      <td>/home/coder/Python_project/MergingUriel/haryos...</td>\n",
              "      <td>0.434386</td>\n",
              "      <td>af-ZA:0.197, cy-GB:0.138, nl-NL:0.117, lv-LV:0...</td>\n",
              "    </tr>\n",
              "  </tbody>\n",
              "</table>\n",
              "</div>"
            ],
            "text/plain": [
              "              model                                    base_model_path  \\\n",
              "0     average_merge  /home/coder/Python_project/MergingUriel/haryos...   \n",
              "1  similarity_merge  /home/coder/Python_project/MergingUriel/haryos...   \n",
              "2   task_arithmetic  /home/coder/Python_project/MergingUriel/haryos...   \n",
              "\n",
              "   base_weight                                            sources  \n",
              "0     0.200000  af-ZA:0.200, cy-GB:0.200, nl-NL:0.200, lv-LV:0...  \n",
              "1     0.434386  af-ZA:0.197, cy-GB:0.138, nl-NL:0.117, lv-LV:0...  \n",
              "2     0.434386  af-ZA:0.197, cy-GB:0.138, nl-NL:0.117, lv-LV:0...  "
            ]
          },
          "metadata": {},
          "output_type": "display_data"
        }
      ],
      "source": [
        "if merge_metadata:\n",
        "    meta_rows = []\n",
        "    for name, meta in merge_metadata.items():\n",
        "        sources = []\n",
        "        for path, info in meta[\"models_and_weights\"].items():\n",
        "            label = info.locale or Path(path).name\n",
        "            sources.append(f\"{label}:{info.weight:.3f}\")\n",
        "        meta_rows.append({\n",
        "            \"model\": name,\n",
        "            \"base_model_path\": meta[\"base_model\"].model_name,\n",
        "            \"base_weight\": getattr(meta[\"base_model\"], \"weight\", None),\n",
        "            \"sources\": \", \".join(sources),\n",
        "        })\n",
        "    display(pd.DataFrame(meta_rows))"
      ]
    },
    {
      "cell_type": "markdown",
      "id": "bcbde1b4",
      "metadata": {},
      "source": [
        "## 4. Parameter deltas\n",
        "\n",
        "Compare each merged model against the reference baseline to spot layers with large parameter shifts."
      ]
    },
    {
      "cell_type": "code",
      "execution_count": 6,
      "id": "dcd4c47d",
      "metadata": {},
      "outputs": [
        {
          "data": {
            "text/html": [
              "<div>\n",
              "<style scoped>\n",
              "    .dataframe tbody tr th:only-of-type {\n",
              "        vertical-align: middle;\n",
              "    }\n",
              "\n",
              "    .dataframe tbody tr th {\n",
              "        vertical-align: top;\n",
              "    }\n",
              "\n",
              "    .dataframe thead th {\n",
              "        text-align: right;\n",
              "    }\n",
              "</style>\n",
              "<table border=\"1\" class=\"dataframe\">\n",
              "  <thead>\n",
              "    <tr style=\"text-align: right;\">\n",
              "      <th></th>\n",
              "      <th>layer</th>\n",
              "      <th>delta_l2_sum</th>\n",
              "      <th>delta_l2_mean</th>\n",
              "      <th>delta_mean_abs</th>\n",
              "      <th>cosine_mean</th>\n",
              "      <th>reference_norm_mean</th>\n",
              "      <th>candidate_norm_mean</th>\n",
              "      <th>model</th>\n",
              "    </tr>\n",
              "  </thead>\n",
              "  <tbody>\n",
              "    <tr>\n",
              "      <th>0</th>\n",
              "      <td>classifier.dense</td>\n",
              "      <td>18.094710</td>\n",
              "      <td>9.047355</td>\n",
              "      <td>0.010231</td>\n",
              "      <td>-0.032312</td>\n",
              "      <td>8.098731</td>\n",
              "      <td>4.037319</td>\n",
              "      <td>average_merge</td>\n",
              "    </tr>\n",
              "    <tr>\n",
              "      <th>1</th>\n",
              "      <td>classifier.out_proj</td>\n",
              "      <td>5.645123</td>\n",
              "      <td>2.822561</td>\n",
              "      <td>0.010865</td>\n",
              "      <td>0.483696</td>\n",
              "      <td>2.548694</td>\n",
              "      <td>1.248459</td>\n",
              "      <td>average_merge</td>\n",
              "    </tr>\n",
              "    <tr>\n",
              "      <th>2</th>\n",
              "      <td>layer.0.attention.output</td>\n",
              "      <td>0.776435</td>\n",
              "      <td>0.194109</td>\n",
              "      <td>0.000576</td>\n",
              "      <td>0.999897</td>\n",
              "      <td>12.161875</td>\n",
              "      <td>12.161797</td>\n",
              "      <td>average_merge</td>\n",
              "    </tr>\n",
              "    <tr>\n",
              "      <th>3</th>\n",
              "      <td>layer.0.attention.self</td>\n",
              "      <td>2.313206</td>\n",
              "      <td>0.385534</td>\n",
              "      <td>0.000687</td>\n",
              "      <td>0.844184</td>\n",
              "      <td>37.602835</td>\n",
              "      <td>37.602498</td>\n",
              "      <td>average_merge</td>\n",
              "    </tr>\n",
              "    <tr>\n",
              "      <th>4</th>\n",
              "      <td>layer.0.intermediate.dense</td>\n",
              "      <td>1.700332</td>\n",
              "      <td>0.850166</td>\n",
              "      <td>0.000780</td>\n",
              "      <td>0.999920</td>\n",
              "      <td>54.536059</td>\n",
              "      <td>54.539402</td>\n",
              "      <td>average_merge</td>\n",
              "    </tr>\n",
              "    <tr>\n",
              "      <th>5</th>\n",
              "      <td>layer.0.output.LayerNorm</td>\n",
              "      <td>0.038129</td>\n",
              "      <td>0.019064</td>\n",
              "      <td>0.000546</td>\n",
              "      <td>0.999996</td>\n",
              "      <td>8.322152</td>\n",
              "      <td>8.323127</td>\n",
              "      <td>average_merge</td>\n",
              "    </tr>\n",
              "    <tr>\n",
              "      <th>6</th>\n",
              "      <td>layer.0.output.dense</td>\n",
              "      <td>1.429228</td>\n",
              "      <td>0.714614</td>\n",
              "      <td>0.000536</td>\n",
              "      <td>0.999880</td>\n",
              "      <td>36.395343</td>\n",
              "      <td>36.395838</td>\n",
              "      <td>average_merge</td>\n",
              "    </tr>\n",
              "    <tr>\n",
              "      <th>7</th>\n",
              "      <td>layer.1.attention.output</td>\n",
              "      <td>0.800842</td>\n",
              "      <td>0.200211</td>\n",
              "      <td>0.000577</td>\n",
              "      <td>0.999891</td>\n",
              "      <td>12.027871</td>\n",
              "      <td>12.027405</td>\n",
              "      <td>average_merge</td>\n",
              "    </tr>\n",
              "    <tr>\n",
              "      <th>8</th>\n",
              "      <td>layer.1.attention.self</td>\n",
              "      <td>2.417871</td>\n",
              "      <td>0.402978</td>\n",
              "      <td>0.000704</td>\n",
              "      <td>0.997117</td>\n",
              "      <td>29.436769</td>\n",
              "      <td>29.438573</td>\n",
              "      <td>average_merge</td>\n",
              "    </tr>\n",
              "    <tr>\n",
              "      <th>9</th>\n",
              "      <td>layer.1.intermediate.dense</td>\n",
              "      <td>1.738184</td>\n",
              "      <td>0.869092</td>\n",
              "      <td>0.000777</td>\n",
              "      <td>0.999909</td>\n",
              "      <td>53.000711</td>\n",
              "      <td>53.004850</td>\n",
              "      <td>average_merge</td>\n",
              "    </tr>\n",
              "    <tr>\n",
              "      <th>10</th>\n",
              "      <td>layer.1.output.LayerNorm</td>\n",
              "      <td>0.038327</td>\n",
              "      <td>0.019163</td>\n",
              "      <td>0.000553</td>\n",
              "      <td>0.999988</td>\n",
              "      <td>8.765038</td>\n",
              "      <td>8.766323</td>\n",
              "      <td>average_merge</td>\n",
              "    </tr>\n",
              "    <tr>\n",
              "      <th>11</th>\n",
              "      <td>layer.1.output.dense</td>\n",
              "      <td>1.429693</td>\n",
              "      <td>0.714846</td>\n",
              "      <td>0.000515</td>\n",
              "      <td>0.999875</td>\n",
              "      <td>34.930160</td>\n",
              "      <td>34.930387</td>\n",
              "      <td>average_merge</td>\n",
              "    </tr>\n",
              "    <tr>\n",
              "      <th>12</th>\n",
              "      <td>layer.10.attention.output</td>\n",
              "      <td>0.985191</td>\n",
              "      <td>0.246298</td>\n",
              "      <td>0.000608</td>\n",
              "      <td>0.999845</td>\n",
              "      <td>13.004857</td>\n",
              "      <td>13.004357</td>\n",
              "      <td>average_merge</td>\n",
              "    </tr>\n",
              "    <tr>\n",
              "      <th>13</th>\n",
              "      <td>layer.10.attention.self</td>\n",
              "      <td>3.059461</td>\n",
              "      <td>0.509910</td>\n",
              "      <td>0.000816</td>\n",
              "      <td>0.999763</td>\n",
              "      <td>24.521977</td>\n",
              "      <td>24.521053</td>\n",
              "      <td>average_merge</td>\n",
              "    </tr>\n",
              "    <tr>\n",
              "      <th>14</th>\n",
              "      <td>layer.10.intermediate.dense</td>\n",
              "      <td>2.100557</td>\n",
              "      <td>1.050279</td>\n",
              "      <td>0.000829</td>\n",
              "      <td>0.999782</td>\n",
              "      <td>39.070174</td>\n",
              "      <td>39.065527</td>\n",
              "      <td>average_merge</td>\n",
              "    </tr>\n",
              "    <tr>\n",
              "      <th>15</th>\n",
              "      <td>layer.10.output.LayerNorm</td>\n",
              "      <td>0.046430</td>\n",
              "      <td>0.023215</td>\n",
              "      <td>0.000666</td>\n",
              "      <td>0.999974</td>\n",
              "      <td>11.644231</td>\n",
              "      <td>11.648175</td>\n",
              "      <td>average_merge</td>\n",
              "    </tr>\n",
              "    <tr>\n",
              "      <th>16</th>\n",
              "      <td>layer.10.output.dense</td>\n",
              "      <td>1.291240</td>\n",
              "      <td>0.645620</td>\n",
              "      <td>0.000438</td>\n",
              "      <td>0.999913</td>\n",
              "      <td>36.868689</td>\n",
              "      <td>36.868821</td>\n",
              "      <td>average_merge</td>\n",
              "    </tr>\n",
              "    <tr>\n",
              "      <th>17</th>\n",
              "      <td>layer.11.attention.output</td>\n",
              "      <td>1.203697</td>\n",
              "      <td>0.300924</td>\n",
              "      <td>0.000704</td>\n",
              "      <td>0.999781</td>\n",
              "      <td>13.192336</td>\n",
              "      <td>13.193834</td>\n",
              "      <td>average_merge</td>\n",
              "    </tr>\n",
              "    <tr>\n",
              "      <th>18</th>\n",
              "      <td>layer.11.attention.self</td>\n",
              "      <td>3.308683</td>\n",
              "      <td>0.551447</td>\n",
              "      <td>0.000848</td>\n",
              "      <td>0.999630</td>\n",
              "      <td>26.511864</td>\n",
              "      <td>26.511494</td>\n",
              "      <td>average_merge</td>\n",
              "    </tr>\n",
              "    <tr>\n",
              "      <th>19</th>\n",
              "      <td>layer.11.intermediate.dense</td>\n",
              "      <td>3.305809</td>\n",
              "      <td>1.652905</td>\n",
              "      <td>0.001311</td>\n",
              "      <td>0.999402</td>\n",
              "      <td>37.426767</td>\n",
              "      <td>37.411233</td>\n",
              "      <td>average_merge</td>\n",
              "    </tr>\n",
              "    <tr>\n",
              "      <th>20</th>\n",
              "      <td>layer.11.output.LayerNorm</td>\n",
              "      <td>0.141123</td>\n",
              "      <td>0.070561</td>\n",
              "      <td>0.002069</td>\n",
              "      <td>0.999397</td>\n",
              "      <td>10.956625</td>\n",
              "      <td>10.929302</td>\n",
              "      <td>average_merge</td>\n",
              "    </tr>\n",
              "    <tr>\n",
              "      <th>21</th>\n",
              "      <td>layer.11.output.dense</td>\n",
              "      <td>4.570112</td>\n",
              "      <td>2.285056</td>\n",
              "      <td>0.001449</td>\n",
              "      <td>0.998405</td>\n",
              "      <td>29.668117</td>\n",
              "      <td>29.609160</td>\n",
              "      <td>average_merge</td>\n",
              "    </tr>\n",
              "    <tr>\n",
              "      <th>22</th>\n",
              "      <td>layer.2.attention.output</td>\n",
              "      <td>0.851083</td>\n",
              "      <td>0.212771</td>\n",
              "      <td>0.000575</td>\n",
              "      <td>0.999877</td>\n",
              "      <td>12.808661</td>\n",
              "      <td>12.807707</td>\n",
              "      <td>average_merge</td>\n",
              "    </tr>\n",
              "    <tr>\n",
              "      <th>23</th>\n",
              "      <td>layer.2.attention.self</td>\n",
              "      <td>2.557370</td>\n",
              "      <td>0.426228</td>\n",
              "      <td>0.000724</td>\n",
              "      <td>0.995127</td>\n",
              "      <td>25.723288</td>\n",
              "      <td>25.724217</td>\n",
              "      <td>average_merge</td>\n",
              "    </tr>\n",
              "    <tr>\n",
              "      <th>24</th>\n",
              "      <td>layer.2.intermediate.dense</td>\n",
              "      <td>1.777479</td>\n",
              "      <td>0.888740</td>\n",
              "      <td>0.000784</td>\n",
              "      <td>0.999904</td>\n",
              "      <td>51.440608</td>\n",
              "      <td>51.443506</td>\n",
              "      <td>average_merge</td>\n",
              "    </tr>\n",
              "    <tr>\n",
              "      <th>25</th>\n",
              "      <td>layer.2.output.LayerNorm</td>\n",
              "      <td>0.037729</td>\n",
              "      <td>0.018864</td>\n",
              "      <td>0.000540</td>\n",
              "      <td>0.999981</td>\n",
              "      <td>9.817126</td>\n",
              "      <td>9.818339</td>\n",
              "      <td>average_merge</td>\n",
              "    </tr>\n",
              "    <tr>\n",
              "      <th>26</th>\n",
              "      <td>layer.2.output.dense</td>\n",
              "      <td>1.484669</td>\n",
              "      <td>0.742334</td>\n",
              "      <td>0.000535</td>\n",
              "      <td>0.999897</td>\n",
              "      <td>38.634560</td>\n",
              "      <td>38.636521</td>\n",
              "      <td>average_merge</td>\n",
              "    </tr>\n",
              "    <tr>\n",
              "      <th>27</th>\n",
              "      <td>layer.3.attention.output</td>\n",
              "      <td>0.850938</td>\n",
              "      <td>0.212735</td>\n",
              "      <td>0.000577</td>\n",
              "      <td>0.999924</td>\n",
              "      <td>15.459465</td>\n",
              "      <td>15.459153</td>\n",
              "      <td>average_merge</td>\n",
              "    </tr>\n",
              "    <tr>\n",
              "      <th>28</th>\n",
              "      <td>layer.3.attention.self</td>\n",
              "      <td>2.643273</td>\n",
              "      <td>0.440546</td>\n",
              "      <td>0.000748</td>\n",
              "      <td>0.994792</td>\n",
              "      <td>24.484680</td>\n",
              "      <td>24.484366</td>\n",
              "      <td>average_merge</td>\n",
              "    </tr>\n",
              "    <tr>\n",
              "      <th>29</th>\n",
              "      <td>layer.3.intermediate.dense</td>\n",
              "      <td>1.833813</td>\n",
              "      <td>0.916907</td>\n",
              "      <td>0.000796</td>\n",
              "      <td>0.999911</td>\n",
              "      <td>54.823115</td>\n",
              "      <td>54.825094</td>\n",
              "      <td>average_merge</td>\n",
              "    </tr>\n",
              "    <tr>\n",
              "      <th>30</th>\n",
              "      <td>layer.3.output.LayerNorm</td>\n",
              "      <td>0.038898</td>\n",
              "      <td>0.019449</td>\n",
              "      <td>0.000557</td>\n",
              "      <td>0.999982</td>\n",
              "      <td>9.872187</td>\n",
              "      <td>9.873044</td>\n",
              "      <td>average_merge</td>\n",
              "    </tr>\n",
              "    <tr>\n",
              "      <th>31</th>\n",
              "      <td>layer.3.output.dense</td>\n",
              "      <td>1.463631</td>\n",
              "      <td>0.731815</td>\n",
              "      <td>0.000515</td>\n",
              "      <td>0.999922</td>\n",
              "      <td>43.776116</td>\n",
              "      <td>43.779238</td>\n",
              "      <td>average_merge</td>\n",
              "    </tr>\n",
              "    <tr>\n",
              "      <th>32</th>\n",
              "      <td>layer.4.attention.output</td>\n",
              "      <td>0.877204</td>\n",
              "      <td>0.219301</td>\n",
              "      <td>0.000599</td>\n",
              "      <td>0.999952</td>\n",
              "      <td>18.031139</td>\n",
              "      <td>18.031411</td>\n",
              "      <td>average_merge</td>\n",
              "    </tr>\n",
              "    <tr>\n",
              "      <th>33</th>\n",
              "      <td>layer.4.attention.self</td>\n",
              "      <td>2.746559</td>\n",
              "      <td>0.457760</td>\n",
              "      <td>0.000786</td>\n",
              "      <td>0.994692</td>\n",
              "      <td>25.955907</td>\n",
              "      <td>25.955504</td>\n",
              "      <td>average_merge</td>\n",
              "    </tr>\n",
              "    <tr>\n",
              "      <th>34</th>\n",
              "      <td>layer.4.intermediate.dense</td>\n",
              "      <td>1.847737</td>\n",
              "      <td>0.923869</td>\n",
              "      <td>0.000796</td>\n",
              "      <td>0.999924</td>\n",
              "      <td>59.378447</td>\n",
              "      <td>59.380054</td>\n",
              "      <td>average_merge</td>\n",
              "    </tr>\n",
              "    <tr>\n",
              "      <th>35</th>\n",
              "      <td>layer.4.output.LayerNorm</td>\n",
              "      <td>0.041314</td>\n",
              "      <td>0.020657</td>\n",
              "      <td>0.000590</td>\n",
              "      <td>0.999980</td>\n",
              "      <td>9.609065</td>\n",
              "      <td>9.610272</td>\n",
              "      <td>average_merge</td>\n",
              "    </tr>\n",
              "    <tr>\n",
              "      <th>36</th>\n",
              "      <td>layer.4.output.dense</td>\n",
              "      <td>1.497709</td>\n",
              "      <td>0.748855</td>\n",
              "      <td>0.000518</td>\n",
              "      <td>0.999929</td>\n",
              "      <td>46.735192</td>\n",
              "      <td>46.738408</td>\n",
              "      <td>average_merge</td>\n",
              "    </tr>\n",
              "    <tr>\n",
              "      <th>37</th>\n",
              "      <td>layer.5.attention.output</td>\n",
              "      <td>0.902234</td>\n",
              "      <td>0.225559</td>\n",
              "      <td>0.000606</td>\n",
              "      <td>0.999954</td>\n",
              "      <td>18.907371</td>\n",
              "      <td>18.908208</td>\n",
              "      <td>average_merge</td>\n",
              "    </tr>\n",
              "    <tr>\n",
              "      <th>38</th>\n",
              "      <td>layer.5.attention.self</td>\n",
              "      <td>2.847070</td>\n",
              "      <td>0.474512</td>\n",
              "      <td>0.000807</td>\n",
              "      <td>0.996109</td>\n",
              "      <td>24.810189</td>\n",
              "      <td>24.809655</td>\n",
              "      <td>average_merge</td>\n",
              "    </tr>\n",
              "    <tr>\n",
              "      <th>39</th>\n",
              "      <td>layer.5.intermediate.dense</td>\n",
              "      <td>1.907415</td>\n",
              "      <td>0.953707</td>\n",
              "      <td>0.000830</td>\n",
              "      <td>0.999916</td>\n",
              "      <td>58.073194</td>\n",
              "      <td>58.071901</td>\n",
              "      <td>average_merge</td>\n",
              "    </tr>\n",
              "    <tr>\n",
              "      <th>40</th>\n",
              "      <td>layer.5.output.LayerNorm</td>\n",
              "      <td>0.039743</td>\n",
              "      <td>0.019872</td>\n",
              "      <td>0.000571</td>\n",
              "      <td>0.999983</td>\n",
              "      <td>9.635786</td>\n",
              "      <td>9.636959</td>\n",
              "      <td>average_merge</td>\n",
              "    </tr>\n",
              "    <tr>\n",
              "      <th>41</th>\n",
              "      <td>layer.5.output.dense</td>\n",
              "      <td>1.571776</td>\n",
              "      <td>0.785888</td>\n",
              "      <td>0.000546</td>\n",
              "      <td>0.999915</td>\n",
              "      <td>44.843994</td>\n",
              "      <td>44.846058</td>\n",
              "      <td>average_merge</td>\n",
              "    </tr>\n",
              "    <tr>\n",
              "      <th>42</th>\n",
              "      <td>layer.6.attention.output</td>\n",
              "      <td>0.933626</td>\n",
              "      <td>0.233406</td>\n",
              "      <td>0.000620</td>\n",
              "      <td>0.999947</td>\n",
              "      <td>18.331963</td>\n",
              "      <td>18.332831</td>\n",
              "      <td>average_merge</td>\n",
              "    </tr>\n",
              "    <tr>\n",
              "      <th>43</th>\n",
              "      <td>layer.6.attention.self</td>\n",
              "      <td>2.912542</td>\n",
              "      <td>0.485424</td>\n",
              "      <td>0.000823</td>\n",
              "      <td>0.998568</td>\n",
              "      <td>25.880896</td>\n",
              "      <td>25.880609</td>\n",
              "      <td>average_merge</td>\n",
              "    </tr>\n",
              "    <tr>\n",
              "      <th>44</th>\n",
              "      <td>layer.6.intermediate.dense</td>\n",
              "      <td>1.963359</td>\n",
              "      <td>0.981679</td>\n",
              "      <td>0.000858</td>\n",
              "      <td>0.999906</td>\n",
              "      <td>56.284645</td>\n",
              "      <td>56.287794</td>\n",
              "      <td>average_merge</td>\n",
              "    </tr>\n",
              "    <tr>\n",
              "      <th>45</th>\n",
              "      <td>layer.6.output.LayerNorm</td>\n",
              "      <td>0.038968</td>\n",
              "      <td>0.019484</td>\n",
              "      <td>0.000557</td>\n",
              "      <td>0.999971</td>\n",
              "      <td>9.671165</td>\n",
              "      <td>9.672619</td>\n",
              "      <td>average_merge</td>\n",
              "    </tr>\n",
              "    <tr>\n",
              "      <th>46</th>\n",
              "      <td>layer.6.output.dense</td>\n",
              "      <td>1.543056</td>\n",
              "      <td>0.771528</td>\n",
              "      <td>0.000545</td>\n",
              "      <td>0.999917</td>\n",
              "      <td>44.568124</td>\n",
              "      <td>44.570444</td>\n",
              "      <td>average_merge</td>\n",
              "    </tr>\n",
              "    <tr>\n",
              "      <th>47</th>\n",
              "      <td>layer.7.attention.output</td>\n",
              "      <td>0.973548</td>\n",
              "      <td>0.243387</td>\n",
              "      <td>0.000615</td>\n",
              "      <td>0.999931</td>\n",
              "      <td>17.445147</td>\n",
              "      <td>17.445390</td>\n",
              "      <td>average_merge</td>\n",
              "    </tr>\n",
              "    <tr>\n",
              "      <th>48</th>\n",
              "      <td>layer.7.attention.self</td>\n",
              "      <td>3.055079</td>\n",
              "      <td>0.509180</td>\n",
              "      <td>0.000845</td>\n",
              "      <td>0.998905</td>\n",
              "      <td>25.217723</td>\n",
              "      <td>25.216942</td>\n",
              "      <td>average_merge</td>\n",
              "    </tr>\n",
              "    <tr>\n",
              "      <th>49</th>\n",
              "      <td>layer.7.intermediate.dense</td>\n",
              "      <td>2.017834</td>\n",
              "      <td>1.008917</td>\n",
              "      <td>0.000883</td>\n",
              "      <td>0.999895</td>\n",
              "      <td>54.408683</td>\n",
              "      <td>54.409927</td>\n",
              "      <td>average_merge</td>\n",
              "    </tr>\n",
              "    <tr>\n",
              "      <th>50</th>\n",
              "      <td>layer.7.output.LayerNorm</td>\n",
              "      <td>0.041649</td>\n",
              "      <td>0.020824</td>\n",
              "      <td>0.000591</td>\n",
              "      <td>0.999974</td>\n",
              "      <td>10.504112</td>\n",
              "      <td>10.505908</td>\n",
              "      <td>average_merge</td>\n",
              "    </tr>\n",
              "    <tr>\n",
              "      <th>51</th>\n",
              "      <td>layer.7.output.dense</td>\n",
              "      <td>1.561295</td>\n",
              "      <td>0.780647</td>\n",
              "      <td>0.000566</td>\n",
              "      <td>0.999908</td>\n",
              "      <td>43.075283</td>\n",
              "      <td>43.077841</td>\n",
              "      <td>average_merge</td>\n",
              "    </tr>\n",
              "    <tr>\n",
              "      <th>52</th>\n",
              "      <td>layer.8.attention.output</td>\n",
              "      <td>0.963383</td>\n",
              "      <td>0.240846</td>\n",
              "      <td>0.000639</td>\n",
              "      <td>0.999940</td>\n",
              "      <td>17.843105</td>\n",
              "      <td>17.844079</td>\n",
              "      <td>average_merge</td>\n",
              "    </tr>\n",
              "    <tr>\n",
              "      <th>53</th>\n",
              "      <td>layer.8.attention.self</td>\n",
              "      <td>3.035841</td>\n",
              "      <td>0.505974</td>\n",
              "      <td>0.000846</td>\n",
              "      <td>0.999632</td>\n",
              "      <td>25.529699</td>\n",
              "      <td>25.528622</td>\n",
              "      <td>average_merge</td>\n",
              "    </tr>\n",
              "    <tr>\n",
              "      <th>54</th>\n",
              "      <td>layer.8.intermediate.dense</td>\n",
              "      <td>2.037608</td>\n",
              "      <td>1.018804</td>\n",
              "      <td>0.000883</td>\n",
              "      <td>0.999886</td>\n",
              "      <td>52.738822</td>\n",
              "      <td>52.739223</td>\n",
              "      <td>average_merge</td>\n",
              "    </tr>\n",
              "    <tr>\n",
              "      <th>55</th>\n",
              "      <td>layer.8.output.LayerNorm</td>\n",
              "      <td>0.042901</td>\n",
              "      <td>0.021451</td>\n",
              "      <td>0.000603</td>\n",
              "      <td>0.999975</td>\n",
              "      <td>10.565726</td>\n",
              "      <td>10.568621</td>\n",
              "      <td>average_merge</td>\n",
              "    </tr>\n",
              "    <tr>\n",
              "      <th>56</th>\n",
              "      <td>layer.8.output.dense</td>\n",
              "      <td>1.485545</td>\n",
              "      <td>0.742773</td>\n",
              "      <td>0.000533</td>\n",
              "      <td>0.999918</td>\n",
              "      <td>43.472621</td>\n",
              "      <td>43.474746</td>\n",
              "      <td>average_merge</td>\n",
              "    </tr>\n",
              "    <tr>\n",
              "      <th>57</th>\n",
              "      <td>layer.9.attention.output</td>\n",
              "      <td>1.021931</td>\n",
              "      <td>0.255483</td>\n",
              "      <td>0.000674</td>\n",
              "      <td>0.999897</td>\n",
              "      <td>15.522193</td>\n",
              "      <td>15.521748</td>\n",
              "      <td>average_merge</td>\n",
              "    </tr>\n",
              "    <tr>\n",
              "      <th>58</th>\n",
              "      <td>layer.9.attention.self</td>\n",
              "      <td>3.049160</td>\n",
              "      <td>0.508193</td>\n",
              "      <td>0.000820</td>\n",
              "      <td>0.999658</td>\n",
              "      <td>25.297015</td>\n",
              "      <td>25.296546</td>\n",
              "      <td>average_merge</td>\n",
              "    </tr>\n",
              "    <tr>\n",
              "      <th>59</th>\n",
              "      <td>layer.9.intermediate.dense</td>\n",
              "      <td>2.050145</td>\n",
              "      <td>1.025072</td>\n",
              "      <td>0.000859</td>\n",
              "      <td>0.999862</td>\n",
              "      <td>48.232589</td>\n",
              "      <td>48.229968</td>\n",
              "      <td>average_merge</td>\n",
              "    </tr>\n",
              "    <tr>\n",
              "      <th>60</th>\n",
              "      <td>layer.9.output.LayerNorm</td>\n",
              "      <td>0.044859</td>\n",
              "      <td>0.022430</td>\n",
              "      <td>0.000644</td>\n",
              "      <td>0.999979</td>\n",
              "      <td>11.296820</td>\n",
              "      <td>11.297903</td>\n",
              "      <td>average_merge</td>\n",
              "    </tr>\n",
              "    <tr>\n",
              "      <th>61</th>\n",
              "      <td>layer.9.output.dense</td>\n",
              "      <td>1.408855</td>\n",
              "      <td>0.704428</td>\n",
              "      <td>0.000489</td>\n",
              "      <td>0.999922</td>\n",
              "      <td>42.289001</td>\n",
              "      <td>42.291578</td>\n",
              "      <td>average_merge</td>\n",
              "    </tr>\n",
              "    <tr>\n",
              "      <th>62</th>\n",
              "      <td>roberta.embeddings.LayerNorm</td>\n",
              "      <td>0.039387</td>\n",
              "      <td>0.019694</td>\n",
              "      <td>0.000569</td>\n",
              "      <td>0.999994</td>\n",
              "      <td>5.906239</td>\n",
              "      <td>5.905854</td>\n",
              "      <td>average_merge</td>\n",
              "    </tr>\n",
              "    <tr>\n",
              "      <th>63</th>\n",
              "      <td>roberta.embeddings.position_embeddings</td>\n",
              "      <td>0.210853</td>\n",
              "      <td>0.210853</td>\n",
              "      <td>0.000097</td>\n",
              "      <td>0.999993</td>\n",
              "      <td>55.531799</td>\n",
              "      <td>55.540306</td>\n",
              "      <td>average_merge</td>\n",
              "    </tr>\n",
              "    <tr>\n",
              "      <th>64</th>\n",
              "      <td>roberta.embeddings.token_type_embeddings</td>\n",
              "      <td>0.014624</td>\n",
              "      <td>0.014624</td>\n",
              "      <td>0.000421</td>\n",
              "      <td>0.715580</td>\n",
              "      <td>0.018727</td>\n",
              "      <td>0.019938</td>\n",
              "      <td>average_merge</td>\n",
              "    </tr>\n",
              "    <tr>\n",
              "      <th>65</th>\n",
              "      <td>roberta.embeddings.word_embeddings</td>\n",
              "      <td>1.906054</td>\n",
              "      <td>1.906054</td>\n",
              "      <td>0.000046</td>\n",
              "      <td>1.000000</td>\n",
              "      <td>2939.887207</td>\n",
              "      <td>2940.348389</td>\n",
              "      <td>average_merge</td>\n",
              "    </tr>\n",
              "    <tr>\n",
              "      <th>66</th>\n",
              "      <td>classifier.dense</td>\n",
              "      <td>18.196286</td>\n",
              "      <td>9.098143</td>\n",
              "      <td>0.010287</td>\n",
              "      <td>-0.029557</td>\n",
              "      <td>8.098731</td>\n",
              "      <td>4.151975</td>\n",
              "      <td>similarity_merge</td>\n",
              "    </tr>\n",
              "    <tr>\n",
              "      <th>67</th>\n",
              "      <td>classifier.out_proj</td>\n",
              "      <td>5.682666</td>\n",
              "      <td>2.841333</td>\n",
              "      <td>0.010934</td>\n",
              "      <td>0.483307</td>\n",
              "      <td>2.548694</td>\n",
              "      <td>1.288420</td>\n",
              "      <td>similarity_merge</td>\n",
              "    </tr>\n",
              "    <tr>\n",
              "      <th>68</th>\n",
              "      <td>layer.0.attention.output</td>\n",
              "      <td>0.782449</td>\n",
              "      <td>0.195612</td>\n",
              "      <td>0.000578</td>\n",
              "      <td>0.999895</td>\n",
              "      <td>12.161875</td>\n",
              "      <td>12.161656</td>\n",
              "      <td>similarity_merge</td>\n",
              "    </tr>\n",
              "    <tr>\n",
              "      <th>69</th>\n",
              "      <td>layer.0.attention.self</td>\n",
              "      <td>2.330801</td>\n",
              "      <td>0.388467</td>\n",
              "      <td>0.000690</td>\n",
              "      <td>0.843392</td>\n",
              "      <td>37.602835</td>\n",
              "      <td>37.601889</td>\n",
              "      <td>similarity_merge</td>\n",
              "    </tr>\n",
              "    <tr>\n",
              "      <th>70</th>\n",
              "      <td>layer.0.intermediate.dense</td>\n",
              "      <td>1.713942</td>\n",
              "      <td>0.856971</td>\n",
              "      <td>0.000786</td>\n",
              "      <td>0.999919</td>\n",
              "      <td>54.536059</td>\n",
              "      <td>54.538089</td>\n",
              "      <td>similarity_merge</td>\n",
              "    </tr>\n",
              "    <tr>\n",
              "      <th>71</th>\n",
              "      <td>layer.0.output.LayerNorm</td>\n",
              "      <td>0.038537</td>\n",
              "      <td>0.019268</td>\n",
              "      <td>0.000550</td>\n",
              "      <td>0.999996</td>\n",
              "      <td>8.322152</td>\n",
              "      <td>8.322843</td>\n",
              "      <td>similarity_merge</td>\n",
              "    </tr>\n",
              "    <tr>\n",
              "      <th>72</th>\n",
              "      <td>layer.0.output.dense</td>\n",
              "      <td>1.440872</td>\n",
              "      <td>0.720436</td>\n",
              "      <td>0.000539</td>\n",
              "      <td>0.999878</td>\n",
              "      <td>36.395343</td>\n",
              "      <td>36.394824</td>\n",
              "      <td>similarity_merge</td>\n",
              "    </tr>\n",
              "    <tr>\n",
              "      <th>73</th>\n",
              "      <td>layer.1.attention.output</td>\n",
              "      <td>0.807472</td>\n",
              "      <td>0.201868</td>\n",
              "      <td>0.000580</td>\n",
              "      <td>0.999889</td>\n",
              "      <td>12.027871</td>\n",
              "      <td>12.027091</td>\n",
              "      <td>similarity_merge</td>\n",
              "    </tr>\n",
              "    <tr>\n",
              "      <th>74</th>\n",
              "      <td>layer.1.attention.self</td>\n",
              "      <td>2.438705</td>\n",
              "      <td>0.406451</td>\n",
              "      <td>0.000707</td>\n",
              "      <td>0.997082</td>\n",
              "      <td>29.436769</td>\n",
              "      <td>29.437843</td>\n",
              "      <td>similarity_merge</td>\n",
              "    </tr>\n",
              "    <tr>\n",
              "      <th>75</th>\n",
              "      <td>layer.1.intermediate.dense</td>\n",
              "      <td>1.752757</td>\n",
              "      <td>0.876379</td>\n",
              "      <td>0.000784</td>\n",
              "      <td>0.999908</td>\n",
              "      <td>53.000711</td>\n",
              "      <td>53.003625</td>\n",
              "      <td>similarity_merge</td>\n",
              "    </tr>\n",
              "    <tr>\n",
              "      <th>76</th>\n",
              "      <td>layer.1.output.LayerNorm</td>\n",
              "      <td>0.038369</td>\n",
              "      <td>0.019185</td>\n",
              "      <td>0.000555</td>\n",
              "      <td>0.999988</td>\n",
              "      <td>8.765038</td>\n",
              "      <td>8.765960</td>\n",
              "      <td>similarity_merge</td>\n",
              "    </tr>\n",
              "    <tr>\n",
              "      <th>77</th>\n",
              "      <td>layer.1.output.dense</td>\n",
              "      <td>1.438131</td>\n",
              "      <td>0.719065</td>\n",
              "      <td>0.000515</td>\n",
              "      <td>0.999874</td>\n",
              "      <td>34.930160</td>\n",
              "      <td>34.929590</td>\n",
              "      <td>similarity_merge</td>\n",
              "    </tr>\n",
              "    <tr>\n",
              "      <th>78</th>\n",
              "      <td>layer.10.attention.output</td>\n",
              "      <td>0.985748</td>\n",
              "      <td>0.246437</td>\n",
              "      <td>0.000607</td>\n",
              "      <td>0.999845</td>\n",
              "      <td>13.004857</td>\n",
              "      <td>13.003808</td>\n",
              "      <td>similarity_merge</td>\n",
              "    </tr>\n",
              "    <tr>\n",
              "      <th>79</th>\n",
              "      <td>layer.10.attention.self</td>\n",
              "      <td>3.077434</td>\n",
              "      <td>0.512906</td>\n",
              "      <td>0.000822</td>\n",
              "      <td>0.999761</td>\n",
              "      <td>24.521977</td>\n",
              "      <td>24.520521</td>\n",
              "      <td>similarity_merge</td>\n",
              "    </tr>\n",
              "    <tr>\n",
              "      <th>80</th>\n",
              "      <td>layer.10.intermediate.dense</td>\n",
              "      <td>2.107847</td>\n",
              "      <td>1.053923</td>\n",
              "      <td>0.000833</td>\n",
              "      <td>0.999781</td>\n",
              "      <td>39.070174</td>\n",
              "      <td>39.064419</td>\n",
              "      <td>similarity_merge</td>\n",
              "    </tr>\n",
              "    <tr>\n",
              "      <th>81</th>\n",
              "      <td>layer.10.output.LayerNorm</td>\n",
              "      <td>0.045809</td>\n",
              "      <td>0.022905</td>\n",
              "      <td>0.000654</td>\n",
              "      <td>0.999974</td>\n",
              "      <td>11.644231</td>\n",
              "      <td>11.647250</td>\n",
              "      <td>similarity_merge</td>\n",
              "    </tr>\n",
              "    <tr>\n",
              "      <th>82</th>\n",
              "      <td>layer.10.output.dense</td>\n",
              "      <td>1.293995</td>\n",
              "      <td>0.646998</td>\n",
              "      <td>0.000441</td>\n",
              "      <td>0.999913</td>\n",
              "      <td>36.868689</td>\n",
              "      <td>36.867981</td>\n",
              "      <td>similarity_merge</td>\n",
              "    </tr>\n",
              "    <tr>\n",
              "      <th>83</th>\n",
              "      <td>layer.11.attention.output</td>\n",
              "      <td>1.205105</td>\n",
              "      <td>0.301276</td>\n",
              "      <td>0.000703</td>\n",
              "      <td>0.999780</td>\n",
              "      <td>13.192336</td>\n",
              "      <td>13.192908</td>\n",
              "      <td>similarity_merge</td>\n",
              "    </tr>\n",
              "    <tr>\n",
              "      <th>84</th>\n",
              "      <td>layer.11.attention.self</td>\n",
              "      <td>3.329726</td>\n",
              "      <td>0.554954</td>\n",
              "      <td>0.000856</td>\n",
              "      <td>0.999628</td>\n",
              "      <td>26.511864</td>\n",
              "      <td>26.511209</td>\n",
              "      <td>similarity_merge</td>\n",
              "    </tr>\n",
              "    <tr>\n",
              "      <th>85</th>\n",
              "      <td>layer.11.intermediate.dense</td>\n",
              "      <td>3.316494</td>\n",
              "      <td>1.658247</td>\n",
              "      <td>0.001309</td>\n",
              "      <td>0.999399</td>\n",
              "      <td>37.426767</td>\n",
              "      <td>37.410239</td>\n",
              "      <td>similarity_merge</td>\n",
              "    </tr>\n",
              "    <tr>\n",
              "      <th>86</th>\n",
              "      <td>layer.11.output.LayerNorm</td>\n",
              "      <td>0.136529</td>\n",
              "      <td>0.068264</td>\n",
              "      <td>0.001994</td>\n",
              "      <td>0.999385</td>\n",
              "      <td>10.956625</td>\n",
              "      <td>10.934212</td>\n",
              "      <td>similarity_merge</td>\n",
              "    </tr>\n",
              "    <tr>\n",
              "      <th>87</th>\n",
              "      <td>layer.11.output.dense</td>\n",
              "      <td>4.597619</td>\n",
              "      <td>2.298809</td>\n",
              "      <td>0.001458</td>\n",
              "      <td>0.998386</td>\n",
              "      <td>29.668117</td>\n",
              "      <td>29.609917</td>\n",
              "      <td>similarity_merge</td>\n",
              "    </tr>\n",
              "    <tr>\n",
              "      <th>88</th>\n",
              "      <td>layer.2.attention.output</td>\n",
              "      <td>0.856505</td>\n",
              "      <td>0.214126</td>\n",
              "      <td>0.000577</td>\n",
              "      <td>0.999876</td>\n",
              "      <td>12.808661</td>\n",
              "      <td>12.807554</td>\n",
              "      <td>similarity_merge</td>\n",
              "    </tr>\n",
              "    <tr>\n",
              "      <th>89</th>\n",
              "      <td>layer.2.attention.self</td>\n",
              "      <td>2.578110</td>\n",
              "      <td>0.429685</td>\n",
              "      <td>0.000729</td>\n",
              "      <td>0.994943</td>\n",
              "      <td>25.723288</td>\n",
              "      <td>25.723528</td>\n",
              "      <td>similarity_merge</td>\n",
              "    </tr>\n",
              "    <tr>\n",
              "      <th>90</th>\n",
              "      <td>layer.2.intermediate.dense</td>\n",
              "      <td>1.789462</td>\n",
              "      <td>0.894731</td>\n",
              "      <td>0.000789</td>\n",
              "      <td>0.999903</td>\n",
              "      <td>51.440608</td>\n",
              "      <td>51.442288</td>\n",
              "      <td>similarity_merge</td>\n",
              "    </tr>\n",
              "    <tr>\n",
              "      <th>91</th>\n",
              "      <td>layer.2.output.LayerNorm</td>\n",
              "      <td>0.037645</td>\n",
              "      <td>0.018822</td>\n",
              "      <td>0.000540</td>\n",
              "      <td>0.999981</td>\n",
              "      <td>9.817126</td>\n",
              "      <td>9.818042</td>\n",
              "      <td>similarity_merge</td>\n",
              "    </tr>\n",
              "    <tr>\n",
              "      <th>92</th>\n",
              "      <td>layer.2.output.dense</td>\n",
              "      <td>1.494799</td>\n",
              "      <td>0.747399</td>\n",
              "      <td>0.000536</td>\n",
              "      <td>0.999896</td>\n",
              "      <td>38.634560</td>\n",
              "      <td>38.635647</td>\n",
              "      <td>similarity_merge</td>\n",
              "    </tr>\n",
              "    <tr>\n",
              "      <th>93</th>\n",
              "      <td>layer.3.attention.output</td>\n",
              "      <td>0.855852</td>\n",
              "      <td>0.213963</td>\n",
              "      <td>0.000578</td>\n",
              "      <td>0.999924</td>\n",
              "      <td>15.459465</td>\n",
              "      <td>15.458798</td>\n",
              "      <td>similarity_merge</td>\n",
              "    </tr>\n",
              "    <tr>\n",
              "      <th>94</th>\n",
              "      <td>layer.3.attention.self</td>\n",
              "      <td>2.665032</td>\n",
              "      <td>0.444172</td>\n",
              "      <td>0.000755</td>\n",
              "      <td>0.994598</td>\n",
              "      <td>24.484680</td>\n",
              "      <td>24.483703</td>\n",
              "      <td>similarity_merge</td>\n",
              "    </tr>\n",
              "    <tr>\n",
              "      <th>95</th>\n",
              "      <td>layer.3.intermediate.dense</td>\n",
              "      <td>1.846711</td>\n",
              "      <td>0.923355</td>\n",
              "      <td>0.000801</td>\n",
              "      <td>0.999910</td>\n",
              "      <td>54.823115</td>\n",
              "      <td>54.823509</td>\n",
              "      <td>similarity_merge</td>\n",
              "    </tr>\n",
              "    <tr>\n",
              "      <th>96</th>\n",
              "      <td>layer.3.output.LayerNorm</td>\n",
              "      <td>0.039170</td>\n",
              "      <td>0.019585</td>\n",
              "      <td>0.000564</td>\n",
              "      <td>0.999981</td>\n",
              "      <td>9.872187</td>\n",
              "      <td>9.872771</td>\n",
              "      <td>similarity_merge</td>\n",
              "    </tr>\n",
              "    <tr>\n",
              "      <th>97</th>\n",
              "      <td>layer.3.output.dense</td>\n",
              "      <td>1.475569</td>\n",
              "      <td>0.737785</td>\n",
              "      <td>0.000520</td>\n",
              "      <td>0.999921</td>\n",
              "      <td>43.776116</td>\n",
              "      <td>43.778204</td>\n",
              "      <td>similarity_merge</td>\n",
              "    </tr>\n",
              "    <tr>\n",
              "      <th>98</th>\n",
              "      <td>layer.4.attention.output</td>\n",
              "      <td>0.882979</td>\n",
              "      <td>0.220745</td>\n",
              "      <td>0.000605</td>\n",
              "      <td>0.999951</td>\n",
              "      <td>18.031139</td>\n",
              "      <td>18.030900</td>\n",
              "      <td>similarity_merge</td>\n",
              "    </tr>\n",
              "    <tr>\n",
              "      <th>99</th>\n",
              "      <td>layer.4.attention.self</td>\n",
              "      <td>2.767990</td>\n",
              "      <td>0.461332</td>\n",
              "      <td>0.000795</td>\n",
              "      <td>0.994464</td>\n",
              "      <td>25.955907</td>\n",
              "      <td>25.954933</td>\n",
              "      <td>similarity_merge</td>\n",
              "    </tr>\n",
              "    <tr>\n",
              "      <th>100</th>\n",
              "      <td>layer.4.intermediate.dense</td>\n",
              "      <td>1.862044</td>\n",
              "      <td>0.931022</td>\n",
              "      <td>0.000802</td>\n",
              "      <td>0.999922</td>\n",
              "      <td>59.378447</td>\n",
              "      <td>59.378406</td>\n",
              "      <td>similarity_merge</td>\n",
              "    </tr>\n",
              "    <tr>\n",
              "      <th>101</th>\n",
              "      <td>layer.4.output.LayerNorm</td>\n",
              "      <td>0.041363</td>\n",
              "      <td>0.020681</td>\n",
              "      <td>0.000592</td>\n",
              "      <td>0.999980</td>\n",
              "      <td>9.609065</td>\n",
              "      <td>9.610085</td>\n",
              "      <td>similarity_merge</td>\n",
              "    </tr>\n",
              "    <tr>\n",
              "      <th>102</th>\n",
              "      <td>layer.4.output.dense</td>\n",
              "      <td>1.510246</td>\n",
              "      <td>0.755123</td>\n",
              "      <td>0.000522</td>\n",
              "      <td>0.999928</td>\n",
              "      <td>46.735192</td>\n",
              "      <td>46.737379</td>\n",
              "      <td>similarity_merge</td>\n",
              "    </tr>\n",
              "    <tr>\n",
              "      <th>103</th>\n",
              "      <td>layer.5.attention.output</td>\n",
              "      <td>0.908403</td>\n",
              "      <td>0.227101</td>\n",
              "      <td>0.000608</td>\n",
              "      <td>0.999954</td>\n",
              "      <td>18.907371</td>\n",
              "      <td>18.907669</td>\n",
              "      <td>similarity_merge</td>\n",
              "    </tr>\n",
              "    <tr>\n",
              "      <th>104</th>\n",
              "      <td>layer.5.attention.self</td>\n",
              "      <td>2.869583</td>\n",
              "      <td>0.478264</td>\n",
              "      <td>0.000812</td>\n",
              "      <td>0.996007</td>\n",
              "      <td>24.810189</td>\n",
              "      <td>24.809087</td>\n",
              "      <td>similarity_merge</td>\n",
              "    </tr>\n",
              "    <tr>\n",
              "      <th>105</th>\n",
              "      <td>layer.5.intermediate.dense</td>\n",
              "      <td>1.920854</td>\n",
              "      <td>0.960427</td>\n",
              "      <td>0.000836</td>\n",
              "      <td>0.999915</td>\n",
              "      <td>58.073194</td>\n",
              "      <td>58.070867</td>\n",
              "      <td>similarity_merge</td>\n",
              "    </tr>\n",
              "    <tr>\n",
              "      <th>106</th>\n",
              "      <td>layer.5.output.LayerNorm</td>\n",
              "      <td>0.039733</td>\n",
              "      <td>0.019867</td>\n",
              "      <td>0.000570</td>\n",
              "      <td>0.999983</td>\n",
              "      <td>9.635786</td>\n",
              "      <td>9.636804</td>\n",
              "      <td>similarity_merge</td>\n",
              "    </tr>\n",
              "    <tr>\n",
              "      <th>107</th>\n",
              "      <td>layer.5.output.dense</td>\n",
              "      <td>1.583389</td>\n",
              "      <td>0.791695</td>\n",
              "      <td>0.000550</td>\n",
              "      <td>0.999914</td>\n",
              "      <td>44.843994</td>\n",
              "      <td>44.844906</td>\n",
              "      <td>similarity_merge</td>\n",
              "    </tr>\n",
              "    <tr>\n",
              "      <th>108</th>\n",
              "      <td>layer.6.attention.output</td>\n",
              "      <td>0.940021</td>\n",
              "      <td>0.235005</td>\n",
              "      <td>0.000619</td>\n",
              "      <td>0.999946</td>\n",
              "      <td>18.331963</td>\n",
              "      <td>18.332534</td>\n",
              "      <td>similarity_merge</td>\n",
              "    </tr>\n",
              "    <tr>\n",
              "      <th>109</th>\n",
              "      <td>layer.6.attention.self</td>\n",
              "      <td>2.934942</td>\n",
              "      <td>0.489157</td>\n",
              "      <td>0.000830</td>\n",
              "      <td>0.998508</td>\n",
              "      <td>25.880896</td>\n",
              "      <td>25.880118</td>\n",
              "      <td>similarity_merge</td>\n",
              "    </tr>\n",
              "    <tr>\n",
              "      <th>110</th>\n",
              "      <td>layer.6.intermediate.dense</td>\n",
              "      <td>1.977666</td>\n",
              "      <td>0.988833</td>\n",
              "      <td>0.000864</td>\n",
              "      <td>0.999904</td>\n",
              "      <td>56.284645</td>\n",
              "      <td>56.286454</td>\n",
              "      <td>similarity_merge</td>\n",
              "    </tr>\n",
              "    <tr>\n",
              "      <th>111</th>\n",
              "      <td>layer.6.output.LayerNorm</td>\n",
              "      <td>0.039322</td>\n",
              "      <td>0.019661</td>\n",
              "      <td>0.000562</td>\n",
              "      <td>0.999969</td>\n",
              "      <td>9.671165</td>\n",
              "      <td>9.672366</td>\n",
              "      <td>similarity_merge</td>\n",
              "    </tr>\n",
              "    <tr>\n",
              "      <th>112</th>\n",
              "      <td>layer.6.output.dense</td>\n",
              "      <td>1.553666</td>\n",
              "      <td>0.776833</td>\n",
              "      <td>0.000550</td>\n",
              "      <td>0.999916</td>\n",
              "      <td>44.568124</td>\n",
              "      <td>44.569435</td>\n",
              "      <td>similarity_merge</td>\n",
              "    </tr>\n",
              "    <tr>\n",
              "      <th>113</th>\n",
              "      <td>layer.7.attention.output</td>\n",
              "      <td>0.979589</td>\n",
              "      <td>0.244897</td>\n",
              "      <td>0.000620</td>\n",
              "      <td>0.999930</td>\n",
              "      <td>17.445147</td>\n",
              "      <td>17.444912</td>\n",
              "      <td>similarity_merge</td>\n",
              "    </tr>\n",
              "    <tr>\n",
              "      <th>114</th>\n",
              "      <td>layer.7.attention.self</td>\n",
              "      <td>3.078318</td>\n",
              "      <td>0.513053</td>\n",
              "      <td>0.000854</td>\n",
              "      <td>0.998852</td>\n",
              "      <td>25.217723</td>\n",
              "      <td>25.216407</td>\n",
              "      <td>similarity_merge</td>\n",
              "    </tr>\n",
              "    <tr>\n",
              "      <th>115</th>\n",
              "      <td>layer.7.intermediate.dense</td>\n",
              "      <td>2.032121</td>\n",
              "      <td>1.016060</td>\n",
              "      <td>0.000888</td>\n",
              "      <td>0.999893</td>\n",
              "      <td>54.408683</td>\n",
              "      <td>54.408560</td>\n",
              "      <td>similarity_merge</td>\n",
              "    </tr>\n",
              "    <tr>\n",
              "      <th>116</th>\n",
              "      <td>layer.7.output.LayerNorm</td>\n",
              "      <td>0.041405</td>\n",
              "      <td>0.020702</td>\n",
              "      <td>0.000589</td>\n",
              "      <td>0.999974</td>\n",
              "      <td>10.504112</td>\n",
              "      <td>10.505560</td>\n",
              "      <td>similarity_merge</td>\n",
              "    </tr>\n",
              "    <tr>\n",
              "      <th>117</th>\n",
              "      <td>layer.7.output.dense</td>\n",
              "      <td>1.570885</td>\n",
              "      <td>0.785442</td>\n",
              "      <td>0.000569</td>\n",
              "      <td>0.999906</td>\n",
              "      <td>43.075283</td>\n",
              "      <td>43.076827</td>\n",
              "      <td>similarity_merge</td>\n",
              "    </tr>\n",
              "    <tr>\n",
              "      <th>118</th>\n",
              "      <td>layer.8.attention.output</td>\n",
              "      <td>0.968341</td>\n",
              "      <td>0.242085</td>\n",
              "      <td>0.000643</td>\n",
              "      <td>0.999939</td>\n",
              "      <td>17.843105</td>\n",
              "      <td>17.843591</td>\n",
              "      <td>similarity_merge</td>\n",
              "    </tr>\n",
              "    <tr>\n",
              "      <th>119</th>\n",
              "      <td>layer.8.attention.self</td>\n",
              "      <td>3.051280</td>\n",
              "      <td>0.508547</td>\n",
              "      <td>0.000851</td>\n",
              "      <td>0.999620</td>\n",
              "      <td>25.529699</td>\n",
              "      <td>25.528122</td>\n",
              "      <td>similarity_merge</td>\n",
              "    </tr>\n",
              "    <tr>\n",
              "      <th>120</th>\n",
              "      <td>layer.8.intermediate.dense</td>\n",
              "      <td>2.054284</td>\n",
              "      <td>1.027142</td>\n",
              "      <td>0.000889</td>\n",
              "      <td>0.999884</td>\n",
              "      <td>52.738822</td>\n",
              "      <td>52.738123</td>\n",
              "      <td>similarity_merge</td>\n",
              "    </tr>\n",
              "    <tr>\n",
              "      <th>121</th>\n",
              "      <td>layer.8.output.LayerNorm</td>\n",
              "      <td>0.042718</td>\n",
              "      <td>0.021359</td>\n",
              "      <td>0.000603</td>\n",
              "      <td>0.999976</td>\n",
              "      <td>10.565726</td>\n",
              "      <td>10.568186</td>\n",
              "      <td>similarity_merge</td>\n",
              "    </tr>\n",
              "    <tr>\n",
              "      <th>122</th>\n",
              "      <td>layer.8.output.dense</td>\n",
              "      <td>1.498233</td>\n",
              "      <td>0.749116</td>\n",
              "      <td>0.000538</td>\n",
              "      <td>0.999916</td>\n",
              "      <td>43.472621</td>\n",
              "      <td>43.473682</td>\n",
              "      <td>similarity_merge</td>\n",
              "    </tr>\n",
              "    <tr>\n",
              "      <th>123</th>\n",
              "      <td>layer.9.attention.output</td>\n",
              "      <td>1.025573</td>\n",
              "      <td>0.256393</td>\n",
              "      <td>0.000671</td>\n",
              "      <td>0.999896</td>\n",
              "      <td>15.522193</td>\n",
              "      <td>15.521337</td>\n",
              "      <td>similarity_merge</td>\n",
              "    </tr>\n",
              "    <tr>\n",
              "      <th>124</th>\n",
              "      <td>layer.9.attention.self</td>\n",
              "      <td>3.073082</td>\n",
              "      <td>0.512180</td>\n",
              "      <td>0.000826</td>\n",
              "      <td>0.999654</td>\n",
              "      <td>25.297015</td>\n",
              "      <td>25.295982</td>\n",
              "      <td>similarity_merge</td>\n",
              "    </tr>\n",
              "    <tr>\n",
              "      <th>125</th>\n",
              "      <td>layer.9.intermediate.dense</td>\n",
              "      <td>2.062436</td>\n",
              "      <td>1.031218</td>\n",
              "      <td>0.000863</td>\n",
              "      <td>0.999861</td>\n",
              "      <td>48.232589</td>\n",
              "      <td>48.229204</td>\n",
              "      <td>similarity_merge</td>\n",
              "    </tr>\n",
              "    <tr>\n",
              "      <th>126</th>\n",
              "      <td>layer.9.output.LayerNorm</td>\n",
              "      <td>0.044390</td>\n",
              "      <td>0.022195</td>\n",
              "      <td>0.000637</td>\n",
              "      <td>0.999980</td>\n",
              "      <td>11.296820</td>\n",
              "      <td>11.297518</td>\n",
              "      <td>similarity_merge</td>\n",
              "    </tr>\n",
              "    <tr>\n",
              "      <th>127</th>\n",
              "      <td>layer.9.output.dense</td>\n",
              "      <td>1.417836</td>\n",
              "      <td>0.708918</td>\n",
              "      <td>0.000492</td>\n",
              "      <td>0.999921</td>\n",
              "      <td>42.289001</td>\n",
              "      <td>42.290261</td>\n",
              "      <td>similarity_merge</td>\n",
              "    </tr>\n",
              "    <tr>\n",
              "      <th>128</th>\n",
              "      <td>roberta.embeddings.LayerNorm</td>\n",
              "      <td>0.039486</td>\n",
              "      <td>0.019743</td>\n",
              "      <td>0.000571</td>\n",
              "      <td>0.999994</td>\n",
              "      <td>5.906239</td>\n",
              "      <td>5.905925</td>\n",
              "      <td>similarity_merge</td>\n",
              "    </tr>\n",
              "    <tr>\n",
              "      <th>129</th>\n",
              "      <td>roberta.embeddings.position_embeddings</td>\n",
              "      <td>0.212518</td>\n",
              "      <td>0.212518</td>\n",
              "      <td>0.000096</td>\n",
              "      <td>0.999993</td>\n",
              "      <td>55.531799</td>\n",
              "      <td>55.538597</td>\n",
              "      <td>similarity_merge</td>\n",
              "    </tr>\n",
              "    <tr>\n",
              "      <th>130</th>\n",
              "      <td>roberta.embeddings.token_type_embeddings</td>\n",
              "      <td>0.014507</td>\n",
              "      <td>0.014507</td>\n",
              "      <td>0.000418</td>\n",
              "      <td>0.716544</td>\n",
              "      <td>0.018727</td>\n",
              "      <td>0.019729</td>\n",
              "      <td>similarity_merge</td>\n",
              "    </tr>\n",
              "    <tr>\n",
              "      <th>131</th>\n",
              "      <td>roberta.embeddings.word_embeddings</td>\n",
              "      <td>1.894006</td>\n",
              "      <td>1.894006</td>\n",
              "      <td>0.000041</td>\n",
              "      <td>1.000000</td>\n",
              "      <td>2939.887207</td>\n",
              "      <td>2940.259521</td>\n",
              "      <td>similarity_merge</td>\n",
              "    </tr>\n",
              "    <tr>\n",
              "      <th>132</th>\n",
              "      <td>classifier.dense</td>\n",
              "      <td>18.237510</td>\n",
              "      <td>9.118755</td>\n",
              "      <td>0.010294</td>\n",
              "      <td>-0.001829</td>\n",
              "      <td>8.098731</td>\n",
              "      <td>4.195220</td>\n",
              "      <td>task_arithmetic</td>\n",
              "    </tr>\n",
              "    <tr>\n",
              "      <th>133</th>\n",
              "      <td>classifier.out_proj</td>\n",
              "      <td>5.706554</td>\n",
              "      <td>2.853277</td>\n",
              "      <td>0.010951</td>\n",
              "      <td>0.485457</td>\n",
              "      <td>2.548694</td>\n",
              "      <td>1.317486</td>\n",
              "      <td>task_arithmetic</td>\n",
              "    </tr>\n",
              "    <tr>\n",
              "      <th>134</th>\n",
              "      <td>layer.0.attention.output</td>\n",
              "      <td>0.791441</td>\n",
              "      <td>0.197860</td>\n",
              "      <td>0.000582</td>\n",
              "      <td>0.999893</td>\n",
              "      <td>12.161875</td>\n",
              "      <td>12.161568</td>\n",
              "      <td>task_arithmetic</td>\n",
              "    </tr>\n",
              "    <tr>\n",
              "      <th>135</th>\n",
              "      <td>layer.0.attention.self</td>\n",
              "      <td>2.364397</td>\n",
              "      <td>0.394066</td>\n",
              "      <td>0.000700</td>\n",
              "      <td>0.839836</td>\n",
              "      <td>37.602835</td>\n",
              "      <td>37.601567</td>\n",
              "      <td>task_arithmetic</td>\n",
              "    </tr>\n",
              "    <tr>\n",
              "      <th>136</th>\n",
              "      <td>layer.0.intermediate.dense</td>\n",
              "      <td>1.724361</td>\n",
              "      <td>0.862180</td>\n",
              "      <td>0.000782</td>\n",
              "      <td>0.999918</td>\n",
              "      <td>54.536059</td>\n",
              "      <td>54.537278</td>\n",
              "      <td>task_arithmetic</td>\n",
              "    </tr>\n",
              "    <tr>\n",
              "      <th>137</th>\n",
              "      <td>layer.0.output.LayerNorm</td>\n",
              "      <td>0.038726</td>\n",
              "      <td>0.019363</td>\n",
              "      <td>0.000551</td>\n",
              "      <td>0.999996</td>\n",
              "      <td>8.322152</td>\n",
              "      <td>8.322480</td>\n",
              "      <td>task_arithmetic</td>\n",
              "    </tr>\n",
              "    <tr>\n",
              "      <th>138</th>\n",
              "      <td>layer.0.output.dense</td>\n",
              "      <td>1.455525</td>\n",
              "      <td>0.727762</td>\n",
              "      <td>0.000536</td>\n",
              "      <td>0.999878</td>\n",
              "      <td>36.395343</td>\n",
              "      <td>36.394212</td>\n",
              "      <td>task_arithmetic</td>\n",
              "    </tr>\n",
              "    <tr>\n",
              "      <th>139</th>\n",
              "      <td>layer.1.attention.output</td>\n",
              "      <td>0.821573</td>\n",
              "      <td>0.205393</td>\n",
              "      <td>0.000589</td>\n",
              "      <td>0.999886</td>\n",
              "      <td>12.027871</td>\n",
              "      <td>12.027411</td>\n",
              "      <td>task_arithmetic</td>\n",
              "    </tr>\n",
              "    <tr>\n",
              "      <th>140</th>\n",
              "      <td>layer.1.attention.self</td>\n",
              "      <td>2.482480</td>\n",
              "      <td>0.413747</td>\n",
              "      <td>0.000703</td>\n",
              "      <td>0.997260</td>\n",
              "      <td>29.436769</td>\n",
              "      <td>29.437075</td>\n",
              "      <td>task_arithmetic</td>\n",
              "    </tr>\n",
              "    <tr>\n",
              "      <th>141</th>\n",
              "      <td>layer.1.intermediate.dense</td>\n",
              "      <td>1.762626</td>\n",
              "      <td>0.881313</td>\n",
              "      <td>0.000788</td>\n",
              "      <td>0.999907</td>\n",
              "      <td>53.000711</td>\n",
              "      <td>53.003226</td>\n",
              "      <td>task_arithmetic</td>\n",
              "    </tr>\n",
              "    <tr>\n",
              "      <th>142</th>\n",
              "      <td>layer.1.output.LayerNorm</td>\n",
              "      <td>0.039024</td>\n",
              "      <td>0.019512</td>\n",
              "      <td>0.000561</td>\n",
              "      <td>0.999987</td>\n",
              "      <td>8.765038</td>\n",
              "      <td>8.765960</td>\n",
              "      <td>task_arithmetic</td>\n",
              "    </tr>\n",
              "    <tr>\n",
              "      <th>143</th>\n",
              "      <td>layer.1.output.dense</td>\n",
              "      <td>1.459652</td>\n",
              "      <td>0.729826</td>\n",
              "      <td>0.000527</td>\n",
              "      <td>0.999869</td>\n",
              "      <td>34.930160</td>\n",
              "      <td>34.928864</td>\n",
              "      <td>task_arithmetic</td>\n",
              "    </tr>\n",
              "    <tr>\n",
              "      <th>144</th>\n",
              "      <td>layer.10.attention.output</td>\n",
              "      <td>0.981057</td>\n",
              "      <td>0.245264</td>\n",
              "      <td>0.000597</td>\n",
              "      <td>0.999846</td>\n",
              "      <td>13.004857</td>\n",
              "      <td>13.003580</td>\n",
              "      <td>task_arithmetic</td>\n",
              "    </tr>\n",
              "    <tr>\n",
              "      <th>145</th>\n",
              "      <td>layer.10.attention.self</td>\n",
              "      <td>3.082301</td>\n",
              "      <td>0.513717</td>\n",
              "      <td>0.000821</td>\n",
              "      <td>0.999756</td>\n",
              "      <td>24.521977</td>\n",
              "      <td>24.519723</td>\n",
              "      <td>task_arithmetic</td>\n",
              "    </tr>\n",
              "    <tr>\n",
              "      <th>146</th>\n",
              "      <td>layer.10.intermediate.dense</td>\n",
              "      <td>2.094219</td>\n",
              "      <td>1.047110</td>\n",
              "      <td>0.000813</td>\n",
              "      <td>0.999785</td>\n",
              "      <td>39.070174</td>\n",
              "      <td>39.064350</td>\n",
              "      <td>task_arithmetic</td>\n",
              "    </tr>\n",
              "    <tr>\n",
              "      <th>147</th>\n",
              "      <td>layer.10.output.LayerNorm</td>\n",
              "      <td>0.044702</td>\n",
              "      <td>0.022351</td>\n",
              "      <td>0.000629</td>\n",
              "      <td>0.999975</td>\n",
              "      <td>11.644231</td>\n",
              "      <td>11.646269</td>\n",
              "      <td>task_arithmetic</td>\n",
              "    </tr>\n",
              "    <tr>\n",
              "      <th>148</th>\n",
              "      <td>layer.10.output.dense</td>\n",
              "      <td>1.289989</td>\n",
              "      <td>0.644995</td>\n",
              "      <td>0.000441</td>\n",
              "      <td>0.999913</td>\n",
              "      <td>36.868689</td>\n",
              "      <td>36.867849</td>\n",
              "      <td>task_arithmetic</td>\n",
              "    </tr>\n",
              "    <tr>\n",
              "      <th>149</th>\n",
              "      <td>layer.11.attention.output</td>\n",
              "      <td>1.201217</td>\n",
              "      <td>0.300304</td>\n",
              "      <td>0.000695</td>\n",
              "      <td>0.999782</td>\n",
              "      <td>13.192336</td>\n",
              "      <td>13.191528</td>\n",
              "      <td>task_arithmetic</td>\n",
              "    </tr>\n",
              "    <tr>\n",
              "      <th>150</th>\n",
              "      <td>layer.11.attention.self</td>\n",
              "      <td>3.274682</td>\n",
              "      <td>0.545780</td>\n",
              "      <td>0.000847</td>\n",
              "      <td>0.999631</td>\n",
              "      <td>26.511864</td>\n",
              "      <td>26.510239</td>\n",
              "      <td>task_arithmetic</td>\n",
              "    </tr>\n",
              "    <tr>\n",
              "      <th>151</th>\n",
              "      <td>layer.11.intermediate.dense</td>\n",
              "      <td>3.300890</td>\n",
              "      <td>1.650445</td>\n",
              "      <td>0.001302</td>\n",
              "      <td>0.999405</td>\n",
              "      <td>37.426767</td>\n",
              "      <td>37.409260</td>\n",
              "      <td>task_arithmetic</td>\n",
              "    </tr>\n",
              "    <tr>\n",
              "      <th>152</th>\n",
              "      <td>layer.11.output.LayerNorm</td>\n",
              "      <td>0.129333</td>\n",
              "      <td>0.064667</td>\n",
              "      <td>0.001896</td>\n",
              "      <td>0.999373</td>\n",
              "      <td>10.956625</td>\n",
              "      <td>10.939978</td>\n",
              "      <td>task_arithmetic</td>\n",
              "    </tr>\n",
              "    <tr>\n",
              "      <th>153</th>\n",
              "      <td>layer.11.output.dense</td>\n",
              "      <td>4.598711</td>\n",
              "      <td>2.299355</td>\n",
              "      <td>0.001450</td>\n",
              "      <td>0.998386</td>\n",
              "      <td>29.668117</td>\n",
              "      <td>29.609958</td>\n",
              "      <td>task_arithmetic</td>\n",
              "    </tr>\n",
              "    <tr>\n",
              "      <th>154</th>\n",
              "      <td>layer.2.attention.output</td>\n",
              "      <td>0.869338</td>\n",
              "      <td>0.217335</td>\n",
              "      <td>0.000586</td>\n",
              "      <td>0.999872</td>\n",
              "      <td>12.808661</td>\n",
              "      <td>12.808105</td>\n",
              "      <td>task_arithmetic</td>\n",
              "    </tr>\n",
              "    <tr>\n",
              "      <th>155</th>\n",
              "      <td>layer.2.attention.self</td>\n",
              "      <td>2.624437</td>\n",
              "      <td>0.437406</td>\n",
              "      <td>0.000736</td>\n",
              "      <td>0.995031</td>\n",
              "      <td>25.723288</td>\n",
              "      <td>25.722802</td>\n",
              "      <td>task_arithmetic</td>\n",
              "    </tr>\n",
              "    <tr>\n",
              "      <th>156</th>\n",
              "      <td>layer.2.intermediate.dense</td>\n",
              "      <td>1.806803</td>\n",
              "      <td>0.903401</td>\n",
              "      <td>0.000800</td>\n",
              "      <td>0.999901</td>\n",
              "      <td>51.440608</td>\n",
              "      <td>51.441479</td>\n",
              "      <td>task_arithmetic</td>\n",
              "    </tr>\n",
              "    <tr>\n",
              "      <th>157</th>\n",
              "      <td>layer.2.output.LayerNorm</td>\n",
              "      <td>0.038497</td>\n",
              "      <td>0.019248</td>\n",
              "      <td>0.000545</td>\n",
              "      <td>0.999981</td>\n",
              "      <td>9.817126</td>\n",
              "      <td>9.817707</td>\n",
              "      <td>task_arithmetic</td>\n",
              "    </tr>\n",
              "    <tr>\n",
              "      <th>158</th>\n",
              "      <td>layer.2.output.dense</td>\n",
              "      <td>1.513928</td>\n",
              "      <td>0.756964</td>\n",
              "      <td>0.000543</td>\n",
              "      <td>0.999893</td>\n",
              "      <td>38.634560</td>\n",
              "      <td>38.634803</td>\n",
              "      <td>task_arithmetic</td>\n",
              "    </tr>\n",
              "    <tr>\n",
              "      <th>159</th>\n",
              "      <td>layer.3.attention.output</td>\n",
              "      <td>0.869065</td>\n",
              "      <td>0.217266</td>\n",
              "      <td>0.000591</td>\n",
              "      <td>0.999922</td>\n",
              "      <td>15.459465</td>\n",
              "      <td>15.457517</td>\n",
              "      <td>task_arithmetic</td>\n",
              "    </tr>\n",
              "    <tr>\n",
              "      <th>160</th>\n",
              "      <td>layer.3.attention.self</td>\n",
              "      <td>2.699735</td>\n",
              "      <td>0.449956</td>\n",
              "      <td>0.000760</td>\n",
              "      <td>0.994490</td>\n",
              "      <td>24.484680</td>\n",
              "      <td>24.483059</td>\n",
              "      <td>task_arithmetic</td>\n",
              "    </tr>\n",
              "    <tr>\n",
              "      <th>161</th>\n",
              "      <td>layer.3.intermediate.dense</td>\n",
              "      <td>1.863532</td>\n",
              "      <td>0.931766</td>\n",
              "      <td>0.000808</td>\n",
              "      <td>0.999908</td>\n",
              "      <td>54.823115</td>\n",
              "      <td>54.822324</td>\n",
              "      <td>task_arithmetic</td>\n",
              "    </tr>\n",
              "    <tr>\n",
              "      <th>162</th>\n",
              "      <td>layer.3.output.LayerNorm</td>\n",
              "      <td>0.039594</td>\n",
              "      <td>0.019797</td>\n",
              "      <td>0.000566</td>\n",
              "      <td>0.999982</td>\n",
              "      <td>9.872187</td>\n",
              "      <td>9.872615</td>\n",
              "      <td>task_arithmetic</td>\n",
              "    </tr>\n",
              "    <tr>\n",
              "      <th>163</th>\n",
              "      <td>layer.3.output.dense</td>\n",
              "      <td>1.482979</td>\n",
              "      <td>0.741489</td>\n",
              "      <td>0.000521</td>\n",
              "      <td>0.999920</td>\n",
              "      <td>43.776116</td>\n",
              "      <td>43.777044</td>\n",
              "      <td>task_arithmetic</td>\n",
              "    </tr>\n",
              "    <tr>\n",
              "      <th>164</th>\n",
              "      <td>layer.4.attention.output</td>\n",
              "      <td>0.894540</td>\n",
              "      <td>0.223635</td>\n",
              "      <td>0.000603</td>\n",
              "      <td>0.999950</td>\n",
              "      <td>18.031139</td>\n",
              "      <td>18.030813</td>\n",
              "      <td>task_arithmetic</td>\n",
              "    </tr>\n",
              "    <tr>\n",
              "      <th>165</th>\n",
              "      <td>layer.4.attention.self</td>\n",
              "      <td>2.817738</td>\n",
              "      <td>0.469623</td>\n",
              "      <td>0.000807</td>\n",
              "      <td>0.994141</td>\n",
              "      <td>25.955907</td>\n",
              "      <td>25.955000</td>\n",
              "      <td>task_arithmetic</td>\n",
              "    </tr>\n",
              "    <tr>\n",
              "      <th>166</th>\n",
              "      <td>layer.4.intermediate.dense</td>\n",
              "      <td>1.876236</td>\n",
              "      <td>0.938118</td>\n",
              "      <td>0.000804</td>\n",
              "      <td>0.999921</td>\n",
              "      <td>59.378447</td>\n",
              "      <td>59.377109</td>\n",
              "      <td>task_arithmetic</td>\n",
              "    </tr>\n",
              "    <tr>\n",
              "      <th>167</th>\n",
              "      <td>layer.4.output.LayerNorm</td>\n",
              "      <td>0.041335</td>\n",
              "      <td>0.020667</td>\n",
              "      <td>0.000594</td>\n",
              "      <td>0.999982</td>\n",
              "      <td>9.609065</td>\n",
              "      <td>9.609728</td>\n",
              "      <td>task_arithmetic</td>\n",
              "    </tr>\n",
              "    <tr>\n",
              "      <th>168</th>\n",
              "      <td>layer.4.output.dense</td>\n",
              "      <td>1.518288</td>\n",
              "      <td>0.759144</td>\n",
              "      <td>0.000521</td>\n",
              "      <td>0.999927</td>\n",
              "      <td>46.735192</td>\n",
              "      <td>46.735854</td>\n",
              "      <td>task_arithmetic</td>\n",
              "    </tr>\n",
              "    <tr>\n",
              "      <th>169</th>\n",
              "      <td>layer.5.attention.output</td>\n",
              "      <td>0.914305</td>\n",
              "      <td>0.228576</td>\n",
              "      <td>0.000612</td>\n",
              "      <td>0.999953</td>\n",
              "      <td>18.907371</td>\n",
              "      <td>18.906609</td>\n",
              "      <td>task_arithmetic</td>\n",
              "    </tr>\n",
              "    <tr>\n",
              "      <th>170</th>\n",
              "      <td>layer.5.attention.self</td>\n",
              "      <td>2.897058</td>\n",
              "      <td>0.482843</td>\n",
              "      <td>0.000814</td>\n",
              "      <td>0.995851</td>\n",
              "      <td>24.810189</td>\n",
              "      <td>24.808320</td>\n",
              "      <td>task_arithmetic</td>\n",
              "    </tr>\n",
              "    <tr>\n",
              "      <th>171</th>\n",
              "      <td>layer.5.intermediate.dense</td>\n",
              "      <td>1.934899</td>\n",
              "      <td>0.967450</td>\n",
              "      <td>0.000838</td>\n",
              "      <td>0.999914</td>\n",
              "      <td>58.073194</td>\n",
              "      <td>58.068685</td>\n",
              "      <td>task_arithmetic</td>\n",
              "    </tr>\n",
              "    <tr>\n",
              "      <th>172</th>\n",
              "      <td>layer.5.output.LayerNorm</td>\n",
              "      <td>0.039348</td>\n",
              "      <td>0.019674</td>\n",
              "      <td>0.000564</td>\n",
              "      <td>0.999985</td>\n",
              "      <td>9.635786</td>\n",
              "      <td>9.636062</td>\n",
              "      <td>task_arithmetic</td>\n",
              "    </tr>\n",
              "    <tr>\n",
              "      <th>173</th>\n",
              "      <td>layer.5.output.dense</td>\n",
              "      <td>1.583523</td>\n",
              "      <td>0.791762</td>\n",
              "      <td>0.000544</td>\n",
              "      <td>0.999914</td>\n",
              "      <td>44.843994</td>\n",
              "      <td>44.843415</td>\n",
              "      <td>task_arithmetic</td>\n",
              "    </tr>\n",
              "    <tr>\n",
              "      <th>174</th>\n",
              "      <td>layer.6.attention.output</td>\n",
              "      <td>0.947799</td>\n",
              "      <td>0.236950</td>\n",
              "      <td>0.000624</td>\n",
              "      <td>0.999945</td>\n",
              "      <td>18.331963</td>\n",
              "      <td>18.331383</td>\n",
              "      <td>task_arithmetic</td>\n",
              "    </tr>\n",
              "    <tr>\n",
              "      <th>175</th>\n",
              "      <td>layer.6.attention.self</td>\n",
              "      <td>2.965281</td>\n",
              "      <td>0.494214</td>\n",
              "      <td>0.000835</td>\n",
              "      <td>0.998484</td>\n",
              "      <td>25.880896</td>\n",
              "      <td>25.879032</td>\n",
              "      <td>task_arithmetic</td>\n",
              "    </tr>\n",
              "    <tr>\n",
              "      <th>176</th>\n",
              "      <td>layer.6.intermediate.dense</td>\n",
              "      <td>1.992219</td>\n",
              "      <td>0.996109</td>\n",
              "      <td>0.000868</td>\n",
              "      <td>0.999903</td>\n",
              "      <td>56.284645</td>\n",
              "      <td>56.282795</td>\n",
              "      <td>task_arithmetic</td>\n",
              "    </tr>\n",
              "    <tr>\n",
              "      <th>177</th>\n",
              "      <td>layer.6.output.LayerNorm</td>\n",
              "      <td>0.038632</td>\n",
              "      <td>0.019316</td>\n",
              "      <td>0.000551</td>\n",
              "      <td>0.999971</td>\n",
              "      <td>9.671165</td>\n",
              "      <td>9.672224</td>\n",
              "      <td>task_arithmetic</td>\n",
              "    </tr>\n",
              "    <tr>\n",
              "      <th>178</th>\n",
              "      <td>layer.6.output.dense</td>\n",
              "      <td>1.566065</td>\n",
              "      <td>0.783032</td>\n",
              "      <td>0.000546</td>\n",
              "      <td>0.999915</td>\n",
              "      <td>44.568124</td>\n",
              "      <td>44.567905</td>\n",
              "      <td>task_arithmetic</td>\n",
              "    </tr>\n",
              "    <tr>\n",
              "      <th>179</th>\n",
              "      <td>layer.7.attention.output</td>\n",
              "      <td>0.979930</td>\n",
              "      <td>0.244983</td>\n",
              "      <td>0.000613</td>\n",
              "      <td>0.999930</td>\n",
              "      <td>17.445147</td>\n",
              "      <td>17.444731</td>\n",
              "      <td>task_arithmetic</td>\n",
              "    </tr>\n",
              "    <tr>\n",
              "      <th>180</th>\n",
              "      <td>layer.7.attention.self</td>\n",
              "      <td>3.100452</td>\n",
              "      <td>0.516742</td>\n",
              "      <td>0.000855</td>\n",
              "      <td>0.998940</td>\n",
              "      <td>25.217723</td>\n",
              "      <td>25.216165</td>\n",
              "      <td>task_arithmetic</td>\n",
              "    </tr>\n",
              "    <tr>\n",
              "      <th>181</th>\n",
              "      <td>layer.7.intermediate.dense</td>\n",
              "      <td>2.048495</td>\n",
              "      <td>1.024248</td>\n",
              "      <td>0.000891</td>\n",
              "      <td>0.999891</td>\n",
              "      <td>54.408683</td>\n",
              "      <td>54.408354</td>\n",
              "      <td>task_arithmetic</td>\n",
              "    </tr>\n",
              "    <tr>\n",
              "      <th>182</th>\n",
              "      <td>layer.7.output.LayerNorm</td>\n",
              "      <td>0.041899</td>\n",
              "      <td>0.020949</td>\n",
              "      <td>0.000603</td>\n",
              "      <td>0.999976</td>\n",
              "      <td>10.504112</td>\n",
              "      <td>10.504924</td>\n",
              "      <td>task_arithmetic</td>\n",
              "    </tr>\n",
              "    <tr>\n",
              "      <th>183</th>\n",
              "      <td>layer.7.output.dense</td>\n",
              "      <td>1.580177</td>\n",
              "      <td>0.790089</td>\n",
              "      <td>0.000565</td>\n",
              "      <td>0.999906</td>\n",
              "      <td>43.075283</td>\n",
              "      <td>43.075157</td>\n",
              "      <td>task_arithmetic</td>\n",
              "    </tr>\n",
              "    <tr>\n",
              "      <th>184</th>\n",
              "      <td>layer.8.attention.output</td>\n",
              "      <td>0.972088</td>\n",
              "      <td>0.243022</td>\n",
              "      <td>0.000629</td>\n",
              "      <td>0.999939</td>\n",
              "      <td>17.843105</td>\n",
              "      <td>17.843148</td>\n",
              "      <td>task_arithmetic</td>\n",
              "    </tr>\n",
              "    <tr>\n",
              "      <th>185</th>\n",
              "      <td>layer.8.attention.self</td>\n",
              "      <td>3.086650</td>\n",
              "      <td>0.514442</td>\n",
              "      <td>0.000864</td>\n",
              "      <td>0.999603</td>\n",
              "      <td>25.529699</td>\n",
              "      <td>25.527818</td>\n",
              "      <td>task_arithmetic</td>\n",
              "    </tr>\n",
              "    <tr>\n",
              "      <th>186</th>\n",
              "      <td>layer.8.intermediate.dense</td>\n",
              "      <td>2.058263</td>\n",
              "      <td>1.029131</td>\n",
              "      <td>0.000887</td>\n",
              "      <td>0.999883</td>\n",
              "      <td>52.738822</td>\n",
              "      <td>52.736833</td>\n",
              "      <td>task_arithmetic</td>\n",
              "    </tr>\n",
              "    <tr>\n",
              "      <th>187</th>\n",
              "      <td>layer.8.output.LayerNorm</td>\n",
              "      <td>0.040752</td>\n",
              "      <td>0.020376</td>\n",
              "      <td>0.000573</td>\n",
              "      <td>0.999978</td>\n",
              "      <td>10.565726</td>\n",
              "      <td>10.567469</td>\n",
              "      <td>task_arithmetic</td>\n",
              "    </tr>\n",
              "    <tr>\n",
              "      <th>188</th>\n",
              "      <td>layer.8.output.dense</td>\n",
              "      <td>1.496192</td>\n",
              "      <td>0.748096</td>\n",
              "      <td>0.000532</td>\n",
              "      <td>0.999917</td>\n",
              "      <td>43.472621</td>\n",
              "      <td>43.472158</td>\n",
              "      <td>task_arithmetic</td>\n",
              "    </tr>\n",
              "    <tr>\n",
              "      <th>189</th>\n",
              "      <td>layer.9.attention.output</td>\n",
              "      <td>1.021349</td>\n",
              "      <td>0.255337</td>\n",
              "      <td>0.000667</td>\n",
              "      <td>0.999897</td>\n",
              "      <td>15.522193</td>\n",
              "      <td>15.520650</td>\n",
              "      <td>task_arithmetic</td>\n",
              "    </tr>\n",
              "    <tr>\n",
              "      <th>190</th>\n",
              "      <td>layer.9.attention.self</td>\n",
              "      <td>3.082698</td>\n",
              "      <td>0.513783</td>\n",
              "      <td>0.000831</td>\n",
              "      <td>0.999638</td>\n",
              "      <td>25.297015</td>\n",
              "      <td>25.295501</td>\n",
              "      <td>task_arithmetic</td>\n",
              "    </tr>\n",
              "    <tr>\n",
              "      <th>191</th>\n",
              "      <td>layer.9.intermediate.dense</td>\n",
              "      <td>2.063803</td>\n",
              "      <td>1.031902</td>\n",
              "      <td>0.000858</td>\n",
              "      <td>0.999861</td>\n",
              "      <td>48.232589</td>\n",
              "      <td>48.228844</td>\n",
              "      <td>task_arithmetic</td>\n",
              "    </tr>\n",
              "    <tr>\n",
              "      <th>192</th>\n",
              "      <td>layer.9.output.LayerNorm</td>\n",
              "      <td>0.043325</td>\n",
              "      <td>0.021662</td>\n",
              "      <td>0.000615</td>\n",
              "      <td>0.999982</td>\n",
              "      <td>11.296820</td>\n",
              "      <td>11.297149</td>\n",
              "      <td>task_arithmetic</td>\n",
              "    </tr>\n",
              "    <tr>\n",
              "      <th>193</th>\n",
              "      <td>layer.9.output.dense</td>\n",
              "      <td>1.411105</td>\n",
              "      <td>0.705552</td>\n",
              "      <td>0.000486</td>\n",
              "      <td>0.999922</td>\n",
              "      <td>42.289001</td>\n",
              "      <td>42.288843</td>\n",
              "      <td>task_arithmetic</td>\n",
              "    </tr>\n",
              "    <tr>\n",
              "      <th>194</th>\n",
              "      <td>roberta.embeddings.LayerNorm</td>\n",
              "      <td>0.039064</td>\n",
              "      <td>0.019532</td>\n",
              "      <td>0.000563</td>\n",
              "      <td>0.999994</td>\n",
              "      <td>5.906239</td>\n",
              "      <td>5.906022</td>\n",
              "      <td>task_arithmetic</td>\n",
              "    </tr>\n",
              "    <tr>\n",
              "      <th>195</th>\n",
              "      <td>roberta.embeddings.position_embeddings</td>\n",
              "      <td>0.208643</td>\n",
              "      <td>0.208643</td>\n",
              "      <td>0.000088</td>\n",
              "      <td>0.999993</td>\n",
              "      <td>55.531799</td>\n",
              "      <td>55.536785</td>\n",
              "      <td>task_arithmetic</td>\n",
              "    </tr>\n",
              "    <tr>\n",
              "      <th>196</th>\n",
              "      <td>roberta.embeddings.token_type_embeddings</td>\n",
              "      <td>0.014702</td>\n",
              "      <td>0.014702</td>\n",
              "      <td>0.000425</td>\n",
              "      <td>0.713017</td>\n",
              "      <td>0.018727</td>\n",
              "      <td>0.019965</td>\n",
              "      <td>task_arithmetic</td>\n",
              "    </tr>\n",
              "    <tr>\n",
              "      <th>197</th>\n",
              "      <td>roberta.embeddings.word_embeddings</td>\n",
              "      <td>1.891487</td>\n",
              "      <td>1.891487</td>\n",
              "      <td>0.000036</td>\n",
              "      <td>1.000000</td>\n",
              "      <td>2939.887207</td>\n",
              "      <td>2940.147949</td>\n",
              "      <td>task_arithmetic</td>\n",
              "    </tr>\n",
              "  </tbody>\n",
              "</table>\n",
              "</div>"
            ],
            "text/plain": [
              "                                        layer  delta_l2_sum  delta_l2_mean  \\\n",
              "0                            classifier.dense     18.094710       9.047355   \n",
              "1                         classifier.out_proj      5.645123       2.822561   \n",
              "2                    layer.0.attention.output      0.776435       0.194109   \n",
              "3                      layer.0.attention.self      2.313206       0.385534   \n",
              "4                  layer.0.intermediate.dense      1.700332       0.850166   \n",
              "5                    layer.0.output.LayerNorm      0.038129       0.019064   \n",
              "6                        layer.0.output.dense      1.429228       0.714614   \n",
              "7                    layer.1.attention.output      0.800842       0.200211   \n",
              "8                      layer.1.attention.self      2.417871       0.402978   \n",
              "9                  layer.1.intermediate.dense      1.738184       0.869092   \n",
              "10                   layer.1.output.LayerNorm      0.038327       0.019163   \n",
              "11                       layer.1.output.dense      1.429693       0.714846   \n",
              "12                  layer.10.attention.output      0.985191       0.246298   \n",
              "13                    layer.10.attention.self      3.059461       0.509910   \n",
              "14                layer.10.intermediate.dense      2.100557       1.050279   \n",
              "15                  layer.10.output.LayerNorm      0.046430       0.023215   \n",
              "16                      layer.10.output.dense      1.291240       0.645620   \n",
              "17                  layer.11.attention.output      1.203697       0.300924   \n",
              "18                    layer.11.attention.self      3.308683       0.551447   \n",
              "19                layer.11.intermediate.dense      3.305809       1.652905   \n",
              "20                  layer.11.output.LayerNorm      0.141123       0.070561   \n",
              "21                      layer.11.output.dense      4.570112       2.285056   \n",
              "22                   layer.2.attention.output      0.851083       0.212771   \n",
              "23                     layer.2.attention.self      2.557370       0.426228   \n",
              "24                 layer.2.intermediate.dense      1.777479       0.888740   \n",
              "25                   layer.2.output.LayerNorm      0.037729       0.018864   \n",
              "26                       layer.2.output.dense      1.484669       0.742334   \n",
              "27                   layer.3.attention.output      0.850938       0.212735   \n",
              "28                     layer.3.attention.self      2.643273       0.440546   \n",
              "29                 layer.3.intermediate.dense      1.833813       0.916907   \n",
              "30                   layer.3.output.LayerNorm      0.038898       0.019449   \n",
              "31                       layer.3.output.dense      1.463631       0.731815   \n",
              "32                   layer.4.attention.output      0.877204       0.219301   \n",
              "33                     layer.4.attention.self      2.746559       0.457760   \n",
              "34                 layer.4.intermediate.dense      1.847737       0.923869   \n",
              "35                   layer.4.output.LayerNorm      0.041314       0.020657   \n",
              "36                       layer.4.output.dense      1.497709       0.748855   \n",
              "37                   layer.5.attention.output      0.902234       0.225559   \n",
              "38                     layer.5.attention.self      2.847070       0.474512   \n",
              "39                 layer.5.intermediate.dense      1.907415       0.953707   \n",
              "40                   layer.5.output.LayerNorm      0.039743       0.019872   \n",
              "41                       layer.5.output.dense      1.571776       0.785888   \n",
              "42                   layer.6.attention.output      0.933626       0.233406   \n",
              "43                     layer.6.attention.self      2.912542       0.485424   \n",
              "44                 layer.6.intermediate.dense      1.963359       0.981679   \n",
              "45                   layer.6.output.LayerNorm      0.038968       0.019484   \n",
              "46                       layer.6.output.dense      1.543056       0.771528   \n",
              "47                   layer.7.attention.output      0.973548       0.243387   \n",
              "48                     layer.7.attention.self      3.055079       0.509180   \n",
              "49                 layer.7.intermediate.dense      2.017834       1.008917   \n",
              "50                   layer.7.output.LayerNorm      0.041649       0.020824   \n",
              "51                       layer.7.output.dense      1.561295       0.780647   \n",
              "52                   layer.8.attention.output      0.963383       0.240846   \n",
              "53                     layer.8.attention.self      3.035841       0.505974   \n",
              "54                 layer.8.intermediate.dense      2.037608       1.018804   \n",
              "55                   layer.8.output.LayerNorm      0.042901       0.021451   \n",
              "56                       layer.8.output.dense      1.485545       0.742773   \n",
              "57                   layer.9.attention.output      1.021931       0.255483   \n",
              "58                     layer.9.attention.self      3.049160       0.508193   \n",
              "59                 layer.9.intermediate.dense      2.050145       1.025072   \n",
              "60                   layer.9.output.LayerNorm      0.044859       0.022430   \n",
              "61                       layer.9.output.dense      1.408855       0.704428   \n",
              "62               roberta.embeddings.LayerNorm      0.039387       0.019694   \n",
              "63     roberta.embeddings.position_embeddings      0.210853       0.210853   \n",
              "64   roberta.embeddings.token_type_embeddings      0.014624       0.014624   \n",
              "65         roberta.embeddings.word_embeddings      1.906054       1.906054   \n",
              "66                           classifier.dense     18.196286       9.098143   \n",
              "67                        classifier.out_proj      5.682666       2.841333   \n",
              "68                   layer.0.attention.output      0.782449       0.195612   \n",
              "69                     layer.0.attention.self      2.330801       0.388467   \n",
              "70                 layer.0.intermediate.dense      1.713942       0.856971   \n",
              "71                   layer.0.output.LayerNorm      0.038537       0.019268   \n",
              "72                       layer.0.output.dense      1.440872       0.720436   \n",
              "73                   layer.1.attention.output      0.807472       0.201868   \n",
              "74                     layer.1.attention.self      2.438705       0.406451   \n",
              "75                 layer.1.intermediate.dense      1.752757       0.876379   \n",
              "76                   layer.1.output.LayerNorm      0.038369       0.019185   \n",
              "77                       layer.1.output.dense      1.438131       0.719065   \n",
              "78                  layer.10.attention.output      0.985748       0.246437   \n",
              "79                    layer.10.attention.self      3.077434       0.512906   \n",
              "80                layer.10.intermediate.dense      2.107847       1.053923   \n",
              "81                  layer.10.output.LayerNorm      0.045809       0.022905   \n",
              "82                      layer.10.output.dense      1.293995       0.646998   \n",
              "83                  layer.11.attention.output      1.205105       0.301276   \n",
              "84                    layer.11.attention.self      3.329726       0.554954   \n",
              "85                layer.11.intermediate.dense      3.316494       1.658247   \n",
              "86                  layer.11.output.LayerNorm      0.136529       0.068264   \n",
              "87                      layer.11.output.dense      4.597619       2.298809   \n",
              "88                   layer.2.attention.output      0.856505       0.214126   \n",
              "89                     layer.2.attention.self      2.578110       0.429685   \n",
              "90                 layer.2.intermediate.dense      1.789462       0.894731   \n",
              "91                   layer.2.output.LayerNorm      0.037645       0.018822   \n",
              "92                       layer.2.output.dense      1.494799       0.747399   \n",
              "93                   layer.3.attention.output      0.855852       0.213963   \n",
              "94                     layer.3.attention.self      2.665032       0.444172   \n",
              "95                 layer.3.intermediate.dense      1.846711       0.923355   \n",
              "96                   layer.3.output.LayerNorm      0.039170       0.019585   \n",
              "97                       layer.3.output.dense      1.475569       0.737785   \n",
              "98                   layer.4.attention.output      0.882979       0.220745   \n",
              "99                     layer.4.attention.self      2.767990       0.461332   \n",
              "100                layer.4.intermediate.dense      1.862044       0.931022   \n",
              "101                  layer.4.output.LayerNorm      0.041363       0.020681   \n",
              "102                      layer.4.output.dense      1.510246       0.755123   \n",
              "103                  layer.5.attention.output      0.908403       0.227101   \n",
              "104                    layer.5.attention.self      2.869583       0.478264   \n",
              "105                layer.5.intermediate.dense      1.920854       0.960427   \n",
              "106                  layer.5.output.LayerNorm      0.039733       0.019867   \n",
              "107                      layer.5.output.dense      1.583389       0.791695   \n",
              "108                  layer.6.attention.output      0.940021       0.235005   \n",
              "109                    layer.6.attention.self      2.934942       0.489157   \n",
              "110                layer.6.intermediate.dense      1.977666       0.988833   \n",
              "111                  layer.6.output.LayerNorm      0.039322       0.019661   \n",
              "112                      layer.6.output.dense      1.553666       0.776833   \n",
              "113                  layer.7.attention.output      0.979589       0.244897   \n",
              "114                    layer.7.attention.self      3.078318       0.513053   \n",
              "115                layer.7.intermediate.dense      2.032121       1.016060   \n",
              "116                  layer.7.output.LayerNorm      0.041405       0.020702   \n",
              "117                      layer.7.output.dense      1.570885       0.785442   \n",
              "118                  layer.8.attention.output      0.968341       0.242085   \n",
              "119                    layer.8.attention.self      3.051280       0.508547   \n",
              "120                layer.8.intermediate.dense      2.054284       1.027142   \n",
              "121                  layer.8.output.LayerNorm      0.042718       0.021359   \n",
              "122                      layer.8.output.dense      1.498233       0.749116   \n",
              "123                  layer.9.attention.output      1.025573       0.256393   \n",
              "124                    layer.9.attention.self      3.073082       0.512180   \n",
              "125                layer.9.intermediate.dense      2.062436       1.031218   \n",
              "126                  layer.9.output.LayerNorm      0.044390       0.022195   \n",
              "127                      layer.9.output.dense      1.417836       0.708918   \n",
              "128              roberta.embeddings.LayerNorm      0.039486       0.019743   \n",
              "129    roberta.embeddings.position_embeddings      0.212518       0.212518   \n",
              "130  roberta.embeddings.token_type_embeddings      0.014507       0.014507   \n",
              "131        roberta.embeddings.word_embeddings      1.894006       1.894006   \n",
              "132                          classifier.dense     18.237510       9.118755   \n",
              "133                       classifier.out_proj      5.706554       2.853277   \n",
              "134                  layer.0.attention.output      0.791441       0.197860   \n",
              "135                    layer.0.attention.self      2.364397       0.394066   \n",
              "136                layer.0.intermediate.dense      1.724361       0.862180   \n",
              "137                  layer.0.output.LayerNorm      0.038726       0.019363   \n",
              "138                      layer.0.output.dense      1.455525       0.727762   \n",
              "139                  layer.1.attention.output      0.821573       0.205393   \n",
              "140                    layer.1.attention.self      2.482480       0.413747   \n",
              "141                layer.1.intermediate.dense      1.762626       0.881313   \n",
              "142                  layer.1.output.LayerNorm      0.039024       0.019512   \n",
              "143                      layer.1.output.dense      1.459652       0.729826   \n",
              "144                 layer.10.attention.output      0.981057       0.245264   \n",
              "145                   layer.10.attention.self      3.082301       0.513717   \n",
              "146               layer.10.intermediate.dense      2.094219       1.047110   \n",
              "147                 layer.10.output.LayerNorm      0.044702       0.022351   \n",
              "148                     layer.10.output.dense      1.289989       0.644995   \n",
              "149                 layer.11.attention.output      1.201217       0.300304   \n",
              "150                   layer.11.attention.self      3.274682       0.545780   \n",
              "151               layer.11.intermediate.dense      3.300890       1.650445   \n",
              "152                 layer.11.output.LayerNorm      0.129333       0.064667   \n",
              "153                     layer.11.output.dense      4.598711       2.299355   \n",
              "154                  layer.2.attention.output      0.869338       0.217335   \n",
              "155                    layer.2.attention.self      2.624437       0.437406   \n",
              "156                layer.2.intermediate.dense      1.806803       0.903401   \n",
              "157                  layer.2.output.LayerNorm      0.038497       0.019248   \n",
              "158                      layer.2.output.dense      1.513928       0.756964   \n",
              "159                  layer.3.attention.output      0.869065       0.217266   \n",
              "160                    layer.3.attention.self      2.699735       0.449956   \n",
              "161                layer.3.intermediate.dense      1.863532       0.931766   \n",
              "162                  layer.3.output.LayerNorm      0.039594       0.019797   \n",
              "163                      layer.3.output.dense      1.482979       0.741489   \n",
              "164                  layer.4.attention.output      0.894540       0.223635   \n",
              "165                    layer.4.attention.self      2.817738       0.469623   \n",
              "166                layer.4.intermediate.dense      1.876236       0.938118   \n",
              "167                  layer.4.output.LayerNorm      0.041335       0.020667   \n",
              "168                      layer.4.output.dense      1.518288       0.759144   \n",
              "169                  layer.5.attention.output      0.914305       0.228576   \n",
              "170                    layer.5.attention.self      2.897058       0.482843   \n",
              "171                layer.5.intermediate.dense      1.934899       0.967450   \n",
              "172                  layer.5.output.LayerNorm      0.039348       0.019674   \n",
              "173                      layer.5.output.dense      1.583523       0.791762   \n",
              "174                  layer.6.attention.output      0.947799       0.236950   \n",
              "175                    layer.6.attention.self      2.965281       0.494214   \n",
              "176                layer.6.intermediate.dense      1.992219       0.996109   \n",
              "177                  layer.6.output.LayerNorm      0.038632       0.019316   \n",
              "178                      layer.6.output.dense      1.566065       0.783032   \n",
              "179                  layer.7.attention.output      0.979930       0.244983   \n",
              "180                    layer.7.attention.self      3.100452       0.516742   \n",
              "181                layer.7.intermediate.dense      2.048495       1.024248   \n",
              "182                  layer.7.output.LayerNorm      0.041899       0.020949   \n",
              "183                      layer.7.output.dense      1.580177       0.790089   \n",
              "184                  layer.8.attention.output      0.972088       0.243022   \n",
              "185                    layer.8.attention.self      3.086650       0.514442   \n",
              "186                layer.8.intermediate.dense      2.058263       1.029131   \n",
              "187                  layer.8.output.LayerNorm      0.040752       0.020376   \n",
              "188                      layer.8.output.dense      1.496192       0.748096   \n",
              "189                  layer.9.attention.output      1.021349       0.255337   \n",
              "190                    layer.9.attention.self      3.082698       0.513783   \n",
              "191                layer.9.intermediate.dense      2.063803       1.031902   \n",
              "192                  layer.9.output.LayerNorm      0.043325       0.021662   \n",
              "193                      layer.9.output.dense      1.411105       0.705552   \n",
              "194              roberta.embeddings.LayerNorm      0.039064       0.019532   \n",
              "195    roberta.embeddings.position_embeddings      0.208643       0.208643   \n",
              "196  roberta.embeddings.token_type_embeddings      0.014702       0.014702   \n",
              "197        roberta.embeddings.word_embeddings      1.891487       1.891487   \n",
              "\n",
              "     delta_mean_abs  cosine_mean  reference_norm_mean  candidate_norm_mean  \\\n",
              "0          0.010231    -0.032312             8.098731             4.037319   \n",
              "1          0.010865     0.483696             2.548694             1.248459   \n",
              "2          0.000576     0.999897            12.161875            12.161797   \n",
              "3          0.000687     0.844184            37.602835            37.602498   \n",
              "4          0.000780     0.999920            54.536059            54.539402   \n",
              "5          0.000546     0.999996             8.322152             8.323127   \n",
              "6          0.000536     0.999880            36.395343            36.395838   \n",
              "7          0.000577     0.999891            12.027871            12.027405   \n",
              "8          0.000704     0.997117            29.436769            29.438573   \n",
              "9          0.000777     0.999909            53.000711            53.004850   \n",
              "10         0.000553     0.999988             8.765038             8.766323   \n",
              "11         0.000515     0.999875            34.930160            34.930387   \n",
              "12         0.000608     0.999845            13.004857            13.004357   \n",
              "13         0.000816     0.999763            24.521977            24.521053   \n",
              "14         0.000829     0.999782            39.070174            39.065527   \n",
              "15         0.000666     0.999974            11.644231            11.648175   \n",
              "16         0.000438     0.999913            36.868689            36.868821   \n",
              "17         0.000704     0.999781            13.192336            13.193834   \n",
              "18         0.000848     0.999630            26.511864            26.511494   \n",
              "19         0.001311     0.999402            37.426767            37.411233   \n",
              "20         0.002069     0.999397            10.956625            10.929302   \n",
              "21         0.001449     0.998405            29.668117            29.609160   \n",
              "22         0.000575     0.999877            12.808661            12.807707   \n",
              "23         0.000724     0.995127            25.723288            25.724217   \n",
              "24         0.000784     0.999904            51.440608            51.443506   \n",
              "25         0.000540     0.999981             9.817126             9.818339   \n",
              "26         0.000535     0.999897            38.634560            38.636521   \n",
              "27         0.000577     0.999924            15.459465            15.459153   \n",
              "28         0.000748     0.994792            24.484680            24.484366   \n",
              "29         0.000796     0.999911            54.823115            54.825094   \n",
              "30         0.000557     0.999982             9.872187             9.873044   \n",
              "31         0.000515     0.999922            43.776116            43.779238   \n",
              "32         0.000599     0.999952            18.031139            18.031411   \n",
              "33         0.000786     0.994692            25.955907            25.955504   \n",
              "34         0.000796     0.999924            59.378447            59.380054   \n",
              "35         0.000590     0.999980             9.609065             9.610272   \n",
              "36         0.000518     0.999929            46.735192            46.738408   \n",
              "37         0.000606     0.999954            18.907371            18.908208   \n",
              "38         0.000807     0.996109            24.810189            24.809655   \n",
              "39         0.000830     0.999916            58.073194            58.071901   \n",
              "40         0.000571     0.999983             9.635786             9.636959   \n",
              "41         0.000546     0.999915            44.843994            44.846058   \n",
              "42         0.000620     0.999947            18.331963            18.332831   \n",
              "43         0.000823     0.998568            25.880896            25.880609   \n",
              "44         0.000858     0.999906            56.284645            56.287794   \n",
              "45         0.000557     0.999971             9.671165             9.672619   \n",
              "46         0.000545     0.999917            44.568124            44.570444   \n",
              "47         0.000615     0.999931            17.445147            17.445390   \n",
              "48         0.000845     0.998905            25.217723            25.216942   \n",
              "49         0.000883     0.999895            54.408683            54.409927   \n",
              "50         0.000591     0.999974            10.504112            10.505908   \n",
              "51         0.000566     0.999908            43.075283            43.077841   \n",
              "52         0.000639     0.999940            17.843105            17.844079   \n",
              "53         0.000846     0.999632            25.529699            25.528622   \n",
              "54         0.000883     0.999886            52.738822            52.739223   \n",
              "55         0.000603     0.999975            10.565726            10.568621   \n",
              "56         0.000533     0.999918            43.472621            43.474746   \n",
              "57         0.000674     0.999897            15.522193            15.521748   \n",
              "58         0.000820     0.999658            25.297015            25.296546   \n",
              "59         0.000859     0.999862            48.232589            48.229968   \n",
              "60         0.000644     0.999979            11.296820            11.297903   \n",
              "61         0.000489     0.999922            42.289001            42.291578   \n",
              "62         0.000569     0.999994             5.906239             5.905854   \n",
              "63         0.000097     0.999993            55.531799            55.540306   \n",
              "64         0.000421     0.715580             0.018727             0.019938   \n",
              "65         0.000046     1.000000          2939.887207          2940.348389   \n",
              "66         0.010287    -0.029557             8.098731             4.151975   \n",
              "67         0.010934     0.483307             2.548694             1.288420   \n",
              "68         0.000578     0.999895            12.161875            12.161656   \n",
              "69         0.000690     0.843392            37.602835            37.601889   \n",
              "70         0.000786     0.999919            54.536059            54.538089   \n",
              "71         0.000550     0.999996             8.322152             8.322843   \n",
              "72         0.000539     0.999878            36.395343            36.394824   \n",
              "73         0.000580     0.999889            12.027871            12.027091   \n",
              "74         0.000707     0.997082            29.436769            29.437843   \n",
              "75         0.000784     0.999908            53.000711            53.003625   \n",
              "76         0.000555     0.999988             8.765038             8.765960   \n",
              "77         0.000515     0.999874            34.930160            34.929590   \n",
              "78         0.000607     0.999845            13.004857            13.003808   \n",
              "79         0.000822     0.999761            24.521977            24.520521   \n",
              "80         0.000833     0.999781            39.070174            39.064419   \n",
              "81         0.000654     0.999974            11.644231            11.647250   \n",
              "82         0.000441     0.999913            36.868689            36.867981   \n",
              "83         0.000703     0.999780            13.192336            13.192908   \n",
              "84         0.000856     0.999628            26.511864            26.511209   \n",
              "85         0.001309     0.999399            37.426767            37.410239   \n",
              "86         0.001994     0.999385            10.956625            10.934212   \n",
              "87         0.001458     0.998386            29.668117            29.609917   \n",
              "88         0.000577     0.999876            12.808661            12.807554   \n",
              "89         0.000729     0.994943            25.723288            25.723528   \n",
              "90         0.000789     0.999903            51.440608            51.442288   \n",
              "91         0.000540     0.999981             9.817126             9.818042   \n",
              "92         0.000536     0.999896            38.634560            38.635647   \n",
              "93         0.000578     0.999924            15.459465            15.458798   \n",
              "94         0.000755     0.994598            24.484680            24.483703   \n",
              "95         0.000801     0.999910            54.823115            54.823509   \n",
              "96         0.000564     0.999981             9.872187             9.872771   \n",
              "97         0.000520     0.999921            43.776116            43.778204   \n",
              "98         0.000605     0.999951            18.031139            18.030900   \n",
              "99         0.000795     0.994464            25.955907            25.954933   \n",
              "100        0.000802     0.999922            59.378447            59.378406   \n",
              "101        0.000592     0.999980             9.609065             9.610085   \n",
              "102        0.000522     0.999928            46.735192            46.737379   \n",
              "103        0.000608     0.999954            18.907371            18.907669   \n",
              "104        0.000812     0.996007            24.810189            24.809087   \n",
              "105        0.000836     0.999915            58.073194            58.070867   \n",
              "106        0.000570     0.999983             9.635786             9.636804   \n",
              "107        0.000550     0.999914            44.843994            44.844906   \n",
              "108        0.000619     0.999946            18.331963            18.332534   \n",
              "109        0.000830     0.998508            25.880896            25.880118   \n",
              "110        0.000864     0.999904            56.284645            56.286454   \n",
              "111        0.000562     0.999969             9.671165             9.672366   \n",
              "112        0.000550     0.999916            44.568124            44.569435   \n",
              "113        0.000620     0.999930            17.445147            17.444912   \n",
              "114        0.000854     0.998852            25.217723            25.216407   \n",
              "115        0.000888     0.999893            54.408683            54.408560   \n",
              "116        0.000589     0.999974            10.504112            10.505560   \n",
              "117        0.000569     0.999906            43.075283            43.076827   \n",
              "118        0.000643     0.999939            17.843105            17.843591   \n",
              "119        0.000851     0.999620            25.529699            25.528122   \n",
              "120        0.000889     0.999884            52.738822            52.738123   \n",
              "121        0.000603     0.999976            10.565726            10.568186   \n",
              "122        0.000538     0.999916            43.472621            43.473682   \n",
              "123        0.000671     0.999896            15.522193            15.521337   \n",
              "124        0.000826     0.999654            25.297015            25.295982   \n",
              "125        0.000863     0.999861            48.232589            48.229204   \n",
              "126        0.000637     0.999980            11.296820            11.297518   \n",
              "127        0.000492     0.999921            42.289001            42.290261   \n",
              "128        0.000571     0.999994             5.906239             5.905925   \n",
              "129        0.000096     0.999993            55.531799            55.538597   \n",
              "130        0.000418     0.716544             0.018727             0.019729   \n",
              "131        0.000041     1.000000          2939.887207          2940.259521   \n",
              "132        0.010294    -0.001829             8.098731             4.195220   \n",
              "133        0.010951     0.485457             2.548694             1.317486   \n",
              "134        0.000582     0.999893            12.161875            12.161568   \n",
              "135        0.000700     0.839836            37.602835            37.601567   \n",
              "136        0.000782     0.999918            54.536059            54.537278   \n",
              "137        0.000551     0.999996             8.322152             8.322480   \n",
              "138        0.000536     0.999878            36.395343            36.394212   \n",
              "139        0.000589     0.999886            12.027871            12.027411   \n",
              "140        0.000703     0.997260            29.436769            29.437075   \n",
              "141        0.000788     0.999907            53.000711            53.003226   \n",
              "142        0.000561     0.999987             8.765038             8.765960   \n",
              "143        0.000527     0.999869            34.930160            34.928864   \n",
              "144        0.000597     0.999846            13.004857            13.003580   \n",
              "145        0.000821     0.999756            24.521977            24.519723   \n",
              "146        0.000813     0.999785            39.070174            39.064350   \n",
              "147        0.000629     0.999975            11.644231            11.646269   \n",
              "148        0.000441     0.999913            36.868689            36.867849   \n",
              "149        0.000695     0.999782            13.192336            13.191528   \n",
              "150        0.000847     0.999631            26.511864            26.510239   \n",
              "151        0.001302     0.999405            37.426767            37.409260   \n",
              "152        0.001896     0.999373            10.956625            10.939978   \n",
              "153        0.001450     0.998386            29.668117            29.609958   \n",
              "154        0.000586     0.999872            12.808661            12.808105   \n",
              "155        0.000736     0.995031            25.723288            25.722802   \n",
              "156        0.000800     0.999901            51.440608            51.441479   \n",
              "157        0.000545     0.999981             9.817126             9.817707   \n",
              "158        0.000543     0.999893            38.634560            38.634803   \n",
              "159        0.000591     0.999922            15.459465            15.457517   \n",
              "160        0.000760     0.994490            24.484680            24.483059   \n",
              "161        0.000808     0.999908            54.823115            54.822324   \n",
              "162        0.000566     0.999982             9.872187             9.872615   \n",
              "163        0.000521     0.999920            43.776116            43.777044   \n",
              "164        0.000603     0.999950            18.031139            18.030813   \n",
              "165        0.000807     0.994141            25.955907            25.955000   \n",
              "166        0.000804     0.999921            59.378447            59.377109   \n",
              "167        0.000594     0.999982             9.609065             9.609728   \n",
              "168        0.000521     0.999927            46.735192            46.735854   \n",
              "169        0.000612     0.999953            18.907371            18.906609   \n",
              "170        0.000814     0.995851            24.810189            24.808320   \n",
              "171        0.000838     0.999914            58.073194            58.068685   \n",
              "172        0.000564     0.999985             9.635786             9.636062   \n",
              "173        0.000544     0.999914            44.843994            44.843415   \n",
              "174        0.000624     0.999945            18.331963            18.331383   \n",
              "175        0.000835     0.998484            25.880896            25.879032   \n",
              "176        0.000868     0.999903            56.284645            56.282795   \n",
              "177        0.000551     0.999971             9.671165             9.672224   \n",
              "178        0.000546     0.999915            44.568124            44.567905   \n",
              "179        0.000613     0.999930            17.445147            17.444731   \n",
              "180        0.000855     0.998940            25.217723            25.216165   \n",
              "181        0.000891     0.999891            54.408683            54.408354   \n",
              "182        0.000603     0.999976            10.504112            10.504924   \n",
              "183        0.000565     0.999906            43.075283            43.075157   \n",
              "184        0.000629     0.999939            17.843105            17.843148   \n",
              "185        0.000864     0.999603            25.529699            25.527818   \n",
              "186        0.000887     0.999883            52.738822            52.736833   \n",
              "187        0.000573     0.999978            10.565726            10.567469   \n",
              "188        0.000532     0.999917            43.472621            43.472158   \n",
              "189        0.000667     0.999897            15.522193            15.520650   \n",
              "190        0.000831     0.999638            25.297015            25.295501   \n",
              "191        0.000858     0.999861            48.232589            48.228844   \n",
              "192        0.000615     0.999982            11.296820            11.297149   \n",
              "193        0.000486     0.999922            42.289001            42.288843   \n",
              "194        0.000563     0.999994             5.906239             5.906022   \n",
              "195        0.000088     0.999993            55.531799            55.536785   \n",
              "196        0.000425     0.713017             0.018727             0.019965   \n",
              "197        0.000036     1.000000          2939.887207          2940.147949   \n",
              "\n",
              "                model  \n",
              "0       average_merge  \n",
              "1       average_merge  \n",
              "2       average_merge  \n",
              "3       average_merge  \n",
              "4       average_merge  \n",
              "5       average_merge  \n",
              "6       average_merge  \n",
              "7       average_merge  \n",
              "8       average_merge  \n",
              "9       average_merge  \n",
              "10      average_merge  \n",
              "11      average_merge  \n",
              "12      average_merge  \n",
              "13      average_merge  \n",
              "14      average_merge  \n",
              "15      average_merge  \n",
              "16      average_merge  \n",
              "17      average_merge  \n",
              "18      average_merge  \n",
              "19      average_merge  \n",
              "20      average_merge  \n",
              "21      average_merge  \n",
              "22      average_merge  \n",
              "23      average_merge  \n",
              "24      average_merge  \n",
              "25      average_merge  \n",
              "26      average_merge  \n",
              "27      average_merge  \n",
              "28      average_merge  \n",
              "29      average_merge  \n",
              "30      average_merge  \n",
              "31      average_merge  \n",
              "32      average_merge  \n",
              "33      average_merge  \n",
              "34      average_merge  \n",
              "35      average_merge  \n",
              "36      average_merge  \n",
              "37      average_merge  \n",
              "38      average_merge  \n",
              "39      average_merge  \n",
              "40      average_merge  \n",
              "41      average_merge  \n",
              "42      average_merge  \n",
              "43      average_merge  \n",
              "44      average_merge  \n",
              "45      average_merge  \n",
              "46      average_merge  \n",
              "47      average_merge  \n",
              "48      average_merge  \n",
              "49      average_merge  \n",
              "50      average_merge  \n",
              "51      average_merge  \n",
              "52      average_merge  \n",
              "53      average_merge  \n",
              "54      average_merge  \n",
              "55      average_merge  \n",
              "56      average_merge  \n",
              "57      average_merge  \n",
              "58      average_merge  \n",
              "59      average_merge  \n",
              "60      average_merge  \n",
              "61      average_merge  \n",
              "62      average_merge  \n",
              "63      average_merge  \n",
              "64      average_merge  \n",
              "65      average_merge  \n",
              "66   similarity_merge  \n",
              "67   similarity_merge  \n",
              "68   similarity_merge  \n",
              "69   similarity_merge  \n",
              "70   similarity_merge  \n",
              "71   similarity_merge  \n",
              "72   similarity_merge  \n",
              "73   similarity_merge  \n",
              "74   similarity_merge  \n",
              "75   similarity_merge  \n",
              "76   similarity_merge  \n",
              "77   similarity_merge  \n",
              "78   similarity_merge  \n",
              "79   similarity_merge  \n",
              "80   similarity_merge  \n",
              "81   similarity_merge  \n",
              "82   similarity_merge  \n",
              "83   similarity_merge  \n",
              "84   similarity_merge  \n",
              "85   similarity_merge  \n",
              "86   similarity_merge  \n",
              "87   similarity_merge  \n",
              "88   similarity_merge  \n",
              "89   similarity_merge  \n",
              "90   similarity_merge  \n",
              "91   similarity_merge  \n",
              "92   similarity_merge  \n",
              "93   similarity_merge  \n",
              "94   similarity_merge  \n",
              "95   similarity_merge  \n",
              "96   similarity_merge  \n",
              "97   similarity_merge  \n",
              "98   similarity_merge  \n",
              "99   similarity_merge  \n",
              "100  similarity_merge  \n",
              "101  similarity_merge  \n",
              "102  similarity_merge  \n",
              "103  similarity_merge  \n",
              "104  similarity_merge  \n",
              "105  similarity_merge  \n",
              "106  similarity_merge  \n",
              "107  similarity_merge  \n",
              "108  similarity_merge  \n",
              "109  similarity_merge  \n",
              "110  similarity_merge  \n",
              "111  similarity_merge  \n",
              "112  similarity_merge  \n",
              "113  similarity_merge  \n",
              "114  similarity_merge  \n",
              "115  similarity_merge  \n",
              "116  similarity_merge  \n",
              "117  similarity_merge  \n",
              "118  similarity_merge  \n",
              "119  similarity_merge  \n",
              "120  similarity_merge  \n",
              "121  similarity_merge  \n",
              "122  similarity_merge  \n",
              "123  similarity_merge  \n",
              "124  similarity_merge  \n",
              "125  similarity_merge  \n",
              "126  similarity_merge  \n",
              "127  similarity_merge  \n",
              "128  similarity_merge  \n",
              "129  similarity_merge  \n",
              "130  similarity_merge  \n",
              "131  similarity_merge  \n",
              "132   task_arithmetic  \n",
              "133   task_arithmetic  \n",
              "134   task_arithmetic  \n",
              "135   task_arithmetic  \n",
              "136   task_arithmetic  \n",
              "137   task_arithmetic  \n",
              "138   task_arithmetic  \n",
              "139   task_arithmetic  \n",
              "140   task_arithmetic  \n",
              "141   task_arithmetic  \n",
              "142   task_arithmetic  \n",
              "143   task_arithmetic  \n",
              "144   task_arithmetic  \n",
              "145   task_arithmetic  \n",
              "146   task_arithmetic  \n",
              "147   task_arithmetic  \n",
              "148   task_arithmetic  \n",
              "149   task_arithmetic  \n",
              "150   task_arithmetic  \n",
              "151   task_arithmetic  \n",
              "152   task_arithmetic  \n",
              "153   task_arithmetic  \n",
              "154   task_arithmetic  \n",
              "155   task_arithmetic  \n",
              "156   task_arithmetic  \n",
              "157   task_arithmetic  \n",
              "158   task_arithmetic  \n",
              "159   task_arithmetic  \n",
              "160   task_arithmetic  \n",
              "161   task_arithmetic  \n",
              "162   task_arithmetic  \n",
              "163   task_arithmetic  \n",
              "164   task_arithmetic  \n",
              "165   task_arithmetic  \n",
              "166   task_arithmetic  \n",
              "167   task_arithmetic  \n",
              "168   task_arithmetic  \n",
              "169   task_arithmetic  \n",
              "170   task_arithmetic  \n",
              "171   task_arithmetic  \n",
              "172   task_arithmetic  \n",
              "173   task_arithmetic  \n",
              "174   task_arithmetic  \n",
              "175   task_arithmetic  \n",
              "176   task_arithmetic  \n",
              "177   task_arithmetic  \n",
              "178   task_arithmetic  \n",
              "179   task_arithmetic  \n",
              "180   task_arithmetic  \n",
              "181   task_arithmetic  \n",
              "182   task_arithmetic  \n",
              "183   task_arithmetic  \n",
              "184   task_arithmetic  \n",
              "185   task_arithmetic  \n",
              "186   task_arithmetic  \n",
              "187   task_arithmetic  \n",
              "188   task_arithmetic  \n",
              "189   task_arithmetic  \n",
              "190   task_arithmetic  \n",
              "191   task_arithmetic  \n",
              "192   task_arithmetic  \n",
              "193   task_arithmetic  \n",
              "194   task_arithmetic  \n",
              "195   task_arithmetic  \n",
              "196   task_arithmetic  \n",
              "197   task_arithmetic  "
            ]
          },
          "metadata": {},
          "output_type": "display_data"
        }
      ],
      "source": [
        "weight_delta_frames = []\n",
        "layer_aggregates = []\n",
        "\n",
        "reference_model = artifacts[REFERENCE_KEY].model\n",
        "\n",
        "for name, artifact in artifacts.items():\n",
        "    if name == REFERENCE_KEY:\n",
        "        continue\n",
        "    deltas = compute_weight_deltas(reference_model, artifact.model)\n",
        "    deltas[\"model\"] = name\n",
        "    weight_delta_frames.append(deltas)\n",
        "\n",
        "    layer_summary = aggregate_parameter_stats(deltas)\n",
        "    layer_summary[\"model\"] = name\n",
        "    layer_aggregates.append(layer_summary)\n",
        "\n",
        "weight_deltas_df = pd.concat(weight_delta_frames, ignore_index=True) if weight_delta_frames else pd.DataFrame()\n",
        "layer_deltas_df = pd.concat(layer_aggregates, ignore_index=True) if layer_aggregates else pd.DataFrame()\n",
        "\n",
        "display(layer_deltas_df)"
      ]
    },
    {
      "cell_type": "code",
      "execution_count": 7,
      "id": "49be17ab",
      "metadata": {},
      "outputs": [
        {
          "data": {
            "text/html": [
              "<div>\n",
              "<style scoped>\n",
              "    .dataframe tbody tr th:only-of-type {\n",
              "        vertical-align: middle;\n",
              "    }\n",
              "\n",
              "    .dataframe tbody tr th {\n",
              "        vertical-align: top;\n",
              "    }\n",
              "\n",
              "    .dataframe thead th {\n",
              "        text-align: right;\n",
              "    }\n",
              "</style>\n",
              "<table border=\"1\" class=\"dataframe\">\n",
              "  <thead>\n",
              "    <tr style=\"text-align: right;\">\n",
              "      <th></th>\n",
              "      <th>layer</th>\n",
              "      <th>delta_l2_sum</th>\n",
              "      <th>delta_l2_mean</th>\n",
              "      <th>delta_mean_abs</th>\n",
              "      <th>cosine_mean</th>\n",
              "      <th>reference_norm_mean</th>\n",
              "      <th>candidate_norm_mean</th>\n",
              "      <th>model</th>\n",
              "    </tr>\n",
              "  </thead>\n",
              "  <tbody>\n",
              "    <tr>\n",
              "      <th>0</th>\n",
              "      <td>classifier.dense</td>\n",
              "      <td>18.094710</td>\n",
              "      <td>9.047355</td>\n",
              "      <td>0.010231</td>\n",
              "      <td>-0.032312</td>\n",
              "      <td>8.098731</td>\n",
              "      <td>4.037319</td>\n",
              "      <td>average_merge</td>\n",
              "    </tr>\n",
              "    <tr>\n",
              "      <th>66</th>\n",
              "      <td>classifier.dense</td>\n",
              "      <td>18.196286</td>\n",
              "      <td>9.098143</td>\n",
              "      <td>0.010287</td>\n",
              "      <td>-0.029557</td>\n",
              "      <td>8.098731</td>\n",
              "      <td>4.151975</td>\n",
              "      <td>similarity_merge</td>\n",
              "    </tr>\n",
              "    <tr>\n",
              "      <th>132</th>\n",
              "      <td>classifier.dense</td>\n",
              "      <td>18.237510</td>\n",
              "      <td>9.118755</td>\n",
              "      <td>0.010294</td>\n",
              "      <td>-0.001829</td>\n",
              "      <td>8.098731</td>\n",
              "      <td>4.195220</td>\n",
              "      <td>task_arithmetic</td>\n",
              "    </tr>\n",
              "  </tbody>\n",
              "</table>\n",
              "</div>"
            ],
            "text/plain": [
              "                layer  delta_l2_sum  delta_l2_mean  delta_mean_abs  \\\n",
              "0    classifier.dense     18.094710       9.047355        0.010231   \n",
              "66   classifier.dense     18.196286       9.098143        0.010287   \n",
              "132  classifier.dense     18.237510       9.118755        0.010294   \n",
              "\n",
              "     cosine_mean  reference_norm_mean  candidate_norm_mean             model  \n",
              "0      -0.032312             8.098731             4.037319     average_merge  \n",
              "66     -0.029557             8.098731             4.151975  similarity_merge  \n",
              "132    -0.001829             8.098731             4.195220   task_arithmetic  "
            ]
          },
          "execution_count": 7,
          "metadata": {},
          "output_type": "execute_result"
        }
      ],
      "source": [
        "layer_deltas_df[layer_deltas_df[\"layer\"] == \"classifier.dense\"]"
      ]
    },
    {
      "cell_type": "code",
      "execution_count": 8,
      "id": "1e298f09",
      "metadata": {},
      "outputs": [
        {
          "data": {
            "application/vnd.plotly.v1+json": {
              "config": {
                "plotlyServerURL": "https://plot.ly"
              },
              "data": [
                {
                  "alignmentgroup": "True",
                  "hovertemplate": "model=average_merge<br>layer=%{x}<br>delta_l2_sum=%{y}<extra></extra>",
                  "legendgroup": "average_merge",
                  "marker": {
                    "color": "#636efa",
                    "pattern": {
                      "shape": ""
                    }
                  },
                  "name": "average_merge",
                  "offsetgroup": "average_merge",
                  "orientation": "v",
                  "showlegend": true,
                  "textposition": "auto",
                  "type": "bar",
                  "x": [
                    "classifier.dense",
                    "classifier.out_proj",
                    "layer.0.attention.output",
                    "layer.0.attention.self",
                    "layer.0.intermediate.dense",
                    "layer.0.output.LayerNorm",
                    "layer.0.output.dense",
                    "layer.1.attention.output",
                    "layer.1.attention.self",
                    "layer.1.intermediate.dense",
                    "layer.1.output.LayerNorm",
                    "layer.1.output.dense",
                    "layer.10.attention.output",
                    "layer.10.attention.self",
                    "layer.10.intermediate.dense",
                    "layer.10.output.LayerNorm",
                    "layer.10.output.dense",
                    "layer.11.attention.output",
                    "layer.11.attention.self",
                    "layer.11.intermediate.dense",
                    "layer.11.output.LayerNorm",
                    "layer.11.output.dense",
                    "layer.2.attention.output",
                    "layer.2.attention.self",
                    "layer.2.intermediate.dense",
                    "layer.2.output.LayerNorm",
                    "layer.2.output.dense",
                    "layer.3.attention.output",
                    "layer.3.attention.self",
                    "layer.3.intermediate.dense",
                    "layer.3.output.LayerNorm",
                    "layer.3.output.dense",
                    "layer.4.attention.output",
                    "layer.4.attention.self",
                    "layer.4.intermediate.dense",
                    "layer.4.output.LayerNorm",
                    "layer.4.output.dense",
                    "layer.5.attention.output",
                    "layer.5.attention.self",
                    "layer.5.intermediate.dense",
                    "layer.5.output.LayerNorm",
                    "layer.5.output.dense",
                    "layer.6.attention.output",
                    "layer.6.attention.self",
                    "layer.6.intermediate.dense",
                    "layer.6.output.LayerNorm",
                    "layer.6.output.dense",
                    "layer.7.attention.output",
                    "layer.7.attention.self",
                    "layer.7.intermediate.dense",
                    "layer.7.output.LayerNorm",
                    "layer.7.output.dense",
                    "layer.8.attention.output",
                    "layer.8.attention.self",
                    "layer.8.intermediate.dense",
                    "layer.8.output.LayerNorm",
                    "layer.8.output.dense",
                    "layer.9.attention.output",
                    "layer.9.attention.self",
                    "layer.9.intermediate.dense",
                    "layer.9.output.LayerNorm",
                    "layer.9.output.dense",
                    "roberta.embeddings.LayerNorm",
                    "roberta.embeddings.position_embeddings",
                    "roberta.embeddings.token_type_embeddings",
                    "roberta.embeddings.word_embeddings"
                  ],
                  "xaxis": "x",
                  "y": {
                    "bdata": "AADA6z4YMkAAAPATm5QWQAAAAKWN2Og/AACgQnKBAkAAAACXjzT7PwAAAOichaM/AADA3R3e9j8AAIDdf6DpPwAAgJjMVwNAAAAAgprP+z8AAADIlZ+jPwAAAKEF4PY/AACAfq6G7z8AAKB3xnkIQAAAgP/wzQBAAAAAkKfFpz8AAEAF66j0PwAAQHtXQvM/AADgBi94CkAAAAAfTHIKQAAAAIBNEMI/AAAgXstHEkAAAIDdETzrPwAAIDB+dQRAAAAAEo5w/D8AAADIJ1GjPwAAgPUzwfc/AACAYOM66z8AAMB/bCUFQAAAAIlMV/0/AAAAQGzqoz8AAIASCGv3PwAAAF4OEuw/AADgyPP4BUAAAAADVZD9PwAAACAXJ6U/AABANZ729z8AAAAcGt/sPwAAoLPMxgZAAAAASMWE/j8AAABYNFmkPwAAQLT+Jfk/AAAANEPg7T8AAGDe4kwHQAAAABvraf8/AAAA2KLzoz8AAIAaW7D4PwAAgEJNJ+8/AACgTM1wCEAAAAAjhiQAQAAAALD8UqU/AABAKxD7+D8AAAD2B9TuPwAAoApnSQhAAAAAiAVNAEAAAACYH/elPwAAgCrLxPc/AABAtdRZ8D8AACAlrmQIQAAAAGGyZgBAAAAAwMT3pj8AAMD2q4r2PwAAAJCUKqQ/AAAAwDv9yj8AAADgQ/ONPwAAAEAyf/4/",
                    "dtype": "f8"
                  },
                  "yaxis": "y"
                },
                {
                  "alignmentgroup": "True",
                  "hovertemplate": "model=similarity_merge<br>layer=%{x}<br>delta_l2_sum=%{y}<extra></extra>",
                  "legendgroup": "similarity_merge",
                  "marker": {
                    "color": "#EF553B",
                    "pattern": {
                      "shape": ""
                    }
                  },
                  "name": "similarity_merge",
                  "offsetgroup": "similarity_merge",
                  "orientation": "v",
                  "showlegend": true,
                  "textposition": "auto",
                  "type": "bar",
                  "x": [
                    "classifier.dense",
                    "classifier.out_proj",
                    "layer.0.attention.output",
                    "layer.0.attention.self",
                    "layer.0.intermediate.dense",
                    "layer.0.output.LayerNorm",
                    "layer.0.output.dense",
                    "layer.1.attention.output",
                    "layer.1.attention.self",
                    "layer.1.intermediate.dense",
                    "layer.1.output.LayerNorm",
                    "layer.1.output.dense",
                    "layer.10.attention.output",
                    "layer.10.attention.self",
                    "layer.10.intermediate.dense",
                    "layer.10.output.LayerNorm",
                    "layer.10.output.dense",
                    "layer.11.attention.output",
                    "layer.11.attention.self",
                    "layer.11.intermediate.dense",
                    "layer.11.output.LayerNorm",
                    "layer.11.output.dense",
                    "layer.2.attention.output",
                    "layer.2.attention.self",
                    "layer.2.intermediate.dense",
                    "layer.2.output.LayerNorm",
                    "layer.2.output.dense",
                    "layer.3.attention.output",
                    "layer.3.attention.self",
                    "layer.3.intermediate.dense",
                    "layer.3.output.LayerNorm",
                    "layer.3.output.dense",
                    "layer.4.attention.output",
                    "layer.4.attention.self",
                    "layer.4.intermediate.dense",
                    "layer.4.output.LayerNorm",
                    "layer.4.output.dense",
                    "layer.5.attention.output",
                    "layer.5.attention.self",
                    "layer.5.intermediate.dense",
                    "layer.5.output.LayerNorm",
                    "layer.5.output.dense",
                    "layer.6.attention.output",
                    "layer.6.attention.self",
                    "layer.6.intermediate.dense",
                    "layer.6.output.LayerNorm",
                    "layer.6.output.dense",
                    "layer.7.attention.output",
                    "layer.7.attention.self",
                    "layer.7.intermediate.dense",
                    "layer.7.output.LayerNorm",
                    "layer.7.output.dense",
                    "layer.8.attention.output",
                    "layer.8.attention.self",
                    "layer.8.intermediate.dense",
                    "layer.8.output.LayerNorm",
                    "layer.8.output.dense",
                    "layer.9.attention.output",
                    "layer.9.attention.self",
                    "layer.9.intermediate.dense",
                    "layer.9.output.LayerNorm",
                    "layer.9.output.dense",
                    "roberta.embeddings.LayerNorm",
                    "roberta.embeddings.position_embeddings",
                    "roberta.embeddings.token_type_embeddings",
                    "roberta.embeddings.word_embeddings"
                  ],
                  "xaxis": "x",
                  "y": {
                    "bdata": "AAAQxT8yMkAAACDdDLsWQAAAgEvTCek/AAAAxXqlAkAAAADwTWz7PwAAAJgRu6M/AADAdM8N9z8AAABa0NbpPwAAILJ3ggNAAAAAQksL/D8AAAC4I6WjPwAAgCWVAvc/AAAAoD6L7z8AAMC6lZ4IQAAAgNfe3ABAAAAAYFV0pz8AAMCNNLT0PwAAwLIbSPM/AADAnkejCkAAAAADLogKQAAAAADIecE/AADAH/ZjEkAAAIBcfGjrPwAAwF74nwRAAAAA46Kh/D8AAAA4J0ajPwAAgPKx6vc/AAAAcyRj6z8AAIBx/FEFQAAAAGAgjP0/AAAA0CUOpD8AAAC67pv3PwAAALdcQew/AADA9tckBkAAAABm7sr9PwAAANCCLaU/AADAw/cp+D8AAAB2ohHtPwAAAAro9AZAAAAAMNG7/j8AAAC48lekPwAAQP6PVfk/AACAqaYU7j8AAKAgw3oHQAAAANWEpP8/AAAAsPohpD8AAECV0Nv4PwAAALbKWO8/AADgK2WgCEAAAICJyEEAQAAAAAgEM6U/AAAAS1gi+T8AAID8pvzuPwAAQLUFaQhAAAAAgCxvAEAAAAAgJ9+lPwAAwOTC+Pc/AACAHb9o8D8AAOAPrJUIQAAAAKjefwBAAAAAqEu6pj8AAAASda/2PwAAAJh1N6Q/AAAAgMozyz8AAADACLaNPwAAAADZTf4/",
                    "dtype": "f8"
                  },
                  "yaxis": "y"
                },
                {
                  "alignmentgroup": "True",
                  "hovertemplate": "model=task_arithmetic<br>layer=%{x}<br>delta_l2_sum=%{y}<extra></extra>",
                  "legendgroup": "task_arithmetic",
                  "marker": {
                    "color": "#00cc96",
                    "pattern": {
                      "shape": ""
                    }
                  },
                  "name": "task_arithmetic",
                  "offsetgroup": "task_arithmetic",
                  "orientation": "v",
                  "showlegend": true,
                  "textposition": "auto",
                  "type": "bar",
                  "x": [
                    "classifier.dense",
                    "classifier.out_proj",
                    "layer.0.attention.output",
                    "layer.0.attention.self",
                    "layer.0.intermediate.dense",
                    "layer.0.output.LayerNorm",
                    "layer.0.output.dense",
                    "layer.1.attention.output",
                    "layer.1.attention.self",
                    "layer.1.intermediate.dense",
                    "layer.1.output.LayerNorm",
                    "layer.1.output.dense",
                    "layer.10.attention.output",
                    "layer.10.attention.self",
                    "layer.10.intermediate.dense",
                    "layer.10.output.LayerNorm",
                    "layer.10.output.dense",
                    "layer.11.attention.output",
                    "layer.11.attention.self",
                    "layer.11.intermediate.dense",
                    "layer.11.output.LayerNorm",
                    "layer.11.output.dense",
                    "layer.2.attention.output",
                    "layer.2.attention.self",
                    "layer.2.intermediate.dense",
                    "layer.2.output.LayerNorm",
                    "layer.2.output.dense",
                    "layer.3.attention.output",
                    "layer.3.attention.self",
                    "layer.3.intermediate.dense",
                    "layer.3.output.LayerNorm",
                    "layer.3.output.dense",
                    "layer.4.attention.output",
                    "layer.4.attention.self",
                    "layer.4.intermediate.dense",
                    "layer.4.output.LayerNorm",
                    "layer.4.output.dense",
                    "layer.5.attention.output",
                    "layer.5.attention.self",
                    "layer.5.intermediate.dense",
                    "layer.5.output.LayerNorm",
                    "layer.5.output.dense",
                    "layer.6.attention.output",
                    "layer.6.attention.self",
                    "layer.6.intermediate.dense",
                    "layer.6.output.LayerNorm",
                    "layer.6.output.dense",
                    "layer.7.attention.output",
                    "layer.7.attention.self",
                    "layer.7.intermediate.dense",
                    "layer.7.output.LayerNorm",
                    "layer.7.output.dense",
                    "layer.8.attention.output",
                    "layer.8.attention.self",
                    "layer.8.intermediate.dense",
                    "layer.8.output.LayerNorm",
                    "layer.8.output.dense",
                    "layer.9.attention.output",
                    "layer.9.attention.self",
                    "layer.9.intermediate.dense",
                    "layer.9.output.LayerNorm",
                    "layer.9.output.dense",
                    "roberta.embeddings.LayerNorm",
                    "roberta.embeddings.position_embeddings",
                    "roberta.embeddings.token_type_embeddings",
                    "roberta.embeddings.word_embeddings"
                  ],
                  "xaxis": "x",
                  "y": {
                    "bdata": "AACAeM08MkAAAMj6gtMWQAAAACt7U+k/AACgL0nqAkAAAAAc+5b7PwAAAGDj06M/AABAOtRJ9z8AAADDU0rqPwAAAKMe3ANAAAAAErcz/D8AAABwA/ujPwAAQEK8Wvc/AACAXdFk7z8AAEBMjagIQAAAAB32wABAAAAAGCnjpj8AAICry6P0PwAAwNUvOPM/AADgqowyCkAAAADfOGgKQAAAAHD8jcA/AABgaBRlEkAAAIDIntHrPwAAINDY/gRAAAAAx6no/D8AAAAQ27WjPwAAwBENOfg/AACAFGHP6z8AAIDQDpkFQAAAADQH0f0/AAAAqKhFpD8AAIDtR7r3PwAAAGcSoOw/AAAgILqKBkAAAABrEAX+PwAAAEDSKaU/AAAA4+dK+D8AAIC+/EHtPwAAYLIsLQdAAAAA9Vj1/j8AAACAWyWkPwAAgIMcVvk/AACAt11U7j8AAABG5bgHQAAAAKMg4P8/AAAA6J/Hoz8AAMC/mQ75PwAAAC6WW+8/AABg+rnNCEAAAABoUWMAQAAAADC8c6U/AABA7WdI+T8AAIBFVxvvPwAAYKh1sQhAAACAiVJ3AEAAAABocN2kPwAAQENn8Pc/AABATnJX8D8AAMBqXakIQAAAAFOrggBAAAAAAKEupj8AAAC/4pP2PwAAAAAvAKQ/AAAA4NC0yj8AAADg1BuOPwAAAMCHQ/4/",
                    "dtype": "f8"
                  },
                  "yaxis": "y"
                }
              ],
              "layout": {
                "barmode": "group",
                "legend": {
                  "title": {
                    "text": "model"
                  },
                  "tracegroupgap": 0
                },
                "template": {
                  "data": {
                    "bar": [
                      {
                        "error_x": {
                          "color": "#2a3f5f"
                        },
                        "error_y": {
                          "color": "#2a3f5f"
                        },
                        "marker": {
                          "line": {
                            "color": "#E5ECF6",
                            "width": 0.5
                          },
                          "pattern": {
                            "fillmode": "overlay",
                            "size": 10,
                            "solidity": 0.2
                          }
                        },
                        "type": "bar"
                      }
                    ],
                    "barpolar": [
                      {
                        "marker": {
                          "line": {
                            "color": "#E5ECF6",
                            "width": 0.5
                          },
                          "pattern": {
                            "fillmode": "overlay",
                            "size": 10,
                            "solidity": 0.2
                          }
                        },
                        "type": "barpolar"
                      }
                    ],
                    "carpet": [
                      {
                        "aaxis": {
                          "endlinecolor": "#2a3f5f",
                          "gridcolor": "white",
                          "linecolor": "white",
                          "minorgridcolor": "white",
                          "startlinecolor": "#2a3f5f"
                        },
                        "baxis": {
                          "endlinecolor": "#2a3f5f",
                          "gridcolor": "white",
                          "linecolor": "white",
                          "minorgridcolor": "white",
                          "startlinecolor": "#2a3f5f"
                        },
                        "type": "carpet"
                      }
                    ],
                    "choropleth": [
                      {
                        "colorbar": {
                          "outlinewidth": 0,
                          "ticks": ""
                        },
                        "type": "choropleth"
                      }
                    ],
                    "contour": [
                      {
                        "colorbar": {
                          "outlinewidth": 0,
                          "ticks": ""
                        },
                        "colorscale": [
                          [
                            0,
                            "#0d0887"
                          ],
                          [
                            0.1111111111111111,
                            "#46039f"
                          ],
                          [
                            0.2222222222222222,
                            "#7201a8"
                          ],
                          [
                            0.3333333333333333,
                            "#9c179e"
                          ],
                          [
                            0.4444444444444444,
                            "#bd3786"
                          ],
                          [
                            0.5555555555555556,
                            "#d8576b"
                          ],
                          [
                            0.6666666666666666,
                            "#ed7953"
                          ],
                          [
                            0.7777777777777778,
                            "#fb9f3a"
                          ],
                          [
                            0.8888888888888888,
                            "#fdca26"
                          ],
                          [
                            1,
                            "#f0f921"
                          ]
                        ],
                        "type": "contour"
                      }
                    ],
                    "contourcarpet": [
                      {
                        "colorbar": {
                          "outlinewidth": 0,
                          "ticks": ""
                        },
                        "type": "contourcarpet"
                      }
                    ],
                    "heatmap": [
                      {
                        "colorbar": {
                          "outlinewidth": 0,
                          "ticks": ""
                        },
                        "colorscale": [
                          [
                            0,
                            "#0d0887"
                          ],
                          [
                            0.1111111111111111,
                            "#46039f"
                          ],
                          [
                            0.2222222222222222,
                            "#7201a8"
                          ],
                          [
                            0.3333333333333333,
                            "#9c179e"
                          ],
                          [
                            0.4444444444444444,
                            "#bd3786"
                          ],
                          [
                            0.5555555555555556,
                            "#d8576b"
                          ],
                          [
                            0.6666666666666666,
                            "#ed7953"
                          ],
                          [
                            0.7777777777777778,
                            "#fb9f3a"
                          ],
                          [
                            0.8888888888888888,
                            "#fdca26"
                          ],
                          [
                            1,
                            "#f0f921"
                          ]
                        ],
                        "type": "heatmap"
                      }
                    ],
                    "histogram": [
                      {
                        "marker": {
                          "pattern": {
                            "fillmode": "overlay",
                            "size": 10,
                            "solidity": 0.2
                          }
                        },
                        "type": "histogram"
                      }
                    ],
                    "histogram2d": [
                      {
                        "colorbar": {
                          "outlinewidth": 0,
                          "ticks": ""
                        },
                        "colorscale": [
                          [
                            0,
                            "#0d0887"
                          ],
                          [
                            0.1111111111111111,
                            "#46039f"
                          ],
                          [
                            0.2222222222222222,
                            "#7201a8"
                          ],
                          [
                            0.3333333333333333,
                            "#9c179e"
                          ],
                          [
                            0.4444444444444444,
                            "#bd3786"
                          ],
                          [
                            0.5555555555555556,
                            "#d8576b"
                          ],
                          [
                            0.6666666666666666,
                            "#ed7953"
                          ],
                          [
                            0.7777777777777778,
                            "#fb9f3a"
                          ],
                          [
                            0.8888888888888888,
                            "#fdca26"
                          ],
                          [
                            1,
                            "#f0f921"
                          ]
                        ],
                        "type": "histogram2d"
                      }
                    ],
                    "histogram2dcontour": [
                      {
                        "colorbar": {
                          "outlinewidth": 0,
                          "ticks": ""
                        },
                        "colorscale": [
                          [
                            0,
                            "#0d0887"
                          ],
                          [
                            0.1111111111111111,
                            "#46039f"
                          ],
                          [
                            0.2222222222222222,
                            "#7201a8"
                          ],
                          [
                            0.3333333333333333,
                            "#9c179e"
                          ],
                          [
                            0.4444444444444444,
                            "#bd3786"
                          ],
                          [
                            0.5555555555555556,
                            "#d8576b"
                          ],
                          [
                            0.6666666666666666,
                            "#ed7953"
                          ],
                          [
                            0.7777777777777778,
                            "#fb9f3a"
                          ],
                          [
                            0.8888888888888888,
                            "#fdca26"
                          ],
                          [
                            1,
                            "#f0f921"
                          ]
                        ],
                        "type": "histogram2dcontour"
                      }
                    ],
                    "mesh3d": [
                      {
                        "colorbar": {
                          "outlinewidth": 0,
                          "ticks": ""
                        },
                        "type": "mesh3d"
                      }
                    ],
                    "parcoords": [
                      {
                        "line": {
                          "colorbar": {
                            "outlinewidth": 0,
                            "ticks": ""
                          }
                        },
                        "type": "parcoords"
                      }
                    ],
                    "pie": [
                      {
                        "automargin": true,
                        "type": "pie"
                      }
                    ],
                    "scatter": [
                      {
                        "fillpattern": {
                          "fillmode": "overlay",
                          "size": 10,
                          "solidity": 0.2
                        },
                        "type": "scatter"
                      }
                    ],
                    "scatter3d": [
                      {
                        "line": {
                          "colorbar": {
                            "outlinewidth": 0,
                            "ticks": ""
                          }
                        },
                        "marker": {
                          "colorbar": {
                            "outlinewidth": 0,
                            "ticks": ""
                          }
                        },
                        "type": "scatter3d"
                      }
                    ],
                    "scattercarpet": [
                      {
                        "marker": {
                          "colorbar": {
                            "outlinewidth": 0,
                            "ticks": ""
                          }
                        },
                        "type": "scattercarpet"
                      }
                    ],
                    "scattergeo": [
                      {
                        "marker": {
                          "colorbar": {
                            "outlinewidth": 0,
                            "ticks": ""
                          }
                        },
                        "type": "scattergeo"
                      }
                    ],
                    "scattergl": [
                      {
                        "marker": {
                          "colorbar": {
                            "outlinewidth": 0,
                            "ticks": ""
                          }
                        },
                        "type": "scattergl"
                      }
                    ],
                    "scattermap": [
                      {
                        "marker": {
                          "colorbar": {
                            "outlinewidth": 0,
                            "ticks": ""
                          }
                        },
                        "type": "scattermap"
                      }
                    ],
                    "scattermapbox": [
                      {
                        "marker": {
                          "colorbar": {
                            "outlinewidth": 0,
                            "ticks": ""
                          }
                        },
                        "type": "scattermapbox"
                      }
                    ],
                    "scatterpolar": [
                      {
                        "marker": {
                          "colorbar": {
                            "outlinewidth": 0,
                            "ticks": ""
                          }
                        },
                        "type": "scatterpolar"
                      }
                    ],
                    "scatterpolargl": [
                      {
                        "marker": {
                          "colorbar": {
                            "outlinewidth": 0,
                            "ticks": ""
                          }
                        },
                        "type": "scatterpolargl"
                      }
                    ],
                    "scatterternary": [
                      {
                        "marker": {
                          "colorbar": {
                            "outlinewidth": 0,
                            "ticks": ""
                          }
                        },
                        "type": "scatterternary"
                      }
                    ],
                    "surface": [
                      {
                        "colorbar": {
                          "outlinewidth": 0,
                          "ticks": ""
                        },
                        "colorscale": [
                          [
                            0,
                            "#0d0887"
                          ],
                          [
                            0.1111111111111111,
                            "#46039f"
                          ],
                          [
                            0.2222222222222222,
                            "#7201a8"
                          ],
                          [
                            0.3333333333333333,
                            "#9c179e"
                          ],
                          [
                            0.4444444444444444,
                            "#bd3786"
                          ],
                          [
                            0.5555555555555556,
                            "#d8576b"
                          ],
                          [
                            0.6666666666666666,
                            "#ed7953"
                          ],
                          [
                            0.7777777777777778,
                            "#fb9f3a"
                          ],
                          [
                            0.8888888888888888,
                            "#fdca26"
                          ],
                          [
                            1,
                            "#f0f921"
                          ]
                        ],
                        "type": "surface"
                      }
                    ],
                    "table": [
                      {
                        "cells": {
                          "fill": {
                            "color": "#EBF0F8"
                          },
                          "line": {
                            "color": "white"
                          }
                        },
                        "header": {
                          "fill": {
                            "color": "#C8D4E3"
                          },
                          "line": {
                            "color": "white"
                          }
                        },
                        "type": "table"
                      }
                    ]
                  },
                  "layout": {
                    "annotationdefaults": {
                      "arrowcolor": "#2a3f5f",
                      "arrowhead": 0,
                      "arrowwidth": 1
                    },
                    "autotypenumbers": "strict",
                    "coloraxis": {
                      "colorbar": {
                        "outlinewidth": 0,
                        "ticks": ""
                      }
                    },
                    "colorscale": {
                      "diverging": [
                        [
                          0,
                          "#8e0152"
                        ],
                        [
                          0.1,
                          "#c51b7d"
                        ],
                        [
                          0.2,
                          "#de77ae"
                        ],
                        [
                          0.3,
                          "#f1b6da"
                        ],
                        [
                          0.4,
                          "#fde0ef"
                        ],
                        [
                          0.5,
                          "#f7f7f7"
                        ],
                        [
                          0.6,
                          "#e6f5d0"
                        ],
                        [
                          0.7,
                          "#b8e186"
                        ],
                        [
                          0.8,
                          "#7fbc41"
                        ],
                        [
                          0.9,
                          "#4d9221"
                        ],
                        [
                          1,
                          "#276419"
                        ]
                      ],
                      "sequential": [
                        [
                          0,
                          "#0d0887"
                        ],
                        [
                          0.1111111111111111,
                          "#46039f"
                        ],
                        [
                          0.2222222222222222,
                          "#7201a8"
                        ],
                        [
                          0.3333333333333333,
                          "#9c179e"
                        ],
                        [
                          0.4444444444444444,
                          "#bd3786"
                        ],
                        [
                          0.5555555555555556,
                          "#d8576b"
                        ],
                        [
                          0.6666666666666666,
                          "#ed7953"
                        ],
                        [
                          0.7777777777777778,
                          "#fb9f3a"
                        ],
                        [
                          0.8888888888888888,
                          "#fdca26"
                        ],
                        [
                          1,
                          "#f0f921"
                        ]
                      ],
                      "sequentialminus": [
                        [
                          0,
                          "#0d0887"
                        ],
                        [
                          0.1111111111111111,
                          "#46039f"
                        ],
                        [
                          0.2222222222222222,
                          "#7201a8"
                        ],
                        [
                          0.3333333333333333,
                          "#9c179e"
                        ],
                        [
                          0.4444444444444444,
                          "#bd3786"
                        ],
                        [
                          0.5555555555555556,
                          "#d8576b"
                        ],
                        [
                          0.6666666666666666,
                          "#ed7953"
                        ],
                        [
                          0.7777777777777778,
                          "#fb9f3a"
                        ],
                        [
                          0.8888888888888888,
                          "#fdca26"
                        ],
                        [
                          1,
                          "#f0f921"
                        ]
                      ]
                    },
                    "colorway": [
                      "#636efa",
                      "#EF553B",
                      "#00cc96",
                      "#ab63fa",
                      "#FFA15A",
                      "#19d3f3",
                      "#FF6692",
                      "#B6E880",
                      "#FF97FF",
                      "#FECB52"
                    ],
                    "font": {
                      "color": "#2a3f5f"
                    },
                    "geo": {
                      "bgcolor": "white",
                      "lakecolor": "white",
                      "landcolor": "#E5ECF6",
                      "showlakes": true,
                      "showland": true,
                      "subunitcolor": "white"
                    },
                    "hoverlabel": {
                      "align": "left"
                    },
                    "hovermode": "closest",
                    "mapbox": {
                      "style": "light"
                    },
                    "paper_bgcolor": "white",
                    "plot_bgcolor": "#E5ECF6",
                    "polar": {
                      "angularaxis": {
                        "gridcolor": "white",
                        "linecolor": "white",
                        "ticks": ""
                      },
                      "bgcolor": "#E5ECF6",
                      "radialaxis": {
                        "gridcolor": "white",
                        "linecolor": "white",
                        "ticks": ""
                      }
                    },
                    "scene": {
                      "xaxis": {
                        "backgroundcolor": "#E5ECF6",
                        "gridcolor": "white",
                        "gridwidth": 2,
                        "linecolor": "white",
                        "showbackground": true,
                        "ticks": "",
                        "zerolinecolor": "white"
                      },
                      "yaxis": {
                        "backgroundcolor": "#E5ECF6",
                        "gridcolor": "white",
                        "gridwidth": 2,
                        "linecolor": "white",
                        "showbackground": true,
                        "ticks": "",
                        "zerolinecolor": "white"
                      },
                      "zaxis": {
                        "backgroundcolor": "#E5ECF6",
                        "gridcolor": "white",
                        "gridwidth": 2,
                        "linecolor": "white",
                        "showbackground": true,
                        "ticks": "",
                        "zerolinecolor": "white"
                      }
                    },
                    "shapedefaults": {
                      "line": {
                        "color": "#2a3f5f"
                      }
                    },
                    "ternary": {
                      "aaxis": {
                        "gridcolor": "white",
                        "linecolor": "white",
                        "ticks": ""
                      },
                      "baxis": {
                        "gridcolor": "white",
                        "linecolor": "white",
                        "ticks": ""
                      },
                      "bgcolor": "#E5ECF6",
                      "caxis": {
                        "gridcolor": "white",
                        "linecolor": "white",
                        "ticks": ""
                      }
                    },
                    "title": {
                      "x": 0.05
                    },
                    "xaxis": {
                      "automargin": true,
                      "gridcolor": "white",
                      "linecolor": "white",
                      "ticks": "",
                      "title": {
                        "standoff": 15
                      },
                      "zerolinecolor": "white",
                      "zerolinewidth": 2
                    },
                    "yaxis": {
                      "automargin": true,
                      "gridcolor": "white",
                      "linecolor": "white",
                      "ticks": "",
                      "title": {
                        "standoff": 15
                      },
                      "zerolinecolor": "white",
                      "zerolinewidth": 2
                    }
                  }
                },
                "title": {
                  "text": "Layer-level parameter movement (L2 sum)"
                },
                "xaxis": {
                  "anchor": "y",
                  "domain": [
                    0,
                    1
                  ],
                  "title": {
                    "text": "layer"
                  }
                },
                "yaxis": {
                  "anchor": "x",
                  "domain": [
                    0,
                    1
                  ],
                  "title": {
                    "text": "delta_l2_sum"
                  }
                }
              }
            }
          },
          "metadata": {},
          "output_type": "display_data"
        }
      ],
      "source": [
        "if not layer_deltas_df.empty:\n",
        "    fig = px.bar(\n",
        "        layer_deltas_df,\n",
        "        x=\"layer\",\n",
        "        y=\"delta_l2_sum\",\n",
        "        color=\"model\",\n",
        "        barmode=\"group\",\n",
        "        title=\"Layer-level parameter movement (L2 sum)\",\n",
        "    )\n",
        "    fig.show()"
      ]
    },
    {
      "cell_type": "markdown",
      "id": "def944a0",
      "metadata": {},
      "source": [
        "## 5. Probe texts\n",
        "\n",
        "Provide a small batch of utterances (preferably in the target language) for attention/activation analysis."
      ]
    },
    {
      "cell_type": "code",
      "execution_count": 9,
      "id": "664beaa3",
      "metadata": {},
      "outputs": [
        {
          "data": {
            "text/plain": [
              "['How can I upgrade my flight booking?',\n",
              " 'Show me the weather forecast for tomorrow evening.',\n",
              " 'I need to reset the password for my online banking.',\n",
              " 'Find vegetarian restaurants near my location.',\n",
              " 'Translate this sentence into French.',\n",
              " 'Remind me to call my mom at 6 PM.']"
            ]
          },
          "execution_count": 9,
          "metadata": {},
          "output_type": "execute_result"
        }
      ],
      "source": [
        "SAMPLE_TEXTS = ensure_text_samples(\n",
        "    file_hint=PROJECT_ROOT / \"assets\" / \"sample_prompts.txt\",\n",
        "    limit=12,\n",
        ")\n",
        "SAMPLE_TEXTS"
      ]
    },
    {
      "cell_type": "markdown",
      "id": "d1995d2a",
      "metadata": {},
      "source": [
        "## 6. Collect signals\n",
        "\n",
        "Capture attentions, hidden states, and logits for each model over the probe texts."
      ]
    },
    {
      "cell_type": "code",
      "execution_count": 10,
      "id": "f4159a2d",
      "metadata": {},
      "outputs": [
        {
          "name": "stderr",
          "output_type": "stream",
          "text": [
            "XLMRobertaSdpaSelfAttention is used but `torch.nn.functional.scaled_dot_product_attention` does not support non-absolute `position_embedding_type` or `output_attentions=True` or `head_mask`. Falling back to the manual attention implementation, but specifying the manual implementation will be required from Transformers version v5.0.0 onwards. This warning can be removed using the argument `attn_implementation=\"eager\"` when loading the model.\n"
          ]
        },
        {
          "data": {
            "text/html": [
              "<div>\n",
              "<style scoped>\n",
              "    .dataframe tbody tr th:only-of-type {\n",
              "        vertical-align: middle;\n",
              "    }\n",
              "\n",
              "    .dataframe tbody tr th {\n",
              "        vertical-align: top;\n",
              "    }\n",
              "\n",
              "    .dataframe thead th {\n",
              "        text-align: right;\n",
              "    }\n",
              "</style>\n",
              "<table border=\"1\" class=\"dataframe\">\n",
              "  <thead>\n",
              "    <tr style=\"text-align: right;\">\n",
              "      <th></th>\n",
              "      <th>layer</th>\n",
              "      <th>head</th>\n",
              "      <th>mean_prob</th>\n",
              "      <th>entropy</th>\n",
              "      <th>cls_focus</th>\n",
              "      <th>diagonal_focus</th>\n",
              "      <th>model</th>\n",
              "    </tr>\n",
              "  </thead>\n",
              "  <tbody>\n",
              "    <tr>\n",
              "      <th>0</th>\n",
              "      <td>0</td>\n",
              "      <td>0</td>\n",
              "      <td>0.071429</td>\n",
              "      <td>1.853152</td>\n",
              "      <td>0.094594</td>\n",
              "      <td>0.052478</td>\n",
              "      <td>baseline</td>\n",
              "    </tr>\n",
              "    <tr>\n",
              "      <th>1</th>\n",
              "      <td>0</td>\n",
              "      <td>1</td>\n",
              "      <td>0.071429</td>\n",
              "      <td>2.020442</td>\n",
              "      <td>0.178524</td>\n",
              "      <td>0.057640</td>\n",
              "      <td>baseline</td>\n",
              "    </tr>\n",
              "    <tr>\n",
              "      <th>2</th>\n",
              "      <td>0</td>\n",
              "      <td>2</td>\n",
              "      <td>0.071429</td>\n",
              "      <td>1.684173</td>\n",
              "      <td>0.117272</td>\n",
              "      <td>0.018049</td>\n",
              "      <td>baseline</td>\n",
              "    </tr>\n",
              "    <tr>\n",
              "      <th>3</th>\n",
              "      <td>0</td>\n",
              "      <td>3</td>\n",
              "      <td>0.071429</td>\n",
              "      <td>1.529652</td>\n",
              "      <td>0.077106</td>\n",
              "      <td>0.311491</td>\n",
              "      <td>baseline</td>\n",
              "    </tr>\n",
              "    <tr>\n",
              "      <th>4</th>\n",
              "      <td>0</td>\n",
              "      <td>4</td>\n",
              "      <td>0.071429</td>\n",
              "      <td>2.048531</td>\n",
              "      <td>0.177104</td>\n",
              "      <td>0.108647</td>\n",
              "      <td>baseline</td>\n",
              "    </tr>\n",
              "  </tbody>\n",
              "</table>\n",
              "</div>"
            ],
            "text/plain": [
              "   layer  head  mean_prob   entropy  cls_focus  diagonal_focus     model\n",
              "0      0     0   0.071429  1.853152   0.094594        0.052478  baseline\n",
              "1      0     1   0.071429  2.020442   0.178524        0.057640  baseline\n",
              "2      0     2   0.071429  1.684173   0.117272        0.018049  baseline\n",
              "3      0     3   0.071429  1.529652   0.077106        0.311491  baseline\n",
              "4      0     4   0.071429  2.048531   0.177104        0.108647  baseline"
            ]
          },
          "metadata": {},
          "output_type": "display_data"
        }
      ],
      "source": [
        "signals = {\n",
        "    name: collect_model_signals(artifact, SAMPLE_TEXTS, device=DEVICE)\n",
        "    for name, artifact in artifacts.items()\n",
        "}\n",
        "\n",
        "attention_records = []\n",
        "for name, signal in signals.items():\n",
        "    attentions = signal.get(\"attentions\")\n",
        "    if not attentions:\n",
        "        continue\n",
        "    attn_df = summarize_attentions(attentions)\n",
        "    attn_df[\"model\"] = name\n",
        "    attention_records.append(attn_df)\n",
        "\n",
        "attention_df = pd.concat(attention_records, ignore_index=True) if attention_records else pd.DataFrame()\n",
        "display(attention_df.head())"
      ]
    },
    {
      "cell_type": "code",
      "execution_count": 11,
      "id": "97bcd0ce",
      "metadata": {},
      "outputs": [
        {
          "data": {
            "application/vnd.plotly.v1+json": {
              "config": {
                "plotlyServerURL": "https://plot.ly"
              },
              "data": [
                {
                  "alignmentgroup": "True",
                  "boxpoints": "all",
                  "hovertemplate": "model=baseline<br>layer=%{x}<br>entropy=%{y}<extra></extra>",
                  "legendgroup": "baseline",
                  "marker": {
                    "color": "#636efa"
                  },
                  "name": "baseline",
                  "notched": false,
                  "offsetgroup": "baseline",
                  "orientation": "v",
                  "showlegend": true,
                  "type": "box",
                  "x": {
                    "bdata": "AAAAAAAAAAAAAAAAAQEBAQEBAQEBAQEBAgICAgICAgICAgICAwMDAwMDAwMDAwMDBAQEBAQEBAQEBAQEBQUFBQUFBQUFBQUFBgYGBgYGBgYGBgYGBwcHBwcHBwcHBwcHCAgICAgICAgICAgICQkJCQkJCQkJCQkJCgoKCgoKCgoKCgoKCwsLCwsLCwsLCwsL",
                    "dtype": "i1"
                  },
                  "x0": " ",
                  "xaxis": "x",
                  "y": {
                    "bdata": "AAAAAIOm/T8AAADA3SkAQAAAAKBf8vo/AAAAwHR5+D8AAAAAZGMAQAAAAMA4CgBAAAAAYHUH9z8AAAAg2vz5PwAAAEDTC/A/AAAAQBTO+z8AAADAWCEAQAAAACCRi/8/AAAAwOvZ5T8AAACAtu33PwAAAAAhuuQ/AAAAQK628D8AAACgS0/iPwAAAGBkX/A/AAAAYHEE5z8AAADgkeHhPwAAACDytMY/AAAA4FHQ9z8AAADgYU/4PwAAAAAmE/I/AAAAYH8/2j8AAAAAqIHjPwAAAIBJAOQ/AAAAQCKV5z8AAACA7QLcPwAAAGDUNMM/AAAA4P4z3D8AAACAMsvqPwAAAIDaV94/AAAA4B0U9T8AAABAkpDqPwAAAGDg2sg/AAAAgMEI2T8AAADg1XPdPwAAAEDyNck/AAAAgPVS6T8AAABgM/jAPwAAACDFRsM/AAAAAKHD5D8AAAAg0kjvPwAAACCqYNs/AAAAIC3n3z8AAAAA9X3vPwAAACDlaOQ/AAAAwPkq5D8AAACA33LnPwAAAGBdKuI/AAAAgGI40j8AAADgDWDVPwAAAGBDXdI/AAAA4K125j8AAABg716uPwAAAABFV+w/AAAA4Ail5j8AAABA7or4PwAAAIDucds/AAAAoOrf7z8AAACAbbjlPwAAAGBL6/A/AAAAYCAC5T8AAABgnQXgPwAAAKD8m+o/AAAAYHhA3z8AAAAAYuLzPwAAAKC9OOY/AAAAQCJR6D8AAABgyKnyPwAAAEAu+PA/AAAAQA8j7D8AAACgP+vtPwAAAADsgdE/AAAAYEvR8j8AAABA3FXpPwAAAGCEMOo/AAAAgAZn7D8AAABg6X/0PwAAAID51dw/AAAA4Lnf7j8AAACAvPnkPwAAAACTztM/AAAAAG3O7z8AAADg6ezlPwAAAADed+Y/AAAAwJf05j8AAADg3TP0PwAAAABRNfM/AAAAIIzH9T8AAABAqinyPwAAAGCzVfI/AAAAoAQn4z8AAABA3ODuPwAAAMAzL+E/AAAAAGME2T8AAADgdkjqPwAAAMALE+g/AAAA4F3B8z8AAABAfqLxPwAAAIAZWOA/AAAAoGV18z8AAABAHNvtPwAAACCBb9g/AAAAYG5t5T8AAADAzyXuPwAAAOAh3eM/AAAAACHw6T8AAADg8nfmPwAAAMAVLPA/AAAAoCJG8T8AAAAgSD3zPwAAAECquuY/AAAAgPKf8D8AAADAAb/wPwAAAKB2reo/AAAAYMWG8T8AAACgtNP2PwAAAGARdfM/AAAAIHYB8z8AAACARmD8PwAAAKDyU+w/AAAAQERd5T8AAADgkvL0PwAAAACN2vY/AAAAoIJU8T8AAADg7hT9PwAAAGDoMOk/AAAAoBxy8z8AAACgNufwPwAAAIDhies/AAAAABVq6j8AAACgkgT+PwAAAOCSVfs/AAAAoJIJ6z8AAADAp9v5PwAAAMAVa/0/AAAAIDBs9z8AAABAoH/wPwAAAGBtLeo/AAAAwLdO/D8AAAAAO8n+PwAAAGBRUPI/",
                    "dtype": "f8"
                  },
                  "y0": " ",
                  "yaxis": "y"
                },
                {
                  "alignmentgroup": "True",
                  "boxpoints": "all",
                  "hovertemplate": "model=average_merge<br>layer=%{x}<br>entropy=%{y}<extra></extra>",
                  "legendgroup": "average_merge",
                  "marker": {
                    "color": "#EF553B"
                  },
                  "name": "average_merge",
                  "notched": false,
                  "offsetgroup": "average_merge",
                  "orientation": "v",
                  "showlegend": true,
                  "type": "box",
                  "x": {
                    "bdata": "AAAAAAAAAAAAAAAAAQEBAQEBAQEBAQEBAgICAgICAgICAgICAwMDAwMDAwMDAwMDBAQEBAQEBAQEBAQEBQUFBQUFBQUFBQUFBgYGBgYGBgYGBgYGBwcHBwcHBwcHBwcHCAgICAgICAgICAgICQkJCQkJCQkJCQkJCgoKCgoKCgoKCgoKCwsLCwsLCwsLCwsL",
                    "dtype": "i1"
                  },
                  "x0": " ",
                  "xaxis": "x",
                  "y": {
                    "bdata": "AAAAYCyw/T8AAAAgKDkAQAAAAGDPQfs/AAAAoFqG+D8AAADA/ZAAQAAAAMDo6v8/AAAAoOJa9z8AAACAmq36PwAAAECmHfA/AAAA4G7h+z8AAACAhB8AQAAAAICuW/8/AAAAQBDt4z8AAADAnhz0PwAAAABBduE/AAAAQNuJ7z8AAADgDu7fPwAAAABPgek/AAAAIPOF5z8AAADgfTLgPwAAAOA9X8c/AAAAwOfL8j8AAABg+6XzPwAAAMCfO+M/AAAAAJVp3D8AAACAqfbgPwAAAABi3+M/AAAAQM/36T8AAABA2k/cPwAAAIC26sM/AAAAIE6i2j8AAADAsVfnPwAAAMCgrto/AAAAIJmV9j8AAACA6uTqPwAAAMBxasc/AAAAQK711z8AAABAPA7YPwAAAEAmVMY/AAAAYNtp6j8AAADgJqPFPwAAACAWVLw/AAAAYA0S4T8AAAAg7ATwPwAAAEAbrto/AAAAQDcs5D8AAADA39HrPwAAAECKINs/AAAAoOiq8D8AAADABGbsPwAAAECGcuQ/AAAAAHxpzz8AAAAAV0HgPwAAAADbi+E/AAAAgC2+9j8AAACgXqKuPwAAACDoPvA/AAAAAKMS6T8AAACg2uP1PwAAAGC0tuI/AAAAYAUY8j8AAABgNxblPwAAAMAZR/E/AAAAANm56j8AAACgzmbjPwAAAMCtfuo/AAAAIIas7D8AAACg7BbxPwAAAGBLQeo/AAAAYPNP6j8AAAAAc5PyPwAAAODGXvA/AAAAIJEf7D8AAABA88jrPwAAAGAFCtM/AAAAwN978D8AAADApyHuPwAAAMDNWuQ/AAAAwLDY7D8AAACglnD0PwAAAABFQuc/AAAAAG/F7T8AAACA6ajmPwAAAKAm5NM/AAAAoG8Y7D8AAABAIhPfPwAAAGALj+c/AAAA4Cw65D8AAADAWx7wPwAAAGA7Ju4/AAAAgMT78T8AAAAAvfvuPwAAACDmru8/AAAAoCqW5T8AAACgiDzuPwAAAOAJjNo/AAAAAC6K4z8AAAAg0dvxPwAAAIB6pO4/AAAAYBQ79D8AAABAn7byPwAAAKA3g9M/AAAAgKF98z8AAABgmLPvPwAAAMAo3OI/AAAAwMH77z8AAAAAq5vyPwAAAADbN/A/AAAAICl57j8AAABAJvnwPwAAAABhK/I/AAAAoARz8z8AAAAgGfr3PwAAAGCjYPQ/AAAAICPu8z8AAACASpf3PwAAAEAQG/A/AAAAwEm89T8AAACAWtH5PwAAAICZS/Y/AAAAwPUF+D8AAAAg6rr7PwAAAIDWG/c/AAAAQN339T8AAAAgYqP3PwAAAMCdg/k/AAAAAEMN+z8AAAAAdYb+PwAAAACtS/c/AAAAQKOo9j8AAAAA45L4PwAAAGDenfY/AAAAgJmp5D8AAAAAJyD7PwAAAAAJrPs/AAAAwBhY5T8AAACAyUv6PwAAAGBgnvw/AAAAoDgd+z8AAACg5NL0PwAAAECV2uQ/AAAA4CoU/D8AAABAp4X6PwAAAACoHfQ/",
                    "dtype": "f8"
                  },
                  "y0": " ",
                  "yaxis": "y"
                },
                {
                  "alignmentgroup": "True",
                  "boxpoints": "all",
                  "hovertemplate": "model=similarity_merge<br>layer=%{x}<br>entropy=%{y}<extra></extra>",
                  "legendgroup": "similarity_merge",
                  "marker": {
                    "color": "#00cc96"
                  },
                  "name": "similarity_merge",
                  "notched": false,
                  "offsetgroup": "similarity_merge",
                  "orientation": "v",
                  "showlegend": true,
                  "type": "box",
                  "x": {
                    "bdata": "AAAAAAAAAAAAAAAAAQEBAQEBAQEBAQEBAgICAgICAgICAgICAwMDAwMDAwMDAwMDBAQEBAQEBAQEBAQEBQUFBQUFBQUFBQUFBgYGBgYGBgYGBgYGBwcHBwcHBwcHBwcHCAgICAgICAgICAgICQkJCQkJCQkJCQkJCgoKCgoKCgoKCgoKCwsLCwsLCwsLCwsL",
                    "dtype": "i1"
                  },
                  "x0": " ",
                  "xaxis": "x",
                  "y": {
                    "bdata": "AAAAIKWw/T8AAAAgTzIAQAAAAECOUvs/AAAAQOyE+D8AAADANY0AQAAAAAA95/8/AAAAwGdV9z8AAADgnpz6PwAAAKC4H/A/AAAA4I3i+z8AAABAsB0AQAAAAOBBXf8/AAAAYMjS4z8AAABAFk/0PwAAAGDZjeE/AAAAoLSp7z8AAAAgoobfPwAAAOCRH+o/AAAAQIHz5j8AAABAOY/gPwAAAOBpmMY/AAAAAPmv8j8AAABgyI/zPwAAACAA5OI/AAAAoPil3D8AAADArefgPwAAAMAlZuM/AAAAwCj96T8AAABgFFPcPwAAAMClKMM/AAAAwGAs2j8AAAAgVWrnPwAAAGDwnNk/AAAAgJ/99T8AAACg9/vqPwAAAAC5rcY/AAAAwK1G1z8AAACAktzWPwAAAACdhsU/AAAAYJUT6j8AAADApd3FPwAAACDth7w/AAAAoAiX4D8AAABgfzHvPwAAAAALado/AAAAAGbn4z8AAABA39LqPwAAAIAeyto/AAAAoOe58D8AAAAgtjHtPwAAAID8YuQ/AAAAABjUzj8AAABg1kDgPwAAAECKK+I/AAAAAH2n9j8AAAAg7UywPwAAACB+Q/A/AAAAQGP26D8AAABgR3j1PwAAAAAeguI/AAAAIF3X8T8AAABg7dDkPwAAAKCat/A/AAAAIF3h6j8AAAAgWhTjPwAAAKD05+k/AAAA4NWc7D8AAACg6sHwPwAAAEDYzOk/AAAAAAfp6T8AAACgzLHyPwAAAICZJfA/AAAAwB226z8AAADAcDzrPwAAAAALndI/AAAAQHKN8D8AAACA8YvtPwAAACDeq+Q/AAAAQHtU7D8AAACANVP0PwAAAIBj8OY/AAAAwLcv7T8AAADAOGTmPwAAAOBbjNM/AAAAIJoD6z8AAABAoLDePwAAACALeuY/AAAAQAi44z8AAABgo+3vPwAAAEAYE+0/AAAAwHrc8T8AAADgEuHuPwAAAEBg8u4/AAAAQGth5D8AAABgQO/tPwAAAODytdk/AAAAoAD04T8AAAAAaO3xPwAAAOCF9e0/AAAA4OIm9D8AAABgrffyPwAAACDZttQ/AAAAoATS8z8AAABgK47vPwAAAAATveQ/AAAAoDSS7z8AAABAeK7yPwAAAABGE/A/AAAAAAWp7j8AAADArZDwPwAAAEAYyvE/AAAAwPUH8z8AAABAw6r3PwAAAODpk/Q/AAAAAI1q8z8AAABA/T73PwAAAMDty+8/AAAA4K5s9T8AAACAPRT6PwAAACBq4/U/AAAAIALM9z8AAADgkkj7PwAAAIA5LvY/AAAAoA6c9T8AAABgkTX3PwAAAACsJPk/AAAAYIjr+j8AAADgXWT+PwAAAMC4Nvc/AAAAQDR39j8AAABgJ4z4PwAAAAChnfY/AAAAQFrE5D8AAADgVvn6PwAAAECAH/w/AAAAgHdc5T8AAACgQlP6PwAAACCmZfw/AAAAQHy7+j8AAADg95/0PwAAAMADAuU/AAAAoO86/D8AAADAaK36PwAAAKDlrfM/",
                    "dtype": "f8"
                  },
                  "y0": " ",
                  "yaxis": "y"
                },
                {
                  "alignmentgroup": "True",
                  "boxpoints": "all",
                  "hovertemplate": "model=task_arithmetic<br>layer=%{x}<br>entropy=%{y}<extra></extra>",
                  "legendgroup": "task_arithmetic",
                  "marker": {
                    "color": "#ab63fa"
                  },
                  "name": "task_arithmetic",
                  "notched": false,
                  "offsetgroup": "task_arithmetic",
                  "orientation": "v",
                  "showlegend": true,
                  "type": "box",
                  "x": {
                    "bdata": "AAAAAAAAAAAAAAAAAQEBAQEBAQEBAQEBAgICAgICAgICAgICAwMDAwMDAwMDAwMDBAQEBAQEBAQEBAQEBQUFBQUFBQUFBQUFBgYGBgYGBgYGBgYGBwcHBwcHBwcHBwcHCAgICAgICAgICAgICQkJCQkJCQkJCQkJCgoKCgoKCgoKCgoKCwsLCwsLCwsLCwsL",
                    "dtype": "i1"
                  },
                  "x0": " ",
                  "xaxis": "x",
                  "y": {
                    "bdata": "AAAAoE6z/T8AAAAg0yoAQAAAAOCWT/s/AAAAYOd9+D8AAADAsIMAQAAAAIBh7/8/AAAAwEM29z8AAABg1Hr6PwAAAKCVB/A/AAAAQGTR+z8AAABgBSoAQAAAAAATZP8/AAAAAHHz5D8AAAAAeqD2PwAAAEAjDOY/AAAAwChw7z8AAACAKHDhPwAAAID+G+o/AAAAQNa55z8AAABAS6PgPwAAAIDic8w/AAAAgLA18z8AAACAMuDzPwAAAAD9EuQ/AAAAIKai3D8AAABgew3gPwAAAOD1gOM/AAAAgBZ06T8AAACgUrPaPwAAAMApq8M/AAAAYDVc2T8AAADATJnoPwAAAMAAkNc/AAAAQE2h9T8AAAAAYebmPwAAAMD1RsY/AAAAYHUC2T8AAABgi23XPwAAAMDfEcU/AAAAQIYR6z8AAADgbVfDPwAAAMDDDbo/AAAAoF8H4j8AAAAAc8fuPwAAAEACbdo/AAAAQG9W4z8AAABAwFLsPwAAAECvgNs/AAAAABei7j8AAADgNvfrPwAAAAAbXeQ/AAAAYDl+yD8AAADAuILePwAAAEA5FuA/AAAAQNfO9T8AAABgFSasPwAAAOAVYvA/AAAAIEYt5z8AAACAoyX2PwAAAGCZiuQ/AAAAIGrI8T8AAACAHw7kPwAAAOAVJPE/AAAA4Mk+6z8AAADAUGPhPwAAAIDsFug/AAAAYAMf6j8AAABA9FfxPwAAAOCq2eg/AAAA4EKg6T8AAACAlFXyPwAAAIB6Je8/AAAAoKLT7z8AAAAALNHpPwAAAOBnedQ/AAAAwED88D8AAACAnensPwAAAOArKeY/AAAAYMS86j8AAACAL/30PwAAAOA2iOY/AAAAYJn87T8AAADA+f7nPwAAAGCO99U/AAAAADCW6T8AAABAcNbhPwAAAGDtu+U/AAAAALmn5T8AAAAAr2fxPwAAAGCdHO8/AAAAgK8w8j8AAABA7+HvPwAAAMBt3/A/AAAAQDAW4z8AAABA8zPuPwAAAAAIrdo/AAAAwMto5D8AAACgoRHxPwAAAKB6u+o/AAAAoGVT8j8AAABgAyTxPwAAAMBZRs8/AAAAAFdf8j8AAACAqXDvPwAAACDKXuA/AAAAoKYe7D8AAADARNzwPwAAAIAiu+w/AAAA4L7r7j8AAABAIC3tPwAAAACtdPE/AAAAAE5U8T8AAADAkZv2PwAAAMDEWfA/AAAAwMLQ8z8AAABAQOj1PwAAAIAWr+o/AAAAYGHG8z8AAACg0x35PwAAAKDTH/M/AAAA4NLT9T8AAADgkRH8PwAAAACTC/Y/AAAAwAD+8z8AAACghr72PwAAAGC49/c/AAAAQIjz9j8AAACAISb9PwAAAKDAC/Y/AAAAwO5l9T8AAABgQlb3PwAAAAAbRfU/AAAAgJtf8D8AAADACFH6PwAAAKCs2vs/AAAAgPWh8D8AAACA7dL6PwAAAEBsBv0/AAAAAFlT/D8AAAAgo2D3PwAAAOB7b/A/AAAAIB6q+z8AAADgZkL7PwAAAICIcfY/",
                    "dtype": "f8"
                  },
                  "y0": " ",
                  "yaxis": "y"
                }
              ],
              "layout": {
                "boxmode": "group",
                "legend": {
                  "title": {
                    "text": "model"
                  },
                  "tracegroupgap": 0
                },
                "template": {
                  "data": {
                    "bar": [
                      {
                        "error_x": {
                          "color": "#2a3f5f"
                        },
                        "error_y": {
                          "color": "#2a3f5f"
                        },
                        "marker": {
                          "line": {
                            "color": "#E5ECF6",
                            "width": 0.5
                          },
                          "pattern": {
                            "fillmode": "overlay",
                            "size": 10,
                            "solidity": 0.2
                          }
                        },
                        "type": "bar"
                      }
                    ],
                    "barpolar": [
                      {
                        "marker": {
                          "line": {
                            "color": "#E5ECF6",
                            "width": 0.5
                          },
                          "pattern": {
                            "fillmode": "overlay",
                            "size": 10,
                            "solidity": 0.2
                          }
                        },
                        "type": "barpolar"
                      }
                    ],
                    "carpet": [
                      {
                        "aaxis": {
                          "endlinecolor": "#2a3f5f",
                          "gridcolor": "white",
                          "linecolor": "white",
                          "minorgridcolor": "white",
                          "startlinecolor": "#2a3f5f"
                        },
                        "baxis": {
                          "endlinecolor": "#2a3f5f",
                          "gridcolor": "white",
                          "linecolor": "white",
                          "minorgridcolor": "white",
                          "startlinecolor": "#2a3f5f"
                        },
                        "type": "carpet"
                      }
                    ],
                    "choropleth": [
                      {
                        "colorbar": {
                          "outlinewidth": 0,
                          "ticks": ""
                        },
                        "type": "choropleth"
                      }
                    ],
                    "contour": [
                      {
                        "colorbar": {
                          "outlinewidth": 0,
                          "ticks": ""
                        },
                        "colorscale": [
                          [
                            0,
                            "#0d0887"
                          ],
                          [
                            0.1111111111111111,
                            "#46039f"
                          ],
                          [
                            0.2222222222222222,
                            "#7201a8"
                          ],
                          [
                            0.3333333333333333,
                            "#9c179e"
                          ],
                          [
                            0.4444444444444444,
                            "#bd3786"
                          ],
                          [
                            0.5555555555555556,
                            "#d8576b"
                          ],
                          [
                            0.6666666666666666,
                            "#ed7953"
                          ],
                          [
                            0.7777777777777778,
                            "#fb9f3a"
                          ],
                          [
                            0.8888888888888888,
                            "#fdca26"
                          ],
                          [
                            1,
                            "#f0f921"
                          ]
                        ],
                        "type": "contour"
                      }
                    ],
                    "contourcarpet": [
                      {
                        "colorbar": {
                          "outlinewidth": 0,
                          "ticks": ""
                        },
                        "type": "contourcarpet"
                      }
                    ],
                    "heatmap": [
                      {
                        "colorbar": {
                          "outlinewidth": 0,
                          "ticks": ""
                        },
                        "colorscale": [
                          [
                            0,
                            "#0d0887"
                          ],
                          [
                            0.1111111111111111,
                            "#46039f"
                          ],
                          [
                            0.2222222222222222,
                            "#7201a8"
                          ],
                          [
                            0.3333333333333333,
                            "#9c179e"
                          ],
                          [
                            0.4444444444444444,
                            "#bd3786"
                          ],
                          [
                            0.5555555555555556,
                            "#d8576b"
                          ],
                          [
                            0.6666666666666666,
                            "#ed7953"
                          ],
                          [
                            0.7777777777777778,
                            "#fb9f3a"
                          ],
                          [
                            0.8888888888888888,
                            "#fdca26"
                          ],
                          [
                            1,
                            "#f0f921"
                          ]
                        ],
                        "type": "heatmap"
                      }
                    ],
                    "histogram": [
                      {
                        "marker": {
                          "pattern": {
                            "fillmode": "overlay",
                            "size": 10,
                            "solidity": 0.2
                          }
                        },
                        "type": "histogram"
                      }
                    ],
                    "histogram2d": [
                      {
                        "colorbar": {
                          "outlinewidth": 0,
                          "ticks": ""
                        },
                        "colorscale": [
                          [
                            0,
                            "#0d0887"
                          ],
                          [
                            0.1111111111111111,
                            "#46039f"
                          ],
                          [
                            0.2222222222222222,
                            "#7201a8"
                          ],
                          [
                            0.3333333333333333,
                            "#9c179e"
                          ],
                          [
                            0.4444444444444444,
                            "#bd3786"
                          ],
                          [
                            0.5555555555555556,
                            "#d8576b"
                          ],
                          [
                            0.6666666666666666,
                            "#ed7953"
                          ],
                          [
                            0.7777777777777778,
                            "#fb9f3a"
                          ],
                          [
                            0.8888888888888888,
                            "#fdca26"
                          ],
                          [
                            1,
                            "#f0f921"
                          ]
                        ],
                        "type": "histogram2d"
                      }
                    ],
                    "histogram2dcontour": [
                      {
                        "colorbar": {
                          "outlinewidth": 0,
                          "ticks": ""
                        },
                        "colorscale": [
                          [
                            0,
                            "#0d0887"
                          ],
                          [
                            0.1111111111111111,
                            "#46039f"
                          ],
                          [
                            0.2222222222222222,
                            "#7201a8"
                          ],
                          [
                            0.3333333333333333,
                            "#9c179e"
                          ],
                          [
                            0.4444444444444444,
                            "#bd3786"
                          ],
                          [
                            0.5555555555555556,
                            "#d8576b"
                          ],
                          [
                            0.6666666666666666,
                            "#ed7953"
                          ],
                          [
                            0.7777777777777778,
                            "#fb9f3a"
                          ],
                          [
                            0.8888888888888888,
                            "#fdca26"
                          ],
                          [
                            1,
                            "#f0f921"
                          ]
                        ],
                        "type": "histogram2dcontour"
                      }
                    ],
                    "mesh3d": [
                      {
                        "colorbar": {
                          "outlinewidth": 0,
                          "ticks": ""
                        },
                        "type": "mesh3d"
                      }
                    ],
                    "parcoords": [
                      {
                        "line": {
                          "colorbar": {
                            "outlinewidth": 0,
                            "ticks": ""
                          }
                        },
                        "type": "parcoords"
                      }
                    ],
                    "pie": [
                      {
                        "automargin": true,
                        "type": "pie"
                      }
                    ],
                    "scatter": [
                      {
                        "fillpattern": {
                          "fillmode": "overlay",
                          "size": 10,
                          "solidity": 0.2
                        },
                        "type": "scatter"
                      }
                    ],
                    "scatter3d": [
                      {
                        "line": {
                          "colorbar": {
                            "outlinewidth": 0,
                            "ticks": ""
                          }
                        },
                        "marker": {
                          "colorbar": {
                            "outlinewidth": 0,
                            "ticks": ""
                          }
                        },
                        "type": "scatter3d"
                      }
                    ],
                    "scattercarpet": [
                      {
                        "marker": {
                          "colorbar": {
                            "outlinewidth": 0,
                            "ticks": ""
                          }
                        },
                        "type": "scattercarpet"
                      }
                    ],
                    "scattergeo": [
                      {
                        "marker": {
                          "colorbar": {
                            "outlinewidth": 0,
                            "ticks": ""
                          }
                        },
                        "type": "scattergeo"
                      }
                    ],
                    "scattergl": [
                      {
                        "marker": {
                          "colorbar": {
                            "outlinewidth": 0,
                            "ticks": ""
                          }
                        },
                        "type": "scattergl"
                      }
                    ],
                    "scattermap": [
                      {
                        "marker": {
                          "colorbar": {
                            "outlinewidth": 0,
                            "ticks": ""
                          }
                        },
                        "type": "scattermap"
                      }
                    ],
                    "scattermapbox": [
                      {
                        "marker": {
                          "colorbar": {
                            "outlinewidth": 0,
                            "ticks": ""
                          }
                        },
                        "type": "scattermapbox"
                      }
                    ],
                    "scatterpolar": [
                      {
                        "marker": {
                          "colorbar": {
                            "outlinewidth": 0,
                            "ticks": ""
                          }
                        },
                        "type": "scatterpolar"
                      }
                    ],
                    "scatterpolargl": [
                      {
                        "marker": {
                          "colorbar": {
                            "outlinewidth": 0,
                            "ticks": ""
                          }
                        },
                        "type": "scatterpolargl"
                      }
                    ],
                    "scatterternary": [
                      {
                        "marker": {
                          "colorbar": {
                            "outlinewidth": 0,
                            "ticks": ""
                          }
                        },
                        "type": "scatterternary"
                      }
                    ],
                    "surface": [
                      {
                        "colorbar": {
                          "outlinewidth": 0,
                          "ticks": ""
                        },
                        "colorscale": [
                          [
                            0,
                            "#0d0887"
                          ],
                          [
                            0.1111111111111111,
                            "#46039f"
                          ],
                          [
                            0.2222222222222222,
                            "#7201a8"
                          ],
                          [
                            0.3333333333333333,
                            "#9c179e"
                          ],
                          [
                            0.4444444444444444,
                            "#bd3786"
                          ],
                          [
                            0.5555555555555556,
                            "#d8576b"
                          ],
                          [
                            0.6666666666666666,
                            "#ed7953"
                          ],
                          [
                            0.7777777777777778,
                            "#fb9f3a"
                          ],
                          [
                            0.8888888888888888,
                            "#fdca26"
                          ],
                          [
                            1,
                            "#f0f921"
                          ]
                        ],
                        "type": "surface"
                      }
                    ],
                    "table": [
                      {
                        "cells": {
                          "fill": {
                            "color": "#EBF0F8"
                          },
                          "line": {
                            "color": "white"
                          }
                        },
                        "header": {
                          "fill": {
                            "color": "#C8D4E3"
                          },
                          "line": {
                            "color": "white"
                          }
                        },
                        "type": "table"
                      }
                    ]
                  },
                  "layout": {
                    "annotationdefaults": {
                      "arrowcolor": "#2a3f5f",
                      "arrowhead": 0,
                      "arrowwidth": 1
                    },
                    "autotypenumbers": "strict",
                    "coloraxis": {
                      "colorbar": {
                        "outlinewidth": 0,
                        "ticks": ""
                      }
                    },
                    "colorscale": {
                      "diverging": [
                        [
                          0,
                          "#8e0152"
                        ],
                        [
                          0.1,
                          "#c51b7d"
                        ],
                        [
                          0.2,
                          "#de77ae"
                        ],
                        [
                          0.3,
                          "#f1b6da"
                        ],
                        [
                          0.4,
                          "#fde0ef"
                        ],
                        [
                          0.5,
                          "#f7f7f7"
                        ],
                        [
                          0.6,
                          "#e6f5d0"
                        ],
                        [
                          0.7,
                          "#b8e186"
                        ],
                        [
                          0.8,
                          "#7fbc41"
                        ],
                        [
                          0.9,
                          "#4d9221"
                        ],
                        [
                          1,
                          "#276419"
                        ]
                      ],
                      "sequential": [
                        [
                          0,
                          "#0d0887"
                        ],
                        [
                          0.1111111111111111,
                          "#46039f"
                        ],
                        [
                          0.2222222222222222,
                          "#7201a8"
                        ],
                        [
                          0.3333333333333333,
                          "#9c179e"
                        ],
                        [
                          0.4444444444444444,
                          "#bd3786"
                        ],
                        [
                          0.5555555555555556,
                          "#d8576b"
                        ],
                        [
                          0.6666666666666666,
                          "#ed7953"
                        ],
                        [
                          0.7777777777777778,
                          "#fb9f3a"
                        ],
                        [
                          0.8888888888888888,
                          "#fdca26"
                        ],
                        [
                          1,
                          "#f0f921"
                        ]
                      ],
                      "sequentialminus": [
                        [
                          0,
                          "#0d0887"
                        ],
                        [
                          0.1111111111111111,
                          "#46039f"
                        ],
                        [
                          0.2222222222222222,
                          "#7201a8"
                        ],
                        [
                          0.3333333333333333,
                          "#9c179e"
                        ],
                        [
                          0.4444444444444444,
                          "#bd3786"
                        ],
                        [
                          0.5555555555555556,
                          "#d8576b"
                        ],
                        [
                          0.6666666666666666,
                          "#ed7953"
                        ],
                        [
                          0.7777777777777778,
                          "#fb9f3a"
                        ],
                        [
                          0.8888888888888888,
                          "#fdca26"
                        ],
                        [
                          1,
                          "#f0f921"
                        ]
                      ]
                    },
                    "colorway": [
                      "#636efa",
                      "#EF553B",
                      "#00cc96",
                      "#ab63fa",
                      "#FFA15A",
                      "#19d3f3",
                      "#FF6692",
                      "#B6E880",
                      "#FF97FF",
                      "#FECB52"
                    ],
                    "font": {
                      "color": "#2a3f5f"
                    },
                    "geo": {
                      "bgcolor": "white",
                      "lakecolor": "white",
                      "landcolor": "#E5ECF6",
                      "showlakes": true,
                      "showland": true,
                      "subunitcolor": "white"
                    },
                    "hoverlabel": {
                      "align": "left"
                    },
                    "hovermode": "closest",
                    "mapbox": {
                      "style": "light"
                    },
                    "paper_bgcolor": "white",
                    "plot_bgcolor": "#E5ECF6",
                    "polar": {
                      "angularaxis": {
                        "gridcolor": "white",
                        "linecolor": "white",
                        "ticks": ""
                      },
                      "bgcolor": "#E5ECF6",
                      "radialaxis": {
                        "gridcolor": "white",
                        "linecolor": "white",
                        "ticks": ""
                      }
                    },
                    "scene": {
                      "xaxis": {
                        "backgroundcolor": "#E5ECF6",
                        "gridcolor": "white",
                        "gridwidth": 2,
                        "linecolor": "white",
                        "showbackground": true,
                        "ticks": "",
                        "zerolinecolor": "white"
                      },
                      "yaxis": {
                        "backgroundcolor": "#E5ECF6",
                        "gridcolor": "white",
                        "gridwidth": 2,
                        "linecolor": "white",
                        "showbackground": true,
                        "ticks": "",
                        "zerolinecolor": "white"
                      },
                      "zaxis": {
                        "backgroundcolor": "#E5ECF6",
                        "gridcolor": "white",
                        "gridwidth": 2,
                        "linecolor": "white",
                        "showbackground": true,
                        "ticks": "",
                        "zerolinecolor": "white"
                      }
                    },
                    "shapedefaults": {
                      "line": {
                        "color": "#2a3f5f"
                      }
                    },
                    "ternary": {
                      "aaxis": {
                        "gridcolor": "white",
                        "linecolor": "white",
                        "ticks": ""
                      },
                      "baxis": {
                        "gridcolor": "white",
                        "linecolor": "white",
                        "ticks": ""
                      },
                      "bgcolor": "#E5ECF6",
                      "caxis": {
                        "gridcolor": "white",
                        "linecolor": "white",
                        "ticks": ""
                      }
                    },
                    "title": {
                      "x": 0.05
                    },
                    "xaxis": {
                      "automargin": true,
                      "gridcolor": "white",
                      "linecolor": "white",
                      "ticks": "",
                      "title": {
                        "standoff": 15
                      },
                      "zerolinecolor": "white",
                      "zerolinewidth": 2
                    },
                    "yaxis": {
                      "automargin": true,
                      "gridcolor": "white",
                      "linecolor": "white",
                      "ticks": "",
                      "title": {
                        "standoff": 15
                      },
                      "zerolinecolor": "white",
                      "zerolinewidth": 2
                    }
                  }
                },
                "title": {
                  "text": "Attention entropy by layer"
                },
                "xaxis": {
                  "anchor": "y",
                  "domain": [
                    0,
                    1
                  ],
                  "title": {
                    "text": "layer"
                  }
                },
                "yaxis": {
                  "anchor": "x",
                  "domain": [
                    0,
                    1
                  ],
                  "title": {
                    "text": "entropy"
                  }
                }
              }
            }
          },
          "metadata": {},
          "output_type": "display_data"
        },
        {
          "data": {
            "application/vnd.plotly.v1+json": {
              "config": {
                "plotlyServerURL": "https://plot.ly"
              },
              "data": [
                {
                  "hovertemplate": "model=average_merge<br>layer=%{x}<br>cls_focus=%{y}<extra></extra>",
                  "legendgroup": "average_merge",
                  "line": {
                    "color": "#636efa",
                    "dash": "solid"
                  },
                  "marker": {
                    "symbol": "circle"
                  },
                  "mode": "lines+markers",
                  "name": "average_merge",
                  "orientation": "v",
                  "showlegend": true,
                  "type": "scatter",
                  "x": {
                    "bdata": "AAECAwQFBgcICQoL",
                    "dtype": "i1"
                  },
                  "xaxis": "x",
                  "y": {
                    "bdata": "VVVVuflbvz9VVVUpBKfkP1VVVSGZnOY/q6rqs13H5z8AAACuf0fmPwAAANgRQeQ/VVVV9UCS5j9VVVVdE8bnP6uqqkLAXeQ/AAAAtF571T8AAADkHczAPwAAAJE/e9Y/",
                    "dtype": "f8"
                  },
                  "yaxis": "y"
                },
                {
                  "hovertemplate": "model=baseline<br>layer=%{x}<br>cls_focus=%{y}<extra></extra>",
                  "legendgroup": "baseline",
                  "line": {
                    "color": "#EF553B",
                    "dash": "solid"
                  },
                  "marker": {
                    "symbol": "circle"
                  },
                  "mode": "lines+markers",
                  "name": "baseline",
                  "orientation": "v",
                  "showlegend": true,
                  "type": "scatter",
                  "x": {
                    "bdata": "AAECAwQFBgcICQoL",
                    "dtype": "i1"
                  },
                  "xaxis": "x",
                  "y": {
                    "bdata": "VVVV+17gwD8AAABwivHhP1VVVadH3+U/AAAAoPkP6D8AAKAZD+bnP1VVVf1OAeU/AAAA+OV65T8AAACgbC3lP1VVVXUrA+U/VVVVQVVi4D9VVVVF33fcPwAAAEC1hNg/",
                    "dtype": "f8"
                  },
                  "yaxis": "y"
                },
                {
                  "hovertemplate": "model=similarity_merge<br>layer=%{x}<br>cls_focus=%{y}<extra></extra>",
                  "legendgroup": "similarity_merge",
                  "line": {
                    "color": "#00cc96",
                    "dash": "solid"
                  },
                  "marker": {
                    "symbol": "circle"
                  },
                  "mode": "lines+markers",
                  "name": "similarity_merge",
                  "orientation": "v",
                  "showlegend": true,
                  "type": "scatter",
                  "x": {
                    "bdata": "AAECAwQFBgcICQoL",
                    "dtype": "i1"
                  },
                  "xaxis": "x",
                  "y": {
                    "bdata": "VVVVUeCzvz+rqqpewb3kPwAAAGL3r+Y/q6rq3GTf5z+rqqomxj7mP6uqqioke+Q/q6qqGhep5j8AAADAm+7nP1VVVdXnQuQ/AAAA4Krt1T+rqqqejrLBP1VVVeg4W9Y/",
                    "dtype": "f8"
                  },
                  "yaxis": "y"
                },
                {
                  "hovertemplate": "model=task_arithmetic<br>layer=%{x}<br>cls_focus=%{y}<extra></extra>",
                  "legendgroup": "task_arithmetic",
                  "line": {
                    "color": "#ab63fa",
                    "dash": "solid"
                  },
                  "marker": {
                    "symbol": "circle"
                  },
                  "mode": "lines+markers",
                  "name": "task_arithmetic",
                  "orientation": "v",
                  "showlegend": true,
                  "type": "scatter",
                  "x": {
                    "bdata": "AAECAwQFBgcICQoL",
                    "dtype": "i1"
                  },
                  "xaxis": "x",
                  "y": {
                    "bdata": "VVVVBR+Mvz+rqqq8g7zjPwAAACCz+eY/AACAXjba5z+rqqrCApbmP6uqqsqbzuQ/AAAATP2Z5T9VVVVVNgjnP1VVVaEyGuU/AAAAUBcC1j9VVVU182TKP6uqqkYRldE/",
                    "dtype": "f8"
                  },
                  "yaxis": "y"
                }
              ],
              "layout": {
                "legend": {
                  "title": {
                    "text": "model"
                  },
                  "tracegroupgap": 0
                },
                "template": {
                  "data": {
                    "bar": [
                      {
                        "error_x": {
                          "color": "#2a3f5f"
                        },
                        "error_y": {
                          "color": "#2a3f5f"
                        },
                        "marker": {
                          "line": {
                            "color": "#E5ECF6",
                            "width": 0.5
                          },
                          "pattern": {
                            "fillmode": "overlay",
                            "size": 10,
                            "solidity": 0.2
                          }
                        },
                        "type": "bar"
                      }
                    ],
                    "barpolar": [
                      {
                        "marker": {
                          "line": {
                            "color": "#E5ECF6",
                            "width": 0.5
                          },
                          "pattern": {
                            "fillmode": "overlay",
                            "size": 10,
                            "solidity": 0.2
                          }
                        },
                        "type": "barpolar"
                      }
                    ],
                    "carpet": [
                      {
                        "aaxis": {
                          "endlinecolor": "#2a3f5f",
                          "gridcolor": "white",
                          "linecolor": "white",
                          "minorgridcolor": "white",
                          "startlinecolor": "#2a3f5f"
                        },
                        "baxis": {
                          "endlinecolor": "#2a3f5f",
                          "gridcolor": "white",
                          "linecolor": "white",
                          "minorgridcolor": "white",
                          "startlinecolor": "#2a3f5f"
                        },
                        "type": "carpet"
                      }
                    ],
                    "choropleth": [
                      {
                        "colorbar": {
                          "outlinewidth": 0,
                          "ticks": ""
                        },
                        "type": "choropleth"
                      }
                    ],
                    "contour": [
                      {
                        "colorbar": {
                          "outlinewidth": 0,
                          "ticks": ""
                        },
                        "colorscale": [
                          [
                            0,
                            "#0d0887"
                          ],
                          [
                            0.1111111111111111,
                            "#46039f"
                          ],
                          [
                            0.2222222222222222,
                            "#7201a8"
                          ],
                          [
                            0.3333333333333333,
                            "#9c179e"
                          ],
                          [
                            0.4444444444444444,
                            "#bd3786"
                          ],
                          [
                            0.5555555555555556,
                            "#d8576b"
                          ],
                          [
                            0.6666666666666666,
                            "#ed7953"
                          ],
                          [
                            0.7777777777777778,
                            "#fb9f3a"
                          ],
                          [
                            0.8888888888888888,
                            "#fdca26"
                          ],
                          [
                            1,
                            "#f0f921"
                          ]
                        ],
                        "type": "contour"
                      }
                    ],
                    "contourcarpet": [
                      {
                        "colorbar": {
                          "outlinewidth": 0,
                          "ticks": ""
                        },
                        "type": "contourcarpet"
                      }
                    ],
                    "heatmap": [
                      {
                        "colorbar": {
                          "outlinewidth": 0,
                          "ticks": ""
                        },
                        "colorscale": [
                          [
                            0,
                            "#0d0887"
                          ],
                          [
                            0.1111111111111111,
                            "#46039f"
                          ],
                          [
                            0.2222222222222222,
                            "#7201a8"
                          ],
                          [
                            0.3333333333333333,
                            "#9c179e"
                          ],
                          [
                            0.4444444444444444,
                            "#bd3786"
                          ],
                          [
                            0.5555555555555556,
                            "#d8576b"
                          ],
                          [
                            0.6666666666666666,
                            "#ed7953"
                          ],
                          [
                            0.7777777777777778,
                            "#fb9f3a"
                          ],
                          [
                            0.8888888888888888,
                            "#fdca26"
                          ],
                          [
                            1,
                            "#f0f921"
                          ]
                        ],
                        "type": "heatmap"
                      }
                    ],
                    "histogram": [
                      {
                        "marker": {
                          "pattern": {
                            "fillmode": "overlay",
                            "size": 10,
                            "solidity": 0.2
                          }
                        },
                        "type": "histogram"
                      }
                    ],
                    "histogram2d": [
                      {
                        "colorbar": {
                          "outlinewidth": 0,
                          "ticks": ""
                        },
                        "colorscale": [
                          [
                            0,
                            "#0d0887"
                          ],
                          [
                            0.1111111111111111,
                            "#46039f"
                          ],
                          [
                            0.2222222222222222,
                            "#7201a8"
                          ],
                          [
                            0.3333333333333333,
                            "#9c179e"
                          ],
                          [
                            0.4444444444444444,
                            "#bd3786"
                          ],
                          [
                            0.5555555555555556,
                            "#d8576b"
                          ],
                          [
                            0.6666666666666666,
                            "#ed7953"
                          ],
                          [
                            0.7777777777777778,
                            "#fb9f3a"
                          ],
                          [
                            0.8888888888888888,
                            "#fdca26"
                          ],
                          [
                            1,
                            "#f0f921"
                          ]
                        ],
                        "type": "histogram2d"
                      }
                    ],
                    "histogram2dcontour": [
                      {
                        "colorbar": {
                          "outlinewidth": 0,
                          "ticks": ""
                        },
                        "colorscale": [
                          [
                            0,
                            "#0d0887"
                          ],
                          [
                            0.1111111111111111,
                            "#46039f"
                          ],
                          [
                            0.2222222222222222,
                            "#7201a8"
                          ],
                          [
                            0.3333333333333333,
                            "#9c179e"
                          ],
                          [
                            0.4444444444444444,
                            "#bd3786"
                          ],
                          [
                            0.5555555555555556,
                            "#d8576b"
                          ],
                          [
                            0.6666666666666666,
                            "#ed7953"
                          ],
                          [
                            0.7777777777777778,
                            "#fb9f3a"
                          ],
                          [
                            0.8888888888888888,
                            "#fdca26"
                          ],
                          [
                            1,
                            "#f0f921"
                          ]
                        ],
                        "type": "histogram2dcontour"
                      }
                    ],
                    "mesh3d": [
                      {
                        "colorbar": {
                          "outlinewidth": 0,
                          "ticks": ""
                        },
                        "type": "mesh3d"
                      }
                    ],
                    "parcoords": [
                      {
                        "line": {
                          "colorbar": {
                            "outlinewidth": 0,
                            "ticks": ""
                          }
                        },
                        "type": "parcoords"
                      }
                    ],
                    "pie": [
                      {
                        "automargin": true,
                        "type": "pie"
                      }
                    ],
                    "scatter": [
                      {
                        "fillpattern": {
                          "fillmode": "overlay",
                          "size": 10,
                          "solidity": 0.2
                        },
                        "type": "scatter"
                      }
                    ],
                    "scatter3d": [
                      {
                        "line": {
                          "colorbar": {
                            "outlinewidth": 0,
                            "ticks": ""
                          }
                        },
                        "marker": {
                          "colorbar": {
                            "outlinewidth": 0,
                            "ticks": ""
                          }
                        },
                        "type": "scatter3d"
                      }
                    ],
                    "scattercarpet": [
                      {
                        "marker": {
                          "colorbar": {
                            "outlinewidth": 0,
                            "ticks": ""
                          }
                        },
                        "type": "scattercarpet"
                      }
                    ],
                    "scattergeo": [
                      {
                        "marker": {
                          "colorbar": {
                            "outlinewidth": 0,
                            "ticks": ""
                          }
                        },
                        "type": "scattergeo"
                      }
                    ],
                    "scattergl": [
                      {
                        "marker": {
                          "colorbar": {
                            "outlinewidth": 0,
                            "ticks": ""
                          }
                        },
                        "type": "scattergl"
                      }
                    ],
                    "scattermap": [
                      {
                        "marker": {
                          "colorbar": {
                            "outlinewidth": 0,
                            "ticks": ""
                          }
                        },
                        "type": "scattermap"
                      }
                    ],
                    "scattermapbox": [
                      {
                        "marker": {
                          "colorbar": {
                            "outlinewidth": 0,
                            "ticks": ""
                          }
                        },
                        "type": "scattermapbox"
                      }
                    ],
                    "scatterpolar": [
                      {
                        "marker": {
                          "colorbar": {
                            "outlinewidth": 0,
                            "ticks": ""
                          }
                        },
                        "type": "scatterpolar"
                      }
                    ],
                    "scatterpolargl": [
                      {
                        "marker": {
                          "colorbar": {
                            "outlinewidth": 0,
                            "ticks": ""
                          }
                        },
                        "type": "scatterpolargl"
                      }
                    ],
                    "scatterternary": [
                      {
                        "marker": {
                          "colorbar": {
                            "outlinewidth": 0,
                            "ticks": ""
                          }
                        },
                        "type": "scatterternary"
                      }
                    ],
                    "surface": [
                      {
                        "colorbar": {
                          "outlinewidth": 0,
                          "ticks": ""
                        },
                        "colorscale": [
                          [
                            0,
                            "#0d0887"
                          ],
                          [
                            0.1111111111111111,
                            "#46039f"
                          ],
                          [
                            0.2222222222222222,
                            "#7201a8"
                          ],
                          [
                            0.3333333333333333,
                            "#9c179e"
                          ],
                          [
                            0.4444444444444444,
                            "#bd3786"
                          ],
                          [
                            0.5555555555555556,
                            "#d8576b"
                          ],
                          [
                            0.6666666666666666,
                            "#ed7953"
                          ],
                          [
                            0.7777777777777778,
                            "#fb9f3a"
                          ],
                          [
                            0.8888888888888888,
                            "#fdca26"
                          ],
                          [
                            1,
                            "#f0f921"
                          ]
                        ],
                        "type": "surface"
                      }
                    ],
                    "table": [
                      {
                        "cells": {
                          "fill": {
                            "color": "#EBF0F8"
                          },
                          "line": {
                            "color": "white"
                          }
                        },
                        "header": {
                          "fill": {
                            "color": "#C8D4E3"
                          },
                          "line": {
                            "color": "white"
                          }
                        },
                        "type": "table"
                      }
                    ]
                  },
                  "layout": {
                    "annotationdefaults": {
                      "arrowcolor": "#2a3f5f",
                      "arrowhead": 0,
                      "arrowwidth": 1
                    },
                    "autotypenumbers": "strict",
                    "coloraxis": {
                      "colorbar": {
                        "outlinewidth": 0,
                        "ticks": ""
                      }
                    },
                    "colorscale": {
                      "diverging": [
                        [
                          0,
                          "#8e0152"
                        ],
                        [
                          0.1,
                          "#c51b7d"
                        ],
                        [
                          0.2,
                          "#de77ae"
                        ],
                        [
                          0.3,
                          "#f1b6da"
                        ],
                        [
                          0.4,
                          "#fde0ef"
                        ],
                        [
                          0.5,
                          "#f7f7f7"
                        ],
                        [
                          0.6,
                          "#e6f5d0"
                        ],
                        [
                          0.7,
                          "#b8e186"
                        ],
                        [
                          0.8,
                          "#7fbc41"
                        ],
                        [
                          0.9,
                          "#4d9221"
                        ],
                        [
                          1,
                          "#276419"
                        ]
                      ],
                      "sequential": [
                        [
                          0,
                          "#0d0887"
                        ],
                        [
                          0.1111111111111111,
                          "#46039f"
                        ],
                        [
                          0.2222222222222222,
                          "#7201a8"
                        ],
                        [
                          0.3333333333333333,
                          "#9c179e"
                        ],
                        [
                          0.4444444444444444,
                          "#bd3786"
                        ],
                        [
                          0.5555555555555556,
                          "#d8576b"
                        ],
                        [
                          0.6666666666666666,
                          "#ed7953"
                        ],
                        [
                          0.7777777777777778,
                          "#fb9f3a"
                        ],
                        [
                          0.8888888888888888,
                          "#fdca26"
                        ],
                        [
                          1,
                          "#f0f921"
                        ]
                      ],
                      "sequentialminus": [
                        [
                          0,
                          "#0d0887"
                        ],
                        [
                          0.1111111111111111,
                          "#46039f"
                        ],
                        [
                          0.2222222222222222,
                          "#7201a8"
                        ],
                        [
                          0.3333333333333333,
                          "#9c179e"
                        ],
                        [
                          0.4444444444444444,
                          "#bd3786"
                        ],
                        [
                          0.5555555555555556,
                          "#d8576b"
                        ],
                        [
                          0.6666666666666666,
                          "#ed7953"
                        ],
                        [
                          0.7777777777777778,
                          "#fb9f3a"
                        ],
                        [
                          0.8888888888888888,
                          "#fdca26"
                        ],
                        [
                          1,
                          "#f0f921"
                        ]
                      ]
                    },
                    "colorway": [
                      "#636efa",
                      "#EF553B",
                      "#00cc96",
                      "#ab63fa",
                      "#FFA15A",
                      "#19d3f3",
                      "#FF6692",
                      "#B6E880",
                      "#FF97FF",
                      "#FECB52"
                    ],
                    "font": {
                      "color": "#2a3f5f"
                    },
                    "geo": {
                      "bgcolor": "white",
                      "lakecolor": "white",
                      "landcolor": "#E5ECF6",
                      "showlakes": true,
                      "showland": true,
                      "subunitcolor": "white"
                    },
                    "hoverlabel": {
                      "align": "left"
                    },
                    "hovermode": "closest",
                    "mapbox": {
                      "style": "light"
                    },
                    "paper_bgcolor": "white",
                    "plot_bgcolor": "#E5ECF6",
                    "polar": {
                      "angularaxis": {
                        "gridcolor": "white",
                        "linecolor": "white",
                        "ticks": ""
                      },
                      "bgcolor": "#E5ECF6",
                      "radialaxis": {
                        "gridcolor": "white",
                        "linecolor": "white",
                        "ticks": ""
                      }
                    },
                    "scene": {
                      "xaxis": {
                        "backgroundcolor": "#E5ECF6",
                        "gridcolor": "white",
                        "gridwidth": 2,
                        "linecolor": "white",
                        "showbackground": true,
                        "ticks": "",
                        "zerolinecolor": "white"
                      },
                      "yaxis": {
                        "backgroundcolor": "#E5ECF6",
                        "gridcolor": "white",
                        "gridwidth": 2,
                        "linecolor": "white",
                        "showbackground": true,
                        "ticks": "",
                        "zerolinecolor": "white"
                      },
                      "zaxis": {
                        "backgroundcolor": "#E5ECF6",
                        "gridcolor": "white",
                        "gridwidth": 2,
                        "linecolor": "white",
                        "showbackground": true,
                        "ticks": "",
                        "zerolinecolor": "white"
                      }
                    },
                    "shapedefaults": {
                      "line": {
                        "color": "#2a3f5f"
                      }
                    },
                    "ternary": {
                      "aaxis": {
                        "gridcolor": "white",
                        "linecolor": "white",
                        "ticks": ""
                      },
                      "baxis": {
                        "gridcolor": "white",
                        "linecolor": "white",
                        "ticks": ""
                      },
                      "bgcolor": "#E5ECF6",
                      "caxis": {
                        "gridcolor": "white",
                        "linecolor": "white",
                        "ticks": ""
                      }
                    },
                    "title": {
                      "x": 0.05
                    },
                    "xaxis": {
                      "automargin": true,
                      "gridcolor": "white",
                      "linecolor": "white",
                      "ticks": "",
                      "title": {
                        "standoff": 15
                      },
                      "zerolinecolor": "white",
                      "zerolinewidth": 2
                    },
                    "yaxis": {
                      "automargin": true,
                      "gridcolor": "white",
                      "linecolor": "white",
                      "ticks": "",
                      "title": {
                        "standoff": 15
                      },
                      "zerolinecolor": "white",
                      "zerolinewidth": 2
                    }
                  }
                },
                "title": {
                  "text": "Average CLS attention focus"
                },
                "xaxis": {
                  "anchor": "y",
                  "domain": [
                    0,
                    1
                  ],
                  "title": {
                    "text": "layer"
                  }
                },
                "yaxis": {
                  "anchor": "x",
                  "domain": [
                    0,
                    1
                  ],
                  "title": {
                    "text": "cls_focus"
                  }
                }
              }
            }
          },
          "metadata": {},
          "output_type": "display_data"
        }
      ],
      "source": [
        "if not attention_df.empty:\n",
        "    fig = px.box(\n",
        "        attention_df,\n",
        "        x=\"layer\",\n",
        "        y=\"entropy\",\n",
        "        color=\"model\",\n",
        "        points=\"all\",\n",
        "        title=\"Attention entropy by layer\",\n",
        "    )\n",
        "    fig.show()\n",
        "\n",
        "    fig = px.line(\n",
        "        attention_df.groupby([\"model\", \"layer\"]).mean(numeric_only=True).reset_index(),\n",
        "        x=\"layer\",\n",
        "        y=\"cls_focus\",\n",
        "        color=\"model\",\n",
        "        markers=True,\n",
        "        title=\"Average CLS attention focus\",\n",
        "    )\n",
        "    fig.show()"
      ]
    },
    {
      "cell_type": "code",
      "execution_count": 12,
      "id": "2d2dfe04",
      "metadata": {},
      "outputs": [
        {
          "data": {
            "text/html": [
              "<div>\n",
              "<style scoped>\n",
              "    .dataframe tbody tr th:only-of-type {\n",
              "        vertical-align: middle;\n",
              "    }\n",
              "\n",
              "    .dataframe tbody tr th {\n",
              "        vertical-align: top;\n",
              "    }\n",
              "\n",
              "    .dataframe thead th {\n",
              "        text-align: right;\n",
              "    }\n",
              "</style>\n",
              "<table border=\"1\" class=\"dataframe\">\n",
              "  <thead>\n",
              "    <tr style=\"text-align: right;\">\n",
              "      <th></th>\n",
              "      <th>layer</th>\n",
              "      <th>mean_token_norm</th>\n",
              "      <th>max_token_norm</th>\n",
              "      <th>std_token_norm</th>\n",
              "      <th>sequence_mean_norm</th>\n",
              "      <th>model</th>\n",
              "    </tr>\n",
              "  </thead>\n",
              "  <tbody>\n",
              "    <tr>\n",
              "      <th>0</th>\n",
              "      <td>0</td>\n",
              "      <td>7.380787</td>\n",
              "      <td>11.204933</td>\n",
              "      <td>2.023041</td>\n",
              "      <td>7.380788</td>\n",
              "      <td>baseline</td>\n",
              "    </tr>\n",
              "    <tr>\n",
              "      <th>1</th>\n",
              "      <td>1</td>\n",
              "      <td>13.374461</td>\n",
              "      <td>25.361832</td>\n",
              "      <td>3.634429</td>\n",
              "      <td>13.374461</td>\n",
              "      <td>baseline</td>\n",
              "    </tr>\n",
              "    <tr>\n",
              "      <th>2</th>\n",
              "      <td>2</td>\n",
              "      <td>19.737471</td>\n",
              "      <td>26.350107</td>\n",
              "      <td>2.430503</td>\n",
              "      <td>19.737469</td>\n",
              "      <td>baseline</td>\n",
              "    </tr>\n",
              "    <tr>\n",
              "      <th>3</th>\n",
              "      <td>3</td>\n",
              "      <td>22.092606</td>\n",
              "      <td>26.272768</td>\n",
              "      <td>1.477553</td>\n",
              "      <td>22.092604</td>\n",
              "      <td>baseline</td>\n",
              "    </tr>\n",
              "    <tr>\n",
              "      <th>4</th>\n",
              "      <td>4</td>\n",
              "      <td>20.690840</td>\n",
              "      <td>26.799286</td>\n",
              "      <td>1.903008</td>\n",
              "      <td>20.690840</td>\n",
              "      <td>baseline</td>\n",
              "    </tr>\n",
              "  </tbody>\n",
              "</table>\n",
              "</div>"
            ],
            "text/plain": [
              "   layer  mean_token_norm  max_token_norm  std_token_norm  sequence_mean_norm  \\\n",
              "0      0         7.380787       11.204933        2.023041            7.380788   \n",
              "1      1        13.374461       25.361832        3.634429           13.374461   \n",
              "2      2        19.737471       26.350107        2.430503           19.737469   \n",
              "3      3        22.092606       26.272768        1.477553           22.092604   \n",
              "4      4        20.690840       26.799286        1.903008           20.690840   \n",
              "\n",
              "      model  \n",
              "0  baseline  \n",
              "1  baseline  \n",
              "2  baseline  \n",
              "3  baseline  \n",
              "4  baseline  "
            ]
          },
          "metadata": {},
          "output_type": "display_data"
        }
      ],
      "source": [
        "hidden_records = []\n",
        "for name, signal in signals.items():\n",
        "    hidden_states = signal.get(\"hidden_states\")\n",
        "    if not hidden_states:\n",
        "        continue\n",
        "    hidden_df = summarize_hidden_states(hidden_states)\n",
        "    hidden_df[\"model\"] = name\n",
        "    hidden_records.append(hidden_df)\n",
        "\n",
        "hidden_df = pd.concat(hidden_records, ignore_index=True) if hidden_records else pd.DataFrame()\n",
        "display(hidden_df.head())"
      ]
    },
    {
      "cell_type": "code",
      "execution_count": 13,
      "id": "bb5bd1a7",
      "metadata": {},
      "outputs": [
        {
          "data": {
            "application/vnd.plotly.v1+json": {
              "config": {
                "plotlyServerURL": "https://plot.ly"
              },
              "data": [
                {
                  "hovertemplate": "model=baseline<br>layer=%{x}<br>mean_token_norm=%{y}<extra></extra>",
                  "legendgroup": "baseline",
                  "line": {
                    "color": "#636efa",
                    "dash": "solid"
                  },
                  "marker": {
                    "symbol": "circle"
                  },
                  "mode": "lines+markers",
                  "name": "baseline",
                  "orientation": "v",
                  "showlegend": true,
                  "type": "scatter",
                  "x": {
                    "bdata": "AAECAwQFBgcICQoLDA==",
                    "dtype": "i1"
                  },
                  "xaxis": "x",
                  "y": {
                    "bdata": "AAAAIO2FHUAAAABgub8qQAAAAODKvDNAAAAAALUXNkAAAADg2rA0QAAAAGAFRDRAAAAAgK3GM0AAAADgbs8yQAAAAAD0pTRAAAAAgPzPNUAAAABAzP84QAAAAKBQKDhAAAAAQBGzM0A=",
                    "dtype": "f8"
                  },
                  "yaxis": "y"
                },
                {
                  "hovertemplate": "model=average_merge<br>layer=%{x}<br>mean_token_norm=%{y}<extra></extra>",
                  "legendgroup": "average_merge",
                  "line": {
                    "color": "#EF553B",
                    "dash": "solid"
                  },
                  "marker": {
                    "symbol": "circle"
                  },
                  "mode": "lines+markers",
                  "name": "average_merge",
                  "orientation": "v",
                  "showlegend": true,
                  "type": "scatter",
                  "x": {
                    "bdata": "AAECAwQFBgcICQoLDA==",
                    "dtype": "i1"
                  },
                  "xaxis": "x",
                  "y": {
                    "bdata": "AAAAoCqFHUAAAACgCrkqQAAAAMA3DTRAAAAAoFsqNkAAAABgfiA1QAAAAEDrcDVAAAAAQGRdNUAAAACAmo00QAAAAOC3UTZAAAAAgF2YN0AAAABANsc4QAAAAKBCwzdAAAAAwI8wM0A=",
                    "dtype": "f8"
                  },
                  "yaxis": "y"
                },
                {
                  "hovertemplate": "model=similarity_merge<br>layer=%{x}<br>mean_token_norm=%{y}<extra></extra>",
                  "legendgroup": "similarity_merge",
                  "line": {
                    "color": "#00cc96",
                    "dash": "solid"
                  },
                  "marker": {
                    "symbol": "circle"
                  },
                  "mode": "lines+markers",
                  "name": "similarity_merge",
                  "orientation": "v",
                  "showlegend": true,
                  "type": "scatter",
                  "x": {
                    "bdata": "AAECAwQFBgcICQoLDA==",
                    "dtype": "i1"
                  },
                  "xaxis": "x",
                  "y": {
                    "bdata": "AAAA4OKFHUAAAABAqroqQAAAAOCWBDRAAAAAQBQaNkAAAADgjBk1QAAAAEB2YTVAAAAAYAFdNUAAAAAg4I80QAAAAGCjVDZAAAAA4FeiN0AAAACAFsw4QAAAAOCN1DdAAAAAwIMwM0A=",
                    "dtype": "f8"
                  },
                  "yaxis": "y"
                },
                {
                  "hovertemplate": "model=task_arithmetic<br>layer=%{x}<br>mean_token_norm=%{y}<extra></extra>",
                  "legendgroup": "task_arithmetic",
                  "line": {
                    "color": "#ab63fa",
                    "dash": "solid"
                  },
                  "marker": {
                    "symbol": "circle"
                  },
                  "mode": "lines+markers",
                  "name": "task_arithmetic",
                  "orientation": "v",
                  "showlegend": true,
                  "type": "scatter",
                  "x": {
                    "bdata": "AAECAwQFBgcICQoLDA==",
                    "dtype": "i1"
                  },
                  "xaxis": "x",
                  "y": {
                    "bdata": "AAAAAESGHUAAAABgA7kqQAAAAKAF9DNAAAAAoJgFNkAAAADAER81QAAAAKDIJjVAAAAAQAfJNEAAAACA5OMzQAAAAEASoDVAAAAA4F53NkAAAADAf/Y4QAAAAICFIjhAAAAAIDBPM0A=",
                    "dtype": "f8"
                  },
                  "yaxis": "y"
                }
              ],
              "layout": {
                "legend": {
                  "title": {
                    "text": "model"
                  },
                  "tracegroupgap": 0
                },
                "template": {
                  "data": {
                    "bar": [
                      {
                        "error_x": {
                          "color": "#2a3f5f"
                        },
                        "error_y": {
                          "color": "#2a3f5f"
                        },
                        "marker": {
                          "line": {
                            "color": "#E5ECF6",
                            "width": 0.5
                          },
                          "pattern": {
                            "fillmode": "overlay",
                            "size": 10,
                            "solidity": 0.2
                          }
                        },
                        "type": "bar"
                      }
                    ],
                    "barpolar": [
                      {
                        "marker": {
                          "line": {
                            "color": "#E5ECF6",
                            "width": 0.5
                          },
                          "pattern": {
                            "fillmode": "overlay",
                            "size": 10,
                            "solidity": 0.2
                          }
                        },
                        "type": "barpolar"
                      }
                    ],
                    "carpet": [
                      {
                        "aaxis": {
                          "endlinecolor": "#2a3f5f",
                          "gridcolor": "white",
                          "linecolor": "white",
                          "minorgridcolor": "white",
                          "startlinecolor": "#2a3f5f"
                        },
                        "baxis": {
                          "endlinecolor": "#2a3f5f",
                          "gridcolor": "white",
                          "linecolor": "white",
                          "minorgridcolor": "white",
                          "startlinecolor": "#2a3f5f"
                        },
                        "type": "carpet"
                      }
                    ],
                    "choropleth": [
                      {
                        "colorbar": {
                          "outlinewidth": 0,
                          "ticks": ""
                        },
                        "type": "choropleth"
                      }
                    ],
                    "contour": [
                      {
                        "colorbar": {
                          "outlinewidth": 0,
                          "ticks": ""
                        },
                        "colorscale": [
                          [
                            0,
                            "#0d0887"
                          ],
                          [
                            0.1111111111111111,
                            "#46039f"
                          ],
                          [
                            0.2222222222222222,
                            "#7201a8"
                          ],
                          [
                            0.3333333333333333,
                            "#9c179e"
                          ],
                          [
                            0.4444444444444444,
                            "#bd3786"
                          ],
                          [
                            0.5555555555555556,
                            "#d8576b"
                          ],
                          [
                            0.6666666666666666,
                            "#ed7953"
                          ],
                          [
                            0.7777777777777778,
                            "#fb9f3a"
                          ],
                          [
                            0.8888888888888888,
                            "#fdca26"
                          ],
                          [
                            1,
                            "#f0f921"
                          ]
                        ],
                        "type": "contour"
                      }
                    ],
                    "contourcarpet": [
                      {
                        "colorbar": {
                          "outlinewidth": 0,
                          "ticks": ""
                        },
                        "type": "contourcarpet"
                      }
                    ],
                    "heatmap": [
                      {
                        "colorbar": {
                          "outlinewidth": 0,
                          "ticks": ""
                        },
                        "colorscale": [
                          [
                            0,
                            "#0d0887"
                          ],
                          [
                            0.1111111111111111,
                            "#46039f"
                          ],
                          [
                            0.2222222222222222,
                            "#7201a8"
                          ],
                          [
                            0.3333333333333333,
                            "#9c179e"
                          ],
                          [
                            0.4444444444444444,
                            "#bd3786"
                          ],
                          [
                            0.5555555555555556,
                            "#d8576b"
                          ],
                          [
                            0.6666666666666666,
                            "#ed7953"
                          ],
                          [
                            0.7777777777777778,
                            "#fb9f3a"
                          ],
                          [
                            0.8888888888888888,
                            "#fdca26"
                          ],
                          [
                            1,
                            "#f0f921"
                          ]
                        ],
                        "type": "heatmap"
                      }
                    ],
                    "histogram": [
                      {
                        "marker": {
                          "pattern": {
                            "fillmode": "overlay",
                            "size": 10,
                            "solidity": 0.2
                          }
                        },
                        "type": "histogram"
                      }
                    ],
                    "histogram2d": [
                      {
                        "colorbar": {
                          "outlinewidth": 0,
                          "ticks": ""
                        },
                        "colorscale": [
                          [
                            0,
                            "#0d0887"
                          ],
                          [
                            0.1111111111111111,
                            "#46039f"
                          ],
                          [
                            0.2222222222222222,
                            "#7201a8"
                          ],
                          [
                            0.3333333333333333,
                            "#9c179e"
                          ],
                          [
                            0.4444444444444444,
                            "#bd3786"
                          ],
                          [
                            0.5555555555555556,
                            "#d8576b"
                          ],
                          [
                            0.6666666666666666,
                            "#ed7953"
                          ],
                          [
                            0.7777777777777778,
                            "#fb9f3a"
                          ],
                          [
                            0.8888888888888888,
                            "#fdca26"
                          ],
                          [
                            1,
                            "#f0f921"
                          ]
                        ],
                        "type": "histogram2d"
                      }
                    ],
                    "histogram2dcontour": [
                      {
                        "colorbar": {
                          "outlinewidth": 0,
                          "ticks": ""
                        },
                        "colorscale": [
                          [
                            0,
                            "#0d0887"
                          ],
                          [
                            0.1111111111111111,
                            "#46039f"
                          ],
                          [
                            0.2222222222222222,
                            "#7201a8"
                          ],
                          [
                            0.3333333333333333,
                            "#9c179e"
                          ],
                          [
                            0.4444444444444444,
                            "#bd3786"
                          ],
                          [
                            0.5555555555555556,
                            "#d8576b"
                          ],
                          [
                            0.6666666666666666,
                            "#ed7953"
                          ],
                          [
                            0.7777777777777778,
                            "#fb9f3a"
                          ],
                          [
                            0.8888888888888888,
                            "#fdca26"
                          ],
                          [
                            1,
                            "#f0f921"
                          ]
                        ],
                        "type": "histogram2dcontour"
                      }
                    ],
                    "mesh3d": [
                      {
                        "colorbar": {
                          "outlinewidth": 0,
                          "ticks": ""
                        },
                        "type": "mesh3d"
                      }
                    ],
                    "parcoords": [
                      {
                        "line": {
                          "colorbar": {
                            "outlinewidth": 0,
                            "ticks": ""
                          }
                        },
                        "type": "parcoords"
                      }
                    ],
                    "pie": [
                      {
                        "automargin": true,
                        "type": "pie"
                      }
                    ],
                    "scatter": [
                      {
                        "fillpattern": {
                          "fillmode": "overlay",
                          "size": 10,
                          "solidity": 0.2
                        },
                        "type": "scatter"
                      }
                    ],
                    "scatter3d": [
                      {
                        "line": {
                          "colorbar": {
                            "outlinewidth": 0,
                            "ticks": ""
                          }
                        },
                        "marker": {
                          "colorbar": {
                            "outlinewidth": 0,
                            "ticks": ""
                          }
                        },
                        "type": "scatter3d"
                      }
                    ],
                    "scattercarpet": [
                      {
                        "marker": {
                          "colorbar": {
                            "outlinewidth": 0,
                            "ticks": ""
                          }
                        },
                        "type": "scattercarpet"
                      }
                    ],
                    "scattergeo": [
                      {
                        "marker": {
                          "colorbar": {
                            "outlinewidth": 0,
                            "ticks": ""
                          }
                        },
                        "type": "scattergeo"
                      }
                    ],
                    "scattergl": [
                      {
                        "marker": {
                          "colorbar": {
                            "outlinewidth": 0,
                            "ticks": ""
                          }
                        },
                        "type": "scattergl"
                      }
                    ],
                    "scattermap": [
                      {
                        "marker": {
                          "colorbar": {
                            "outlinewidth": 0,
                            "ticks": ""
                          }
                        },
                        "type": "scattermap"
                      }
                    ],
                    "scattermapbox": [
                      {
                        "marker": {
                          "colorbar": {
                            "outlinewidth": 0,
                            "ticks": ""
                          }
                        },
                        "type": "scattermapbox"
                      }
                    ],
                    "scatterpolar": [
                      {
                        "marker": {
                          "colorbar": {
                            "outlinewidth": 0,
                            "ticks": ""
                          }
                        },
                        "type": "scatterpolar"
                      }
                    ],
                    "scatterpolargl": [
                      {
                        "marker": {
                          "colorbar": {
                            "outlinewidth": 0,
                            "ticks": ""
                          }
                        },
                        "type": "scatterpolargl"
                      }
                    ],
                    "scatterternary": [
                      {
                        "marker": {
                          "colorbar": {
                            "outlinewidth": 0,
                            "ticks": ""
                          }
                        },
                        "type": "scatterternary"
                      }
                    ],
                    "surface": [
                      {
                        "colorbar": {
                          "outlinewidth": 0,
                          "ticks": ""
                        },
                        "colorscale": [
                          [
                            0,
                            "#0d0887"
                          ],
                          [
                            0.1111111111111111,
                            "#46039f"
                          ],
                          [
                            0.2222222222222222,
                            "#7201a8"
                          ],
                          [
                            0.3333333333333333,
                            "#9c179e"
                          ],
                          [
                            0.4444444444444444,
                            "#bd3786"
                          ],
                          [
                            0.5555555555555556,
                            "#d8576b"
                          ],
                          [
                            0.6666666666666666,
                            "#ed7953"
                          ],
                          [
                            0.7777777777777778,
                            "#fb9f3a"
                          ],
                          [
                            0.8888888888888888,
                            "#fdca26"
                          ],
                          [
                            1,
                            "#f0f921"
                          ]
                        ],
                        "type": "surface"
                      }
                    ],
                    "table": [
                      {
                        "cells": {
                          "fill": {
                            "color": "#EBF0F8"
                          },
                          "line": {
                            "color": "white"
                          }
                        },
                        "header": {
                          "fill": {
                            "color": "#C8D4E3"
                          },
                          "line": {
                            "color": "white"
                          }
                        },
                        "type": "table"
                      }
                    ]
                  },
                  "layout": {
                    "annotationdefaults": {
                      "arrowcolor": "#2a3f5f",
                      "arrowhead": 0,
                      "arrowwidth": 1
                    },
                    "autotypenumbers": "strict",
                    "coloraxis": {
                      "colorbar": {
                        "outlinewidth": 0,
                        "ticks": ""
                      }
                    },
                    "colorscale": {
                      "diverging": [
                        [
                          0,
                          "#8e0152"
                        ],
                        [
                          0.1,
                          "#c51b7d"
                        ],
                        [
                          0.2,
                          "#de77ae"
                        ],
                        [
                          0.3,
                          "#f1b6da"
                        ],
                        [
                          0.4,
                          "#fde0ef"
                        ],
                        [
                          0.5,
                          "#f7f7f7"
                        ],
                        [
                          0.6,
                          "#e6f5d0"
                        ],
                        [
                          0.7,
                          "#b8e186"
                        ],
                        [
                          0.8,
                          "#7fbc41"
                        ],
                        [
                          0.9,
                          "#4d9221"
                        ],
                        [
                          1,
                          "#276419"
                        ]
                      ],
                      "sequential": [
                        [
                          0,
                          "#0d0887"
                        ],
                        [
                          0.1111111111111111,
                          "#46039f"
                        ],
                        [
                          0.2222222222222222,
                          "#7201a8"
                        ],
                        [
                          0.3333333333333333,
                          "#9c179e"
                        ],
                        [
                          0.4444444444444444,
                          "#bd3786"
                        ],
                        [
                          0.5555555555555556,
                          "#d8576b"
                        ],
                        [
                          0.6666666666666666,
                          "#ed7953"
                        ],
                        [
                          0.7777777777777778,
                          "#fb9f3a"
                        ],
                        [
                          0.8888888888888888,
                          "#fdca26"
                        ],
                        [
                          1,
                          "#f0f921"
                        ]
                      ],
                      "sequentialminus": [
                        [
                          0,
                          "#0d0887"
                        ],
                        [
                          0.1111111111111111,
                          "#46039f"
                        ],
                        [
                          0.2222222222222222,
                          "#7201a8"
                        ],
                        [
                          0.3333333333333333,
                          "#9c179e"
                        ],
                        [
                          0.4444444444444444,
                          "#bd3786"
                        ],
                        [
                          0.5555555555555556,
                          "#d8576b"
                        ],
                        [
                          0.6666666666666666,
                          "#ed7953"
                        ],
                        [
                          0.7777777777777778,
                          "#fb9f3a"
                        ],
                        [
                          0.8888888888888888,
                          "#fdca26"
                        ],
                        [
                          1,
                          "#f0f921"
                        ]
                      ]
                    },
                    "colorway": [
                      "#636efa",
                      "#EF553B",
                      "#00cc96",
                      "#ab63fa",
                      "#FFA15A",
                      "#19d3f3",
                      "#FF6692",
                      "#B6E880",
                      "#FF97FF",
                      "#FECB52"
                    ],
                    "font": {
                      "color": "#2a3f5f"
                    },
                    "geo": {
                      "bgcolor": "white",
                      "lakecolor": "white",
                      "landcolor": "#E5ECF6",
                      "showlakes": true,
                      "showland": true,
                      "subunitcolor": "white"
                    },
                    "hoverlabel": {
                      "align": "left"
                    },
                    "hovermode": "closest",
                    "mapbox": {
                      "style": "light"
                    },
                    "paper_bgcolor": "white",
                    "plot_bgcolor": "#E5ECF6",
                    "polar": {
                      "angularaxis": {
                        "gridcolor": "white",
                        "linecolor": "white",
                        "ticks": ""
                      },
                      "bgcolor": "#E5ECF6",
                      "radialaxis": {
                        "gridcolor": "white",
                        "linecolor": "white",
                        "ticks": ""
                      }
                    },
                    "scene": {
                      "xaxis": {
                        "backgroundcolor": "#E5ECF6",
                        "gridcolor": "white",
                        "gridwidth": 2,
                        "linecolor": "white",
                        "showbackground": true,
                        "ticks": "",
                        "zerolinecolor": "white"
                      },
                      "yaxis": {
                        "backgroundcolor": "#E5ECF6",
                        "gridcolor": "white",
                        "gridwidth": 2,
                        "linecolor": "white",
                        "showbackground": true,
                        "ticks": "",
                        "zerolinecolor": "white"
                      },
                      "zaxis": {
                        "backgroundcolor": "#E5ECF6",
                        "gridcolor": "white",
                        "gridwidth": 2,
                        "linecolor": "white",
                        "showbackground": true,
                        "ticks": "",
                        "zerolinecolor": "white"
                      }
                    },
                    "shapedefaults": {
                      "line": {
                        "color": "#2a3f5f"
                      }
                    },
                    "ternary": {
                      "aaxis": {
                        "gridcolor": "white",
                        "linecolor": "white",
                        "ticks": ""
                      },
                      "baxis": {
                        "gridcolor": "white",
                        "linecolor": "white",
                        "ticks": ""
                      },
                      "bgcolor": "#E5ECF6",
                      "caxis": {
                        "gridcolor": "white",
                        "linecolor": "white",
                        "ticks": ""
                      }
                    },
                    "title": {
                      "x": 0.05
                    },
                    "xaxis": {
                      "automargin": true,
                      "gridcolor": "white",
                      "linecolor": "white",
                      "ticks": "",
                      "title": {
                        "standoff": 15
                      },
                      "zerolinecolor": "white",
                      "zerolinewidth": 2
                    },
                    "yaxis": {
                      "automargin": true,
                      "gridcolor": "white",
                      "linecolor": "white",
                      "ticks": "",
                      "title": {
                        "standoff": 15
                      },
                      "zerolinecolor": "white",
                      "zerolinewidth": 2
                    }
                  }
                },
                "title": {
                  "text": "Hidden state mean token norm"
                },
                "xaxis": {
                  "anchor": "y",
                  "domain": [
                    0,
                    1
                  ],
                  "title": {
                    "text": "layer"
                  }
                },
                "yaxis": {
                  "anchor": "x",
                  "domain": [
                    0,
                    1
                  ],
                  "title": {
                    "text": "mean_token_norm"
                  }
                }
              }
            }
          },
          "metadata": {},
          "output_type": "display_data"
        }
      ],
      "source": [
        "if not hidden_df.empty:\n",
        "    fig = px.line(\n",
        "        hidden_df,\n",
        "        x=\"layer\",\n",
        "        y=\"mean_token_norm\",\n",
        "        color=\"model\",\n",
        "        markers=True,\n",
        "        title=\"Hidden state mean token norm\",\n",
        "    )\n",
        "    fig.show()"
      ]
    },
    {
      "cell_type": "code",
      "execution_count": 14,
      "id": "ed44f644",
      "metadata": {},
      "outputs": [
        {
          "data": {
            "text/html": [
              "<div>\n",
              "<style scoped>\n",
              "    .dataframe tbody tr th:only-of-type {\n",
              "        vertical-align: middle;\n",
              "    }\n",
              "\n",
              "    .dataframe tbody tr th {\n",
              "        vertical-align: top;\n",
              "    }\n",
              "\n",
              "    .dataframe thead th {\n",
              "        text-align: right;\n",
              "    }\n",
              "</style>\n",
              "<table border=\"1\" class=\"dataframe\">\n",
              "  <thead>\n",
              "    <tr style=\"text-align: right;\">\n",
              "      <th></th>\n",
              "      <th>logit_mean</th>\n",
              "      <th>logit_std</th>\n",
              "      <th>confidence_mean</th>\n",
              "      <th>confidence_std</th>\n",
              "      <th>entropy_mean</th>\n",
              "      <th>model</th>\n",
              "    </tr>\n",
              "  </thead>\n",
              "  <tbody>\n",
              "    <tr>\n",
              "      <th>0</th>\n",
              "      <td>-0.032850</td>\n",
              "      <td>1.285094</td>\n",
              "      <td>0.801694</td>\n",
              "      <td>0.330875</td>\n",
              "      <td>0.901142</td>\n",
              "      <td>baseline</td>\n",
              "    </tr>\n",
              "    <tr>\n",
              "      <th>1</th>\n",
              "      <td>-0.020490</td>\n",
              "      <td>0.180669</td>\n",
              "      <td>0.034730</td>\n",
              "      <td>0.011277</td>\n",
              "      <td>4.072789</td>\n",
              "      <td>average_merge</td>\n",
              "    </tr>\n",
              "    <tr>\n",
              "      <th>2</th>\n",
              "      <td>-0.023369</td>\n",
              "      <td>0.198610</td>\n",
              "      <td>0.036771</td>\n",
              "      <td>0.011207</td>\n",
              "      <td>4.068335</td>\n",
              "      <td>similarity_merge</td>\n",
              "    </tr>\n",
              "    <tr>\n",
              "      <th>3</th>\n",
              "      <td>-0.011947</td>\n",
              "      <td>0.253103</td>\n",
              "      <td>0.053064</td>\n",
              "      <td>0.024963</td>\n",
              "      <td>4.041090</td>\n",
              "      <td>task_arithmetic</td>\n",
              "    </tr>\n",
              "  </tbody>\n",
              "</table>\n",
              "</div>"
            ],
            "text/plain": [
              "   logit_mean  logit_std  confidence_mean  confidence_std  entropy_mean  \\\n",
              "0   -0.032850   1.285094         0.801694        0.330875      0.901142   \n",
              "1   -0.020490   0.180669         0.034730        0.011277      4.072789   \n",
              "2   -0.023369   0.198610         0.036771        0.011207      4.068335   \n",
              "3   -0.011947   0.253103         0.053064        0.024963      4.041090   \n",
              "\n",
              "              model  \n",
              "0          baseline  \n",
              "1     average_merge  \n",
              "2  similarity_merge  \n",
              "3   task_arithmetic  "
            ]
          },
          "metadata": {},
          "output_type": "display_data"
        }
      ],
      "source": [
        "logit_rows = []\n",
        "for name, signal in signals.items():\n",
        "    stats = summarize_logits(signal[\"logits\"])\n",
        "    stats[\"model\"] = name\n",
        "    logit_rows.append(stats)\n",
        "\n",
        "logit_df = pd.DataFrame(logit_rows)\n",
        "display(logit_df)"
      ]
    },
    {
      "cell_type": "markdown",
      "id": "8f240c21",
      "metadata": {},
      "source": [
        "# Bahasa Indonesia"
      ]
    },
    {
      "cell_type": "code",
      "execution_count": 15,
      "id": "09cf5d93",
      "metadata": {},
      "outputs": [],
      "source": [
        "from collections import OrderedDict\n",
        "from pathlib import Path\n",
        "\n",
        "import pandas as pd\n",
        "import plotly.express as px\n",
        "import torch\n",
        "from IPython.display import display\n",
        "\n",
        "from merginguriel.analysis_helpers import (\n",
        "    aggregate_parameter_stats,\n",
        "    collect_model_signals,\n",
        "    compute_weight_deltas,\n",
        "    ensure_text_samples,\n",
        "    load_model_artifacts,\n",
        "    merge_models_in_memory,\n",
        "    summarize_attentions,\n",
        "    summarize_hidden_states,\n",
        "    summarize_logits,\n",
        ")\n",
        "from merginguriel.run_merging_pipeline_refactored import MergeConfig\n",
        "\n",
        "pd.set_option(\"display.max_rows\", 200)\n",
        "pd.set_option(\"display.max_columns\", 50)"
      ]
    },
    {
      "cell_type": "markdown",
      "id": "c9a3e630",
      "metadata": {},
      "source": [
        "## 1. Configure target & merge recipes\n",
        "\n",
        "Define the target locale, choose which base architecture to use, and list the merges to run on-the-fly. Adjust `MODEL_BASE_DIRS` if your checkpoints live elsewhere."
      ]
    },
    {
      "cell_type": "code",
      "execution_count": 16,
      "id": "b72d7e22",
      "metadata": {},
      "outputs": [],
      "source": [
        "PROJECT_ROOT = Path.cwd().resolve().parent\n",
        "\n",
        "TARGET_LOCALE = \"id-ID\"  # <-- change to the locale you want to inspect\n",
        "BASE_MODEL_NAME = \"xlm-roberta-base\"  # options: 'xlm-roberta-base', 'xlm-roberta-large'\n",
        "DEFAULT_NUM_LANGUAGES = 5\n",
        "\n",
        "MODEL_BASE_DIRS = {\n",
        "    \"xlm-roberta-base\": PROJECT_ROOT / \"haryos_model\",\n",
        "    \"xlm-roberta-large\": PROJECT_ROOT / \"haryos_model_large\",\n",
        "}\n",
        "\n",
        "BASE_DIR = MODEL_BASE_DIRS[BASE_MODEL_NAME]\n",
        "\n",
        "MODEL_SETUPS = OrderedDict({\n",
        "    \"baseline\": {\n",
        "        \"kind\": \"pretrained\",\n",
        "        \"path\": BASE_DIR / f\"{BASE_MODEL_NAME}_massive_k_{TARGET_LOCALE}\",\n",
        "        \"notes\": f\"{BASE_MODEL_NAME} baseline checkpoint\",\n",
        "    },\n",
        "    \"average_merge\": {\n",
        "        \"kind\": \"merge\",\n",
        "        \"config\": MergeConfig(\n",
        "            mode=\"average\",\n",
        "            target_lang=TARGET_LOCALE,\n",
        "            base_model=BASE_MODEL_NAME,\n",
        "            num_languages=DEFAULT_NUM_LANGUAGES,\n",
        "        ),\n",
        "        \"notes\": \"Equal-weight merge of top-K sources\",\n",
        "    },\n",
        "    \"similarity_merge\": {\n",
        "        \"kind\": \"merge\",\n",
        "        \"config\": MergeConfig(\n",
        "            mode=\"similarity\",\n",
        "            target_lang=TARGET_LOCALE,\n",
        "            base_model=BASE_MODEL_NAME,\n",
        "            num_languages=DEFAULT_NUM_LANGUAGES,\n",
        "            similarity_type=\"URIEL\",\n",
        "        ),\n",
        "        \"notes\": \"URIEL-weighted similarity merge\",\n",
        "    },\n",
        "    \"task_arithmetic\": {\n",
        "        \"kind\": \"merge\",\n",
        "        \"config\": MergeConfig(\n",
        "            mode=\"task_arithmetic\",\n",
        "            target_lang=TARGET_LOCALE,\n",
        "            base_model=BASE_MODEL_NAME,\n",
        "            num_languages=DEFAULT_NUM_LANGUAGES,\n",
        "        ),\n",
        "        \"notes\": \"Task arithmetic merge using similarity-selected sources\",\n",
        "    },\n",
        "    # \"fisher_dataset\": {\n",
        "    #     \"kind\": \"merge\",\n",
        "    #     \"config\": MergeConfig(\n",
        "    #         mode=\"fisher_dataset\",\n",
        "    #         target_lang=TARGET_LOCALE,\n",
        "    #         base_model=BASE_MODEL_NAME,\n",
        "    #         num_languages=DEFAULT_NUM_LANGUAGES,\n",
        "    #         dataset_name=\"AmazonScience/massive\",\n",
        "    #         dataset_split=\"train\",\n",
        "    #         text_column=\"utt\",\n",
        "    #         num_fisher_examples=500,\n",
        "    #         fisher_data_mode=\"target\",\n",
        "    #         preweight=\"uriel\",\n",
        "    #     ),\n",
        "    #     \"notes\": \"Fisher merge (requires cached dataset)\",\n",
        "    # },\n",
        "})"
      ]
    },
    {
      "cell_type": "markdown",
      "id": "03c6ad40",
      "metadata": {},
      "source": [
        "## 2. Inspect available setups\n",
        "\n",
        "The table shows which baseline path will be used and the parameters for each merge recipe. Remove or edit rows as needed for your experiment."
      ]
    },
    {
      "cell_type": "code",
      "execution_count": 17,
      "id": "f4fb67cf",
      "metadata": {},
      "outputs": [
        {
          "data": {
            "text/html": [
              "<div>\n",
              "<style scoped>\n",
              "    .dataframe tbody tr th:only-of-type {\n",
              "        vertical-align: middle;\n",
              "    }\n",
              "\n",
              "    .dataframe tbody tr th {\n",
              "        vertical-align: top;\n",
              "    }\n",
              "\n",
              "    .dataframe thead th {\n",
              "        text-align: right;\n",
              "    }\n",
              "</style>\n",
              "<table border=\"1\" class=\"dataframe\">\n",
              "  <thead>\n",
              "    <tr style=\"text-align: right;\">\n",
              "      <th></th>\n",
              "      <th>model</th>\n",
              "      <th>kind</th>\n",
              "      <th>notes</th>\n",
              "      <th>path</th>\n",
              "      <th>exists</th>\n",
              "      <th>mode</th>\n",
              "      <th>base_model</th>\n",
              "      <th>target_lang</th>\n",
              "      <th>num_languages</th>\n",
              "      <th>preweight</th>\n",
              "    </tr>\n",
              "  </thead>\n",
              "  <tbody>\n",
              "    <tr>\n",
              "      <th>0</th>\n",
              "      <td>baseline</td>\n",
              "      <td>pretrained</td>\n",
              "      <td>xlm-roberta-base baseline checkpoint</td>\n",
              "      <td>/home/coder/Python_project/MergingUriel/haryos...</td>\n",
              "      <td>True</td>\n",
              "      <td>NaN</td>\n",
              "      <td>NaN</td>\n",
              "      <td>NaN</td>\n",
              "      <td>NaN</td>\n",
              "      <td>NaN</td>\n",
              "    </tr>\n",
              "    <tr>\n",
              "      <th>1</th>\n",
              "      <td>average_merge</td>\n",
              "      <td>merge</td>\n",
              "      <td>Equal-weight merge of top-K sources</td>\n",
              "      <td>NaN</td>\n",
              "      <td>NaN</td>\n",
              "      <td>average</td>\n",
              "      <td>xlm-roberta-base</td>\n",
              "      <td>id-ID</td>\n",
              "      <td>5.0</td>\n",
              "      <td>equal</td>\n",
              "    </tr>\n",
              "    <tr>\n",
              "      <th>2</th>\n",
              "      <td>similarity_merge</td>\n",
              "      <td>merge</td>\n",
              "      <td>URIEL-weighted similarity merge</td>\n",
              "      <td>NaN</td>\n",
              "      <td>NaN</td>\n",
              "      <td>similarity</td>\n",
              "      <td>xlm-roberta-base</td>\n",
              "      <td>id-ID</td>\n",
              "      <td>5.0</td>\n",
              "      <td>equal</td>\n",
              "    </tr>\n",
              "    <tr>\n",
              "      <th>3</th>\n",
              "      <td>task_arithmetic</td>\n",
              "      <td>merge</td>\n",
              "      <td>Task arithmetic merge using similarity-selecte...</td>\n",
              "      <td>NaN</td>\n",
              "      <td>NaN</td>\n",
              "      <td>task_arithmetic</td>\n",
              "      <td>xlm-roberta-base</td>\n",
              "      <td>id-ID</td>\n",
              "      <td>5.0</td>\n",
              "      <td>equal</td>\n",
              "    </tr>\n",
              "  </tbody>\n",
              "</table>\n",
              "</div>"
            ],
            "text/plain": [
              "              model        kind  \\\n",
              "0          baseline  pretrained   \n",
              "1     average_merge       merge   \n",
              "2  similarity_merge       merge   \n",
              "3   task_arithmetic       merge   \n",
              "\n",
              "                                               notes  \\\n",
              "0               xlm-roberta-base baseline checkpoint   \n",
              "1                Equal-weight merge of top-K sources   \n",
              "2                    URIEL-weighted similarity merge   \n",
              "3  Task arithmetic merge using similarity-selecte...   \n",
              "\n",
              "                                                path exists             mode  \\\n",
              "0  /home/coder/Python_project/MergingUriel/haryos...   True              NaN   \n",
              "1                                                NaN    NaN          average   \n",
              "2                                                NaN    NaN       similarity   \n",
              "3                                                NaN    NaN  task_arithmetic   \n",
              "\n",
              "         base_model target_lang  num_languages preweight  \n",
              "0               NaN         NaN            NaN       NaN  \n",
              "1  xlm-roberta-base       id-ID            5.0     equal  \n",
              "2  xlm-roberta-base       id-ID            5.0     equal  \n",
              "3  xlm-roberta-base       id-ID            5.0     equal  "
            ]
          },
          "metadata": {},
          "output_type": "display_data"
        }
      ],
      "source": [
        "summary_rows = []\n",
        "for name, cfg in MODEL_SETUPS.items():\n",
        "    row = {\"model\": name, \"kind\": cfg[\"kind\"], \"notes\": cfg.get(\"notes\", \"\")}\n",
        "    if cfg[\"kind\"] == \"pretrained\":\n",
        "        path = cfg[\"path\"]\n",
        "        row[\"path\"] = str(path)\n",
        "        row[\"exists\"] = path.exists()\n",
        "    else:\n",
        "        conf = cfg[\"config\"]\n",
        "        row[\"mode\"] = conf.mode\n",
        "        row[\"base_model\"] = conf.base_model\n",
        "        row[\"target_lang\"] = conf.target_lang\n",
        "        row[\"num_languages\"] = conf.num_languages\n",
        "        row[\"preweight\"] = getattr(conf, \"preweight\", None)\n",
        "    summary_rows.append(row)\n",
        "\n",
        "display(pd.DataFrame(summary_rows))"
      ]
    },
    {
      "cell_type": "markdown",
      "id": "6c14d889",
      "metadata": {},
      "source": [
        "## 3. Load baseline & run dynamic merges\n",
        "\n",
        "Each merge configuration is executed on demand (nothing is written to disk). Results are cached in-memory for the remainder of the session."
      ]
    },
    {
      "cell_type": "code",
      "execution_count": 18,
      "id": "4f8716f5",
      "metadata": {},
      "outputs": [
        {
          "name": "stdout",
          "output_type": "stream",
          "text": [
            "\n",
            "--- Setting Up Average (Equal) Weights for id-ID ---\n",
            "\n",
            "--- Computing Similarity Weights for id-ID ---\n",
            "Using URIEL similarity matrix with top-k + Sinkhorn normalization\n",
            "Loading similarity matrix from /home/coder/Python_project/MergingUriel/language_similarity_matrix_unified.csv\n",
            "Loaded similarity matrix with shape: (50, 50)\n",
            "Available languages: ['af-ZA', 'am-ET', 'ar-SA', 'az-AZ', 'bn-BD', 'ca-ES', 'cy-GB', 'da-DK', 'de-DE', 'el-GR', 'en-US', 'es-ES', 'fa-IR', 'fi-FI', 'fr-FR', 'hi-IN', 'hu-HU', 'hy-AM', 'id-ID', 'is-IS', 'it-IT', 'ja-JP', 'jv-ID', 'ka-GE', 'km-KH', 'kn-IN', 'ko-KR', 'lv-LV', 'ml-IN', 'mn-MN', 'ms-MY', 'my-MM', 'nb-NO', 'nl-NL', 'pl-PL', 'pt-PT', 'ro-RO', 'ru-RU', 'sl-SL', 'sq-AL', 'sw-KE', 'ta-IN', 'te-IN', 'th-TH', 'tl-PH', 'tr-TR', 'ur-PK', 'vi-VN', 'zh-TW', 'zh-TW']\n",
            "Processing similarity matrix for id-ID\n",
            "Matrix shape: (50, 50)\n",
            "Applying top-k filtering (k=20)...\n",
            "Warning: The diagonal of the matrix does consist entirely of ones. We will make it to 0\n",
            "50\n",
            "Applying Sinkhorn normalization (20 iterations)...\n",
            "Generated processed matrix: (50, 50)\n",
            "Top 5 similar languages to id-ID:\n",
            "  - vi-VN: 0.169177\n",
            "  - km-KH: 0.163256\n",
            "  - jv-ID: 0.143942\n",
            "  - th-TH: 0.138978\n",
            "  - ms-MY: 0.122943\n",
            "  ✓ /home/coder/Python_project/MergingUriel/haryos_model/xlm-roberta-base_massive_k_vi-VN: 0.169177 (locale: vi-VN)\n",
            "  ✓ /home/coder/Python_project/MergingUriel/haryos_model/xlm-roberta-base_massive_k_km-KH: 0.163256 (locale: km-KH)\n",
            "  ✓ /home/coder/Python_project/MergingUriel/haryos_model/xlm-roberta-base_massive_k_jv-ID: 0.143942 (locale: jv-ID)\n",
            "  ✓ /home/coder/Python_project/MergingUriel/haryos_model/xlm-roberta-base_massive_k_th-TH: 0.138978 (locale: th-TH)\n",
            "  ✓ /home/coder/Python_project/MergingUriel/haryos_model/xlm-roberta-base_massive_k_ms-MY: 0.122943 (locale: ms-MY)\n",
            "Using equal weights for 5 models: 0.200000 each\n",
            "\n",
            "--- Performing Model Merge ---\n",
            "Base model: /home/coder/Python_project/MergingUriel/haryos_model/xlm-roberta-base_massive_k_vi-VN\n",
            "Models to merge: ['/home/coder/Python_project/MergingUriel/haryos_model/xlm-roberta-base_massive_k_km-KH', '/home/coder/Python_project/MergingUriel/haryos_model/xlm-roberta-base_massive_k_jv-ID', '/home/coder/Python_project/MergingUriel/haryos_model/xlm-roberta-base_massive_k_th-TH', '/home/coder/Python_project/MergingUriel/haryos_model/xlm-roberta-base_massive_k_ms-MY']\n",
            "Weights: [0.2, 0.2, 0.2, 0.2]\n",
            "2025-10-29 07:38:50 - auto_merge_llm.tokenizer.build_tokenizer_embed - INFO - Vocab size of pretrained model is %d .\n",
            "2025-10-29 07:38:50 - auto_merge_llm.tokenizer.build_tokenizer_embed - INFO - Vocab size of index %d finetuned model is %d.\n",
            "2025-10-29 07:38:50 - auto_merge_llm.tokenizer.build_tokenizer_embed - INFO - Added pad tokens of index 0 finetuned model is [].\n",
            "2025-10-29 07:38:51 - auto_merge_llm.tokenizer.build_tokenizer_embed - INFO - Vocab size of index %d finetuned model is %d.\n",
            "2025-10-29 07:38:51 - auto_merge_llm.tokenizer.build_tokenizer_embed - INFO - Added pad tokens of index 1 finetuned model is [].\n",
            "2025-10-29 07:38:51 - auto_merge_llm.tokenizer.build_tokenizer_embed - INFO - Vocab size of index %d finetuned model is %d.\n",
            "2025-10-29 07:38:51 - auto_merge_llm.tokenizer.build_tokenizer_embed - INFO - Added pad tokens of index 2 finetuned model is [].\n",
            "2025-10-29 07:38:51 - auto_merge_llm.tokenizer.build_tokenizer_embed - INFO - Vocab size of index %d finetuned model is %d.\n",
            "2025-10-29 07:38:51 - auto_merge_llm.tokenizer.build_tokenizer_embed - INFO - Added pad tokens of index 3 finetuned model is [].\n",
            "2025-10-29 07:38:51 - auto_merge_llm.tokenizer.build_tokenizer_embed - INFO - All added pad tokens of finetuned models are set().\n",
            "2025-10-29 07:38:52 - auto_merge_llm.tokenizer.build_tokenizer_embed - INFO - Aligned index 0 model: input token embedding shape torch.Size([250002, 768]), output token embedding shape N/A, tokenizer added tokens [{'id': 0, 'content': '<s>', 'single_word': False, 'lstrip': False, 'rstrip': False, 'normalized': False, 'special': True}, {'id': 1, 'content': '<pad>', 'single_word': False, 'lstrip': False, 'rstrip': False, 'normalized': False, 'special': True}, {'id': 2, 'content': '</s>', 'single_word': False, 'lstrip': False, 'rstrip': False, 'normalized': False, 'special': True}, {'id': 3, 'content': '<unk>', 'single_word': False, 'lstrip': False, 'rstrip': False, 'normalized': False, 'special': True}, {'id': 250001, 'content': '<mask>', 'single_word': False, 'lstrip': True, 'rstrip': False, 'normalized': False, 'special': True}].\n",
            "2025-10-29 07:38:52 - auto_merge_llm.tokenizer.build_tokenizer_embed - INFO - Aligned index 1 model: input token embedding shape torch.Size([250002, 768]), output token embedding shape N/A, tokenizer added tokens [{'id': 0, 'content': '<s>', 'single_word': False, 'lstrip': False, 'rstrip': False, 'normalized': False, 'special': True}, {'id': 1, 'content': '<pad>', 'single_word': False, 'lstrip': False, 'rstrip': False, 'normalized': False, 'special': True}, {'id': 2, 'content': '</s>', 'single_word': False, 'lstrip': False, 'rstrip': False, 'normalized': False, 'special': True}, {'id': 3, 'content': '<unk>', 'single_word': False, 'lstrip': False, 'rstrip': False, 'normalized': False, 'special': True}, {'id': 250001, 'content': '<mask>', 'single_word': False, 'lstrip': True, 'rstrip': False, 'normalized': False, 'special': True}].\n",
            "2025-10-29 07:38:52 - auto_merge_llm.tokenizer.build_tokenizer_embed - INFO - Aligned index 2 model: input token embedding shape torch.Size([250002, 768]), output token embedding shape N/A, tokenizer added tokens [{'id': 0, 'content': '<s>', 'single_word': False, 'lstrip': False, 'rstrip': False, 'normalized': False, 'special': True}, {'id': 1, 'content': '<pad>', 'single_word': False, 'lstrip': False, 'rstrip': False, 'normalized': False, 'special': True}, {'id': 2, 'content': '</s>', 'single_word': False, 'lstrip': False, 'rstrip': False, 'normalized': False, 'special': True}, {'id': 3, 'content': '<unk>', 'single_word': False, 'lstrip': False, 'rstrip': False, 'normalized': False, 'special': True}, {'id': 250001, 'content': '<mask>', 'single_word': False, 'lstrip': True, 'rstrip': False, 'normalized': False, 'special': True}].\n",
            "2025-10-29 07:38:52 - auto_merge_llm.tokenizer.build_tokenizer_embed - INFO - Aligned index 3 model: input token embedding shape torch.Size([250002, 768]), output token embedding shape N/A, tokenizer added tokens [{'id': 0, 'content': '<s>', 'single_word': False, 'lstrip': False, 'rstrip': False, 'normalized': False, 'special': True}, {'id': 1, 'content': '<pad>', 'single_word': False, 'lstrip': False, 'rstrip': False, 'normalized': False, 'special': True}, {'id': 2, 'content': '</s>', 'single_word': False, 'lstrip': False, 'rstrip': False, 'normalized': False, 'special': True}, {'id': 3, 'content': '<unk>', 'single_word': False, 'lstrip': False, 'rstrip': False, 'normalized': False, 'special': True}, {'id': 250001, 'content': '<mask>', 'single_word': False, 'lstrip': True, 'rstrip': False, 'normalized': False, 'special': True}].\n",
            "2025-10-29 07:38:53 - auto_merge_llm.tokenizer.build_tokenizer_embed - INFO - Aligned index 4 model: input token embedding shape torch.Size([250002, 768]), output token embedding shape N/A, tokenizer added tokens [{'id': 0, 'content': '<s>', 'single_word': False, 'lstrip': False, 'rstrip': False, 'normalized': False, 'special': True}, {'id': 1, 'content': '<pad>', 'single_word': False, 'lstrip': False, 'rstrip': False, 'normalized': False, 'special': True}, {'id': 2, 'content': '</s>', 'single_word': False, 'lstrip': False, 'rstrip': False, 'normalized': False, 'special': True}, {'id': 3, 'content': '<unk>', 'single_word': False, 'lstrip': False, 'rstrip': False, 'normalized': False, 'special': True}, {'id': 250001, 'content': '<mask>', 'single_word': False, 'lstrip': True, 'rstrip': False, 'normalized': False, 'special': True}].\n",
            "2025-10-29 07:38:53 - auto_merge_llm.tokenizer.build_tokenizer_embed - INFO - Current aligned model vocab sizes: {torch.Size([250002, 768])}\n",
            "Merge successful!\n",
            "\n",
            "--- Computing Similarity Weights for id-ID ---\n",
            "Using URIEL similarity matrix with top-k + Sinkhorn normalization\n",
            "Loading similarity matrix from /home/coder/Python_project/MergingUriel/language_similarity_matrix_unified.csv\n",
            "Loaded similarity matrix with shape: (50, 50)\n",
            "Available languages: ['af-ZA', 'am-ET', 'ar-SA', 'az-AZ', 'bn-BD', 'ca-ES', 'cy-GB', 'da-DK', 'de-DE', 'el-GR', 'en-US', 'es-ES', 'fa-IR', 'fi-FI', 'fr-FR', 'hi-IN', 'hu-HU', 'hy-AM', 'id-ID', 'is-IS', 'it-IT', 'ja-JP', 'jv-ID', 'ka-GE', 'km-KH', 'kn-IN', 'ko-KR', 'lv-LV', 'ml-IN', 'mn-MN', 'ms-MY', 'my-MM', 'nb-NO', 'nl-NL', 'pl-PL', 'pt-PT', 'ro-RO', 'ru-RU', 'sl-SL', 'sq-AL', 'sw-KE', 'ta-IN', 'te-IN', 'th-TH', 'tl-PH', 'tr-TR', 'ur-PK', 'vi-VN', 'zh-TW', 'zh-TW']\n",
            "Processing similarity matrix for id-ID\n",
            "Matrix shape: (50, 50)\n",
            "Applying top-k filtering (k=20)...\n",
            "Warning: The diagonal of the matrix does consist entirely of ones. We will make it to 0\n",
            "50\n",
            "Applying Sinkhorn normalization (20 iterations)...\n",
            "Generated processed matrix: (50, 50)\n",
            "Top 5 similar languages to id-ID:\n",
            "  - vi-VN: 0.169177\n",
            "  - km-KH: 0.163256\n",
            "  - jv-ID: 0.143942\n",
            "  - th-TH: 0.138978\n",
            "  - ms-MY: 0.122943\n",
            "  ✓ /home/coder/Python_project/MergingUriel/haryos_model/xlm-roberta-base_massive_k_vi-VN: 0.169177 (locale: vi-VN)\n",
            "  ✓ /home/coder/Python_project/MergingUriel/haryos_model/xlm-roberta-base_massive_k_km-KH: 0.163256 (locale: km-KH)\n",
            "  ✓ /home/coder/Python_project/MergingUriel/haryos_model/xlm-roberta-base_massive_k_jv-ID: 0.143942 (locale: jv-ID)\n",
            "  ✓ /home/coder/Python_project/MergingUriel/haryos_model/xlm-roberta-base_massive_k_th-TH: 0.138978 (locale: th-TH)\n",
            "  ✓ /home/coder/Python_project/MergingUriel/haryos_model/xlm-roberta-base_massive_k_ms-MY: 0.122943 (locale: ms-MY)\n",
            "\n",
            "--- Performing Model Merge ---\n",
            "Base model: /home/coder/Python_project/MergingUriel/haryos_model/xlm-roberta-base_massive_k_vi-VN\n",
            "Models to merge: ['/home/coder/Python_project/MergingUriel/haryos_model/xlm-roberta-base_massive_k_km-KH', '/home/coder/Python_project/MergingUriel/haryos_model/xlm-roberta-base_massive_k_jv-ID', '/home/coder/Python_project/MergingUriel/haryos_model/xlm-roberta-base_massive_k_th-TH', '/home/coder/Python_project/MergingUriel/haryos_model/xlm-roberta-base_massive_k_ms-MY']\n",
            "Weights: [0.22112491813149324, 0.19496463691882482, 0.18824146068829767, 0.16652330894144263]\n",
            "2025-10-29 07:38:56 - auto_merge_llm.tokenizer.build_tokenizer_embed - INFO - Vocab size of pretrained model is %d .\n",
            "2025-10-29 07:38:57 - auto_merge_llm.tokenizer.build_tokenizer_embed - INFO - Vocab size of index %d finetuned model is %d.\n",
            "2025-10-29 07:38:57 - auto_merge_llm.tokenizer.build_tokenizer_embed - INFO - Added pad tokens of index 0 finetuned model is [].\n",
            "2025-10-29 07:38:58 - auto_merge_llm.tokenizer.build_tokenizer_embed - INFO - Vocab size of index %d finetuned model is %d.\n",
            "2025-10-29 07:38:58 - auto_merge_llm.tokenizer.build_tokenizer_embed - INFO - Added pad tokens of index 1 finetuned model is [].\n",
            "2025-10-29 07:38:58 - auto_merge_llm.tokenizer.build_tokenizer_embed - INFO - Vocab size of index %d finetuned model is %d.\n",
            "2025-10-29 07:38:58 - auto_merge_llm.tokenizer.build_tokenizer_embed - INFO - Added pad tokens of index 2 finetuned model is [].\n",
            "2025-10-29 07:38:58 - auto_merge_llm.tokenizer.build_tokenizer_embed - INFO - Vocab size of index %d finetuned model is %d.\n",
            "2025-10-29 07:38:58 - auto_merge_llm.tokenizer.build_tokenizer_embed - INFO - Added pad tokens of index 3 finetuned model is [].\n",
            "2025-10-29 07:38:58 - auto_merge_llm.tokenizer.build_tokenizer_embed - INFO - All added pad tokens of finetuned models are set().\n",
            "2025-10-29 07:38:59 - auto_merge_llm.tokenizer.build_tokenizer_embed - INFO - Aligned index 0 model: input token embedding shape torch.Size([250002, 768]), output token embedding shape N/A, tokenizer added tokens [{'id': 0, 'content': '<s>', 'single_word': False, 'lstrip': False, 'rstrip': False, 'normalized': False, 'special': True}, {'id': 1, 'content': '<pad>', 'single_word': False, 'lstrip': False, 'rstrip': False, 'normalized': False, 'special': True}, {'id': 2, 'content': '</s>', 'single_word': False, 'lstrip': False, 'rstrip': False, 'normalized': False, 'special': True}, {'id': 3, 'content': '<unk>', 'single_word': False, 'lstrip': False, 'rstrip': False, 'normalized': False, 'special': True}, {'id': 250001, 'content': '<mask>', 'single_word': False, 'lstrip': True, 'rstrip': False, 'normalized': False, 'special': True}].\n",
            "2025-10-29 07:38:59 - auto_merge_llm.tokenizer.build_tokenizer_embed - INFO - Aligned index 1 model: input token embedding shape torch.Size([250002, 768]), output token embedding shape N/A, tokenizer added tokens [{'id': 0, 'content': '<s>', 'single_word': False, 'lstrip': False, 'rstrip': False, 'normalized': False, 'special': True}, {'id': 1, 'content': '<pad>', 'single_word': False, 'lstrip': False, 'rstrip': False, 'normalized': False, 'special': True}, {'id': 2, 'content': '</s>', 'single_word': False, 'lstrip': False, 'rstrip': False, 'normalized': False, 'special': True}, {'id': 3, 'content': '<unk>', 'single_word': False, 'lstrip': False, 'rstrip': False, 'normalized': False, 'special': True}, {'id': 250001, 'content': '<mask>', 'single_word': False, 'lstrip': True, 'rstrip': False, 'normalized': False, 'special': True}].\n",
            "2025-10-29 07:38:59 - auto_merge_llm.tokenizer.build_tokenizer_embed - INFO - Aligned index 2 model: input token embedding shape torch.Size([250002, 768]), output token embedding shape N/A, tokenizer added tokens [{'id': 0, 'content': '<s>', 'single_word': False, 'lstrip': False, 'rstrip': False, 'normalized': False, 'special': True}, {'id': 1, 'content': '<pad>', 'single_word': False, 'lstrip': False, 'rstrip': False, 'normalized': False, 'special': True}, {'id': 2, 'content': '</s>', 'single_word': False, 'lstrip': False, 'rstrip': False, 'normalized': False, 'special': True}, {'id': 3, 'content': '<unk>', 'single_word': False, 'lstrip': False, 'rstrip': False, 'normalized': False, 'special': True}, {'id': 250001, 'content': '<mask>', 'single_word': False, 'lstrip': True, 'rstrip': False, 'normalized': False, 'special': True}].\n",
            "2025-10-29 07:39:00 - auto_merge_llm.tokenizer.build_tokenizer_embed - INFO - Aligned index 3 model: input token embedding shape torch.Size([250002, 768]), output token embedding shape N/A, tokenizer added tokens [{'id': 0, 'content': '<s>', 'single_word': False, 'lstrip': False, 'rstrip': False, 'normalized': False, 'special': True}, {'id': 1, 'content': '<pad>', 'single_word': False, 'lstrip': False, 'rstrip': False, 'normalized': False, 'special': True}, {'id': 2, 'content': '</s>', 'single_word': False, 'lstrip': False, 'rstrip': False, 'normalized': False, 'special': True}, {'id': 3, 'content': '<unk>', 'single_word': False, 'lstrip': False, 'rstrip': False, 'normalized': False, 'special': True}, {'id': 250001, 'content': '<mask>', 'single_word': False, 'lstrip': True, 'rstrip': False, 'normalized': False, 'special': True}].\n",
            "2025-10-29 07:39:00 - auto_merge_llm.tokenizer.build_tokenizer_embed - INFO - Aligned index 4 model: input token embedding shape torch.Size([250002, 768]), output token embedding shape N/A, tokenizer added tokens [{'id': 0, 'content': '<s>', 'single_word': False, 'lstrip': False, 'rstrip': False, 'normalized': False, 'special': True}, {'id': 1, 'content': '<pad>', 'single_word': False, 'lstrip': False, 'rstrip': False, 'normalized': False, 'special': True}, {'id': 2, 'content': '</s>', 'single_word': False, 'lstrip': False, 'rstrip': False, 'normalized': False, 'special': True}, {'id': 3, 'content': '<unk>', 'single_word': False, 'lstrip': False, 'rstrip': False, 'normalized': False, 'special': True}, {'id': 250001, 'content': '<mask>', 'single_word': False, 'lstrip': True, 'rstrip': False, 'normalized': False, 'special': True}].\n",
            "2025-10-29 07:39:00 - auto_merge_llm.tokenizer.build_tokenizer_embed - INFO - Current aligned model vocab sizes: {torch.Size([250002, 768])}\n",
            "Merge successful!\n",
            "\n",
            "--- Computing Similarity Weights for id-ID ---\n",
            "Using URIEL similarity matrix with top-k + Sinkhorn normalization\n",
            "Loading similarity matrix from /home/coder/Python_project/MergingUriel/language_similarity_matrix_unified.csv\n",
            "Loaded similarity matrix with shape: (50, 50)\n",
            "Available languages: ['af-ZA', 'am-ET', 'ar-SA', 'az-AZ', 'bn-BD', 'ca-ES', 'cy-GB', 'da-DK', 'de-DE', 'el-GR', 'en-US', 'es-ES', 'fa-IR', 'fi-FI', 'fr-FR', 'hi-IN', 'hu-HU', 'hy-AM', 'id-ID', 'is-IS', 'it-IT', 'ja-JP', 'jv-ID', 'ka-GE', 'km-KH', 'kn-IN', 'ko-KR', 'lv-LV', 'ml-IN', 'mn-MN', 'ms-MY', 'my-MM', 'nb-NO', 'nl-NL', 'pl-PL', 'pt-PT', 'ro-RO', 'ru-RU', 'sl-SL', 'sq-AL', 'sw-KE', 'ta-IN', 'te-IN', 'th-TH', 'tl-PH', 'tr-TR', 'ur-PK', 'vi-VN', 'zh-TW', 'zh-TW']\n",
            "Processing similarity matrix for id-ID\n",
            "Matrix shape: (50, 50)\n",
            "Applying top-k filtering (k=20)...\n",
            "Warning: The diagonal of the matrix does consist entirely of ones. We will make it to 0\n",
            "50\n",
            "Applying Sinkhorn normalization (20 iterations)...\n",
            "Generated processed matrix: (50, 50)\n",
            "Top 5 similar languages to id-ID:\n",
            "  - vi-VN: 0.169177\n",
            "  - km-KH: 0.163256\n",
            "  - jv-ID: 0.143942\n",
            "  - th-TH: 0.138978\n",
            "  - ms-MY: 0.122943\n",
            "  ✓ /home/coder/Python_project/MergingUriel/haryos_model/xlm-roberta-base_massive_k_vi-VN: 0.169177 (locale: vi-VN)\n",
            "  ✓ /home/coder/Python_project/MergingUriel/haryos_model/xlm-roberta-base_massive_k_km-KH: 0.163256 (locale: km-KH)\n",
            "  ✓ /home/coder/Python_project/MergingUriel/haryos_model/xlm-roberta-base_massive_k_jv-ID: 0.143942 (locale: jv-ID)\n",
            "  ✓ /home/coder/Python_project/MergingUriel/haryos_model/xlm-roberta-base_massive_k_th-TH: 0.138978 (locale: th-TH)\n",
            "  ✓ /home/coder/Python_project/MergingUriel/haryos_model/xlm-roberta-base_massive_k_ms-MY: 0.122943 (locale: ms-MY)\n",
            "\n",
            "--- Performing Model Merge ---\n",
            "Base model: /home/coder/Python_project/MergingUriel/haryos_model/xlm-roberta-base_massive_k_vi-VN\n",
            "Models to merge: ['/home/coder/Python_project/MergingUriel/haryos_model/xlm-roberta-base_massive_k_km-KH', '/home/coder/Python_project/MergingUriel/haryos_model/xlm-roberta-base_massive_k_jv-ID', '/home/coder/Python_project/MergingUriel/haryos_model/xlm-roberta-base_massive_k_th-TH', '/home/coder/Python_project/MergingUriel/haryos_model/xlm-roberta-base_massive_k_ms-MY']\n",
            "Weights: [0.22112491813149324, 0.19496463691882482, 0.18824146068829767, 0.16652330894144263]\n",
            "2025-10-29 07:39:04 - auto_merge_llm.tokenizer.build_tokenizer_embed - INFO - Vocab size of pretrained model is %d .\n",
            "2025-10-29 07:39:04 - auto_merge_llm.tokenizer.build_tokenizer_embed - INFO - Vocab size of index %d finetuned model is %d.\n",
            "2025-10-29 07:39:04 - auto_merge_llm.tokenizer.build_tokenizer_embed - INFO - Added pad tokens of index 0 finetuned model is [].\n",
            "2025-10-29 07:39:05 - auto_merge_llm.tokenizer.build_tokenizer_embed - INFO - Vocab size of index %d finetuned model is %d.\n",
            "2025-10-29 07:39:05 - auto_merge_llm.tokenizer.build_tokenizer_embed - INFO - Added pad tokens of index 1 finetuned model is [].\n",
            "2025-10-29 07:39:05 - auto_merge_llm.tokenizer.build_tokenizer_embed - INFO - Vocab size of index %d finetuned model is %d.\n",
            "2025-10-29 07:39:05 - auto_merge_llm.tokenizer.build_tokenizer_embed - INFO - Added pad tokens of index 2 finetuned model is [].\n",
            "2025-10-29 07:39:05 - auto_merge_llm.tokenizer.build_tokenizer_embed - INFO - Vocab size of index %d finetuned model is %d.\n",
            "2025-10-29 07:39:05 - auto_merge_llm.tokenizer.build_tokenizer_embed - INFO - Added pad tokens of index 3 finetuned model is [].\n",
            "2025-10-29 07:39:05 - auto_merge_llm.tokenizer.build_tokenizer_embed - INFO - All added pad tokens of finetuned models are set().\n",
            "2025-10-29 07:39:06 - auto_merge_llm.tokenizer.build_tokenizer_embed - INFO - Aligned index 0 model: input token embedding shape torch.Size([250002, 768]), output token embedding shape N/A, tokenizer added tokens [{'id': 0, 'content': '<s>', 'single_word': False, 'lstrip': False, 'rstrip': False, 'normalized': False, 'special': True}, {'id': 1, 'content': '<pad>', 'single_word': False, 'lstrip': False, 'rstrip': False, 'normalized': False, 'special': True}, {'id': 2, 'content': '</s>', 'single_word': False, 'lstrip': False, 'rstrip': False, 'normalized': False, 'special': True}, {'id': 3, 'content': '<unk>', 'single_word': False, 'lstrip': False, 'rstrip': False, 'normalized': False, 'special': True}, {'id': 250001, 'content': '<mask>', 'single_word': False, 'lstrip': True, 'rstrip': False, 'normalized': False, 'special': True}].\n",
            "2025-10-29 07:39:06 - auto_merge_llm.tokenizer.build_tokenizer_embed - INFO - Aligned index 1 model: input token embedding shape torch.Size([250002, 768]), output token embedding shape N/A, tokenizer added tokens [{'id': 0, 'content': '<s>', 'single_word': False, 'lstrip': False, 'rstrip': False, 'normalized': False, 'special': True}, {'id': 1, 'content': '<pad>', 'single_word': False, 'lstrip': False, 'rstrip': False, 'normalized': False, 'special': True}, {'id': 2, 'content': '</s>', 'single_word': False, 'lstrip': False, 'rstrip': False, 'normalized': False, 'special': True}, {'id': 3, 'content': '<unk>', 'single_word': False, 'lstrip': False, 'rstrip': False, 'normalized': False, 'special': True}, {'id': 250001, 'content': '<mask>', 'single_word': False, 'lstrip': True, 'rstrip': False, 'normalized': False, 'special': True}].\n",
            "2025-10-29 07:39:06 - auto_merge_llm.tokenizer.build_tokenizer_embed - INFO - Aligned index 2 model: input token embedding shape torch.Size([250002, 768]), output token embedding shape N/A, tokenizer added tokens [{'id': 0, 'content': '<s>', 'single_word': False, 'lstrip': False, 'rstrip': False, 'normalized': False, 'special': True}, {'id': 1, 'content': '<pad>', 'single_word': False, 'lstrip': False, 'rstrip': False, 'normalized': False, 'special': True}, {'id': 2, 'content': '</s>', 'single_word': False, 'lstrip': False, 'rstrip': False, 'normalized': False, 'special': True}, {'id': 3, 'content': '<unk>', 'single_word': False, 'lstrip': False, 'rstrip': False, 'normalized': False, 'special': True}, {'id': 250001, 'content': '<mask>', 'single_word': False, 'lstrip': True, 'rstrip': False, 'normalized': False, 'special': True}].\n",
            "2025-10-29 07:39:07 - auto_merge_llm.tokenizer.build_tokenizer_embed - INFO - Aligned index 3 model: input token embedding shape torch.Size([250002, 768]), output token embedding shape N/A, tokenizer added tokens [{'id': 0, 'content': '<s>', 'single_word': False, 'lstrip': False, 'rstrip': False, 'normalized': False, 'special': True}, {'id': 1, 'content': '<pad>', 'single_word': False, 'lstrip': False, 'rstrip': False, 'normalized': False, 'special': True}, {'id': 2, 'content': '</s>', 'single_word': False, 'lstrip': False, 'rstrip': False, 'normalized': False, 'special': True}, {'id': 3, 'content': '<unk>', 'single_word': False, 'lstrip': False, 'rstrip': False, 'normalized': False, 'special': True}, {'id': 250001, 'content': '<mask>', 'single_word': False, 'lstrip': True, 'rstrip': False, 'normalized': False, 'special': True}].\n",
            "2025-10-29 07:39:07 - auto_merge_llm.tokenizer.build_tokenizer_embed - INFO - Aligned index 4 model: input token embedding shape torch.Size([250002, 768]), output token embedding shape N/A, tokenizer added tokens [{'id': 0, 'content': '<s>', 'single_word': False, 'lstrip': False, 'rstrip': False, 'normalized': False, 'special': True}, {'id': 1, 'content': '<pad>', 'single_word': False, 'lstrip': False, 'rstrip': False, 'normalized': False, 'special': True}, {'id': 2, 'content': '</s>', 'single_word': False, 'lstrip': False, 'rstrip': False, 'normalized': False, 'special': True}, {'id': 3, 'content': '<unk>', 'single_word': False, 'lstrip': False, 'rstrip': False, 'normalized': False, 'special': True}, {'id': 250001, 'content': '<mask>', 'single_word': False, 'lstrip': True, 'rstrip': False, 'normalized': False, 'special': True}].\n",
            "2025-10-29 07:39:07 - auto_merge_llm.tokenizer.build_tokenizer_embed - INFO - Current aligned model vocab sizes: {torch.Size([250002, 768])}\n",
            "Merge successful!\n",
            "Prepared 4 models on cuda.\n",
            "Reference model: baseline\n"
          ]
        }
      ],
      "source": [
        "DEVICE = \"cuda\" if torch.cuda.is_available() else \"cpu\"\n",
        "artifacts = {}\n",
        "merge_metadata = {}\n",
        "\n",
        "for name, cfg in MODEL_SETUPS.items():\n",
        "    if cfg[\"kind\"] == \"pretrained\":\n",
        "        path = cfg[\"path\"]\n",
        "        if not path.exists():\n",
        "            print(f\"⚠️ Skipping {name}: checkpoint not found at {path}\")\n",
        "            continue\n",
        "        artifacts[name] = load_model_artifacts(path, device=DEVICE)\n",
        "    else:\n",
        "        artifact, meta = merge_models_in_memory(cfg[\"config\"], device=DEVICE)\n",
        "        artifacts[name] = artifact\n",
        "        merge_metadata[name] = meta\n",
        "\n",
        "print(f\"Prepared {len(artifacts)} models on {DEVICE}.\")\n",
        "REFERENCE_KEY = \"baseline\" if \"baseline\" in artifacts else next(iter(artifacts))\n",
        "print(f\"Reference model: {REFERENCE_KEY}\")"
      ]
    },
    {
      "cell_type": "code",
      "execution_count": 19,
      "id": "3d4fb37f",
      "metadata": {},
      "outputs": [
        {
          "data": {
            "text/html": [
              "<div>\n",
              "<style scoped>\n",
              "    .dataframe tbody tr th:only-of-type {\n",
              "        vertical-align: middle;\n",
              "    }\n",
              "\n",
              "    .dataframe tbody tr th {\n",
              "        vertical-align: top;\n",
              "    }\n",
              "\n",
              "    .dataframe thead th {\n",
              "        text-align: right;\n",
              "    }\n",
              "</style>\n",
              "<table border=\"1\" class=\"dataframe\">\n",
              "  <thead>\n",
              "    <tr style=\"text-align: right;\">\n",
              "      <th></th>\n",
              "      <th>model</th>\n",
              "      <th>base_model_path</th>\n",
              "      <th>base_weight</th>\n",
              "      <th>sources</th>\n",
              "    </tr>\n",
              "  </thead>\n",
              "  <tbody>\n",
              "    <tr>\n",
              "      <th>0</th>\n",
              "      <td>average_merge</td>\n",
              "      <td>/home/coder/Python_project/MergingUriel/haryos...</td>\n",
              "      <td>0.200000</td>\n",
              "      <td>km-KH:0.200, jv-ID:0.200, th-TH:0.200, ms-MY:0...</td>\n",
              "    </tr>\n",
              "    <tr>\n",
              "      <th>1</th>\n",
              "      <td>similarity_merge</td>\n",
              "      <td>/home/coder/Python_project/MergingUriel/haryos...</td>\n",
              "      <td>0.229146</td>\n",
              "      <td>km-KH:0.221, jv-ID:0.195, th-TH:0.188, ms-MY:0...</td>\n",
              "    </tr>\n",
              "    <tr>\n",
              "      <th>2</th>\n",
              "      <td>task_arithmetic</td>\n",
              "      <td>/home/coder/Python_project/MergingUriel/haryos...</td>\n",
              "      <td>0.229146</td>\n",
              "      <td>km-KH:0.221, jv-ID:0.195, th-TH:0.188, ms-MY:0...</td>\n",
              "    </tr>\n",
              "  </tbody>\n",
              "</table>\n",
              "</div>"
            ],
            "text/plain": [
              "              model                                    base_model_path  \\\n",
              "0     average_merge  /home/coder/Python_project/MergingUriel/haryos...   \n",
              "1  similarity_merge  /home/coder/Python_project/MergingUriel/haryos...   \n",
              "2   task_arithmetic  /home/coder/Python_project/MergingUriel/haryos...   \n",
              "\n",
              "   base_weight                                            sources  \n",
              "0     0.200000  km-KH:0.200, jv-ID:0.200, th-TH:0.200, ms-MY:0...  \n",
              "1     0.229146  km-KH:0.221, jv-ID:0.195, th-TH:0.188, ms-MY:0...  \n",
              "2     0.229146  km-KH:0.221, jv-ID:0.195, th-TH:0.188, ms-MY:0...  "
            ]
          },
          "metadata": {},
          "output_type": "display_data"
        }
      ],
      "source": [
        "if merge_metadata:\n",
        "    meta_rows = []\n",
        "    for name, meta in merge_metadata.items():\n",
        "        sources = []\n",
        "        for path, info in meta[\"models_and_weights\"].items():\n",
        "            label = info.locale or Path(path).name\n",
        "            sources.append(f\"{label}:{info.weight:.3f}\")\n",
        "        meta_rows.append({\n",
        "            \"model\": name,\n",
        "            \"base_model_path\": meta[\"base_model\"].model_name,\n",
        "            \"base_weight\": getattr(meta[\"base_model\"], \"weight\", None),\n",
        "            \"sources\": \", \".join(sources),\n",
        "        })\n",
        "    display(pd.DataFrame(meta_rows))"
      ]
    },
    {
      "cell_type": "markdown",
      "id": "6d09691d",
      "metadata": {},
      "source": [
        "## 4. Parameter deltas\n",
        "\n",
        "Compare each merged model against the reference baseline to spot layers with large parameter shifts."
      ]
    },
    {
      "cell_type": "code",
      "execution_count": 20,
      "id": "9215e50f",
      "metadata": {},
      "outputs": [
        {
          "data": {
            "text/html": [
              "<div>\n",
              "<style scoped>\n",
              "    .dataframe tbody tr th:only-of-type {\n",
              "        vertical-align: middle;\n",
              "    }\n",
              "\n",
              "    .dataframe tbody tr th {\n",
              "        vertical-align: top;\n",
              "    }\n",
              "\n",
              "    .dataframe thead th {\n",
              "        text-align: right;\n",
              "    }\n",
              "</style>\n",
              "<table border=\"1\" class=\"dataframe\">\n",
              "  <thead>\n",
              "    <tr style=\"text-align: right;\">\n",
              "      <th></th>\n",
              "      <th>layer</th>\n",
              "      <th>delta_l2_sum</th>\n",
              "      <th>delta_l2_mean</th>\n",
              "      <th>delta_mean_abs</th>\n",
              "      <th>cosine_mean</th>\n",
              "      <th>reference_norm_mean</th>\n",
              "      <th>candidate_norm_mean</th>\n",
              "      <th>model</th>\n",
              "    </tr>\n",
              "  </thead>\n",
              "  <tbody>\n",
              "    <tr>\n",
              "      <th>0</th>\n",
              "      <td>classifier.dense</td>\n",
              "      <td>18.138556</td>\n",
              "      <td>9.069278</td>\n",
              "      <td>0.010246</td>\n",
              "      <td>0.006909</td>\n",
              "      <td>8.110954</td>\n",
              "      <td>4.035976</td>\n",
              "      <td>average_merge</td>\n",
              "    </tr>\n",
              "    <tr>\n",
              "      <th>1</th>\n",
              "      <td>classifier.out_proj</td>\n",
              "      <td>5.692393</td>\n",
              "      <td>2.846196</td>\n",
              "      <td>0.010976</td>\n",
              "      <td>0.476921</td>\n",
              "      <td>2.549672</td>\n",
              "      <td>1.269647</td>\n",
              "      <td>average_merge</td>\n",
              "    </tr>\n",
              "    <tr>\n",
              "      <th>2</th>\n",
              "      <td>layer.0.attention.output</td>\n",
              "      <td>0.912226</td>\n",
              "      <td>0.228057</td>\n",
              "      <td>0.000646</td>\n",
              "      <td>0.999862</td>\n",
              "      <td>12.163187</td>\n",
              "      <td>12.160473</td>\n",
              "      <td>average_merge</td>\n",
              "    </tr>\n",
              "    <tr>\n",
              "      <th>3</th>\n",
              "      <td>layer.0.attention.self</td>\n",
              "      <td>2.746765</td>\n",
              "      <td>0.457794</td>\n",
              "      <td>0.000784</td>\n",
              "      <td>0.835181</td>\n",
              "      <td>37.604160</td>\n",
              "      <td>37.599261</td>\n",
              "      <td>average_merge</td>\n",
              "    </tr>\n",
              "    <tr>\n",
              "      <th>4</th>\n",
              "      <td>layer.0.intermediate.dense</td>\n",
              "      <td>1.953538</td>\n",
              "      <td>0.976769</td>\n",
              "      <td>0.000893</td>\n",
              "      <td>0.999894</td>\n",
              "      <td>54.539691</td>\n",
              "      <td>54.533035</td>\n",
              "      <td>average_merge</td>\n",
              "    </tr>\n",
              "    <tr>\n",
              "      <th>5</th>\n",
              "      <td>layer.0.output.LayerNorm</td>\n",
              "      <td>0.043579</td>\n",
              "      <td>0.021790</td>\n",
              "      <td>0.000631</td>\n",
              "      <td>0.999995</td>\n",
              "      <td>8.321657</td>\n",
              "      <td>8.321731</td>\n",
              "      <td>average_merge</td>\n",
              "    </tr>\n",
              "    <tr>\n",
              "      <th>6</th>\n",
              "      <td>layer.0.output.dense</td>\n",
              "      <td>1.687755</td>\n",
              "      <td>0.843877</td>\n",
              "      <td>0.000612</td>\n",
              "      <td>0.999838</td>\n",
              "      <td>36.397812</td>\n",
              "      <td>36.390770</td>\n",
              "      <td>average_merge</td>\n",
              "    </tr>\n",
              "    <tr>\n",
              "      <th>7</th>\n",
              "      <td>layer.1.attention.output</td>\n",
              "      <td>0.951174</td>\n",
              "      <td>0.237794</td>\n",
              "      <td>0.000652</td>\n",
              "      <td>0.999846</td>\n",
              "      <td>12.029604</td>\n",
              "      <td>12.026199</td>\n",
              "      <td>average_merge</td>\n",
              "    </tr>\n",
              "    <tr>\n",
              "      <th>8</th>\n",
              "      <td>layer.1.attention.self</td>\n",
              "      <td>2.873569</td>\n",
              "      <td>0.478928</td>\n",
              "      <td>0.000843</td>\n",
              "      <td>0.995487</td>\n",
              "      <td>29.437983</td>\n",
              "      <td>29.435704</td>\n",
              "      <td>average_merge</td>\n",
              "    </tr>\n",
              "    <tr>\n",
              "      <th>9</th>\n",
              "      <td>layer.1.intermediate.dense</td>\n",
              "      <td>1.962025</td>\n",
              "      <td>0.981012</td>\n",
              "      <td>0.000884</td>\n",
              "      <td>0.999883</td>\n",
              "      <td>53.006457</td>\n",
              "      <td>52.998790</td>\n",
              "      <td>average_merge</td>\n",
              "    </tr>\n",
              "    <tr>\n",
              "      <th>10</th>\n",
              "      <td>layer.1.output.LayerNorm</td>\n",
              "      <td>0.043947</td>\n",
              "      <td>0.021974</td>\n",
              "      <td>0.000631</td>\n",
              "      <td>0.999982</td>\n",
              "      <td>8.765510</td>\n",
              "      <td>8.764599</td>\n",
              "      <td>average_merge</td>\n",
              "    </tr>\n",
              "    <tr>\n",
              "      <th>11</th>\n",
              "      <td>layer.1.output.dense</td>\n",
              "      <td>1.649813</td>\n",
              "      <td>0.824906</td>\n",
              "      <td>0.000596</td>\n",
              "      <td>0.999833</td>\n",
              "      <td>34.932545</td>\n",
              "      <td>34.925633</td>\n",
              "      <td>average_merge</td>\n",
              "    </tr>\n",
              "    <tr>\n",
              "      <th>12</th>\n",
              "      <td>layer.10.attention.output</td>\n",
              "      <td>0.996252</td>\n",
              "      <td>0.249063</td>\n",
              "      <td>0.000613</td>\n",
              "      <td>0.999842</td>\n",
              "      <td>13.004941</td>\n",
              "      <td>13.002552</td>\n",
              "      <td>average_merge</td>\n",
              "    </tr>\n",
              "    <tr>\n",
              "      <th>13</th>\n",
              "      <td>layer.10.attention.self</td>\n",
              "      <td>3.244970</td>\n",
              "      <td>0.540828</td>\n",
              "      <td>0.000868</td>\n",
              "      <td>0.999738</td>\n",
              "      <td>24.521560</td>\n",
              "      <td>24.518331</td>\n",
              "      <td>average_merge</td>\n",
              "    </tr>\n",
              "    <tr>\n",
              "      <th>14</th>\n",
              "      <td>layer.10.intermediate.dense</td>\n",
              "      <td>2.181463</td>\n",
              "      <td>1.090731</td>\n",
              "      <td>0.000872</td>\n",
              "      <td>0.999765</td>\n",
              "      <td>39.071894</td>\n",
              "      <td>39.062175</td>\n",
              "      <td>average_merge</td>\n",
              "    </tr>\n",
              "    <tr>\n",
              "      <th>15</th>\n",
              "      <td>layer.10.output.LayerNorm</td>\n",
              "      <td>0.043507</td>\n",
              "      <td>0.021754</td>\n",
              "      <td>0.000604</td>\n",
              "      <td>0.999981</td>\n",
              "      <td>11.643812</td>\n",
              "      <td>11.644054</td>\n",
              "      <td>average_merge</td>\n",
              "    </tr>\n",
              "    <tr>\n",
              "      <th>16</th>\n",
              "      <td>layer.10.output.dense</td>\n",
              "      <td>1.378705</td>\n",
              "      <td>0.689352</td>\n",
              "      <td>0.000464</td>\n",
              "      <td>0.999902</td>\n",
              "      <td>36.870377</td>\n",
              "      <td>36.864672</td>\n",
              "      <td>average_merge</td>\n",
              "    </tr>\n",
              "    <tr>\n",
              "      <th>17</th>\n",
              "      <td>layer.11.attention.output</td>\n",
              "      <td>1.216299</td>\n",
              "      <td>0.304075</td>\n",
              "      <td>0.000719</td>\n",
              "      <td>0.999776</td>\n",
              "      <td>13.191960</td>\n",
              "      <td>13.189018</td>\n",
              "      <td>average_merge</td>\n",
              "    </tr>\n",
              "    <tr>\n",
              "      <th>18</th>\n",
              "      <td>layer.11.attention.self</td>\n",
              "      <td>3.274536</td>\n",
              "      <td>0.545756</td>\n",
              "      <td>0.000819</td>\n",
              "      <td>0.999639</td>\n",
              "      <td>26.512256</td>\n",
              "      <td>26.509222</td>\n",
              "      <td>average_merge</td>\n",
              "    </tr>\n",
              "    <tr>\n",
              "      <th>19</th>\n",
              "      <td>layer.11.intermediate.dense</td>\n",
              "      <td>3.287317</td>\n",
              "      <td>1.643658</td>\n",
              "      <td>0.001312</td>\n",
              "      <td>0.999405</td>\n",
              "      <td>37.427979</td>\n",
              "      <td>37.405386</td>\n",
              "      <td>average_merge</td>\n",
              "    </tr>\n",
              "    <tr>\n",
              "      <th>20</th>\n",
              "      <td>layer.11.output.LayerNorm</td>\n",
              "      <td>0.131985</td>\n",
              "      <td>0.065992</td>\n",
              "      <td>0.001907</td>\n",
              "      <td>0.999272</td>\n",
              "      <td>10.954400</td>\n",
              "      <td>10.944913</td>\n",
              "      <td>average_merge</td>\n",
              "    </tr>\n",
              "    <tr>\n",
              "      <th>21</th>\n",
              "      <td>layer.11.output.dense</td>\n",
              "      <td>4.510807</td>\n",
              "      <td>2.255403</td>\n",
              "      <td>0.001456</td>\n",
              "      <td>0.998441</td>\n",
              "      <td>29.661093</td>\n",
              "      <td>29.607846</td>\n",
              "      <td>average_merge</td>\n",
              "    </tr>\n",
              "    <tr>\n",
              "      <th>22</th>\n",
              "      <td>layer.2.attention.output</td>\n",
              "      <td>0.978317</td>\n",
              "      <td>0.244579</td>\n",
              "      <td>0.000685</td>\n",
              "      <td>0.999838</td>\n",
              "      <td>12.810927</td>\n",
              "      <td>12.806436</td>\n",
              "      <td>average_merge</td>\n",
              "    </tr>\n",
              "    <tr>\n",
              "      <th>23</th>\n",
              "      <td>layer.2.attention.self</td>\n",
              "      <td>2.951174</td>\n",
              "      <td>0.491862</td>\n",
              "      <td>0.000836</td>\n",
              "      <td>0.993883</td>\n",
              "      <td>25.724255</td>\n",
              "      <td>25.720262</td>\n",
              "      <td>average_merge</td>\n",
              "    </tr>\n",
              "    <tr>\n",
              "      <th>24</th>\n",
              "      <td>layer.2.intermediate.dense</td>\n",
              "      <td>2.009349</td>\n",
              "      <td>1.004674</td>\n",
              "      <td>0.000902</td>\n",
              "      <td>0.999876</td>\n",
              "      <td>51.444607</td>\n",
              "      <td>51.436991</td>\n",
              "      <td>average_merge</td>\n",
              "    </tr>\n",
              "    <tr>\n",
              "      <th>25</th>\n",
              "      <td>layer.2.output.LayerNorm</td>\n",
              "      <td>0.044262</td>\n",
              "      <td>0.022131</td>\n",
              "      <td>0.000640</td>\n",
              "      <td>0.999972</td>\n",
              "      <td>9.816910</td>\n",
              "      <td>9.817306</td>\n",
              "      <td>average_merge</td>\n",
              "    </tr>\n",
              "    <tr>\n",
              "      <th>26</th>\n",
              "      <td>layer.2.output.dense</td>\n",
              "      <td>1.728416</td>\n",
              "      <td>0.864208</td>\n",
              "      <td>0.000614</td>\n",
              "      <td>0.999861</td>\n",
              "      <td>38.638178</td>\n",
              "      <td>38.631146</td>\n",
              "      <td>average_merge</td>\n",
              "    </tr>\n",
              "    <tr>\n",
              "      <th>27</th>\n",
              "      <td>layer.3.attention.output</td>\n",
              "      <td>0.961036</td>\n",
              "      <td>0.240259</td>\n",
              "      <td>0.000644</td>\n",
              "      <td>0.999904</td>\n",
              "      <td>15.457107</td>\n",
              "      <td>15.456825</td>\n",
              "      <td>average_merge</td>\n",
              "    </tr>\n",
              "    <tr>\n",
              "      <th>28</th>\n",
              "      <td>layer.3.attention.self</td>\n",
              "      <td>2.993910</td>\n",
              "      <td>0.498985</td>\n",
              "      <td>0.000865</td>\n",
              "      <td>0.992472</td>\n",
              "      <td>24.484680</td>\n",
              "      <td>24.481542</td>\n",
              "      <td>average_merge</td>\n",
              "    </tr>\n",
              "    <tr>\n",
              "      <th>29</th>\n",
              "      <td>layer.3.intermediate.dense</td>\n",
              "      <td>2.036189</td>\n",
              "      <td>1.018094</td>\n",
              "      <td>0.000881</td>\n",
              "      <td>0.999891</td>\n",
              "      <td>54.824195</td>\n",
              "      <td>54.818386</td>\n",
              "      <td>average_merge</td>\n",
              "    </tr>\n",
              "    <tr>\n",
              "      <th>30</th>\n",
              "      <td>layer.3.output.LayerNorm</td>\n",
              "      <td>0.044599</td>\n",
              "      <td>0.022300</td>\n",
              "      <td>0.000631</td>\n",
              "      <td>0.999978</td>\n",
              "      <td>9.872079</td>\n",
              "      <td>9.872791</td>\n",
              "      <td>average_merge</td>\n",
              "    </tr>\n",
              "    <tr>\n",
              "      <th>31</th>\n",
              "      <td>layer.3.output.dense</td>\n",
              "      <td>1.657076</td>\n",
              "      <td>0.828538</td>\n",
              "      <td>0.000580</td>\n",
              "      <td>0.999901</td>\n",
              "      <td>43.778699</td>\n",
              "      <td>43.773471</td>\n",
              "      <td>average_merge</td>\n",
              "    </tr>\n",
              "    <tr>\n",
              "      <th>32</th>\n",
              "      <td>layer.4.attention.output</td>\n",
              "      <td>1.011187</td>\n",
              "      <td>0.252797</td>\n",
              "      <td>0.000682</td>\n",
              "      <td>0.999936</td>\n",
              "      <td>18.031477</td>\n",
              "      <td>18.029022</td>\n",
              "      <td>average_merge</td>\n",
              "    </tr>\n",
              "    <tr>\n",
              "      <th>33</th>\n",
              "      <td>layer.4.attention.self</td>\n",
              "      <td>3.153968</td>\n",
              "      <td>0.525661</td>\n",
              "      <td>0.000902</td>\n",
              "      <td>0.993098</td>\n",
              "      <td>25.957809</td>\n",
              "      <td>25.953276</td>\n",
              "      <td>average_merge</td>\n",
              "    </tr>\n",
              "    <tr>\n",
              "      <th>34</th>\n",
              "      <td>layer.4.intermediate.dense</td>\n",
              "      <td>2.059293</td>\n",
              "      <td>1.029646</td>\n",
              "      <td>0.000907</td>\n",
              "      <td>0.999904</td>\n",
              "      <td>59.378419</td>\n",
              "      <td>59.371931</td>\n",
              "      <td>average_merge</td>\n",
              "    </tr>\n",
              "    <tr>\n",
              "      <th>35</th>\n",
              "      <td>layer.4.output.LayerNorm</td>\n",
              "      <td>0.042446</td>\n",
              "      <td>0.021223</td>\n",
              "      <td>0.000608</td>\n",
              "      <td>0.999979</td>\n",
              "      <td>9.609040</td>\n",
              "      <td>9.609236</td>\n",
              "      <td>average_merge</td>\n",
              "    </tr>\n",
              "    <tr>\n",
              "      <th>36</th>\n",
              "      <td>layer.4.output.dense</td>\n",
              "      <td>1.674417</td>\n",
              "      <td>0.837208</td>\n",
              "      <td>0.000575</td>\n",
              "      <td>0.999911</td>\n",
              "      <td>46.736791</td>\n",
              "      <td>46.732959</td>\n",
              "      <td>average_merge</td>\n",
              "    </tr>\n",
              "    <tr>\n",
              "      <th>37</th>\n",
              "      <td>layer.5.attention.output</td>\n",
              "      <td>1.004280</td>\n",
              "      <td>0.251070</td>\n",
              "      <td>0.000663</td>\n",
              "      <td>0.999943</td>\n",
              "      <td>18.905877</td>\n",
              "      <td>18.905073</td>\n",
              "      <td>average_merge</td>\n",
              "    </tr>\n",
              "    <tr>\n",
              "      <th>38</th>\n",
              "      <td>layer.5.attention.self</td>\n",
              "      <td>3.124901</td>\n",
              "      <td>0.520817</td>\n",
              "      <td>0.000873</td>\n",
              "      <td>0.995257</td>\n",
              "      <td>24.810068</td>\n",
              "      <td>24.806737</td>\n",
              "      <td>average_merge</td>\n",
              "    </tr>\n",
              "    <tr>\n",
              "      <th>39</th>\n",
              "      <td>layer.5.intermediate.dense</td>\n",
              "      <td>2.112521</td>\n",
              "      <td>1.056260</td>\n",
              "      <td>0.000922</td>\n",
              "      <td>0.999897</td>\n",
              "      <td>58.070121</td>\n",
              "      <td>58.064919</td>\n",
              "      <td>average_merge</td>\n",
              "    </tr>\n",
              "    <tr>\n",
              "      <th>40</th>\n",
              "      <td>layer.5.output.LayerNorm</td>\n",
              "      <td>0.042220</td>\n",
              "      <td>0.021110</td>\n",
              "      <td>0.000594</td>\n",
              "      <td>0.999979</td>\n",
              "      <td>9.634914</td>\n",
              "      <td>9.635421</td>\n",
              "      <td>average_merge</td>\n",
              "    </tr>\n",
              "    <tr>\n",
              "      <th>41</th>\n",
              "      <td>layer.5.output.dense</td>\n",
              "      <td>1.742541</td>\n",
              "      <td>0.871271</td>\n",
              "      <td>0.000607</td>\n",
              "      <td>0.999895</td>\n",
              "      <td>44.844801</td>\n",
              "      <td>44.840016</td>\n",
              "      <td>average_merge</td>\n",
              "    </tr>\n",
              "    <tr>\n",
              "      <th>42</th>\n",
              "      <td>layer.6.attention.output</td>\n",
              "      <td>1.054254</td>\n",
              "      <td>0.263563</td>\n",
              "      <td>0.000714</td>\n",
              "      <td>0.999932</td>\n",
              "      <td>18.331039</td>\n",
              "      <td>18.331171</td>\n",
              "      <td>average_merge</td>\n",
              "    </tr>\n",
              "    <tr>\n",
              "      <th>43</th>\n",
              "      <td>layer.6.attention.self</td>\n",
              "      <td>3.242347</td>\n",
              "      <td>0.540391</td>\n",
              "      <td>0.000917</td>\n",
              "      <td>0.998163</td>\n",
              "      <td>25.880395</td>\n",
              "      <td>25.877584</td>\n",
              "      <td>average_merge</td>\n",
              "    </tr>\n",
              "    <tr>\n",
              "      <th>44</th>\n",
              "      <td>layer.6.intermediate.dense</td>\n",
              "      <td>2.195940</td>\n",
              "      <td>1.097970</td>\n",
              "      <td>0.000967</td>\n",
              "      <td>0.999882</td>\n",
              "      <td>56.282438</td>\n",
              "      <td>56.282046</td>\n",
              "      <td>average_merge</td>\n",
              "    </tr>\n",
              "    <tr>\n",
              "      <th>45</th>\n",
              "      <td>layer.6.output.LayerNorm</td>\n",
              "      <td>0.045812</td>\n",
              "      <td>0.022906</td>\n",
              "      <td>0.000646</td>\n",
              "      <td>0.999957</td>\n",
              "      <td>9.671740</td>\n",
              "      <td>9.670919</td>\n",
              "      <td>average_merge</td>\n",
              "    </tr>\n",
              "    <tr>\n",
              "      <th>46</th>\n",
              "      <td>layer.6.output.dense</td>\n",
              "      <td>1.767493</td>\n",
              "      <td>0.883747</td>\n",
              "      <td>0.000635</td>\n",
              "      <td>0.999890</td>\n",
              "      <td>44.569515</td>\n",
              "      <td>44.564741</td>\n",
              "      <td>average_merge</td>\n",
              "    </tr>\n",
              "    <tr>\n",
              "      <th>47</th>\n",
              "      <td>layer.7.attention.output</td>\n",
              "      <td>1.057074</td>\n",
              "      <td>0.264268</td>\n",
              "      <td>0.000683</td>\n",
              "      <td>0.999917</td>\n",
              "      <td>17.445592</td>\n",
              "      <td>17.443141</td>\n",
              "      <td>average_merge</td>\n",
              "    </tr>\n",
              "    <tr>\n",
              "      <th>48</th>\n",
              "      <td>layer.7.attention.self</td>\n",
              "      <td>3.332225</td>\n",
              "      <td>0.555371</td>\n",
              "      <td>0.000945</td>\n",
              "      <td>0.998725</td>\n",
              "      <td>25.218821</td>\n",
              "      <td>25.213244</td>\n",
              "      <td>average_merge</td>\n",
              "    </tr>\n",
              "    <tr>\n",
              "      <th>49</th>\n",
              "      <td>layer.7.intermediate.dense</td>\n",
              "      <td>2.221339</td>\n",
              "      <td>1.110669</td>\n",
              "      <td>0.000987</td>\n",
              "      <td>0.999872</td>\n",
              "      <td>54.412905</td>\n",
              "      <td>54.402983</td>\n",
              "      <td>average_merge</td>\n",
              "    </tr>\n",
              "    <tr>\n",
              "      <th>50</th>\n",
              "      <td>layer.7.output.LayerNorm</td>\n",
              "      <td>0.044122</td>\n",
              "      <td>0.022061</td>\n",
              "      <td>0.000621</td>\n",
              "      <td>0.999975</td>\n",
              "      <td>10.503670</td>\n",
              "      <td>10.504444</td>\n",
              "      <td>average_merge</td>\n",
              "    </tr>\n",
              "    <tr>\n",
              "      <th>51</th>\n",
              "      <td>layer.7.output.dense</td>\n",
              "      <td>1.727136</td>\n",
              "      <td>0.863568</td>\n",
              "      <td>0.000603</td>\n",
              "      <td>0.999889</td>\n",
              "      <td>43.076586</td>\n",
              "      <td>43.072322</td>\n",
              "      <td>average_merge</td>\n",
              "    </tr>\n",
              "    <tr>\n",
              "      <th>52</th>\n",
              "      <td>layer.8.attention.output</td>\n",
              "      <td>1.073916</td>\n",
              "      <td>0.268479</td>\n",
              "      <td>0.000688</td>\n",
              "      <td>0.999926</td>\n",
              "      <td>17.843565</td>\n",
              "      <td>17.841273</td>\n",
              "      <td>average_merge</td>\n",
              "    </tr>\n",
              "    <tr>\n",
              "      <th>53</th>\n",
              "      <td>layer.8.attention.self</td>\n",
              "      <td>3.339883</td>\n",
              "      <td>0.556647</td>\n",
              "      <td>0.000934</td>\n",
              "      <td>0.999482</td>\n",
              "      <td>25.530277</td>\n",
              "      <td>25.525733</td>\n",
              "      <td>average_merge</td>\n",
              "    </tr>\n",
              "    <tr>\n",
              "      <th>54</th>\n",
              "      <td>layer.8.intermediate.dense</td>\n",
              "      <td>2.204933</td>\n",
              "      <td>1.102466</td>\n",
              "      <td>0.000952</td>\n",
              "      <td>0.999866</td>\n",
              "      <td>52.740470</td>\n",
              "      <td>52.731652</td>\n",
              "      <td>average_merge</td>\n",
              "    </tr>\n",
              "    <tr>\n",
              "      <th>55</th>\n",
              "      <td>layer.8.output.LayerNorm</td>\n",
              "      <td>0.042688</td>\n",
              "      <td>0.021344</td>\n",
              "      <td>0.000611</td>\n",
              "      <td>0.999980</td>\n",
              "      <td>10.565993</td>\n",
              "      <td>10.566263</td>\n",
              "      <td>average_merge</td>\n",
              "    </tr>\n",
              "    <tr>\n",
              "      <th>56</th>\n",
              "      <td>layer.8.output.dense</td>\n",
              "      <td>1.606405</td>\n",
              "      <td>0.803202</td>\n",
              "      <td>0.000566</td>\n",
              "      <td>0.999905</td>\n",
              "      <td>43.473017</td>\n",
              "      <td>43.469092</td>\n",
              "      <td>average_merge</td>\n",
              "    </tr>\n",
              "    <tr>\n",
              "      <th>57</th>\n",
              "      <td>layer.9.attention.output</td>\n",
              "      <td>1.035243</td>\n",
              "      <td>0.258811</td>\n",
              "      <td>0.000676</td>\n",
              "      <td>0.999894</td>\n",
              "      <td>15.521183</td>\n",
              "      <td>15.520423</td>\n",
              "      <td>average_merge</td>\n",
              "    </tr>\n",
              "    <tr>\n",
              "      <th>58</th>\n",
              "      <td>layer.9.attention.self</td>\n",
              "      <td>3.269741</td>\n",
              "      <td>0.544957</td>\n",
              "      <td>0.000898</td>\n",
              "      <td>0.999577</td>\n",
              "      <td>25.297581</td>\n",
              "      <td>25.293697</td>\n",
              "      <td>average_merge</td>\n",
              "    </tr>\n",
              "    <tr>\n",
              "      <th>59</th>\n",
              "      <td>layer.9.intermediate.dense</td>\n",
              "      <td>2.168271</td>\n",
              "      <td>1.084135</td>\n",
              "      <td>0.000906</td>\n",
              "      <td>0.999846</td>\n",
              "      <td>48.234539</td>\n",
              "      <td>48.226561</td>\n",
              "      <td>average_merge</td>\n",
              "    </tr>\n",
              "    <tr>\n",
              "      <th>60</th>\n",
              "      <td>layer.9.output.LayerNorm</td>\n",
              "      <td>0.042155</td>\n",
              "      <td>0.021078</td>\n",
              "      <td>0.000605</td>\n",
              "      <td>0.999986</td>\n",
              "      <td>11.296189</td>\n",
              "      <td>11.296129</td>\n",
              "      <td>average_merge</td>\n",
              "    </tr>\n",
              "    <tr>\n",
              "      <th>61</th>\n",
              "      <td>layer.9.output.dense</td>\n",
              "      <td>1.520989</td>\n",
              "      <td>0.760494</td>\n",
              "      <td>0.000511</td>\n",
              "      <td>0.999911</td>\n",
              "      <td>42.289223</td>\n",
              "      <td>42.285314</td>\n",
              "      <td>average_merge</td>\n",
              "    </tr>\n",
              "    <tr>\n",
              "      <th>62</th>\n",
              "      <td>roberta.embeddings.LayerNorm</td>\n",
              "      <td>0.041635</td>\n",
              "      <td>0.020817</td>\n",
              "      <td>0.000589</td>\n",
              "      <td>0.999993</td>\n",
              "      <td>5.906263</td>\n",
              "      <td>5.906326</td>\n",
              "      <td>average_merge</td>\n",
              "    </tr>\n",
              "    <tr>\n",
              "      <th>63</th>\n",
              "      <td>roberta.embeddings.position_embeddings</td>\n",
              "      <td>0.212161</td>\n",
              "      <td>0.212161</td>\n",
              "      <td>0.000086</td>\n",
              "      <td>0.999993</td>\n",
              "      <td>55.532429</td>\n",
              "      <td>55.531384</td>\n",
              "      <td>average_merge</td>\n",
              "    </tr>\n",
              "    <tr>\n",
              "      <th>64</th>\n",
              "      <td>roberta.embeddings.token_type_embeddings</td>\n",
              "      <td>0.015027</td>\n",
              "      <td>0.015027</td>\n",
              "      <td>0.000426</td>\n",
              "      <td>0.767040</td>\n",
              "      <td>0.023412</td>\n",
              "      <td>0.018373</td>\n",
              "      <td>average_merge</td>\n",
              "    </tr>\n",
              "    <tr>\n",
              "      <th>65</th>\n",
              "      <td>roberta.embeddings.word_embeddings</td>\n",
              "      <td>1.967321</td>\n",
              "      <td>1.967321</td>\n",
              "      <td>0.000021</td>\n",
              "      <td>1.000000</td>\n",
              "      <td>2939.887695</td>\n",
              "      <td>2939.886475</td>\n",
              "      <td>average_merge</td>\n",
              "    </tr>\n",
              "    <tr>\n",
              "      <th>66</th>\n",
              "      <td>classifier.dense</td>\n",
              "      <td>18.155677</td>\n",
              "      <td>9.077839</td>\n",
              "      <td>0.010257</td>\n",
              "      <td>0.008468</td>\n",
              "      <td>8.110954</td>\n",
              "      <td>4.054784</td>\n",
              "      <td>similarity_merge</td>\n",
              "    </tr>\n",
              "    <tr>\n",
              "      <th>67</th>\n",
              "      <td>classifier.out_proj</td>\n",
              "      <td>5.695229</td>\n",
              "      <td>2.847614</td>\n",
              "      <td>0.010987</td>\n",
              "      <td>0.476793</td>\n",
              "      <td>2.549672</td>\n",
              "      <td>1.274431</td>\n",
              "      <td>similarity_merge</td>\n",
              "    </tr>\n",
              "    <tr>\n",
              "      <th>68</th>\n",
              "      <td>layer.0.attention.output</td>\n",
              "      <td>0.914028</td>\n",
              "      <td>0.228507</td>\n",
              "      <td>0.000647</td>\n",
              "      <td>0.999861</td>\n",
              "      <td>12.163187</td>\n",
              "      <td>12.160477</td>\n",
              "      <td>similarity_merge</td>\n",
              "    </tr>\n",
              "    <tr>\n",
              "      <th>69</th>\n",
              "      <td>layer.0.attention.self</td>\n",
              "      <td>2.752140</td>\n",
              "      <td>0.458690</td>\n",
              "      <td>0.000786</td>\n",
              "      <td>0.835213</td>\n",
              "      <td>37.604160</td>\n",
              "      <td>37.599287</td>\n",
              "      <td>similarity_merge</td>\n",
              "    </tr>\n",
              "    <tr>\n",
              "      <th>70</th>\n",
              "      <td>layer.0.intermediate.dense</td>\n",
              "      <td>1.959079</td>\n",
              "      <td>0.979539</td>\n",
              "      <td>0.000896</td>\n",
              "      <td>0.999894</td>\n",
              "      <td>54.539691</td>\n",
              "      <td>54.533113</td>\n",
              "      <td>similarity_merge</td>\n",
              "    </tr>\n",
              "    <tr>\n",
              "      <th>71</th>\n",
              "      <td>layer.0.output.LayerNorm</td>\n",
              "      <td>0.043614</td>\n",
              "      <td>0.021807</td>\n",
              "      <td>0.000632</td>\n",
              "      <td>0.999995</td>\n",
              "      <td>8.321657</td>\n",
              "      <td>8.321754</td>\n",
              "      <td>similarity_merge</td>\n",
              "    </tr>\n",
              "    <tr>\n",
              "      <th>72</th>\n",
              "      <td>layer.0.output.dense</td>\n",
              "      <td>1.690730</td>\n",
              "      <td>0.845365</td>\n",
              "      <td>0.000614</td>\n",
              "      <td>0.999837</td>\n",
              "      <td>36.397812</td>\n",
              "      <td>36.390765</td>\n",
              "      <td>similarity_merge</td>\n",
              "    </tr>\n",
              "    <tr>\n",
              "      <th>73</th>\n",
              "      <td>layer.1.attention.output</td>\n",
              "      <td>0.953839</td>\n",
              "      <td>0.238460</td>\n",
              "      <td>0.000654</td>\n",
              "      <td>0.999845</td>\n",
              "      <td>12.029604</td>\n",
              "      <td>12.026233</td>\n",
              "      <td>similarity_merge</td>\n",
              "    </tr>\n",
              "    <tr>\n",
              "      <th>74</th>\n",
              "      <td>layer.1.attention.self</td>\n",
              "      <td>2.879758</td>\n",
              "      <td>0.479960</td>\n",
              "      <td>0.000846</td>\n",
              "      <td>0.995447</td>\n",
              "      <td>29.437983</td>\n",
              "      <td>29.435763</td>\n",
              "      <td>similarity_merge</td>\n",
              "    </tr>\n",
              "    <tr>\n",
              "      <th>75</th>\n",
              "      <td>layer.1.intermediate.dense</td>\n",
              "      <td>1.967369</td>\n",
              "      <td>0.983685</td>\n",
              "      <td>0.000886</td>\n",
              "      <td>0.999883</td>\n",
              "      <td>53.006457</td>\n",
              "      <td>52.998776</td>\n",
              "      <td>similarity_merge</td>\n",
              "    </tr>\n",
              "    <tr>\n",
              "      <th>76</th>\n",
              "      <td>layer.1.output.LayerNorm</td>\n",
              "      <td>0.044048</td>\n",
              "      <td>0.022024</td>\n",
              "      <td>0.000633</td>\n",
              "      <td>0.999982</td>\n",
              "      <td>8.765510</td>\n",
              "      <td>8.764634</td>\n",
              "      <td>similarity_merge</td>\n",
              "    </tr>\n",
              "    <tr>\n",
              "      <th>77</th>\n",
              "      <td>layer.1.output.dense</td>\n",
              "      <td>1.654277</td>\n",
              "      <td>0.827139</td>\n",
              "      <td>0.000598</td>\n",
              "      <td>0.999832</td>\n",
              "      <td>34.932545</td>\n",
              "      <td>34.925662</td>\n",
              "      <td>similarity_merge</td>\n",
              "    </tr>\n",
              "    <tr>\n",
              "      <th>78</th>\n",
              "      <td>layer.10.attention.output</td>\n",
              "      <td>0.999023</td>\n",
              "      <td>0.249756</td>\n",
              "      <td>0.000615</td>\n",
              "      <td>0.999841</td>\n",
              "      <td>13.004941</td>\n",
              "      <td>13.002531</td>\n",
              "      <td>similarity_merge</td>\n",
              "    </tr>\n",
              "    <tr>\n",
              "      <th>79</th>\n",
              "      <td>layer.10.attention.self</td>\n",
              "      <td>3.254297</td>\n",
              "      <td>0.542383</td>\n",
              "      <td>0.000871</td>\n",
              "      <td>0.999737</td>\n",
              "      <td>24.521560</td>\n",
              "      <td>24.518365</td>\n",
              "      <td>similarity_merge</td>\n",
              "    </tr>\n",
              "    <tr>\n",
              "      <th>80</th>\n",
              "      <td>layer.10.intermediate.dense</td>\n",
              "      <td>2.185954</td>\n",
              "      <td>1.092977</td>\n",
              "      <td>0.000874</td>\n",
              "      <td>0.999764</td>\n",
              "      <td>39.071894</td>\n",
              "      <td>39.062191</td>\n",
              "      <td>similarity_merge</td>\n",
              "    </tr>\n",
              "    <tr>\n",
              "      <th>81</th>\n",
              "      <td>layer.10.output.LayerNorm</td>\n",
              "      <td>0.043583</td>\n",
              "      <td>0.021791</td>\n",
              "      <td>0.000606</td>\n",
              "      <td>0.999981</td>\n",
              "      <td>11.643812</td>\n",
              "      <td>11.644032</td>\n",
              "      <td>similarity_merge</td>\n",
              "    </tr>\n",
              "    <tr>\n",
              "      <th>82</th>\n",
              "      <td>layer.10.output.dense</td>\n",
              "      <td>1.381663</td>\n",
              "      <td>0.690832</td>\n",
              "      <td>0.000465</td>\n",
              "      <td>0.999901</td>\n",
              "      <td>36.870377</td>\n",
              "      <td>36.864710</td>\n",
              "      <td>similarity_merge</td>\n",
              "    </tr>\n",
              "    <tr>\n",
              "      <th>83</th>\n",
              "      <td>layer.11.attention.output</td>\n",
              "      <td>1.217227</td>\n",
              "      <td>0.304307</td>\n",
              "      <td>0.000718</td>\n",
              "      <td>0.999776</td>\n",
              "      <td>13.191960</td>\n",
              "      <td>13.189010</td>\n",
              "      <td>similarity_merge</td>\n",
              "    </tr>\n",
              "    <tr>\n",
              "      <th>84</th>\n",
              "      <td>layer.11.attention.self</td>\n",
              "      <td>3.281220</td>\n",
              "      <td>0.546870</td>\n",
              "      <td>0.000821</td>\n",
              "      <td>0.999640</td>\n",
              "      <td>26.512256</td>\n",
              "      <td>26.509212</td>\n",
              "      <td>similarity_merge</td>\n",
              "    </tr>\n",
              "    <tr>\n",
              "      <th>85</th>\n",
              "      <td>layer.11.intermediate.dense</td>\n",
              "      <td>3.290693</td>\n",
              "      <td>1.645347</td>\n",
              "      <td>0.001314</td>\n",
              "      <td>0.999404</td>\n",
              "      <td>37.427979</td>\n",
              "      <td>37.405480</td>\n",
              "      <td>similarity_merge</td>\n",
              "    </tr>\n",
              "    <tr>\n",
              "      <th>86</th>\n",
              "      <td>layer.11.output.LayerNorm</td>\n",
              "      <td>0.132580</td>\n",
              "      <td>0.066290</td>\n",
              "      <td>0.001913</td>\n",
              "      <td>0.999269</td>\n",
              "      <td>10.954400</td>\n",
              "      <td>10.944295</td>\n",
              "      <td>similarity_merge</td>\n",
              "    </tr>\n",
              "    <tr>\n",
              "      <th>87</th>\n",
              "      <td>layer.11.output.dense</td>\n",
              "      <td>4.513310</td>\n",
              "      <td>2.256655</td>\n",
              "      <td>0.001458</td>\n",
              "      <td>0.998440</td>\n",
              "      <td>29.661093</td>\n",
              "      <td>29.607839</td>\n",
              "      <td>similarity_merge</td>\n",
              "    </tr>\n",
              "    <tr>\n",
              "      <th>88</th>\n",
              "      <td>layer.2.attention.output</td>\n",
              "      <td>0.980638</td>\n",
              "      <td>0.245159</td>\n",
              "      <td>0.000686</td>\n",
              "      <td>0.999838</td>\n",
              "      <td>12.810927</td>\n",
              "      <td>12.806456</td>\n",
              "      <td>similarity_merge</td>\n",
              "    </tr>\n",
              "    <tr>\n",
              "      <th>89</th>\n",
              "      <td>layer.2.attention.self</td>\n",
              "      <td>2.957758</td>\n",
              "      <td>0.492960</td>\n",
              "      <td>0.000838</td>\n",
              "      <td>0.993868</td>\n",
              "      <td>25.724255</td>\n",
              "      <td>25.720302</td>\n",
              "      <td>similarity_merge</td>\n",
              "    </tr>\n",
              "    <tr>\n",
              "      <th>90</th>\n",
              "      <td>layer.2.intermediate.dense</td>\n",
              "      <td>2.015405</td>\n",
              "      <td>1.007703</td>\n",
              "      <td>0.000904</td>\n",
              "      <td>0.999876</td>\n",
              "      <td>51.444607</td>\n",
              "      <td>51.437050</td>\n",
              "      <td>similarity_merge</td>\n",
              "    </tr>\n",
              "    <tr>\n",
              "      <th>91</th>\n",
              "      <td>layer.2.output.LayerNorm</td>\n",
              "      <td>0.044404</td>\n",
              "      <td>0.022202</td>\n",
              "      <td>0.000642</td>\n",
              "      <td>0.999972</td>\n",
              "      <td>9.816910</td>\n",
              "      <td>9.817362</td>\n",
              "      <td>similarity_merge</td>\n",
              "    </tr>\n",
              "    <tr>\n",
              "      <th>92</th>\n",
              "      <td>layer.2.output.dense</td>\n",
              "      <td>1.733408</td>\n",
              "      <td>0.866704</td>\n",
              "      <td>0.000616</td>\n",
              "      <td>0.999860</td>\n",
              "      <td>38.638178</td>\n",
              "      <td>38.631137</td>\n",
              "      <td>similarity_merge</td>\n",
              "    </tr>\n",
              "    <tr>\n",
              "      <th>93</th>\n",
              "      <td>layer.3.attention.output</td>\n",
              "      <td>0.963727</td>\n",
              "      <td>0.240932</td>\n",
              "      <td>0.000646</td>\n",
              "      <td>0.999903</td>\n",
              "      <td>15.457107</td>\n",
              "      <td>15.456810</td>\n",
              "      <td>similarity_merge</td>\n",
              "    </tr>\n",
              "    <tr>\n",
              "      <th>94</th>\n",
              "      <td>layer.3.attention.self</td>\n",
              "      <td>3.001638</td>\n",
              "      <td>0.500273</td>\n",
              "      <td>0.000866</td>\n",
              "      <td>0.992499</td>\n",
              "      <td>24.484680</td>\n",
              "      <td>24.481533</td>\n",
              "      <td>similarity_merge</td>\n",
              "    </tr>\n",
              "    <tr>\n",
              "      <th>95</th>\n",
              "      <td>layer.3.intermediate.dense</td>\n",
              "      <td>2.042954</td>\n",
              "      <td>1.021477</td>\n",
              "      <td>0.000884</td>\n",
              "      <td>0.999890</td>\n",
              "      <td>54.824195</td>\n",
              "      <td>54.818416</td>\n",
              "      <td>similarity_merge</td>\n",
              "    </tr>\n",
              "    <tr>\n",
              "      <th>96</th>\n",
              "      <td>layer.3.output.LayerNorm</td>\n",
              "      <td>0.044731</td>\n",
              "      <td>0.022365</td>\n",
              "      <td>0.000633</td>\n",
              "      <td>0.999977</td>\n",
              "      <td>9.872079</td>\n",
              "      <td>9.872823</td>\n",
              "      <td>similarity_merge</td>\n",
              "    </tr>\n",
              "    <tr>\n",
              "      <th>97</th>\n",
              "      <td>layer.3.output.dense</td>\n",
              "      <td>1.662544</td>\n",
              "      <td>0.831272</td>\n",
              "      <td>0.000582</td>\n",
              "      <td>0.999900</td>\n",
              "      <td>43.778699</td>\n",
              "      <td>43.773552</td>\n",
              "      <td>similarity_merge</td>\n",
              "    </tr>\n",
              "    <tr>\n",
              "      <th>98</th>\n",
              "      <td>layer.4.attention.output</td>\n",
              "      <td>1.014611</td>\n",
              "      <td>0.253653</td>\n",
              "      <td>0.000684</td>\n",
              "      <td>0.999936</td>\n",
              "      <td>18.031477</td>\n",
              "      <td>18.029018</td>\n",
              "      <td>similarity_merge</td>\n",
              "    </tr>\n",
              "    <tr>\n",
              "      <th>99</th>\n",
              "      <td>layer.4.attention.self</td>\n",
              "      <td>3.163776</td>\n",
              "      <td>0.527296</td>\n",
              "      <td>0.000904</td>\n",
              "      <td>0.993058</td>\n",
              "      <td>25.957809</td>\n",
              "      <td>25.953325</td>\n",
              "      <td>similarity_merge</td>\n",
              "    </tr>\n",
              "    <tr>\n",
              "      <th>100</th>\n",
              "      <td>layer.4.intermediate.dense</td>\n",
              "      <td>2.067492</td>\n",
              "      <td>1.033746</td>\n",
              "      <td>0.000910</td>\n",
              "      <td>0.999903</td>\n",
              "      <td>59.378419</td>\n",
              "      <td>59.371954</td>\n",
              "      <td>similarity_merge</td>\n",
              "    </tr>\n",
              "    <tr>\n",
              "      <th>101</th>\n",
              "      <td>layer.4.output.LayerNorm</td>\n",
              "      <td>0.042584</td>\n",
              "      <td>0.021292</td>\n",
              "      <td>0.000610</td>\n",
              "      <td>0.999979</td>\n",
              "      <td>9.609040</td>\n",
              "      <td>9.609282</td>\n",
              "      <td>similarity_merge</td>\n",
              "    </tr>\n",
              "    <tr>\n",
              "      <th>102</th>\n",
              "      <td>layer.4.output.dense</td>\n",
              "      <td>1.680385</td>\n",
              "      <td>0.840193</td>\n",
              "      <td>0.000576</td>\n",
              "      <td>0.999911</td>\n",
              "      <td>46.736791</td>\n",
              "      <td>46.733025</td>\n",
              "      <td>similarity_merge</td>\n",
              "    </tr>\n",
              "    <tr>\n",
              "      <th>103</th>\n",
              "      <td>layer.5.attention.output</td>\n",
              "      <td>1.008108</td>\n",
              "      <td>0.252027</td>\n",
              "      <td>0.000665</td>\n",
              "      <td>0.999943</td>\n",
              "      <td>18.905877</td>\n",
              "      <td>18.905000</td>\n",
              "      <td>similarity_merge</td>\n",
              "    </tr>\n",
              "    <tr>\n",
              "      <th>104</th>\n",
              "      <td>layer.5.attention.self</td>\n",
              "      <td>3.135867</td>\n",
              "      <td>0.522644</td>\n",
              "      <td>0.000877</td>\n",
              "      <td>0.995221</td>\n",
              "      <td>24.810068</td>\n",
              "      <td>24.806815</td>\n",
              "      <td>similarity_merge</td>\n",
              "    </tr>\n",
              "    <tr>\n",
              "      <th>105</th>\n",
              "      <td>layer.5.intermediate.dense</td>\n",
              "      <td>2.120052</td>\n",
              "      <td>1.060026</td>\n",
              "      <td>0.000926</td>\n",
              "      <td>0.999897</td>\n",
              "      <td>58.070121</td>\n",
              "      <td>58.064830</td>\n",
              "      <td>similarity_merge</td>\n",
              "    </tr>\n",
              "    <tr>\n",
              "      <th>106</th>\n",
              "      <td>layer.5.output.LayerNorm</td>\n",
              "      <td>0.042354</td>\n",
              "      <td>0.021177</td>\n",
              "      <td>0.000594</td>\n",
              "      <td>0.999979</td>\n",
              "      <td>9.634914</td>\n",
              "      <td>9.635466</td>\n",
              "      <td>similarity_merge</td>\n",
              "    </tr>\n",
              "    <tr>\n",
              "      <th>107</th>\n",
              "      <td>layer.5.output.dense</td>\n",
              "      <td>1.748297</td>\n",
              "      <td>0.874148</td>\n",
              "      <td>0.000608</td>\n",
              "      <td>0.999895</td>\n",
              "      <td>44.844801</td>\n",
              "      <td>44.840098</td>\n",
              "      <td>similarity_merge</td>\n",
              "    </tr>\n",
              "    <tr>\n",
              "      <th>108</th>\n",
              "      <td>layer.6.attention.output</td>\n",
              "      <td>1.058205</td>\n",
              "      <td>0.264551</td>\n",
              "      <td>0.000715</td>\n",
              "      <td>0.999931</td>\n",
              "      <td>18.331039</td>\n",
              "      <td>18.331188</td>\n",
              "      <td>similarity_merge</td>\n",
              "    </tr>\n",
              "    <tr>\n",
              "      <th>109</th>\n",
              "      <td>layer.6.attention.self</td>\n",
              "      <td>3.251470</td>\n",
              "      <td>0.541912</td>\n",
              "      <td>0.000918</td>\n",
              "      <td>0.998178</td>\n",
              "      <td>25.880395</td>\n",
              "      <td>25.877677</td>\n",
              "      <td>similarity_merge</td>\n",
              "    </tr>\n",
              "    <tr>\n",
              "      <th>110</th>\n",
              "      <td>layer.6.intermediate.dense</td>\n",
              "      <td>2.204267</td>\n",
              "      <td>1.102133</td>\n",
              "      <td>0.000971</td>\n",
              "      <td>0.999881</td>\n",
              "      <td>56.282438</td>\n",
              "      <td>56.282135</td>\n",
              "      <td>similarity_merge</td>\n",
              "    </tr>\n",
              "    <tr>\n",
              "      <th>111</th>\n",
              "      <td>layer.6.output.LayerNorm</td>\n",
              "      <td>0.045963</td>\n",
              "      <td>0.022981</td>\n",
              "      <td>0.000646</td>\n",
              "      <td>0.999957</td>\n",
              "      <td>9.671740</td>\n",
              "      <td>9.670928</td>\n",
              "      <td>similarity_merge</td>\n",
              "    </tr>\n",
              "    <tr>\n",
              "      <th>112</th>\n",
              "      <td>layer.6.output.dense</td>\n",
              "      <td>1.774242</td>\n",
              "      <td>0.887121</td>\n",
              "      <td>0.000638</td>\n",
              "      <td>0.999890</td>\n",
              "      <td>44.569515</td>\n",
              "      <td>44.564784</td>\n",
              "      <td>similarity_merge</td>\n",
              "    </tr>\n",
              "    <tr>\n",
              "      <th>113</th>\n",
              "      <td>layer.7.attention.output</td>\n",
              "      <td>1.060416</td>\n",
              "      <td>0.265104</td>\n",
              "      <td>0.000685</td>\n",
              "      <td>0.999917</td>\n",
              "      <td>17.445592</td>\n",
              "      <td>17.443099</td>\n",
              "      <td>similarity_merge</td>\n",
              "    </tr>\n",
              "    <tr>\n",
              "      <th>114</th>\n",
              "      <td>layer.7.attention.self</td>\n",
              "      <td>3.340852</td>\n",
              "      <td>0.556809</td>\n",
              "      <td>0.000948</td>\n",
              "      <td>0.998718</td>\n",
              "      <td>25.218821</td>\n",
              "      <td>25.213316</td>\n",
              "      <td>similarity_merge</td>\n",
              "    </tr>\n",
              "    <tr>\n",
              "      <th>115</th>\n",
              "      <td>layer.7.intermediate.dense</td>\n",
              "      <td>2.228631</td>\n",
              "      <td>1.114316</td>\n",
              "      <td>0.000990</td>\n",
              "      <td>0.999871</td>\n",
              "      <td>54.412905</td>\n",
              "      <td>54.402984</td>\n",
              "      <td>similarity_merge</td>\n",
              "    </tr>\n",
              "    <tr>\n",
              "      <th>116</th>\n",
              "      <td>layer.7.output.LayerNorm</td>\n",
              "      <td>0.044368</td>\n",
              "      <td>0.022184</td>\n",
              "      <td>0.000624</td>\n",
              "      <td>0.999975</td>\n",
              "      <td>10.503670</td>\n",
              "      <td>10.504477</td>\n",
              "      <td>similarity_merge</td>\n",
              "    </tr>\n",
              "    <tr>\n",
              "      <th>117</th>\n",
              "      <td>layer.7.output.dense</td>\n",
              "      <td>1.732398</td>\n",
              "      <td>0.866199</td>\n",
              "      <td>0.000606</td>\n",
              "      <td>0.999888</td>\n",
              "      <td>43.076586</td>\n",
              "      <td>43.072387</td>\n",
              "      <td>similarity_merge</td>\n",
              "    </tr>\n",
              "    <tr>\n",
              "      <th>118</th>\n",
              "      <td>layer.8.attention.output</td>\n",
              "      <td>1.077018</td>\n",
              "      <td>0.269255</td>\n",
              "      <td>0.000690</td>\n",
              "      <td>0.999926</td>\n",
              "      <td>17.843565</td>\n",
              "      <td>17.841245</td>\n",
              "      <td>similarity_merge</td>\n",
              "    </tr>\n",
              "    <tr>\n",
              "      <th>119</th>\n",
              "      <td>layer.8.attention.self</td>\n",
              "      <td>3.349574</td>\n",
              "      <td>0.558262</td>\n",
              "      <td>0.000936</td>\n",
              "      <td>0.999480</td>\n",
              "      <td>25.530277</td>\n",
              "      <td>25.525777</td>\n",
              "      <td>similarity_merge</td>\n",
              "    </tr>\n",
              "    <tr>\n",
              "      <th>120</th>\n",
              "      <td>layer.8.intermediate.dense</td>\n",
              "      <td>2.211251</td>\n",
              "      <td>1.105625</td>\n",
              "      <td>0.000955</td>\n",
              "      <td>0.999865</td>\n",
              "      <td>52.740470</td>\n",
              "      <td>52.731632</td>\n",
              "      <td>similarity_merge</td>\n",
              "    </tr>\n",
              "    <tr>\n",
              "      <th>121</th>\n",
              "      <td>layer.8.output.LayerNorm</td>\n",
              "      <td>0.042759</td>\n",
              "      <td>0.021380</td>\n",
              "      <td>0.000612</td>\n",
              "      <td>0.999980</td>\n",
              "      <td>10.565993</td>\n",
              "      <td>10.566247</td>\n",
              "      <td>similarity_merge</td>\n",
              "    </tr>\n",
              "    <tr>\n",
              "      <th>122</th>\n",
              "      <td>layer.8.output.dense</td>\n",
              "      <td>1.610629</td>\n",
              "      <td>0.805314</td>\n",
              "      <td>0.000567</td>\n",
              "      <td>0.999905</td>\n",
              "      <td>43.473017</td>\n",
              "      <td>43.469111</td>\n",
              "      <td>similarity_merge</td>\n",
              "    </tr>\n",
              "    <tr>\n",
              "      <th>123</th>\n",
              "      <td>layer.9.attention.output</td>\n",
              "      <td>1.037873</td>\n",
              "      <td>0.259468</td>\n",
              "      <td>0.000677</td>\n",
              "      <td>0.999894</td>\n",
              "      <td>15.521183</td>\n",
              "      <td>15.520450</td>\n",
              "      <td>similarity_merge</td>\n",
              "    </tr>\n",
              "    <tr>\n",
              "      <th>124</th>\n",
              "      <td>layer.9.attention.self</td>\n",
              "      <td>3.278431</td>\n",
              "      <td>0.546405</td>\n",
              "      <td>0.000900</td>\n",
              "      <td>0.999573</td>\n",
              "      <td>25.297581</td>\n",
              "      <td>25.293705</td>\n",
              "      <td>similarity_merge</td>\n",
              "    </tr>\n",
              "    <tr>\n",
              "      <th>125</th>\n",
              "      <td>layer.9.intermediate.dense</td>\n",
              "      <td>2.172840</td>\n",
              "      <td>1.086420</td>\n",
              "      <td>0.000908</td>\n",
              "      <td>0.999846</td>\n",
              "      <td>48.234539</td>\n",
              "      <td>48.226655</td>\n",
              "      <td>similarity_merge</td>\n",
              "    </tr>\n",
              "    <tr>\n",
              "      <th>126</th>\n",
              "      <td>layer.9.output.LayerNorm</td>\n",
              "      <td>0.042239</td>\n",
              "      <td>0.021119</td>\n",
              "      <td>0.000606</td>\n",
              "      <td>0.999986</td>\n",
              "      <td>11.296189</td>\n",
              "      <td>11.296110</td>\n",
              "      <td>similarity_merge</td>\n",
              "    </tr>\n",
              "    <tr>\n",
              "      <th>127</th>\n",
              "      <td>layer.9.output.dense</td>\n",
              "      <td>1.525172</td>\n",
              "      <td>0.762586</td>\n",
              "      <td>0.000512</td>\n",
              "      <td>0.999910</td>\n",
              "      <td>42.289223</td>\n",
              "      <td>42.285353</td>\n",
              "      <td>similarity_merge</td>\n",
              "    </tr>\n",
              "    <tr>\n",
              "      <th>128</th>\n",
              "      <td>roberta.embeddings.LayerNorm</td>\n",
              "      <td>0.041769</td>\n",
              "      <td>0.020885</td>\n",
              "      <td>0.000590</td>\n",
              "      <td>0.999993</td>\n",
              "      <td>5.906263</td>\n",
              "      <td>5.906356</td>\n",
              "      <td>similarity_merge</td>\n",
              "    </tr>\n",
              "    <tr>\n",
              "      <th>129</th>\n",
              "      <td>roberta.embeddings.position_embeddings</td>\n",
              "      <td>0.213433</td>\n",
              "      <td>0.213433</td>\n",
              "      <td>0.000087</td>\n",
              "      <td>0.999993</td>\n",
              "      <td>55.532429</td>\n",
              "      <td>55.531387</td>\n",
              "      <td>similarity_merge</td>\n",
              "    </tr>\n",
              "    <tr>\n",
              "      <th>130</th>\n",
              "      <td>roberta.embeddings.token_type_embeddings</td>\n",
              "      <td>0.015184</td>\n",
              "      <td>0.015184</td>\n",
              "      <td>0.000431</td>\n",
              "      <td>0.761402</td>\n",
              "      <td>0.023412</td>\n",
              "      <td>0.018266</td>\n",
              "      <td>similarity_merge</td>\n",
              "    </tr>\n",
              "    <tr>\n",
              "      <th>131</th>\n",
              "      <td>roberta.embeddings.word_embeddings</td>\n",
              "      <td>1.967265</td>\n",
              "      <td>1.967265</td>\n",
              "      <td>0.000021</td>\n",
              "      <td>1.000000</td>\n",
              "      <td>2939.887695</td>\n",
              "      <td>2939.886475</td>\n",
              "      <td>similarity_merge</td>\n",
              "    </tr>\n",
              "    <tr>\n",
              "      <th>132</th>\n",
              "      <td>classifier.dense</td>\n",
              "      <td>17.756611</td>\n",
              "      <td>8.878306</td>\n",
              "      <td>0.010017</td>\n",
              "      <td>0.015064</td>\n",
              "      <td>8.110954</td>\n",
              "      <td>3.593820</td>\n",
              "      <td>task_arithmetic</td>\n",
              "    </tr>\n",
              "    <tr>\n",
              "      <th>133</th>\n",
              "      <td>classifier.out_proj</td>\n",
              "      <td>5.553072</td>\n",
              "      <td>2.776536</td>\n",
              "      <td>0.010764</td>\n",
              "      <td>0.474241</td>\n",
              "      <td>2.549672</td>\n",
              "      <td>1.111743</td>\n",
              "      <td>task_arithmetic</td>\n",
              "    </tr>\n",
              "    <tr>\n",
              "      <th>134</th>\n",
              "      <td>layer.0.attention.output</td>\n",
              "      <td>0.899451</td>\n",
              "      <td>0.224863</td>\n",
              "      <td>0.000635</td>\n",
              "      <td>0.999865</td>\n",
              "      <td>12.163187</td>\n",
              "      <td>12.160543</td>\n",
              "      <td>task_arithmetic</td>\n",
              "    </tr>\n",
              "    <tr>\n",
              "      <th>135</th>\n",
              "      <td>layer.0.attention.self</td>\n",
              "      <td>2.704887</td>\n",
              "      <td>0.450815</td>\n",
              "      <td>0.000772</td>\n",
              "      <td>0.842971</td>\n",
              "      <td>37.604160</td>\n",
              "      <td>37.598921</td>\n",
              "      <td>task_arithmetic</td>\n",
              "    </tr>\n",
              "    <tr>\n",
              "      <th>136</th>\n",
              "      <td>layer.0.intermediate.dense</td>\n",
              "      <td>1.924533</td>\n",
              "      <td>0.962266</td>\n",
              "      <td>0.000881</td>\n",
              "      <td>0.999898</td>\n",
              "      <td>54.539691</td>\n",
              "      <td>54.533098</td>\n",
              "      <td>task_arithmetic</td>\n",
              "    </tr>\n",
              "    <tr>\n",
              "      <th>137</th>\n",
              "      <td>layer.0.output.LayerNorm</td>\n",
              "      <td>0.042788</td>\n",
              "      <td>0.021394</td>\n",
              "      <td>0.000621</td>\n",
              "      <td>0.999995</td>\n",
              "      <td>8.321657</td>\n",
              "      <td>8.321772</td>\n",
              "      <td>task_arithmetic</td>\n",
              "    </tr>\n",
              "    <tr>\n",
              "      <th>138</th>\n",
              "      <td>layer.0.output.dense</td>\n",
              "      <td>1.661634</td>\n",
              "      <td>0.830817</td>\n",
              "      <td>0.000604</td>\n",
              "      <td>0.999843</td>\n",
              "      <td>36.397812</td>\n",
              "      <td>36.390564</td>\n",
              "      <td>task_arithmetic</td>\n",
              "    </tr>\n",
              "    <tr>\n",
              "      <th>139</th>\n",
              "      <td>layer.1.attention.output</td>\n",
              "      <td>0.936104</td>\n",
              "      <td>0.234026</td>\n",
              "      <td>0.000640</td>\n",
              "      <td>0.999850</td>\n",
              "      <td>12.029604</td>\n",
              "      <td>12.026194</td>\n",
              "      <td>task_arithmetic</td>\n",
              "    </tr>\n",
              "    <tr>\n",
              "      <th>140</th>\n",
              "      <td>layer.1.attention.self</td>\n",
              "      <td>2.827102</td>\n",
              "      <td>0.471184</td>\n",
              "      <td>0.000830</td>\n",
              "      <td>0.995444</td>\n",
              "      <td>29.437983</td>\n",
              "      <td>29.435662</td>\n",
              "      <td>task_arithmetic</td>\n",
              "    </tr>\n",
              "    <tr>\n",
              "      <th>141</th>\n",
              "      <td>layer.1.intermediate.dense</td>\n",
              "      <td>1.929601</td>\n",
              "      <td>0.964801</td>\n",
              "      <td>0.000866</td>\n",
              "      <td>0.999887</td>\n",
              "      <td>53.006457</td>\n",
              "      <td>52.998768</td>\n",
              "      <td>task_arithmetic</td>\n",
              "    </tr>\n",
              "    <tr>\n",
              "      <th>142</th>\n",
              "      <td>layer.1.output.LayerNorm</td>\n",
              "      <td>0.043484</td>\n",
              "      <td>0.021742</td>\n",
              "      <td>0.000624</td>\n",
              "      <td>0.999983</td>\n",
              "      <td>8.765510</td>\n",
              "      <td>8.764792</td>\n",
              "      <td>task_arithmetic</td>\n",
              "    </tr>\n",
              "    <tr>\n",
              "      <th>143</th>\n",
              "      <td>layer.1.output.dense</td>\n",
              "      <td>1.624756</td>\n",
              "      <td>0.812378</td>\n",
              "      <td>0.000588</td>\n",
              "      <td>0.999838</td>\n",
              "      <td>34.932545</td>\n",
              "      <td>34.925426</td>\n",
              "      <td>task_arithmetic</td>\n",
              "    </tr>\n",
              "    <tr>\n",
              "      <th>144</th>\n",
              "      <td>layer.10.attention.output</td>\n",
              "      <td>0.973975</td>\n",
              "      <td>0.243494</td>\n",
              "      <td>0.000601</td>\n",
              "      <td>0.999849</td>\n",
              "      <td>13.004941</td>\n",
              "      <td>13.002580</td>\n",
              "      <td>task_arithmetic</td>\n",
              "    </tr>\n",
              "    <tr>\n",
              "      <th>145</th>\n",
              "      <td>layer.10.attention.self</td>\n",
              "      <td>3.172951</td>\n",
              "      <td>0.528825</td>\n",
              "      <td>0.000845</td>\n",
              "      <td>0.999751</td>\n",
              "      <td>24.521560</td>\n",
              "      <td>24.518593</td>\n",
              "      <td>task_arithmetic</td>\n",
              "    </tr>\n",
              "    <tr>\n",
              "      <th>146</th>\n",
              "      <td>layer.10.intermediate.dense</td>\n",
              "      <td>2.147143</td>\n",
              "      <td>1.073571</td>\n",
              "      <td>0.000861</td>\n",
              "      <td>0.999772</td>\n",
              "      <td>39.071894</td>\n",
              "      <td>39.062055</td>\n",
              "      <td>task_arithmetic</td>\n",
              "    </tr>\n",
              "    <tr>\n",
              "      <th>147</th>\n",
              "      <td>layer.10.output.LayerNorm</td>\n",
              "      <td>0.043035</td>\n",
              "      <td>0.021518</td>\n",
              "      <td>0.000596</td>\n",
              "      <td>0.999981</td>\n",
              "      <td>11.643812</td>\n",
              "      <td>11.644046</td>\n",
              "      <td>task_arithmetic</td>\n",
              "    </tr>\n",
              "    <tr>\n",
              "      <th>148</th>\n",
              "      <td>layer.10.output.dense</td>\n",
              "      <td>1.358331</td>\n",
              "      <td>0.679165</td>\n",
              "      <td>0.000453</td>\n",
              "      <td>0.999905</td>\n",
              "      <td>36.870377</td>\n",
              "      <td>36.864933</td>\n",
              "      <td>task_arithmetic</td>\n",
              "    </tr>\n",
              "    <tr>\n",
              "      <th>149</th>\n",
              "      <td>layer.11.attention.output</td>\n",
              "      <td>1.195053</td>\n",
              "      <td>0.298763</td>\n",
              "      <td>0.000717</td>\n",
              "      <td>0.999784</td>\n",
              "      <td>13.191960</td>\n",
              "      <td>13.189791</td>\n",
              "      <td>task_arithmetic</td>\n",
              "    </tr>\n",
              "    <tr>\n",
              "      <th>150</th>\n",
              "      <td>layer.11.attention.self</td>\n",
              "      <td>3.201407</td>\n",
              "      <td>0.533568</td>\n",
              "      <td>0.000793</td>\n",
              "      <td>0.999657</td>\n",
              "      <td>26.512256</td>\n",
              "      <td>26.509089</td>\n",
              "      <td>task_arithmetic</td>\n",
              "    </tr>\n",
              "    <tr>\n",
              "      <th>151</th>\n",
              "      <td>layer.11.intermediate.dense</td>\n",
              "      <td>3.221003</td>\n",
              "      <td>1.610501</td>\n",
              "      <td>0.001289</td>\n",
              "      <td>0.999428</td>\n",
              "      <td>37.427979</td>\n",
              "      <td>37.405494</td>\n",
              "      <td>task_arithmetic</td>\n",
              "    </tr>\n",
              "    <tr>\n",
              "      <th>152</th>\n",
              "      <td>layer.11.output.LayerNorm</td>\n",
              "      <td>0.167510</td>\n",
              "      <td>0.083755</td>\n",
              "      <td>0.002502</td>\n",
              "      <td>0.999256</td>\n",
              "      <td>10.954400</td>\n",
              "      <td>10.915573</td>\n",
              "      <td>task_arithmetic</td>\n",
              "    </tr>\n",
              "    <tr>\n",
              "      <th>153</th>\n",
              "      <td>layer.11.output.dense</td>\n",
              "      <td>4.406030</td>\n",
              "      <td>2.203015</td>\n",
              "      <td>0.001450</td>\n",
              "      <td>0.998508</td>\n",
              "      <td>29.661093</td>\n",
              "      <td>29.607332</td>\n",
              "      <td>task_arithmetic</td>\n",
              "    </tr>\n",
              "    <tr>\n",
              "      <th>154</th>\n",
              "      <td>layer.2.attention.output</td>\n",
              "      <td>0.964190</td>\n",
              "      <td>0.241048</td>\n",
              "      <td>0.000674</td>\n",
              "      <td>0.999843</td>\n",
              "      <td>12.810927</td>\n",
              "      <td>12.806537</td>\n",
              "      <td>task_arithmetic</td>\n",
              "    </tr>\n",
              "    <tr>\n",
              "      <th>155</th>\n",
              "      <td>layer.2.attention.self</td>\n",
              "      <td>2.909248</td>\n",
              "      <td>0.484875</td>\n",
              "      <td>0.000823</td>\n",
              "      <td>0.994098</td>\n",
              "      <td>25.724255</td>\n",
              "      <td>25.720163</td>\n",
              "      <td>task_arithmetic</td>\n",
              "    </tr>\n",
              "    <tr>\n",
              "      <th>156</th>\n",
              "      <td>layer.2.intermediate.dense</td>\n",
              "      <td>1.975743</td>\n",
              "      <td>0.987871</td>\n",
              "      <td>0.000887</td>\n",
              "      <td>0.999880</td>\n",
              "      <td>51.444607</td>\n",
              "      <td>51.436606</td>\n",
              "      <td>task_arithmetic</td>\n",
              "    </tr>\n",
              "    <tr>\n",
              "      <th>157</th>\n",
              "      <td>layer.2.output.LayerNorm</td>\n",
              "      <td>0.043540</td>\n",
              "      <td>0.021770</td>\n",
              "      <td>0.000632</td>\n",
              "      <td>0.999972</td>\n",
              "      <td>9.816910</td>\n",
              "      <td>9.817336</td>\n",
              "      <td>task_arithmetic</td>\n",
              "    </tr>\n",
              "    <tr>\n",
              "      <th>158</th>\n",
              "      <td>layer.2.output.dense</td>\n",
              "      <td>1.700305</td>\n",
              "      <td>0.850152</td>\n",
              "      <td>0.000606</td>\n",
              "      <td>0.999865</td>\n",
              "      <td>38.638178</td>\n",
              "      <td>38.630886</td>\n",
              "      <td>task_arithmetic</td>\n",
              "    </tr>\n",
              "    <tr>\n",
              "      <th>159</th>\n",
              "      <td>layer.3.attention.output</td>\n",
              "      <td>0.944007</td>\n",
              "      <td>0.236002</td>\n",
              "      <td>0.000634</td>\n",
              "      <td>0.999907</td>\n",
              "      <td>15.457107</td>\n",
              "      <td>15.456909</td>\n",
              "      <td>task_arithmetic</td>\n",
              "    </tr>\n",
              "    <tr>\n",
              "      <th>160</th>\n",
              "      <td>layer.3.attention.self</td>\n",
              "      <td>2.939235</td>\n",
              "      <td>0.489872</td>\n",
              "      <td>0.000852</td>\n",
              "      <td>0.992593</td>\n",
              "      <td>24.484680</td>\n",
              "      <td>24.481263</td>\n",
              "      <td>task_arithmetic</td>\n",
              "    </tr>\n",
              "    <tr>\n",
              "      <th>161</th>\n",
              "      <td>layer.3.intermediate.dense</td>\n",
              "      <td>1.999084</td>\n",
              "      <td>0.999542</td>\n",
              "      <td>0.000862</td>\n",
              "      <td>0.999895</td>\n",
              "      <td>54.824195</td>\n",
              "      <td>54.818262</td>\n",
              "      <td>task_arithmetic</td>\n",
              "    </tr>\n",
              "    <tr>\n",
              "      <th>162</th>\n",
              "      <td>layer.3.output.LayerNorm</td>\n",
              "      <td>0.043852</td>\n",
              "      <td>0.021926</td>\n",
              "      <td>0.000617</td>\n",
              "      <td>0.999979</td>\n",
              "      <td>9.872079</td>\n",
              "      <td>9.872776</td>\n",
              "      <td>task_arithmetic</td>\n",
              "    </tr>\n",
              "    <tr>\n",
              "      <th>163</th>\n",
              "      <td>layer.3.output.dense</td>\n",
              "      <td>1.625296</td>\n",
              "      <td>0.812648</td>\n",
              "      <td>0.000568</td>\n",
              "      <td>0.999905</td>\n",
              "      <td>43.778699</td>\n",
              "      <td>43.773167</td>\n",
              "      <td>task_arithmetic</td>\n",
              "    </tr>\n",
              "    <tr>\n",
              "      <th>164</th>\n",
              "      <td>layer.4.attention.output</td>\n",
              "      <td>0.991707</td>\n",
              "      <td>0.247927</td>\n",
              "      <td>0.000669</td>\n",
              "      <td>0.999938</td>\n",
              "      <td>18.031477</td>\n",
              "      <td>18.028861</td>\n",
              "      <td>task_arithmetic</td>\n",
              "    </tr>\n",
              "    <tr>\n",
              "      <th>165</th>\n",
              "      <td>layer.4.attention.self</td>\n",
              "      <td>3.097238</td>\n",
              "      <td>0.516206</td>\n",
              "      <td>0.000882</td>\n",
              "      <td>0.993400</td>\n",
              "      <td>25.957809</td>\n",
              "      <td>25.953153</td>\n",
              "      <td>task_arithmetic</td>\n",
              "    </tr>\n",
              "    <tr>\n",
              "      <th>166</th>\n",
              "      <td>layer.4.intermediate.dense</td>\n",
              "      <td>2.019830</td>\n",
              "      <td>1.009915</td>\n",
              "      <td>0.000888</td>\n",
              "      <td>0.999908</td>\n",
              "      <td>59.378419</td>\n",
              "      <td>59.371587</td>\n",
              "      <td>task_arithmetic</td>\n",
              "    </tr>\n",
              "    <tr>\n",
              "      <th>167</th>\n",
              "      <td>layer.4.output.LayerNorm</td>\n",
              "      <td>0.041623</td>\n",
              "      <td>0.020811</td>\n",
              "      <td>0.000597</td>\n",
              "      <td>0.999980</td>\n",
              "      <td>9.609040</td>\n",
              "      <td>9.609450</td>\n",
              "      <td>task_arithmetic</td>\n",
              "    </tr>\n",
              "    <tr>\n",
              "      <th>168</th>\n",
              "      <td>layer.4.output.dense</td>\n",
              "      <td>1.640460</td>\n",
              "      <td>0.820230</td>\n",
              "      <td>0.000562</td>\n",
              "      <td>0.999915</td>\n",
              "      <td>46.736791</td>\n",
              "      <td>46.732910</td>\n",
              "      <td>task_arithmetic</td>\n",
              "    </tr>\n",
              "    <tr>\n",
              "      <th>169</th>\n",
              "      <td>layer.5.attention.output</td>\n",
              "      <td>0.985395</td>\n",
              "      <td>0.246349</td>\n",
              "      <td>0.000650</td>\n",
              "      <td>0.999945</td>\n",
              "      <td>18.905877</td>\n",
              "      <td>18.904971</td>\n",
              "      <td>task_arithmetic</td>\n",
              "    </tr>\n",
              "    <tr>\n",
              "      <th>170</th>\n",
              "      <td>layer.5.attention.self</td>\n",
              "      <td>3.071464</td>\n",
              "      <td>0.511911</td>\n",
              "      <td>0.000858</td>\n",
              "      <td>0.995542</td>\n",
              "      <td>24.810068</td>\n",
              "      <td>24.806423</td>\n",
              "      <td>task_arithmetic</td>\n",
              "    </tr>\n",
              "    <tr>\n",
              "      <th>171</th>\n",
              "      <td>layer.5.intermediate.dense</td>\n",
              "      <td>2.074048</td>\n",
              "      <td>1.037024</td>\n",
              "      <td>0.000904</td>\n",
              "      <td>0.999901</td>\n",
              "      <td>58.070121</td>\n",
              "      <td>58.064570</td>\n",
              "      <td>task_arithmetic</td>\n",
              "    </tr>\n",
              "    <tr>\n",
              "      <th>172</th>\n",
              "      <td>layer.5.output.LayerNorm</td>\n",
              "      <td>0.041601</td>\n",
              "      <td>0.020800</td>\n",
              "      <td>0.000589</td>\n",
              "      <td>0.999980</td>\n",
              "      <td>9.634914</td>\n",
              "      <td>9.635315</td>\n",
              "      <td>task_arithmetic</td>\n",
              "    </tr>\n",
              "    <tr>\n",
              "      <th>173</th>\n",
              "      <td>layer.5.output.dense</td>\n",
              "      <td>1.712046</td>\n",
              "      <td>0.856023</td>\n",
              "      <td>0.000598</td>\n",
              "      <td>0.999899</td>\n",
              "      <td>44.844801</td>\n",
              "      <td>44.839852</td>\n",
              "      <td>task_arithmetic</td>\n",
              "    </tr>\n",
              "    <tr>\n",
              "      <th>174</th>\n",
              "      <td>layer.6.attention.output</td>\n",
              "      <td>1.034163</td>\n",
              "      <td>0.258541</td>\n",
              "      <td>0.000694</td>\n",
              "      <td>0.999934</td>\n",
              "      <td>18.331039</td>\n",
              "      <td>18.330571</td>\n",
              "      <td>task_arithmetic</td>\n",
              "    </tr>\n",
              "    <tr>\n",
              "      <th>175</th>\n",
              "      <td>layer.6.attention.self</td>\n",
              "      <td>3.185525</td>\n",
              "      <td>0.530921</td>\n",
              "      <td>0.000899</td>\n",
              "      <td>0.998308</td>\n",
              "      <td>25.880395</td>\n",
              "      <td>25.877183</td>\n",
              "      <td>task_arithmetic</td>\n",
              "    </tr>\n",
              "    <tr>\n",
              "      <th>176</th>\n",
              "      <td>layer.6.intermediate.dense</td>\n",
              "      <td>2.153404</td>\n",
              "      <td>1.076702</td>\n",
              "      <td>0.000947</td>\n",
              "      <td>0.999887</td>\n",
              "      <td>56.282438</td>\n",
              "      <td>56.280862</td>\n",
              "      <td>task_arithmetic</td>\n",
              "    </tr>\n",
              "    <tr>\n",
              "      <th>177</th>\n",
              "      <td>layer.6.output.LayerNorm</td>\n",
              "      <td>0.044739</td>\n",
              "      <td>0.022369</td>\n",
              "      <td>0.000631</td>\n",
              "      <td>0.999958</td>\n",
              "      <td>9.671740</td>\n",
              "      <td>9.671200</td>\n",
              "      <td>task_arithmetic</td>\n",
              "    </tr>\n",
              "    <tr>\n",
              "      <th>178</th>\n",
              "      <td>layer.6.output.dense</td>\n",
              "      <td>1.734782</td>\n",
              "      <td>0.867391</td>\n",
              "      <td>0.000626</td>\n",
              "      <td>0.999894</td>\n",
              "      <td>44.569515</td>\n",
              "      <td>44.564350</td>\n",
              "      <td>task_arithmetic</td>\n",
              "    </tr>\n",
              "    <tr>\n",
              "      <th>179</th>\n",
              "      <td>layer.7.attention.output</td>\n",
              "      <td>1.037969</td>\n",
              "      <td>0.259492</td>\n",
              "      <td>0.000674</td>\n",
              "      <td>0.999920</td>\n",
              "      <td>17.445592</td>\n",
              "      <td>17.442986</td>\n",
              "      <td>task_arithmetic</td>\n",
              "    </tr>\n",
              "    <tr>\n",
              "      <th>180</th>\n",
              "      <td>layer.7.attention.self</td>\n",
              "      <td>3.274194</td>\n",
              "      <td>0.545699</td>\n",
              "      <td>0.000929</td>\n",
              "      <td>0.998748</td>\n",
              "      <td>25.218821</td>\n",
              "      <td>25.213336</td>\n",
              "      <td>task_arithmetic</td>\n",
              "    </tr>\n",
              "    <tr>\n",
              "      <th>181</th>\n",
              "      <td>layer.7.intermediate.dense</td>\n",
              "      <td>2.176941</td>\n",
              "      <td>1.088471</td>\n",
              "      <td>0.000963</td>\n",
              "      <td>0.999877</td>\n",
              "      <td>54.412905</td>\n",
              "      <td>54.402480</td>\n",
              "      <td>task_arithmetic</td>\n",
              "    </tr>\n",
              "    <tr>\n",
              "      <th>182</th>\n",
              "      <td>layer.7.output.LayerNorm</td>\n",
              "      <td>0.043477</td>\n",
              "      <td>0.021738</td>\n",
              "      <td>0.000614</td>\n",
              "      <td>0.999976</td>\n",
              "      <td>10.503670</td>\n",
              "      <td>10.504659</td>\n",
              "      <td>task_arithmetic</td>\n",
              "    </tr>\n",
              "    <tr>\n",
              "      <th>183</th>\n",
              "      <td>layer.7.output.dense</td>\n",
              "      <td>1.693889</td>\n",
              "      <td>0.846945</td>\n",
              "      <td>0.000589</td>\n",
              "      <td>0.999893</td>\n",
              "      <td>43.076586</td>\n",
              "      <td>43.071701</td>\n",
              "      <td>task_arithmetic</td>\n",
              "    </tr>\n",
              "    <tr>\n",
              "      <th>184</th>\n",
              "      <td>layer.8.attention.output</td>\n",
              "      <td>1.049939</td>\n",
              "      <td>0.262485</td>\n",
              "      <td>0.000670</td>\n",
              "      <td>0.999930</td>\n",
              "      <td>17.843565</td>\n",
              "      <td>17.841495</td>\n",
              "      <td>task_arithmetic</td>\n",
              "    </tr>\n",
              "    <tr>\n",
              "      <th>185</th>\n",
              "      <td>layer.8.attention.self</td>\n",
              "      <td>3.273737</td>\n",
              "      <td>0.545623</td>\n",
              "      <td>0.000916</td>\n",
              "      <td>0.999500</td>\n",
              "      <td>25.530277</td>\n",
              "      <td>25.525706</td>\n",
              "      <td>task_arithmetic</td>\n",
              "    </tr>\n",
              "    <tr>\n",
              "      <th>186</th>\n",
              "      <td>layer.8.intermediate.dense</td>\n",
              "      <td>2.156693</td>\n",
              "      <td>1.078347</td>\n",
              "      <td>0.000929</td>\n",
              "      <td>0.999872</td>\n",
              "      <td>52.740470</td>\n",
              "      <td>52.731904</td>\n",
              "      <td>task_arithmetic</td>\n",
              "    </tr>\n",
              "    <tr>\n",
              "      <th>187</th>\n",
              "      <td>layer.8.output.LayerNorm</td>\n",
              "      <td>0.041674</td>\n",
              "      <td>0.020837</td>\n",
              "      <td>0.000591</td>\n",
              "      <td>0.999981</td>\n",
              "      <td>10.565993</td>\n",
              "      <td>10.566463</td>\n",
              "      <td>task_arithmetic</td>\n",
              "    </tr>\n",
              "    <tr>\n",
              "      <th>188</th>\n",
              "      <td>layer.8.output.dense</td>\n",
              "      <td>1.571516</td>\n",
              "      <td>0.785758</td>\n",
              "      <td>0.000550</td>\n",
              "      <td>0.999909</td>\n",
              "      <td>43.473017</td>\n",
              "      <td>43.468557</td>\n",
              "      <td>task_arithmetic</td>\n",
              "    </tr>\n",
              "    <tr>\n",
              "      <th>189</th>\n",
              "      <td>layer.9.attention.output</td>\n",
              "      <td>1.011672</td>\n",
              "      <td>0.252918</td>\n",
              "      <td>0.000662</td>\n",
              "      <td>0.999899</td>\n",
              "      <td>15.521183</td>\n",
              "      <td>15.520307</td>\n",
              "      <td>task_arithmetic</td>\n",
              "    </tr>\n",
              "    <tr>\n",
              "      <th>190</th>\n",
              "      <td>layer.9.attention.self</td>\n",
              "      <td>3.196004</td>\n",
              "      <td>0.532667</td>\n",
              "      <td>0.000878</td>\n",
              "      <td>0.999589</td>\n",
              "      <td>25.297581</td>\n",
              "      <td>25.293598</td>\n",
              "      <td>task_arithmetic</td>\n",
              "    </tr>\n",
              "    <tr>\n",
              "      <th>191</th>\n",
              "      <td>layer.9.intermediate.dense</td>\n",
              "      <td>2.123499</td>\n",
              "      <td>1.061749</td>\n",
              "      <td>0.000885</td>\n",
              "      <td>0.999853</td>\n",
              "      <td>48.234539</td>\n",
              "      <td>48.226080</td>\n",
              "      <td>task_arithmetic</td>\n",
              "    </tr>\n",
              "    <tr>\n",
              "      <th>192</th>\n",
              "      <td>layer.9.output.LayerNorm</td>\n",
              "      <td>0.041636</td>\n",
              "      <td>0.020818</td>\n",
              "      <td>0.000588</td>\n",
              "      <td>0.999987</td>\n",
              "      <td>11.296189</td>\n",
              "      <td>11.296783</td>\n",
              "      <td>task_arithmetic</td>\n",
              "    </tr>\n",
              "    <tr>\n",
              "      <th>193</th>\n",
              "      <td>layer.9.output.dense</td>\n",
              "      <td>1.489689</td>\n",
              "      <td>0.744845</td>\n",
              "      <td>0.000496</td>\n",
              "      <td>0.999914</td>\n",
              "      <td>42.289223</td>\n",
              "      <td>42.285372</td>\n",
              "      <td>task_arithmetic</td>\n",
              "    </tr>\n",
              "    <tr>\n",
              "      <th>194</th>\n",
              "      <td>roberta.embeddings.LayerNorm</td>\n",
              "      <td>0.041050</td>\n",
              "      <td>0.020525</td>\n",
              "      <td>0.000580</td>\n",
              "      <td>0.999994</td>\n",
              "      <td>5.906263</td>\n",
              "      <td>5.906342</td>\n",
              "      <td>task_arithmetic</td>\n",
              "    </tr>\n",
              "    <tr>\n",
              "      <th>195</th>\n",
              "      <td>roberta.embeddings.position_embeddings</td>\n",
              "      <td>0.207835</td>\n",
              "      <td>0.207835</td>\n",
              "      <td>0.000083</td>\n",
              "      <td>0.999993</td>\n",
              "      <td>55.532429</td>\n",
              "      <td>55.531456</td>\n",
              "      <td>task_arithmetic</td>\n",
              "    </tr>\n",
              "    <tr>\n",
              "      <th>196</th>\n",
              "      <td>roberta.embeddings.token_type_embeddings</td>\n",
              "      <td>0.014780</td>\n",
              "      <td>0.014780</td>\n",
              "      <td>0.000417</td>\n",
              "      <td>0.775862</td>\n",
              "      <td>0.023412</td>\n",
              "      <td>0.018683</td>\n",
              "      <td>task_arithmetic</td>\n",
              "    </tr>\n",
              "    <tr>\n",
              "      <th>197</th>\n",
              "      <td>roberta.embeddings.word_embeddings</td>\n",
              "      <td>1.927391</td>\n",
              "      <td>1.927391</td>\n",
              "      <td>0.000021</td>\n",
              "      <td>1.000000</td>\n",
              "      <td>2939.887695</td>\n",
              "      <td>2939.886230</td>\n",
              "      <td>task_arithmetic</td>\n",
              "    </tr>\n",
              "  </tbody>\n",
              "</table>\n",
              "</div>"
            ],
            "text/plain": [
              "                                        layer  delta_l2_sum  delta_l2_mean  \\\n",
              "0                            classifier.dense     18.138556       9.069278   \n",
              "1                         classifier.out_proj      5.692393       2.846196   \n",
              "2                    layer.0.attention.output      0.912226       0.228057   \n",
              "3                      layer.0.attention.self      2.746765       0.457794   \n",
              "4                  layer.0.intermediate.dense      1.953538       0.976769   \n",
              "5                    layer.0.output.LayerNorm      0.043579       0.021790   \n",
              "6                        layer.0.output.dense      1.687755       0.843877   \n",
              "7                    layer.1.attention.output      0.951174       0.237794   \n",
              "8                      layer.1.attention.self      2.873569       0.478928   \n",
              "9                  layer.1.intermediate.dense      1.962025       0.981012   \n",
              "10                   layer.1.output.LayerNorm      0.043947       0.021974   \n",
              "11                       layer.1.output.dense      1.649813       0.824906   \n",
              "12                  layer.10.attention.output      0.996252       0.249063   \n",
              "13                    layer.10.attention.self      3.244970       0.540828   \n",
              "14                layer.10.intermediate.dense      2.181463       1.090731   \n",
              "15                  layer.10.output.LayerNorm      0.043507       0.021754   \n",
              "16                      layer.10.output.dense      1.378705       0.689352   \n",
              "17                  layer.11.attention.output      1.216299       0.304075   \n",
              "18                    layer.11.attention.self      3.274536       0.545756   \n",
              "19                layer.11.intermediate.dense      3.287317       1.643658   \n",
              "20                  layer.11.output.LayerNorm      0.131985       0.065992   \n",
              "21                      layer.11.output.dense      4.510807       2.255403   \n",
              "22                   layer.2.attention.output      0.978317       0.244579   \n",
              "23                     layer.2.attention.self      2.951174       0.491862   \n",
              "24                 layer.2.intermediate.dense      2.009349       1.004674   \n",
              "25                   layer.2.output.LayerNorm      0.044262       0.022131   \n",
              "26                       layer.2.output.dense      1.728416       0.864208   \n",
              "27                   layer.3.attention.output      0.961036       0.240259   \n",
              "28                     layer.3.attention.self      2.993910       0.498985   \n",
              "29                 layer.3.intermediate.dense      2.036189       1.018094   \n",
              "30                   layer.3.output.LayerNorm      0.044599       0.022300   \n",
              "31                       layer.3.output.dense      1.657076       0.828538   \n",
              "32                   layer.4.attention.output      1.011187       0.252797   \n",
              "33                     layer.4.attention.self      3.153968       0.525661   \n",
              "34                 layer.4.intermediate.dense      2.059293       1.029646   \n",
              "35                   layer.4.output.LayerNorm      0.042446       0.021223   \n",
              "36                       layer.4.output.dense      1.674417       0.837208   \n",
              "37                   layer.5.attention.output      1.004280       0.251070   \n",
              "38                     layer.5.attention.self      3.124901       0.520817   \n",
              "39                 layer.5.intermediate.dense      2.112521       1.056260   \n",
              "40                   layer.5.output.LayerNorm      0.042220       0.021110   \n",
              "41                       layer.5.output.dense      1.742541       0.871271   \n",
              "42                   layer.6.attention.output      1.054254       0.263563   \n",
              "43                     layer.6.attention.self      3.242347       0.540391   \n",
              "44                 layer.6.intermediate.dense      2.195940       1.097970   \n",
              "45                   layer.6.output.LayerNorm      0.045812       0.022906   \n",
              "46                       layer.6.output.dense      1.767493       0.883747   \n",
              "47                   layer.7.attention.output      1.057074       0.264268   \n",
              "48                     layer.7.attention.self      3.332225       0.555371   \n",
              "49                 layer.7.intermediate.dense      2.221339       1.110669   \n",
              "50                   layer.7.output.LayerNorm      0.044122       0.022061   \n",
              "51                       layer.7.output.dense      1.727136       0.863568   \n",
              "52                   layer.8.attention.output      1.073916       0.268479   \n",
              "53                     layer.8.attention.self      3.339883       0.556647   \n",
              "54                 layer.8.intermediate.dense      2.204933       1.102466   \n",
              "55                   layer.8.output.LayerNorm      0.042688       0.021344   \n",
              "56                       layer.8.output.dense      1.606405       0.803202   \n",
              "57                   layer.9.attention.output      1.035243       0.258811   \n",
              "58                     layer.9.attention.self      3.269741       0.544957   \n",
              "59                 layer.9.intermediate.dense      2.168271       1.084135   \n",
              "60                   layer.9.output.LayerNorm      0.042155       0.021078   \n",
              "61                       layer.9.output.dense      1.520989       0.760494   \n",
              "62               roberta.embeddings.LayerNorm      0.041635       0.020817   \n",
              "63     roberta.embeddings.position_embeddings      0.212161       0.212161   \n",
              "64   roberta.embeddings.token_type_embeddings      0.015027       0.015027   \n",
              "65         roberta.embeddings.word_embeddings      1.967321       1.967321   \n",
              "66                           classifier.dense     18.155677       9.077839   \n",
              "67                        classifier.out_proj      5.695229       2.847614   \n",
              "68                   layer.0.attention.output      0.914028       0.228507   \n",
              "69                     layer.0.attention.self      2.752140       0.458690   \n",
              "70                 layer.0.intermediate.dense      1.959079       0.979539   \n",
              "71                   layer.0.output.LayerNorm      0.043614       0.021807   \n",
              "72                       layer.0.output.dense      1.690730       0.845365   \n",
              "73                   layer.1.attention.output      0.953839       0.238460   \n",
              "74                     layer.1.attention.self      2.879758       0.479960   \n",
              "75                 layer.1.intermediate.dense      1.967369       0.983685   \n",
              "76                   layer.1.output.LayerNorm      0.044048       0.022024   \n",
              "77                       layer.1.output.dense      1.654277       0.827139   \n",
              "78                  layer.10.attention.output      0.999023       0.249756   \n",
              "79                    layer.10.attention.self      3.254297       0.542383   \n",
              "80                layer.10.intermediate.dense      2.185954       1.092977   \n",
              "81                  layer.10.output.LayerNorm      0.043583       0.021791   \n",
              "82                      layer.10.output.dense      1.381663       0.690832   \n",
              "83                  layer.11.attention.output      1.217227       0.304307   \n",
              "84                    layer.11.attention.self      3.281220       0.546870   \n",
              "85                layer.11.intermediate.dense      3.290693       1.645347   \n",
              "86                  layer.11.output.LayerNorm      0.132580       0.066290   \n",
              "87                      layer.11.output.dense      4.513310       2.256655   \n",
              "88                   layer.2.attention.output      0.980638       0.245159   \n",
              "89                     layer.2.attention.self      2.957758       0.492960   \n",
              "90                 layer.2.intermediate.dense      2.015405       1.007703   \n",
              "91                   layer.2.output.LayerNorm      0.044404       0.022202   \n",
              "92                       layer.2.output.dense      1.733408       0.866704   \n",
              "93                   layer.3.attention.output      0.963727       0.240932   \n",
              "94                     layer.3.attention.self      3.001638       0.500273   \n",
              "95                 layer.3.intermediate.dense      2.042954       1.021477   \n",
              "96                   layer.3.output.LayerNorm      0.044731       0.022365   \n",
              "97                       layer.3.output.dense      1.662544       0.831272   \n",
              "98                   layer.4.attention.output      1.014611       0.253653   \n",
              "99                     layer.4.attention.self      3.163776       0.527296   \n",
              "100                layer.4.intermediate.dense      2.067492       1.033746   \n",
              "101                  layer.4.output.LayerNorm      0.042584       0.021292   \n",
              "102                      layer.4.output.dense      1.680385       0.840193   \n",
              "103                  layer.5.attention.output      1.008108       0.252027   \n",
              "104                    layer.5.attention.self      3.135867       0.522644   \n",
              "105                layer.5.intermediate.dense      2.120052       1.060026   \n",
              "106                  layer.5.output.LayerNorm      0.042354       0.021177   \n",
              "107                      layer.5.output.dense      1.748297       0.874148   \n",
              "108                  layer.6.attention.output      1.058205       0.264551   \n",
              "109                    layer.6.attention.self      3.251470       0.541912   \n",
              "110                layer.6.intermediate.dense      2.204267       1.102133   \n",
              "111                  layer.6.output.LayerNorm      0.045963       0.022981   \n",
              "112                      layer.6.output.dense      1.774242       0.887121   \n",
              "113                  layer.7.attention.output      1.060416       0.265104   \n",
              "114                    layer.7.attention.self      3.340852       0.556809   \n",
              "115                layer.7.intermediate.dense      2.228631       1.114316   \n",
              "116                  layer.7.output.LayerNorm      0.044368       0.022184   \n",
              "117                      layer.7.output.dense      1.732398       0.866199   \n",
              "118                  layer.8.attention.output      1.077018       0.269255   \n",
              "119                    layer.8.attention.self      3.349574       0.558262   \n",
              "120                layer.8.intermediate.dense      2.211251       1.105625   \n",
              "121                  layer.8.output.LayerNorm      0.042759       0.021380   \n",
              "122                      layer.8.output.dense      1.610629       0.805314   \n",
              "123                  layer.9.attention.output      1.037873       0.259468   \n",
              "124                    layer.9.attention.self      3.278431       0.546405   \n",
              "125                layer.9.intermediate.dense      2.172840       1.086420   \n",
              "126                  layer.9.output.LayerNorm      0.042239       0.021119   \n",
              "127                      layer.9.output.dense      1.525172       0.762586   \n",
              "128              roberta.embeddings.LayerNorm      0.041769       0.020885   \n",
              "129    roberta.embeddings.position_embeddings      0.213433       0.213433   \n",
              "130  roberta.embeddings.token_type_embeddings      0.015184       0.015184   \n",
              "131        roberta.embeddings.word_embeddings      1.967265       1.967265   \n",
              "132                          classifier.dense     17.756611       8.878306   \n",
              "133                       classifier.out_proj      5.553072       2.776536   \n",
              "134                  layer.0.attention.output      0.899451       0.224863   \n",
              "135                    layer.0.attention.self      2.704887       0.450815   \n",
              "136                layer.0.intermediate.dense      1.924533       0.962266   \n",
              "137                  layer.0.output.LayerNorm      0.042788       0.021394   \n",
              "138                      layer.0.output.dense      1.661634       0.830817   \n",
              "139                  layer.1.attention.output      0.936104       0.234026   \n",
              "140                    layer.1.attention.self      2.827102       0.471184   \n",
              "141                layer.1.intermediate.dense      1.929601       0.964801   \n",
              "142                  layer.1.output.LayerNorm      0.043484       0.021742   \n",
              "143                      layer.1.output.dense      1.624756       0.812378   \n",
              "144                 layer.10.attention.output      0.973975       0.243494   \n",
              "145                   layer.10.attention.self      3.172951       0.528825   \n",
              "146               layer.10.intermediate.dense      2.147143       1.073571   \n",
              "147                 layer.10.output.LayerNorm      0.043035       0.021518   \n",
              "148                     layer.10.output.dense      1.358331       0.679165   \n",
              "149                 layer.11.attention.output      1.195053       0.298763   \n",
              "150                   layer.11.attention.self      3.201407       0.533568   \n",
              "151               layer.11.intermediate.dense      3.221003       1.610501   \n",
              "152                 layer.11.output.LayerNorm      0.167510       0.083755   \n",
              "153                     layer.11.output.dense      4.406030       2.203015   \n",
              "154                  layer.2.attention.output      0.964190       0.241048   \n",
              "155                    layer.2.attention.self      2.909248       0.484875   \n",
              "156                layer.2.intermediate.dense      1.975743       0.987871   \n",
              "157                  layer.2.output.LayerNorm      0.043540       0.021770   \n",
              "158                      layer.2.output.dense      1.700305       0.850152   \n",
              "159                  layer.3.attention.output      0.944007       0.236002   \n",
              "160                    layer.3.attention.self      2.939235       0.489872   \n",
              "161                layer.3.intermediate.dense      1.999084       0.999542   \n",
              "162                  layer.3.output.LayerNorm      0.043852       0.021926   \n",
              "163                      layer.3.output.dense      1.625296       0.812648   \n",
              "164                  layer.4.attention.output      0.991707       0.247927   \n",
              "165                    layer.4.attention.self      3.097238       0.516206   \n",
              "166                layer.4.intermediate.dense      2.019830       1.009915   \n",
              "167                  layer.4.output.LayerNorm      0.041623       0.020811   \n",
              "168                      layer.4.output.dense      1.640460       0.820230   \n",
              "169                  layer.5.attention.output      0.985395       0.246349   \n",
              "170                    layer.5.attention.self      3.071464       0.511911   \n",
              "171                layer.5.intermediate.dense      2.074048       1.037024   \n",
              "172                  layer.5.output.LayerNorm      0.041601       0.020800   \n",
              "173                      layer.5.output.dense      1.712046       0.856023   \n",
              "174                  layer.6.attention.output      1.034163       0.258541   \n",
              "175                    layer.6.attention.self      3.185525       0.530921   \n",
              "176                layer.6.intermediate.dense      2.153404       1.076702   \n",
              "177                  layer.6.output.LayerNorm      0.044739       0.022369   \n",
              "178                      layer.6.output.dense      1.734782       0.867391   \n",
              "179                  layer.7.attention.output      1.037969       0.259492   \n",
              "180                    layer.7.attention.self      3.274194       0.545699   \n",
              "181                layer.7.intermediate.dense      2.176941       1.088471   \n",
              "182                  layer.7.output.LayerNorm      0.043477       0.021738   \n",
              "183                      layer.7.output.dense      1.693889       0.846945   \n",
              "184                  layer.8.attention.output      1.049939       0.262485   \n",
              "185                    layer.8.attention.self      3.273737       0.545623   \n",
              "186                layer.8.intermediate.dense      2.156693       1.078347   \n",
              "187                  layer.8.output.LayerNorm      0.041674       0.020837   \n",
              "188                      layer.8.output.dense      1.571516       0.785758   \n",
              "189                  layer.9.attention.output      1.011672       0.252918   \n",
              "190                    layer.9.attention.self      3.196004       0.532667   \n",
              "191                layer.9.intermediate.dense      2.123499       1.061749   \n",
              "192                  layer.9.output.LayerNorm      0.041636       0.020818   \n",
              "193                      layer.9.output.dense      1.489689       0.744845   \n",
              "194              roberta.embeddings.LayerNorm      0.041050       0.020525   \n",
              "195    roberta.embeddings.position_embeddings      0.207835       0.207835   \n",
              "196  roberta.embeddings.token_type_embeddings      0.014780       0.014780   \n",
              "197        roberta.embeddings.word_embeddings      1.927391       1.927391   \n",
              "\n",
              "     delta_mean_abs  cosine_mean  reference_norm_mean  candidate_norm_mean  \\\n",
              "0          0.010246     0.006909             8.110954             4.035976   \n",
              "1          0.010976     0.476921             2.549672             1.269647   \n",
              "2          0.000646     0.999862            12.163187            12.160473   \n",
              "3          0.000784     0.835181            37.604160            37.599261   \n",
              "4          0.000893     0.999894            54.539691            54.533035   \n",
              "5          0.000631     0.999995             8.321657             8.321731   \n",
              "6          0.000612     0.999838            36.397812            36.390770   \n",
              "7          0.000652     0.999846            12.029604            12.026199   \n",
              "8          0.000843     0.995487            29.437983            29.435704   \n",
              "9          0.000884     0.999883            53.006457            52.998790   \n",
              "10         0.000631     0.999982             8.765510             8.764599   \n",
              "11         0.000596     0.999833            34.932545            34.925633   \n",
              "12         0.000613     0.999842            13.004941            13.002552   \n",
              "13         0.000868     0.999738            24.521560            24.518331   \n",
              "14         0.000872     0.999765            39.071894            39.062175   \n",
              "15         0.000604     0.999981            11.643812            11.644054   \n",
              "16         0.000464     0.999902            36.870377            36.864672   \n",
              "17         0.000719     0.999776            13.191960            13.189018   \n",
              "18         0.000819     0.999639            26.512256            26.509222   \n",
              "19         0.001312     0.999405            37.427979            37.405386   \n",
              "20         0.001907     0.999272            10.954400            10.944913   \n",
              "21         0.001456     0.998441            29.661093            29.607846   \n",
              "22         0.000685     0.999838            12.810927            12.806436   \n",
              "23         0.000836     0.993883            25.724255            25.720262   \n",
              "24         0.000902     0.999876            51.444607            51.436991   \n",
              "25         0.000640     0.999972             9.816910             9.817306   \n",
              "26         0.000614     0.999861            38.638178            38.631146   \n",
              "27         0.000644     0.999904            15.457107            15.456825   \n",
              "28         0.000865     0.992472            24.484680            24.481542   \n",
              "29         0.000881     0.999891            54.824195            54.818386   \n",
              "30         0.000631     0.999978             9.872079             9.872791   \n",
              "31         0.000580     0.999901            43.778699            43.773471   \n",
              "32         0.000682     0.999936            18.031477            18.029022   \n",
              "33         0.000902     0.993098            25.957809            25.953276   \n",
              "34         0.000907     0.999904            59.378419            59.371931   \n",
              "35         0.000608     0.999979             9.609040             9.609236   \n",
              "36         0.000575     0.999911            46.736791            46.732959   \n",
              "37         0.000663     0.999943            18.905877            18.905073   \n",
              "38         0.000873     0.995257            24.810068            24.806737   \n",
              "39         0.000922     0.999897            58.070121            58.064919   \n",
              "40         0.000594     0.999979             9.634914             9.635421   \n",
              "41         0.000607     0.999895            44.844801            44.840016   \n",
              "42         0.000714     0.999932            18.331039            18.331171   \n",
              "43         0.000917     0.998163            25.880395            25.877584   \n",
              "44         0.000967     0.999882            56.282438            56.282046   \n",
              "45         0.000646     0.999957             9.671740             9.670919   \n",
              "46         0.000635     0.999890            44.569515            44.564741   \n",
              "47         0.000683     0.999917            17.445592            17.443141   \n",
              "48         0.000945     0.998725            25.218821            25.213244   \n",
              "49         0.000987     0.999872            54.412905            54.402983   \n",
              "50         0.000621     0.999975            10.503670            10.504444   \n",
              "51         0.000603     0.999889            43.076586            43.072322   \n",
              "52         0.000688     0.999926            17.843565            17.841273   \n",
              "53         0.000934     0.999482            25.530277            25.525733   \n",
              "54         0.000952     0.999866            52.740470            52.731652   \n",
              "55         0.000611     0.999980            10.565993            10.566263   \n",
              "56         0.000566     0.999905            43.473017            43.469092   \n",
              "57         0.000676     0.999894            15.521183            15.520423   \n",
              "58         0.000898     0.999577            25.297581            25.293697   \n",
              "59         0.000906     0.999846            48.234539            48.226561   \n",
              "60         0.000605     0.999986            11.296189            11.296129   \n",
              "61         0.000511     0.999911            42.289223            42.285314   \n",
              "62         0.000589     0.999993             5.906263             5.906326   \n",
              "63         0.000086     0.999993            55.532429            55.531384   \n",
              "64         0.000426     0.767040             0.023412             0.018373   \n",
              "65         0.000021     1.000000          2939.887695          2939.886475   \n",
              "66         0.010257     0.008468             8.110954             4.054784   \n",
              "67         0.010987     0.476793             2.549672             1.274431   \n",
              "68         0.000647     0.999861            12.163187            12.160477   \n",
              "69         0.000786     0.835213            37.604160            37.599287   \n",
              "70         0.000896     0.999894            54.539691            54.533113   \n",
              "71         0.000632     0.999995             8.321657             8.321754   \n",
              "72         0.000614     0.999837            36.397812            36.390765   \n",
              "73         0.000654     0.999845            12.029604            12.026233   \n",
              "74         0.000846     0.995447            29.437983            29.435763   \n",
              "75         0.000886     0.999883            53.006457            52.998776   \n",
              "76         0.000633     0.999982             8.765510             8.764634   \n",
              "77         0.000598     0.999832            34.932545            34.925662   \n",
              "78         0.000615     0.999841            13.004941            13.002531   \n",
              "79         0.000871     0.999737            24.521560            24.518365   \n",
              "80         0.000874     0.999764            39.071894            39.062191   \n",
              "81         0.000606     0.999981            11.643812            11.644032   \n",
              "82         0.000465     0.999901            36.870377            36.864710   \n",
              "83         0.000718     0.999776            13.191960            13.189010   \n",
              "84         0.000821     0.999640            26.512256            26.509212   \n",
              "85         0.001314     0.999404            37.427979            37.405480   \n",
              "86         0.001913     0.999269            10.954400            10.944295   \n",
              "87         0.001458     0.998440            29.661093            29.607839   \n",
              "88         0.000686     0.999838            12.810927            12.806456   \n",
              "89         0.000838     0.993868            25.724255            25.720302   \n",
              "90         0.000904     0.999876            51.444607            51.437050   \n",
              "91         0.000642     0.999972             9.816910             9.817362   \n",
              "92         0.000616     0.999860            38.638178            38.631137   \n",
              "93         0.000646     0.999903            15.457107            15.456810   \n",
              "94         0.000866     0.992499            24.484680            24.481533   \n",
              "95         0.000884     0.999890            54.824195            54.818416   \n",
              "96         0.000633     0.999977             9.872079             9.872823   \n",
              "97         0.000582     0.999900            43.778699            43.773552   \n",
              "98         0.000684     0.999936            18.031477            18.029018   \n",
              "99         0.000904     0.993058            25.957809            25.953325   \n",
              "100        0.000910     0.999903            59.378419            59.371954   \n",
              "101        0.000610     0.999979             9.609040             9.609282   \n",
              "102        0.000576     0.999911            46.736791            46.733025   \n",
              "103        0.000665     0.999943            18.905877            18.905000   \n",
              "104        0.000877     0.995221            24.810068            24.806815   \n",
              "105        0.000926     0.999897            58.070121            58.064830   \n",
              "106        0.000594     0.999979             9.634914             9.635466   \n",
              "107        0.000608     0.999895            44.844801            44.840098   \n",
              "108        0.000715     0.999931            18.331039            18.331188   \n",
              "109        0.000918     0.998178            25.880395            25.877677   \n",
              "110        0.000971     0.999881            56.282438            56.282135   \n",
              "111        0.000646     0.999957             9.671740             9.670928   \n",
              "112        0.000638     0.999890            44.569515            44.564784   \n",
              "113        0.000685     0.999917            17.445592            17.443099   \n",
              "114        0.000948     0.998718            25.218821            25.213316   \n",
              "115        0.000990     0.999871            54.412905            54.402984   \n",
              "116        0.000624     0.999975            10.503670            10.504477   \n",
              "117        0.000606     0.999888            43.076586            43.072387   \n",
              "118        0.000690     0.999926            17.843565            17.841245   \n",
              "119        0.000936     0.999480            25.530277            25.525777   \n",
              "120        0.000955     0.999865            52.740470            52.731632   \n",
              "121        0.000612     0.999980            10.565993            10.566247   \n",
              "122        0.000567     0.999905            43.473017            43.469111   \n",
              "123        0.000677     0.999894            15.521183            15.520450   \n",
              "124        0.000900     0.999573            25.297581            25.293705   \n",
              "125        0.000908     0.999846            48.234539            48.226655   \n",
              "126        0.000606     0.999986            11.296189            11.296110   \n",
              "127        0.000512     0.999910            42.289223            42.285353   \n",
              "128        0.000590     0.999993             5.906263             5.906356   \n",
              "129        0.000087     0.999993            55.532429            55.531387   \n",
              "130        0.000431     0.761402             0.023412             0.018266   \n",
              "131        0.000021     1.000000          2939.887695          2939.886475   \n",
              "132        0.010017     0.015064             8.110954             3.593820   \n",
              "133        0.010764     0.474241             2.549672             1.111743   \n",
              "134        0.000635     0.999865            12.163187            12.160543   \n",
              "135        0.000772     0.842971            37.604160            37.598921   \n",
              "136        0.000881     0.999898            54.539691            54.533098   \n",
              "137        0.000621     0.999995             8.321657             8.321772   \n",
              "138        0.000604     0.999843            36.397812            36.390564   \n",
              "139        0.000640     0.999850            12.029604            12.026194   \n",
              "140        0.000830     0.995444            29.437983            29.435662   \n",
              "141        0.000866     0.999887            53.006457            52.998768   \n",
              "142        0.000624     0.999983             8.765510             8.764792   \n",
              "143        0.000588     0.999838            34.932545            34.925426   \n",
              "144        0.000601     0.999849            13.004941            13.002580   \n",
              "145        0.000845     0.999751            24.521560            24.518593   \n",
              "146        0.000861     0.999772            39.071894            39.062055   \n",
              "147        0.000596     0.999981            11.643812            11.644046   \n",
              "148        0.000453     0.999905            36.870377            36.864933   \n",
              "149        0.000717     0.999784            13.191960            13.189791   \n",
              "150        0.000793     0.999657            26.512256            26.509089   \n",
              "151        0.001289     0.999428            37.427979            37.405494   \n",
              "152        0.002502     0.999256            10.954400            10.915573   \n",
              "153        0.001450     0.998508            29.661093            29.607332   \n",
              "154        0.000674     0.999843            12.810927            12.806537   \n",
              "155        0.000823     0.994098            25.724255            25.720163   \n",
              "156        0.000887     0.999880            51.444607            51.436606   \n",
              "157        0.000632     0.999972             9.816910             9.817336   \n",
              "158        0.000606     0.999865            38.638178            38.630886   \n",
              "159        0.000634     0.999907            15.457107            15.456909   \n",
              "160        0.000852     0.992593            24.484680            24.481263   \n",
              "161        0.000862     0.999895            54.824195            54.818262   \n",
              "162        0.000617     0.999979             9.872079             9.872776   \n",
              "163        0.000568     0.999905            43.778699            43.773167   \n",
              "164        0.000669     0.999938            18.031477            18.028861   \n",
              "165        0.000882     0.993400            25.957809            25.953153   \n",
              "166        0.000888     0.999908            59.378419            59.371587   \n",
              "167        0.000597     0.999980             9.609040             9.609450   \n",
              "168        0.000562     0.999915            46.736791            46.732910   \n",
              "169        0.000650     0.999945            18.905877            18.904971   \n",
              "170        0.000858     0.995542            24.810068            24.806423   \n",
              "171        0.000904     0.999901            58.070121            58.064570   \n",
              "172        0.000589     0.999980             9.634914             9.635315   \n",
              "173        0.000598     0.999899            44.844801            44.839852   \n",
              "174        0.000694     0.999934            18.331039            18.330571   \n",
              "175        0.000899     0.998308            25.880395            25.877183   \n",
              "176        0.000947     0.999887            56.282438            56.280862   \n",
              "177        0.000631     0.999958             9.671740             9.671200   \n",
              "178        0.000626     0.999894            44.569515            44.564350   \n",
              "179        0.000674     0.999920            17.445592            17.442986   \n",
              "180        0.000929     0.998748            25.218821            25.213336   \n",
              "181        0.000963     0.999877            54.412905            54.402480   \n",
              "182        0.000614     0.999976            10.503670            10.504659   \n",
              "183        0.000589     0.999893            43.076586            43.071701   \n",
              "184        0.000670     0.999930            17.843565            17.841495   \n",
              "185        0.000916     0.999500            25.530277            25.525706   \n",
              "186        0.000929     0.999872            52.740470            52.731904   \n",
              "187        0.000591     0.999981            10.565993            10.566463   \n",
              "188        0.000550     0.999909            43.473017            43.468557   \n",
              "189        0.000662     0.999899            15.521183            15.520307   \n",
              "190        0.000878     0.999589            25.297581            25.293598   \n",
              "191        0.000885     0.999853            48.234539            48.226080   \n",
              "192        0.000588     0.999987            11.296189            11.296783   \n",
              "193        0.000496     0.999914            42.289223            42.285372   \n",
              "194        0.000580     0.999994             5.906263             5.906342   \n",
              "195        0.000083     0.999993            55.532429            55.531456   \n",
              "196        0.000417     0.775862             0.023412             0.018683   \n",
              "197        0.000021     1.000000          2939.887695          2939.886230   \n",
              "\n",
              "                model  \n",
              "0       average_merge  \n",
              "1       average_merge  \n",
              "2       average_merge  \n",
              "3       average_merge  \n",
              "4       average_merge  \n",
              "5       average_merge  \n",
              "6       average_merge  \n",
              "7       average_merge  \n",
              "8       average_merge  \n",
              "9       average_merge  \n",
              "10      average_merge  \n",
              "11      average_merge  \n",
              "12      average_merge  \n",
              "13      average_merge  \n",
              "14      average_merge  \n",
              "15      average_merge  \n",
              "16      average_merge  \n",
              "17      average_merge  \n",
              "18      average_merge  \n",
              "19      average_merge  \n",
              "20      average_merge  \n",
              "21      average_merge  \n",
              "22      average_merge  \n",
              "23      average_merge  \n",
              "24      average_merge  \n",
              "25      average_merge  \n",
              "26      average_merge  \n",
              "27      average_merge  \n",
              "28      average_merge  \n",
              "29      average_merge  \n",
              "30      average_merge  \n",
              "31      average_merge  \n",
              "32      average_merge  \n",
              "33      average_merge  \n",
              "34      average_merge  \n",
              "35      average_merge  \n",
              "36      average_merge  \n",
              "37      average_merge  \n",
              "38      average_merge  \n",
              "39      average_merge  \n",
              "40      average_merge  \n",
              "41      average_merge  \n",
              "42      average_merge  \n",
              "43      average_merge  \n",
              "44      average_merge  \n",
              "45      average_merge  \n",
              "46      average_merge  \n",
              "47      average_merge  \n",
              "48      average_merge  \n",
              "49      average_merge  \n",
              "50      average_merge  \n",
              "51      average_merge  \n",
              "52      average_merge  \n",
              "53      average_merge  \n",
              "54      average_merge  \n",
              "55      average_merge  \n",
              "56      average_merge  \n",
              "57      average_merge  \n",
              "58      average_merge  \n",
              "59      average_merge  \n",
              "60      average_merge  \n",
              "61      average_merge  \n",
              "62      average_merge  \n",
              "63      average_merge  \n",
              "64      average_merge  \n",
              "65      average_merge  \n",
              "66   similarity_merge  \n",
              "67   similarity_merge  \n",
              "68   similarity_merge  \n",
              "69   similarity_merge  \n",
              "70   similarity_merge  \n",
              "71   similarity_merge  \n",
              "72   similarity_merge  \n",
              "73   similarity_merge  \n",
              "74   similarity_merge  \n",
              "75   similarity_merge  \n",
              "76   similarity_merge  \n",
              "77   similarity_merge  \n",
              "78   similarity_merge  \n",
              "79   similarity_merge  \n",
              "80   similarity_merge  \n",
              "81   similarity_merge  \n",
              "82   similarity_merge  \n",
              "83   similarity_merge  \n",
              "84   similarity_merge  \n",
              "85   similarity_merge  \n",
              "86   similarity_merge  \n",
              "87   similarity_merge  \n",
              "88   similarity_merge  \n",
              "89   similarity_merge  \n",
              "90   similarity_merge  \n",
              "91   similarity_merge  \n",
              "92   similarity_merge  \n",
              "93   similarity_merge  \n",
              "94   similarity_merge  \n",
              "95   similarity_merge  \n",
              "96   similarity_merge  \n",
              "97   similarity_merge  \n",
              "98   similarity_merge  \n",
              "99   similarity_merge  \n",
              "100  similarity_merge  \n",
              "101  similarity_merge  \n",
              "102  similarity_merge  \n",
              "103  similarity_merge  \n",
              "104  similarity_merge  \n",
              "105  similarity_merge  \n",
              "106  similarity_merge  \n",
              "107  similarity_merge  \n",
              "108  similarity_merge  \n",
              "109  similarity_merge  \n",
              "110  similarity_merge  \n",
              "111  similarity_merge  \n",
              "112  similarity_merge  \n",
              "113  similarity_merge  \n",
              "114  similarity_merge  \n",
              "115  similarity_merge  \n",
              "116  similarity_merge  \n",
              "117  similarity_merge  \n",
              "118  similarity_merge  \n",
              "119  similarity_merge  \n",
              "120  similarity_merge  \n",
              "121  similarity_merge  \n",
              "122  similarity_merge  \n",
              "123  similarity_merge  \n",
              "124  similarity_merge  \n",
              "125  similarity_merge  \n",
              "126  similarity_merge  \n",
              "127  similarity_merge  \n",
              "128  similarity_merge  \n",
              "129  similarity_merge  \n",
              "130  similarity_merge  \n",
              "131  similarity_merge  \n",
              "132   task_arithmetic  \n",
              "133   task_arithmetic  \n",
              "134   task_arithmetic  \n",
              "135   task_arithmetic  \n",
              "136   task_arithmetic  \n",
              "137   task_arithmetic  \n",
              "138   task_arithmetic  \n",
              "139   task_arithmetic  \n",
              "140   task_arithmetic  \n",
              "141   task_arithmetic  \n",
              "142   task_arithmetic  \n",
              "143   task_arithmetic  \n",
              "144   task_arithmetic  \n",
              "145   task_arithmetic  \n",
              "146   task_arithmetic  \n",
              "147   task_arithmetic  \n",
              "148   task_arithmetic  \n",
              "149   task_arithmetic  \n",
              "150   task_arithmetic  \n",
              "151   task_arithmetic  \n",
              "152   task_arithmetic  \n",
              "153   task_arithmetic  \n",
              "154   task_arithmetic  \n",
              "155   task_arithmetic  \n",
              "156   task_arithmetic  \n",
              "157   task_arithmetic  \n",
              "158   task_arithmetic  \n",
              "159   task_arithmetic  \n",
              "160   task_arithmetic  \n",
              "161   task_arithmetic  \n",
              "162   task_arithmetic  \n",
              "163   task_arithmetic  \n",
              "164   task_arithmetic  \n",
              "165   task_arithmetic  \n",
              "166   task_arithmetic  \n",
              "167   task_arithmetic  \n",
              "168   task_arithmetic  \n",
              "169   task_arithmetic  \n",
              "170   task_arithmetic  \n",
              "171   task_arithmetic  \n",
              "172   task_arithmetic  \n",
              "173   task_arithmetic  \n",
              "174   task_arithmetic  \n",
              "175   task_arithmetic  \n",
              "176   task_arithmetic  \n",
              "177   task_arithmetic  \n",
              "178   task_arithmetic  \n",
              "179   task_arithmetic  \n",
              "180   task_arithmetic  \n",
              "181   task_arithmetic  \n",
              "182   task_arithmetic  \n",
              "183   task_arithmetic  \n",
              "184   task_arithmetic  \n",
              "185   task_arithmetic  \n",
              "186   task_arithmetic  \n",
              "187   task_arithmetic  \n",
              "188   task_arithmetic  \n",
              "189   task_arithmetic  \n",
              "190   task_arithmetic  \n",
              "191   task_arithmetic  \n",
              "192   task_arithmetic  \n",
              "193   task_arithmetic  \n",
              "194   task_arithmetic  \n",
              "195   task_arithmetic  \n",
              "196   task_arithmetic  \n",
              "197   task_arithmetic  "
            ]
          },
          "metadata": {},
          "output_type": "display_data"
        }
      ],
      "source": [
        "weight_delta_frames = []\n",
        "layer_aggregates = []\n",
        "\n",
        "reference_model = artifacts[REFERENCE_KEY].model\n",
        "\n",
        "for name, artifact in artifacts.items():\n",
        "    if name == REFERENCE_KEY:\n",
        "        continue\n",
        "    deltas = compute_weight_deltas(reference_model, artifact.model)\n",
        "    deltas[\"model\"] = name\n",
        "    weight_delta_frames.append(deltas)\n",
        "\n",
        "    layer_summary = aggregate_parameter_stats(deltas)\n",
        "    layer_summary[\"model\"] = name\n",
        "    layer_aggregates.append(layer_summary)\n",
        "\n",
        "weight_deltas_df = pd.concat(weight_delta_frames, ignore_index=True) if weight_delta_frames else pd.DataFrame()\n",
        "layer_deltas_df = pd.concat(layer_aggregates, ignore_index=True) if layer_aggregates else pd.DataFrame()\n",
        "\n",
        "display(layer_deltas_df)"
      ]
    },
    {
      "cell_type": "code",
      "execution_count": 21,
      "id": "e3b6e5a6",
      "metadata": {},
      "outputs": [
        {
          "data": {
            "text/html": [
              "<div>\n",
              "<style scoped>\n",
              "    .dataframe tbody tr th:only-of-type {\n",
              "        vertical-align: middle;\n",
              "    }\n",
              "\n",
              "    .dataframe tbody tr th {\n",
              "        vertical-align: top;\n",
              "    }\n",
              "\n",
              "    .dataframe thead th {\n",
              "        text-align: right;\n",
              "    }\n",
              "</style>\n",
              "<table border=\"1\" class=\"dataframe\">\n",
              "  <thead>\n",
              "    <tr style=\"text-align: right;\">\n",
              "      <th></th>\n",
              "      <th>layer</th>\n",
              "      <th>delta_l2_sum</th>\n",
              "      <th>delta_l2_mean</th>\n",
              "      <th>delta_mean_abs</th>\n",
              "      <th>cosine_mean</th>\n",
              "      <th>reference_norm_mean</th>\n",
              "      <th>candidate_norm_mean</th>\n",
              "      <th>model</th>\n",
              "    </tr>\n",
              "  </thead>\n",
              "  <tbody>\n",
              "    <tr>\n",
              "      <th>0</th>\n",
              "      <td>classifier.dense</td>\n",
              "      <td>18.138556</td>\n",
              "      <td>9.069278</td>\n",
              "      <td>0.010246</td>\n",
              "      <td>0.006909</td>\n",
              "      <td>8.110954</td>\n",
              "      <td>4.035976</td>\n",
              "      <td>average_merge</td>\n",
              "    </tr>\n",
              "    <tr>\n",
              "      <th>66</th>\n",
              "      <td>classifier.dense</td>\n",
              "      <td>18.155677</td>\n",
              "      <td>9.077839</td>\n",
              "      <td>0.010257</td>\n",
              "      <td>0.008468</td>\n",
              "      <td>8.110954</td>\n",
              "      <td>4.054784</td>\n",
              "      <td>similarity_merge</td>\n",
              "    </tr>\n",
              "    <tr>\n",
              "      <th>132</th>\n",
              "      <td>classifier.dense</td>\n",
              "      <td>17.756611</td>\n",
              "      <td>8.878306</td>\n",
              "      <td>0.010017</td>\n",
              "      <td>0.015064</td>\n",
              "      <td>8.110954</td>\n",
              "      <td>3.593820</td>\n",
              "      <td>task_arithmetic</td>\n",
              "    </tr>\n",
              "  </tbody>\n",
              "</table>\n",
              "</div>"
            ],
            "text/plain": [
              "                layer  delta_l2_sum  delta_l2_mean  delta_mean_abs  \\\n",
              "0    classifier.dense     18.138556       9.069278        0.010246   \n",
              "66   classifier.dense     18.155677       9.077839        0.010257   \n",
              "132  classifier.dense     17.756611       8.878306        0.010017   \n",
              "\n",
              "     cosine_mean  reference_norm_mean  candidate_norm_mean             model  \n",
              "0       0.006909             8.110954             4.035976     average_merge  \n",
              "66      0.008468             8.110954             4.054784  similarity_merge  \n",
              "132     0.015064             8.110954             3.593820   task_arithmetic  "
            ]
          },
          "execution_count": 21,
          "metadata": {},
          "output_type": "execute_result"
        }
      ],
      "source": [
        "layer_deltas_df[layer_deltas_df[\"layer\"] == \"classifier.dense\"]"
      ]
    },
    {
      "cell_type": "code",
      "execution_count": 22,
      "id": "40fe2b4e",
      "metadata": {},
      "outputs": [
        {
          "data": {
            "application/vnd.plotly.v1+json": {
              "config": {
                "plotlyServerURL": "https://plot.ly"
              },
              "data": [
                {
                  "alignmentgroup": "True",
                  "hovertemplate": "model=average_merge<br>layer=%{x}<br>delta_l2_sum=%{y}<extra></extra>",
                  "legendgroup": "average_merge",
                  "marker": {
                    "color": "#636efa",
                    "pattern": {
                      "shape": ""
                    }
                  },
                  "name": "average_merge",
                  "offsetgroup": "average_merge",
                  "orientation": "v",
                  "showlegend": true,
                  "textposition": "auto",
                  "type": "bar",
                  "x": [
                    "classifier.dense",
                    "classifier.out_proj",
                    "layer.0.attention.output",
                    "layer.0.attention.self",
                    "layer.0.intermediate.dense",
                    "layer.0.output.LayerNorm",
                    "layer.0.output.dense",
                    "layer.1.attention.output",
                    "layer.1.attention.self",
                    "layer.1.intermediate.dense",
                    "layer.1.output.LayerNorm",
                    "layer.1.output.dense",
                    "layer.10.attention.output",
                    "layer.10.attention.self",
                    "layer.10.intermediate.dense",
                    "layer.10.output.LayerNorm",
                    "layer.10.output.dense",
                    "layer.11.attention.output",
                    "layer.11.attention.self",
                    "layer.11.intermediate.dense",
                    "layer.11.output.LayerNorm",
                    "layer.11.output.dense",
                    "layer.2.attention.output",
                    "layer.2.attention.self",
                    "layer.2.intermediate.dense",
                    "layer.2.output.LayerNorm",
                    "layer.2.output.dense",
                    "layer.3.attention.output",
                    "layer.3.attention.self",
                    "layer.3.intermediate.dense",
                    "layer.3.output.LayerNorm",
                    "layer.3.output.dense",
                    "layer.4.attention.output",
                    "layer.4.attention.self",
                    "layer.4.intermediate.dense",
                    "layer.4.output.LayerNorm",
                    "layer.4.output.dense",
                    "layer.5.attention.output",
                    "layer.5.attention.self",
                    "layer.5.intermediate.dense",
                    "layer.5.output.LayerNorm",
                    "layer.5.output.dense",
                    "layer.6.attention.output",
                    "layer.6.attention.self",
                    "layer.6.intermediate.dense",
                    "layer.6.output.LayerNorm",
                    "layer.6.output.dense",
                    "layer.7.attention.output",
                    "layer.7.attention.self",
                    "layer.7.intermediate.dense",
                    "layer.7.output.LayerNorm",
                    "layer.7.output.dense",
                    "layer.8.attention.output",
                    "layer.8.attention.self",
                    "layer.8.intermediate.dense",
                    "layer.8.output.LayerNorm",
                    "layer.8.output.dense",
                    "layer.9.attention.output",
                    "layer.9.attention.self",
                    "layer.9.intermediate.dense",
                    "layer.9.output.LayerNorm",
                    "layer.9.output.dense",
                    "roberta.embeddings.LayerNorm",
                    "roberta.embeddings.position_embeddings",
                    "roberta.embeddings.token_type_embeddings",
                    "roberta.embeddings.word_embeddings"
                  ],
                  "xaxis": "x",
                  "y": {
                    "bdata": "AADQZ3gjMkAAAKiQAsUWQAAAANf0MO0/AAAg2l/5BUAAAAA2sUH/PwAAADALUKY/AACAUQsB+z8AAADZBHDuPwAAgJYR/QZAAAAAAXRk/z8AAAAIQYCmPwAAQOqhZfo/AAAA10vh7z8AAEDpsvUJQAAAgLyicwFAAAAAcJlGpj8AAIDQLA/2PwAAQE32dfM/AAAAKEAyCkAAAADAbEwKQAAAAIDe5MA/AACg5BALEkAAAABVYE7vPwAAwB8BnAdAAAAAWyUTAEAAAADQjqmmPwAAADmXp/s/AAAAac/A7j8AAOD/hvMHQAAAAG4dSgBAAAAA+LvVpj8AAICTYoP6PwAAgA7SLfA/AAAAV1M7CUAAAABcbnkAQAAAAOB/u6U/AAAAaWnK+j8AAEDwhxHwPwAA4PDL/whAAAAAXHHmAEAAAAAg3J2lPwAAgLFy4fs/AADAWzne8D8AAOBfU/AJQAAAgMVIkQFAAAAAiLJ0pz8AAMDXpkf8PwAAAEHG6fA/AACAXWWoCkAAAIAwTcUBQAAAADgnl6Y/AADAZlmi+z8AAAAmwi7xPwAAwKkUuApAAAAAqrOjAUAAAAC4KdulPwAAgFzVs/k/AAAAH1uQ8D8AAIDVbSgKQAAAgDueWAFAAAAAKGGVpT8AAABY+FX4PwAAAOArUaU/AAAAYBQoyz8AAADgdsaOPwAAAGAlev8/",
                    "dtype": "f8"
                  },
                  "yaxis": "y"
                },
                {
                  "alignmentgroup": "True",
                  "hovertemplate": "model=similarity_merge<br>layer=%{x}<br>delta_l2_sum=%{y}<extra></extra>",
                  "legendgroup": "similarity_merge",
                  "marker": {
                    "color": "#EF553B",
                    "pattern": {
                      "shape": ""
                    }
                  },
                  "name": "similarity_merge",
                  "offsetgroup": "similarity_merge",
                  "orientation": "v",
                  "showlegend": true,
                  "textposition": "auto",
                  "type": "bar",
                  "x": [
                    "classifier.dense",
                    "classifier.out_proj",
                    "layer.0.attention.output",
                    "layer.0.attention.self",
                    "layer.0.intermediate.dense",
                    "layer.0.output.LayerNorm",
                    "layer.0.output.dense",
                    "layer.1.attention.output",
                    "layer.1.attention.self",
                    "layer.1.intermediate.dense",
                    "layer.1.output.LayerNorm",
                    "layer.1.output.dense",
                    "layer.10.attention.output",
                    "layer.10.attention.self",
                    "layer.10.intermediate.dense",
                    "layer.10.output.LayerNorm",
                    "layer.10.output.dense",
                    "layer.11.attention.output",
                    "layer.11.attention.self",
                    "layer.11.intermediate.dense",
                    "layer.11.output.LayerNorm",
                    "layer.11.output.dense",
                    "layer.2.attention.output",
                    "layer.2.attention.self",
                    "layer.2.intermediate.dense",
                    "layer.2.output.LayerNorm",
                    "layer.2.output.dense",
                    "layer.3.attention.output",
                    "layer.3.attention.self",
                    "layer.3.intermediate.dense",
                    "layer.3.output.LayerNorm",
                    "layer.3.output.dense",
                    "layer.4.attention.output",
                    "layer.4.attention.self",
                    "layer.4.intermediate.dense",
                    "layer.4.output.LayerNorm",
                    "layer.4.output.dense",
                    "layer.5.attention.output",
                    "layer.5.attention.self",
                    "layer.5.intermediate.dense",
                    "layer.5.output.LayerNorm",
                    "layer.5.output.dense",
                    "layer.6.attention.output",
                    "layer.6.attention.self",
                    "layer.6.intermediate.dense",
                    "layer.6.output.LayerNorm",
                    "layer.6.output.dense",
                    "layer.7.attention.output",
                    "layer.7.attention.self",
                    "layer.7.intermediate.dense",
                    "layer.7.output.LayerNorm",
                    "layer.7.output.dense",
                    "layer.8.attention.output",
                    "layer.8.attention.self",
                    "layer.8.intermediate.dense",
                    "layer.8.output.LayerNorm",
                    "layer.8.output.dense",
                    "layer.9.attention.output",
                    "layer.9.attention.self",
                    "layer.9.intermediate.dense",
                    "layer.9.output.LayerNorm",
                    "layer.9.output.dense",
                    "roberta.embeddings.LayerNorm",
                    "roberta.embeddings.position_embeddings",
                    "roberta.embeddings.token_type_embeddings",
                    "roberta.embeddings.word_embeddings"
                  ],
                  "xaxis": "x",
                  "y": {
                    "bdata": "AAAQedonMkAAACgC6scWQAAAgPa3P+0/AACACGIEBkAAAAAAY1j/PwAAAFCZVKY/AACARTsN+z8AAADl2YXuPwAAQNC+CQdAAAAASlh6/z8AAAB4bo2mPwAAQEjrd/o/AACAE//37z8AAIC/zAgKQAAAADfVfAFAAAAAsH9Qpj8AAAC7Shv2PwAAwCrDefM/AACAP/A/CkAAAADsVlMKQAAAALBh+MA/AABARKENEkAAAIDvYmHvPwAAwCR9qQdAAAAAsowfAEAAAAAoLbymPwAAQJsJvPs/AACAlNrW7j8AAICaWgMIQAAAAID4VwBAAAAAWPLmpj8AAABhx5n6PwAAwDTZO/A/AADAiGlPCUAAAIBGOYoAQAAAABiHzaU/AACAjtvi+j8AAADaNSHwPwAAYFhBFglAAAAADN71AEAAAACwZK+lPwAAwO8F+fs/AACAQGju8D8AAMCrAgMKQAAAAIJWogFAAAAA+HGIpz8AAAAeS2P8PwAAQPJ29/A/AABgkxC6CkAAAACjPNQBQAAAABhkt6Y/AABARue3+z8AAABTdzvxPwAA4IrtywpAAACAMaSwAUAAAAAgheSlPwAAQIoixfk/AABAWiCb8D8AAKDVOToKQAAAgC/6YQFAAAAAMEqgpT8AAADZGmf4PwAAABDPYqU/AAAAwMJRyz8AAAAg0BiPPwAAAMDqef8/",
                    "dtype": "f8"
                  },
                  "yaxis": "y"
                },
                {
                  "alignmentgroup": "True",
                  "hovertemplate": "model=task_arithmetic<br>layer=%{x}<br>delta_l2_sum=%{y}<extra></extra>",
                  "legendgroup": "task_arithmetic",
                  "marker": {
                    "color": "#00cc96",
                    "pattern": {
                      "shape": ""
                    }
                  },
                  "name": "task_arithmetic",
                  "offsetgroup": "task_arithmetic",
                  "orientation": "v",
                  "showlegend": true,
                  "textposition": "auto",
                  "type": "bar",
                  "x": [
                    "classifier.dense",
                    "classifier.out_proj",
                    "layer.0.attention.output",
                    "layer.0.attention.self",
                    "layer.0.intermediate.dense",
                    "layer.0.output.LayerNorm",
                    "layer.0.output.dense",
                    "layer.1.attention.output",
                    "layer.1.attention.self",
                    "layer.1.intermediate.dense",
                    "layer.1.output.LayerNorm",
                    "layer.1.output.dense",
                    "layer.10.attention.output",
                    "layer.10.attention.self",
                    "layer.10.intermediate.dense",
                    "layer.10.output.LayerNorm",
                    "layer.10.output.dense",
                    "layer.11.attention.output",
                    "layer.11.attention.self",
                    "layer.11.intermediate.dense",
                    "layer.11.output.LayerNorm",
                    "layer.11.output.dense",
                    "layer.2.attention.output",
                    "layer.2.attention.self",
                    "layer.2.intermediate.dense",
                    "layer.2.output.LayerNorm",
                    "layer.2.output.dense",
                    "layer.3.attention.output",
                    "layer.3.attention.self",
                    "layer.3.intermediate.dense",
                    "layer.3.output.LayerNorm",
                    "layer.3.output.dense",
                    "layer.4.attention.output",
                    "layer.4.attention.self",
                    "layer.4.intermediate.dense",
                    "layer.4.output.LayerNorm",
                    "layer.4.output.dense",
                    "layer.5.attention.output",
                    "layer.5.attention.self",
                    "layer.5.intermediate.dense",
                    "layer.5.output.LayerNorm",
                    "layer.5.output.dense",
                    "layer.6.attention.output",
                    "layer.6.attention.self",
                    "layer.6.intermediate.dense",
                    "layer.6.output.LayerNorm",
                    "layer.6.output.dense",
                    "layer.7.attention.output",
                    "layer.7.attention.self",
                    "layer.7.intermediate.dense",
                    "layer.7.output.LayerNorm",
                    "layer.7.output.dense",
                    "layer.8.attention.output",
                    "layer.8.attention.self",
                    "layer.8.intermediate.dense",
                    "layer.8.output.LayerNorm",
                    "layer.8.output.dense",
                    "layer.9.attention.output",
                    "layer.9.attention.self",
                    "layer.9.intermediate.dense",
                    "layer.9.output.LayerNorm",
                    "layer.9.output.dense",
                    "roberta.embeddings.LayerNorm",
                    "roberta.embeddings.position_embeddings",
                    "roberta.embeddings.token_type_embeddings",
                    "roberta.embeddings.word_embeddings"
                  ],
                  "xaxis": "x",
                  "y": {
                    "bdata": "AABAR7HBMUAAAKBhWDYWQAAAAHVNyOw/AABg7ZujBUAAAADD4sr+PwAAAGBO6KU/AACAHA2W+j8AAABDkPTtPwAAoH7nnQZAAAAAu6Xf/j8AAACYj0OmPwAAAKYA//k/AAAAwcwq7z8AAAD7M2IJQAAAAE1ZLQFAAAAAKLwIpj8AAIDluLv1PwAAQKjvHvM/AABAA3ucCUAAAAArncQJQAAAAMD4cMU/AACAOcafEUAAAIAWpdruPwAAYLYjRgdAAAAAqqSc/z8AAACI4UqmPwAAwKpyNPs/AAAA+0017j8AAACNjYMHQAAAAG8//P8/AAAAsLVzpj8AAMAyNgH6PwAAgKEPvO8/AADA4CTHCEAAAADbnCgAQAAAAMiRT6U/AADAOFM/+j8AAAD1WojvPwAAIOxbkghAAACAcqaXAEAAAACouUylPwAAgJWKZPs/AAAAXu6L8D8AAAC89HsJQAAAgCIsOgFAAAAAgAXopj8AAMB6qsH7PwAAAFqFm/A/AABAjowxCkAAAIBMYGoBQAAAAJiUQqY/AABAgSsa+z8AAIDnjMzwPwAA4MacMApAAACAg+hAAUAAAAAgPValPwAAwAjuJPk/AADAJs8v8D8AAACAapEJQAAAgPLs/ABAAAAAwExRpT8AAEB9xNX3PwAAAPiGBKU/AAAAgFeayj8AAADA7USOPwAAAKCX1v4/",
                    "dtype": "f8"
                  },
                  "yaxis": "y"
                }
              ],
              "layout": {
                "barmode": "group",
                "legend": {
                  "title": {
                    "text": "model"
                  },
                  "tracegroupgap": 0
                },
                "template": {
                  "data": {
                    "bar": [
                      {
                        "error_x": {
                          "color": "#2a3f5f"
                        },
                        "error_y": {
                          "color": "#2a3f5f"
                        },
                        "marker": {
                          "line": {
                            "color": "#E5ECF6",
                            "width": 0.5
                          },
                          "pattern": {
                            "fillmode": "overlay",
                            "size": 10,
                            "solidity": 0.2
                          }
                        },
                        "type": "bar"
                      }
                    ],
                    "barpolar": [
                      {
                        "marker": {
                          "line": {
                            "color": "#E5ECF6",
                            "width": 0.5
                          },
                          "pattern": {
                            "fillmode": "overlay",
                            "size": 10,
                            "solidity": 0.2
                          }
                        },
                        "type": "barpolar"
                      }
                    ],
                    "carpet": [
                      {
                        "aaxis": {
                          "endlinecolor": "#2a3f5f",
                          "gridcolor": "white",
                          "linecolor": "white",
                          "minorgridcolor": "white",
                          "startlinecolor": "#2a3f5f"
                        },
                        "baxis": {
                          "endlinecolor": "#2a3f5f",
                          "gridcolor": "white",
                          "linecolor": "white",
                          "minorgridcolor": "white",
                          "startlinecolor": "#2a3f5f"
                        },
                        "type": "carpet"
                      }
                    ],
                    "choropleth": [
                      {
                        "colorbar": {
                          "outlinewidth": 0,
                          "ticks": ""
                        },
                        "type": "choropleth"
                      }
                    ],
                    "contour": [
                      {
                        "colorbar": {
                          "outlinewidth": 0,
                          "ticks": ""
                        },
                        "colorscale": [
                          [
                            0,
                            "#0d0887"
                          ],
                          [
                            0.1111111111111111,
                            "#46039f"
                          ],
                          [
                            0.2222222222222222,
                            "#7201a8"
                          ],
                          [
                            0.3333333333333333,
                            "#9c179e"
                          ],
                          [
                            0.4444444444444444,
                            "#bd3786"
                          ],
                          [
                            0.5555555555555556,
                            "#d8576b"
                          ],
                          [
                            0.6666666666666666,
                            "#ed7953"
                          ],
                          [
                            0.7777777777777778,
                            "#fb9f3a"
                          ],
                          [
                            0.8888888888888888,
                            "#fdca26"
                          ],
                          [
                            1,
                            "#f0f921"
                          ]
                        ],
                        "type": "contour"
                      }
                    ],
                    "contourcarpet": [
                      {
                        "colorbar": {
                          "outlinewidth": 0,
                          "ticks": ""
                        },
                        "type": "contourcarpet"
                      }
                    ],
                    "heatmap": [
                      {
                        "colorbar": {
                          "outlinewidth": 0,
                          "ticks": ""
                        },
                        "colorscale": [
                          [
                            0,
                            "#0d0887"
                          ],
                          [
                            0.1111111111111111,
                            "#46039f"
                          ],
                          [
                            0.2222222222222222,
                            "#7201a8"
                          ],
                          [
                            0.3333333333333333,
                            "#9c179e"
                          ],
                          [
                            0.4444444444444444,
                            "#bd3786"
                          ],
                          [
                            0.5555555555555556,
                            "#d8576b"
                          ],
                          [
                            0.6666666666666666,
                            "#ed7953"
                          ],
                          [
                            0.7777777777777778,
                            "#fb9f3a"
                          ],
                          [
                            0.8888888888888888,
                            "#fdca26"
                          ],
                          [
                            1,
                            "#f0f921"
                          ]
                        ],
                        "type": "heatmap"
                      }
                    ],
                    "histogram": [
                      {
                        "marker": {
                          "pattern": {
                            "fillmode": "overlay",
                            "size": 10,
                            "solidity": 0.2
                          }
                        },
                        "type": "histogram"
                      }
                    ],
                    "histogram2d": [
                      {
                        "colorbar": {
                          "outlinewidth": 0,
                          "ticks": ""
                        },
                        "colorscale": [
                          [
                            0,
                            "#0d0887"
                          ],
                          [
                            0.1111111111111111,
                            "#46039f"
                          ],
                          [
                            0.2222222222222222,
                            "#7201a8"
                          ],
                          [
                            0.3333333333333333,
                            "#9c179e"
                          ],
                          [
                            0.4444444444444444,
                            "#bd3786"
                          ],
                          [
                            0.5555555555555556,
                            "#d8576b"
                          ],
                          [
                            0.6666666666666666,
                            "#ed7953"
                          ],
                          [
                            0.7777777777777778,
                            "#fb9f3a"
                          ],
                          [
                            0.8888888888888888,
                            "#fdca26"
                          ],
                          [
                            1,
                            "#f0f921"
                          ]
                        ],
                        "type": "histogram2d"
                      }
                    ],
                    "histogram2dcontour": [
                      {
                        "colorbar": {
                          "outlinewidth": 0,
                          "ticks": ""
                        },
                        "colorscale": [
                          [
                            0,
                            "#0d0887"
                          ],
                          [
                            0.1111111111111111,
                            "#46039f"
                          ],
                          [
                            0.2222222222222222,
                            "#7201a8"
                          ],
                          [
                            0.3333333333333333,
                            "#9c179e"
                          ],
                          [
                            0.4444444444444444,
                            "#bd3786"
                          ],
                          [
                            0.5555555555555556,
                            "#d8576b"
                          ],
                          [
                            0.6666666666666666,
                            "#ed7953"
                          ],
                          [
                            0.7777777777777778,
                            "#fb9f3a"
                          ],
                          [
                            0.8888888888888888,
                            "#fdca26"
                          ],
                          [
                            1,
                            "#f0f921"
                          ]
                        ],
                        "type": "histogram2dcontour"
                      }
                    ],
                    "mesh3d": [
                      {
                        "colorbar": {
                          "outlinewidth": 0,
                          "ticks": ""
                        },
                        "type": "mesh3d"
                      }
                    ],
                    "parcoords": [
                      {
                        "line": {
                          "colorbar": {
                            "outlinewidth": 0,
                            "ticks": ""
                          }
                        },
                        "type": "parcoords"
                      }
                    ],
                    "pie": [
                      {
                        "automargin": true,
                        "type": "pie"
                      }
                    ],
                    "scatter": [
                      {
                        "fillpattern": {
                          "fillmode": "overlay",
                          "size": 10,
                          "solidity": 0.2
                        },
                        "type": "scatter"
                      }
                    ],
                    "scatter3d": [
                      {
                        "line": {
                          "colorbar": {
                            "outlinewidth": 0,
                            "ticks": ""
                          }
                        },
                        "marker": {
                          "colorbar": {
                            "outlinewidth": 0,
                            "ticks": ""
                          }
                        },
                        "type": "scatter3d"
                      }
                    ],
                    "scattercarpet": [
                      {
                        "marker": {
                          "colorbar": {
                            "outlinewidth": 0,
                            "ticks": ""
                          }
                        },
                        "type": "scattercarpet"
                      }
                    ],
                    "scattergeo": [
                      {
                        "marker": {
                          "colorbar": {
                            "outlinewidth": 0,
                            "ticks": ""
                          }
                        },
                        "type": "scattergeo"
                      }
                    ],
                    "scattergl": [
                      {
                        "marker": {
                          "colorbar": {
                            "outlinewidth": 0,
                            "ticks": ""
                          }
                        },
                        "type": "scattergl"
                      }
                    ],
                    "scattermap": [
                      {
                        "marker": {
                          "colorbar": {
                            "outlinewidth": 0,
                            "ticks": ""
                          }
                        },
                        "type": "scattermap"
                      }
                    ],
                    "scattermapbox": [
                      {
                        "marker": {
                          "colorbar": {
                            "outlinewidth": 0,
                            "ticks": ""
                          }
                        },
                        "type": "scattermapbox"
                      }
                    ],
                    "scatterpolar": [
                      {
                        "marker": {
                          "colorbar": {
                            "outlinewidth": 0,
                            "ticks": ""
                          }
                        },
                        "type": "scatterpolar"
                      }
                    ],
                    "scatterpolargl": [
                      {
                        "marker": {
                          "colorbar": {
                            "outlinewidth": 0,
                            "ticks": ""
                          }
                        },
                        "type": "scatterpolargl"
                      }
                    ],
                    "scatterternary": [
                      {
                        "marker": {
                          "colorbar": {
                            "outlinewidth": 0,
                            "ticks": ""
                          }
                        },
                        "type": "scatterternary"
                      }
                    ],
                    "surface": [
                      {
                        "colorbar": {
                          "outlinewidth": 0,
                          "ticks": ""
                        },
                        "colorscale": [
                          [
                            0,
                            "#0d0887"
                          ],
                          [
                            0.1111111111111111,
                            "#46039f"
                          ],
                          [
                            0.2222222222222222,
                            "#7201a8"
                          ],
                          [
                            0.3333333333333333,
                            "#9c179e"
                          ],
                          [
                            0.4444444444444444,
                            "#bd3786"
                          ],
                          [
                            0.5555555555555556,
                            "#d8576b"
                          ],
                          [
                            0.6666666666666666,
                            "#ed7953"
                          ],
                          [
                            0.7777777777777778,
                            "#fb9f3a"
                          ],
                          [
                            0.8888888888888888,
                            "#fdca26"
                          ],
                          [
                            1,
                            "#f0f921"
                          ]
                        ],
                        "type": "surface"
                      }
                    ],
                    "table": [
                      {
                        "cells": {
                          "fill": {
                            "color": "#EBF0F8"
                          },
                          "line": {
                            "color": "white"
                          }
                        },
                        "header": {
                          "fill": {
                            "color": "#C8D4E3"
                          },
                          "line": {
                            "color": "white"
                          }
                        },
                        "type": "table"
                      }
                    ]
                  },
                  "layout": {
                    "annotationdefaults": {
                      "arrowcolor": "#2a3f5f",
                      "arrowhead": 0,
                      "arrowwidth": 1
                    },
                    "autotypenumbers": "strict",
                    "coloraxis": {
                      "colorbar": {
                        "outlinewidth": 0,
                        "ticks": ""
                      }
                    },
                    "colorscale": {
                      "diverging": [
                        [
                          0,
                          "#8e0152"
                        ],
                        [
                          0.1,
                          "#c51b7d"
                        ],
                        [
                          0.2,
                          "#de77ae"
                        ],
                        [
                          0.3,
                          "#f1b6da"
                        ],
                        [
                          0.4,
                          "#fde0ef"
                        ],
                        [
                          0.5,
                          "#f7f7f7"
                        ],
                        [
                          0.6,
                          "#e6f5d0"
                        ],
                        [
                          0.7,
                          "#b8e186"
                        ],
                        [
                          0.8,
                          "#7fbc41"
                        ],
                        [
                          0.9,
                          "#4d9221"
                        ],
                        [
                          1,
                          "#276419"
                        ]
                      ],
                      "sequential": [
                        [
                          0,
                          "#0d0887"
                        ],
                        [
                          0.1111111111111111,
                          "#46039f"
                        ],
                        [
                          0.2222222222222222,
                          "#7201a8"
                        ],
                        [
                          0.3333333333333333,
                          "#9c179e"
                        ],
                        [
                          0.4444444444444444,
                          "#bd3786"
                        ],
                        [
                          0.5555555555555556,
                          "#d8576b"
                        ],
                        [
                          0.6666666666666666,
                          "#ed7953"
                        ],
                        [
                          0.7777777777777778,
                          "#fb9f3a"
                        ],
                        [
                          0.8888888888888888,
                          "#fdca26"
                        ],
                        [
                          1,
                          "#f0f921"
                        ]
                      ],
                      "sequentialminus": [
                        [
                          0,
                          "#0d0887"
                        ],
                        [
                          0.1111111111111111,
                          "#46039f"
                        ],
                        [
                          0.2222222222222222,
                          "#7201a8"
                        ],
                        [
                          0.3333333333333333,
                          "#9c179e"
                        ],
                        [
                          0.4444444444444444,
                          "#bd3786"
                        ],
                        [
                          0.5555555555555556,
                          "#d8576b"
                        ],
                        [
                          0.6666666666666666,
                          "#ed7953"
                        ],
                        [
                          0.7777777777777778,
                          "#fb9f3a"
                        ],
                        [
                          0.8888888888888888,
                          "#fdca26"
                        ],
                        [
                          1,
                          "#f0f921"
                        ]
                      ]
                    },
                    "colorway": [
                      "#636efa",
                      "#EF553B",
                      "#00cc96",
                      "#ab63fa",
                      "#FFA15A",
                      "#19d3f3",
                      "#FF6692",
                      "#B6E880",
                      "#FF97FF",
                      "#FECB52"
                    ],
                    "font": {
                      "color": "#2a3f5f"
                    },
                    "geo": {
                      "bgcolor": "white",
                      "lakecolor": "white",
                      "landcolor": "#E5ECF6",
                      "showlakes": true,
                      "showland": true,
                      "subunitcolor": "white"
                    },
                    "hoverlabel": {
                      "align": "left"
                    },
                    "hovermode": "closest",
                    "mapbox": {
                      "style": "light"
                    },
                    "paper_bgcolor": "white",
                    "plot_bgcolor": "#E5ECF6",
                    "polar": {
                      "angularaxis": {
                        "gridcolor": "white",
                        "linecolor": "white",
                        "ticks": ""
                      },
                      "bgcolor": "#E5ECF6",
                      "radialaxis": {
                        "gridcolor": "white",
                        "linecolor": "white",
                        "ticks": ""
                      }
                    },
                    "scene": {
                      "xaxis": {
                        "backgroundcolor": "#E5ECF6",
                        "gridcolor": "white",
                        "gridwidth": 2,
                        "linecolor": "white",
                        "showbackground": true,
                        "ticks": "",
                        "zerolinecolor": "white"
                      },
                      "yaxis": {
                        "backgroundcolor": "#E5ECF6",
                        "gridcolor": "white",
                        "gridwidth": 2,
                        "linecolor": "white",
                        "showbackground": true,
                        "ticks": "",
                        "zerolinecolor": "white"
                      },
                      "zaxis": {
                        "backgroundcolor": "#E5ECF6",
                        "gridcolor": "white",
                        "gridwidth": 2,
                        "linecolor": "white",
                        "showbackground": true,
                        "ticks": "",
                        "zerolinecolor": "white"
                      }
                    },
                    "shapedefaults": {
                      "line": {
                        "color": "#2a3f5f"
                      }
                    },
                    "ternary": {
                      "aaxis": {
                        "gridcolor": "white",
                        "linecolor": "white",
                        "ticks": ""
                      },
                      "baxis": {
                        "gridcolor": "white",
                        "linecolor": "white",
                        "ticks": ""
                      },
                      "bgcolor": "#E5ECF6",
                      "caxis": {
                        "gridcolor": "white",
                        "linecolor": "white",
                        "ticks": ""
                      }
                    },
                    "title": {
                      "x": 0.05
                    },
                    "xaxis": {
                      "automargin": true,
                      "gridcolor": "white",
                      "linecolor": "white",
                      "ticks": "",
                      "title": {
                        "standoff": 15
                      },
                      "zerolinecolor": "white",
                      "zerolinewidth": 2
                    },
                    "yaxis": {
                      "automargin": true,
                      "gridcolor": "white",
                      "linecolor": "white",
                      "ticks": "",
                      "title": {
                        "standoff": 15
                      },
                      "zerolinecolor": "white",
                      "zerolinewidth": 2
                    }
                  }
                },
                "title": {
                  "text": "Layer-level parameter movement (L2 sum)"
                },
                "xaxis": {
                  "anchor": "y",
                  "domain": [
                    0,
                    1
                  ],
                  "title": {
                    "text": "layer"
                  }
                },
                "yaxis": {
                  "anchor": "x",
                  "domain": [
                    0,
                    1
                  ],
                  "title": {
                    "text": "delta_l2_sum"
                  }
                }
              }
            }
          },
          "metadata": {},
          "output_type": "display_data"
        }
      ],
      "source": [
        "if not layer_deltas_df.empty:\n",
        "    fig = px.bar(\n",
        "        layer_deltas_df,\n",
        "        x=\"layer\",\n",
        "        y=\"delta_l2_sum\",\n",
        "        color=\"model\",\n",
        "        barmode=\"group\",\n",
        "        title=\"Layer-level parameter movement (L2 sum)\",\n",
        "    )\n",
        "    fig.show()"
      ]
    },
    {
      "cell_type": "markdown",
      "id": "7aac8d0c",
      "metadata": {},
      "source": [
        "## 5. Probe texts\n",
        "\n",
        "Provide a small batch of utterances (preferably in the target language) for attention/activation analysis."
      ]
    },
    {
      "cell_type": "code",
      "execution_count": 23,
      "id": "5340c466",
      "metadata": {},
      "outputs": [
        {
          "data": {
            "text/plain": [
              "['Bagaimana cara meningkatkan pemesanan penerbangan saya?',\n",
              " 'Tunjukkan prakiraan cuaca untuk besok malam.',\n",
              " 'Saya perlu mengatur ulang kata sandi untuk perbankan online saya.',\n",
              " 'Cari restoran vegetarian di dekat lokasi saya.',\n",
              " 'Terjemahkan kalimat ini ke dalam bahasa Prancis.',\n",
              " 'Ingatkan saya untuk menelepon ibu saya pukul 6 sore.']"
            ]
          },
          "execution_count": 23,
          "metadata": {},
          "output_type": "execute_result"
        }
      ],
      "source": [
        "SAMPLE_TEXTS = ensure_text_samples(\n",
        "    file_hint=PROJECT_ROOT / \"assets\" / \"sample_prompts.txt\",\n",
        "    limit=12,\n",
        ")\n",
        "SAMPLE_TEXTS = [\n",
        "    \"Bagaimana cara meningkatkan pemesanan penerbangan saya?\",\n",
        "    \"Tunjukkan prakiraan cuaca untuk besok malam.\",\n",
        "    \"Saya perlu mengatur ulang kata sandi untuk perbankan online saya.\",\n",
        "    \"Cari restoran vegetarian di dekat lokasi saya.\",\n",
        "    \"Terjemahkan kalimat ini ke dalam bahasa Prancis.\",\n",
        "    \"Ingatkan saya untuk menelepon ibu saya pukul 6 sore.\"\n",
        "]\n",
        "\n",
        "SAMPLE_TEXTS"
      ]
    },
    {
      "cell_type": "markdown",
      "id": "3da5391c",
      "metadata": {},
      "source": [
        "## 6. Collect signals\n",
        "\n",
        "Capture attentions, hidden states, and logits for each model over the probe texts."
      ]
    },
    {
      "cell_type": "code",
      "execution_count": 24,
      "id": "73c7af2a",
      "metadata": {},
      "outputs": [
        {
          "data": {
            "text/html": [
              "<div>\n",
              "<style scoped>\n",
              "    .dataframe tbody tr th:only-of-type {\n",
              "        vertical-align: middle;\n",
              "    }\n",
              "\n",
              "    .dataframe tbody tr th {\n",
              "        vertical-align: top;\n",
              "    }\n",
              "\n",
              "    .dataframe thead th {\n",
              "        text-align: right;\n",
              "    }\n",
              "</style>\n",
              "<table border=\"1\" class=\"dataframe\">\n",
              "  <thead>\n",
              "    <tr style=\"text-align: right;\">\n",
              "      <th></th>\n",
              "      <th>layer</th>\n",
              "      <th>head</th>\n",
              "      <th>mean_prob</th>\n",
              "      <th>entropy</th>\n",
              "      <th>cls_focus</th>\n",
              "      <th>diagonal_focus</th>\n",
              "      <th>model</th>\n",
              "    </tr>\n",
              "  </thead>\n",
              "  <tbody>\n",
              "    <tr>\n",
              "      <th>0</th>\n",
              "      <td>0</td>\n",
              "      <td>0</td>\n",
              "      <td>0.066667</td>\n",
              "      <td>1.914893</td>\n",
              "      <td>0.064796</td>\n",
              "      <td>0.048904</td>\n",
              "      <td>baseline</td>\n",
              "    </tr>\n",
              "    <tr>\n",
              "      <th>1</th>\n",
              "      <td>0</td>\n",
              "      <td>1</td>\n",
              "      <td>0.066667</td>\n",
              "      <td>2.126320</td>\n",
              "      <td>0.113289</td>\n",
              "      <td>0.048444</td>\n",
              "      <td>baseline</td>\n",
              "    </tr>\n",
              "    <tr>\n",
              "      <th>2</th>\n",
              "      <td>0</td>\n",
              "      <td>2</td>\n",
              "      <td>0.066667</td>\n",
              "      <td>1.715781</td>\n",
              "      <td>0.084600</td>\n",
              "      <td>0.015819</td>\n",
              "      <td>baseline</td>\n",
              "    </tr>\n",
              "    <tr>\n",
              "      <th>3</th>\n",
              "      <td>0</td>\n",
              "      <td>3</td>\n",
              "      <td>0.066667</td>\n",
              "      <td>1.742286</td>\n",
              "      <td>0.071350</td>\n",
              "      <td>0.263063</td>\n",
              "      <td>baseline</td>\n",
              "    </tr>\n",
              "    <tr>\n",
              "      <th>4</th>\n",
              "      <td>0</td>\n",
              "      <td>4</td>\n",
              "      <td>0.066667</td>\n",
              "      <td>2.197539</td>\n",
              "      <td>0.124293</td>\n",
              "      <td>0.106625</td>\n",
              "      <td>baseline</td>\n",
              "    </tr>\n",
              "  </tbody>\n",
              "</table>\n",
              "</div>"
            ],
            "text/plain": [
              "   layer  head  mean_prob   entropy  cls_focus  diagonal_focus     model\n",
              "0      0     0   0.066667  1.914893   0.064796        0.048904  baseline\n",
              "1      0     1   0.066667  2.126320   0.113289        0.048444  baseline\n",
              "2      0     2   0.066667  1.715781   0.084600        0.015819  baseline\n",
              "3      0     3   0.066667  1.742286   0.071350        0.263063  baseline\n",
              "4      0     4   0.066667  2.197539   0.124293        0.106625  baseline"
            ]
          },
          "metadata": {},
          "output_type": "display_data"
        }
      ],
      "source": [
        "signals = {\n",
        "    name: collect_model_signals(artifact, SAMPLE_TEXTS, device=DEVICE)\n",
        "    for name, artifact in artifacts.items()\n",
        "}\n",
        "\n",
        "attention_records = []\n",
        "for name, signal in signals.items():\n",
        "    attentions = signal.get(\"attentions\")\n",
        "    if not attentions:\n",
        "        continue\n",
        "    attn_df = summarize_attentions(attentions)\n",
        "    attn_df[\"model\"] = name\n",
        "    attention_records.append(attn_df)\n",
        "\n",
        "attention_df = pd.concat(attention_records, ignore_index=True) if attention_records else pd.DataFrame()\n",
        "display(attention_df.head())"
      ]
    },
    {
      "cell_type": "code",
      "execution_count": 25,
      "id": "eec19946",
      "metadata": {},
      "outputs": [
        {
          "data": {
            "application/vnd.plotly.v1+json": {
              "config": {
                "plotlyServerURL": "https://plot.ly"
              },
              "data": [
                {
                  "alignmentgroup": "True",
                  "boxpoints": "all",
                  "hovertemplate": "model=baseline<br>layer=%{x}<br>entropy=%{y}<extra></extra>",
                  "legendgroup": "baseline",
                  "marker": {
                    "color": "#636efa"
                  },
                  "name": "baseline",
                  "notched": false,
                  "offsetgroup": "baseline",
                  "orientation": "v",
                  "showlegend": true,
                  "type": "box",
                  "x": {
                    "bdata": "AAAAAAAAAAAAAAAAAQEBAQEBAQEBAQEBAgICAgICAgICAgICAwMDAwMDAwMDAwMDBAQEBAQEBAQEBAQEBQUFBQUFBQUFBQUFBgYGBgYGBgYGBgYGBwcHBwcHBwcHBwcHCAgICAgICAgICAgICQkJCQkJCQkJCQkJCgoKCgoKCgoKCgoKCwsLCwsLCwsLCwsL",
                    "dtype": "i1"
                  },
                  "x0": " ",
                  "xaxis": "x",
                  "y": {
                    "bdata": "AAAAoGaj/j8AAABAtAIBQAAAAKDWc/s/AAAA4Gbg+z8AAAAgj5QBQAAAAOAuCwFAAAAAoHTK+D8AAAAgYqP9PwAAACDoHvA/AAAAIBwR/T8AAAAg1wkBQAAAAECYQQFAAAAAQG4O6D8AAABgQAn6PwAAAEAiTPM/AAAAIJV98D8AAACAYlbiPwAAAODhXvA/AAAAAEw94z8AAABgcXHmPwAAACCFr8U/AAAAYFnw8z8AAADgp9z1PwAAAECBFeM/AAAAwDz33z8AAACgjGvYPwAAAKBi9OA/AAAAIBJ14z8AAADglFvVPwAAACDn0MI/AAAA4LO00j8AAACArR7oPwAAAMCMt9o/AAAAQIM39D8AAAAALSrlPwAAAIBVZ8k/AAAAoBI23j8AAADAk2LWPwAAAEAjJMs/AAAAQAxh7T8AAAAAKt3BPwAAACASDsM/AAAAIJQg4T8AAACgwlPsPwAAAIByt9o/AAAAwNRT4j8AAACgSgnoPwAAACD+teI/AAAAwHic7D8AAACAYsjsPwAAAEAXPec/AAAAQOYyyT8AAABAywffPwAAAGAT89g/AAAAIGQG9T8AAABgOD2yPwAAAOBGJPM/AAAAYO0l5T8AAADgWrP7PwAAAMCb0Og/AAAAoHpy9D8AAACAMOXnPwAAAEDbxfI/AAAAgGc18T8AAADA6XHiPwAAAIDK+Ok/AAAAIGq94z8AAABgQtfzPwAAAEATDuo/AAAAgEQi7T8AAABgK3X1PwAAAIBHfvA/AAAAYJ0j8j8AAADgGnTrPwAAAECTY9E/AAAAAH5t8z8AAABAHj3tPwAAAGCXyuU/AAAAgMcK8D8AAAAg2Qf2PwAAAID6O+U/AAAAINO88D8AAACATePpPwAAAEALR9w/AAAAoOQj7j8AAADAze7nPwAAAACk7+U/AAAAwFDo6T8AAADg6Rz0PwAAACBZ0/I/AAAAwCpg9D8AAADgPQDyPwAAAEB59vM/AAAAQPbs5D8AAAAgJkHxPwAAAGDtGeI/AAAA4GI74j8AAABAQGDyPwAAAMAlie0/AAAAIAct8T8AAAAgpaPyPwAAAGDUNME/AAAAwG2p8T8AAADgrJfzPwAAAIBDvtw/AAAAgEwX6j8AAABgBWLxPwAAAEATq+g/AAAAgPWf7D8AAABglVLtPwAAAKCsUvA/AAAAICiY8T8AAABAE1f2PwAAAKDko+w/AAAAALYo9T8AAABAZ0z2PwAAAECpBuo/AAAAoAla8D8AAAAAvvr5PwAAAGBMQvM/AAAAANQL9j8AAAAAKj/+PwAAAKCknfU/AAAAwP2M6j8AAADg3gj2PwAAAODNcvc/AAAAAJWR9T8AAAAgIcz9PwAAAACdBvM/AAAAYM6S9T8AAABAEbzxPwAAACBpD/E/AAAAoPHe6D8AAAAgOBv+PwAAAEBaFwBAAAAAIBKZ6T8AAABgTvj6PwAAACCQb/8/AAAAYIGU+j8AAAAAUgD5PwAAAOBeJ+w/AAAAwEWB/D8AAAAAAxj+PwAAACAQBvc/",
                    "dtype": "f8"
                  },
                  "y0": " ",
                  "yaxis": "y"
                },
                {
                  "alignmentgroup": "True",
                  "boxpoints": "all",
                  "hovertemplate": "model=average_merge<br>layer=%{x}<br>entropy=%{y}<extra></extra>",
                  "legendgroup": "average_merge",
                  "marker": {
                    "color": "#EF553B"
                  },
                  "name": "average_merge",
                  "notched": false,
                  "offsetgroup": "average_merge",
                  "orientation": "v",
                  "showlegend": true,
                  "type": "box",
                  "x": {
                    "bdata": "AAAAAAAAAAAAAAAAAQEBAQEBAQEBAQEBAgICAgICAgICAgICAwMDAwMDAwMDAwMDBAQEBAQEBAQEBAQEBQUFBQUFBQUFBQUFBgYGBgYGBgYGBgYGBwcHBwcHBwcHBwcHCAgICAgICAgICAgICQkJCQkJCQkJCQkJCgoKCgoKCgoKCgoKCwsLCwsLCwsLCwsL",
                    "dtype": "i1"
                  },
                  "x0": " ",
                  "xaxis": "x",
                  "y": {
                    "bdata": "AAAAwM2X/j8AAACgVvgAQAAAAIBFR/s/AAAAwPnz+z8AAADAN4UBQAAAAKDdAQFAAAAA4DOn+D8AAAAgsUD9PwAAAMBJIfA/AAAAAA0n/T8AAAAgjdkAQAAAAOCSSAFAAAAAIB1T5j8AAABAo7L0PwAAAMDjfOw/AAAAgCUu8D8AAABAuqjePwAAAKAOBOg/AAAA4H4z4j8AAAAAirLiPwAAAIDnPcQ/AAAAAP2Z8z8AAAAgVVL2PwAAAICPquE/AAAA4LNd3z8AAABAm1/gPwAAAMA67OI/AAAA4Bj36z8AAACgdP/ZPwAAAGDpM8A/AAAA4N762T8AAABA2RTqPwAAAGAbh9w/AAAAgOJ59T8AAACA7S7vPwAAAKAvRso/AAAAADpR3j8AAADgqC7dPwAAAAD1dM8/AAAAQGri7D8AAADgsqzHPwAAAOCDpMc/AAAAYLTe5T8AAADAjEHwPwAAAMB8B+A/AAAAADaa6j8AAABAFBvtPwAAAMAcYtw/AAAAoCzy8z8AAACAM5fyPwAAAODNdOg/AAAAgB+41j8AAADAMbjcPwAAAICfqdg/AAAAgGzo9T8AAAAAAMm5PwAAAADXBPI/AAAAYJs77D8AAAAgujf6PwAAAABWn+c/AAAAgN9h8z8AAABgE7vqPwAAAOAOMfQ/AAAAQKwr7T8AAAAAkS7jPwAAAKCJ6e0/AAAAAM5+6D8AAACAVFDxPwAAAOCVqe0/AAAAIHUU8D8AAAAg7PLyPwAAAIA6g/E/AAAA4Ju18T8AAAAghxXuPwAAAKCkks0/AAAAYPan8T8AAACg5oTwPwAAAECGHuc/AAAAoE9b7z8AAABAD3z2PwAAAGAzWOg/AAAAoACt8T8AAAAAiBzqPwAAACAxWdc/AAAA4E855D8AAADAjDfhPwAAAEDT8ek/AAAAwBCQ4T8AAABAw/TxPwAAAOC67/E/AAAAgDQr8z8AAADgyLvwPwAAAGBR3+4/AAAAwHHO1D8AAABAXBjuPwAAAMDV984/AAAAIHDI5T8AAAAAKsLyPwAAAIBYeew/AAAAoLxL8T8AAADA/JzxPwAAAICUmcg/AAAAoHq48D8AAADg55jxPwAAAOCaG9c/AAAA4D146z8AAACAQLTwPwAAAEBEBvE/AAAAACVE7T8AAACAf8byPwAAAEBenvA/AAAAgEic9T8AAABgVnT4PwAAAOCTKe8/AAAAwNWr9T8AAADAdRj3PwAAAICAvus/AAAAIDDl9D8AAADg3vT8PwAAAKDshPc/AAAAYOae9D8AAAAAMCX9PwAAACA8nfU/AAAAgJfK7z8AAAAgUg31PwAAAADNBfk/AAAA4N469z8AAADAAQ8AQAAAAMAkgfE/AAAAwOH08z8AAADg5sH2PwAAAED2s/M/AAAAAPC68z8AAACg9qv5PwAAAEBMZ/w/AAAAoPY29D8AAACgnmv8PwAAAKA3svw/AAAAQNbx/T8AAACgZuf8PwAAACBN7PM/AAAAYLHF/D8AAADgL3H9PwAAAACIOPo/",
                    "dtype": "f8"
                  },
                  "y0": " ",
                  "yaxis": "y"
                },
                {
                  "alignmentgroup": "True",
                  "boxpoints": "all",
                  "hovertemplate": "model=similarity_merge<br>layer=%{x}<br>entropy=%{y}<extra></extra>",
                  "legendgroup": "similarity_merge",
                  "marker": {
                    "color": "#00cc96"
                  },
                  "name": "similarity_merge",
                  "notched": false,
                  "offsetgroup": "similarity_merge",
                  "orientation": "v",
                  "showlegend": true,
                  "type": "box",
                  "x": {
                    "bdata": "AAAAAAAAAAAAAAAAAQEBAQEBAQEBAQEBAgICAgICAgICAgICAwMDAwMDAwMDAwMDBAQEBAQEBAQEBAQEBQUFBQUFBQUFBQUFBgYGBgYGBgYGBgYGBwcHBwcHBwcHBwcHCAgICAgICAgICAgICQkJCQkJCQkJCQkJCgoKCgoKCgoKCgoKCwsLCwsLCwsLCwsL",
                    "dtype": "i1"
                  },
                  "x0": " ",
                  "xaxis": "x",
                  "y": {
                    "bdata": "AAAAQP6V/j8AAADgWfgAQAAAAMDlSPs/AAAAQB/2+z8AAAAA6oQBQAAAACAsAgFAAAAAoESp+D8AAADAK0D9PwAAAKDtJfA/AAAAoK4q/T8AAABgqdkAQAAAAEAPSQFAAAAAQCw25j8AAACgBJD0PwAAAKAnM+w/AAAAAJtR8D8AAABAs2zePwAAAKBfx+c/AAAAAJe74j8AAAAAazXiPwAAAIC4+sQ/AAAAoF3l8z8AAABAS5b2PwAAAIDP2uE/AAAAgD1i3z8AAABgFpHgPwAAAOA+/uI/AAAA4JJq7D8AAAAgwTbaPwAAAGDNNsA/AAAAADBt2j8AAABAq1XqPwAAAGBJftw/AAAAICOj9T8AAADA4IDvPwAAACCw4Mk/AAAAwLZ83j8AAABgbq3dPwAAAKBxBM8/AAAAINLZ7D8AAADgjcrHPwAAAIBIZsg/AAAAAOvm5T8AAACgeUDwPwAAACBFC+A/AAAAIP2n6j8AAACAQ0btPwAAAKCy2ds/AAAAAFon9D8AAAAA8tDyPwAAAICnlOg/AAAAgK511j8AAADgQwfdPwAAAABbCNg/AAAA4Or29T8AAACAcrG6PwAAAODsMPI/AAAAQKtg7D8AAAAAWpP6PwAAAKDq/+c/AAAAwLEZ9D8AAADgG1DrPwAAAACGFvU/AAAA4Dq27j8AAAAAQ8DjPwAAAMCYce4/AAAAQAkB6T8AAABgX/nxPwAAAICVle4/AAAAAIwz8D8AAACA1IzzPwAAAAC4L/I/AAAAIPlQ8j8AAABg+XfuPwAAAGCwkMw/AAAA4LsA8j8AAAAAgHXwPwAAAICjiuc/AAAA4BIr8D8AAABgpZb2PwAAAODTg+g/AAAAgHXH8T8AAABg6d7qPwAAAIA1Q9g/AAAAQJ/85T8AAABAQefgPwAAAGDdTOo/AAAAQMNO4T8AAABApxDyPwAAAED7rPI/AAAA4M608z8AAACgjs7wPwAAAOByIvA/AAAAIBx71j8AAABAzIfuPwAAAEAgiNA/AAAA4Aae5D8AAABgO8ryPwAAAAAiAew/AAAAgG868T8AAAAAaXjxPwAAAECe+sg/AAAAIFQ48D8AAAAA3WDxPwAAAGC9n9U/AAAAoB7P6j8AAABA8ZjwPwAAAEBOIfA/AAAAoDwN7T8AAADg6dzyPwAAAKC+gPA/AAAA4MWB9T8AAACALzP4PwAAAODybu4/AAAAIAej9T8AAABgXvT2PwAAAECbsOs/AAAAAP6m9D8AAADgZdz8PwAAACB1j/c/AAAAYAeG9D8AAADANvb8PwAAACAit/U/AAAAAGYD8D8AAAAglAT1PwAAAIBICfk/AAAAQD4h9z8AAAAAbAoAQAAAAOC+gvE/AAAAoLrW8z8AAADApWv2PwAAAMCbovM/AAAAAACk8z8AAABAvIn5PwAAAODqQfw/AAAAYI/88z8AAAAghXj8PwAAAKA00fw/AAAAYAGt/T8AAAAg2PT8PwAAAGDVyPM/AAAAgHW8/D8AAABAcVj9PwAAACC4Gvo/",
                    "dtype": "f8"
                  },
                  "y0": " ",
                  "yaxis": "y"
                },
                {
                  "alignmentgroup": "True",
                  "boxpoints": "all",
                  "hovertemplate": "model=task_arithmetic<br>layer=%{x}<br>entropy=%{y}<extra></extra>",
                  "legendgroup": "task_arithmetic",
                  "marker": {
                    "color": "#ab63fa"
                  },
                  "name": "task_arithmetic",
                  "notched": false,
                  "offsetgroup": "task_arithmetic",
                  "orientation": "v",
                  "showlegend": true,
                  "type": "box",
                  "x": {
                    "bdata": "AAAAAAAAAAAAAAAAAQEBAQEBAQEBAQEBAgICAgICAgICAgICAwMDAwMDAwMDAwMDBAQEBAQEBAQEBAQEBQUFBQUFBQUFBQUFBgYGBgYGBgYGBgYGBwcHBwcHBwcHBwcHCAgICAgICAgICAgICQkJCQkJCQkJCQkJCgoKCgoKCgoKCgoKCwsLCwsLCwsLCwsL",
                    "dtype": "i1"
                  },
                  "x0": " ",
                  "xaxis": "x",
                  "y": {
                    "bdata": "AAAAoPef/j8AAACgX/gAQAAAAKC5S/s/AAAAgPfz+z8AAABgeIIBQAAAAAD0AgFAAAAA4I2v+D8AAAAA02D9PwAAACBzGfA/AAAAIMQg/T8AAACA3uQAQAAAACBXSgFAAAAAwEgy5j8AAADgpAn1PwAAAKBu1O0/AAAAQCMT7z8AAABAt5DePwAAAECWoOg/AAAAYLnB4j8AAABgr3PiPwAAAIAAosY/AAAAwMDZ8z8AAADA+5b1PwAAAEA1/uE/AAAAYNWz3z8AAACAreDgPwAAAGDr3OI/AAAAoF7E6z8AAACgn7PaPwAAAMDMr8A/AAAAQFLm2T8AAAAAXtDqPwAAACA/Yd0/AAAAIPxs9T8AAACAyh7wPwAAAEAmQcs/AAAAoC773j8AAACARDPgPwAAAKCppdA/AAAA4K7m7D8AAABgaFHJPwAAAMD8xMU/AAAAIBn65T8AAAAAyuXwPwAAAEChT+A/AAAA4G1Z6j8AAABAEfHsPwAAAIBkWd4/AAAAgCfu8j8AAACgdPHxPwAAAKD0Z+g/AAAA4F0T1j8AAACAoordPwAAAIC9fdg/AAAAYGyW9T8AAAAAsAS3PwAAACBdz/I/AAAAwBnB6z8AAADg+u/5PwAAAAB2E+c/AAAAwPEf8z8AAAAAtsbqPwAAAGA2aPM/AAAAQHK67T8AAACgSvvhPwAAAIDH+e0/AAAAYEaR5z8AAADAQfrwPwAAAECT5+0/AAAAgHxH8D8AAABgng7yPwAAAEDnKfE/AAAAIGRh8D8AAABAoxLvPwAAAEAgGNE/AAAAAMNH8T8AAADArQvxPwAAAIA/6OU/AAAAwJb67j8AAACAbQP1PwAAAEBneOY/AAAAYN9C8D8AAAAARRjoPwAAACB4ytY/AAAAwJhS5T8AAACgpITiPwAAAIBCSOo/AAAAID3g4j8AAACgOqHyPwAAAEAu9vI/AAAAAB2H8z8AAABAyynyPwAAACDEdfA/AAAAoKxT1D8AAABA4t7vPwAAAOBjkdQ/AAAAgNRz6T8AAACgUiD0PwAAACBnIfA/AAAAoOtc9D8AAABATxDzPwAAAIBpANI/AAAA4CE98z8AAABAr6nyPwAAAODy698/AAAAYKVP7z8AAACgWDjyPwAAACAMYvM/AAAAYHtZ7z8AAACALlzzPwAAACD3G/E/AAAAACps9T8AAAAgvDz4PwAAAICave4/AAAAIP3V9j8AAACgtI/3PwAAAAAjtOo/AAAAwDWo9D8AAABAmSb9PwAAAKBq0fc/AAAAoJEB9T8AAABg9Vb9PwAAAMCRz/Q/AAAAYCCC7z8AAADgOjz1PwAAAOAFRPk/AAAAYKB29z8AAADgfpX/PwAAAIAvcfE/AAAAgIBm9D8AAADA7h/3PwAAAMCUGvQ/AAAAgMyW8z8AAABgXT36PwAAAIDQmvw/AAAAIN8L9D8AAACg1ob8PwAAAAA6WP0/AAAAQAzx/z8AAABgm8v7PwAAAGDicfM/AAAAYEVl/T8AAAAAtXb9PwAAAIAcp/k/",
                    "dtype": "f8"
                  },
                  "y0": " ",
                  "yaxis": "y"
                }
              ],
              "layout": {
                "boxmode": "group",
                "legend": {
                  "title": {
                    "text": "model"
                  },
                  "tracegroupgap": 0
                },
                "template": {
                  "data": {
                    "bar": [
                      {
                        "error_x": {
                          "color": "#2a3f5f"
                        },
                        "error_y": {
                          "color": "#2a3f5f"
                        },
                        "marker": {
                          "line": {
                            "color": "#E5ECF6",
                            "width": 0.5
                          },
                          "pattern": {
                            "fillmode": "overlay",
                            "size": 10,
                            "solidity": 0.2
                          }
                        },
                        "type": "bar"
                      }
                    ],
                    "barpolar": [
                      {
                        "marker": {
                          "line": {
                            "color": "#E5ECF6",
                            "width": 0.5
                          },
                          "pattern": {
                            "fillmode": "overlay",
                            "size": 10,
                            "solidity": 0.2
                          }
                        },
                        "type": "barpolar"
                      }
                    ],
                    "carpet": [
                      {
                        "aaxis": {
                          "endlinecolor": "#2a3f5f",
                          "gridcolor": "white",
                          "linecolor": "white",
                          "minorgridcolor": "white",
                          "startlinecolor": "#2a3f5f"
                        },
                        "baxis": {
                          "endlinecolor": "#2a3f5f",
                          "gridcolor": "white",
                          "linecolor": "white",
                          "minorgridcolor": "white",
                          "startlinecolor": "#2a3f5f"
                        },
                        "type": "carpet"
                      }
                    ],
                    "choropleth": [
                      {
                        "colorbar": {
                          "outlinewidth": 0,
                          "ticks": ""
                        },
                        "type": "choropleth"
                      }
                    ],
                    "contour": [
                      {
                        "colorbar": {
                          "outlinewidth": 0,
                          "ticks": ""
                        },
                        "colorscale": [
                          [
                            0,
                            "#0d0887"
                          ],
                          [
                            0.1111111111111111,
                            "#46039f"
                          ],
                          [
                            0.2222222222222222,
                            "#7201a8"
                          ],
                          [
                            0.3333333333333333,
                            "#9c179e"
                          ],
                          [
                            0.4444444444444444,
                            "#bd3786"
                          ],
                          [
                            0.5555555555555556,
                            "#d8576b"
                          ],
                          [
                            0.6666666666666666,
                            "#ed7953"
                          ],
                          [
                            0.7777777777777778,
                            "#fb9f3a"
                          ],
                          [
                            0.8888888888888888,
                            "#fdca26"
                          ],
                          [
                            1,
                            "#f0f921"
                          ]
                        ],
                        "type": "contour"
                      }
                    ],
                    "contourcarpet": [
                      {
                        "colorbar": {
                          "outlinewidth": 0,
                          "ticks": ""
                        },
                        "type": "contourcarpet"
                      }
                    ],
                    "heatmap": [
                      {
                        "colorbar": {
                          "outlinewidth": 0,
                          "ticks": ""
                        },
                        "colorscale": [
                          [
                            0,
                            "#0d0887"
                          ],
                          [
                            0.1111111111111111,
                            "#46039f"
                          ],
                          [
                            0.2222222222222222,
                            "#7201a8"
                          ],
                          [
                            0.3333333333333333,
                            "#9c179e"
                          ],
                          [
                            0.4444444444444444,
                            "#bd3786"
                          ],
                          [
                            0.5555555555555556,
                            "#d8576b"
                          ],
                          [
                            0.6666666666666666,
                            "#ed7953"
                          ],
                          [
                            0.7777777777777778,
                            "#fb9f3a"
                          ],
                          [
                            0.8888888888888888,
                            "#fdca26"
                          ],
                          [
                            1,
                            "#f0f921"
                          ]
                        ],
                        "type": "heatmap"
                      }
                    ],
                    "histogram": [
                      {
                        "marker": {
                          "pattern": {
                            "fillmode": "overlay",
                            "size": 10,
                            "solidity": 0.2
                          }
                        },
                        "type": "histogram"
                      }
                    ],
                    "histogram2d": [
                      {
                        "colorbar": {
                          "outlinewidth": 0,
                          "ticks": ""
                        },
                        "colorscale": [
                          [
                            0,
                            "#0d0887"
                          ],
                          [
                            0.1111111111111111,
                            "#46039f"
                          ],
                          [
                            0.2222222222222222,
                            "#7201a8"
                          ],
                          [
                            0.3333333333333333,
                            "#9c179e"
                          ],
                          [
                            0.4444444444444444,
                            "#bd3786"
                          ],
                          [
                            0.5555555555555556,
                            "#d8576b"
                          ],
                          [
                            0.6666666666666666,
                            "#ed7953"
                          ],
                          [
                            0.7777777777777778,
                            "#fb9f3a"
                          ],
                          [
                            0.8888888888888888,
                            "#fdca26"
                          ],
                          [
                            1,
                            "#f0f921"
                          ]
                        ],
                        "type": "histogram2d"
                      }
                    ],
                    "histogram2dcontour": [
                      {
                        "colorbar": {
                          "outlinewidth": 0,
                          "ticks": ""
                        },
                        "colorscale": [
                          [
                            0,
                            "#0d0887"
                          ],
                          [
                            0.1111111111111111,
                            "#46039f"
                          ],
                          [
                            0.2222222222222222,
                            "#7201a8"
                          ],
                          [
                            0.3333333333333333,
                            "#9c179e"
                          ],
                          [
                            0.4444444444444444,
                            "#bd3786"
                          ],
                          [
                            0.5555555555555556,
                            "#d8576b"
                          ],
                          [
                            0.6666666666666666,
                            "#ed7953"
                          ],
                          [
                            0.7777777777777778,
                            "#fb9f3a"
                          ],
                          [
                            0.8888888888888888,
                            "#fdca26"
                          ],
                          [
                            1,
                            "#f0f921"
                          ]
                        ],
                        "type": "histogram2dcontour"
                      }
                    ],
                    "mesh3d": [
                      {
                        "colorbar": {
                          "outlinewidth": 0,
                          "ticks": ""
                        },
                        "type": "mesh3d"
                      }
                    ],
                    "parcoords": [
                      {
                        "line": {
                          "colorbar": {
                            "outlinewidth": 0,
                            "ticks": ""
                          }
                        },
                        "type": "parcoords"
                      }
                    ],
                    "pie": [
                      {
                        "automargin": true,
                        "type": "pie"
                      }
                    ],
                    "scatter": [
                      {
                        "fillpattern": {
                          "fillmode": "overlay",
                          "size": 10,
                          "solidity": 0.2
                        },
                        "type": "scatter"
                      }
                    ],
                    "scatter3d": [
                      {
                        "line": {
                          "colorbar": {
                            "outlinewidth": 0,
                            "ticks": ""
                          }
                        },
                        "marker": {
                          "colorbar": {
                            "outlinewidth": 0,
                            "ticks": ""
                          }
                        },
                        "type": "scatter3d"
                      }
                    ],
                    "scattercarpet": [
                      {
                        "marker": {
                          "colorbar": {
                            "outlinewidth": 0,
                            "ticks": ""
                          }
                        },
                        "type": "scattercarpet"
                      }
                    ],
                    "scattergeo": [
                      {
                        "marker": {
                          "colorbar": {
                            "outlinewidth": 0,
                            "ticks": ""
                          }
                        },
                        "type": "scattergeo"
                      }
                    ],
                    "scattergl": [
                      {
                        "marker": {
                          "colorbar": {
                            "outlinewidth": 0,
                            "ticks": ""
                          }
                        },
                        "type": "scattergl"
                      }
                    ],
                    "scattermap": [
                      {
                        "marker": {
                          "colorbar": {
                            "outlinewidth": 0,
                            "ticks": ""
                          }
                        },
                        "type": "scattermap"
                      }
                    ],
                    "scattermapbox": [
                      {
                        "marker": {
                          "colorbar": {
                            "outlinewidth": 0,
                            "ticks": ""
                          }
                        },
                        "type": "scattermapbox"
                      }
                    ],
                    "scatterpolar": [
                      {
                        "marker": {
                          "colorbar": {
                            "outlinewidth": 0,
                            "ticks": ""
                          }
                        },
                        "type": "scatterpolar"
                      }
                    ],
                    "scatterpolargl": [
                      {
                        "marker": {
                          "colorbar": {
                            "outlinewidth": 0,
                            "ticks": ""
                          }
                        },
                        "type": "scatterpolargl"
                      }
                    ],
                    "scatterternary": [
                      {
                        "marker": {
                          "colorbar": {
                            "outlinewidth": 0,
                            "ticks": ""
                          }
                        },
                        "type": "scatterternary"
                      }
                    ],
                    "surface": [
                      {
                        "colorbar": {
                          "outlinewidth": 0,
                          "ticks": ""
                        },
                        "colorscale": [
                          [
                            0,
                            "#0d0887"
                          ],
                          [
                            0.1111111111111111,
                            "#46039f"
                          ],
                          [
                            0.2222222222222222,
                            "#7201a8"
                          ],
                          [
                            0.3333333333333333,
                            "#9c179e"
                          ],
                          [
                            0.4444444444444444,
                            "#bd3786"
                          ],
                          [
                            0.5555555555555556,
                            "#d8576b"
                          ],
                          [
                            0.6666666666666666,
                            "#ed7953"
                          ],
                          [
                            0.7777777777777778,
                            "#fb9f3a"
                          ],
                          [
                            0.8888888888888888,
                            "#fdca26"
                          ],
                          [
                            1,
                            "#f0f921"
                          ]
                        ],
                        "type": "surface"
                      }
                    ],
                    "table": [
                      {
                        "cells": {
                          "fill": {
                            "color": "#EBF0F8"
                          },
                          "line": {
                            "color": "white"
                          }
                        },
                        "header": {
                          "fill": {
                            "color": "#C8D4E3"
                          },
                          "line": {
                            "color": "white"
                          }
                        },
                        "type": "table"
                      }
                    ]
                  },
                  "layout": {
                    "annotationdefaults": {
                      "arrowcolor": "#2a3f5f",
                      "arrowhead": 0,
                      "arrowwidth": 1
                    },
                    "autotypenumbers": "strict",
                    "coloraxis": {
                      "colorbar": {
                        "outlinewidth": 0,
                        "ticks": ""
                      }
                    },
                    "colorscale": {
                      "diverging": [
                        [
                          0,
                          "#8e0152"
                        ],
                        [
                          0.1,
                          "#c51b7d"
                        ],
                        [
                          0.2,
                          "#de77ae"
                        ],
                        [
                          0.3,
                          "#f1b6da"
                        ],
                        [
                          0.4,
                          "#fde0ef"
                        ],
                        [
                          0.5,
                          "#f7f7f7"
                        ],
                        [
                          0.6,
                          "#e6f5d0"
                        ],
                        [
                          0.7,
                          "#b8e186"
                        ],
                        [
                          0.8,
                          "#7fbc41"
                        ],
                        [
                          0.9,
                          "#4d9221"
                        ],
                        [
                          1,
                          "#276419"
                        ]
                      ],
                      "sequential": [
                        [
                          0,
                          "#0d0887"
                        ],
                        [
                          0.1111111111111111,
                          "#46039f"
                        ],
                        [
                          0.2222222222222222,
                          "#7201a8"
                        ],
                        [
                          0.3333333333333333,
                          "#9c179e"
                        ],
                        [
                          0.4444444444444444,
                          "#bd3786"
                        ],
                        [
                          0.5555555555555556,
                          "#d8576b"
                        ],
                        [
                          0.6666666666666666,
                          "#ed7953"
                        ],
                        [
                          0.7777777777777778,
                          "#fb9f3a"
                        ],
                        [
                          0.8888888888888888,
                          "#fdca26"
                        ],
                        [
                          1,
                          "#f0f921"
                        ]
                      ],
                      "sequentialminus": [
                        [
                          0,
                          "#0d0887"
                        ],
                        [
                          0.1111111111111111,
                          "#46039f"
                        ],
                        [
                          0.2222222222222222,
                          "#7201a8"
                        ],
                        [
                          0.3333333333333333,
                          "#9c179e"
                        ],
                        [
                          0.4444444444444444,
                          "#bd3786"
                        ],
                        [
                          0.5555555555555556,
                          "#d8576b"
                        ],
                        [
                          0.6666666666666666,
                          "#ed7953"
                        ],
                        [
                          0.7777777777777778,
                          "#fb9f3a"
                        ],
                        [
                          0.8888888888888888,
                          "#fdca26"
                        ],
                        [
                          1,
                          "#f0f921"
                        ]
                      ]
                    },
                    "colorway": [
                      "#636efa",
                      "#EF553B",
                      "#00cc96",
                      "#ab63fa",
                      "#FFA15A",
                      "#19d3f3",
                      "#FF6692",
                      "#B6E880",
                      "#FF97FF",
                      "#FECB52"
                    ],
                    "font": {
                      "color": "#2a3f5f"
                    },
                    "geo": {
                      "bgcolor": "white",
                      "lakecolor": "white",
                      "landcolor": "#E5ECF6",
                      "showlakes": true,
                      "showland": true,
                      "subunitcolor": "white"
                    },
                    "hoverlabel": {
                      "align": "left"
                    },
                    "hovermode": "closest",
                    "mapbox": {
                      "style": "light"
                    },
                    "paper_bgcolor": "white",
                    "plot_bgcolor": "#E5ECF6",
                    "polar": {
                      "angularaxis": {
                        "gridcolor": "white",
                        "linecolor": "white",
                        "ticks": ""
                      },
                      "bgcolor": "#E5ECF6",
                      "radialaxis": {
                        "gridcolor": "white",
                        "linecolor": "white",
                        "ticks": ""
                      }
                    },
                    "scene": {
                      "xaxis": {
                        "backgroundcolor": "#E5ECF6",
                        "gridcolor": "white",
                        "gridwidth": 2,
                        "linecolor": "white",
                        "showbackground": true,
                        "ticks": "",
                        "zerolinecolor": "white"
                      },
                      "yaxis": {
                        "backgroundcolor": "#E5ECF6",
                        "gridcolor": "white",
                        "gridwidth": 2,
                        "linecolor": "white",
                        "showbackground": true,
                        "ticks": "",
                        "zerolinecolor": "white"
                      },
                      "zaxis": {
                        "backgroundcolor": "#E5ECF6",
                        "gridcolor": "white",
                        "gridwidth": 2,
                        "linecolor": "white",
                        "showbackground": true,
                        "ticks": "",
                        "zerolinecolor": "white"
                      }
                    },
                    "shapedefaults": {
                      "line": {
                        "color": "#2a3f5f"
                      }
                    },
                    "ternary": {
                      "aaxis": {
                        "gridcolor": "white",
                        "linecolor": "white",
                        "ticks": ""
                      },
                      "baxis": {
                        "gridcolor": "white",
                        "linecolor": "white",
                        "ticks": ""
                      },
                      "bgcolor": "#E5ECF6",
                      "caxis": {
                        "gridcolor": "white",
                        "linecolor": "white",
                        "ticks": ""
                      }
                    },
                    "title": {
                      "x": 0.05
                    },
                    "xaxis": {
                      "automargin": true,
                      "gridcolor": "white",
                      "linecolor": "white",
                      "ticks": "",
                      "title": {
                        "standoff": 15
                      },
                      "zerolinecolor": "white",
                      "zerolinewidth": 2
                    },
                    "yaxis": {
                      "automargin": true,
                      "gridcolor": "white",
                      "linecolor": "white",
                      "ticks": "",
                      "title": {
                        "standoff": 15
                      },
                      "zerolinecolor": "white",
                      "zerolinewidth": 2
                    }
                  }
                },
                "title": {
                  "text": "Attention entropy by layer"
                },
                "xaxis": {
                  "anchor": "y",
                  "domain": [
                    0,
                    1
                  ],
                  "title": {
                    "text": "layer"
                  }
                },
                "yaxis": {
                  "anchor": "x",
                  "domain": [
                    0,
                    1
                  ],
                  "title": {
                    "text": "entropy"
                  }
                }
              }
            }
          },
          "metadata": {},
          "output_type": "display_data"
        },
        {
          "data": {
            "application/vnd.plotly.v1+json": {
              "config": {
                "plotlyServerURL": "https://plot.ly"
              },
              "data": [
                {
                  "hovertemplate": "model=average_merge<br>layer=%{x}<br>cls_focus=%{y}<extra></extra>",
                  "legendgroup": "average_merge",
                  "line": {
                    "color": "#636efa",
                    "dash": "solid"
                  },
                  "marker": {
                    "symbol": "circle"
                  },
                  "mode": "lines+markers",
                  "name": "average_merge",
                  "orientation": "v",
                  "showlegend": true,
                  "type": "scatter",
                  "x": {
                    "bdata": "AAECAwQFBgcICQoL",
                    "dtype": "i1"
                  },
                  "xaxis": "x",
                  "y": {
                    "bdata": "AAAAsMM9vD9VVVUlZNzjP6uqqqokD+Y/q6pqdowc5z9VVRV77oDjP1VVVa0uf+Q/AAAAEB6g5T9VVVVdtDXoPwAAABBbBOU/AAAAf2m40z8AAADgSyjMPwAAACKc2Ms/",
                    "dtype": "f8"
                  },
                  "yaxis": "y"
                },
                {
                  "hovertemplate": "model=baseline<br>layer=%{x}<br>cls_focus=%{y}<extra></extra>",
                  "legendgroup": "baseline",
                  "line": {
                    "color": "#EF553B",
                    "dash": "solid"
                  },
                  "marker": {
                    "symbol": "circle"
                  },
                  "mode": "lines+markers",
                  "name": "baseline",
                  "orientation": "v",
                  "showlegend": true,
                  "type": "scatter",
                  "x": {
                    "bdata": "AAECAwQFBgcICQoL",
                    "dtype": "i1"
                  },
                  "xaxis": "x",
                  "y": {
                    "bdata": "AAAAHACDuj9VVVX5z8DhP1VVVfVDiuc/AACAgdYC6D+rqupbu2XlP1VVVd3VNeQ/AAAAgJhu4z8AAADYnZnkP6uqqr4NvuQ/VVVVBQMn1j+rqqqQdlzUP1VV1TlVgNQ/",
                    "dtype": "f8"
                  },
                  "yaxis": "y"
                },
                {
                  "hovertemplate": "model=similarity_merge<br>layer=%{x}<br>cls_focus=%{y}<extra></extra>",
                  "legendgroup": "similarity_merge",
                  "line": {
                    "color": "#00cc96",
                    "dash": "solid"
                  },
                  "marker": {
                    "symbol": "circle"
                  },
                  "mode": "lines+markers",
                  "name": "similarity_merge",
                  "orientation": "v",
                  "showlegend": true,
                  "type": "scatter",
                  "x": {
                    "bdata": "AAECAwQFBgcICQoL",
                    "dtype": "i1"
                  },
                  "xaxis": "x",
                  "y": {
                    "bdata": "VVVVqZhOvD8AAAB8icnjPwAAAJjb++U/q6rqBA4c5z8AACDLvWfjPwAAAEirBeQ/VVVVqTRw5T+rqqpSVCjoPwAAAICbReU/AAAA/qPZ0z8AAACwpKjMPwAAABx/BMw/",
                    "dtype": "f8"
                  },
                  "yaxis": "y"
                },
                {
                  "hovertemplate": "model=task_arithmetic<br>layer=%{x}<br>cls_focus=%{y}<extra></extra>",
                  "legendgroup": "task_arithmetic",
                  "line": {
                    "color": "#ab63fa",
                    "dash": "solid"
                  },
                  "marker": {
                    "symbol": "circle"
                  },
                  "mode": "lines+markers",
                  "name": "task_arithmetic",
                  "orientation": "v",
                  "showlegend": true,
                  "type": "scatter",
                  "x": {
                    "bdata": "AAECAwQFBgcICQoL",
                    "dtype": "i1"
                  },
                  "xaxis": "x",
                  "y": {
                    "bdata": "q6qqypEgvD8AAACgWdHjP1VVVWOHB+Y/VVWVw/ry5j8AAIClut3jP1VVVWUYmOQ/AAAA/PIZ5j+rqqpS8GDnP1VVVa1qc+M/VVVVnWyd0j8AAADwpwjLP6uqqoaMa8w/",
                    "dtype": "f8"
                  },
                  "yaxis": "y"
                }
              ],
              "layout": {
                "legend": {
                  "title": {
                    "text": "model"
                  },
                  "tracegroupgap": 0
                },
                "template": {
                  "data": {
                    "bar": [
                      {
                        "error_x": {
                          "color": "#2a3f5f"
                        },
                        "error_y": {
                          "color": "#2a3f5f"
                        },
                        "marker": {
                          "line": {
                            "color": "#E5ECF6",
                            "width": 0.5
                          },
                          "pattern": {
                            "fillmode": "overlay",
                            "size": 10,
                            "solidity": 0.2
                          }
                        },
                        "type": "bar"
                      }
                    ],
                    "barpolar": [
                      {
                        "marker": {
                          "line": {
                            "color": "#E5ECF6",
                            "width": 0.5
                          },
                          "pattern": {
                            "fillmode": "overlay",
                            "size": 10,
                            "solidity": 0.2
                          }
                        },
                        "type": "barpolar"
                      }
                    ],
                    "carpet": [
                      {
                        "aaxis": {
                          "endlinecolor": "#2a3f5f",
                          "gridcolor": "white",
                          "linecolor": "white",
                          "minorgridcolor": "white",
                          "startlinecolor": "#2a3f5f"
                        },
                        "baxis": {
                          "endlinecolor": "#2a3f5f",
                          "gridcolor": "white",
                          "linecolor": "white",
                          "minorgridcolor": "white",
                          "startlinecolor": "#2a3f5f"
                        },
                        "type": "carpet"
                      }
                    ],
                    "choropleth": [
                      {
                        "colorbar": {
                          "outlinewidth": 0,
                          "ticks": ""
                        },
                        "type": "choropleth"
                      }
                    ],
                    "contour": [
                      {
                        "colorbar": {
                          "outlinewidth": 0,
                          "ticks": ""
                        },
                        "colorscale": [
                          [
                            0,
                            "#0d0887"
                          ],
                          [
                            0.1111111111111111,
                            "#46039f"
                          ],
                          [
                            0.2222222222222222,
                            "#7201a8"
                          ],
                          [
                            0.3333333333333333,
                            "#9c179e"
                          ],
                          [
                            0.4444444444444444,
                            "#bd3786"
                          ],
                          [
                            0.5555555555555556,
                            "#d8576b"
                          ],
                          [
                            0.6666666666666666,
                            "#ed7953"
                          ],
                          [
                            0.7777777777777778,
                            "#fb9f3a"
                          ],
                          [
                            0.8888888888888888,
                            "#fdca26"
                          ],
                          [
                            1,
                            "#f0f921"
                          ]
                        ],
                        "type": "contour"
                      }
                    ],
                    "contourcarpet": [
                      {
                        "colorbar": {
                          "outlinewidth": 0,
                          "ticks": ""
                        },
                        "type": "contourcarpet"
                      }
                    ],
                    "heatmap": [
                      {
                        "colorbar": {
                          "outlinewidth": 0,
                          "ticks": ""
                        },
                        "colorscale": [
                          [
                            0,
                            "#0d0887"
                          ],
                          [
                            0.1111111111111111,
                            "#46039f"
                          ],
                          [
                            0.2222222222222222,
                            "#7201a8"
                          ],
                          [
                            0.3333333333333333,
                            "#9c179e"
                          ],
                          [
                            0.4444444444444444,
                            "#bd3786"
                          ],
                          [
                            0.5555555555555556,
                            "#d8576b"
                          ],
                          [
                            0.6666666666666666,
                            "#ed7953"
                          ],
                          [
                            0.7777777777777778,
                            "#fb9f3a"
                          ],
                          [
                            0.8888888888888888,
                            "#fdca26"
                          ],
                          [
                            1,
                            "#f0f921"
                          ]
                        ],
                        "type": "heatmap"
                      }
                    ],
                    "histogram": [
                      {
                        "marker": {
                          "pattern": {
                            "fillmode": "overlay",
                            "size": 10,
                            "solidity": 0.2
                          }
                        },
                        "type": "histogram"
                      }
                    ],
                    "histogram2d": [
                      {
                        "colorbar": {
                          "outlinewidth": 0,
                          "ticks": ""
                        },
                        "colorscale": [
                          [
                            0,
                            "#0d0887"
                          ],
                          [
                            0.1111111111111111,
                            "#46039f"
                          ],
                          [
                            0.2222222222222222,
                            "#7201a8"
                          ],
                          [
                            0.3333333333333333,
                            "#9c179e"
                          ],
                          [
                            0.4444444444444444,
                            "#bd3786"
                          ],
                          [
                            0.5555555555555556,
                            "#d8576b"
                          ],
                          [
                            0.6666666666666666,
                            "#ed7953"
                          ],
                          [
                            0.7777777777777778,
                            "#fb9f3a"
                          ],
                          [
                            0.8888888888888888,
                            "#fdca26"
                          ],
                          [
                            1,
                            "#f0f921"
                          ]
                        ],
                        "type": "histogram2d"
                      }
                    ],
                    "histogram2dcontour": [
                      {
                        "colorbar": {
                          "outlinewidth": 0,
                          "ticks": ""
                        },
                        "colorscale": [
                          [
                            0,
                            "#0d0887"
                          ],
                          [
                            0.1111111111111111,
                            "#46039f"
                          ],
                          [
                            0.2222222222222222,
                            "#7201a8"
                          ],
                          [
                            0.3333333333333333,
                            "#9c179e"
                          ],
                          [
                            0.4444444444444444,
                            "#bd3786"
                          ],
                          [
                            0.5555555555555556,
                            "#d8576b"
                          ],
                          [
                            0.6666666666666666,
                            "#ed7953"
                          ],
                          [
                            0.7777777777777778,
                            "#fb9f3a"
                          ],
                          [
                            0.8888888888888888,
                            "#fdca26"
                          ],
                          [
                            1,
                            "#f0f921"
                          ]
                        ],
                        "type": "histogram2dcontour"
                      }
                    ],
                    "mesh3d": [
                      {
                        "colorbar": {
                          "outlinewidth": 0,
                          "ticks": ""
                        },
                        "type": "mesh3d"
                      }
                    ],
                    "parcoords": [
                      {
                        "line": {
                          "colorbar": {
                            "outlinewidth": 0,
                            "ticks": ""
                          }
                        },
                        "type": "parcoords"
                      }
                    ],
                    "pie": [
                      {
                        "automargin": true,
                        "type": "pie"
                      }
                    ],
                    "scatter": [
                      {
                        "fillpattern": {
                          "fillmode": "overlay",
                          "size": 10,
                          "solidity": 0.2
                        },
                        "type": "scatter"
                      }
                    ],
                    "scatter3d": [
                      {
                        "line": {
                          "colorbar": {
                            "outlinewidth": 0,
                            "ticks": ""
                          }
                        },
                        "marker": {
                          "colorbar": {
                            "outlinewidth": 0,
                            "ticks": ""
                          }
                        },
                        "type": "scatter3d"
                      }
                    ],
                    "scattercarpet": [
                      {
                        "marker": {
                          "colorbar": {
                            "outlinewidth": 0,
                            "ticks": ""
                          }
                        },
                        "type": "scattercarpet"
                      }
                    ],
                    "scattergeo": [
                      {
                        "marker": {
                          "colorbar": {
                            "outlinewidth": 0,
                            "ticks": ""
                          }
                        },
                        "type": "scattergeo"
                      }
                    ],
                    "scattergl": [
                      {
                        "marker": {
                          "colorbar": {
                            "outlinewidth": 0,
                            "ticks": ""
                          }
                        },
                        "type": "scattergl"
                      }
                    ],
                    "scattermap": [
                      {
                        "marker": {
                          "colorbar": {
                            "outlinewidth": 0,
                            "ticks": ""
                          }
                        },
                        "type": "scattermap"
                      }
                    ],
                    "scattermapbox": [
                      {
                        "marker": {
                          "colorbar": {
                            "outlinewidth": 0,
                            "ticks": ""
                          }
                        },
                        "type": "scattermapbox"
                      }
                    ],
                    "scatterpolar": [
                      {
                        "marker": {
                          "colorbar": {
                            "outlinewidth": 0,
                            "ticks": ""
                          }
                        },
                        "type": "scatterpolar"
                      }
                    ],
                    "scatterpolargl": [
                      {
                        "marker": {
                          "colorbar": {
                            "outlinewidth": 0,
                            "ticks": ""
                          }
                        },
                        "type": "scatterpolargl"
                      }
                    ],
                    "scatterternary": [
                      {
                        "marker": {
                          "colorbar": {
                            "outlinewidth": 0,
                            "ticks": ""
                          }
                        },
                        "type": "scatterternary"
                      }
                    ],
                    "surface": [
                      {
                        "colorbar": {
                          "outlinewidth": 0,
                          "ticks": ""
                        },
                        "colorscale": [
                          [
                            0,
                            "#0d0887"
                          ],
                          [
                            0.1111111111111111,
                            "#46039f"
                          ],
                          [
                            0.2222222222222222,
                            "#7201a8"
                          ],
                          [
                            0.3333333333333333,
                            "#9c179e"
                          ],
                          [
                            0.4444444444444444,
                            "#bd3786"
                          ],
                          [
                            0.5555555555555556,
                            "#d8576b"
                          ],
                          [
                            0.6666666666666666,
                            "#ed7953"
                          ],
                          [
                            0.7777777777777778,
                            "#fb9f3a"
                          ],
                          [
                            0.8888888888888888,
                            "#fdca26"
                          ],
                          [
                            1,
                            "#f0f921"
                          ]
                        ],
                        "type": "surface"
                      }
                    ],
                    "table": [
                      {
                        "cells": {
                          "fill": {
                            "color": "#EBF0F8"
                          },
                          "line": {
                            "color": "white"
                          }
                        },
                        "header": {
                          "fill": {
                            "color": "#C8D4E3"
                          },
                          "line": {
                            "color": "white"
                          }
                        },
                        "type": "table"
                      }
                    ]
                  },
                  "layout": {
                    "annotationdefaults": {
                      "arrowcolor": "#2a3f5f",
                      "arrowhead": 0,
                      "arrowwidth": 1
                    },
                    "autotypenumbers": "strict",
                    "coloraxis": {
                      "colorbar": {
                        "outlinewidth": 0,
                        "ticks": ""
                      }
                    },
                    "colorscale": {
                      "diverging": [
                        [
                          0,
                          "#8e0152"
                        ],
                        [
                          0.1,
                          "#c51b7d"
                        ],
                        [
                          0.2,
                          "#de77ae"
                        ],
                        [
                          0.3,
                          "#f1b6da"
                        ],
                        [
                          0.4,
                          "#fde0ef"
                        ],
                        [
                          0.5,
                          "#f7f7f7"
                        ],
                        [
                          0.6,
                          "#e6f5d0"
                        ],
                        [
                          0.7,
                          "#b8e186"
                        ],
                        [
                          0.8,
                          "#7fbc41"
                        ],
                        [
                          0.9,
                          "#4d9221"
                        ],
                        [
                          1,
                          "#276419"
                        ]
                      ],
                      "sequential": [
                        [
                          0,
                          "#0d0887"
                        ],
                        [
                          0.1111111111111111,
                          "#46039f"
                        ],
                        [
                          0.2222222222222222,
                          "#7201a8"
                        ],
                        [
                          0.3333333333333333,
                          "#9c179e"
                        ],
                        [
                          0.4444444444444444,
                          "#bd3786"
                        ],
                        [
                          0.5555555555555556,
                          "#d8576b"
                        ],
                        [
                          0.6666666666666666,
                          "#ed7953"
                        ],
                        [
                          0.7777777777777778,
                          "#fb9f3a"
                        ],
                        [
                          0.8888888888888888,
                          "#fdca26"
                        ],
                        [
                          1,
                          "#f0f921"
                        ]
                      ],
                      "sequentialminus": [
                        [
                          0,
                          "#0d0887"
                        ],
                        [
                          0.1111111111111111,
                          "#46039f"
                        ],
                        [
                          0.2222222222222222,
                          "#7201a8"
                        ],
                        [
                          0.3333333333333333,
                          "#9c179e"
                        ],
                        [
                          0.4444444444444444,
                          "#bd3786"
                        ],
                        [
                          0.5555555555555556,
                          "#d8576b"
                        ],
                        [
                          0.6666666666666666,
                          "#ed7953"
                        ],
                        [
                          0.7777777777777778,
                          "#fb9f3a"
                        ],
                        [
                          0.8888888888888888,
                          "#fdca26"
                        ],
                        [
                          1,
                          "#f0f921"
                        ]
                      ]
                    },
                    "colorway": [
                      "#636efa",
                      "#EF553B",
                      "#00cc96",
                      "#ab63fa",
                      "#FFA15A",
                      "#19d3f3",
                      "#FF6692",
                      "#B6E880",
                      "#FF97FF",
                      "#FECB52"
                    ],
                    "font": {
                      "color": "#2a3f5f"
                    },
                    "geo": {
                      "bgcolor": "white",
                      "lakecolor": "white",
                      "landcolor": "#E5ECF6",
                      "showlakes": true,
                      "showland": true,
                      "subunitcolor": "white"
                    },
                    "hoverlabel": {
                      "align": "left"
                    },
                    "hovermode": "closest",
                    "mapbox": {
                      "style": "light"
                    },
                    "paper_bgcolor": "white",
                    "plot_bgcolor": "#E5ECF6",
                    "polar": {
                      "angularaxis": {
                        "gridcolor": "white",
                        "linecolor": "white",
                        "ticks": ""
                      },
                      "bgcolor": "#E5ECF6",
                      "radialaxis": {
                        "gridcolor": "white",
                        "linecolor": "white",
                        "ticks": ""
                      }
                    },
                    "scene": {
                      "xaxis": {
                        "backgroundcolor": "#E5ECF6",
                        "gridcolor": "white",
                        "gridwidth": 2,
                        "linecolor": "white",
                        "showbackground": true,
                        "ticks": "",
                        "zerolinecolor": "white"
                      },
                      "yaxis": {
                        "backgroundcolor": "#E5ECF6",
                        "gridcolor": "white",
                        "gridwidth": 2,
                        "linecolor": "white",
                        "showbackground": true,
                        "ticks": "",
                        "zerolinecolor": "white"
                      },
                      "zaxis": {
                        "backgroundcolor": "#E5ECF6",
                        "gridcolor": "white",
                        "gridwidth": 2,
                        "linecolor": "white",
                        "showbackground": true,
                        "ticks": "",
                        "zerolinecolor": "white"
                      }
                    },
                    "shapedefaults": {
                      "line": {
                        "color": "#2a3f5f"
                      }
                    },
                    "ternary": {
                      "aaxis": {
                        "gridcolor": "white",
                        "linecolor": "white",
                        "ticks": ""
                      },
                      "baxis": {
                        "gridcolor": "white",
                        "linecolor": "white",
                        "ticks": ""
                      },
                      "bgcolor": "#E5ECF6",
                      "caxis": {
                        "gridcolor": "white",
                        "linecolor": "white",
                        "ticks": ""
                      }
                    },
                    "title": {
                      "x": 0.05
                    },
                    "xaxis": {
                      "automargin": true,
                      "gridcolor": "white",
                      "linecolor": "white",
                      "ticks": "",
                      "title": {
                        "standoff": 15
                      },
                      "zerolinecolor": "white",
                      "zerolinewidth": 2
                    },
                    "yaxis": {
                      "automargin": true,
                      "gridcolor": "white",
                      "linecolor": "white",
                      "ticks": "",
                      "title": {
                        "standoff": 15
                      },
                      "zerolinecolor": "white",
                      "zerolinewidth": 2
                    }
                  }
                },
                "title": {
                  "text": "Average CLS attention focus"
                },
                "xaxis": {
                  "anchor": "y",
                  "domain": [
                    0,
                    1
                  ],
                  "title": {
                    "text": "layer"
                  }
                },
                "yaxis": {
                  "anchor": "x",
                  "domain": [
                    0,
                    1
                  ],
                  "title": {
                    "text": "cls_focus"
                  }
                }
              }
            }
          },
          "metadata": {},
          "output_type": "display_data"
        }
      ],
      "source": [
        "if not attention_df.empty:\n",
        "    fig = px.box(\n",
        "        attention_df,\n",
        "        x=\"layer\",\n",
        "        y=\"entropy\",\n",
        "        color=\"model\",\n",
        "        points=\"all\",\n",
        "        title=\"Attention entropy by layer\",\n",
        "    )\n",
        "    fig.show()\n",
        "\n",
        "    fig = px.line(\n",
        "        attention_df.groupby([\"model\", \"layer\"]).mean(numeric_only=True).reset_index(),\n",
        "        x=\"layer\",\n",
        "        y=\"cls_focus\",\n",
        "        color=\"model\",\n",
        "        markers=True,\n",
        "        title=\"Average CLS attention focus\",\n",
        "    )\n",
        "    fig.show()"
      ]
    },
    {
      "cell_type": "code",
      "execution_count": 26,
      "id": "0bf4b184",
      "metadata": {},
      "outputs": [
        {
          "data": {
            "text/html": [
              "<div>\n",
              "<style scoped>\n",
              "    .dataframe tbody tr th:only-of-type {\n",
              "        vertical-align: middle;\n",
              "    }\n",
              "\n",
              "    .dataframe tbody tr th {\n",
              "        vertical-align: top;\n",
              "    }\n",
              "\n",
              "    .dataframe thead th {\n",
              "        text-align: right;\n",
              "    }\n",
              "</style>\n",
              "<table border=\"1\" class=\"dataframe\">\n",
              "  <thead>\n",
              "    <tr style=\"text-align: right;\">\n",
              "      <th></th>\n",
              "      <th>layer</th>\n",
              "      <th>mean_token_norm</th>\n",
              "      <th>max_token_norm</th>\n",
              "      <th>std_token_norm</th>\n",
              "      <th>sequence_mean_norm</th>\n",
              "      <th>model</th>\n",
              "    </tr>\n",
              "  </thead>\n",
              "  <tbody>\n",
              "    <tr>\n",
              "      <th>0</th>\n",
              "      <td>0</td>\n",
              "      <td>7.250374</td>\n",
              "      <td>11.208799</td>\n",
              "      <td>1.869400</td>\n",
              "      <td>7.250375</td>\n",
              "      <td>baseline</td>\n",
              "    </tr>\n",
              "    <tr>\n",
              "      <th>1</th>\n",
              "      <td>1</td>\n",
              "      <td>13.166742</td>\n",
              "      <td>25.436766</td>\n",
              "      <td>3.684247</td>\n",
              "      <td>13.166743</td>\n",
              "      <td>baseline</td>\n",
              "    </tr>\n",
              "    <tr>\n",
              "      <th>2</th>\n",
              "      <td>2</td>\n",
              "      <td>19.611147</td>\n",
              "      <td>26.331495</td>\n",
              "      <td>2.395586</td>\n",
              "      <td>19.611147</td>\n",
              "      <td>baseline</td>\n",
              "    </tr>\n",
              "    <tr>\n",
              "      <th>3</th>\n",
              "      <td>3</td>\n",
              "      <td>21.887787</td>\n",
              "      <td>26.256580</td>\n",
              "      <td>1.488746</td>\n",
              "      <td>21.887787</td>\n",
              "      <td>baseline</td>\n",
              "    </tr>\n",
              "    <tr>\n",
              "      <th>4</th>\n",
              "      <td>4</td>\n",
              "      <td>20.957184</td>\n",
              "      <td>26.770485</td>\n",
              "      <td>1.738352</td>\n",
              "      <td>20.957184</td>\n",
              "      <td>baseline</td>\n",
              "    </tr>\n",
              "  </tbody>\n",
              "</table>\n",
              "</div>"
            ],
            "text/plain": [
              "   layer  mean_token_norm  max_token_norm  std_token_norm  sequence_mean_norm  \\\n",
              "0      0         7.250374       11.208799        1.869400            7.250375   \n",
              "1      1        13.166742       25.436766        3.684247           13.166743   \n",
              "2      2        19.611147       26.331495        2.395586           19.611147   \n",
              "3      3        21.887787       26.256580        1.488746           21.887787   \n",
              "4      4        20.957184       26.770485        1.738352           20.957184   \n",
              "\n",
              "      model  \n",
              "0  baseline  \n",
              "1  baseline  \n",
              "2  baseline  \n",
              "3  baseline  \n",
              "4  baseline  "
            ]
          },
          "metadata": {},
          "output_type": "display_data"
        }
      ],
      "source": [
        "hidden_records = []\n",
        "for name, signal in signals.items():\n",
        "    hidden_states = signal.get(\"hidden_states\")\n",
        "    if not hidden_states:\n",
        "        continue\n",
        "    hidden_df = summarize_hidden_states(hidden_states)\n",
        "    hidden_df[\"model\"] = name\n",
        "    hidden_records.append(hidden_df)\n",
        "\n",
        "hidden_df = pd.concat(hidden_records, ignore_index=True) if hidden_records else pd.DataFrame()\n",
        "display(hidden_df.head())"
      ]
    },
    {
      "cell_type": "code",
      "execution_count": 27,
      "id": "4fdcf9fe",
      "metadata": {},
      "outputs": [
        {
          "data": {
            "application/vnd.plotly.v1+json": {
              "config": {
                "plotlyServerURL": "https://plot.ly"
              },
              "data": [
                {
                  "hovertemplate": "model=baseline<br>layer=%{x}<br>mean_token_norm=%{y}<extra></extra>",
                  "legendgroup": "baseline",
                  "line": {
                    "color": "#636efa",
                    "dash": "solid"
                  },
                  "marker": {
                    "symbol": "circle"
                  },
                  "mode": "lines+markers",
                  "name": "baseline",
                  "orientation": "v",
                  "showlegend": true,
                  "type": "scatter",
                  "x": {
                    "bdata": "AAECAwQFBgcICQoLDA==",
                    "dtype": "i1"
                  },
                  "xaxis": "x",
                  "y": {
                    "bdata": "AAAAIGIAHUAAAABAX1UqQAAAACB0nDNAAAAAAEbjNUAAAAAACvU0QAAAAEA6ODRAAAAAQKzyM0AAAACAl9AyQAAAAGDduTRAAAAAoNqGNUAAAABAD4M4QAAAAECq+jdAAAAAIJ+SM0A=",
                    "dtype": "f8"
                  },
                  "yaxis": "y"
                },
                {
                  "hovertemplate": "model=average_merge<br>layer=%{x}<br>mean_token_norm=%{y}<extra></extra>",
                  "legendgroup": "average_merge",
                  "line": {
                    "color": "#EF553B",
                    "dash": "solid"
                  },
                  "marker": {
                    "symbol": "circle"
                  },
                  "mode": "lines+markers",
                  "name": "average_merge",
                  "orientation": "v",
                  "showlegend": true,
                  "type": "scatter",
                  "x": {
                    "bdata": "AAECAwQFBgcICQoLDA==",
                    "dtype": "i1"
                  },
                  "xaxis": "x",
                  "y": {
                    "bdata": "AAAAoAoAHUAAAABATEsqQAAAAABPmjNAAAAAYMX6NUAAAACAew81QAAAAIBVUTRAAAAAYC/UM0AAAACA0z0zQAAAAOAWNTVAAAAAAPYQNUAAAACgbk45QAAAAOAyeDhAAAAAACZKM0A=",
                    "dtype": "f8"
                  },
                  "yaxis": "y"
                },
                {
                  "hovertemplate": "model=similarity_merge<br>layer=%{x}<br>mean_token_norm=%{y}<extra></extra>",
                  "legendgroup": "similarity_merge",
                  "line": {
                    "color": "#00cc96",
                    "dash": "solid"
                  },
                  "marker": {
                    "symbol": "circle"
                  },
                  "mode": "lines+markers",
                  "name": "similarity_merge",
                  "orientation": "v",
                  "showlegend": true,
                  "type": "scatter",
                  "x": {
                    "bdata": "AAECAwQFBgcICQoLDA==",
                    "dtype": "i1"
                  },
                  "xaxis": "x",
                  "y": {
                    "bdata": "AAAA4Mb/HEAAAADAw0wqQAAAAGBmnjNAAAAAwOwBNkAAAABApw81QAAAAODwWTRAAAAA4Mf3M0AAAABAwkwzQAAAACChTDVAAAAAIIAMNUAAAAAAHUg5QAAAAKDsdThAAAAA4K9JM0A=",
                    "dtype": "f8"
                  },
                  "yaxis": "y"
                },
                {
                  "hovertemplate": "model=task_arithmetic<br>layer=%{x}<br>mean_token_norm=%{y}<extra></extra>",
                  "legendgroup": "task_arithmetic",
                  "line": {
                    "color": "#ab63fa",
                    "dash": "solid"
                  },
                  "marker": {
                    "symbol": "circle"
                  },
                  "mode": "lines+markers",
                  "name": "task_arithmetic",
                  "orientation": "v",
                  "showlegend": true,
                  "type": "scatter",
                  "x": {
                    "bdata": "AAECAwQFBgcICQoLDA==",
                    "dtype": "i1"
                  },
                  "xaxis": "x",
                  "y": {
                    "bdata": "AAAAQOkAHUAAAACg/FQqQAAAAMBRqTNAAAAAwOXyNUAAAAAgIvU0QAAAAGC5IzRAAAAAQNOQM0AAAABA5w4zQAAAACBDGjVAAAAAIFhHNUAAAAAg6VI5QAAAAMDofThAAAAAILU1M0A=",
                    "dtype": "f8"
                  },
                  "yaxis": "y"
                }
              ],
              "layout": {
                "legend": {
                  "title": {
                    "text": "model"
                  },
                  "tracegroupgap": 0
                },
                "template": {
                  "data": {
                    "bar": [
                      {
                        "error_x": {
                          "color": "#2a3f5f"
                        },
                        "error_y": {
                          "color": "#2a3f5f"
                        },
                        "marker": {
                          "line": {
                            "color": "#E5ECF6",
                            "width": 0.5
                          },
                          "pattern": {
                            "fillmode": "overlay",
                            "size": 10,
                            "solidity": 0.2
                          }
                        },
                        "type": "bar"
                      }
                    ],
                    "barpolar": [
                      {
                        "marker": {
                          "line": {
                            "color": "#E5ECF6",
                            "width": 0.5
                          },
                          "pattern": {
                            "fillmode": "overlay",
                            "size": 10,
                            "solidity": 0.2
                          }
                        },
                        "type": "barpolar"
                      }
                    ],
                    "carpet": [
                      {
                        "aaxis": {
                          "endlinecolor": "#2a3f5f",
                          "gridcolor": "white",
                          "linecolor": "white",
                          "minorgridcolor": "white",
                          "startlinecolor": "#2a3f5f"
                        },
                        "baxis": {
                          "endlinecolor": "#2a3f5f",
                          "gridcolor": "white",
                          "linecolor": "white",
                          "minorgridcolor": "white",
                          "startlinecolor": "#2a3f5f"
                        },
                        "type": "carpet"
                      }
                    ],
                    "choropleth": [
                      {
                        "colorbar": {
                          "outlinewidth": 0,
                          "ticks": ""
                        },
                        "type": "choropleth"
                      }
                    ],
                    "contour": [
                      {
                        "colorbar": {
                          "outlinewidth": 0,
                          "ticks": ""
                        },
                        "colorscale": [
                          [
                            0,
                            "#0d0887"
                          ],
                          [
                            0.1111111111111111,
                            "#46039f"
                          ],
                          [
                            0.2222222222222222,
                            "#7201a8"
                          ],
                          [
                            0.3333333333333333,
                            "#9c179e"
                          ],
                          [
                            0.4444444444444444,
                            "#bd3786"
                          ],
                          [
                            0.5555555555555556,
                            "#d8576b"
                          ],
                          [
                            0.6666666666666666,
                            "#ed7953"
                          ],
                          [
                            0.7777777777777778,
                            "#fb9f3a"
                          ],
                          [
                            0.8888888888888888,
                            "#fdca26"
                          ],
                          [
                            1,
                            "#f0f921"
                          ]
                        ],
                        "type": "contour"
                      }
                    ],
                    "contourcarpet": [
                      {
                        "colorbar": {
                          "outlinewidth": 0,
                          "ticks": ""
                        },
                        "type": "contourcarpet"
                      }
                    ],
                    "heatmap": [
                      {
                        "colorbar": {
                          "outlinewidth": 0,
                          "ticks": ""
                        },
                        "colorscale": [
                          [
                            0,
                            "#0d0887"
                          ],
                          [
                            0.1111111111111111,
                            "#46039f"
                          ],
                          [
                            0.2222222222222222,
                            "#7201a8"
                          ],
                          [
                            0.3333333333333333,
                            "#9c179e"
                          ],
                          [
                            0.4444444444444444,
                            "#bd3786"
                          ],
                          [
                            0.5555555555555556,
                            "#d8576b"
                          ],
                          [
                            0.6666666666666666,
                            "#ed7953"
                          ],
                          [
                            0.7777777777777778,
                            "#fb9f3a"
                          ],
                          [
                            0.8888888888888888,
                            "#fdca26"
                          ],
                          [
                            1,
                            "#f0f921"
                          ]
                        ],
                        "type": "heatmap"
                      }
                    ],
                    "histogram": [
                      {
                        "marker": {
                          "pattern": {
                            "fillmode": "overlay",
                            "size": 10,
                            "solidity": 0.2
                          }
                        },
                        "type": "histogram"
                      }
                    ],
                    "histogram2d": [
                      {
                        "colorbar": {
                          "outlinewidth": 0,
                          "ticks": ""
                        },
                        "colorscale": [
                          [
                            0,
                            "#0d0887"
                          ],
                          [
                            0.1111111111111111,
                            "#46039f"
                          ],
                          [
                            0.2222222222222222,
                            "#7201a8"
                          ],
                          [
                            0.3333333333333333,
                            "#9c179e"
                          ],
                          [
                            0.4444444444444444,
                            "#bd3786"
                          ],
                          [
                            0.5555555555555556,
                            "#d8576b"
                          ],
                          [
                            0.6666666666666666,
                            "#ed7953"
                          ],
                          [
                            0.7777777777777778,
                            "#fb9f3a"
                          ],
                          [
                            0.8888888888888888,
                            "#fdca26"
                          ],
                          [
                            1,
                            "#f0f921"
                          ]
                        ],
                        "type": "histogram2d"
                      }
                    ],
                    "histogram2dcontour": [
                      {
                        "colorbar": {
                          "outlinewidth": 0,
                          "ticks": ""
                        },
                        "colorscale": [
                          [
                            0,
                            "#0d0887"
                          ],
                          [
                            0.1111111111111111,
                            "#46039f"
                          ],
                          [
                            0.2222222222222222,
                            "#7201a8"
                          ],
                          [
                            0.3333333333333333,
                            "#9c179e"
                          ],
                          [
                            0.4444444444444444,
                            "#bd3786"
                          ],
                          [
                            0.5555555555555556,
                            "#d8576b"
                          ],
                          [
                            0.6666666666666666,
                            "#ed7953"
                          ],
                          [
                            0.7777777777777778,
                            "#fb9f3a"
                          ],
                          [
                            0.8888888888888888,
                            "#fdca26"
                          ],
                          [
                            1,
                            "#f0f921"
                          ]
                        ],
                        "type": "histogram2dcontour"
                      }
                    ],
                    "mesh3d": [
                      {
                        "colorbar": {
                          "outlinewidth": 0,
                          "ticks": ""
                        },
                        "type": "mesh3d"
                      }
                    ],
                    "parcoords": [
                      {
                        "line": {
                          "colorbar": {
                            "outlinewidth": 0,
                            "ticks": ""
                          }
                        },
                        "type": "parcoords"
                      }
                    ],
                    "pie": [
                      {
                        "automargin": true,
                        "type": "pie"
                      }
                    ],
                    "scatter": [
                      {
                        "fillpattern": {
                          "fillmode": "overlay",
                          "size": 10,
                          "solidity": 0.2
                        },
                        "type": "scatter"
                      }
                    ],
                    "scatter3d": [
                      {
                        "line": {
                          "colorbar": {
                            "outlinewidth": 0,
                            "ticks": ""
                          }
                        },
                        "marker": {
                          "colorbar": {
                            "outlinewidth": 0,
                            "ticks": ""
                          }
                        },
                        "type": "scatter3d"
                      }
                    ],
                    "scattercarpet": [
                      {
                        "marker": {
                          "colorbar": {
                            "outlinewidth": 0,
                            "ticks": ""
                          }
                        },
                        "type": "scattercarpet"
                      }
                    ],
                    "scattergeo": [
                      {
                        "marker": {
                          "colorbar": {
                            "outlinewidth": 0,
                            "ticks": ""
                          }
                        },
                        "type": "scattergeo"
                      }
                    ],
                    "scattergl": [
                      {
                        "marker": {
                          "colorbar": {
                            "outlinewidth": 0,
                            "ticks": ""
                          }
                        },
                        "type": "scattergl"
                      }
                    ],
                    "scattermap": [
                      {
                        "marker": {
                          "colorbar": {
                            "outlinewidth": 0,
                            "ticks": ""
                          }
                        },
                        "type": "scattermap"
                      }
                    ],
                    "scattermapbox": [
                      {
                        "marker": {
                          "colorbar": {
                            "outlinewidth": 0,
                            "ticks": ""
                          }
                        },
                        "type": "scattermapbox"
                      }
                    ],
                    "scatterpolar": [
                      {
                        "marker": {
                          "colorbar": {
                            "outlinewidth": 0,
                            "ticks": ""
                          }
                        },
                        "type": "scatterpolar"
                      }
                    ],
                    "scatterpolargl": [
                      {
                        "marker": {
                          "colorbar": {
                            "outlinewidth": 0,
                            "ticks": ""
                          }
                        },
                        "type": "scatterpolargl"
                      }
                    ],
                    "scatterternary": [
                      {
                        "marker": {
                          "colorbar": {
                            "outlinewidth": 0,
                            "ticks": ""
                          }
                        },
                        "type": "scatterternary"
                      }
                    ],
                    "surface": [
                      {
                        "colorbar": {
                          "outlinewidth": 0,
                          "ticks": ""
                        },
                        "colorscale": [
                          [
                            0,
                            "#0d0887"
                          ],
                          [
                            0.1111111111111111,
                            "#46039f"
                          ],
                          [
                            0.2222222222222222,
                            "#7201a8"
                          ],
                          [
                            0.3333333333333333,
                            "#9c179e"
                          ],
                          [
                            0.4444444444444444,
                            "#bd3786"
                          ],
                          [
                            0.5555555555555556,
                            "#d8576b"
                          ],
                          [
                            0.6666666666666666,
                            "#ed7953"
                          ],
                          [
                            0.7777777777777778,
                            "#fb9f3a"
                          ],
                          [
                            0.8888888888888888,
                            "#fdca26"
                          ],
                          [
                            1,
                            "#f0f921"
                          ]
                        ],
                        "type": "surface"
                      }
                    ],
                    "table": [
                      {
                        "cells": {
                          "fill": {
                            "color": "#EBF0F8"
                          },
                          "line": {
                            "color": "white"
                          }
                        },
                        "header": {
                          "fill": {
                            "color": "#C8D4E3"
                          },
                          "line": {
                            "color": "white"
                          }
                        },
                        "type": "table"
                      }
                    ]
                  },
                  "layout": {
                    "annotationdefaults": {
                      "arrowcolor": "#2a3f5f",
                      "arrowhead": 0,
                      "arrowwidth": 1
                    },
                    "autotypenumbers": "strict",
                    "coloraxis": {
                      "colorbar": {
                        "outlinewidth": 0,
                        "ticks": ""
                      }
                    },
                    "colorscale": {
                      "diverging": [
                        [
                          0,
                          "#8e0152"
                        ],
                        [
                          0.1,
                          "#c51b7d"
                        ],
                        [
                          0.2,
                          "#de77ae"
                        ],
                        [
                          0.3,
                          "#f1b6da"
                        ],
                        [
                          0.4,
                          "#fde0ef"
                        ],
                        [
                          0.5,
                          "#f7f7f7"
                        ],
                        [
                          0.6,
                          "#e6f5d0"
                        ],
                        [
                          0.7,
                          "#b8e186"
                        ],
                        [
                          0.8,
                          "#7fbc41"
                        ],
                        [
                          0.9,
                          "#4d9221"
                        ],
                        [
                          1,
                          "#276419"
                        ]
                      ],
                      "sequential": [
                        [
                          0,
                          "#0d0887"
                        ],
                        [
                          0.1111111111111111,
                          "#46039f"
                        ],
                        [
                          0.2222222222222222,
                          "#7201a8"
                        ],
                        [
                          0.3333333333333333,
                          "#9c179e"
                        ],
                        [
                          0.4444444444444444,
                          "#bd3786"
                        ],
                        [
                          0.5555555555555556,
                          "#d8576b"
                        ],
                        [
                          0.6666666666666666,
                          "#ed7953"
                        ],
                        [
                          0.7777777777777778,
                          "#fb9f3a"
                        ],
                        [
                          0.8888888888888888,
                          "#fdca26"
                        ],
                        [
                          1,
                          "#f0f921"
                        ]
                      ],
                      "sequentialminus": [
                        [
                          0,
                          "#0d0887"
                        ],
                        [
                          0.1111111111111111,
                          "#46039f"
                        ],
                        [
                          0.2222222222222222,
                          "#7201a8"
                        ],
                        [
                          0.3333333333333333,
                          "#9c179e"
                        ],
                        [
                          0.4444444444444444,
                          "#bd3786"
                        ],
                        [
                          0.5555555555555556,
                          "#d8576b"
                        ],
                        [
                          0.6666666666666666,
                          "#ed7953"
                        ],
                        [
                          0.7777777777777778,
                          "#fb9f3a"
                        ],
                        [
                          0.8888888888888888,
                          "#fdca26"
                        ],
                        [
                          1,
                          "#f0f921"
                        ]
                      ]
                    },
                    "colorway": [
                      "#636efa",
                      "#EF553B",
                      "#00cc96",
                      "#ab63fa",
                      "#FFA15A",
                      "#19d3f3",
                      "#FF6692",
                      "#B6E880",
                      "#FF97FF",
                      "#FECB52"
                    ],
                    "font": {
                      "color": "#2a3f5f"
                    },
                    "geo": {
                      "bgcolor": "white",
                      "lakecolor": "white",
                      "landcolor": "#E5ECF6",
                      "showlakes": true,
                      "showland": true,
                      "subunitcolor": "white"
                    },
                    "hoverlabel": {
                      "align": "left"
                    },
                    "hovermode": "closest",
                    "mapbox": {
                      "style": "light"
                    },
                    "paper_bgcolor": "white",
                    "plot_bgcolor": "#E5ECF6",
                    "polar": {
                      "angularaxis": {
                        "gridcolor": "white",
                        "linecolor": "white",
                        "ticks": ""
                      },
                      "bgcolor": "#E5ECF6",
                      "radialaxis": {
                        "gridcolor": "white",
                        "linecolor": "white",
                        "ticks": ""
                      }
                    },
                    "scene": {
                      "xaxis": {
                        "backgroundcolor": "#E5ECF6",
                        "gridcolor": "white",
                        "gridwidth": 2,
                        "linecolor": "white",
                        "showbackground": true,
                        "ticks": "",
                        "zerolinecolor": "white"
                      },
                      "yaxis": {
                        "backgroundcolor": "#E5ECF6",
                        "gridcolor": "white",
                        "gridwidth": 2,
                        "linecolor": "white",
                        "showbackground": true,
                        "ticks": "",
                        "zerolinecolor": "white"
                      },
                      "zaxis": {
                        "backgroundcolor": "#E5ECF6",
                        "gridcolor": "white",
                        "gridwidth": 2,
                        "linecolor": "white",
                        "showbackground": true,
                        "ticks": "",
                        "zerolinecolor": "white"
                      }
                    },
                    "shapedefaults": {
                      "line": {
                        "color": "#2a3f5f"
                      }
                    },
                    "ternary": {
                      "aaxis": {
                        "gridcolor": "white",
                        "linecolor": "white",
                        "ticks": ""
                      },
                      "baxis": {
                        "gridcolor": "white",
                        "linecolor": "white",
                        "ticks": ""
                      },
                      "bgcolor": "#E5ECF6",
                      "caxis": {
                        "gridcolor": "white",
                        "linecolor": "white",
                        "ticks": ""
                      }
                    },
                    "title": {
                      "x": 0.05
                    },
                    "xaxis": {
                      "automargin": true,
                      "gridcolor": "white",
                      "linecolor": "white",
                      "ticks": "",
                      "title": {
                        "standoff": 15
                      },
                      "zerolinecolor": "white",
                      "zerolinewidth": 2
                    },
                    "yaxis": {
                      "automargin": true,
                      "gridcolor": "white",
                      "linecolor": "white",
                      "ticks": "",
                      "title": {
                        "standoff": 15
                      },
                      "zerolinecolor": "white",
                      "zerolinewidth": 2
                    }
                  }
                },
                "title": {
                  "text": "Hidden state mean token norm"
                },
                "xaxis": {
                  "anchor": "y",
                  "domain": [
                    0,
                    1
                  ],
                  "title": {
                    "text": "layer"
                  }
                },
                "yaxis": {
                  "anchor": "x",
                  "domain": [
                    0,
                    1
                  ],
                  "title": {
                    "text": "mean_token_norm"
                  }
                }
              }
            }
          },
          "metadata": {},
          "output_type": "display_data"
        }
      ],
      "source": [
        "if not hidden_df.empty:\n",
        "    fig = px.line(\n",
        "        hidden_df,\n",
        "        x=\"layer\",\n",
        "        y=\"mean_token_norm\",\n",
        "        color=\"model\",\n",
        "        markers=True,\n",
        "        title=\"Hidden state mean token norm\",\n",
        "    )\n",
        "    fig.show()"
      ]
    },
    {
      "cell_type": "code",
      "execution_count": 28,
      "id": "7ca3a9c0",
      "metadata": {},
      "outputs": [
        {
          "data": {
            "text/html": [
              "<div>\n",
              "<style scoped>\n",
              "    .dataframe tbody tr th:only-of-type {\n",
              "        vertical-align: middle;\n",
              "    }\n",
              "\n",
              "    .dataframe tbody tr th {\n",
              "        vertical-align: top;\n",
              "    }\n",
              "\n",
              "    .dataframe thead th {\n",
              "        text-align: right;\n",
              "    }\n",
              "</style>\n",
              "<table border=\"1\" class=\"dataframe\">\n",
              "  <thead>\n",
              "    <tr style=\"text-align: right;\">\n",
              "      <th></th>\n",
              "      <th>logit_mean</th>\n",
              "      <th>logit_std</th>\n",
              "      <th>confidence_mean</th>\n",
              "      <th>confidence_std</th>\n",
              "      <th>entropy_mean</th>\n",
              "      <th>model</th>\n",
              "    </tr>\n",
              "  </thead>\n",
              "  <tbody>\n",
              "    <tr>\n",
              "      <th>0</th>\n",
              "      <td>-0.044958</td>\n",
              "      <td>1.344925</td>\n",
              "      <td>0.681653</td>\n",
              "      <td>0.390514</td>\n",
              "      <td>1.292337</td>\n",
              "      <td>baseline</td>\n",
              "    </tr>\n",
              "    <tr>\n",
              "      <th>1</th>\n",
              "      <td>-0.015270</td>\n",
              "      <td>0.168416</td>\n",
              "      <td>0.033496</td>\n",
              "      <td>0.014181</td>\n",
              "      <td>4.075150</td>\n",
              "      <td>average_merge</td>\n",
              "    </tr>\n",
              "    <tr>\n",
              "      <th>2</th>\n",
              "      <td>-0.015119</td>\n",
              "      <td>0.166606</td>\n",
              "      <td>0.033005</td>\n",
              "      <td>0.013186</td>\n",
              "      <td>4.075826</td>\n",
              "      <td>similarity_merge</td>\n",
              "    </tr>\n",
              "    <tr>\n",
              "      <th>3</th>\n",
              "      <td>-0.015826</td>\n",
              "      <td>0.124049</td>\n",
              "      <td>0.026853</td>\n",
              "      <td>0.006952</td>\n",
              "      <td>4.085328</td>\n",
              "      <td>task_arithmetic</td>\n",
              "    </tr>\n",
              "  </tbody>\n",
              "</table>\n",
              "</div>"
            ],
            "text/plain": [
              "   logit_mean  logit_std  confidence_mean  confidence_std  entropy_mean  \\\n",
              "0   -0.044958   1.344925         0.681653        0.390514      1.292337   \n",
              "1   -0.015270   0.168416         0.033496        0.014181      4.075150   \n",
              "2   -0.015119   0.166606         0.033005        0.013186      4.075826   \n",
              "3   -0.015826   0.124049         0.026853        0.006952      4.085328   \n",
              "\n",
              "              model  \n",
              "0          baseline  \n",
              "1     average_merge  \n",
              "2  similarity_merge  \n",
              "3   task_arithmetic  "
            ]
          },
          "metadata": {},
          "output_type": "display_data"
        }
      ],
      "source": [
        "logit_rows = []\n",
        "for name, signal in signals.items():\n",
        "    stats = summarize_logits(signal[\"logits\"])\n",
        "    stats[\"model\"] = name\n",
        "    logit_rows.append(stats)\n",
        "\n",
        "logit_df = pd.DataFrame(logit_rows)\n",
        "display(logit_df)"
      ]
    },
    {
      "cell_type": "markdown",
      "id": "8bca2d24",
      "metadata": {},
      "source": [
        "# Bahasa Indonesia Large"
      ]
    },
    {
      "cell_type": "code",
      "execution_count": 29,
      "id": "4f3fe020",
      "metadata": {},
      "outputs": [],
      "source": [
        "from collections import OrderedDict\n",
        "from pathlib import Path\n",
        "\n",
        "import pandas as pd\n",
        "import plotly.express as px\n",
        "import torch\n",
        "from IPython.display import display\n",
        "\n",
        "from merginguriel.analysis_helpers import (\n",
        "    aggregate_parameter_stats,\n",
        "    collect_model_signals,\n",
        "    compute_weight_deltas,\n",
        "    ensure_text_samples,\n",
        "    load_model_artifacts,\n",
        "    merge_models_in_memory,\n",
        "    summarize_attentions,\n",
        "    summarize_hidden_states,\n",
        "    summarize_logits,\n",
        ")\n",
        "from merginguriel.run_merging_pipeline_refactored import MergeConfig\n",
        "\n",
        "pd.set_option(\"display.max_rows\", 200)\n",
        "pd.set_option(\"display.max_columns\", 50)"
      ]
    },
    {
      "cell_type": "markdown",
      "id": "1b4c27fd",
      "metadata": {},
      "source": [
        "## 1. Configure target & merge recipes\n",
        "\n",
        "Define the target locale, choose which base architecture to use, and list the merges to run on-the-fly. Adjust `MODEL_BASE_DIRS` if your checkpoints live elsewhere."
      ]
    },
    {
      "cell_type": "code",
      "execution_count": 30,
      "id": "c2f29406",
      "metadata": {},
      "outputs": [],
      "source": [
        "PROJECT_ROOT = Path.cwd().resolve().parent\n",
        "\n",
        "TARGET_LOCALE = \"id-ID\"  \n",
        "BASE_MODEL_NAME = \"xlm-roberta-large\"  # options: 'xlm-roberta-base', 'xlm-roberta-large'\n",
        "DEFAULT_NUM_LANGUAGES = 5\n",
        "\n",
        "MODEL_BASE_DIRS = {\n",
        "    \"xlm-roberta-base\": PROJECT_ROOT / \"haryos_model\",\n",
        "    \"xlm-roberta-large\": PROJECT_ROOT / \"haryos_model_large\",\n",
        "}\n",
        "\n",
        "BASE_DIR = MODEL_BASE_DIRS[BASE_MODEL_NAME]\n",
        "\n",
        "MODEL_SETUPS = OrderedDict({\n",
        "    \"baseline\": {\n",
        "        \"kind\": \"pretrained\",\n",
        "        \"path\": BASE_DIR / f\"{BASE_MODEL_NAME}_massive_k_{TARGET_LOCALE}\",\n",
        "        \"notes\": f\"{BASE_MODEL_NAME} baseline checkpoint\",\n",
        "    },\n",
        "    \"average_merge\": {\n",
        "        \"kind\": \"merge\",\n",
        "        \"config\": MergeConfig(\n",
        "            mode=\"average\",\n",
        "            target_lang=TARGET_LOCALE,\n",
        "            base_model=BASE_MODEL_NAME,\n",
        "            num_languages=DEFAULT_NUM_LANGUAGES,\n",
        "        ),\n",
        "        \"notes\": \"Equal-weight merge of top-K sources\",\n",
        "    },\n",
        "    \"similarity_merge\": {\n",
        "        \"kind\": \"merge\",\n",
        "        \"config\": MergeConfig(\n",
        "            mode=\"similarity\",\n",
        "            target_lang=TARGET_LOCALE,\n",
        "            base_model=BASE_MODEL_NAME,\n",
        "            num_languages=DEFAULT_NUM_LANGUAGES,\n",
        "            similarity_type=\"URIEL\",\n",
        "        ),\n",
        "        \"notes\": \"URIEL-weighted similarity merge\",\n",
        "    },\n",
        "    \"task_arithmetic\": {\n",
        "        \"kind\": \"merge\",\n",
        "        \"config\": MergeConfig(\n",
        "            mode=\"task_arithmetic\",\n",
        "            target_lang=TARGET_LOCALE,\n",
        "            base_model=BASE_MODEL_NAME,\n",
        "            num_languages=DEFAULT_NUM_LANGUAGES,\n",
        "        ),\n",
        "        \"notes\": \"Task arithmetic merge using similarity-selected sources\",\n",
        "    },\n",
        "    # \"fisher_dataset\": {\n",
        "    #     \"kind\": \"merge\",\n",
        "    #     \"config\": MergeConfig(\n",
        "    #         mode=\"fisher_dataset\",\n",
        "    #         target_lang=TARGET_LOCALE,\n",
        "    #         base_model=BASE_MODEL_NAME,\n",
        "    #         num_languages=DEFAULT_NUM_LANGUAGES,\n",
        "    #         dataset_name=\"AmazonScience/massive\",\n",
        "    #         dataset_split=\"train\",\n",
        "    #         text_column=\"utt\",\n",
        "    #         num_fisher_examples=500,\n",
        "    #         fisher_data_mode=\"target\",\n",
        "    #         preweight=\"uriel\",\n",
        "    #     ),\n",
        "    #     \"notes\": \"Fisher merge (requires cached dataset)\",\n",
        "    # },\n",
        "})"
      ]
    },
    {
      "cell_type": "markdown",
      "id": "8cbcc360",
      "metadata": {},
      "source": [
        "## 2. Inspect available setups\n",
        "\n",
        "The table shows which baseline path will be used and the parameters for each merge recipe. Remove or edit rows as needed for your experiment."
      ]
    },
    {
      "cell_type": "code",
      "execution_count": 31,
      "id": "89fc4a1a",
      "metadata": {},
      "outputs": [
        {
          "data": {
            "text/html": [
              "<div>\n",
              "<style scoped>\n",
              "    .dataframe tbody tr th:only-of-type {\n",
              "        vertical-align: middle;\n",
              "    }\n",
              "\n",
              "    .dataframe tbody tr th {\n",
              "        vertical-align: top;\n",
              "    }\n",
              "\n",
              "    .dataframe thead th {\n",
              "        text-align: right;\n",
              "    }\n",
              "</style>\n",
              "<table border=\"1\" class=\"dataframe\">\n",
              "  <thead>\n",
              "    <tr style=\"text-align: right;\">\n",
              "      <th></th>\n",
              "      <th>model</th>\n",
              "      <th>kind</th>\n",
              "      <th>notes</th>\n",
              "      <th>path</th>\n",
              "      <th>exists</th>\n",
              "      <th>mode</th>\n",
              "      <th>base_model</th>\n",
              "      <th>target_lang</th>\n",
              "      <th>num_languages</th>\n",
              "      <th>preweight</th>\n",
              "    </tr>\n",
              "  </thead>\n",
              "  <tbody>\n",
              "    <tr>\n",
              "      <th>0</th>\n",
              "      <td>baseline</td>\n",
              "      <td>pretrained</td>\n",
              "      <td>xlm-roberta-large baseline checkpoint</td>\n",
              "      <td>/home/coder/Python_project/MergingUriel/haryos...</td>\n",
              "      <td>True</td>\n",
              "      <td>NaN</td>\n",
              "      <td>NaN</td>\n",
              "      <td>NaN</td>\n",
              "      <td>NaN</td>\n",
              "      <td>NaN</td>\n",
              "    </tr>\n",
              "    <tr>\n",
              "      <th>1</th>\n",
              "      <td>average_merge</td>\n",
              "      <td>merge</td>\n",
              "      <td>Equal-weight merge of top-K sources</td>\n",
              "      <td>NaN</td>\n",
              "      <td>NaN</td>\n",
              "      <td>average</td>\n",
              "      <td>xlm-roberta-large</td>\n",
              "      <td>id-ID</td>\n",
              "      <td>5.0</td>\n",
              "      <td>equal</td>\n",
              "    </tr>\n",
              "    <tr>\n",
              "      <th>2</th>\n",
              "      <td>similarity_merge</td>\n",
              "      <td>merge</td>\n",
              "      <td>URIEL-weighted similarity merge</td>\n",
              "      <td>NaN</td>\n",
              "      <td>NaN</td>\n",
              "      <td>similarity</td>\n",
              "      <td>xlm-roberta-large</td>\n",
              "      <td>id-ID</td>\n",
              "      <td>5.0</td>\n",
              "      <td>equal</td>\n",
              "    </tr>\n",
              "    <tr>\n",
              "      <th>3</th>\n",
              "      <td>task_arithmetic</td>\n",
              "      <td>merge</td>\n",
              "      <td>Task arithmetic merge using similarity-selecte...</td>\n",
              "      <td>NaN</td>\n",
              "      <td>NaN</td>\n",
              "      <td>task_arithmetic</td>\n",
              "      <td>xlm-roberta-large</td>\n",
              "      <td>id-ID</td>\n",
              "      <td>5.0</td>\n",
              "      <td>equal</td>\n",
              "    </tr>\n",
              "  </tbody>\n",
              "</table>\n",
              "</div>"
            ],
            "text/plain": [
              "              model        kind  \\\n",
              "0          baseline  pretrained   \n",
              "1     average_merge       merge   \n",
              "2  similarity_merge       merge   \n",
              "3   task_arithmetic       merge   \n",
              "\n",
              "                                               notes  \\\n",
              "0              xlm-roberta-large baseline checkpoint   \n",
              "1                Equal-weight merge of top-K sources   \n",
              "2                    URIEL-weighted similarity merge   \n",
              "3  Task arithmetic merge using similarity-selecte...   \n",
              "\n",
              "                                                path exists             mode  \\\n",
              "0  /home/coder/Python_project/MergingUriel/haryos...   True              NaN   \n",
              "1                                                NaN    NaN          average   \n",
              "2                                                NaN    NaN       similarity   \n",
              "3                                                NaN    NaN  task_arithmetic   \n",
              "\n",
              "          base_model target_lang  num_languages preweight  \n",
              "0                NaN         NaN            NaN       NaN  \n",
              "1  xlm-roberta-large       id-ID            5.0     equal  \n",
              "2  xlm-roberta-large       id-ID            5.0     equal  \n",
              "3  xlm-roberta-large       id-ID            5.0     equal  "
            ]
          },
          "metadata": {},
          "output_type": "display_data"
        }
      ],
      "source": [
        "summary_rows = []\n",
        "for name, cfg in MODEL_SETUPS.items():\n",
        "    row = {\"model\": name, \"kind\": cfg[\"kind\"], \"notes\": cfg.get(\"notes\", \"\")}\n",
        "    if cfg[\"kind\"] == \"pretrained\":\n",
        "        path = cfg[\"path\"]\n",
        "        row[\"path\"] = str(path)\n",
        "        row[\"exists\"] = path.exists()\n",
        "    else:\n",
        "        conf = cfg[\"config\"]\n",
        "        row[\"mode\"] = conf.mode\n",
        "        row[\"base_model\"] = conf.base_model\n",
        "        row[\"target_lang\"] = conf.target_lang\n",
        "        row[\"num_languages\"] = conf.num_languages\n",
        "        row[\"preweight\"] = getattr(conf, \"preweight\", None)\n",
        "    summary_rows.append(row)\n",
        "\n",
        "display(pd.DataFrame(summary_rows))"
      ]
    },
    {
      "cell_type": "markdown",
      "id": "1e2cd9a7",
      "metadata": {},
      "source": [
        "## 3. Load baseline & run dynamic merges\n",
        "\n",
        "Each merge configuration is executed on demand (nothing is written to disk). Results are cached in-memory for the remainder of the session."
      ]
    },
    {
      "cell_type": "code",
      "execution_count": 32,
      "id": "a85629ad",
      "metadata": {},
      "outputs": [
        {
          "name": "stdout",
          "output_type": "stream",
          "text": [
            "\n",
            "--- Setting Up Average (Equal) Weights for id-ID ---\n",
            "\n",
            "--- Computing Similarity Weights for id-ID ---\n",
            "Using URIEL similarity matrix with top-k + Sinkhorn normalization\n",
            "Loading similarity matrix from /home/coder/Python_project/MergingUriel/language_similarity_matrix_unified.csv\n",
            "Loaded similarity matrix with shape: (50, 50)\n",
            "Available languages: ['af-ZA', 'am-ET', 'ar-SA', 'az-AZ', 'bn-BD', 'ca-ES', 'cy-GB', 'da-DK', 'de-DE', 'el-GR', 'en-US', 'es-ES', 'fa-IR', 'fi-FI', 'fr-FR', 'hi-IN', 'hu-HU', 'hy-AM', 'id-ID', 'is-IS', 'it-IT', 'ja-JP', 'jv-ID', 'ka-GE', 'km-KH', 'kn-IN', 'ko-KR', 'lv-LV', 'ml-IN', 'mn-MN', 'ms-MY', 'my-MM', 'nb-NO', 'nl-NL', 'pl-PL', 'pt-PT', 'ro-RO', 'ru-RU', 'sl-SL', 'sq-AL', 'sw-KE', 'ta-IN', 'te-IN', 'th-TH', 'tl-PH', 'tr-TR', 'ur-PK', 'vi-VN', 'zh-TW', 'zh-TW']\n",
            "Processing similarity matrix for id-ID\n",
            "Matrix shape: (50, 50)\n",
            "Applying top-k filtering (k=20)...\n",
            "Warning: The diagonal of the matrix does consist entirely of ones. We will make it to 0\n",
            "50\n",
            "Applying Sinkhorn normalization (20 iterations)...\n",
            "Generated processed matrix: (50, 50)\n",
            "Top 5 similar languages to id-ID:\n",
            "  - vi-VN: 0.169177\n",
            "  - km-KH: 0.163256\n",
            "  - jv-ID: 0.143942\n",
            "  - th-TH: 0.138978\n",
            "  - ms-MY: 0.122943\n",
            "  ✓ /home/coder/Python_project/MergingUriel/haryos_model_large/xlm-roberta-large_massive_k_vi-VN: 0.169177 (locale: vi-VN)\n",
            "  ✓ /home/coder/Python_project/MergingUriel/haryos_model_large/xlm-roberta-large_massive_k_km-KH: 0.163256 (locale: km-KH)\n",
            "  ✓ /home/coder/Python_project/MergingUriel/haryos_model_large/xlm-roberta-large_massive_k_jv-ID: 0.143942 (locale: jv-ID)\n",
            "  ✓ /home/coder/Python_project/MergingUriel/haryos_model_large/xlm-roberta-large_massive_k_th-TH: 0.138978 (locale: th-TH)\n",
            "  ✓ /home/coder/Python_project/MergingUriel/haryos_model_large/xlm-roberta-large_massive_k_ms-MY: 0.122943 (locale: ms-MY)\n",
            "Using equal weights for 5 models: 0.200000 each\n",
            "\n",
            "--- Performing Model Merge ---\n",
            "Base model: /home/coder/Python_project/MergingUriel/haryos_model_large/xlm-roberta-large_massive_k_vi-VN\n",
            "Models to merge: ['/home/coder/Python_project/MergingUriel/haryos_model_large/xlm-roberta-large_massive_k_km-KH', '/home/coder/Python_project/MergingUriel/haryos_model_large/xlm-roberta-large_massive_k_jv-ID', '/home/coder/Python_project/MergingUriel/haryos_model_large/xlm-roberta-large_massive_k_th-TH', '/home/coder/Python_project/MergingUriel/haryos_model_large/xlm-roberta-large_massive_k_ms-MY']\n",
            "Weights: [0.2, 0.2, 0.2, 0.2]\n",
            "2025-10-29 07:39:14 - auto_merge_llm.tokenizer.build_tokenizer_embed - INFO - Vocab size of pretrained model is %d .\n",
            "2025-10-29 07:39:15 - auto_merge_llm.tokenizer.build_tokenizer_embed - INFO - Vocab size of index %d finetuned model is %d.\n",
            "2025-10-29 07:39:15 - auto_merge_llm.tokenizer.build_tokenizer_embed - INFO - Added pad tokens of index 0 finetuned model is [].\n",
            "2025-10-29 07:39:15 - auto_merge_llm.tokenizer.build_tokenizer_embed - INFO - Vocab size of index %d finetuned model is %d.\n",
            "2025-10-29 07:39:15 - auto_merge_llm.tokenizer.build_tokenizer_embed - INFO - Added pad tokens of index 1 finetuned model is [].\n",
            "2025-10-29 07:39:16 - auto_merge_llm.tokenizer.build_tokenizer_embed - INFO - Vocab size of index %d finetuned model is %d.\n",
            "2025-10-29 07:39:16 - auto_merge_llm.tokenizer.build_tokenizer_embed - INFO - Added pad tokens of index 2 finetuned model is [].\n",
            "2025-10-29 07:39:16 - auto_merge_llm.tokenizer.build_tokenizer_embed - INFO - Vocab size of index %d finetuned model is %d.\n",
            "2025-10-29 07:39:16 - auto_merge_llm.tokenizer.build_tokenizer_embed - INFO - Added pad tokens of index 3 finetuned model is [].\n",
            "2025-10-29 07:39:16 - auto_merge_llm.tokenizer.build_tokenizer_embed - INFO - All added pad tokens of finetuned models are set().\n",
            "2025-10-29 07:39:16 - auto_merge_llm.tokenizer.build_tokenizer_embed - INFO - Aligned index 0 model: input token embedding shape torch.Size([250002, 1024]), output token embedding shape N/A, tokenizer added tokens [{'id': 0, 'content': '<s>', 'single_word': False, 'lstrip': False, 'rstrip': False, 'normalized': False, 'special': True}, {'id': 1, 'content': '<pad>', 'single_word': False, 'lstrip': False, 'rstrip': False, 'normalized': False, 'special': True}, {'id': 2, 'content': '</s>', 'single_word': False, 'lstrip': False, 'rstrip': False, 'normalized': False, 'special': True}, {'id': 3, 'content': '<unk>', 'single_word': False, 'lstrip': False, 'rstrip': False, 'normalized': False, 'special': True}, {'id': 250001, 'content': '<mask>', 'single_word': False, 'lstrip': True, 'rstrip': False, 'normalized': False, 'special': True}].\n",
            "2025-10-29 07:39:17 - auto_merge_llm.tokenizer.build_tokenizer_embed - INFO - Aligned index 1 model: input token embedding shape torch.Size([250002, 1024]), output token embedding shape N/A, tokenizer added tokens [{'id': 0, 'content': '<s>', 'single_word': False, 'lstrip': False, 'rstrip': False, 'normalized': False, 'special': True}, {'id': 1, 'content': '<pad>', 'single_word': False, 'lstrip': False, 'rstrip': False, 'normalized': False, 'special': True}, {'id': 2, 'content': '</s>', 'single_word': False, 'lstrip': False, 'rstrip': False, 'normalized': False, 'special': True}, {'id': 3, 'content': '<unk>', 'single_word': False, 'lstrip': False, 'rstrip': False, 'normalized': False, 'special': True}, {'id': 250001, 'content': '<mask>', 'single_word': False, 'lstrip': True, 'rstrip': False, 'normalized': False, 'special': True}].\n",
            "2025-10-29 07:39:17 - auto_merge_llm.tokenizer.build_tokenizer_embed - INFO - Aligned index 2 model: input token embedding shape torch.Size([250002, 1024]), output token embedding shape N/A, tokenizer added tokens [{'id': 0, 'content': '<s>', 'single_word': False, 'lstrip': False, 'rstrip': False, 'normalized': False, 'special': True}, {'id': 1, 'content': '<pad>', 'single_word': False, 'lstrip': False, 'rstrip': False, 'normalized': False, 'special': True}, {'id': 2, 'content': '</s>', 'single_word': False, 'lstrip': False, 'rstrip': False, 'normalized': False, 'special': True}, {'id': 3, 'content': '<unk>', 'single_word': False, 'lstrip': False, 'rstrip': False, 'normalized': False, 'special': True}, {'id': 250001, 'content': '<mask>', 'single_word': False, 'lstrip': True, 'rstrip': False, 'normalized': False, 'special': True}].\n",
            "2025-10-29 07:39:17 - auto_merge_llm.tokenizer.build_tokenizer_embed - INFO - Aligned index 3 model: input token embedding shape torch.Size([250002, 1024]), output token embedding shape N/A, tokenizer added tokens [{'id': 0, 'content': '<s>', 'single_word': False, 'lstrip': False, 'rstrip': False, 'normalized': False, 'special': True}, {'id': 1, 'content': '<pad>', 'single_word': False, 'lstrip': False, 'rstrip': False, 'normalized': False, 'special': True}, {'id': 2, 'content': '</s>', 'single_word': False, 'lstrip': False, 'rstrip': False, 'normalized': False, 'special': True}, {'id': 3, 'content': '<unk>', 'single_word': False, 'lstrip': False, 'rstrip': False, 'normalized': False, 'special': True}, {'id': 250001, 'content': '<mask>', 'single_word': False, 'lstrip': True, 'rstrip': False, 'normalized': False, 'special': True}].\n",
            "2025-10-29 07:39:18 - auto_merge_llm.tokenizer.build_tokenizer_embed - INFO - Aligned index 4 model: input token embedding shape torch.Size([250002, 1024]), output token embedding shape N/A, tokenizer added tokens [{'id': 0, 'content': '<s>', 'single_word': False, 'lstrip': False, 'rstrip': False, 'normalized': False, 'special': True}, {'id': 1, 'content': '<pad>', 'single_word': False, 'lstrip': False, 'rstrip': False, 'normalized': False, 'special': True}, {'id': 2, 'content': '</s>', 'single_word': False, 'lstrip': False, 'rstrip': False, 'normalized': False, 'special': True}, {'id': 3, 'content': '<unk>', 'single_word': False, 'lstrip': False, 'rstrip': False, 'normalized': False, 'special': True}, {'id': 250001, 'content': '<mask>', 'single_word': False, 'lstrip': True, 'rstrip': False, 'normalized': False, 'special': True}].\n",
            "2025-10-29 07:39:18 - auto_merge_llm.tokenizer.build_tokenizer_embed - INFO - Current aligned model vocab sizes: {torch.Size([250002, 1024])}\n",
            "Merge successful!\n",
            "\n",
            "--- Computing Similarity Weights for id-ID ---\n",
            "Using URIEL similarity matrix with top-k + Sinkhorn normalization\n",
            "Loading similarity matrix from /home/coder/Python_project/MergingUriel/language_similarity_matrix_unified.csv\n",
            "Loaded similarity matrix with shape: (50, 50)\n",
            "Available languages: ['af-ZA', 'am-ET', 'ar-SA', 'az-AZ', 'bn-BD', 'ca-ES', 'cy-GB', 'da-DK', 'de-DE', 'el-GR', 'en-US', 'es-ES', 'fa-IR', 'fi-FI', 'fr-FR', 'hi-IN', 'hu-HU', 'hy-AM', 'id-ID', 'is-IS', 'it-IT', 'ja-JP', 'jv-ID', 'ka-GE', 'km-KH', 'kn-IN', 'ko-KR', 'lv-LV', 'ml-IN', 'mn-MN', 'ms-MY', 'my-MM', 'nb-NO', 'nl-NL', 'pl-PL', 'pt-PT', 'ro-RO', 'ru-RU', 'sl-SL', 'sq-AL', 'sw-KE', 'ta-IN', 'te-IN', 'th-TH', 'tl-PH', 'tr-TR', 'ur-PK', 'vi-VN', 'zh-TW', 'zh-TW']\n",
            "Processing similarity matrix for id-ID\n",
            "Matrix shape: (50, 50)\n",
            "Applying top-k filtering (k=20)...\n",
            "Warning: The diagonal of the matrix does consist entirely of ones. We will make it to 0\n",
            "50\n",
            "Applying Sinkhorn normalization (20 iterations)...\n",
            "Generated processed matrix: (50, 50)\n",
            "Top 5 similar languages to id-ID:\n",
            "  - vi-VN: 0.169177\n",
            "  - km-KH: 0.163256\n",
            "  - jv-ID: 0.143942\n",
            "  - th-TH: 0.138978\n",
            "  - ms-MY: 0.122943\n",
            "  ✓ /home/coder/Python_project/MergingUriel/haryos_model_large/xlm-roberta-large_massive_k_vi-VN: 0.169177 (locale: vi-VN)\n",
            "  ✓ /home/coder/Python_project/MergingUriel/haryos_model_large/xlm-roberta-large_massive_k_km-KH: 0.163256 (locale: km-KH)\n",
            "  ✓ /home/coder/Python_project/MergingUriel/haryos_model_large/xlm-roberta-large_massive_k_jv-ID: 0.143942 (locale: jv-ID)\n",
            "  ✓ /home/coder/Python_project/MergingUriel/haryos_model_large/xlm-roberta-large_massive_k_th-TH: 0.138978 (locale: th-TH)\n",
            "  ✓ /home/coder/Python_project/MergingUriel/haryos_model_large/xlm-roberta-large_massive_k_ms-MY: 0.122943 (locale: ms-MY)\n",
            "\n",
            "--- Performing Model Merge ---\n",
            "Base model: /home/coder/Python_project/MergingUriel/haryos_model_large/xlm-roberta-large_massive_k_vi-VN\n",
            "Models to merge: ['/home/coder/Python_project/MergingUriel/haryos_model_large/xlm-roberta-large_massive_k_km-KH', '/home/coder/Python_project/MergingUriel/haryos_model_large/xlm-roberta-large_massive_k_jv-ID', '/home/coder/Python_project/MergingUriel/haryos_model_large/xlm-roberta-large_massive_k_th-TH', '/home/coder/Python_project/MergingUriel/haryos_model_large/xlm-roberta-large_massive_k_ms-MY']\n",
            "Weights: [0.22112491813149324, 0.19496463691882482, 0.18824146068829767, 0.16652330894144263]\n",
            "2025-10-29 07:39:26 - auto_merge_llm.tokenizer.build_tokenizer_embed - INFO - Vocab size of pretrained model is %d .\n",
            "2025-10-29 07:39:27 - auto_merge_llm.tokenizer.build_tokenizer_embed - INFO - Vocab size of index %d finetuned model is %d.\n",
            "2025-10-29 07:39:27 - auto_merge_llm.tokenizer.build_tokenizer_embed - INFO - Added pad tokens of index 0 finetuned model is [].\n",
            "2025-10-29 07:39:27 - auto_merge_llm.tokenizer.build_tokenizer_embed - INFO - Vocab size of index %d finetuned model is %d.\n",
            "2025-10-29 07:39:27 - auto_merge_llm.tokenizer.build_tokenizer_embed - INFO - Added pad tokens of index 1 finetuned model is [].\n",
            "2025-10-29 07:39:27 - auto_merge_llm.tokenizer.build_tokenizer_embed - INFO - Vocab size of index %d finetuned model is %d.\n",
            "2025-10-29 07:39:27 - auto_merge_llm.tokenizer.build_tokenizer_embed - INFO - Added pad tokens of index 2 finetuned model is [].\n",
            "2025-10-29 07:39:28 - auto_merge_llm.tokenizer.build_tokenizer_embed - INFO - Vocab size of index %d finetuned model is %d.\n",
            "2025-10-29 07:39:28 - auto_merge_llm.tokenizer.build_tokenizer_embed - INFO - Added pad tokens of index 3 finetuned model is [].\n",
            "2025-10-29 07:39:28 - auto_merge_llm.tokenizer.build_tokenizer_embed - INFO - All added pad tokens of finetuned models are set().\n",
            "2025-10-29 07:39:28 - auto_merge_llm.tokenizer.build_tokenizer_embed - INFO - Aligned index 0 model: input token embedding shape torch.Size([250002, 1024]), output token embedding shape N/A, tokenizer added tokens [{'id': 0, 'content': '<s>', 'single_word': False, 'lstrip': False, 'rstrip': False, 'normalized': False, 'special': True}, {'id': 1, 'content': '<pad>', 'single_word': False, 'lstrip': False, 'rstrip': False, 'normalized': False, 'special': True}, {'id': 2, 'content': '</s>', 'single_word': False, 'lstrip': False, 'rstrip': False, 'normalized': False, 'special': True}, {'id': 3, 'content': '<unk>', 'single_word': False, 'lstrip': False, 'rstrip': False, 'normalized': False, 'special': True}, {'id': 250001, 'content': '<mask>', 'single_word': False, 'lstrip': True, 'rstrip': False, 'normalized': False, 'special': True}].\n",
            "2025-10-29 07:39:29 - auto_merge_llm.tokenizer.build_tokenizer_embed - INFO - Aligned index 1 model: input token embedding shape torch.Size([250002, 1024]), output token embedding shape N/A, tokenizer added tokens [{'id': 0, 'content': '<s>', 'single_word': False, 'lstrip': False, 'rstrip': False, 'normalized': False, 'special': True}, {'id': 1, 'content': '<pad>', 'single_word': False, 'lstrip': False, 'rstrip': False, 'normalized': False, 'special': True}, {'id': 2, 'content': '</s>', 'single_word': False, 'lstrip': False, 'rstrip': False, 'normalized': False, 'special': True}, {'id': 3, 'content': '<unk>', 'single_word': False, 'lstrip': False, 'rstrip': False, 'normalized': False, 'special': True}, {'id': 250001, 'content': '<mask>', 'single_word': False, 'lstrip': True, 'rstrip': False, 'normalized': False, 'special': True}].\n",
            "2025-10-29 07:39:29 - auto_merge_llm.tokenizer.build_tokenizer_embed - INFO - Aligned index 2 model: input token embedding shape torch.Size([250002, 1024]), output token embedding shape N/A, tokenizer added tokens [{'id': 0, 'content': '<s>', 'single_word': False, 'lstrip': False, 'rstrip': False, 'normalized': False, 'special': True}, {'id': 1, 'content': '<pad>', 'single_word': False, 'lstrip': False, 'rstrip': False, 'normalized': False, 'special': True}, {'id': 2, 'content': '</s>', 'single_word': False, 'lstrip': False, 'rstrip': False, 'normalized': False, 'special': True}, {'id': 3, 'content': '<unk>', 'single_word': False, 'lstrip': False, 'rstrip': False, 'normalized': False, 'special': True}, {'id': 250001, 'content': '<mask>', 'single_word': False, 'lstrip': True, 'rstrip': False, 'normalized': False, 'special': True}].\n",
            "2025-10-29 07:39:29 - auto_merge_llm.tokenizer.build_tokenizer_embed - INFO - Aligned index 3 model: input token embedding shape torch.Size([250002, 1024]), output token embedding shape N/A, tokenizer added tokens [{'id': 0, 'content': '<s>', 'single_word': False, 'lstrip': False, 'rstrip': False, 'normalized': False, 'special': True}, {'id': 1, 'content': '<pad>', 'single_word': False, 'lstrip': False, 'rstrip': False, 'normalized': False, 'special': True}, {'id': 2, 'content': '</s>', 'single_word': False, 'lstrip': False, 'rstrip': False, 'normalized': False, 'special': True}, {'id': 3, 'content': '<unk>', 'single_word': False, 'lstrip': False, 'rstrip': False, 'normalized': False, 'special': True}, {'id': 250001, 'content': '<mask>', 'single_word': False, 'lstrip': True, 'rstrip': False, 'normalized': False, 'special': True}].\n",
            "2025-10-29 07:39:29 - auto_merge_llm.tokenizer.build_tokenizer_embed - INFO - Aligned index 4 model: input token embedding shape torch.Size([250002, 1024]), output token embedding shape N/A, tokenizer added tokens [{'id': 0, 'content': '<s>', 'single_word': False, 'lstrip': False, 'rstrip': False, 'normalized': False, 'special': True}, {'id': 1, 'content': '<pad>', 'single_word': False, 'lstrip': False, 'rstrip': False, 'normalized': False, 'special': True}, {'id': 2, 'content': '</s>', 'single_word': False, 'lstrip': False, 'rstrip': False, 'normalized': False, 'special': True}, {'id': 3, 'content': '<unk>', 'single_word': False, 'lstrip': False, 'rstrip': False, 'normalized': False, 'special': True}, {'id': 250001, 'content': '<mask>', 'single_word': False, 'lstrip': True, 'rstrip': False, 'normalized': False, 'special': True}].\n",
            "2025-10-29 07:39:29 - auto_merge_llm.tokenizer.build_tokenizer_embed - INFO - Current aligned model vocab sizes: {torch.Size([250002, 1024])}\n",
            "Merge successful!\n",
            "\n",
            "--- Computing Similarity Weights for id-ID ---\n",
            "Using URIEL similarity matrix with top-k + Sinkhorn normalization\n",
            "Loading similarity matrix from /home/coder/Python_project/MergingUriel/language_similarity_matrix_unified.csv\n",
            "Loaded similarity matrix with shape: (50, 50)\n",
            "Available languages: ['af-ZA', 'am-ET', 'ar-SA', 'az-AZ', 'bn-BD', 'ca-ES', 'cy-GB', 'da-DK', 'de-DE', 'el-GR', 'en-US', 'es-ES', 'fa-IR', 'fi-FI', 'fr-FR', 'hi-IN', 'hu-HU', 'hy-AM', 'id-ID', 'is-IS', 'it-IT', 'ja-JP', 'jv-ID', 'ka-GE', 'km-KH', 'kn-IN', 'ko-KR', 'lv-LV', 'ml-IN', 'mn-MN', 'ms-MY', 'my-MM', 'nb-NO', 'nl-NL', 'pl-PL', 'pt-PT', 'ro-RO', 'ru-RU', 'sl-SL', 'sq-AL', 'sw-KE', 'ta-IN', 'te-IN', 'th-TH', 'tl-PH', 'tr-TR', 'ur-PK', 'vi-VN', 'zh-TW', 'zh-TW']\n",
            "Processing similarity matrix for id-ID\n",
            "Matrix shape: (50, 50)\n",
            "Applying top-k filtering (k=20)...\n",
            "Warning: The diagonal of the matrix does consist entirely of ones. We will make it to 0\n",
            "50\n",
            "Applying Sinkhorn normalization (20 iterations)...\n",
            "Generated processed matrix: (50, 50)\n",
            "Top 5 similar languages to id-ID:\n",
            "  - vi-VN: 0.169177\n",
            "  - km-KH: 0.163256\n",
            "  - jv-ID: 0.143942\n",
            "  - th-TH: 0.138978\n",
            "  - ms-MY: 0.122943\n",
            "  ✓ /home/coder/Python_project/MergingUriel/haryos_model_large/xlm-roberta-large_massive_k_vi-VN: 0.169177 (locale: vi-VN)\n",
            "  ✓ /home/coder/Python_project/MergingUriel/haryos_model_large/xlm-roberta-large_massive_k_km-KH: 0.163256 (locale: km-KH)\n",
            "  ✓ /home/coder/Python_project/MergingUriel/haryos_model_large/xlm-roberta-large_massive_k_jv-ID: 0.143942 (locale: jv-ID)\n",
            "  ✓ /home/coder/Python_project/MergingUriel/haryos_model_large/xlm-roberta-large_massive_k_th-TH: 0.138978 (locale: th-TH)\n",
            "  ✓ /home/coder/Python_project/MergingUriel/haryos_model_large/xlm-roberta-large_massive_k_ms-MY: 0.122943 (locale: ms-MY)\n",
            "\n",
            "--- Performing Model Merge ---\n",
            "Base model: /home/coder/Python_project/MergingUriel/haryos_model_large/xlm-roberta-large_massive_k_vi-VN\n",
            "Models to merge: ['/home/coder/Python_project/MergingUriel/haryos_model_large/xlm-roberta-large_massive_k_km-KH', '/home/coder/Python_project/MergingUriel/haryos_model_large/xlm-roberta-large_massive_k_jv-ID', '/home/coder/Python_project/MergingUriel/haryos_model_large/xlm-roberta-large_massive_k_th-TH', '/home/coder/Python_project/MergingUriel/haryos_model_large/xlm-roberta-large_massive_k_ms-MY']\n",
            "Weights: [0.22112491813149324, 0.19496463691882482, 0.18824146068829767, 0.16652330894144263]\n",
            "2025-10-29 07:39:35 - auto_merge_llm.tokenizer.build_tokenizer_embed - INFO - Vocab size of pretrained model is %d .\n",
            "2025-10-29 07:39:36 - auto_merge_llm.tokenizer.build_tokenizer_embed - INFO - Vocab size of index %d finetuned model is %d.\n",
            "2025-10-29 07:39:36 - auto_merge_llm.tokenizer.build_tokenizer_embed - INFO - Added pad tokens of index 0 finetuned model is [].\n",
            "2025-10-29 07:39:36 - auto_merge_llm.tokenizer.build_tokenizer_embed - INFO - Vocab size of index %d finetuned model is %d.\n",
            "2025-10-29 07:39:36 - auto_merge_llm.tokenizer.build_tokenizer_embed - INFO - Added pad tokens of index 1 finetuned model is [].\n",
            "2025-10-29 07:39:36 - auto_merge_llm.tokenizer.build_tokenizer_embed - INFO - Vocab size of index %d finetuned model is %d.\n",
            "2025-10-29 07:39:36 - auto_merge_llm.tokenizer.build_tokenizer_embed - INFO - Added pad tokens of index 2 finetuned model is [].\n",
            "2025-10-29 07:39:37 - auto_merge_llm.tokenizer.build_tokenizer_embed - INFO - Vocab size of index %d finetuned model is %d.\n",
            "2025-10-29 07:39:37 - auto_merge_llm.tokenizer.build_tokenizer_embed - INFO - Added pad tokens of index 3 finetuned model is [].\n",
            "2025-10-29 07:39:37 - auto_merge_llm.tokenizer.build_tokenizer_embed - INFO - All added pad tokens of finetuned models are set().\n",
            "2025-10-29 07:39:37 - auto_merge_llm.tokenizer.build_tokenizer_embed - INFO - Aligned index 0 model: input token embedding shape torch.Size([250002, 1024]), output token embedding shape N/A, tokenizer added tokens [{'id': 0, 'content': '<s>', 'single_word': False, 'lstrip': False, 'rstrip': False, 'normalized': False, 'special': True}, {'id': 1, 'content': '<pad>', 'single_word': False, 'lstrip': False, 'rstrip': False, 'normalized': False, 'special': True}, {'id': 2, 'content': '</s>', 'single_word': False, 'lstrip': False, 'rstrip': False, 'normalized': False, 'special': True}, {'id': 3, 'content': '<unk>', 'single_word': False, 'lstrip': False, 'rstrip': False, 'normalized': False, 'special': True}, {'id': 250001, 'content': '<mask>', 'single_word': False, 'lstrip': True, 'rstrip': False, 'normalized': False, 'special': True}].\n",
            "2025-10-29 07:39:38 - auto_merge_llm.tokenizer.build_tokenizer_embed - INFO - Aligned index 1 model: input token embedding shape torch.Size([250002, 1024]), output token embedding shape N/A, tokenizer added tokens [{'id': 0, 'content': '<s>', 'single_word': False, 'lstrip': False, 'rstrip': False, 'normalized': False, 'special': True}, {'id': 1, 'content': '<pad>', 'single_word': False, 'lstrip': False, 'rstrip': False, 'normalized': False, 'special': True}, {'id': 2, 'content': '</s>', 'single_word': False, 'lstrip': False, 'rstrip': False, 'normalized': False, 'special': True}, {'id': 3, 'content': '<unk>', 'single_word': False, 'lstrip': False, 'rstrip': False, 'normalized': False, 'special': True}, {'id': 250001, 'content': '<mask>', 'single_word': False, 'lstrip': True, 'rstrip': False, 'normalized': False, 'special': True}].\n",
            "2025-10-29 07:39:38 - auto_merge_llm.tokenizer.build_tokenizer_embed - INFO - Aligned index 2 model: input token embedding shape torch.Size([250002, 1024]), output token embedding shape N/A, tokenizer added tokens [{'id': 0, 'content': '<s>', 'single_word': False, 'lstrip': False, 'rstrip': False, 'normalized': False, 'special': True}, {'id': 1, 'content': '<pad>', 'single_word': False, 'lstrip': False, 'rstrip': False, 'normalized': False, 'special': True}, {'id': 2, 'content': '</s>', 'single_word': False, 'lstrip': False, 'rstrip': False, 'normalized': False, 'special': True}, {'id': 3, 'content': '<unk>', 'single_word': False, 'lstrip': False, 'rstrip': False, 'normalized': False, 'special': True}, {'id': 250001, 'content': '<mask>', 'single_word': False, 'lstrip': True, 'rstrip': False, 'normalized': False, 'special': True}].\n",
            "2025-10-29 07:39:39 - auto_merge_llm.tokenizer.build_tokenizer_embed - INFO - Aligned index 3 model: input token embedding shape torch.Size([250002, 1024]), output token embedding shape N/A, tokenizer added tokens [{'id': 0, 'content': '<s>', 'single_word': False, 'lstrip': False, 'rstrip': False, 'normalized': False, 'special': True}, {'id': 1, 'content': '<pad>', 'single_word': False, 'lstrip': False, 'rstrip': False, 'normalized': False, 'special': True}, {'id': 2, 'content': '</s>', 'single_word': False, 'lstrip': False, 'rstrip': False, 'normalized': False, 'special': True}, {'id': 3, 'content': '<unk>', 'single_word': False, 'lstrip': False, 'rstrip': False, 'normalized': False, 'special': True}, {'id': 250001, 'content': '<mask>', 'single_word': False, 'lstrip': True, 'rstrip': False, 'normalized': False, 'special': True}].\n",
            "2025-10-29 07:39:39 - auto_merge_llm.tokenizer.build_tokenizer_embed - INFO - Aligned index 4 model: input token embedding shape torch.Size([250002, 1024]), output token embedding shape N/A, tokenizer added tokens [{'id': 0, 'content': '<s>', 'single_word': False, 'lstrip': False, 'rstrip': False, 'normalized': False, 'special': True}, {'id': 1, 'content': '<pad>', 'single_word': False, 'lstrip': False, 'rstrip': False, 'normalized': False, 'special': True}, {'id': 2, 'content': '</s>', 'single_word': False, 'lstrip': False, 'rstrip': False, 'normalized': False, 'special': True}, {'id': 3, 'content': '<unk>', 'single_word': False, 'lstrip': False, 'rstrip': False, 'normalized': False, 'special': True}, {'id': 250001, 'content': '<mask>', 'single_word': False, 'lstrip': True, 'rstrip': False, 'normalized': False, 'special': True}].\n",
            "2025-10-29 07:39:39 - auto_merge_llm.tokenizer.build_tokenizer_embed - INFO - Current aligned model vocab sizes: {torch.Size([250002, 1024])}\n",
            "Merge successful!\n",
            "Prepared 4 models on cuda.\n",
            "Reference model: baseline\n"
          ]
        }
      ],
      "source": [
        "DEVICE = \"cuda\" if torch.cuda.is_available() else \"cpu\"\n",
        "artifacts = {}\n",
        "merge_metadata = {}\n",
        "\n",
        "for name, cfg in MODEL_SETUPS.items():\n",
        "    if cfg[\"kind\"] == \"pretrained\":\n",
        "        path = cfg[\"path\"]\n",
        "        if not path.exists():\n",
        "            print(f\"⚠️ Skipping {name}: checkpoint not found at {path}\")\n",
        "            continue\n",
        "        artifacts[name] = load_model_artifacts(path, device=DEVICE)\n",
        "    else:\n",
        "        artifact, meta = merge_models_in_memory(cfg[\"config\"], device=DEVICE)\n",
        "        artifacts[name] = artifact\n",
        "        merge_metadata[name] = meta\n",
        "\n",
        "print(f\"Prepared {len(artifacts)} models on {DEVICE}.\")\n",
        "REFERENCE_KEY = \"baseline\" if \"baseline\" in artifacts else next(iter(artifacts))\n",
        "print(f\"Reference model: {REFERENCE_KEY}\")"
      ]
    },
    {
      "cell_type": "code",
      "execution_count": 33,
      "id": "c03d48ed",
      "metadata": {},
      "outputs": [
        {
          "data": {
            "text/html": [
              "<div>\n",
              "<style scoped>\n",
              "    .dataframe tbody tr th:only-of-type {\n",
              "        vertical-align: middle;\n",
              "    }\n",
              "\n",
              "    .dataframe tbody tr th {\n",
              "        vertical-align: top;\n",
              "    }\n",
              "\n",
              "    .dataframe thead th {\n",
              "        text-align: right;\n",
              "    }\n",
              "</style>\n",
              "<table border=\"1\" class=\"dataframe\">\n",
              "  <thead>\n",
              "    <tr style=\"text-align: right;\">\n",
              "      <th></th>\n",
              "      <th>model</th>\n",
              "      <th>base_model_path</th>\n",
              "      <th>base_weight</th>\n",
              "      <th>sources</th>\n",
              "    </tr>\n",
              "  </thead>\n",
              "  <tbody>\n",
              "    <tr>\n",
              "      <th>0</th>\n",
              "      <td>average_merge</td>\n",
              "      <td>/home/coder/Python_project/MergingUriel/haryos...</td>\n",
              "      <td>0.200000</td>\n",
              "      <td>km-KH:0.200, jv-ID:0.200, th-TH:0.200, ms-MY:0...</td>\n",
              "    </tr>\n",
              "    <tr>\n",
              "      <th>1</th>\n",
              "      <td>similarity_merge</td>\n",
              "      <td>/home/coder/Python_project/MergingUriel/haryos...</td>\n",
              "      <td>0.229146</td>\n",
              "      <td>km-KH:0.221, jv-ID:0.195, th-TH:0.188, ms-MY:0...</td>\n",
              "    </tr>\n",
              "    <tr>\n",
              "      <th>2</th>\n",
              "      <td>task_arithmetic</td>\n",
              "      <td>/home/coder/Python_project/MergingUriel/haryos...</td>\n",
              "      <td>0.229146</td>\n",
              "      <td>km-KH:0.221, jv-ID:0.195, th-TH:0.188, ms-MY:0...</td>\n",
              "    </tr>\n",
              "  </tbody>\n",
              "</table>\n",
              "</div>"
            ],
            "text/plain": [
              "              model                                    base_model_path  \\\n",
              "0     average_merge  /home/coder/Python_project/MergingUriel/haryos...   \n",
              "1  similarity_merge  /home/coder/Python_project/MergingUriel/haryos...   \n",
              "2   task_arithmetic  /home/coder/Python_project/MergingUriel/haryos...   \n",
              "\n",
              "   base_weight                                            sources  \n",
              "0     0.200000  km-KH:0.200, jv-ID:0.200, th-TH:0.200, ms-MY:0...  \n",
              "1     0.229146  km-KH:0.221, jv-ID:0.195, th-TH:0.188, ms-MY:0...  \n",
              "2     0.229146  km-KH:0.221, jv-ID:0.195, th-TH:0.188, ms-MY:0...  "
            ]
          },
          "metadata": {},
          "output_type": "display_data"
        }
      ],
      "source": [
        "if merge_metadata:\n",
        "    meta_rows = []\n",
        "    for name, meta in merge_metadata.items():\n",
        "        sources = []\n",
        "        for path, info in meta[\"models_and_weights\"].items():\n",
        "            label = info.locale or Path(path).name\n",
        "            sources.append(f\"{label}:{info.weight:.3f}\")\n",
        "        meta_rows.append({\n",
        "            \"model\": name,\n",
        "            \"base_model_path\": meta[\"base_model\"].model_name,\n",
        "            \"base_weight\": getattr(meta[\"base_model\"], \"weight\", None),\n",
        "            \"sources\": \", \".join(sources),\n",
        "        })\n",
        "    display(pd.DataFrame(meta_rows))"
      ]
    },
    {
      "cell_type": "markdown",
      "id": "79682fee",
      "metadata": {},
      "source": [
        "## 4. Parameter deltas\n",
        "\n",
        "Compare each merged model against the reference baseline to spot layers with large parameter shifts."
      ]
    },
    {
      "cell_type": "code",
      "execution_count": 34,
      "id": "2f19998f",
      "metadata": {},
      "outputs": [
        {
          "data": {
            "text/html": [
              "<div>\n",
              "<style scoped>\n",
              "    .dataframe tbody tr th:only-of-type {\n",
              "        vertical-align: middle;\n",
              "    }\n",
              "\n",
              "    .dataframe tbody tr th {\n",
              "        vertical-align: top;\n",
              "    }\n",
              "\n",
              "    .dataframe thead th {\n",
              "        text-align: right;\n",
              "    }\n",
              "</style>\n",
              "<table border=\"1\" class=\"dataframe\">\n",
              "  <thead>\n",
              "    <tr style=\"text-align: right;\">\n",
              "      <th></th>\n",
              "      <th>layer</th>\n",
              "      <th>delta_l2_sum</th>\n",
              "      <th>delta_l2_mean</th>\n",
              "      <th>delta_mean_abs</th>\n",
              "      <th>cosine_mean</th>\n",
              "      <th>reference_norm_mean</th>\n",
              "      <th>candidate_norm_mean</th>\n",
              "      <th>model</th>\n",
              "    </tr>\n",
              "  </thead>\n",
              "  <tbody>\n",
              "    <tr>\n",
              "      <th>0</th>\n",
              "      <td>classifier.dense</td>\n",
              "      <td>0.612798</td>\n",
              "      <td>0.306399</td>\n",
              "      <td>0.000287</td>\n",
              "      <td>0.973113</td>\n",
              "      <td>10.305011</td>\n",
              "      <td>10.319484</td>\n",
              "      <td>average_merge</td>\n",
              "    </tr>\n",
              "    <tr>\n",
              "      <th>1</th>\n",
              "      <td>classifier.out_proj</td>\n",
              "      <td>0.120885</td>\n",
              "      <td>0.060443</td>\n",
              "      <td>0.000250</td>\n",
              "      <td>0.988776</td>\n",
              "      <td>2.527894</td>\n",
              "      <td>2.552072</td>\n",
              "      <td>average_merge</td>\n",
              "    </tr>\n",
              "    <tr>\n",
              "      <th>2</th>\n",
              "      <td>layer.0.attention.output</td>\n",
              "      <td>0.356029</td>\n",
              "      <td>0.089007</td>\n",
              "      <td>0.000227</td>\n",
              "      <td>0.999982</td>\n",
              "      <td>17.501202</td>\n",
              "      <td>17.500765</td>\n",
              "      <td>average_merge</td>\n",
              "    </tr>\n",
              "    <tr>\n",
              "      <th>3</th>\n",
              "      <td>layer.0.attention.self</td>\n",
              "      <td>0.948113</td>\n",
              "      <td>0.158019</td>\n",
              "      <td>0.000192</td>\n",
              "      <td>0.999977</td>\n",
              "      <td>20.575392</td>\n",
              "      <td>20.573879</td>\n",
              "      <td>average_merge</td>\n",
              "    </tr>\n",
              "    <tr>\n",
              "      <th>4</th>\n",
              "      <td>layer.0.intermediate.dense</td>\n",
              "      <td>0.695396</td>\n",
              "      <td>0.347698</td>\n",
              "      <td>0.000255</td>\n",
              "      <td>0.999984</td>\n",
              "      <td>53.416125</td>\n",
              "      <td>53.415108</td>\n",
              "      <td>average_merge</td>\n",
              "    </tr>\n",
              "    <tr>\n",
              "      <th>...</th>\n",
              "      <td>...</td>\n",
              "      <td>...</td>\n",
              "      <td>...</td>\n",
              "      <td>...</td>\n",
              "      <td>...</td>\n",
              "      <td>...</td>\n",
              "      <td>...</td>\n",
              "      <td>...</td>\n",
              "    </tr>\n",
              "    <tr>\n",
              "      <th>373</th>\n",
              "      <td>layer.9.output.dense</td>\n",
              "      <td>0.617417</td>\n",
              "      <td>0.308709</td>\n",
              "      <td>0.000191</td>\n",
              "      <td>0.999986</td>\n",
              "      <td>45.701973</td>\n",
              "      <td>45.701535</td>\n",
              "      <td>task_arithmetic</td>\n",
              "    </tr>\n",
              "    <tr>\n",
              "      <th>374</th>\n",
              "      <td>roberta.embeddings.LayerNorm</td>\n",
              "      <td>0.018519</td>\n",
              "      <td>0.009259</td>\n",
              "      <td>0.000229</td>\n",
              "      <td>1.000000</td>\n",
              "      <td>18.454269</td>\n",
              "      <td>18.454039</td>\n",
              "      <td>task_arithmetic</td>\n",
              "    </tr>\n",
              "    <tr>\n",
              "      <th>375</th>\n",
              "      <td>roberta.embeddings.position_embeddings</td>\n",
              "      <td>0.063085</td>\n",
              "      <td>0.063085</td>\n",
              "      <td>0.000023</td>\n",
              "      <td>0.999999</td>\n",
              "      <td>57.078842</td>\n",
              "      <td>57.078915</td>\n",
              "      <td>task_arithmetic</td>\n",
              "    </tr>\n",
              "    <tr>\n",
              "      <th>376</th>\n",
              "      <td>roberta.embeddings.token_type_embeddings</td>\n",
              "      <td>0.008302</td>\n",
              "      <td>0.008302</td>\n",
              "      <td>0.000204</td>\n",
              "      <td>0.625542</td>\n",
              "      <td>0.010080</td>\n",
              "      <td>0.008966</td>\n",
              "      <td>task_arithmetic</td>\n",
              "    </tr>\n",
              "    <tr>\n",
              "      <th>377</th>\n",
              "      <td>roberta.embeddings.word_embeddings</td>\n",
              "      <td>0.623813</td>\n",
              "      <td>0.623813</td>\n",
              "      <td>0.000006</td>\n",
              "      <td>1.000000</td>\n",
              "      <td>2650.389404</td>\n",
              "      <td>2650.389404</td>\n",
              "      <td>task_arithmetic</td>\n",
              "    </tr>\n",
              "  </tbody>\n",
              "</table>\n",
              "<p>378 rows × 8 columns</p>\n",
              "</div>"
            ],
            "text/plain": [
              "                                        layer  delta_l2_sum  delta_l2_mean  \\\n",
              "0                            classifier.dense      0.612798       0.306399   \n",
              "1                         classifier.out_proj      0.120885       0.060443   \n",
              "2                    layer.0.attention.output      0.356029       0.089007   \n",
              "3                      layer.0.attention.self      0.948113       0.158019   \n",
              "4                  layer.0.intermediate.dense      0.695396       0.347698   \n",
              "..                                        ...           ...            ...   \n",
              "373                      layer.9.output.dense      0.617417       0.308709   \n",
              "374              roberta.embeddings.LayerNorm      0.018519       0.009259   \n",
              "375    roberta.embeddings.position_embeddings      0.063085       0.063085   \n",
              "376  roberta.embeddings.token_type_embeddings      0.008302       0.008302   \n",
              "377        roberta.embeddings.word_embeddings      0.623813       0.623813   \n",
              "\n",
              "     delta_mean_abs  cosine_mean  reference_norm_mean  candidate_norm_mean  \\\n",
              "0          0.000287     0.973113            10.305011            10.319484   \n",
              "1          0.000250     0.988776             2.527894             2.552072   \n",
              "2          0.000227     0.999982            17.501202            17.500765   \n",
              "3          0.000192     0.999977            20.575392            20.573879   \n",
              "4          0.000255     0.999984            53.416125            53.415108   \n",
              "..              ...          ...                  ...                  ...   \n",
              "373        0.000191     0.999986            45.701973            45.701535   \n",
              "374        0.000229     1.000000            18.454269            18.454039   \n",
              "375        0.000023     0.999999            57.078842            57.078915   \n",
              "376        0.000204     0.625542             0.010080             0.008966   \n",
              "377        0.000006     1.000000          2650.389404          2650.389404   \n",
              "\n",
              "               model  \n",
              "0      average_merge  \n",
              "1      average_merge  \n",
              "2      average_merge  \n",
              "3      average_merge  \n",
              "4      average_merge  \n",
              "..               ...  \n",
              "373  task_arithmetic  \n",
              "374  task_arithmetic  \n",
              "375  task_arithmetic  \n",
              "376  task_arithmetic  \n",
              "377  task_arithmetic  \n",
              "\n",
              "[378 rows x 8 columns]"
            ]
          },
          "metadata": {},
          "output_type": "display_data"
        }
      ],
      "source": [
        "weight_delta_frames = []\n",
        "layer_aggregates = []\n",
        "\n",
        "reference_model = artifacts[REFERENCE_KEY].model\n",
        "\n",
        "for name, artifact in artifacts.items():\n",
        "    if name == REFERENCE_KEY:\n",
        "        continue\n",
        "    deltas = compute_weight_deltas(reference_model, artifact.model)\n",
        "    deltas[\"model\"] = name\n",
        "    weight_delta_frames.append(deltas)\n",
        "\n",
        "    layer_summary = aggregate_parameter_stats(deltas)\n",
        "    layer_summary[\"model\"] = name\n",
        "    layer_aggregates.append(layer_summary)\n",
        "\n",
        "weight_deltas_df = pd.concat(weight_delta_frames, ignore_index=True) if weight_delta_frames else pd.DataFrame()\n",
        "layer_deltas_df = pd.concat(layer_aggregates, ignore_index=True) if layer_aggregates else pd.DataFrame()\n",
        "\n",
        "display(layer_deltas_df)"
      ]
    },
    {
      "cell_type": "code",
      "execution_count": 35,
      "id": "e2c0e197",
      "metadata": {},
      "outputs": [
        {
          "data": {
            "text/html": [
              "<div>\n",
              "<style scoped>\n",
              "    .dataframe tbody tr th:only-of-type {\n",
              "        vertical-align: middle;\n",
              "    }\n",
              "\n",
              "    .dataframe tbody tr th {\n",
              "        vertical-align: top;\n",
              "    }\n",
              "\n",
              "    .dataframe thead th {\n",
              "        text-align: right;\n",
              "    }\n",
              "</style>\n",
              "<table border=\"1\" class=\"dataframe\">\n",
              "  <thead>\n",
              "    <tr style=\"text-align: right;\">\n",
              "      <th></th>\n",
              "      <th>layer</th>\n",
              "      <th>delta_l2_sum</th>\n",
              "      <th>delta_l2_mean</th>\n",
              "      <th>delta_mean_abs</th>\n",
              "      <th>cosine_mean</th>\n",
              "      <th>reference_norm_mean</th>\n",
              "      <th>candidate_norm_mean</th>\n",
              "      <th>model</th>\n",
              "    </tr>\n",
              "  </thead>\n",
              "  <tbody>\n",
              "    <tr>\n",
              "      <th>0</th>\n",
              "      <td>classifier.dense</td>\n",
              "      <td>0.612798</td>\n",
              "      <td>0.306399</td>\n",
              "      <td>0.000287</td>\n",
              "      <td>0.973113</td>\n",
              "      <td>10.305011</td>\n",
              "      <td>10.319484</td>\n",
              "      <td>average_merge</td>\n",
              "    </tr>\n",
              "    <tr>\n",
              "      <th>126</th>\n",
              "      <td>classifier.dense</td>\n",
              "      <td>0.630692</td>\n",
              "      <td>0.315346</td>\n",
              "      <td>0.000295</td>\n",
              "      <td>0.971874</td>\n",
              "      <td>10.305011</td>\n",
              "      <td>10.319621</td>\n",
              "      <td>similarity_merge</td>\n",
              "    </tr>\n",
              "    <tr>\n",
              "      <th>252</th>\n",
              "      <td>classifier.dense</td>\n",
              "      <td>0.555010</td>\n",
              "      <td>0.277505</td>\n",
              "      <td>0.000260</td>\n",
              "      <td>0.977341</td>\n",
              "      <td>10.305011</td>\n",
              "      <td>10.319497</td>\n",
              "      <td>task_arithmetic</td>\n",
              "    </tr>\n",
              "  </tbody>\n",
              "</table>\n",
              "</div>"
            ],
            "text/plain": [
              "                layer  delta_l2_sum  delta_l2_mean  delta_mean_abs  \\\n",
              "0    classifier.dense      0.612798       0.306399        0.000287   \n",
              "126  classifier.dense      0.630692       0.315346        0.000295   \n",
              "252  classifier.dense      0.555010       0.277505        0.000260   \n",
              "\n",
              "     cosine_mean  reference_norm_mean  candidate_norm_mean             model  \n",
              "0       0.973113            10.305011            10.319484     average_merge  \n",
              "126     0.971874            10.305011            10.319621  similarity_merge  \n",
              "252     0.977341            10.305011            10.319497   task_arithmetic  "
            ]
          },
          "execution_count": 35,
          "metadata": {},
          "output_type": "execute_result"
        }
      ],
      "source": [
        "layer_deltas_df[layer_deltas_df[\"layer\"] == \"classifier.dense\"]"
      ]
    },
    {
      "cell_type": "code",
      "execution_count": 36,
      "id": "f81a39ba",
      "metadata": {},
      "outputs": [
        {
          "data": {
            "application/vnd.plotly.v1+json": {
              "config": {
                "plotlyServerURL": "https://plot.ly"
              },
              "data": [
                {
                  "alignmentgroup": "True",
                  "hovertemplate": "model=average_merge<br>layer=%{x}<br>delta_l2_sum=%{y}<extra></extra>",
                  "legendgroup": "average_merge",
                  "marker": {
                    "color": "#636efa",
                    "pattern": {
                      "shape": ""
                    }
                  },
                  "name": "average_merge",
                  "offsetgroup": "average_merge",
                  "orientation": "v",
                  "showlegend": true,
                  "textposition": "auto",
                  "type": "bar",
                  "x": [
                    "classifier.dense",
                    "classifier.out_proj",
                    "layer.0.attention.output",
                    "layer.0.attention.self",
                    "layer.0.intermediate.dense",
                    "layer.0.output.LayerNorm",
                    "layer.0.output.dense",
                    "layer.1.attention.output",
                    "layer.1.attention.self",
                    "layer.1.intermediate.dense",
                    "layer.1.output.LayerNorm",
                    "layer.1.output.dense",
                    "layer.10.attention.output",
                    "layer.10.attention.self",
                    "layer.10.intermediate.dense",
                    "layer.10.output.LayerNorm",
                    "layer.10.output.dense",
                    "layer.11.attention.output",
                    "layer.11.attention.self",
                    "layer.11.intermediate.dense",
                    "layer.11.output.LayerNorm",
                    "layer.11.output.dense",
                    "layer.12.attention.output",
                    "layer.12.attention.self",
                    "layer.12.intermediate.dense",
                    "layer.12.output.LayerNorm",
                    "layer.12.output.dense",
                    "layer.13.attention.output",
                    "layer.13.attention.self",
                    "layer.13.intermediate.dense",
                    "layer.13.output.LayerNorm",
                    "layer.13.output.dense",
                    "layer.14.attention.output",
                    "layer.14.attention.self",
                    "layer.14.intermediate.dense",
                    "layer.14.output.LayerNorm",
                    "layer.14.output.dense",
                    "layer.15.attention.output",
                    "layer.15.attention.self",
                    "layer.15.intermediate.dense",
                    "layer.15.output.LayerNorm",
                    "layer.15.output.dense",
                    "layer.16.attention.output",
                    "layer.16.attention.self",
                    "layer.16.intermediate.dense",
                    "layer.16.output.LayerNorm",
                    "layer.16.output.dense",
                    "layer.17.attention.output",
                    "layer.17.attention.self",
                    "layer.17.intermediate.dense",
                    "layer.17.output.LayerNorm",
                    "layer.17.output.dense",
                    "layer.18.attention.output",
                    "layer.18.attention.self",
                    "layer.18.intermediate.dense",
                    "layer.18.output.LayerNorm",
                    "layer.18.output.dense",
                    "layer.19.attention.output",
                    "layer.19.attention.self",
                    "layer.19.intermediate.dense",
                    "layer.19.output.LayerNorm",
                    "layer.19.output.dense",
                    "layer.2.attention.output",
                    "layer.2.attention.self",
                    "layer.2.intermediate.dense",
                    "layer.2.output.LayerNorm",
                    "layer.2.output.dense",
                    "layer.20.attention.output",
                    "layer.20.attention.self",
                    "layer.20.intermediate.dense",
                    "layer.20.output.LayerNorm",
                    "layer.20.output.dense",
                    "layer.21.attention.output",
                    "layer.21.attention.self",
                    "layer.21.intermediate.dense",
                    "layer.21.output.LayerNorm",
                    "layer.21.output.dense",
                    "layer.22.attention.output",
                    "layer.22.attention.self",
                    "layer.22.intermediate.dense",
                    "layer.22.output.LayerNorm",
                    "layer.22.output.dense",
                    "layer.23.attention.output",
                    "layer.23.attention.self",
                    "layer.23.intermediate.dense",
                    "layer.23.output.LayerNorm",
                    "layer.23.output.dense",
                    "layer.3.attention.output",
                    "layer.3.attention.self",
                    "layer.3.intermediate.dense",
                    "layer.3.output.LayerNorm",
                    "layer.3.output.dense",
                    "layer.4.attention.output",
                    "layer.4.attention.self",
                    "layer.4.intermediate.dense",
                    "layer.4.output.LayerNorm",
                    "layer.4.output.dense",
                    "layer.5.attention.output",
                    "layer.5.attention.self",
                    "layer.5.intermediate.dense",
                    "layer.5.output.LayerNorm",
                    "layer.5.output.dense",
                    "layer.6.attention.output",
                    "layer.6.attention.self",
                    "layer.6.intermediate.dense",
                    "layer.6.output.LayerNorm",
                    "layer.6.output.dense",
                    "layer.7.attention.output",
                    "layer.7.attention.self",
                    "layer.7.intermediate.dense",
                    "layer.7.output.LayerNorm",
                    "layer.7.output.dense",
                    "layer.8.attention.output",
                    "layer.8.attention.self",
                    "layer.8.intermediate.dense",
                    "layer.8.output.LayerNorm",
                    "layer.8.output.dense",
                    "layer.9.attention.output",
                    "layer.9.attention.self",
                    "layer.9.intermediate.dense",
                    "layer.9.output.LayerNorm",
                    "layer.9.output.dense",
                    "roberta.embeddings.LayerNorm",
                    "roberta.embeddings.position_embeddings",
                    "roberta.embeddings.token_type_embeddings",
                    "roberta.embeddings.word_embeddings"
                  ],
                  "xaxis": "x",
                  "y": {
                    "bdata": "AACA9wqc4z8AAAAoVPK+PwAAAGgsydY/AIDGWPBW7j8AAADtr0DmPwAAAKDaD5E/AABAjwUQ5T8AAIAiyNPVPwAAaKPpcu0/AAAAeHMS5j8AAAAogbeRPwAAAEfpSuQ/AAAA3u6w1j8AYA55Z4nwPwAAAP92Kus/AAAA4Duikj8AAEDCOXHmPwAAAMR5rtg/AOBJnqs78z8AAAAr0C7sPwAAAGgdNJI/AAAA0kqH5j8AAIBbS3TYPwCAsow9TvQ/AAAAedY57T8AAACYu5WTPwAAgCkYFuc/AAAAigM22T8AYMxAoRb1PwAAADM/8O0/AAAAcDnKkj8AAADLGljnPwAAAHLtL9o/AMBYDolG9j8AAADxGD/uPwAAAEh5WZI/AAAANkZB5z8AAADQZIvZPwAgP63jXvU/AAAAH+IL7j8AAAC4so2SPwAAgPuEXeY/AAAAKhyW2T8AADi0iPz0PwAAAJKb/ew/AAAAuMlgkj8AAMD3KlHkPwAAgBbW/Ng/AKDTLrF89D8AAAAmBlzsPwAAAHj0lZA/AADAvvwI4z8AAAADGjfZPwDQF0i/Q/Q/AAAAlMpC6z8AAADQ7OiOPwAAAGbzc+E/AACAtP/t1j8AgJ/R57TxPwAAAC+b3Og/AAAAuKHKjj8AAEB8M8LgPwAAADR/99Q/AICPR2j+7D8AAACbsB7nPwAAAKAvOJE/AABA3yoa4j8AAIDggmPYPwDQABcHpfE/AAAAvCum6T8AAADAYMyNPwAAgAvLd+A/AACAoXrb2j8A4ANVftHxPwAAAAeNhes/AAAAuK07jT8AAECgPLXfPwAAwBBhrts/AICMeQ8H8j8AAIB2H1bwPwAAAPzxPpA/AADAhy/54z8AAIBr5/zePwDAE5vch/M/AAAA74XQ9D8AAACu1L6kPwAAYOKPG/E/AACAabbs1D8AAMmCcH/tPwAAAC5Wsug/AAAAYF0pkT8AAMCUrPvlPwAAgAvzz9M/AEBdyD4S7D8AAAB29SDpPwAAALjzypA/AABADcoD5j8AAIAu9HHTPwCAAMBQhus/AAAAOpHt6D8AAADgHd+QPwAAQGNKq+U/AACArp2a0z8AgNh69pbsPwAAAMcCl+g/AAAAKM0bkT8AAAAJ69PkPwAAAGLCedM/AECRAL6L6z8AAABPT0foPwAAAEDmrZE/AABAImeB5D8AAICPGZrUPwAAsQquVu4/AAAAuhd/5z8AAAC4PyiSPwAAAL/k6+M/AAAAUc7E1D8AgKwSbFnuPwAAAH/fgOg/AAAAwO7YkD8AAEBtlmHkPwAAAPC/rZM/AAAAoJ/LsD8AAADA7ryBPwAAAKA+n+Q/",
                    "dtype": "f8"
                  },
                  "yaxis": "y"
                },
                {
                  "alignmentgroup": "True",
                  "hovertemplate": "model=similarity_merge<br>layer=%{x}<br>delta_l2_sum=%{y}<extra></extra>",
                  "legendgroup": "similarity_merge",
                  "marker": {
                    "color": "#EF553B",
                    "pattern": {
                      "shape": ""
                    }
                  },
                  "name": "similarity_merge",
                  "offsetgroup": "similarity_merge",
                  "orientation": "v",
                  "showlegend": true,
                  "textposition": "auto",
                  "type": "bar",
                  "x": [
                    "classifier.dense",
                    "classifier.out_proj",
                    "layer.0.attention.output",
                    "layer.0.attention.self",
                    "layer.0.intermediate.dense",
                    "layer.0.output.LayerNorm",
                    "layer.0.output.dense",
                    "layer.1.attention.output",
                    "layer.1.attention.self",
                    "layer.1.intermediate.dense",
                    "layer.1.output.LayerNorm",
                    "layer.1.output.dense",
                    "layer.10.attention.output",
                    "layer.10.attention.self",
                    "layer.10.intermediate.dense",
                    "layer.10.output.LayerNorm",
                    "layer.10.output.dense",
                    "layer.11.attention.output",
                    "layer.11.attention.self",
                    "layer.11.intermediate.dense",
                    "layer.11.output.LayerNorm",
                    "layer.11.output.dense",
                    "layer.12.attention.output",
                    "layer.12.attention.self",
                    "layer.12.intermediate.dense",
                    "layer.12.output.LayerNorm",
                    "layer.12.output.dense",
                    "layer.13.attention.output",
                    "layer.13.attention.self",
                    "layer.13.intermediate.dense",
                    "layer.13.output.LayerNorm",
                    "layer.13.output.dense",
                    "layer.14.attention.output",
                    "layer.14.attention.self",
                    "layer.14.intermediate.dense",
                    "layer.14.output.LayerNorm",
                    "layer.14.output.dense",
                    "layer.15.attention.output",
                    "layer.15.attention.self",
                    "layer.15.intermediate.dense",
                    "layer.15.output.LayerNorm",
                    "layer.15.output.dense",
                    "layer.16.attention.output",
                    "layer.16.attention.self",
                    "layer.16.intermediate.dense",
                    "layer.16.output.LayerNorm",
                    "layer.16.output.dense",
                    "layer.17.attention.output",
                    "layer.17.attention.self",
                    "layer.17.intermediate.dense",
                    "layer.17.output.LayerNorm",
                    "layer.17.output.dense",
                    "layer.18.attention.output",
                    "layer.18.attention.self",
                    "layer.18.intermediate.dense",
                    "layer.18.output.LayerNorm",
                    "layer.18.output.dense",
                    "layer.19.attention.output",
                    "layer.19.attention.self",
                    "layer.19.intermediate.dense",
                    "layer.19.output.LayerNorm",
                    "layer.19.output.dense",
                    "layer.2.attention.output",
                    "layer.2.attention.self",
                    "layer.2.intermediate.dense",
                    "layer.2.output.LayerNorm",
                    "layer.2.output.dense",
                    "layer.20.attention.output",
                    "layer.20.attention.self",
                    "layer.20.intermediate.dense",
                    "layer.20.output.LayerNorm",
                    "layer.20.output.dense",
                    "layer.21.attention.output",
                    "layer.21.attention.self",
                    "layer.21.intermediate.dense",
                    "layer.21.output.LayerNorm",
                    "layer.21.output.dense",
                    "layer.22.attention.output",
                    "layer.22.attention.self",
                    "layer.22.intermediate.dense",
                    "layer.22.output.LayerNorm",
                    "layer.22.output.dense",
                    "layer.23.attention.output",
                    "layer.23.attention.self",
                    "layer.23.intermediate.dense",
                    "layer.23.output.LayerNorm",
                    "layer.23.output.dense",
                    "layer.3.attention.output",
                    "layer.3.attention.self",
                    "layer.3.intermediate.dense",
                    "layer.3.output.LayerNorm",
                    "layer.3.output.dense",
                    "layer.4.attention.output",
                    "layer.4.attention.self",
                    "layer.4.intermediate.dense",
                    "layer.4.output.LayerNorm",
                    "layer.4.output.dense",
                    "layer.5.attention.output",
                    "layer.5.attention.self",
                    "layer.5.intermediate.dense",
                    "layer.5.output.LayerNorm",
                    "layer.5.output.dense",
                    "layer.6.attention.output",
                    "layer.6.attention.self",
                    "layer.6.intermediate.dense",
                    "layer.6.output.LayerNorm",
                    "layer.6.output.dense",
                    "layer.7.attention.output",
                    "layer.7.attention.self",
                    "layer.7.intermediate.dense",
                    "layer.7.output.LayerNorm",
                    "layer.7.output.dense",
                    "layer.8.attention.output",
                    "layer.8.attention.self",
                    "layer.8.intermediate.dense",
                    "layer.8.output.LayerNorm",
                    "layer.8.output.dense",
                    "layer.9.attention.output",
                    "layer.9.attention.self",
                    "layer.9.intermediate.dense",
                    "layer.9.output.LayerNorm",
                    "layer.9.output.dense",
                    "roberta.embeddings.LayerNorm",
                    "roberta.embeddings.position_embeddings",
                    "roberta.embeddings.token_type_embeddings",
                    "roberta.embeddings.word_embeddings"
                  ],
                  "xaxis": "x",
                  "y": {
                    "bdata": "AACAc6Eu5D8AAIBLBMO/PwAAgA7859Y/AIBCKPmC7j8AAAAXllbmPwAAADiVJ5E/AADAhKgk5T8AAABNCe3VPwAAXUbkkO0/AAAAMdQo5j8AAACwtLqRPwAAgPhxWeQ/AACADqvK1j8AQHGaLprwPwAAAEKyUus/AAAA0AXEkj8AAEAzRpTmPwAAACXm0tg/AGB1s6JR8z8AAABjcFzsPwAAALjjWpI/AABAFa+w5j8AAICRVZrYPwBgRV1GYvQ/AAAANLxu7T8AAAAoU76TPwAAAHARR+c/AACAwahq2T8AgNLzFjT1PwAAAGAiMO4/AAAAcJ3/kj8AAABxvpHnPwAAgEddcto/AMARvrxy9j8AAABAsozuPwAAAJAgoJI/AACAM/5/5z8AAIAE5uDZPwBglmZjmvU/AAAASHRp7j8AAAAYkN2SPwAAgPuVp+Y/AACAsNb22T8AYCKW6jj1PwAAAPHVYe0/AAAAqC2rkj8AAMAJkaLkPwAAAAHbYNk/AIAtTly/9D8AAABn4MvsPwAAACi94ZA/AACAt2Nn4z8AAIDAEbLZPwBgBzJJjPQ/AAAA/Kq76z8AAACAeZmPPwAAAJ5uy+E/AAAAmutp1z8A8JWWAQfyPwAAADl1WOk/AAAAcPqXjz8AAMAziB3hPwAAAMlgENU/AIBBxMEa7T8AAABjtz/nPwAAAGBESpE/AAAA8ckx4j8AAAD81vHYPwCAgFzQ/PE/AAAAvUE26j8AAADAPJaOPwAAIDr/3eA/AADAtJ2B2z8AgBJT3CzyPwAAANiWKuw/AAAAcCEGjj8AACDq1UjgPwAAQG7VZNw/AMAvwXZ08j8AAIDclLvwPwAAAHSNs5A/AADAyriD5D8AAMCYV9zfPwAAcx6h9fM/AACAIBFe9T8AAADqgQelPwAAQDvSlvE/AAAA5FAD1T8AABRT26TtPwAAABBs0ug/AAAA2H1IkT8AAMAlTBDmPwAAANw/4tM/AEBCNKIu7D8AAAAkkD3pPwAAAJgo15A/AACA30AV5j8AAIBH6IDTPwCAWy3qlOs/AAAAIMYK6T8AAADYP++QPwAAQLKFwOU/AACANxmt0z8AwGFoCK/sPwAAADyrseg/AAAAeOsvkT8AAABbKOrkPwAAAE3Ji9M/AIBv3d2m6z8AAABa5mPoPwAAAMi5ypE/AACAcAia5D8AAIDhRrPUPwBALRRCe+4/AAAASEae5z8AAADIfkiSPwAAQCdPA+Q/AAAAkaPb1D8AwMctFnzuPwAAAPjhoug/AAAAMEn0kD8AAICj533kPwAAAAAE0ZM/AAAAwHoGsT8AAABgWd2BPwAAAMBSpuQ/",
                    "dtype": "f8"
                  },
                  "yaxis": "y"
                },
                {
                  "alignmentgroup": "True",
                  "hovertemplate": "model=task_arithmetic<br>layer=%{x}<br>delta_l2_sum=%{y}<extra></extra>",
                  "legendgroup": "task_arithmetic",
                  "marker": {
                    "color": "#00cc96",
                    "pattern": {
                      "shape": ""
                    }
                  },
                  "name": "task_arithmetic",
                  "offsetgroup": "task_arithmetic",
                  "orientation": "v",
                  "showlegend": true,
                  "textposition": "auto",
                  "type": "bar",
                  "x": [
                    "classifier.dense",
                    "classifier.out_proj",
                    "layer.0.attention.output",
                    "layer.0.attention.self",
                    "layer.0.intermediate.dense",
                    "layer.0.output.LayerNorm",
                    "layer.0.output.dense",
                    "layer.1.attention.output",
                    "layer.1.attention.self",
                    "layer.1.intermediate.dense",
                    "layer.1.output.LayerNorm",
                    "layer.1.output.dense",
                    "layer.10.attention.output",
                    "layer.10.attention.self",
                    "layer.10.intermediate.dense",
                    "layer.10.output.LayerNorm",
                    "layer.10.output.dense",
                    "layer.11.attention.output",
                    "layer.11.attention.self",
                    "layer.11.intermediate.dense",
                    "layer.11.output.LayerNorm",
                    "layer.11.output.dense",
                    "layer.12.attention.output",
                    "layer.12.attention.self",
                    "layer.12.intermediate.dense",
                    "layer.12.output.LayerNorm",
                    "layer.12.output.dense",
                    "layer.13.attention.output",
                    "layer.13.attention.self",
                    "layer.13.intermediate.dense",
                    "layer.13.output.LayerNorm",
                    "layer.13.output.dense",
                    "layer.14.attention.output",
                    "layer.14.attention.self",
                    "layer.14.intermediate.dense",
                    "layer.14.output.LayerNorm",
                    "layer.14.output.dense",
                    "layer.15.attention.output",
                    "layer.15.attention.self",
                    "layer.15.intermediate.dense",
                    "layer.15.output.LayerNorm",
                    "layer.15.output.dense",
                    "layer.16.attention.output",
                    "layer.16.attention.self",
                    "layer.16.intermediate.dense",
                    "layer.16.output.LayerNorm",
                    "layer.16.output.dense",
                    "layer.17.attention.output",
                    "layer.17.attention.self",
                    "layer.17.intermediate.dense",
                    "layer.17.output.LayerNorm",
                    "layer.17.output.dense",
                    "layer.18.attention.output",
                    "layer.18.attention.self",
                    "layer.18.intermediate.dense",
                    "layer.18.output.LayerNorm",
                    "layer.18.output.dense",
                    "layer.19.attention.output",
                    "layer.19.attention.self",
                    "layer.19.intermediate.dense",
                    "layer.19.output.LayerNorm",
                    "layer.19.output.dense",
                    "layer.2.attention.output",
                    "layer.2.attention.self",
                    "layer.2.intermediate.dense",
                    "layer.2.output.LayerNorm",
                    "layer.2.output.dense",
                    "layer.20.attention.output",
                    "layer.20.attention.self",
                    "layer.20.intermediate.dense",
                    "layer.20.output.LayerNorm",
                    "layer.20.output.dense",
                    "layer.21.attention.output",
                    "layer.21.attention.self",
                    "layer.21.intermediate.dense",
                    "layer.21.output.LayerNorm",
                    "layer.21.output.dense",
                    "layer.22.attention.output",
                    "layer.22.attention.self",
                    "layer.22.intermediate.dense",
                    "layer.22.output.LayerNorm",
                    "layer.22.output.dense",
                    "layer.23.attention.output",
                    "layer.23.attention.self",
                    "layer.23.intermediate.dense",
                    "layer.23.output.LayerNorm",
                    "layer.23.output.dense",
                    "layer.3.attention.output",
                    "layer.3.attention.self",
                    "layer.3.intermediate.dense",
                    "layer.3.output.LayerNorm",
                    "layer.3.output.dense",
                    "layer.4.attention.output",
                    "layer.4.attention.self",
                    "layer.4.intermediate.dense",
                    "layer.4.output.LayerNorm",
                    "layer.4.output.dense",
                    "layer.5.attention.output",
                    "layer.5.attention.self",
                    "layer.5.intermediate.dense",
                    "layer.5.output.LayerNorm",
                    "layer.5.output.dense",
                    "layer.6.attention.output",
                    "layer.6.attention.self",
                    "layer.6.intermediate.dense",
                    "layer.6.output.LayerNorm",
                    "layer.6.output.dense",
                    "layer.7.attention.output",
                    "layer.7.attention.self",
                    "layer.7.intermediate.dense",
                    "layer.7.output.LayerNorm",
                    "layer.7.output.dense",
                    "layer.8.attention.output",
                    "layer.8.attention.self",
                    "layer.8.intermediate.dense",
                    "layer.8.output.LayerNorm",
                    "layer.8.output.dense",
                    "layer.9.attention.output",
                    "layer.9.attention.self",
                    "layer.9.intermediate.dense",
                    "layer.9.output.LayerNorm",
                    "layer.9.output.dense",
                    "roberta.embeddings.LayerNorm",
                    "roberta.embeddings.position_embeddings",
                    "roberta.embeddings.token_type_embeddings",
                    "roberta.embeddings.word_embeddings"
                  ],
                  "xaxis": "x",
                  "y": {
                    "bdata": "AADACqTC4T8AAIATIji8PwAAgOxwL9Y/AIBTmk6W7T8AAABVR7TlPwAAAEBZvJA/AADAx4OA5D8AAICiKULVPwCAH0Z6quw/AAAAGrl35T8AAAD47UmRPwAAAEKlw+M/AACAXFsE1j8AAKJAFQ7wPwAAALR0Xeo/AAAAENzHkT8AAMAP5cblPwAAgJ8e3dc/AKCGfpqx8j8AAAA6UFbrPwAAAGDXX5E/AADA1ZHL5T8AAIDmUKHXPwDgm0FDtfM/AAAAjy1L7D8AAABAwnSSPwAAgMv6SuY/AACAjI0/2D8AUADC4HP0PwAAAJxv3uw/AAAAmOL6kT8AAMDZTXTmPwAAAL4EENk/AKDBnSdz9T8AAAAWdhHtPwAAABglb5E/AABAlP9R5j8AAICO/0bYPwCAW+C+ePQ/AAAAny2c7D8AAACQtceRPwAAwIfMT+U/AAAALI9J2D8AwON1iQv0PwAAAKvUlus/AAAAwIhYkT8AAEBR2zLjPwAAgDZshdc/AIBrNUl48z8AAAAL0MrqPwAAAIAmhY8/AADAuZbq4T8AAICb4ZLXPwCgkoWVPfM/AAAAzwGk6T8AAAAwQKmMPwAAgJlESeA/AACAVWZI1T8AgNhPubPwPwAAgFC3Lec/AAAA2DocjD8AAACcIRHfPwAAABy5TdQ/AIDWJBAk7D8AAADYTGrmPwAAAJCPnJA/AAAA5Q6H4T8AAEARqHnWPwCAG3vob/A/AACAC+mr5z8AAADY5q+KPwAAgN85NN4/AAAAYrWx2D8AAP1cvovwPwAAAFW5Ouk/AAAAMM5fij8AAIBmN+LcPwAAQF6iUdk/ACDKTqmP8D8AAAC8L+DtPwAAAAgwTY0/AACgik8j4j8AAEBsHSXcPwDA3DlP9PE/AAAAhhTf8j8AAABE89qjPwAAQGbG2+4/AACAQ5tX1D8AgEtW3pXsPwAAAM2Y9ec/AAAAcNCpkD8AAMDCAF3lPwAAgHnGQdM/AIDtwPI96z8AAACkFWroPwAAAHBlYpA/AABAeHZo5T8AAIDHH+XSPwAALyVYquo/AAAAM/4s6D8AAAAIdXqQPwAAAL2qBeU/AAAAYiwR0z8AgE++TKvrPwAAAJIq0Oc/AAAAAImgkD8AAACXAC3kPwAAgMoy3tI/AAACf1i86j8AAABX24rnPwAAAFAcOZE/AACAqLn84z8AAIBJ3frTPwAAmlOOfO0/AAAAV1fF5j8AAADIV+eRPwAAwIueYuM/AACAFYI01D8AQOs/E4rtPwAAAFE1t+c/AAAAuK4zkD8AAECK4cHjPwAAAOCJ9pI/AAAAoE8msD8AAACgwACBPwAAAABH9uM/",
                    "dtype": "f8"
                  },
                  "yaxis": "y"
                }
              ],
              "layout": {
                "barmode": "group",
                "legend": {
                  "title": {
                    "text": "model"
                  },
                  "tracegroupgap": 0
                },
                "template": {
                  "data": {
                    "bar": [
                      {
                        "error_x": {
                          "color": "#2a3f5f"
                        },
                        "error_y": {
                          "color": "#2a3f5f"
                        },
                        "marker": {
                          "line": {
                            "color": "#E5ECF6",
                            "width": 0.5
                          },
                          "pattern": {
                            "fillmode": "overlay",
                            "size": 10,
                            "solidity": 0.2
                          }
                        },
                        "type": "bar"
                      }
                    ],
                    "barpolar": [
                      {
                        "marker": {
                          "line": {
                            "color": "#E5ECF6",
                            "width": 0.5
                          },
                          "pattern": {
                            "fillmode": "overlay",
                            "size": 10,
                            "solidity": 0.2
                          }
                        },
                        "type": "barpolar"
                      }
                    ],
                    "carpet": [
                      {
                        "aaxis": {
                          "endlinecolor": "#2a3f5f",
                          "gridcolor": "white",
                          "linecolor": "white",
                          "minorgridcolor": "white",
                          "startlinecolor": "#2a3f5f"
                        },
                        "baxis": {
                          "endlinecolor": "#2a3f5f",
                          "gridcolor": "white",
                          "linecolor": "white",
                          "minorgridcolor": "white",
                          "startlinecolor": "#2a3f5f"
                        },
                        "type": "carpet"
                      }
                    ],
                    "choropleth": [
                      {
                        "colorbar": {
                          "outlinewidth": 0,
                          "ticks": ""
                        },
                        "type": "choropleth"
                      }
                    ],
                    "contour": [
                      {
                        "colorbar": {
                          "outlinewidth": 0,
                          "ticks": ""
                        },
                        "colorscale": [
                          [
                            0,
                            "#0d0887"
                          ],
                          [
                            0.1111111111111111,
                            "#46039f"
                          ],
                          [
                            0.2222222222222222,
                            "#7201a8"
                          ],
                          [
                            0.3333333333333333,
                            "#9c179e"
                          ],
                          [
                            0.4444444444444444,
                            "#bd3786"
                          ],
                          [
                            0.5555555555555556,
                            "#d8576b"
                          ],
                          [
                            0.6666666666666666,
                            "#ed7953"
                          ],
                          [
                            0.7777777777777778,
                            "#fb9f3a"
                          ],
                          [
                            0.8888888888888888,
                            "#fdca26"
                          ],
                          [
                            1,
                            "#f0f921"
                          ]
                        ],
                        "type": "contour"
                      }
                    ],
                    "contourcarpet": [
                      {
                        "colorbar": {
                          "outlinewidth": 0,
                          "ticks": ""
                        },
                        "type": "contourcarpet"
                      }
                    ],
                    "heatmap": [
                      {
                        "colorbar": {
                          "outlinewidth": 0,
                          "ticks": ""
                        },
                        "colorscale": [
                          [
                            0,
                            "#0d0887"
                          ],
                          [
                            0.1111111111111111,
                            "#46039f"
                          ],
                          [
                            0.2222222222222222,
                            "#7201a8"
                          ],
                          [
                            0.3333333333333333,
                            "#9c179e"
                          ],
                          [
                            0.4444444444444444,
                            "#bd3786"
                          ],
                          [
                            0.5555555555555556,
                            "#d8576b"
                          ],
                          [
                            0.6666666666666666,
                            "#ed7953"
                          ],
                          [
                            0.7777777777777778,
                            "#fb9f3a"
                          ],
                          [
                            0.8888888888888888,
                            "#fdca26"
                          ],
                          [
                            1,
                            "#f0f921"
                          ]
                        ],
                        "type": "heatmap"
                      }
                    ],
                    "histogram": [
                      {
                        "marker": {
                          "pattern": {
                            "fillmode": "overlay",
                            "size": 10,
                            "solidity": 0.2
                          }
                        },
                        "type": "histogram"
                      }
                    ],
                    "histogram2d": [
                      {
                        "colorbar": {
                          "outlinewidth": 0,
                          "ticks": ""
                        },
                        "colorscale": [
                          [
                            0,
                            "#0d0887"
                          ],
                          [
                            0.1111111111111111,
                            "#46039f"
                          ],
                          [
                            0.2222222222222222,
                            "#7201a8"
                          ],
                          [
                            0.3333333333333333,
                            "#9c179e"
                          ],
                          [
                            0.4444444444444444,
                            "#bd3786"
                          ],
                          [
                            0.5555555555555556,
                            "#d8576b"
                          ],
                          [
                            0.6666666666666666,
                            "#ed7953"
                          ],
                          [
                            0.7777777777777778,
                            "#fb9f3a"
                          ],
                          [
                            0.8888888888888888,
                            "#fdca26"
                          ],
                          [
                            1,
                            "#f0f921"
                          ]
                        ],
                        "type": "histogram2d"
                      }
                    ],
                    "histogram2dcontour": [
                      {
                        "colorbar": {
                          "outlinewidth": 0,
                          "ticks": ""
                        },
                        "colorscale": [
                          [
                            0,
                            "#0d0887"
                          ],
                          [
                            0.1111111111111111,
                            "#46039f"
                          ],
                          [
                            0.2222222222222222,
                            "#7201a8"
                          ],
                          [
                            0.3333333333333333,
                            "#9c179e"
                          ],
                          [
                            0.4444444444444444,
                            "#bd3786"
                          ],
                          [
                            0.5555555555555556,
                            "#d8576b"
                          ],
                          [
                            0.6666666666666666,
                            "#ed7953"
                          ],
                          [
                            0.7777777777777778,
                            "#fb9f3a"
                          ],
                          [
                            0.8888888888888888,
                            "#fdca26"
                          ],
                          [
                            1,
                            "#f0f921"
                          ]
                        ],
                        "type": "histogram2dcontour"
                      }
                    ],
                    "mesh3d": [
                      {
                        "colorbar": {
                          "outlinewidth": 0,
                          "ticks": ""
                        },
                        "type": "mesh3d"
                      }
                    ],
                    "parcoords": [
                      {
                        "line": {
                          "colorbar": {
                            "outlinewidth": 0,
                            "ticks": ""
                          }
                        },
                        "type": "parcoords"
                      }
                    ],
                    "pie": [
                      {
                        "automargin": true,
                        "type": "pie"
                      }
                    ],
                    "scatter": [
                      {
                        "fillpattern": {
                          "fillmode": "overlay",
                          "size": 10,
                          "solidity": 0.2
                        },
                        "type": "scatter"
                      }
                    ],
                    "scatter3d": [
                      {
                        "line": {
                          "colorbar": {
                            "outlinewidth": 0,
                            "ticks": ""
                          }
                        },
                        "marker": {
                          "colorbar": {
                            "outlinewidth": 0,
                            "ticks": ""
                          }
                        },
                        "type": "scatter3d"
                      }
                    ],
                    "scattercarpet": [
                      {
                        "marker": {
                          "colorbar": {
                            "outlinewidth": 0,
                            "ticks": ""
                          }
                        },
                        "type": "scattercarpet"
                      }
                    ],
                    "scattergeo": [
                      {
                        "marker": {
                          "colorbar": {
                            "outlinewidth": 0,
                            "ticks": ""
                          }
                        },
                        "type": "scattergeo"
                      }
                    ],
                    "scattergl": [
                      {
                        "marker": {
                          "colorbar": {
                            "outlinewidth": 0,
                            "ticks": ""
                          }
                        },
                        "type": "scattergl"
                      }
                    ],
                    "scattermap": [
                      {
                        "marker": {
                          "colorbar": {
                            "outlinewidth": 0,
                            "ticks": ""
                          }
                        },
                        "type": "scattermap"
                      }
                    ],
                    "scattermapbox": [
                      {
                        "marker": {
                          "colorbar": {
                            "outlinewidth": 0,
                            "ticks": ""
                          }
                        },
                        "type": "scattermapbox"
                      }
                    ],
                    "scatterpolar": [
                      {
                        "marker": {
                          "colorbar": {
                            "outlinewidth": 0,
                            "ticks": ""
                          }
                        },
                        "type": "scatterpolar"
                      }
                    ],
                    "scatterpolargl": [
                      {
                        "marker": {
                          "colorbar": {
                            "outlinewidth": 0,
                            "ticks": ""
                          }
                        },
                        "type": "scatterpolargl"
                      }
                    ],
                    "scatterternary": [
                      {
                        "marker": {
                          "colorbar": {
                            "outlinewidth": 0,
                            "ticks": ""
                          }
                        },
                        "type": "scatterternary"
                      }
                    ],
                    "surface": [
                      {
                        "colorbar": {
                          "outlinewidth": 0,
                          "ticks": ""
                        },
                        "colorscale": [
                          [
                            0,
                            "#0d0887"
                          ],
                          [
                            0.1111111111111111,
                            "#46039f"
                          ],
                          [
                            0.2222222222222222,
                            "#7201a8"
                          ],
                          [
                            0.3333333333333333,
                            "#9c179e"
                          ],
                          [
                            0.4444444444444444,
                            "#bd3786"
                          ],
                          [
                            0.5555555555555556,
                            "#d8576b"
                          ],
                          [
                            0.6666666666666666,
                            "#ed7953"
                          ],
                          [
                            0.7777777777777778,
                            "#fb9f3a"
                          ],
                          [
                            0.8888888888888888,
                            "#fdca26"
                          ],
                          [
                            1,
                            "#f0f921"
                          ]
                        ],
                        "type": "surface"
                      }
                    ],
                    "table": [
                      {
                        "cells": {
                          "fill": {
                            "color": "#EBF0F8"
                          },
                          "line": {
                            "color": "white"
                          }
                        },
                        "header": {
                          "fill": {
                            "color": "#C8D4E3"
                          },
                          "line": {
                            "color": "white"
                          }
                        },
                        "type": "table"
                      }
                    ]
                  },
                  "layout": {
                    "annotationdefaults": {
                      "arrowcolor": "#2a3f5f",
                      "arrowhead": 0,
                      "arrowwidth": 1
                    },
                    "autotypenumbers": "strict",
                    "coloraxis": {
                      "colorbar": {
                        "outlinewidth": 0,
                        "ticks": ""
                      }
                    },
                    "colorscale": {
                      "diverging": [
                        [
                          0,
                          "#8e0152"
                        ],
                        [
                          0.1,
                          "#c51b7d"
                        ],
                        [
                          0.2,
                          "#de77ae"
                        ],
                        [
                          0.3,
                          "#f1b6da"
                        ],
                        [
                          0.4,
                          "#fde0ef"
                        ],
                        [
                          0.5,
                          "#f7f7f7"
                        ],
                        [
                          0.6,
                          "#e6f5d0"
                        ],
                        [
                          0.7,
                          "#b8e186"
                        ],
                        [
                          0.8,
                          "#7fbc41"
                        ],
                        [
                          0.9,
                          "#4d9221"
                        ],
                        [
                          1,
                          "#276419"
                        ]
                      ],
                      "sequential": [
                        [
                          0,
                          "#0d0887"
                        ],
                        [
                          0.1111111111111111,
                          "#46039f"
                        ],
                        [
                          0.2222222222222222,
                          "#7201a8"
                        ],
                        [
                          0.3333333333333333,
                          "#9c179e"
                        ],
                        [
                          0.4444444444444444,
                          "#bd3786"
                        ],
                        [
                          0.5555555555555556,
                          "#d8576b"
                        ],
                        [
                          0.6666666666666666,
                          "#ed7953"
                        ],
                        [
                          0.7777777777777778,
                          "#fb9f3a"
                        ],
                        [
                          0.8888888888888888,
                          "#fdca26"
                        ],
                        [
                          1,
                          "#f0f921"
                        ]
                      ],
                      "sequentialminus": [
                        [
                          0,
                          "#0d0887"
                        ],
                        [
                          0.1111111111111111,
                          "#46039f"
                        ],
                        [
                          0.2222222222222222,
                          "#7201a8"
                        ],
                        [
                          0.3333333333333333,
                          "#9c179e"
                        ],
                        [
                          0.4444444444444444,
                          "#bd3786"
                        ],
                        [
                          0.5555555555555556,
                          "#d8576b"
                        ],
                        [
                          0.6666666666666666,
                          "#ed7953"
                        ],
                        [
                          0.7777777777777778,
                          "#fb9f3a"
                        ],
                        [
                          0.8888888888888888,
                          "#fdca26"
                        ],
                        [
                          1,
                          "#f0f921"
                        ]
                      ]
                    },
                    "colorway": [
                      "#636efa",
                      "#EF553B",
                      "#00cc96",
                      "#ab63fa",
                      "#FFA15A",
                      "#19d3f3",
                      "#FF6692",
                      "#B6E880",
                      "#FF97FF",
                      "#FECB52"
                    ],
                    "font": {
                      "color": "#2a3f5f"
                    },
                    "geo": {
                      "bgcolor": "white",
                      "lakecolor": "white",
                      "landcolor": "#E5ECF6",
                      "showlakes": true,
                      "showland": true,
                      "subunitcolor": "white"
                    },
                    "hoverlabel": {
                      "align": "left"
                    },
                    "hovermode": "closest",
                    "mapbox": {
                      "style": "light"
                    },
                    "paper_bgcolor": "white",
                    "plot_bgcolor": "#E5ECF6",
                    "polar": {
                      "angularaxis": {
                        "gridcolor": "white",
                        "linecolor": "white",
                        "ticks": ""
                      },
                      "bgcolor": "#E5ECF6",
                      "radialaxis": {
                        "gridcolor": "white",
                        "linecolor": "white",
                        "ticks": ""
                      }
                    },
                    "scene": {
                      "xaxis": {
                        "backgroundcolor": "#E5ECF6",
                        "gridcolor": "white",
                        "gridwidth": 2,
                        "linecolor": "white",
                        "showbackground": true,
                        "ticks": "",
                        "zerolinecolor": "white"
                      },
                      "yaxis": {
                        "backgroundcolor": "#E5ECF6",
                        "gridcolor": "white",
                        "gridwidth": 2,
                        "linecolor": "white",
                        "showbackground": true,
                        "ticks": "",
                        "zerolinecolor": "white"
                      },
                      "zaxis": {
                        "backgroundcolor": "#E5ECF6",
                        "gridcolor": "white",
                        "gridwidth": 2,
                        "linecolor": "white",
                        "showbackground": true,
                        "ticks": "",
                        "zerolinecolor": "white"
                      }
                    },
                    "shapedefaults": {
                      "line": {
                        "color": "#2a3f5f"
                      }
                    },
                    "ternary": {
                      "aaxis": {
                        "gridcolor": "white",
                        "linecolor": "white",
                        "ticks": ""
                      },
                      "baxis": {
                        "gridcolor": "white",
                        "linecolor": "white",
                        "ticks": ""
                      },
                      "bgcolor": "#E5ECF6",
                      "caxis": {
                        "gridcolor": "white",
                        "linecolor": "white",
                        "ticks": ""
                      }
                    },
                    "title": {
                      "x": 0.05
                    },
                    "xaxis": {
                      "automargin": true,
                      "gridcolor": "white",
                      "linecolor": "white",
                      "ticks": "",
                      "title": {
                        "standoff": 15
                      },
                      "zerolinecolor": "white",
                      "zerolinewidth": 2
                    },
                    "yaxis": {
                      "automargin": true,
                      "gridcolor": "white",
                      "linecolor": "white",
                      "ticks": "",
                      "title": {
                        "standoff": 15
                      },
                      "zerolinecolor": "white",
                      "zerolinewidth": 2
                    }
                  }
                },
                "title": {
                  "text": "Layer-level parameter movement (L2 sum)"
                },
                "xaxis": {
                  "anchor": "y",
                  "domain": [
                    0,
                    1
                  ],
                  "title": {
                    "text": "layer"
                  }
                },
                "yaxis": {
                  "anchor": "x",
                  "domain": [
                    0,
                    1
                  ],
                  "title": {
                    "text": "delta_l2_sum"
                  }
                }
              }
            }
          },
          "metadata": {},
          "output_type": "display_data"
        }
      ],
      "source": [
        "if not layer_deltas_df.empty:\n",
        "    fig = px.bar(\n",
        "        layer_deltas_df,\n",
        "        x=\"layer\",\n",
        "        y=\"delta_l2_sum\",\n",
        "        color=\"model\",\n",
        "        barmode=\"group\",\n",
        "        title=\"Layer-level parameter movement (L2 sum)\",\n",
        "    )\n",
        "    fig.show()"
      ]
    },
    {
      "cell_type": "markdown",
      "id": "b8a5a775",
      "metadata": {},
      "source": [
        "## 5. Probe texts\n",
        "\n",
        "Provide a small batch of utterances (preferably in the target language) for attention/activation analysis."
      ]
    },
    {
      "cell_type": "code",
      "execution_count": 37,
      "id": "f17d4d33",
      "metadata": {},
      "outputs": [
        {
          "data": {
            "text/plain": [
              "['Bagaimana cara meningkatkan pemesanan penerbangan saya?',\n",
              " 'Tunjukkan prakiraan cuaca untuk besok malam.',\n",
              " 'Saya perlu mengatur ulang kata sandi untuk perbankan online saya.',\n",
              " 'Cari restoran vegetarian di dekat lokasi saya.',\n",
              " 'Terjemahkan kalimat ini ke dalam bahasa Prancis.',\n",
              " 'Ingatkan saya untuk menelepon ibu saya pukul 6 sore.']"
            ]
          },
          "execution_count": 37,
          "metadata": {},
          "output_type": "execute_result"
        }
      ],
      "source": [
        "SAMPLE_TEXTS = ensure_text_samples(\n",
        "    file_hint=PROJECT_ROOT / \"assets\" / \"sample_prompts.txt\",\n",
        "    limit=12,\n",
        ")\n",
        "SAMPLE_TEXTS = [\n",
        "    \"Bagaimana cara meningkatkan pemesanan penerbangan saya?\",\n",
        "    \"Tunjukkan prakiraan cuaca untuk besok malam.\",\n",
        "    \"Saya perlu mengatur ulang kata sandi untuk perbankan online saya.\",\n",
        "    \"Cari restoran vegetarian di dekat lokasi saya.\",\n",
        "    \"Terjemahkan kalimat ini ke dalam bahasa Prancis.\",\n",
        "    \"Ingatkan saya untuk menelepon ibu saya pukul 6 sore.\"\n",
        "]\n",
        "\n",
        "SAMPLE_TEXTS"
      ]
    },
    {
      "cell_type": "markdown",
      "id": "09f9df35",
      "metadata": {},
      "source": [
        "## 6. Collect signals\n",
        "\n",
        "Capture attentions, hidden states, and logits for each model over the probe texts."
      ]
    },
    {
      "cell_type": "code",
      "execution_count": 38,
      "id": "74f653ca",
      "metadata": {},
      "outputs": [
        {
          "data": {
            "text/html": [
              "<div>\n",
              "<style scoped>\n",
              "    .dataframe tbody tr th:only-of-type {\n",
              "        vertical-align: middle;\n",
              "    }\n",
              "\n",
              "    .dataframe tbody tr th {\n",
              "        vertical-align: top;\n",
              "    }\n",
              "\n",
              "    .dataframe thead th {\n",
              "        text-align: right;\n",
              "    }\n",
              "</style>\n",
              "<table border=\"1\" class=\"dataframe\">\n",
              "  <thead>\n",
              "    <tr style=\"text-align: right;\">\n",
              "      <th></th>\n",
              "      <th>layer</th>\n",
              "      <th>head</th>\n",
              "      <th>mean_prob</th>\n",
              "      <th>entropy</th>\n",
              "      <th>cls_focus</th>\n",
              "      <th>diagonal_focus</th>\n",
              "      <th>model</th>\n",
              "    </tr>\n",
              "  </thead>\n",
              "  <tbody>\n",
              "    <tr>\n",
              "      <th>0</th>\n",
              "      <td>0</td>\n",
              "      <td>0</td>\n",
              "      <td>0.066667</td>\n",
              "      <td>1.039285</td>\n",
              "      <td>0.168690</td>\n",
              "      <td>0.526161</td>\n",
              "      <td>baseline</td>\n",
              "    </tr>\n",
              "    <tr>\n",
              "      <th>1</th>\n",
              "      <td>0</td>\n",
              "      <td>1</td>\n",
              "      <td>0.066667</td>\n",
              "      <td>1.810518</td>\n",
              "      <td>0.199591</td>\n",
              "      <td>0.088894</td>\n",
              "      <td>baseline</td>\n",
              "    </tr>\n",
              "    <tr>\n",
              "      <th>2</th>\n",
              "      <td>0</td>\n",
              "      <td>2</td>\n",
              "      <td>0.066667</td>\n",
              "      <td>1.825520</td>\n",
              "      <td>0.172082</td>\n",
              "      <td>0.101023</td>\n",
              "      <td>baseline</td>\n",
              "    </tr>\n",
              "    <tr>\n",
              "      <th>3</th>\n",
              "      <td>0</td>\n",
              "      <td>3</td>\n",
              "      <td>0.066667</td>\n",
              "      <td>1.456228</td>\n",
              "      <td>0.076756</td>\n",
              "      <td>0.084058</td>\n",
              "      <td>baseline</td>\n",
              "    </tr>\n",
              "    <tr>\n",
              "      <th>4</th>\n",
              "      <td>0</td>\n",
              "      <td>4</td>\n",
              "      <td>0.066667</td>\n",
              "      <td>1.898775</td>\n",
              "      <td>0.258461</td>\n",
              "      <td>0.038964</td>\n",
              "      <td>baseline</td>\n",
              "    </tr>\n",
              "  </tbody>\n",
              "</table>\n",
              "</div>"
            ],
            "text/plain": [
              "   layer  head  mean_prob   entropy  cls_focus  diagonal_focus     model\n",
              "0      0     0   0.066667  1.039285   0.168690        0.526161  baseline\n",
              "1      0     1   0.066667  1.810518   0.199591        0.088894  baseline\n",
              "2      0     2   0.066667  1.825520   0.172082        0.101023  baseline\n",
              "3      0     3   0.066667  1.456228   0.076756        0.084058  baseline\n",
              "4      0     4   0.066667  1.898775   0.258461        0.038964  baseline"
            ]
          },
          "metadata": {},
          "output_type": "display_data"
        }
      ],
      "source": [
        "signals = {\n",
        "    name: collect_model_signals(artifact, SAMPLE_TEXTS, device=DEVICE)\n",
        "    for name, artifact in artifacts.items()\n",
        "}\n",
        "\n",
        "attention_records = []\n",
        "for name, signal in signals.items():\n",
        "    attentions = signal.get(\"attentions\")\n",
        "    if not attentions:\n",
        "        continue\n",
        "    attn_df = summarize_attentions(attentions)\n",
        "    attn_df[\"model\"] = name\n",
        "    attention_records.append(attn_df)\n",
        "\n",
        "attention_df = pd.concat(attention_records, ignore_index=True) if attention_records else pd.DataFrame()\n",
        "display(attention_df.head())"
      ]
    },
    {
      "cell_type": "code",
      "execution_count": 39,
      "id": "e5043370",
      "metadata": {},
      "outputs": [
        {
          "data": {
            "application/vnd.plotly.v1+json": {
              "config": {
                "plotlyServerURL": "https://plot.ly"
              },
              "data": [
                {
                  "alignmentgroup": "True",
                  "boxpoints": "all",
                  "hovertemplate": "model=baseline<br>layer=%{x}<br>entropy=%{y}<extra></extra>",
                  "legendgroup": "baseline",
                  "marker": {
                    "color": "#636efa"
                  },
                  "name": "baseline",
                  "notched": false,
                  "offsetgroup": "baseline",
                  "orientation": "v",
                  "showlegend": true,
                  "type": "box",
                  "x": {
                    "bdata": "AAAAAAAAAAAAAAAAAAAAAAEBAQEBAQEBAQEBAQEBAQECAgICAgICAgICAgICAgICAwMDAwMDAwMDAwMDAwMDAwQEBAQEBAQEBAQEBAQEBAQFBQUFBQUFBQUFBQUFBQUFBgYGBgYGBgYGBgYGBgYGBgcHBwcHBwcHBwcHBwcHBwcICAgICAgICAgICAgICAgICQkJCQkJCQkJCQkJCQkJCQoKCgoKCgoKCgoKCgoKCgoLCwsLCwsLCwsLCwsLCwsLDAwMDAwMDAwMDAwMDAwMDA0NDQ0NDQ0NDQ0NDQ0NDQ0ODg4ODg4ODg4ODg4ODg4ODw8PDw8PDw8PDw8PDw8PDxAQEBAQEBAQEBAQEBAQEBAREREREREREREREREREREREhISEhISEhISEhISEhISEhMTExMTExMTExMTExMTExMUFBQUFBQUFBQUFBQUFBQUFRUVFRUVFRUVFRUVFRUVFRYWFhYWFhYWFhYWFhYWFhYXFxcXFxcXFxcXFxcXFxcX",
                    "dtype": "i1"
                  },
                  "x0": " ",
                  "xaxis": "x",
                  "y": {
                    "bdata": "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",
                    "dtype": "f8"
                  },
                  "y0": " ",
                  "yaxis": "y"
                },
                {
                  "alignmentgroup": "True",
                  "boxpoints": "all",
                  "hovertemplate": "model=average_merge<br>layer=%{x}<br>entropy=%{y}<extra></extra>",
                  "legendgroup": "average_merge",
                  "marker": {
                    "color": "#EF553B"
                  },
                  "name": "average_merge",
                  "notched": false,
                  "offsetgroup": "average_merge",
                  "orientation": "v",
                  "showlegend": true,
                  "type": "box",
                  "x": {
                    "bdata": "AAAAAAAAAAAAAAAAAAAAAAEBAQEBAQEBAQEBAQEBAQECAgICAgICAgICAgICAgICAwMDAwMDAwMDAwMDAwMDAwQEBAQEBAQEBAQEBAQEBAQFBQUFBQUFBQUFBQUFBQUFBgYGBgYGBgYGBgYGBgYGBgcHBwcHBwcHBwcHBwcHBwcICAgICAgICAgICAgICAgICQkJCQkJCQkJCQkJCQkJCQoKCgoKCgoKCgoKCgoKCgoLCwsLCwsLCwsLCwsLCwsLDAwMDAwMDAwMDAwMDAwMDA0NDQ0NDQ0NDQ0NDQ0NDQ0ODg4ODg4ODg4ODg4ODg4ODw8PDw8PDw8PDw8PDw8PDxAQEBAQEBAQEBAQEBAQEBAREREREREREREREREREREREhISEhISEhISEhISEhISEhMTExMTExMTExMTExMTExMUFBQUFBQUFBQUFBQUFBQUFRUVFRUVFRUVFRUVFRUVFRYWFhYWFhYWFhYWFhYWFhYXFxcXFxcXFxcXFxcXFxcX",
                    "dtype": "i1"
                  },
                  "x0": " ",
                  "xaxis": "x",
                  "y": {
                    "bdata": "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",
                    "dtype": "f8"
                  },
                  "y0": " ",
                  "yaxis": "y"
                },
                {
                  "alignmentgroup": "True",
                  "boxpoints": "all",
                  "hovertemplate": "model=similarity_merge<br>layer=%{x}<br>entropy=%{y}<extra></extra>",
                  "legendgroup": "similarity_merge",
                  "marker": {
                    "color": "#00cc96"
                  },
                  "name": "similarity_merge",
                  "notched": false,
                  "offsetgroup": "similarity_merge",
                  "orientation": "v",
                  "showlegend": true,
                  "type": "box",
                  "x": {
                    "bdata": "AAAAAAAAAAAAAAAAAAAAAAEBAQEBAQEBAQEBAQEBAQECAgICAgICAgICAgICAgICAwMDAwMDAwMDAwMDAwMDAwQEBAQEBAQEBAQEBAQEBAQFBQUFBQUFBQUFBQUFBQUFBgYGBgYGBgYGBgYGBgYGBgcHBwcHBwcHBwcHBwcHBwcICAgICAgICAgICAgICAgICQkJCQkJCQkJCQkJCQkJCQoKCgoKCgoKCgoKCgoKCgoLCwsLCwsLCwsLCwsLCwsLDAwMDAwMDAwMDAwMDAwMDA0NDQ0NDQ0NDQ0NDQ0NDQ0ODg4ODg4ODg4ODg4ODg4ODw8PDw8PDw8PDw8PDw8PDxAQEBAQEBAQEBAQEBAQEBAREREREREREREREREREREREhISEhISEhISEhISEhISEhMTExMTExMTExMTExMTExMUFBQUFBQUFBQUFBQUFBQUFRUVFRUVFRUVFRUVFRUVFRYWFhYWFhYWFhYWFhYWFhYXFxcXFxcXFxcXFxcXFxcX",
                    "dtype": "i1"
                  },
                  "x0": " ",
                  "xaxis": "x",
                  "y": {
                    "bdata": "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",
                    "dtype": "f8"
                  },
                  "y0": " ",
                  "yaxis": "y"
                },
                {
                  "alignmentgroup": "True",
                  "boxpoints": "all",
                  "hovertemplate": "model=task_arithmetic<br>layer=%{x}<br>entropy=%{y}<extra></extra>",
                  "legendgroup": "task_arithmetic",
                  "marker": {
                    "color": "#ab63fa"
                  },
                  "name": "task_arithmetic",
                  "notched": false,
                  "offsetgroup": "task_arithmetic",
                  "orientation": "v",
                  "showlegend": true,
                  "type": "box",
                  "x": {
                    "bdata": "AAAAAAAAAAAAAAAAAAAAAAEBAQEBAQEBAQEBAQEBAQECAgICAgICAgICAgICAgICAwMDAwMDAwMDAwMDAwMDAwQEBAQEBAQEBAQEBAQEBAQFBQUFBQUFBQUFBQUFBQUFBgYGBgYGBgYGBgYGBgYGBgcHBwcHBwcHBwcHBwcHBwcICAgICAgICAgICAgICAgICQkJCQkJCQkJCQkJCQkJCQoKCgoKCgoKCgoKCgoKCgoLCwsLCwsLCwsLCwsLCwsLDAwMDAwMDAwMDAwMDAwMDA0NDQ0NDQ0NDQ0NDQ0NDQ0ODg4ODg4ODg4ODg4ODg4ODw8PDw8PDw8PDw8PDw8PDxAQEBAQEBAQEBAQEBAQEBAREREREREREREREREREREREhISEhISEhISEhISEhISEhMTExMTExMTExMTExMTExMUFBQUFBQUFBQUFBQUFBQUFRUVFRUVFRUVFRUVFRUVFRYWFhYWFhYWFhYWFhYWFhYXFxcXFxcXFxcXFxcXFxcX",
                    "dtype": "i1"
                  },
                  "x0": " ",
                  "xaxis": "x",
                  "y": {
                    "bdata": "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",
                    "dtype": "f8"
                  },
                  "y0": " ",
                  "yaxis": "y"
                }
              ],
              "layout": {
                "boxmode": "group",
                "legend": {
                  "title": {
                    "text": "model"
                  },
                  "tracegroupgap": 0
                },
                "template": {
                  "data": {
                    "bar": [
                      {
                        "error_x": {
                          "color": "#2a3f5f"
                        },
                        "error_y": {
                          "color": "#2a3f5f"
                        },
                        "marker": {
                          "line": {
                            "color": "#E5ECF6",
                            "width": 0.5
                          },
                          "pattern": {
                            "fillmode": "overlay",
                            "size": 10,
                            "solidity": 0.2
                          }
                        },
                        "type": "bar"
                      }
                    ],
                    "barpolar": [
                      {
                        "marker": {
                          "line": {
                            "color": "#E5ECF6",
                            "width": 0.5
                          },
                          "pattern": {
                            "fillmode": "overlay",
                            "size": 10,
                            "solidity": 0.2
                          }
                        },
                        "type": "barpolar"
                      }
                    ],
                    "carpet": [
                      {
                        "aaxis": {
                          "endlinecolor": "#2a3f5f",
                          "gridcolor": "white",
                          "linecolor": "white",
                          "minorgridcolor": "white",
                          "startlinecolor": "#2a3f5f"
                        },
                        "baxis": {
                          "endlinecolor": "#2a3f5f",
                          "gridcolor": "white",
                          "linecolor": "white",
                          "minorgridcolor": "white",
                          "startlinecolor": "#2a3f5f"
                        },
                        "type": "carpet"
                      }
                    ],
                    "choropleth": [
                      {
                        "colorbar": {
                          "outlinewidth": 0,
                          "ticks": ""
                        },
                        "type": "choropleth"
                      }
                    ],
                    "contour": [
                      {
                        "colorbar": {
                          "outlinewidth": 0,
                          "ticks": ""
                        },
                        "colorscale": [
                          [
                            0,
                            "#0d0887"
                          ],
                          [
                            0.1111111111111111,
                            "#46039f"
                          ],
                          [
                            0.2222222222222222,
                            "#7201a8"
                          ],
                          [
                            0.3333333333333333,
                            "#9c179e"
                          ],
                          [
                            0.4444444444444444,
                            "#bd3786"
                          ],
                          [
                            0.5555555555555556,
                            "#d8576b"
                          ],
                          [
                            0.6666666666666666,
                            "#ed7953"
                          ],
                          [
                            0.7777777777777778,
                            "#fb9f3a"
                          ],
                          [
                            0.8888888888888888,
                            "#fdca26"
                          ],
                          [
                            1,
                            "#f0f921"
                          ]
                        ],
                        "type": "contour"
                      }
                    ],
                    "contourcarpet": [
                      {
                        "colorbar": {
                          "outlinewidth": 0,
                          "ticks": ""
                        },
                        "type": "contourcarpet"
                      }
                    ],
                    "heatmap": [
                      {
                        "colorbar": {
                          "outlinewidth": 0,
                          "ticks": ""
                        },
                        "colorscale": [
                          [
                            0,
                            "#0d0887"
                          ],
                          [
                            0.1111111111111111,
                            "#46039f"
                          ],
                          [
                            0.2222222222222222,
                            "#7201a8"
                          ],
                          [
                            0.3333333333333333,
                            "#9c179e"
                          ],
                          [
                            0.4444444444444444,
                            "#bd3786"
                          ],
                          [
                            0.5555555555555556,
                            "#d8576b"
                          ],
                          [
                            0.6666666666666666,
                            "#ed7953"
                          ],
                          [
                            0.7777777777777778,
                            "#fb9f3a"
                          ],
                          [
                            0.8888888888888888,
                            "#fdca26"
                          ],
                          [
                            1,
                            "#f0f921"
                          ]
                        ],
                        "type": "heatmap"
                      }
                    ],
                    "histogram": [
                      {
                        "marker": {
                          "pattern": {
                            "fillmode": "overlay",
                            "size": 10,
                            "solidity": 0.2
                          }
                        },
                        "type": "histogram"
                      }
                    ],
                    "histogram2d": [
                      {
                        "colorbar": {
                          "outlinewidth": 0,
                          "ticks": ""
                        },
                        "colorscale": [
                          [
                            0,
                            "#0d0887"
                          ],
                          [
                            0.1111111111111111,
                            "#46039f"
                          ],
                          [
                            0.2222222222222222,
                            "#7201a8"
                          ],
                          [
                            0.3333333333333333,
                            "#9c179e"
                          ],
                          [
                            0.4444444444444444,
                            "#bd3786"
                          ],
                          [
                            0.5555555555555556,
                            "#d8576b"
                          ],
                          [
                            0.6666666666666666,
                            "#ed7953"
                          ],
                          [
                            0.7777777777777778,
                            "#fb9f3a"
                          ],
                          [
                            0.8888888888888888,
                            "#fdca26"
                          ],
                          [
                            1,
                            "#f0f921"
                          ]
                        ],
                        "type": "histogram2d"
                      }
                    ],
                    "histogram2dcontour": [
                      {
                        "colorbar": {
                          "outlinewidth": 0,
                          "ticks": ""
                        },
                        "colorscale": [
                          [
                            0,
                            "#0d0887"
                          ],
                          [
                            0.1111111111111111,
                            "#46039f"
                          ],
                          [
                            0.2222222222222222,
                            "#7201a8"
                          ],
                          [
                            0.3333333333333333,
                            "#9c179e"
                          ],
                          [
                            0.4444444444444444,
                            "#bd3786"
                          ],
                          [
                            0.5555555555555556,
                            "#d8576b"
                          ],
                          [
                            0.6666666666666666,
                            "#ed7953"
                          ],
                          [
                            0.7777777777777778,
                            "#fb9f3a"
                          ],
                          [
                            0.8888888888888888,
                            "#fdca26"
                          ],
                          [
                            1,
                            "#f0f921"
                          ]
                        ],
                        "type": "histogram2dcontour"
                      }
                    ],
                    "mesh3d": [
                      {
                        "colorbar": {
                          "outlinewidth": 0,
                          "ticks": ""
                        },
                        "type": "mesh3d"
                      }
                    ],
                    "parcoords": [
                      {
                        "line": {
                          "colorbar": {
                            "outlinewidth": 0,
                            "ticks": ""
                          }
                        },
                        "type": "parcoords"
                      }
                    ],
                    "pie": [
                      {
                        "automargin": true,
                        "type": "pie"
                      }
                    ],
                    "scatter": [
                      {
                        "fillpattern": {
                          "fillmode": "overlay",
                          "size": 10,
                          "solidity": 0.2
                        },
                        "type": "scatter"
                      }
                    ],
                    "scatter3d": [
                      {
                        "line": {
                          "colorbar": {
                            "outlinewidth": 0,
                            "ticks": ""
                          }
                        },
                        "marker": {
                          "colorbar": {
                            "outlinewidth": 0,
                            "ticks": ""
                          }
                        },
                        "type": "scatter3d"
                      }
                    ],
                    "scattercarpet": [
                      {
                        "marker": {
                          "colorbar": {
                            "outlinewidth": 0,
                            "ticks": ""
                          }
                        },
                        "type": "scattercarpet"
                      }
                    ],
                    "scattergeo": [
                      {
                        "marker": {
                          "colorbar": {
                            "outlinewidth": 0,
                            "ticks": ""
                          }
                        },
                        "type": "scattergeo"
                      }
                    ],
                    "scattergl": [
                      {
                        "marker": {
                          "colorbar": {
                            "outlinewidth": 0,
                            "ticks": ""
                          }
                        },
                        "type": "scattergl"
                      }
                    ],
                    "scattermap": [
                      {
                        "marker": {
                          "colorbar": {
                            "outlinewidth": 0,
                            "ticks": ""
                          }
                        },
                        "type": "scattermap"
                      }
                    ],
                    "scattermapbox": [
                      {
                        "marker": {
                          "colorbar": {
                            "outlinewidth": 0,
                            "ticks": ""
                          }
                        },
                        "type": "scattermapbox"
                      }
                    ],
                    "scatterpolar": [
                      {
                        "marker": {
                          "colorbar": {
                            "outlinewidth": 0,
                            "ticks": ""
                          }
                        },
                        "type": "scatterpolar"
                      }
                    ],
                    "scatterpolargl": [
                      {
                        "marker": {
                          "colorbar": {
                            "outlinewidth": 0,
                            "ticks": ""
                          }
                        },
                        "type": "scatterpolargl"
                      }
                    ],
                    "scatterternary": [
                      {
                        "marker": {
                          "colorbar": {
                            "outlinewidth": 0,
                            "ticks": ""
                          }
                        },
                        "type": "scatterternary"
                      }
                    ],
                    "surface": [
                      {
                        "colorbar": {
                          "outlinewidth": 0,
                          "ticks": ""
                        },
                        "colorscale": [
                          [
                            0,
                            "#0d0887"
                          ],
                          [
                            0.1111111111111111,
                            "#46039f"
                          ],
                          [
                            0.2222222222222222,
                            "#7201a8"
                          ],
                          [
                            0.3333333333333333,
                            "#9c179e"
                          ],
                          [
                            0.4444444444444444,
                            "#bd3786"
                          ],
                          [
                            0.5555555555555556,
                            "#d8576b"
                          ],
                          [
                            0.6666666666666666,
                            "#ed7953"
                          ],
                          [
                            0.7777777777777778,
                            "#fb9f3a"
                          ],
                          [
                            0.8888888888888888,
                            "#fdca26"
                          ],
                          [
                            1,
                            "#f0f921"
                          ]
                        ],
                        "type": "surface"
                      }
                    ],
                    "table": [
                      {
                        "cells": {
                          "fill": {
                            "color": "#EBF0F8"
                          },
                          "line": {
                            "color": "white"
                          }
                        },
                        "header": {
                          "fill": {
                            "color": "#C8D4E3"
                          },
                          "line": {
                            "color": "white"
                          }
                        },
                        "type": "table"
                      }
                    ]
                  },
                  "layout": {
                    "annotationdefaults": {
                      "arrowcolor": "#2a3f5f",
                      "arrowhead": 0,
                      "arrowwidth": 1
                    },
                    "autotypenumbers": "strict",
                    "coloraxis": {
                      "colorbar": {
                        "outlinewidth": 0,
                        "ticks": ""
                      }
                    },
                    "colorscale": {
                      "diverging": [
                        [
                          0,
                          "#8e0152"
                        ],
                        [
                          0.1,
                          "#c51b7d"
                        ],
                        [
                          0.2,
                          "#de77ae"
                        ],
                        [
                          0.3,
                          "#f1b6da"
                        ],
                        [
                          0.4,
                          "#fde0ef"
                        ],
                        [
                          0.5,
                          "#f7f7f7"
                        ],
                        [
                          0.6,
                          "#e6f5d0"
                        ],
                        [
                          0.7,
                          "#b8e186"
                        ],
                        [
                          0.8,
                          "#7fbc41"
                        ],
                        [
                          0.9,
                          "#4d9221"
                        ],
                        [
                          1,
                          "#276419"
                        ]
                      ],
                      "sequential": [
                        [
                          0,
                          "#0d0887"
                        ],
                        [
                          0.1111111111111111,
                          "#46039f"
                        ],
                        [
                          0.2222222222222222,
                          "#7201a8"
                        ],
                        [
                          0.3333333333333333,
                          "#9c179e"
                        ],
                        [
                          0.4444444444444444,
                          "#bd3786"
                        ],
                        [
                          0.5555555555555556,
                          "#d8576b"
                        ],
                        [
                          0.6666666666666666,
                          "#ed7953"
                        ],
                        [
                          0.7777777777777778,
                          "#fb9f3a"
                        ],
                        [
                          0.8888888888888888,
                          "#fdca26"
                        ],
                        [
                          1,
                          "#f0f921"
                        ]
                      ],
                      "sequentialminus": [
                        [
                          0,
                          "#0d0887"
                        ],
                        [
                          0.1111111111111111,
                          "#46039f"
                        ],
                        [
                          0.2222222222222222,
                          "#7201a8"
                        ],
                        [
                          0.3333333333333333,
                          "#9c179e"
                        ],
                        [
                          0.4444444444444444,
                          "#bd3786"
                        ],
                        [
                          0.5555555555555556,
                          "#d8576b"
                        ],
                        [
                          0.6666666666666666,
                          "#ed7953"
                        ],
                        [
                          0.7777777777777778,
                          "#fb9f3a"
                        ],
                        [
                          0.8888888888888888,
                          "#fdca26"
                        ],
                        [
                          1,
                          "#f0f921"
                        ]
                      ]
                    },
                    "colorway": [
                      "#636efa",
                      "#EF553B",
                      "#00cc96",
                      "#ab63fa",
                      "#FFA15A",
                      "#19d3f3",
                      "#FF6692",
                      "#B6E880",
                      "#FF97FF",
                      "#FECB52"
                    ],
                    "font": {
                      "color": "#2a3f5f"
                    },
                    "geo": {
                      "bgcolor": "white",
                      "lakecolor": "white",
                      "landcolor": "#E5ECF6",
                      "showlakes": true,
                      "showland": true,
                      "subunitcolor": "white"
                    },
                    "hoverlabel": {
                      "align": "left"
                    },
                    "hovermode": "closest",
                    "mapbox": {
                      "style": "light"
                    },
                    "paper_bgcolor": "white",
                    "plot_bgcolor": "#E5ECF6",
                    "polar": {
                      "angularaxis": {
                        "gridcolor": "white",
                        "linecolor": "white",
                        "ticks": ""
                      },
                      "bgcolor": "#E5ECF6",
                      "radialaxis": {
                        "gridcolor": "white",
                        "linecolor": "white",
                        "ticks": ""
                      }
                    },
                    "scene": {
                      "xaxis": {
                        "backgroundcolor": "#E5ECF6",
                        "gridcolor": "white",
                        "gridwidth": 2,
                        "linecolor": "white",
                        "showbackground": true,
                        "ticks": "",
                        "zerolinecolor": "white"
                      },
                      "yaxis": {
                        "backgroundcolor": "#E5ECF6",
                        "gridcolor": "white",
                        "gridwidth": 2,
                        "linecolor": "white",
                        "showbackground": true,
                        "ticks": "",
                        "zerolinecolor": "white"
                      },
                      "zaxis": {
                        "backgroundcolor": "#E5ECF6",
                        "gridcolor": "white",
                        "gridwidth": 2,
                        "linecolor": "white",
                        "showbackground": true,
                        "ticks": "",
                        "zerolinecolor": "white"
                      }
                    },
                    "shapedefaults": {
                      "line": {
                        "color": "#2a3f5f"
                      }
                    },
                    "ternary": {
                      "aaxis": {
                        "gridcolor": "white",
                        "linecolor": "white",
                        "ticks": ""
                      },
                      "baxis": {
                        "gridcolor": "white",
                        "linecolor": "white",
                        "ticks": ""
                      },
                      "bgcolor": "#E5ECF6",
                      "caxis": {
                        "gridcolor": "white",
                        "linecolor": "white",
                        "ticks": ""
                      }
                    },
                    "title": {
                      "x": 0.05
                    },
                    "xaxis": {
                      "automargin": true,
                      "gridcolor": "white",
                      "linecolor": "white",
                      "ticks": "",
                      "title": {
                        "standoff": 15
                      },
                      "zerolinecolor": "white",
                      "zerolinewidth": 2
                    },
                    "yaxis": {
                      "automargin": true,
                      "gridcolor": "white",
                      "linecolor": "white",
                      "ticks": "",
                      "title": {
                        "standoff": 15
                      },
                      "zerolinecolor": "white",
                      "zerolinewidth": 2
                    }
                  }
                },
                "title": {
                  "text": "Attention entropy by layer"
                },
                "xaxis": {
                  "anchor": "y",
                  "domain": [
                    0,
                    1
                  ],
                  "title": {
                    "text": "layer"
                  }
                },
                "yaxis": {
                  "anchor": "x",
                  "domain": [
                    0,
                    1
                  ],
                  "title": {
                    "text": "entropy"
                  }
                }
              }
            }
          },
          "metadata": {},
          "output_type": "display_data"
        },
        {
          "data": {
            "application/vnd.plotly.v1+json": {
              "config": {
                "plotlyServerURL": "https://plot.ly"
              },
              "data": [
                {
                  "hovertemplate": "model=average_merge<br>layer=%{x}<br>cls_focus=%{y}<extra></extra>",
                  "legendgroup": "average_merge",
                  "line": {
                    "color": "#636efa",
                    "dash": "solid"
                  },
                  "marker": {
                    "symbol": "circle"
                  },
                  "mode": "lines+markers",
                  "name": "average_merge",
                  "orientation": "v",
                  "showlegend": true,
                  "type": "scatter",
                  "x": {
                    "bdata": "AAECAwQFBgcICQoLDA0ODxAREhMUFRYX",
                    "dtype": "i1"
                  },
                  "xaxis": "x",
                  "y": {
                    "bdata": "AAAAUefzyT8AAIBNgzviPwAAAJa/JOc/AAAAAAguyD8AAABgB/rGPwAAgKe2fMY/AAAAaArTwD8AAACyiba0PwAAgMQWJLU/AACASWE0rT8AAAAWWg+lPwAAwK1Ol6E/AACAwuukmz8AAACQpiqTPwAAAIpsfZY/AAAAgyPKoz8AAMD1z5+gPwAAAJYxDaw/AACAPQcvsz8AAMAOMM+yPwAAABSp0LQ/AAAA8yvysT8AAACnuvSwPwAAgPz/gLY/",
                    "dtype": "f8"
                  },
                  "yaxis": "y"
                },
                {
                  "hovertemplate": "model=baseline<br>layer=%{x}<br>cls_focus=%{y}<extra></extra>",
                  "legendgroup": "baseline",
                  "line": {
                    "color": "#EF553B",
                    "dash": "solid"
                  },
                  "marker": {
                    "symbol": "circle"
                  },
                  "mode": "lines+markers",
                  "name": "baseline",
                  "orientation": "v",
                  "showlegend": true,
                  "type": "scatter",
                  "x": {
                    "bdata": "AAECAwQFBgcICQoLDA0ODxAREhMUFRYX",
                    "dtype": "i1"
                  },
                  "xaxis": "x",
                  "y": {
                    "bdata": "AAAADHlAyj8AAADD0XriPwAAAMCtyOg/AAAAl9Tixz8AAABXHFnHPwAAALKYsME/AAAA2Pr+wj8AAAAXP124PwAAAJ2NfbU/AACAFS0Orj8AAEBctqqkPwAAwMJ0sqE/AACAH2GimT8AAEB56+GUPwAAAN6uuZ4/AAAA9KIGrz8AAIA1a2WdPwAAAGY7Ka4/AAAAYJkbtT8AAIBU1xG6PwAAAHuC0sQ/AAAAuhp0tD8AAIAO/923PwAAAE/ykr0/",
                    "dtype": "f8"
                  },
                  "yaxis": "y"
                },
                {
                  "hovertemplate": "model=similarity_merge<br>layer=%{x}<br>cls_focus=%{y}<extra></extra>",
                  "legendgroup": "similarity_merge",
                  "line": {
                    "color": "#00cc96",
                    "dash": "solid"
                  },
                  "marker": {
                    "symbol": "circle"
                  },
                  "mode": "lines+markers",
                  "name": "similarity_merge",
                  "orientation": "v",
                  "showlegend": true,
                  "type": "scatter",
                  "x": {
                    "bdata": "AAECAwQFBgcICQoLDA0ODxAREhMUFRYX",
                    "dtype": "i1"
                  },
                  "xaxis": "x",
                  "y": {
                    "bdata": "AAAAYJ71yT8AAICI7jLiPwAAAOFILuc/AACAuyEAyD8AAABw9KHGPwAAgObT4cU/AAAAn6jawD8AAACVbMG0PwAAAOOGPbU/AAAA27tYrT8AAAAcnwOlPwAAgAO0iqE/AACARrzNmz8AAAAMZBCTPwAAAChYbZY/AAAAMjJtoz8AAEC6NHOgPwAAgIihF6w/AAAAUZoesz8AAICyyc2yPwAAgLwd6bQ/AAAAdpYGsj8AAAD+WNmwPwAAgLZkcLY/",
                    "dtype": "f8"
                  },
                  "yaxis": "y"
                },
                {
                  "hovertemplate": "model=task_arithmetic<br>layer=%{x}<br>cls_focus=%{y}<extra></extra>",
                  "legendgroup": "task_arithmetic",
                  "line": {
                    "color": "#ab63fa",
                    "dash": "solid"
                  },
                  "marker": {
                    "symbol": "circle"
                  },
                  "mode": "lines+markers",
                  "name": "task_arithmetic",
                  "orientation": "v",
                  "showlegend": true,
                  "type": "scatter",
                  "x": {
                    "bdata": "AAECAwQFBgcICQoLDA0ODxAREhMUFRYX",
                    "dtype": "i1"
                  },
                  "xaxis": "x",
                  "y": {
                    "bdata": "AACA2ioVyj8AAIB0LDziPwAAAAl5R+c/AAAAL2I5yD8AAABUE3fHPwAAAN7cn8c/AACAR7CJwD8AAABnL1u1PwAAAKGc97U/AAAATZV5rj8AAADNjtWlPwAAAM9m5qE/AAAAzfHVnT8AAAC4hvKUPwAAAAiuEJk/AAAAddklpj8AAMBpiqagPwAAgOIKRqw/AACAkkmWsz8AAAC43ySzPwAAgHXnJrU/AAAAkqldsj8AAADld4qwPwAAAMha+bY/",
                    "dtype": "f8"
                  },
                  "yaxis": "y"
                }
              ],
              "layout": {
                "legend": {
                  "title": {
                    "text": "model"
                  },
                  "tracegroupgap": 0
                },
                "template": {
                  "data": {
                    "bar": [
                      {
                        "error_x": {
                          "color": "#2a3f5f"
                        },
                        "error_y": {
                          "color": "#2a3f5f"
                        },
                        "marker": {
                          "line": {
                            "color": "#E5ECF6",
                            "width": 0.5
                          },
                          "pattern": {
                            "fillmode": "overlay",
                            "size": 10,
                            "solidity": 0.2
                          }
                        },
                        "type": "bar"
                      }
                    ],
                    "barpolar": [
                      {
                        "marker": {
                          "line": {
                            "color": "#E5ECF6",
                            "width": 0.5
                          },
                          "pattern": {
                            "fillmode": "overlay",
                            "size": 10,
                            "solidity": 0.2
                          }
                        },
                        "type": "barpolar"
                      }
                    ],
                    "carpet": [
                      {
                        "aaxis": {
                          "endlinecolor": "#2a3f5f",
                          "gridcolor": "white",
                          "linecolor": "white",
                          "minorgridcolor": "white",
                          "startlinecolor": "#2a3f5f"
                        },
                        "baxis": {
                          "endlinecolor": "#2a3f5f",
                          "gridcolor": "white",
                          "linecolor": "white",
                          "minorgridcolor": "white",
                          "startlinecolor": "#2a3f5f"
                        },
                        "type": "carpet"
                      }
                    ],
                    "choropleth": [
                      {
                        "colorbar": {
                          "outlinewidth": 0,
                          "ticks": ""
                        },
                        "type": "choropleth"
                      }
                    ],
                    "contour": [
                      {
                        "colorbar": {
                          "outlinewidth": 0,
                          "ticks": ""
                        },
                        "colorscale": [
                          [
                            0,
                            "#0d0887"
                          ],
                          [
                            0.1111111111111111,
                            "#46039f"
                          ],
                          [
                            0.2222222222222222,
                            "#7201a8"
                          ],
                          [
                            0.3333333333333333,
                            "#9c179e"
                          ],
                          [
                            0.4444444444444444,
                            "#bd3786"
                          ],
                          [
                            0.5555555555555556,
                            "#d8576b"
                          ],
                          [
                            0.6666666666666666,
                            "#ed7953"
                          ],
                          [
                            0.7777777777777778,
                            "#fb9f3a"
                          ],
                          [
                            0.8888888888888888,
                            "#fdca26"
                          ],
                          [
                            1,
                            "#f0f921"
                          ]
                        ],
                        "type": "contour"
                      }
                    ],
                    "contourcarpet": [
                      {
                        "colorbar": {
                          "outlinewidth": 0,
                          "ticks": ""
                        },
                        "type": "contourcarpet"
                      }
                    ],
                    "heatmap": [
                      {
                        "colorbar": {
                          "outlinewidth": 0,
                          "ticks": ""
                        },
                        "colorscale": [
                          [
                            0,
                            "#0d0887"
                          ],
                          [
                            0.1111111111111111,
                            "#46039f"
                          ],
                          [
                            0.2222222222222222,
                            "#7201a8"
                          ],
                          [
                            0.3333333333333333,
                            "#9c179e"
                          ],
                          [
                            0.4444444444444444,
                            "#bd3786"
                          ],
                          [
                            0.5555555555555556,
                            "#d8576b"
                          ],
                          [
                            0.6666666666666666,
                            "#ed7953"
                          ],
                          [
                            0.7777777777777778,
                            "#fb9f3a"
                          ],
                          [
                            0.8888888888888888,
                            "#fdca26"
                          ],
                          [
                            1,
                            "#f0f921"
                          ]
                        ],
                        "type": "heatmap"
                      }
                    ],
                    "histogram": [
                      {
                        "marker": {
                          "pattern": {
                            "fillmode": "overlay",
                            "size": 10,
                            "solidity": 0.2
                          }
                        },
                        "type": "histogram"
                      }
                    ],
                    "histogram2d": [
                      {
                        "colorbar": {
                          "outlinewidth": 0,
                          "ticks": ""
                        },
                        "colorscale": [
                          [
                            0,
                            "#0d0887"
                          ],
                          [
                            0.1111111111111111,
                            "#46039f"
                          ],
                          [
                            0.2222222222222222,
                            "#7201a8"
                          ],
                          [
                            0.3333333333333333,
                            "#9c179e"
                          ],
                          [
                            0.4444444444444444,
                            "#bd3786"
                          ],
                          [
                            0.5555555555555556,
                            "#d8576b"
                          ],
                          [
                            0.6666666666666666,
                            "#ed7953"
                          ],
                          [
                            0.7777777777777778,
                            "#fb9f3a"
                          ],
                          [
                            0.8888888888888888,
                            "#fdca26"
                          ],
                          [
                            1,
                            "#f0f921"
                          ]
                        ],
                        "type": "histogram2d"
                      }
                    ],
                    "histogram2dcontour": [
                      {
                        "colorbar": {
                          "outlinewidth": 0,
                          "ticks": ""
                        },
                        "colorscale": [
                          [
                            0,
                            "#0d0887"
                          ],
                          [
                            0.1111111111111111,
                            "#46039f"
                          ],
                          [
                            0.2222222222222222,
                            "#7201a8"
                          ],
                          [
                            0.3333333333333333,
                            "#9c179e"
                          ],
                          [
                            0.4444444444444444,
                            "#bd3786"
                          ],
                          [
                            0.5555555555555556,
                            "#d8576b"
                          ],
                          [
                            0.6666666666666666,
                            "#ed7953"
                          ],
                          [
                            0.7777777777777778,
                            "#fb9f3a"
                          ],
                          [
                            0.8888888888888888,
                            "#fdca26"
                          ],
                          [
                            1,
                            "#f0f921"
                          ]
                        ],
                        "type": "histogram2dcontour"
                      }
                    ],
                    "mesh3d": [
                      {
                        "colorbar": {
                          "outlinewidth": 0,
                          "ticks": ""
                        },
                        "type": "mesh3d"
                      }
                    ],
                    "parcoords": [
                      {
                        "line": {
                          "colorbar": {
                            "outlinewidth": 0,
                            "ticks": ""
                          }
                        },
                        "type": "parcoords"
                      }
                    ],
                    "pie": [
                      {
                        "automargin": true,
                        "type": "pie"
                      }
                    ],
                    "scatter": [
                      {
                        "fillpattern": {
                          "fillmode": "overlay",
                          "size": 10,
                          "solidity": 0.2
                        },
                        "type": "scatter"
                      }
                    ],
                    "scatter3d": [
                      {
                        "line": {
                          "colorbar": {
                            "outlinewidth": 0,
                            "ticks": ""
                          }
                        },
                        "marker": {
                          "colorbar": {
                            "outlinewidth": 0,
                            "ticks": ""
                          }
                        },
                        "type": "scatter3d"
                      }
                    ],
                    "scattercarpet": [
                      {
                        "marker": {
                          "colorbar": {
                            "outlinewidth": 0,
                            "ticks": ""
                          }
                        },
                        "type": "scattercarpet"
                      }
                    ],
                    "scattergeo": [
                      {
                        "marker": {
                          "colorbar": {
                            "outlinewidth": 0,
                            "ticks": ""
                          }
                        },
                        "type": "scattergeo"
                      }
                    ],
                    "scattergl": [
                      {
                        "marker": {
                          "colorbar": {
                            "outlinewidth": 0,
                            "ticks": ""
                          }
                        },
                        "type": "scattergl"
                      }
                    ],
                    "scattermap": [
                      {
                        "marker": {
                          "colorbar": {
                            "outlinewidth": 0,
                            "ticks": ""
                          }
                        },
                        "type": "scattermap"
                      }
                    ],
                    "scattermapbox": [
                      {
                        "marker": {
                          "colorbar": {
                            "outlinewidth": 0,
                            "ticks": ""
                          }
                        },
                        "type": "scattermapbox"
                      }
                    ],
                    "scatterpolar": [
                      {
                        "marker": {
                          "colorbar": {
                            "outlinewidth": 0,
                            "ticks": ""
                          }
                        },
                        "type": "scatterpolar"
                      }
                    ],
                    "scatterpolargl": [
                      {
                        "marker": {
                          "colorbar": {
                            "outlinewidth": 0,
                            "ticks": ""
                          }
                        },
                        "type": "scatterpolargl"
                      }
                    ],
                    "scatterternary": [
                      {
                        "marker": {
                          "colorbar": {
                            "outlinewidth": 0,
                            "ticks": ""
                          }
                        },
                        "type": "scatterternary"
                      }
                    ],
                    "surface": [
                      {
                        "colorbar": {
                          "outlinewidth": 0,
                          "ticks": ""
                        },
                        "colorscale": [
                          [
                            0,
                            "#0d0887"
                          ],
                          [
                            0.1111111111111111,
                            "#46039f"
                          ],
                          [
                            0.2222222222222222,
                            "#7201a8"
                          ],
                          [
                            0.3333333333333333,
                            "#9c179e"
                          ],
                          [
                            0.4444444444444444,
                            "#bd3786"
                          ],
                          [
                            0.5555555555555556,
                            "#d8576b"
                          ],
                          [
                            0.6666666666666666,
                            "#ed7953"
                          ],
                          [
                            0.7777777777777778,
                            "#fb9f3a"
                          ],
                          [
                            0.8888888888888888,
                            "#fdca26"
                          ],
                          [
                            1,
                            "#f0f921"
                          ]
                        ],
                        "type": "surface"
                      }
                    ],
                    "table": [
                      {
                        "cells": {
                          "fill": {
                            "color": "#EBF0F8"
                          },
                          "line": {
                            "color": "white"
                          }
                        },
                        "header": {
                          "fill": {
                            "color": "#C8D4E3"
                          },
                          "line": {
                            "color": "white"
                          }
                        },
                        "type": "table"
                      }
                    ]
                  },
                  "layout": {
                    "annotationdefaults": {
                      "arrowcolor": "#2a3f5f",
                      "arrowhead": 0,
                      "arrowwidth": 1
                    },
                    "autotypenumbers": "strict",
                    "coloraxis": {
                      "colorbar": {
                        "outlinewidth": 0,
                        "ticks": ""
                      }
                    },
                    "colorscale": {
                      "diverging": [
                        [
                          0,
                          "#8e0152"
                        ],
                        [
                          0.1,
                          "#c51b7d"
                        ],
                        [
                          0.2,
                          "#de77ae"
                        ],
                        [
                          0.3,
                          "#f1b6da"
                        ],
                        [
                          0.4,
                          "#fde0ef"
                        ],
                        [
                          0.5,
                          "#f7f7f7"
                        ],
                        [
                          0.6,
                          "#e6f5d0"
                        ],
                        [
                          0.7,
                          "#b8e186"
                        ],
                        [
                          0.8,
                          "#7fbc41"
                        ],
                        [
                          0.9,
                          "#4d9221"
                        ],
                        [
                          1,
                          "#276419"
                        ]
                      ],
                      "sequential": [
                        [
                          0,
                          "#0d0887"
                        ],
                        [
                          0.1111111111111111,
                          "#46039f"
                        ],
                        [
                          0.2222222222222222,
                          "#7201a8"
                        ],
                        [
                          0.3333333333333333,
                          "#9c179e"
                        ],
                        [
                          0.4444444444444444,
                          "#bd3786"
                        ],
                        [
                          0.5555555555555556,
                          "#d8576b"
                        ],
                        [
                          0.6666666666666666,
                          "#ed7953"
                        ],
                        [
                          0.7777777777777778,
                          "#fb9f3a"
                        ],
                        [
                          0.8888888888888888,
                          "#fdca26"
                        ],
                        [
                          1,
                          "#f0f921"
                        ]
                      ],
                      "sequentialminus": [
                        [
                          0,
                          "#0d0887"
                        ],
                        [
                          0.1111111111111111,
                          "#46039f"
                        ],
                        [
                          0.2222222222222222,
                          "#7201a8"
                        ],
                        [
                          0.3333333333333333,
                          "#9c179e"
                        ],
                        [
                          0.4444444444444444,
                          "#bd3786"
                        ],
                        [
                          0.5555555555555556,
                          "#d8576b"
                        ],
                        [
                          0.6666666666666666,
                          "#ed7953"
                        ],
                        [
                          0.7777777777777778,
                          "#fb9f3a"
                        ],
                        [
                          0.8888888888888888,
                          "#fdca26"
                        ],
                        [
                          1,
                          "#f0f921"
                        ]
                      ]
                    },
                    "colorway": [
                      "#636efa",
                      "#EF553B",
                      "#00cc96",
                      "#ab63fa",
                      "#FFA15A",
                      "#19d3f3",
                      "#FF6692",
                      "#B6E880",
                      "#FF97FF",
                      "#FECB52"
                    ],
                    "font": {
                      "color": "#2a3f5f"
                    },
                    "geo": {
                      "bgcolor": "white",
                      "lakecolor": "white",
                      "landcolor": "#E5ECF6",
                      "showlakes": true,
                      "showland": true,
                      "subunitcolor": "white"
                    },
                    "hoverlabel": {
                      "align": "left"
                    },
                    "hovermode": "closest",
                    "mapbox": {
                      "style": "light"
                    },
                    "paper_bgcolor": "white",
                    "plot_bgcolor": "#E5ECF6",
                    "polar": {
                      "angularaxis": {
                        "gridcolor": "white",
                        "linecolor": "white",
                        "ticks": ""
                      },
                      "bgcolor": "#E5ECF6",
                      "radialaxis": {
                        "gridcolor": "white",
                        "linecolor": "white",
                        "ticks": ""
                      }
                    },
                    "scene": {
                      "xaxis": {
                        "backgroundcolor": "#E5ECF6",
                        "gridcolor": "white",
                        "gridwidth": 2,
                        "linecolor": "white",
                        "showbackground": true,
                        "ticks": "",
                        "zerolinecolor": "white"
                      },
                      "yaxis": {
                        "backgroundcolor": "#E5ECF6",
                        "gridcolor": "white",
                        "gridwidth": 2,
                        "linecolor": "white",
                        "showbackground": true,
                        "ticks": "",
                        "zerolinecolor": "white"
                      },
                      "zaxis": {
                        "backgroundcolor": "#E5ECF6",
                        "gridcolor": "white",
                        "gridwidth": 2,
                        "linecolor": "white",
                        "showbackground": true,
                        "ticks": "",
                        "zerolinecolor": "white"
                      }
                    },
                    "shapedefaults": {
                      "line": {
                        "color": "#2a3f5f"
                      }
                    },
                    "ternary": {
                      "aaxis": {
                        "gridcolor": "white",
                        "linecolor": "white",
                        "ticks": ""
                      },
                      "baxis": {
                        "gridcolor": "white",
                        "linecolor": "white",
                        "ticks": ""
                      },
                      "bgcolor": "#E5ECF6",
                      "caxis": {
                        "gridcolor": "white",
                        "linecolor": "white",
                        "ticks": ""
                      }
                    },
                    "title": {
                      "x": 0.05
                    },
                    "xaxis": {
                      "automargin": true,
                      "gridcolor": "white",
                      "linecolor": "white",
                      "ticks": "",
                      "title": {
                        "standoff": 15
                      },
                      "zerolinecolor": "white",
                      "zerolinewidth": 2
                    },
                    "yaxis": {
                      "automargin": true,
                      "gridcolor": "white",
                      "linecolor": "white",
                      "ticks": "",
                      "title": {
                        "standoff": 15
                      },
                      "zerolinecolor": "white",
                      "zerolinewidth": 2
                    }
                  }
                },
                "title": {
                  "text": "Average CLS attention focus"
                },
                "xaxis": {
                  "anchor": "y",
                  "domain": [
                    0,
                    1
                  ],
                  "title": {
                    "text": "layer"
                  }
                },
                "yaxis": {
                  "anchor": "x",
                  "domain": [
                    0,
                    1
                  ],
                  "title": {
                    "text": "cls_focus"
                  }
                }
              }
            }
          },
          "metadata": {},
          "output_type": "display_data"
        }
      ],
      "source": [
        "if not attention_df.empty:\n",
        "    fig = px.box(\n",
        "        attention_df,\n",
        "        x=\"layer\",\n",
        "        y=\"entropy\",\n",
        "        color=\"model\",\n",
        "        points=\"all\",\n",
        "        title=\"Attention entropy by layer\",\n",
        "    )\n",
        "    fig.show()\n",
        "\n",
        "    fig = px.line(\n",
        "        attention_df.groupby([\"model\", \"layer\"]).mean(numeric_only=True).reset_index(),\n",
        "        x=\"layer\",\n",
        "        y=\"cls_focus\",\n",
        "        color=\"model\",\n",
        "        markers=True,\n",
        "        title=\"Average CLS attention focus\",\n",
        "    )\n",
        "    fig.show()"
      ]
    },
    {
      "cell_type": "code",
      "execution_count": 40,
      "id": "e8cca6fb",
      "metadata": {},
      "outputs": [
        {
          "data": {
            "text/html": [
              "<div>\n",
              "<style scoped>\n",
              "    .dataframe tbody tr th:only-of-type {\n",
              "        vertical-align: middle;\n",
              "    }\n",
              "\n",
              "    .dataframe tbody tr th {\n",
              "        vertical-align: top;\n",
              "    }\n",
              "\n",
              "    .dataframe thead th {\n",
              "        text-align: right;\n",
              "    }\n",
              "</style>\n",
              "<table border=\"1\" class=\"dataframe\">\n",
              "  <thead>\n",
              "    <tr style=\"text-align: right;\">\n",
              "      <th></th>\n",
              "      <th>layer</th>\n",
              "      <th>mean_token_norm</th>\n",
              "      <th>max_token_norm</th>\n",
              "      <th>std_token_norm</th>\n",
              "      <th>sequence_mean_norm</th>\n",
              "      <th>model</th>\n",
              "    </tr>\n",
              "  </thead>\n",
              "  <tbody>\n",
              "    <tr>\n",
              "      <th>0</th>\n",
              "      <td>0</td>\n",
              "      <td>25.309647</td>\n",
              "      <td>26.895838</td>\n",
              "      <td>0.929921</td>\n",
              "      <td>25.309645</td>\n",
              "      <td>baseline</td>\n",
              "    </tr>\n",
              "    <tr>\n",
              "      <th>1</th>\n",
              "      <td>1</td>\n",
              "      <td>26.174685</td>\n",
              "      <td>27.902014</td>\n",
              "      <td>1.114307</td>\n",
              "      <td>26.174690</td>\n",
              "      <td>baseline</td>\n",
              "    </tr>\n",
              "    <tr>\n",
              "      <th>2</th>\n",
              "      <td>2</td>\n",
              "      <td>27.170046</td>\n",
              "      <td>28.298035</td>\n",
              "      <td>0.663611</td>\n",
              "      <td>27.170044</td>\n",
              "      <td>baseline</td>\n",
              "    </tr>\n",
              "    <tr>\n",
              "      <th>3</th>\n",
              "      <td>3</td>\n",
              "      <td>26.740780</td>\n",
              "      <td>28.261705</td>\n",
              "      <td>0.855195</td>\n",
              "      <td>26.740782</td>\n",
              "      <td>baseline</td>\n",
              "    </tr>\n",
              "    <tr>\n",
              "      <th>4</th>\n",
              "      <td>4</td>\n",
              "      <td>29.916910</td>\n",
              "      <td>30.168407</td>\n",
              "      <td>0.073623</td>\n",
              "      <td>29.916914</td>\n",
              "      <td>baseline</td>\n",
              "    </tr>\n",
              "  </tbody>\n",
              "</table>\n",
              "</div>"
            ],
            "text/plain": [
              "   layer  mean_token_norm  max_token_norm  std_token_norm  sequence_mean_norm  \\\n",
              "0      0        25.309647       26.895838        0.929921           25.309645   \n",
              "1      1        26.174685       27.902014        1.114307           26.174690   \n",
              "2      2        27.170046       28.298035        0.663611           27.170044   \n",
              "3      3        26.740780       28.261705        0.855195           26.740782   \n",
              "4      4        29.916910       30.168407        0.073623           29.916914   \n",
              "\n",
              "      model  \n",
              "0  baseline  \n",
              "1  baseline  \n",
              "2  baseline  \n",
              "3  baseline  \n",
              "4  baseline  "
            ]
          },
          "metadata": {},
          "output_type": "display_data"
        }
      ],
      "source": [
        "hidden_records = []\n",
        "for name, signal in signals.items():\n",
        "    hidden_states = signal.get(\"hidden_states\")\n",
        "    if not hidden_states:\n",
        "        continue\n",
        "    hidden_df = summarize_hidden_states(hidden_states)\n",
        "    hidden_df[\"model\"] = name\n",
        "    hidden_records.append(hidden_df)\n",
        "\n",
        "hidden_df = pd.concat(hidden_records, ignore_index=True) if hidden_records else pd.DataFrame()\n",
        "display(hidden_df.head())"
      ]
    },
    {
      "cell_type": "code",
      "execution_count": 41,
      "id": "1bc70152",
      "metadata": {},
      "outputs": [
        {
          "data": {
            "application/vnd.plotly.v1+json": {
              "config": {
                "plotlyServerURL": "https://plot.ly"
              },
              "data": [
                {
                  "hovertemplate": "model=baseline<br>layer=%{x}<br>mean_token_norm=%{y}<extra></extra>",
                  "legendgroup": "baseline",
                  "line": {
                    "color": "#636efa",
                    "dash": "solid"
                  },
                  "marker": {
                    "symbol": "circle"
                  },
                  "mode": "lines+markers",
                  "name": "baseline",
                  "orientation": "v",
                  "showlegend": true,
                  "type": "scatter",
                  "x": {
                    "bdata": "AAECAwQFBgcICQoLDA0ODxAREhMUFRYXGA==",
                    "dtype": "i1"
                  },
                  "xaxis": "x",
                  "y": {
                    "bdata": "AAAAAEVPOUAAAAAguCw6QAAAACCIKztAAAAAwKO9OkAAAACguuo9QAAAAICYiD1AAAAA4AL+PUAAAAAgOKU+QAAAAKDp1z5AAAAAYF0uP0AAAAAgmvc+QAAAAKCKKz9AAAAAQD4RP0AAAABAk9w6QAAAAGDADDpAAAAAIIAcP0AAAABg9aM9QAAAAKAp6j1AAAAAID3IPkAAAABgMVo/QAAAAIBvNz9AAAAAIME6P0AAAADgeNM8QAAAAGDWCj5AAAAAwEseP0A=",
                    "dtype": "f8"
                  },
                  "yaxis": "y"
                },
                {
                  "hovertemplate": "model=average_merge<br>layer=%{x}<br>mean_token_norm=%{y}<extra></extra>",
                  "legendgroup": "average_merge",
                  "line": {
                    "color": "#EF553B",
                    "dash": "solid"
                  },
                  "marker": {
                    "symbol": "circle"
                  },
                  "mode": "lines+markers",
                  "name": "average_merge",
                  "orientation": "v",
                  "showlegend": true,
                  "type": "scatter",
                  "x": {
                    "bdata": "AAECAwQFBgcICQoLDA0ODxAREhMUFRYXGA==",
                    "dtype": "i1"
                  },
                  "xaxis": "x",
                  "y": {
                    "bdata": "AAAAgM1OOUAAAACgwRw6QAAAAIDMHztAAAAAwJamOkAAAADARuY9QAAAAMDAfj1AAAAAwNj6PUAAAABA9K0+QAAAAEDW3j5AAAAAoHk0P0AAAACg3vs+QAAAAMCsMz9AAAAAICcYP0AAAABgCb86QAAAAICbgTpAAAAAAHpEP0AAAADAfdc9QAAAACBsCD5AAAAAoO/ePkAAAADgy2c/QAAAAMAdVj9AAAAAAHNWP0AAAABg9i09QAAAAECfGz5AAAAAoJIUP0A=",
                    "dtype": "f8"
                  },
                  "yaxis": "y"
                },
                {
                  "hovertemplate": "model=similarity_merge<br>layer=%{x}<br>mean_token_norm=%{y}<extra></extra>",
                  "legendgroup": "similarity_merge",
                  "line": {
                    "color": "#00cc96",
                    "dash": "solid"
                  },
                  "marker": {
                    "symbol": "circle"
                  },
                  "mode": "lines+markers",
                  "name": "similarity_merge",
                  "orientation": "v",
                  "showlegend": true,
                  "type": "scatter",
                  "x": {
                    "bdata": "AAECAwQFBgcICQoLDA0ODxAREhMUFRYXGA==",
                    "dtype": "i1"
                  },
                  "xaxis": "x",
                  "y": {
                    "bdata": "AAAAwLlOOUAAAABAiRs6QAAAAEALHztAAAAAwGalOkAAAADgHuY9QAAAAKAufj1AAAAAgJ/6PUAAAABArK0+QAAAACDQ3j5AAAAAgFM0P0AAAAAgrfs+QAAAACB0Mz9AAAAA4P4XP0AAAAAAysE6QAAAAGCrgjpAAAAA4HNEP0AAAAAgMNg9QAAAAEDcCD5AAAAAIFLePkAAAACgOWU/QAAAAKBXUz9AAAAAoPdUP0AAAACgiS09QAAAAOA6Gz5AAAAAYGgUP0A=",
                    "dtype": "f8"
                  },
                  "yaxis": "y"
                },
                {
                  "hovertemplate": "model=task_arithmetic<br>layer=%{x}<br>mean_token_norm=%{y}<extra></extra>",
                  "legendgroup": "task_arithmetic",
                  "line": {
                    "color": "#ab63fa",
                    "dash": "solid"
                  },
                  "marker": {
                    "symbol": "circle"
                  },
                  "mode": "lines+markers",
                  "name": "task_arithmetic",
                  "orientation": "v",
                  "showlegend": true,
                  "type": "scatter",
                  "x": {
                    "bdata": "AAECAwQFBgcICQoLDA0ODxAREhMUFRYXGA==",
                    "dtype": "i1"
                  },
                  "xaxis": "x",
                  "y": {
                    "bdata": "AAAAYMlOOUAAAABAISA6QAAAAEDDIjtAAAAAQLGmOkAAAADAY+c9QAAAAKC5fj1AAAAAQEr8PUAAAACg/q0+QAAAAGBD3T5AAAAAQPMyP0AAAADgvfs+QAAAAMCBMj9AAAAAYKsXP0AAAACg1886QAAAAAALZTpAAAAAALg3P0AAAABA9M49QAAAAECLAD5AAAAAQNPbPkAAAABg4Wg/QAAAAGA1VD9AAAAAwAVRP0AAAABAMSw9QAAAAOAzFj5AAAAAIFcVP0A=",
                    "dtype": "f8"
                  },
                  "yaxis": "y"
                }
              ],
              "layout": {
                "legend": {
                  "title": {
                    "text": "model"
                  },
                  "tracegroupgap": 0
                },
                "template": {
                  "data": {
                    "bar": [
                      {
                        "error_x": {
                          "color": "#2a3f5f"
                        },
                        "error_y": {
                          "color": "#2a3f5f"
                        },
                        "marker": {
                          "line": {
                            "color": "#E5ECF6",
                            "width": 0.5
                          },
                          "pattern": {
                            "fillmode": "overlay",
                            "size": 10,
                            "solidity": 0.2
                          }
                        },
                        "type": "bar"
                      }
                    ],
                    "barpolar": [
                      {
                        "marker": {
                          "line": {
                            "color": "#E5ECF6",
                            "width": 0.5
                          },
                          "pattern": {
                            "fillmode": "overlay",
                            "size": 10,
                            "solidity": 0.2
                          }
                        },
                        "type": "barpolar"
                      }
                    ],
                    "carpet": [
                      {
                        "aaxis": {
                          "endlinecolor": "#2a3f5f",
                          "gridcolor": "white",
                          "linecolor": "white",
                          "minorgridcolor": "white",
                          "startlinecolor": "#2a3f5f"
                        },
                        "baxis": {
                          "endlinecolor": "#2a3f5f",
                          "gridcolor": "white",
                          "linecolor": "white",
                          "minorgridcolor": "white",
                          "startlinecolor": "#2a3f5f"
                        },
                        "type": "carpet"
                      }
                    ],
                    "choropleth": [
                      {
                        "colorbar": {
                          "outlinewidth": 0,
                          "ticks": ""
                        },
                        "type": "choropleth"
                      }
                    ],
                    "contour": [
                      {
                        "colorbar": {
                          "outlinewidth": 0,
                          "ticks": ""
                        },
                        "colorscale": [
                          [
                            0,
                            "#0d0887"
                          ],
                          [
                            0.1111111111111111,
                            "#46039f"
                          ],
                          [
                            0.2222222222222222,
                            "#7201a8"
                          ],
                          [
                            0.3333333333333333,
                            "#9c179e"
                          ],
                          [
                            0.4444444444444444,
                            "#bd3786"
                          ],
                          [
                            0.5555555555555556,
                            "#d8576b"
                          ],
                          [
                            0.6666666666666666,
                            "#ed7953"
                          ],
                          [
                            0.7777777777777778,
                            "#fb9f3a"
                          ],
                          [
                            0.8888888888888888,
                            "#fdca26"
                          ],
                          [
                            1,
                            "#f0f921"
                          ]
                        ],
                        "type": "contour"
                      }
                    ],
                    "contourcarpet": [
                      {
                        "colorbar": {
                          "outlinewidth": 0,
                          "ticks": ""
                        },
                        "type": "contourcarpet"
                      }
                    ],
                    "heatmap": [
                      {
                        "colorbar": {
                          "outlinewidth": 0,
                          "ticks": ""
                        },
                        "colorscale": [
                          [
                            0,
                            "#0d0887"
                          ],
                          [
                            0.1111111111111111,
                            "#46039f"
                          ],
                          [
                            0.2222222222222222,
                            "#7201a8"
                          ],
                          [
                            0.3333333333333333,
                            "#9c179e"
                          ],
                          [
                            0.4444444444444444,
                            "#bd3786"
                          ],
                          [
                            0.5555555555555556,
                            "#d8576b"
                          ],
                          [
                            0.6666666666666666,
                            "#ed7953"
                          ],
                          [
                            0.7777777777777778,
                            "#fb9f3a"
                          ],
                          [
                            0.8888888888888888,
                            "#fdca26"
                          ],
                          [
                            1,
                            "#f0f921"
                          ]
                        ],
                        "type": "heatmap"
                      }
                    ],
                    "histogram": [
                      {
                        "marker": {
                          "pattern": {
                            "fillmode": "overlay",
                            "size": 10,
                            "solidity": 0.2
                          }
                        },
                        "type": "histogram"
                      }
                    ],
                    "histogram2d": [
                      {
                        "colorbar": {
                          "outlinewidth": 0,
                          "ticks": ""
                        },
                        "colorscale": [
                          [
                            0,
                            "#0d0887"
                          ],
                          [
                            0.1111111111111111,
                            "#46039f"
                          ],
                          [
                            0.2222222222222222,
                            "#7201a8"
                          ],
                          [
                            0.3333333333333333,
                            "#9c179e"
                          ],
                          [
                            0.4444444444444444,
                            "#bd3786"
                          ],
                          [
                            0.5555555555555556,
                            "#d8576b"
                          ],
                          [
                            0.6666666666666666,
                            "#ed7953"
                          ],
                          [
                            0.7777777777777778,
                            "#fb9f3a"
                          ],
                          [
                            0.8888888888888888,
                            "#fdca26"
                          ],
                          [
                            1,
                            "#f0f921"
                          ]
                        ],
                        "type": "histogram2d"
                      }
                    ],
                    "histogram2dcontour": [
                      {
                        "colorbar": {
                          "outlinewidth": 0,
                          "ticks": ""
                        },
                        "colorscale": [
                          [
                            0,
                            "#0d0887"
                          ],
                          [
                            0.1111111111111111,
                            "#46039f"
                          ],
                          [
                            0.2222222222222222,
                            "#7201a8"
                          ],
                          [
                            0.3333333333333333,
                            "#9c179e"
                          ],
                          [
                            0.4444444444444444,
                            "#bd3786"
                          ],
                          [
                            0.5555555555555556,
                            "#d8576b"
                          ],
                          [
                            0.6666666666666666,
                            "#ed7953"
                          ],
                          [
                            0.7777777777777778,
                            "#fb9f3a"
                          ],
                          [
                            0.8888888888888888,
                            "#fdca26"
                          ],
                          [
                            1,
                            "#f0f921"
                          ]
                        ],
                        "type": "histogram2dcontour"
                      }
                    ],
                    "mesh3d": [
                      {
                        "colorbar": {
                          "outlinewidth": 0,
                          "ticks": ""
                        },
                        "type": "mesh3d"
                      }
                    ],
                    "parcoords": [
                      {
                        "line": {
                          "colorbar": {
                            "outlinewidth": 0,
                            "ticks": ""
                          }
                        },
                        "type": "parcoords"
                      }
                    ],
                    "pie": [
                      {
                        "automargin": true,
                        "type": "pie"
                      }
                    ],
                    "scatter": [
                      {
                        "fillpattern": {
                          "fillmode": "overlay",
                          "size": 10,
                          "solidity": 0.2
                        },
                        "type": "scatter"
                      }
                    ],
                    "scatter3d": [
                      {
                        "line": {
                          "colorbar": {
                            "outlinewidth": 0,
                            "ticks": ""
                          }
                        },
                        "marker": {
                          "colorbar": {
                            "outlinewidth": 0,
                            "ticks": ""
                          }
                        },
                        "type": "scatter3d"
                      }
                    ],
                    "scattercarpet": [
                      {
                        "marker": {
                          "colorbar": {
                            "outlinewidth": 0,
                            "ticks": ""
                          }
                        },
                        "type": "scattercarpet"
                      }
                    ],
                    "scattergeo": [
                      {
                        "marker": {
                          "colorbar": {
                            "outlinewidth": 0,
                            "ticks": ""
                          }
                        },
                        "type": "scattergeo"
                      }
                    ],
                    "scattergl": [
                      {
                        "marker": {
                          "colorbar": {
                            "outlinewidth": 0,
                            "ticks": ""
                          }
                        },
                        "type": "scattergl"
                      }
                    ],
                    "scattermap": [
                      {
                        "marker": {
                          "colorbar": {
                            "outlinewidth": 0,
                            "ticks": ""
                          }
                        },
                        "type": "scattermap"
                      }
                    ],
                    "scattermapbox": [
                      {
                        "marker": {
                          "colorbar": {
                            "outlinewidth": 0,
                            "ticks": ""
                          }
                        },
                        "type": "scattermapbox"
                      }
                    ],
                    "scatterpolar": [
                      {
                        "marker": {
                          "colorbar": {
                            "outlinewidth": 0,
                            "ticks": ""
                          }
                        },
                        "type": "scatterpolar"
                      }
                    ],
                    "scatterpolargl": [
                      {
                        "marker": {
                          "colorbar": {
                            "outlinewidth": 0,
                            "ticks": ""
                          }
                        },
                        "type": "scatterpolargl"
                      }
                    ],
                    "scatterternary": [
                      {
                        "marker": {
                          "colorbar": {
                            "outlinewidth": 0,
                            "ticks": ""
                          }
                        },
                        "type": "scatterternary"
                      }
                    ],
                    "surface": [
                      {
                        "colorbar": {
                          "outlinewidth": 0,
                          "ticks": ""
                        },
                        "colorscale": [
                          [
                            0,
                            "#0d0887"
                          ],
                          [
                            0.1111111111111111,
                            "#46039f"
                          ],
                          [
                            0.2222222222222222,
                            "#7201a8"
                          ],
                          [
                            0.3333333333333333,
                            "#9c179e"
                          ],
                          [
                            0.4444444444444444,
                            "#bd3786"
                          ],
                          [
                            0.5555555555555556,
                            "#d8576b"
                          ],
                          [
                            0.6666666666666666,
                            "#ed7953"
                          ],
                          [
                            0.7777777777777778,
                            "#fb9f3a"
                          ],
                          [
                            0.8888888888888888,
                            "#fdca26"
                          ],
                          [
                            1,
                            "#f0f921"
                          ]
                        ],
                        "type": "surface"
                      }
                    ],
                    "table": [
                      {
                        "cells": {
                          "fill": {
                            "color": "#EBF0F8"
                          },
                          "line": {
                            "color": "white"
                          }
                        },
                        "header": {
                          "fill": {
                            "color": "#C8D4E3"
                          },
                          "line": {
                            "color": "white"
                          }
                        },
                        "type": "table"
                      }
                    ]
                  },
                  "layout": {
                    "annotationdefaults": {
                      "arrowcolor": "#2a3f5f",
                      "arrowhead": 0,
                      "arrowwidth": 1
                    },
                    "autotypenumbers": "strict",
                    "coloraxis": {
                      "colorbar": {
                        "outlinewidth": 0,
                        "ticks": ""
                      }
                    },
                    "colorscale": {
                      "diverging": [
                        [
                          0,
                          "#8e0152"
                        ],
                        [
                          0.1,
                          "#c51b7d"
                        ],
                        [
                          0.2,
                          "#de77ae"
                        ],
                        [
                          0.3,
                          "#f1b6da"
                        ],
                        [
                          0.4,
                          "#fde0ef"
                        ],
                        [
                          0.5,
                          "#f7f7f7"
                        ],
                        [
                          0.6,
                          "#e6f5d0"
                        ],
                        [
                          0.7,
                          "#b8e186"
                        ],
                        [
                          0.8,
                          "#7fbc41"
                        ],
                        [
                          0.9,
                          "#4d9221"
                        ],
                        [
                          1,
                          "#276419"
                        ]
                      ],
                      "sequential": [
                        [
                          0,
                          "#0d0887"
                        ],
                        [
                          0.1111111111111111,
                          "#46039f"
                        ],
                        [
                          0.2222222222222222,
                          "#7201a8"
                        ],
                        [
                          0.3333333333333333,
                          "#9c179e"
                        ],
                        [
                          0.4444444444444444,
                          "#bd3786"
                        ],
                        [
                          0.5555555555555556,
                          "#d8576b"
                        ],
                        [
                          0.6666666666666666,
                          "#ed7953"
                        ],
                        [
                          0.7777777777777778,
                          "#fb9f3a"
                        ],
                        [
                          0.8888888888888888,
                          "#fdca26"
                        ],
                        [
                          1,
                          "#f0f921"
                        ]
                      ],
                      "sequentialminus": [
                        [
                          0,
                          "#0d0887"
                        ],
                        [
                          0.1111111111111111,
                          "#46039f"
                        ],
                        [
                          0.2222222222222222,
                          "#7201a8"
                        ],
                        [
                          0.3333333333333333,
                          "#9c179e"
                        ],
                        [
                          0.4444444444444444,
                          "#bd3786"
                        ],
                        [
                          0.5555555555555556,
                          "#d8576b"
                        ],
                        [
                          0.6666666666666666,
                          "#ed7953"
                        ],
                        [
                          0.7777777777777778,
                          "#fb9f3a"
                        ],
                        [
                          0.8888888888888888,
                          "#fdca26"
                        ],
                        [
                          1,
                          "#f0f921"
                        ]
                      ]
                    },
                    "colorway": [
                      "#636efa",
                      "#EF553B",
                      "#00cc96",
                      "#ab63fa",
                      "#FFA15A",
                      "#19d3f3",
                      "#FF6692",
                      "#B6E880",
                      "#FF97FF",
                      "#FECB52"
                    ],
                    "font": {
                      "color": "#2a3f5f"
                    },
                    "geo": {
                      "bgcolor": "white",
                      "lakecolor": "white",
                      "landcolor": "#E5ECF6",
                      "showlakes": true,
                      "showland": true,
                      "subunitcolor": "white"
                    },
                    "hoverlabel": {
                      "align": "left"
                    },
                    "hovermode": "closest",
                    "mapbox": {
                      "style": "light"
                    },
                    "paper_bgcolor": "white",
                    "plot_bgcolor": "#E5ECF6",
                    "polar": {
                      "angularaxis": {
                        "gridcolor": "white",
                        "linecolor": "white",
                        "ticks": ""
                      },
                      "bgcolor": "#E5ECF6",
                      "radialaxis": {
                        "gridcolor": "white",
                        "linecolor": "white",
                        "ticks": ""
                      }
                    },
                    "scene": {
                      "xaxis": {
                        "backgroundcolor": "#E5ECF6",
                        "gridcolor": "white",
                        "gridwidth": 2,
                        "linecolor": "white",
                        "showbackground": true,
                        "ticks": "",
                        "zerolinecolor": "white"
                      },
                      "yaxis": {
                        "backgroundcolor": "#E5ECF6",
                        "gridcolor": "white",
                        "gridwidth": 2,
                        "linecolor": "white",
                        "showbackground": true,
                        "ticks": "",
                        "zerolinecolor": "white"
                      },
                      "zaxis": {
                        "backgroundcolor": "#E5ECF6",
                        "gridcolor": "white",
                        "gridwidth": 2,
                        "linecolor": "white",
                        "showbackground": true,
                        "ticks": "",
                        "zerolinecolor": "white"
                      }
                    },
                    "shapedefaults": {
                      "line": {
                        "color": "#2a3f5f"
                      }
                    },
                    "ternary": {
                      "aaxis": {
                        "gridcolor": "white",
                        "linecolor": "white",
                        "ticks": ""
                      },
                      "baxis": {
                        "gridcolor": "white",
                        "linecolor": "white",
                        "ticks": ""
                      },
                      "bgcolor": "#E5ECF6",
                      "caxis": {
                        "gridcolor": "white",
                        "linecolor": "white",
                        "ticks": ""
                      }
                    },
                    "title": {
                      "x": 0.05
                    },
                    "xaxis": {
                      "automargin": true,
                      "gridcolor": "white",
                      "linecolor": "white",
                      "ticks": "",
                      "title": {
                        "standoff": 15
                      },
                      "zerolinecolor": "white",
                      "zerolinewidth": 2
                    },
                    "yaxis": {
                      "automargin": true,
                      "gridcolor": "white",
                      "linecolor": "white",
                      "ticks": "",
                      "title": {
                        "standoff": 15
                      },
                      "zerolinecolor": "white",
                      "zerolinewidth": 2
                    }
                  }
                },
                "title": {
                  "text": "Hidden state mean token norm"
                },
                "xaxis": {
                  "anchor": "y",
                  "domain": [
                    0,
                    1
                  ],
                  "title": {
                    "text": "layer"
                  }
                },
                "yaxis": {
                  "anchor": "x",
                  "domain": [
                    0,
                    1
                  ],
                  "title": {
                    "text": "mean_token_norm"
                  }
                }
              }
            }
          },
          "metadata": {},
          "output_type": "display_data"
        }
      ],
      "source": [
        "if not hidden_df.empty:\n",
        "    fig = px.line(\n",
        "        hidden_df,\n",
        "        x=\"layer\",\n",
        "        y=\"mean_token_norm\",\n",
        "        color=\"model\",\n",
        "        markers=True,\n",
        "        title=\"Hidden state mean token norm\",\n",
        "    )\n",
        "    fig.show()"
      ]
    },
    {
      "cell_type": "code",
      "execution_count": 42,
      "id": "1d2da718",
      "metadata": {},
      "outputs": [
        {
          "data": {
            "text/html": [
              "<div>\n",
              "<style scoped>\n",
              "    .dataframe tbody tr th:only-of-type {\n",
              "        vertical-align: middle;\n",
              "    }\n",
              "\n",
              "    .dataframe tbody tr th {\n",
              "        vertical-align: top;\n",
              "    }\n",
              "\n",
              "    .dataframe thead th {\n",
              "        text-align: right;\n",
              "    }\n",
              "</style>\n",
              "<table border=\"1\" class=\"dataframe\">\n",
              "  <thead>\n",
              "    <tr style=\"text-align: right;\">\n",
              "      <th></th>\n",
              "      <th>logit_mean</th>\n",
              "      <th>logit_std</th>\n",
              "      <th>confidence_mean</th>\n",
              "      <th>confidence_std</th>\n",
              "      <th>entropy_mean</th>\n",
              "      <th>model</th>\n",
              "    </tr>\n",
              "  </thead>\n",
              "  <tbody>\n",
              "    <tr>\n",
              "      <th>0</th>\n",
              "      <td>-0.010651</td>\n",
              "      <td>1.188301</td>\n",
              "      <td>0.707544</td>\n",
              "      <td>0.273955</td>\n",
              "      <td>1.268016</td>\n",
              "      <td>baseline</td>\n",
              "    </tr>\n",
              "    <tr>\n",
              "      <th>1</th>\n",
              "      <td>-0.020823</td>\n",
              "      <td>1.240772</td>\n",
              "      <td>0.676651</td>\n",
              "      <td>0.369514</td>\n",
              "      <td>1.414951</td>\n",
              "      <td>average_merge</td>\n",
              "    </tr>\n",
              "    <tr>\n",
              "      <th>2</th>\n",
              "      <td>-0.021111</td>\n",
              "      <td>1.239554</td>\n",
              "      <td>0.670703</td>\n",
              "      <td>0.374095</td>\n",
              "      <td>1.430731</td>\n",
              "      <td>similarity_merge</td>\n",
              "    </tr>\n",
              "    <tr>\n",
              "      <th>3</th>\n",
              "      <td>-0.015142</td>\n",
              "      <td>1.241151</td>\n",
              "      <td>0.651967</td>\n",
              "      <td>0.384257</td>\n",
              "      <td>1.462145</td>\n",
              "      <td>task_arithmetic</td>\n",
              "    </tr>\n",
              "  </tbody>\n",
              "</table>\n",
              "</div>"
            ],
            "text/plain": [
              "   logit_mean  logit_std  confidence_mean  confidence_std  entropy_mean  \\\n",
              "0   -0.010651   1.188301         0.707544        0.273955      1.268016   \n",
              "1   -0.020823   1.240772         0.676651        0.369514      1.414951   \n",
              "2   -0.021111   1.239554         0.670703        0.374095      1.430731   \n",
              "3   -0.015142   1.241151         0.651967        0.384257      1.462145   \n",
              "\n",
              "              model  \n",
              "0          baseline  \n",
              "1     average_merge  \n",
              "2  similarity_merge  \n",
              "3   task_arithmetic  "
            ]
          },
          "metadata": {},
          "output_type": "display_data"
        }
      ],
      "source": [
        "logit_rows = []\n",
        "for name, signal in signals.items():\n",
        "    stats = summarize_logits(signal[\"logits\"])\n",
        "    stats[\"model\"] = name\n",
        "    logit_rows.append(stats)\n",
        "\n",
        "logit_df = pd.DataFrame(logit_rows)\n",
        "display(logit_df)"
      ]
    }
  ],
  "metadata": {
    "kernelspec": {
      "display_name": "Python 3",
      "language": "python",
      "name": "python3"
    },
    "language_info": {
      "name": "python"
    }
  },
  "nbformat": 4,
  "nbformat_minor": 5
}
