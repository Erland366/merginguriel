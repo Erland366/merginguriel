{
  "cells": [
    {
      "cell_type": "markdown",
      "metadata": {},
      "source": [
        "# Merge Method Microscope\n",
        "\n",
        "Investigate how different merging strategies modify weights, attention patterns, and activations for a specific target locale. Edit the configuration cells below to choose the baseline and dynamic merges you want to analyse."
      ]
    },
    {
      "cell_type": "markdown",
      "metadata": {},
      "source": [
        "## 0. Imports\n",
        "\n",
        "Helper utilities live in `merginguriel/analysis_helpers.py`. They load checkpoints, compute parameter deltas, and summarise attention/hidden-state statistics."
      ]
    },
    {
      "cell_type": "code",
      "execution_count": 1,
      "metadata": {},
      "outputs": [
        {
          "name": "stderr",
          "output_type": "stream",
          "text": [
            "/home/coder/Python_project/MergingUriel/submodules/lang2vec/lang2vec/lang2vec.py:8: UserWarning: pkg_resources is deprecated as an API. See https://setuptools.pypa.io/en/latest/pkg_resources.html. The pkg_resources package is slated for removal as early as 2025-11-30. Refrain from using this package or pin to Setuptools<81.\n",
            "  import pkg_resources\n"
          ]
        }
      ],
      "source": [
        "from collections import OrderedDict\n",
        "from pathlib import Path\n",
        "\n",
        "import pandas as pd\n",
        "import plotly.express as px\n",
        "import torch\n",
        "from IPython.display import display\n",
        "\n",
        "from merginguriel.analysis_helpers import (\n",
        "    aggregate_parameter_stats,\n",
        "    collect_model_signals,\n",
        "    compute_weight_deltas,\n",
        "    ensure_text_samples,\n",
        "    load_model_artifacts,\n",
        "    merge_models_in_memory,\n",
        "    summarize_attentions,\n",
        "    summarize_hidden_states,\n",
        "    summarize_logits,\n",
        ")\n",
        "from merginguriel.run_merging_pipeline_refactored import MergeConfig\n",
        "\n",
        "pd.set_option(\"display.max_rows\", 200)\n",
        "pd.set_option(\"display.max_columns\", 50)"
      ]
    },
    {
      "cell_type": "markdown",
      "metadata": {},
      "source": [
        "## 1. Configure target & merge recipes\n",
        "\n",
        "Update `TARGET_LOCALE` and tweak `MODEL_SETUPS` to point at the baseline model and the on-the-fly merge configurations you want to compare. Remove any entries that do not make sense for your experiment (e.g., if a dataset is unavailable)."
      ]
    },
    {
      "cell_type": "code",
      "execution_count": 2,
      "metadata": {},
      "outputs": [],
      "source": [
        "from merginguriel.run_merging_pipeline_refactored import MergeConfig as MergeConfg\n",
        "PROJECT_ROOT = Path.cwd().resolve().parent\n",
        "BASE_DIR = PROJECT_ROOT / \"haryos_model\"\n",
        "\n",
        "TARGET_LOCALE = \"af-ZA\"  # <-- adjust target locale\n",
        "DEFAULT_NUM_LANGUAGES = 5\n",
        "\n",
        "MODEL_SETUPS = OrderedDict({\n",
        "    \"baseline\": {\n",
        "        \"kind\": \"pretrained\",\n",
        "        \"path\": BASE_DIR / f\"xlm-roberta-base_massive_k_{TARGET_LOCALE}\",\n",
        "        \"notes\": \"Target-specific fine-tuned baseline\",\n",
        "    },\n",
        "    \"average_merge\": {\n",
        "        \"kind\": \"merge\",\n",
        "        \"config\": MergeConfg(\n",
        "            mode=\"average\",\n",
        "            target_lang=TARGET_LOCALE,\n",
        "            base_model=\"xlm-roberta-base\",\n",
        "            num_languages=DEFAULT_NUM_LANGUAGES,\n",
        "        ),\n",
        "        \"notes\": \"Equal-weight merge of top-K sources\",\n",
        "    },\n",
        "    \"similarity_merge\": {\n",
        "        \"kind\": \"merge\",\n",
        "        \"config\": MergeConfig(\n",
        "            mode=\"similarity\",\n",
        "            target_lang=TARGET_LOCALE,\n",
        "            base_model=\"xlm-roberta-base\",\n",
        "            num_languages=DEFAULT_NUM_LANGUAGES,\n",
        "            similarity_type=\"URIEL\",\n",
        "        ),\n",
        "        \"notes\": \"URIEL-weighted similarity merge\",\n",
        "    },\n",
        "    \"task_arithmetic\": {\n",
        "        \"kind\": \"merge\",\n",
        "        \"config\": MergeConfig(\n",
        "            mode=\"task_arithmetic\",\n",
        "            target_lang=TARGET_LOCALE,\n",
        "            base_model=\"xlm-roberta-base\",\n",
        "            num_languages=DEFAULT_NUM_LANGUAGES,\n",
        "        ),\n",
        "        \"notes\": \"Task arithmetic using similarity-selected sources\",\n",
        "    },\n",
        "    # \"fisher_dataset\": {\n",
        "    #     \"kind\": \"merge\",\n",
        "    #     \"config\": MergeConfig(\n",
        "    #         mode=\"fisher_dataset\",\n",
        "    #         target_lang=TARGET_LOCALE,\n",
        "    #         base_model=\"xlm-roberta-base\",\n",
        "    #         num_languages=DEFAULT_NUM_LANGUAGES,\n",
        "    #         dataset_name=\"AmazonScience/massive\",\n",
        "    #         dataset_split=\"train\",\n",
        "    #         text_column=\"utt\",\n",
        "    #         num_fisher_examples=500,\n",
        "    #         fisher_data_mode=\"target\",\n",
        "    #         preweight=\"uriel\",\n",
        "    #     ),\n",
        "    #     \"notes\": \"Fisher merge (requires dataset access)\",\n",
        "    # },\n",
        "})"
      ]
    },
    {
      "cell_type": "markdown",
      "metadata": {},
      "source": [
        "## 2. Inspect available setups\n",
        "\n",
        "The table summarises which resources will be used. Paths that do not exist are skipped when loading."
      ]
    },
    {
      "cell_type": "code",
      "execution_count": 3,
      "metadata": {},
      "outputs": [
        {
          "data": {
            "text/html": [
              "<div>\n",
              "<style scoped>\n",
              "    .dataframe tbody tr th:only-of-type {\n",
              "        vertical-align: middle;\n",
              "    }\n",
              "\n",
              "    .dataframe tbody tr th {\n",
              "        vertical-align: top;\n",
              "    }\n",
              "\n",
              "    .dataframe thead th {\n",
              "        text-align: right;\n",
              "    }\n",
              "</style>\n",
              "<table border=\"1\" class=\"dataframe\">\n",
              "  <thead>\n",
              "    <tr style=\"text-align: right;\">\n",
              "      <th></th>\n",
              "      <th>model</th>\n",
              "      <th>kind</th>\n",
              "      <th>notes</th>\n",
              "      <th>path</th>\n",
              "      <th>exists</th>\n",
              "      <th>mode</th>\n",
              "      <th>target_lang</th>\n",
              "      <th>num_languages</th>\n",
              "      <th>preweight</th>\n",
              "    </tr>\n",
              "  </thead>\n",
              "  <tbody>\n",
              "    <tr>\n",
              "      <th>0</th>\n",
              "      <td>baseline</td>\n",
              "      <td>pretrained</td>\n",
              "      <td>Target-specific fine-tuned baseline</td>\n",
              "      <td>/home/coder/Python_project/MergingUriel/haryos...</td>\n",
              "      <td>True</td>\n",
              "      <td>NaN</td>\n",
              "      <td>NaN</td>\n",
              "      <td>NaN</td>\n",
              "      <td>NaN</td>\n",
              "    </tr>\n",
              "    <tr>\n",
              "      <th>1</th>\n",
              "      <td>average_merge</td>\n",
              "      <td>merge</td>\n",
              "      <td>Equal-weight merge of top-K sources</td>\n",
              "      <td>NaN</td>\n",
              "      <td>NaN</td>\n",
              "      <td>average</td>\n",
              "      <td>af-ZA</td>\n",
              "      <td>5.0</td>\n",
              "      <td>equal</td>\n",
              "    </tr>\n",
              "    <tr>\n",
              "      <th>2</th>\n",
              "      <td>similarity_merge</td>\n",
              "      <td>merge</td>\n",
              "      <td>URIEL-weighted similarity merge</td>\n",
              "      <td>NaN</td>\n",
              "      <td>NaN</td>\n",
              "      <td>similarity</td>\n",
              "      <td>af-ZA</td>\n",
              "      <td>5.0</td>\n",
              "      <td>equal</td>\n",
              "    </tr>\n",
              "    <tr>\n",
              "      <th>3</th>\n",
              "      <td>task_arithmetic</td>\n",
              "      <td>merge</td>\n",
              "      <td>Task arithmetic using similarity-selected sources</td>\n",
              "      <td>NaN</td>\n",
              "      <td>NaN</td>\n",
              "      <td>task_arithmetic</td>\n",
              "      <td>af-ZA</td>\n",
              "      <td>5.0</td>\n",
              "      <td>equal</td>\n",
              "    </tr>\n",
              "  </tbody>\n",
              "</table>\n",
              "</div>"
            ],
            "text/plain": [
              "              model        kind  \\\n",
              "0          baseline  pretrained   \n",
              "1     average_merge       merge   \n",
              "2  similarity_merge       merge   \n",
              "3   task_arithmetic       merge   \n",
              "\n",
              "                                               notes  \\\n",
              "0                Target-specific fine-tuned baseline   \n",
              "1                Equal-weight merge of top-K sources   \n",
              "2                    URIEL-weighted similarity merge   \n",
              "3  Task arithmetic using similarity-selected sources   \n",
              "\n",
              "                                                path exists             mode  \\\n",
              "0  /home/coder/Python_project/MergingUriel/haryos...   True              NaN   \n",
              "1                                                NaN    NaN          average   \n",
              "2                                                NaN    NaN       similarity   \n",
              "3                                                NaN    NaN  task_arithmetic   \n",
              "\n",
              "  target_lang  num_languages preweight  \n",
              "0         NaN            NaN       NaN  \n",
              "1       af-ZA            5.0     equal  \n",
              "2       af-ZA            5.0     equal  \n",
              "3       af-ZA            5.0     equal  "
            ]
          },
          "metadata": {},
          "output_type": "display_data"
        }
      ],
      "source": [
        "summary_rows = []\n",
        "for name, cfg in MODEL_SETUPS.items():\n",
        "    row = {\"model\": name, \"kind\": cfg[\"kind\"], \"notes\": cfg.get(\"notes\", \"\")} \n",
        "    if cfg[\"kind\"] == \"pretrained\":\n",
        "        path = cfg[\"path\"]\n",
        "        row[\"path\"] = str(path)\n",
        "        row[\"exists\"] = path.exists()\n",
        "    else:\n",
        "        conf = cfg[\"config\"]\n",
        "        row[\"mode\"] = conf.mode\n",
        "        row[\"target_lang\"] = conf.target_lang\n",
        "        row[\"num_languages\"] = conf.num_languages\n",
        "        row[\"preweight\"] = getattr(conf, \"preweight\", None)\n",
        "    summary_rows.append(row)\n",
        "\n",
        "display(pd.DataFrame(summary_rows))"
      ]
    },
    {
      "cell_type": "markdown",
      "metadata": {},
      "source": [
        "## 3. Load baseline & run dynamic merges\n",
        "\n",
        "Each merge configuration is executed on demand so no checkpoints need to live on disk. Results are cached in-memory for the rest of the notebook session."
      ]
    },
    {
      "cell_type": "code",
      "execution_count": 4,
      "metadata": {},
      "outputs": [
        {
          "name": "stderr",
          "output_type": "stream",
          "text": [
            "2025-10-29 06:04:36.761795: E external/local_xla/xla/stream_executor/cuda/cuda_fft.cc:467] Unable to register cuFFT factory: Attempting to register factory for plugin cuFFT when one has already been registered\n",
            "WARNING: All log messages before absl::InitializeLog() is called are written to STDERR\n",
            "E0000 00:00:1761717876.770292  763754 cuda_dnn.cc:8579] Unable to register cuDNN factory: Attempting to register factory for plugin cuDNN when one has already been registered\n",
            "E0000 00:00:1761717876.773202  763754 cuda_blas.cc:1407] Unable to register cuBLAS factory: Attempting to register factory for plugin cuBLAS when one has already been registered\n",
            "W0000 00:00:1761717876.783352  763754 computation_placer.cc:177] computation placer already registered. Please check linkage and avoid linking the same target more than once.\n",
            "W0000 00:00:1761717876.783362  763754 computation_placer.cc:177] computation placer already registered. Please check linkage and avoid linking the same target more than once.\n",
            "W0000 00:00:1761717876.783363  763754 computation_placer.cc:177] computation placer already registered. Please check linkage and avoid linking the same target more than once.\n",
            "W0000 00:00:1761717876.783365  763754 computation_placer.cc:177] computation placer already registered. Please check linkage and avoid linking the same target more than once.\n",
            "2025-10-29 06:04:36.786799: I tensorflow/core/platform/cpu_feature_guard.cc:210] This TensorFlow binary is optimized to use available CPU instructions in performance-critical operations.\n",
            "To enable the following instructions: AVX2 FMA, in other operations, rebuild TensorFlow with the appropriate compiler flags.\n"
          ]
        },
        {
          "name": "stdout",
          "output_type": "stream",
          "text": [
            "\n",
            "--- Setting Up Average (Equal) Weights for af-ZA ---\n",
            "\n",
            "--- Computing Similarity Weights for af-ZA ---\n",
            "Using URIEL similarity matrix with top-k + Sinkhorn normalization\n",
            "Loading similarity matrix from /home/coder/Python_project/MergingUriel/language_similarity_matrix_unified.csv\n",
            "Loaded similarity matrix with shape: (50, 50)\n",
            "Available languages: ['af-ZA', 'am-ET', 'ar-SA', 'az-AZ', 'bn-BD', 'ca-ES', 'cy-GB', 'da-DK', 'de-DE', 'el-GR', 'en-US', 'es-ES', 'fa-IR', 'fi-FI', 'fr-FR', 'hi-IN', 'hu-HU', 'hy-AM', 'id-ID', 'is-IS', 'it-IT', 'ja-JP', 'jv-ID', 'ka-GE', 'km-KH', 'kn-IN', 'ko-KR', 'lv-LV', 'ml-IN', 'mn-MN', 'ms-MY', 'my-MM', 'nb-NO', 'nl-NL', 'pl-PL', 'pt-PT', 'ro-RO', 'ru-RU', 'sl-SL', 'sq-AL', 'sw-KE', 'ta-IN', 'te-IN', 'th-TH', 'tl-PH', 'tr-TR', 'ur-PK', 'vi-VN', 'zh-TW', 'zh-TW']\n",
            "Processing similarity matrix for af-ZA\n",
            "Matrix shape: (50, 50)\n",
            "Applying top-k filtering (k=20)...\n",
            "Warning: The diagonal of the matrix does consist entirely of ones. We will make it to 0\n",
            "50\n",
            "Applying Sinkhorn normalization (20 iterations)...\n",
            "Generated processed matrix: (50, 50)\n",
            "Top 5 similar languages to af-ZA:\n",
            "  - id-ID: 0.155954\n",
            "  - hy-AM: 0.131718\n",
            "  - hu-HU: 0.082442\n",
            "  - ka-GE: 0.053228\n",
            "  - nl-NL: 0.042315\n",
            "  ✓ /home/coder/Python_project/MergingUriel/haryos_model/xlm-roberta-base_massive_k_id-ID: 0.155954 (locale: id-ID)\n",
            "  ✓ /home/coder/Python_project/MergingUriel/haryos_model/xlm-roberta-base_massive_k_hy-AM: 0.131718 (locale: hy-AM)\n",
            "  ✓ /home/coder/Python_project/MergingUriel/haryos_model/xlm-roberta-base_massive_k_hu-HU: 0.082442 (locale: hu-HU)\n",
            "  ✓ /home/coder/Python_project/MergingUriel/haryos_model/xlm-roberta-base_massive_k_ka-GE: 0.053228 (locale: ka-GE)\n",
            "  ✓ /home/coder/Python_project/MergingUriel/haryos_model/xlm-roberta-base_massive_k_nl-NL: 0.042315 (locale: nl-NL)\n",
            "Using equal weights for 5 models: 0.200000 each\n",
            "\n",
            "--- Performing Model Merge ---\n",
            "Base model: /home/coder/Python_project/MergingUriel/haryos_model/xlm-roberta-base_massive_k_id-ID\n",
            "Models to merge: ['/home/coder/Python_project/MergingUriel/haryos_model/xlm-roberta-base_massive_k_hy-AM', '/home/coder/Python_project/MergingUriel/haryos_model/xlm-roberta-base_massive_k_hu-HU', '/home/coder/Python_project/MergingUriel/haryos_model/xlm-roberta-base_massive_k_ka-GE', '/home/coder/Python_project/MergingUriel/haryos_model/xlm-roberta-base_massive_k_nl-NL']\n",
            "Weights: [0.2, 0.2, 0.2, 0.2]\n",
            "2025-10-29 06:04:41 - auto_merge_llm.tokenizer.build_tokenizer_embed - INFO - Vocab size of pretrained model is %d .\n",
            "2025-10-29 06:04:42 - auto_merge_llm.tokenizer.build_tokenizer_embed - INFO - Vocab size of index %d finetuned model is %d.\n",
            "2025-10-29 06:04:42 - auto_merge_llm.tokenizer.build_tokenizer_embed - INFO - Added pad tokens of index 0 finetuned model is [].\n",
            "2025-10-29 06:04:42 - auto_merge_llm.tokenizer.build_tokenizer_embed - INFO - Vocab size of index %d finetuned model is %d.\n",
            "2025-10-29 06:04:42 - auto_merge_llm.tokenizer.build_tokenizer_embed - INFO - Added pad tokens of index 1 finetuned model is [].\n",
            "2025-10-29 06:04:42 - auto_merge_llm.tokenizer.build_tokenizer_embed - INFO - Vocab size of index %d finetuned model is %d.\n",
            "2025-10-29 06:04:42 - auto_merge_llm.tokenizer.build_tokenizer_embed - INFO - Added pad tokens of index 2 finetuned model is [].\n",
            "2025-10-29 06:04:43 - auto_merge_llm.tokenizer.build_tokenizer_embed - INFO - Vocab size of index %d finetuned model is %d.\n",
            "2025-10-29 06:04:43 - auto_merge_llm.tokenizer.build_tokenizer_embed - INFO - Added pad tokens of index 3 finetuned model is [].\n",
            "2025-10-29 06:04:43 - auto_merge_llm.tokenizer.build_tokenizer_embed - INFO - All added pad tokens of finetuned models are set().\n",
            "2025-10-29 06:04:43 - auto_merge_llm.tokenizer.build_tokenizer_embed - INFO - Aligned index 0 model: input token embedding shape torch.Size([250002, 768]), output token embedding shape N/A, tokenizer added tokens [{'id': 0, 'content': '<s>', 'single_word': False, 'lstrip': False, 'rstrip': False, 'normalized': False, 'special': True}, {'id': 1, 'content': '<pad>', 'single_word': False, 'lstrip': False, 'rstrip': False, 'normalized': False, 'special': True}, {'id': 2, 'content': '</s>', 'single_word': False, 'lstrip': False, 'rstrip': False, 'normalized': False, 'special': True}, {'id': 3, 'content': '<unk>', 'single_word': False, 'lstrip': False, 'rstrip': False, 'normalized': False, 'special': True}, {'id': 250001, 'content': '<mask>', 'single_word': False, 'lstrip': True, 'rstrip': False, 'normalized': False, 'special': True}].\n",
            "2025-10-29 06:04:43 - auto_merge_llm.tokenizer.build_tokenizer_embed - INFO - Aligned index 1 model: input token embedding shape torch.Size([250002, 768]), output token embedding shape N/A, tokenizer added tokens [{'id': 0, 'content': '<s>', 'single_word': False, 'lstrip': False, 'rstrip': False, 'normalized': False, 'special': True}, {'id': 1, 'content': '<pad>', 'single_word': False, 'lstrip': False, 'rstrip': False, 'normalized': False, 'special': True}, {'id': 2, 'content': '</s>', 'single_word': False, 'lstrip': False, 'rstrip': False, 'normalized': False, 'special': True}, {'id': 3, 'content': '<unk>', 'single_word': False, 'lstrip': False, 'rstrip': False, 'normalized': False, 'special': True}, {'id': 250001, 'content': '<mask>', 'single_word': False, 'lstrip': True, 'rstrip': False, 'normalized': False, 'special': True}].\n",
            "2025-10-29 06:04:44 - auto_merge_llm.tokenizer.build_tokenizer_embed - INFO - Aligned index 2 model: input token embedding shape torch.Size([250002, 768]), output token embedding shape N/A, tokenizer added tokens [{'id': 0, 'content': '<s>', 'single_word': False, 'lstrip': False, 'rstrip': False, 'normalized': False, 'special': True}, {'id': 1, 'content': '<pad>', 'single_word': False, 'lstrip': False, 'rstrip': False, 'normalized': False, 'special': True}, {'id': 2, 'content': '</s>', 'single_word': False, 'lstrip': False, 'rstrip': False, 'normalized': False, 'special': True}, {'id': 3, 'content': '<unk>', 'single_word': False, 'lstrip': False, 'rstrip': False, 'normalized': False, 'special': True}, {'id': 250001, 'content': '<mask>', 'single_word': False, 'lstrip': True, 'rstrip': False, 'normalized': False, 'special': True}].\n",
            "2025-10-29 06:04:44 - auto_merge_llm.tokenizer.build_tokenizer_embed - INFO - Aligned index 3 model: input token embedding shape torch.Size([250002, 768]), output token embedding shape N/A, tokenizer added tokens [{'id': 0, 'content': '<s>', 'single_word': False, 'lstrip': False, 'rstrip': False, 'normalized': False, 'special': True}, {'id': 1, 'content': '<pad>', 'single_word': False, 'lstrip': False, 'rstrip': False, 'normalized': False, 'special': True}, {'id': 2, 'content': '</s>', 'single_word': False, 'lstrip': False, 'rstrip': False, 'normalized': False, 'special': True}, {'id': 3, 'content': '<unk>', 'single_word': False, 'lstrip': False, 'rstrip': False, 'normalized': False, 'special': True}, {'id': 250001, 'content': '<mask>', 'single_word': False, 'lstrip': True, 'rstrip': False, 'normalized': False, 'special': True}].\n",
            "2025-10-29 06:04:44 - auto_merge_llm.tokenizer.build_tokenizer_embed - INFO - Aligned index 4 model: input token embedding shape torch.Size([250002, 768]), output token embedding shape N/A, tokenizer added tokens [{'id': 0, 'content': '<s>', 'single_word': False, 'lstrip': False, 'rstrip': False, 'normalized': False, 'special': True}, {'id': 1, 'content': '<pad>', 'single_word': False, 'lstrip': False, 'rstrip': False, 'normalized': False, 'special': True}, {'id': 2, 'content': '</s>', 'single_word': False, 'lstrip': False, 'rstrip': False, 'normalized': False, 'special': True}, {'id': 3, 'content': '<unk>', 'single_word': False, 'lstrip': False, 'rstrip': False, 'normalized': False, 'special': True}, {'id': 250001, 'content': '<mask>', 'single_word': False, 'lstrip': True, 'rstrip': False, 'normalized': False, 'special': True}].\n",
            "2025-10-29 06:04:44 - auto_merge_llm.tokenizer.build_tokenizer_embed - INFO - Current aligned model vocab sizes: {torch.Size([250002, 768])}\n",
            "Merge successful!\n",
            "\n",
            "--- Computing Similarity Weights for af-ZA ---\n",
            "Using URIEL similarity matrix with top-k + Sinkhorn normalization\n",
            "Loading similarity matrix from /home/coder/Python_project/MergingUriel/language_similarity_matrix_unified.csv\n",
            "Loaded similarity matrix with shape: (50, 50)\n",
            "Available languages: ['af-ZA', 'am-ET', 'ar-SA', 'az-AZ', 'bn-BD', 'ca-ES', 'cy-GB', 'da-DK', 'de-DE', 'el-GR', 'en-US', 'es-ES', 'fa-IR', 'fi-FI', 'fr-FR', 'hi-IN', 'hu-HU', 'hy-AM', 'id-ID', 'is-IS', 'it-IT', 'ja-JP', 'jv-ID', 'ka-GE', 'km-KH', 'kn-IN', 'ko-KR', 'lv-LV', 'ml-IN', 'mn-MN', 'ms-MY', 'my-MM', 'nb-NO', 'nl-NL', 'pl-PL', 'pt-PT', 'ro-RO', 'ru-RU', 'sl-SL', 'sq-AL', 'sw-KE', 'ta-IN', 'te-IN', 'th-TH', 'tl-PH', 'tr-TR', 'ur-PK', 'vi-VN', 'zh-TW', 'zh-TW']\n",
            "Processing similarity matrix for af-ZA\n",
            "Matrix shape: (50, 50)\n",
            "Applying top-k filtering (k=20)...\n",
            "Warning: The diagonal of the matrix does consist entirely of ones. We will make it to 0\n",
            "50\n",
            "Applying Sinkhorn normalization (20 iterations)...\n",
            "Generated processed matrix: (50, 50)\n",
            "Top 5 similar languages to af-ZA:\n",
            "  - id-ID: 0.155954\n",
            "  - hy-AM: 0.131718\n",
            "  - hu-HU: 0.082442\n",
            "  - ka-GE: 0.053228\n",
            "  - nl-NL: 0.042315\n",
            "  ✓ /home/coder/Python_project/MergingUriel/haryos_model/xlm-roberta-base_massive_k_id-ID: 0.155954 (locale: id-ID)\n",
            "  ✓ /home/coder/Python_project/MergingUriel/haryos_model/xlm-roberta-base_massive_k_hy-AM: 0.131718 (locale: hy-AM)\n",
            "  ✓ /home/coder/Python_project/MergingUriel/haryos_model/xlm-roberta-base_massive_k_hu-HU: 0.082442 (locale: hu-HU)\n",
            "  ✓ /home/coder/Python_project/MergingUriel/haryos_model/xlm-roberta-base_massive_k_ka-GE: 0.053228 (locale: ka-GE)\n",
            "  ✓ /home/coder/Python_project/MergingUriel/haryos_model/xlm-roberta-base_massive_k_nl-NL: 0.042315 (locale: nl-NL)\n",
            "\n",
            "--- Performing Model Merge ---\n",
            "Base model: /home/coder/Python_project/MergingUriel/haryos_model/xlm-roberta-base_massive_k_id-ID\n",
            "Models to merge: ['/home/coder/Python_project/MergingUriel/haryos_model/xlm-roberta-base_massive_k_hy-AM', '/home/coder/Python_project/MergingUriel/haryos_model/xlm-roberta-base_massive_k_hu-HU', '/home/coder/Python_project/MergingUriel/haryos_model/xlm-roberta-base_massive_k_ka-GE', '/home/coder/Python_project/MergingUriel/haryos_model/xlm-roberta-base_massive_k_nl-NL']\n",
            "Weights: [0.2828645172258712, 0.17704436001659588, 0.11430769987248868, 0.09087119624067307]\n",
            "2025-10-29 06:04:48 - auto_merge_llm.tokenizer.build_tokenizer_embed - INFO - Vocab size of pretrained model is %d .\n",
            "2025-10-29 06:04:49 - auto_merge_llm.tokenizer.build_tokenizer_embed - INFO - Vocab size of index %d finetuned model is %d.\n",
            "2025-10-29 06:04:49 - auto_merge_llm.tokenizer.build_tokenizer_embed - INFO - Added pad tokens of index 0 finetuned model is [].\n",
            "2025-10-29 06:04:49 - auto_merge_llm.tokenizer.build_tokenizer_embed - INFO - Vocab size of index %d finetuned model is %d.\n",
            "2025-10-29 06:04:49 - auto_merge_llm.tokenizer.build_tokenizer_embed - INFO - Added pad tokens of index 1 finetuned model is [].\n",
            "2025-10-29 06:04:49 - auto_merge_llm.tokenizer.build_tokenizer_embed - INFO - Vocab size of index %d finetuned model is %d.\n",
            "2025-10-29 06:04:49 - auto_merge_llm.tokenizer.build_tokenizer_embed - INFO - Added pad tokens of index 2 finetuned model is [].\n",
            "2025-10-29 06:04:50 - auto_merge_llm.tokenizer.build_tokenizer_embed - INFO - Vocab size of index %d finetuned model is %d.\n",
            "2025-10-29 06:04:50 - auto_merge_llm.tokenizer.build_tokenizer_embed - INFO - Added pad tokens of index 3 finetuned model is [].\n",
            "2025-10-29 06:04:50 - auto_merge_llm.tokenizer.build_tokenizer_embed - INFO - All added pad tokens of finetuned models are set().\n",
            "2025-10-29 06:04:50 - auto_merge_llm.tokenizer.build_tokenizer_embed - INFO - Aligned index 0 model: input token embedding shape torch.Size([250002, 768]), output token embedding shape N/A, tokenizer added tokens [{'id': 0, 'content': '<s>', 'single_word': False, 'lstrip': False, 'rstrip': False, 'normalized': False, 'special': True}, {'id': 1, 'content': '<pad>', 'single_word': False, 'lstrip': False, 'rstrip': False, 'normalized': False, 'special': True}, {'id': 2, 'content': '</s>', 'single_word': False, 'lstrip': False, 'rstrip': False, 'normalized': False, 'special': True}, {'id': 3, 'content': '<unk>', 'single_word': False, 'lstrip': False, 'rstrip': False, 'normalized': False, 'special': True}, {'id': 250001, 'content': '<mask>', 'single_word': False, 'lstrip': True, 'rstrip': False, 'normalized': False, 'special': True}].\n",
            "2025-10-29 06:04:50 - auto_merge_llm.tokenizer.build_tokenizer_embed - INFO - Aligned index 1 model: input token embedding shape torch.Size([250002, 768]), output token embedding shape N/A, tokenizer added tokens [{'id': 0, 'content': '<s>', 'single_word': False, 'lstrip': False, 'rstrip': False, 'normalized': False, 'special': True}, {'id': 1, 'content': '<pad>', 'single_word': False, 'lstrip': False, 'rstrip': False, 'normalized': False, 'special': True}, {'id': 2, 'content': '</s>', 'single_word': False, 'lstrip': False, 'rstrip': False, 'normalized': False, 'special': True}, {'id': 3, 'content': '<unk>', 'single_word': False, 'lstrip': False, 'rstrip': False, 'normalized': False, 'special': True}, {'id': 250001, 'content': '<mask>', 'single_word': False, 'lstrip': True, 'rstrip': False, 'normalized': False, 'special': True}].\n",
            "2025-10-29 06:04:51 - auto_merge_llm.tokenizer.build_tokenizer_embed - INFO - Aligned index 2 model: input token embedding shape torch.Size([250002, 768]), output token embedding shape N/A, tokenizer added tokens [{'id': 0, 'content': '<s>', 'single_word': False, 'lstrip': False, 'rstrip': False, 'normalized': False, 'special': True}, {'id': 1, 'content': '<pad>', 'single_word': False, 'lstrip': False, 'rstrip': False, 'normalized': False, 'special': True}, {'id': 2, 'content': '</s>', 'single_word': False, 'lstrip': False, 'rstrip': False, 'normalized': False, 'special': True}, {'id': 3, 'content': '<unk>', 'single_word': False, 'lstrip': False, 'rstrip': False, 'normalized': False, 'special': True}, {'id': 250001, 'content': '<mask>', 'single_word': False, 'lstrip': True, 'rstrip': False, 'normalized': False, 'special': True}].\n",
            "2025-10-29 06:04:51 - auto_merge_llm.tokenizer.build_tokenizer_embed - INFO - Aligned index 3 model: input token embedding shape torch.Size([250002, 768]), output token embedding shape N/A, tokenizer added tokens [{'id': 0, 'content': '<s>', 'single_word': False, 'lstrip': False, 'rstrip': False, 'normalized': False, 'special': True}, {'id': 1, 'content': '<pad>', 'single_word': False, 'lstrip': False, 'rstrip': False, 'normalized': False, 'special': True}, {'id': 2, 'content': '</s>', 'single_word': False, 'lstrip': False, 'rstrip': False, 'normalized': False, 'special': True}, {'id': 3, 'content': '<unk>', 'single_word': False, 'lstrip': False, 'rstrip': False, 'normalized': False, 'special': True}, {'id': 250001, 'content': '<mask>', 'single_word': False, 'lstrip': True, 'rstrip': False, 'normalized': False, 'special': True}].\n",
            "2025-10-29 06:04:51 - auto_merge_llm.tokenizer.build_tokenizer_embed - INFO - Aligned index 4 model: input token embedding shape torch.Size([250002, 768]), output token embedding shape N/A, tokenizer added tokens [{'id': 0, 'content': '<s>', 'single_word': False, 'lstrip': False, 'rstrip': False, 'normalized': False, 'special': True}, {'id': 1, 'content': '<pad>', 'single_word': False, 'lstrip': False, 'rstrip': False, 'normalized': False, 'special': True}, {'id': 2, 'content': '</s>', 'single_word': False, 'lstrip': False, 'rstrip': False, 'normalized': False, 'special': True}, {'id': 3, 'content': '<unk>', 'single_word': False, 'lstrip': False, 'rstrip': False, 'normalized': False, 'special': True}, {'id': 250001, 'content': '<mask>', 'single_word': False, 'lstrip': True, 'rstrip': False, 'normalized': False, 'special': True}].\n",
            "2025-10-29 06:04:51 - auto_merge_llm.tokenizer.build_tokenizer_embed - INFO - Current aligned model vocab sizes: {torch.Size([250002, 768])}\n",
            "Merge successful!\n",
            "\n",
            "--- Computing Similarity Weights for af-ZA ---\n",
            "Using URIEL similarity matrix with top-k + Sinkhorn normalization\n",
            "Loading similarity matrix from /home/coder/Python_project/MergingUriel/language_similarity_matrix_unified.csv\n",
            "Loaded similarity matrix with shape: (50, 50)\n",
            "Available languages: ['af-ZA', 'am-ET', 'ar-SA', 'az-AZ', 'bn-BD', 'ca-ES', 'cy-GB', 'da-DK', 'de-DE', 'el-GR', 'en-US', 'es-ES', 'fa-IR', 'fi-FI', 'fr-FR', 'hi-IN', 'hu-HU', 'hy-AM', 'id-ID', 'is-IS', 'it-IT', 'ja-JP', 'jv-ID', 'ka-GE', 'km-KH', 'kn-IN', 'ko-KR', 'lv-LV', 'ml-IN', 'mn-MN', 'ms-MY', 'my-MM', 'nb-NO', 'nl-NL', 'pl-PL', 'pt-PT', 'ro-RO', 'ru-RU', 'sl-SL', 'sq-AL', 'sw-KE', 'ta-IN', 'te-IN', 'th-TH', 'tl-PH', 'tr-TR', 'ur-PK', 'vi-VN', 'zh-TW', 'zh-TW']\n",
            "Processing similarity matrix for af-ZA\n",
            "Matrix shape: (50, 50)\n",
            "Applying top-k filtering (k=20)...\n",
            "Warning: The diagonal of the matrix does consist entirely of ones. We will make it to 0\n",
            "50\n",
            "Applying Sinkhorn normalization (20 iterations)...\n",
            "Generated processed matrix: (50, 50)\n",
            "Top 5 similar languages to af-ZA:\n",
            "  - id-ID: 0.155954\n",
            "  - hy-AM: 0.131718\n",
            "  - hu-HU: 0.082442\n",
            "  - ka-GE: 0.053228\n",
            "  - nl-NL: 0.042315\n",
            "  ✓ /home/coder/Python_project/MergingUriel/haryos_model/xlm-roberta-base_massive_k_id-ID: 0.155954 (locale: id-ID)\n",
            "  ✓ /home/coder/Python_project/MergingUriel/haryos_model/xlm-roberta-base_massive_k_hy-AM: 0.131718 (locale: hy-AM)\n",
            "  ✓ /home/coder/Python_project/MergingUriel/haryos_model/xlm-roberta-base_massive_k_hu-HU: 0.082442 (locale: hu-HU)\n",
            "  ✓ /home/coder/Python_project/MergingUriel/haryos_model/xlm-roberta-base_massive_k_ka-GE: 0.053228 (locale: ka-GE)\n",
            "  ✓ /home/coder/Python_project/MergingUriel/haryos_model/xlm-roberta-base_massive_k_nl-NL: 0.042315 (locale: nl-NL)\n",
            "\n",
            "--- Performing Model Merge ---\n",
            "Base model: /home/coder/Python_project/MergingUriel/haryos_model/xlm-roberta-base_massive_k_id-ID\n",
            "Models to merge: ['/home/coder/Python_project/MergingUriel/haryos_model/xlm-roberta-base_massive_k_hy-AM', '/home/coder/Python_project/MergingUriel/haryos_model/xlm-roberta-base_massive_k_hu-HU', '/home/coder/Python_project/MergingUriel/haryos_model/xlm-roberta-base_massive_k_ka-GE', '/home/coder/Python_project/MergingUriel/haryos_model/xlm-roberta-base_massive_k_nl-NL']\n",
            "Weights: [0.2828645172258712, 0.17704436001659588, 0.11430769987248868, 0.09087119624067307]\n",
            "2025-10-29 06:04:55 - auto_merge_llm.tokenizer.build_tokenizer_embed - INFO - Vocab size of pretrained model is %d .\n",
            "2025-10-29 06:04:56 - auto_merge_llm.tokenizer.build_tokenizer_embed - INFO - Vocab size of index %d finetuned model is %d.\n",
            "2025-10-29 06:04:56 - auto_merge_llm.tokenizer.build_tokenizer_embed - INFO - Added pad tokens of index 0 finetuned model is [].\n",
            "2025-10-29 06:04:56 - auto_merge_llm.tokenizer.build_tokenizer_embed - INFO - Vocab size of index %d finetuned model is %d.\n",
            "2025-10-29 06:04:56 - auto_merge_llm.tokenizer.build_tokenizer_embed - INFO - Added pad tokens of index 1 finetuned model is [].\n",
            "2025-10-29 06:04:56 - auto_merge_llm.tokenizer.build_tokenizer_embed - INFO - Vocab size of index %d finetuned model is %d.\n",
            "2025-10-29 06:04:56 - auto_merge_llm.tokenizer.build_tokenizer_embed - INFO - Added pad tokens of index 2 finetuned model is [].\n",
            "2025-10-29 06:04:57 - auto_merge_llm.tokenizer.build_tokenizer_embed - INFO - Vocab size of index %d finetuned model is %d.\n",
            "2025-10-29 06:04:57 - auto_merge_llm.tokenizer.build_tokenizer_embed - INFO - Added pad tokens of index 3 finetuned model is [].\n",
            "2025-10-29 06:04:57 - auto_merge_llm.tokenizer.build_tokenizer_embed - INFO - All added pad tokens of finetuned models are set().\n",
            "2025-10-29 06:04:57 - auto_merge_llm.tokenizer.build_tokenizer_embed - INFO - Aligned index 0 model: input token embedding shape torch.Size([250002, 768]), output token embedding shape N/A, tokenizer added tokens [{'id': 0, 'content': '<s>', 'single_word': False, 'lstrip': False, 'rstrip': False, 'normalized': False, 'special': True}, {'id': 1, 'content': '<pad>', 'single_word': False, 'lstrip': False, 'rstrip': False, 'normalized': False, 'special': True}, {'id': 2, 'content': '</s>', 'single_word': False, 'lstrip': False, 'rstrip': False, 'normalized': False, 'special': True}, {'id': 3, 'content': '<unk>', 'single_word': False, 'lstrip': False, 'rstrip': False, 'normalized': False, 'special': True}, {'id': 250001, 'content': '<mask>', 'single_word': False, 'lstrip': True, 'rstrip': False, 'normalized': False, 'special': True}].\n",
            "2025-10-29 06:04:58 - auto_merge_llm.tokenizer.build_tokenizer_embed - INFO - Aligned index 1 model: input token embedding shape torch.Size([250002, 768]), output token embedding shape N/A, tokenizer added tokens [{'id': 0, 'content': '<s>', 'single_word': False, 'lstrip': False, 'rstrip': False, 'normalized': False, 'special': True}, {'id': 1, 'content': '<pad>', 'single_word': False, 'lstrip': False, 'rstrip': False, 'normalized': False, 'special': True}, {'id': 2, 'content': '</s>', 'single_word': False, 'lstrip': False, 'rstrip': False, 'normalized': False, 'special': True}, {'id': 3, 'content': '<unk>', 'single_word': False, 'lstrip': False, 'rstrip': False, 'normalized': False, 'special': True}, {'id': 250001, 'content': '<mask>', 'single_word': False, 'lstrip': True, 'rstrip': False, 'normalized': False, 'special': True}].\n",
            "2025-10-29 06:04:58 - auto_merge_llm.tokenizer.build_tokenizer_embed - INFO - Aligned index 2 model: input token embedding shape torch.Size([250002, 768]), output token embedding shape N/A, tokenizer added tokens [{'id': 0, 'content': '<s>', 'single_word': False, 'lstrip': False, 'rstrip': False, 'normalized': False, 'special': True}, {'id': 1, 'content': '<pad>', 'single_word': False, 'lstrip': False, 'rstrip': False, 'normalized': False, 'special': True}, {'id': 2, 'content': '</s>', 'single_word': False, 'lstrip': False, 'rstrip': False, 'normalized': False, 'special': True}, {'id': 3, 'content': '<unk>', 'single_word': False, 'lstrip': False, 'rstrip': False, 'normalized': False, 'special': True}, {'id': 250001, 'content': '<mask>', 'single_word': False, 'lstrip': True, 'rstrip': False, 'normalized': False, 'special': True}].\n",
            "2025-10-29 06:04:58 - auto_merge_llm.tokenizer.build_tokenizer_embed - INFO - Aligned index 3 model: input token embedding shape torch.Size([250002, 768]), output token embedding shape N/A, tokenizer added tokens [{'id': 0, 'content': '<s>', 'single_word': False, 'lstrip': False, 'rstrip': False, 'normalized': False, 'special': True}, {'id': 1, 'content': '<pad>', 'single_word': False, 'lstrip': False, 'rstrip': False, 'normalized': False, 'special': True}, {'id': 2, 'content': '</s>', 'single_word': False, 'lstrip': False, 'rstrip': False, 'normalized': False, 'special': True}, {'id': 3, 'content': '<unk>', 'single_word': False, 'lstrip': False, 'rstrip': False, 'normalized': False, 'special': True}, {'id': 250001, 'content': '<mask>', 'single_word': False, 'lstrip': True, 'rstrip': False, 'normalized': False, 'special': True}].\n",
            "2025-10-29 06:04:59 - auto_merge_llm.tokenizer.build_tokenizer_embed - INFO - Aligned index 4 model: input token embedding shape torch.Size([250002, 768]), output token embedding shape N/A, tokenizer added tokens [{'id': 0, 'content': '<s>', 'single_word': False, 'lstrip': False, 'rstrip': False, 'normalized': False, 'special': True}, {'id': 1, 'content': '<pad>', 'single_word': False, 'lstrip': False, 'rstrip': False, 'normalized': False, 'special': True}, {'id': 2, 'content': '</s>', 'single_word': False, 'lstrip': False, 'rstrip': False, 'normalized': False, 'special': True}, {'id': 3, 'content': '<unk>', 'single_word': False, 'lstrip': False, 'rstrip': False, 'normalized': False, 'special': True}, {'id': 250001, 'content': '<mask>', 'single_word': False, 'lstrip': True, 'rstrip': False, 'normalized': False, 'special': True}].\n",
            "2025-10-29 06:04:59 - auto_merge_llm.tokenizer.build_tokenizer_embed - INFO - Current aligned model vocab sizes: {torch.Size([250002, 768])}\n",
            "Merge successful!\n",
            "Prepared 4 models on cuda.\n",
            "Reference model: baseline\n"
          ]
        }
      ],
      "source": [
        "DEVICE = \"cuda\" if torch.cuda.is_available() else \"cpu\"\n",
        "artifacts = {}\n",
        "merge_metadata = {}\n",
        "\n",
        "for name, cfg in MODEL_SETUPS.items():\n",
        "    if cfg[\"kind\"] == \"pretrained\":\n",
        "        path = cfg[\"path\"]\n",
        "        if not path.exists():\n",
        "            print(f\"⚠️ Skipping {name}: checkpoint not found at {path}\")\n",
        "            continue\n",
        "        artifacts[name] = load_model_artifacts(path, device=DEVICE)\n",
        "    else:\n",
        "        artifact, meta = merge_models_in_memory(cfg[\"config\"], device=DEVICE)\n",
        "        artifacts[name] = artifact\n",
        "        merge_metadata[name] = meta\n",
        "\n",
        "print(f\"Prepared {len(artifacts)} models on {DEVICE}.\")\n",
        "REFERENCE_KEY = \"baseline\" if \"baseline\" in artifacts else next(iter(artifacts))\n",
        "print(f\"Reference model: {REFERENCE_KEY}\")"
      ]
    },
    {
      "cell_type": "code",
      "execution_count": 5,
      "metadata": {},
      "outputs": [
        {
          "data": {
            "text/html": [
              "<div>\n",
              "<style scoped>\n",
              "    .dataframe tbody tr th:only-of-type {\n",
              "        vertical-align: middle;\n",
              "    }\n",
              "\n",
              "    .dataframe tbody tr th {\n",
              "        vertical-align: top;\n",
              "    }\n",
              "\n",
              "    .dataframe thead th {\n",
              "        text-align: right;\n",
              "    }\n",
              "</style>\n",
              "<table border=\"1\" class=\"dataframe\">\n",
              "  <thead>\n",
              "    <tr style=\"text-align: right;\">\n",
              "      <th></th>\n",
              "      <th>model</th>\n",
              "      <th>base_model</th>\n",
              "      <th>sources</th>\n",
              "    </tr>\n",
              "  </thead>\n",
              "  <tbody>\n",
              "    <tr>\n",
              "      <th>0</th>\n",
              "      <td>average_merge</td>\n",
              "      <td>/home/coder/Python_project/MergingUriel/haryos...</td>\n",
              "      <td>hy-AM:0.200, hu-HU:0.200, ka-GE:0.200, nl-NL:0...</td>\n",
              "    </tr>\n",
              "    <tr>\n",
              "      <th>1</th>\n",
              "      <td>similarity_merge</td>\n",
              "      <td>/home/coder/Python_project/MergingUriel/haryos...</td>\n",
              "      <td>hy-AM:0.283, hu-HU:0.177, ka-GE:0.114, nl-NL:0...</td>\n",
              "    </tr>\n",
              "    <tr>\n",
              "      <th>2</th>\n",
              "      <td>task_arithmetic</td>\n",
              "      <td>/home/coder/Python_project/MergingUriel/haryos...</td>\n",
              "      <td>hy-AM:0.283, hu-HU:0.177, ka-GE:0.114, nl-NL:0...</td>\n",
              "    </tr>\n",
              "  </tbody>\n",
              "</table>\n",
              "</div>"
            ],
            "text/plain": [
              "              model                                         base_model  \\\n",
              "0     average_merge  /home/coder/Python_project/MergingUriel/haryos...   \n",
              "1  similarity_merge  /home/coder/Python_project/MergingUriel/haryos...   \n",
              "2   task_arithmetic  /home/coder/Python_project/MergingUriel/haryos...   \n",
              "\n",
              "                                             sources  \n",
              "0  hy-AM:0.200, hu-HU:0.200, ka-GE:0.200, nl-NL:0...  \n",
              "1  hy-AM:0.283, hu-HU:0.177, ka-GE:0.114, nl-NL:0...  \n",
              "2  hy-AM:0.283, hu-HU:0.177, ka-GE:0.114, nl-NL:0...  "
            ]
          },
          "metadata": {},
          "output_type": "display_data"
        }
      ],
      "source": [
        "if merge_metadata:\n",
        "    meta_rows = []\n",
        "    for name, meta in merge_metadata.items():\n",
        "        sources = []\n",
        "        for path, info in meta[\"models_and_weights\"].items():\n",
        "            label = info.locale or Path(path).name\n",
        "            sources.append(f\"{label}:{info.weight:.3f}\")\n",
        "        meta_rows.append({\n",
        "            \"model\": name,\n",
        "            \"base_model\": meta[\"base_model\"].model_name,\n",
        "            \"sources\": \", \".join(sources),\n",
        "        })\n",
        "    display(pd.DataFrame(meta_rows))"
      ]
    },
    {
      "cell_type": "code",
      "execution_count": 6,
      "id": "e5194a57",
      "metadata": {},
      "outputs": [
        {
          "data": {
            "text/plain": [
              "[{'model': 'average_merge',\n",
              "  'base_model': '/home/coder/Python_project/MergingUriel/haryos_model/xlm-roberta-base_massive_k_id-ID',\n",
              "  'sources': 'hy-AM:0.200, hu-HU:0.200, ka-GE:0.200, nl-NL:0.200'},\n",
              " {'model': 'similarity_merge',\n",
              "  'base_model': '/home/coder/Python_project/MergingUriel/haryos_model/xlm-roberta-base_massive_k_id-ID',\n",
              "  'sources': 'hy-AM:0.283, hu-HU:0.177, ka-GE:0.114, nl-NL:0.091'},\n",
              " {'model': 'task_arithmetic',\n",
              "  'base_model': '/home/coder/Python_project/MergingUriel/haryos_model/xlm-roberta-base_massive_k_id-ID',\n",
              "  'sources': 'hy-AM:0.283, hu-HU:0.177, ka-GE:0.114, nl-NL:0.091'}]"
            ]
          },
          "execution_count": 6,
          "metadata": {},
          "output_type": "execute_result"
        }
      ],
      "source": [
        "meta_rows"
      ]
    },
    {
      "cell_type": "markdown",
      "metadata": {},
      "source": [
        "## 4. Parameter deltas\n",
        "\n",
        "Compute parameter-level differences relative to the reference model and inspect the heaviest changing layers."
      ]
    },
    {
      "cell_type": "code",
      "execution_count": 7,
      "metadata": {},
      "outputs": [
        {
          "data": {
            "text/html": [
              "<div>\n",
              "<style scoped>\n",
              "    .dataframe tbody tr th:only-of-type {\n",
              "        vertical-align: middle;\n",
              "    }\n",
              "\n",
              "    .dataframe tbody tr th {\n",
              "        vertical-align: top;\n",
              "    }\n",
              "\n",
              "    .dataframe thead th {\n",
              "        text-align: right;\n",
              "    }\n",
              "</style>\n",
              "<table border=\"1\" class=\"dataframe\">\n",
              "  <thead>\n",
              "    <tr style=\"text-align: right;\">\n",
              "      <th></th>\n",
              "      <th>layer</th>\n",
              "      <th>delta_l2_sum</th>\n",
              "      <th>delta_l2_mean</th>\n",
              "      <th>delta_mean_abs</th>\n",
              "      <th>cosine_mean</th>\n",
              "      <th>reference_norm_mean</th>\n",
              "      <th>candidate_norm_mean</th>\n",
              "      <th>model</th>\n",
              "    </tr>\n",
              "  </thead>\n",
              "  <tbody>\n",
              "    <tr>\n",
              "      <th>0</th>\n",
              "      <td>classifier.dense</td>\n",
              "      <td>18.083953</td>\n",
              "      <td>9.041976</td>\n",
              "      <td>0.010250</td>\n",
              "      <td>-0.021167</td>\n",
              "      <td>8.103898</td>\n",
              "      <td>4.013180</td>\n",
              "      <td>average_merge</td>\n",
              "    </tr>\n",
              "    <tr>\n",
              "      <th>1</th>\n",
              "      <td>classifier.out_proj</td>\n",
              "      <td>5.604971</td>\n",
              "      <td>2.802486</td>\n",
              "      <td>0.010836</td>\n",
              "      <td>0.481004</td>\n",
              "      <td>2.529677</td>\n",
              "      <td>1.239717</td>\n",
              "      <td>average_merge</td>\n",
              "    </tr>\n",
              "    <tr>\n",
              "      <th>2</th>\n",
              "      <td>layer.0.attention.output</td>\n",
              "      <td>0.846175</td>\n",
              "      <td>0.211544</td>\n",
              "      <td>0.000597</td>\n",
              "      <td>0.999880</td>\n",
              "      <td>12.162775</td>\n",
              "      <td>12.160544</td>\n",
              "      <td>average_merge</td>\n",
              "    </tr>\n",
              "    <tr>\n",
              "      <th>3</th>\n",
              "      <td>layer.0.attention.self</td>\n",
              "      <td>2.579264</td>\n",
              "      <td>0.429877</td>\n",
              "      <td>0.000744</td>\n",
              "      <td>0.842738</td>\n",
              "      <td>37.602540</td>\n",
              "      <td>37.598843</td>\n",
              "      <td>average_merge</td>\n",
              "    </tr>\n",
              "    <tr>\n",
              "      <th>4</th>\n",
              "      <td>layer.0.intermediate.dense</td>\n",
              "      <td>1.857648</td>\n",
              "      <td>0.928824</td>\n",
              "      <td>0.000849</td>\n",
              "      <td>0.999905</td>\n",
              "      <td>54.537057</td>\n",
              "      <td>54.532332</td>\n",
              "      <td>average_merge</td>\n",
              "    </tr>\n",
              "    <tr>\n",
              "      <th>5</th>\n",
              "      <td>layer.0.output.LayerNorm</td>\n",
              "      <td>0.038962</td>\n",
              "      <td>0.019481</td>\n",
              "      <td>0.000557</td>\n",
              "      <td>0.999996</td>\n",
              "      <td>8.321826</td>\n",
              "      <td>8.321916</td>\n",
              "      <td>average_merge</td>\n",
              "    </tr>\n",
              "    <tr>\n",
              "      <th>6</th>\n",
              "      <td>layer.0.output.dense</td>\n",
              "      <td>1.590576</td>\n",
              "      <td>0.795288</td>\n",
              "      <td>0.000570</td>\n",
              "      <td>0.999858</td>\n",
              "      <td>36.394897</td>\n",
              "      <td>36.390967</td>\n",
              "      <td>average_merge</td>\n",
              "    </tr>\n",
              "    <tr>\n",
              "      <th>7</th>\n",
              "      <td>layer.1.attention.output</td>\n",
              "      <td>0.875673</td>\n",
              "      <td>0.218918</td>\n",
              "      <td>0.000602</td>\n",
              "      <td>0.999870</td>\n",
              "      <td>12.027309</td>\n",
              "      <td>12.026050</td>\n",
              "      <td>average_merge</td>\n",
              "    </tr>\n",
              "    <tr>\n",
              "      <th>8</th>\n",
              "      <td>layer.1.attention.self</td>\n",
              "      <td>2.562401</td>\n",
              "      <td>0.427067</td>\n",
              "      <td>0.000722</td>\n",
              "      <td>0.996896</td>\n",
              "      <td>29.436775</td>\n",
              "      <td>29.435452</td>\n",
              "      <td>average_merge</td>\n",
              "    </tr>\n",
              "    <tr>\n",
              "      <th>9</th>\n",
              "      <td>layer.1.intermediate.dense</td>\n",
              "      <td>1.883280</td>\n",
              "      <td>0.941640</td>\n",
              "      <td>0.000837</td>\n",
              "      <td>0.999894</td>\n",
              "      <td>53.003073</td>\n",
              "      <td>52.997586</td>\n",
              "      <td>average_merge</td>\n",
              "    </tr>\n",
              "    <tr>\n",
              "      <th>10</th>\n",
              "      <td>layer.1.output.LayerNorm</td>\n",
              "      <td>0.038972</td>\n",
              "      <td>0.019486</td>\n",
              "      <td>0.000562</td>\n",
              "      <td>0.999988</td>\n",
              "      <td>8.764392</td>\n",
              "      <td>8.764865</td>\n",
              "      <td>average_merge</td>\n",
              "    </tr>\n",
              "    <tr>\n",
              "      <th>11</th>\n",
              "      <td>layer.1.output.dense</td>\n",
              "      <td>1.519931</td>\n",
              "      <td>0.759966</td>\n",
              "      <td>0.000535</td>\n",
              "      <td>0.999862</td>\n",
              "      <td>34.930653</td>\n",
              "      <td>34.926015</td>\n",
              "      <td>average_merge</td>\n",
              "    </tr>\n",
              "    <tr>\n",
              "      <th>12</th>\n",
              "      <td>layer.10.attention.output</td>\n",
              "      <td>0.979762</td>\n",
              "      <td>0.244941</td>\n",
              "      <td>0.000622</td>\n",
              "      <td>0.999847</td>\n",
              "      <td>13.003521</td>\n",
              "      <td>13.002384</td>\n",
              "      <td>average_merge</td>\n",
              "    </tr>\n",
              "    <tr>\n",
              "      <th>13</th>\n",
              "      <td>layer.10.attention.self</td>\n",
              "      <td>3.054308</td>\n",
              "      <td>0.509051</td>\n",
              "      <td>0.000820</td>\n",
              "      <td>0.999766</td>\n",
              "      <td>24.521202</td>\n",
              "      <td>24.518661</td>\n",
              "      <td>average_merge</td>\n",
              "    </tr>\n",
              "    <tr>\n",
              "      <th>14</th>\n",
              "      <td>layer.10.intermediate.dense</td>\n",
              "      <td>2.187486</td>\n",
              "      <td>1.093743</td>\n",
              "      <td>0.000894</td>\n",
              "      <td>0.999762</td>\n",
              "      <td>39.067941</td>\n",
              "      <td>39.062411</td>\n",
              "      <td>average_merge</td>\n",
              "    </tr>\n",
              "    <tr>\n",
              "      <th>15</th>\n",
              "      <td>layer.10.output.LayerNorm</td>\n",
              "      <td>0.045533</td>\n",
              "      <td>0.022766</td>\n",
              "      <td>0.000635</td>\n",
              "      <td>0.999979</td>\n",
              "      <td>11.643088</td>\n",
              "      <td>11.644191</td>\n",
              "      <td>average_merge</td>\n",
              "    </tr>\n",
              "    <tr>\n",
              "      <th>16</th>\n",
              "      <td>layer.10.output.dense</td>\n",
              "      <td>1.335944</td>\n",
              "      <td>0.667972</td>\n",
              "      <td>0.000448</td>\n",
              "      <td>0.999908</td>\n",
              "      <td>36.867718</td>\n",
              "      <td>36.865425</td>\n",
              "      <td>average_merge</td>\n",
              "    </tr>\n",
              "    <tr>\n",
              "      <th>17</th>\n",
              "      <td>layer.11.attention.output</td>\n",
              "      <td>1.215925</td>\n",
              "      <td>0.303981</td>\n",
              "      <td>0.000719</td>\n",
              "      <td>0.999777</td>\n",
              "      <td>13.192296</td>\n",
              "      <td>13.190063</td>\n",
              "      <td>average_merge</td>\n",
              "    </tr>\n",
              "    <tr>\n",
              "      <th>18</th>\n",
              "      <td>layer.11.attention.self</td>\n",
              "      <td>3.426581</td>\n",
              "      <td>0.571097</td>\n",
              "      <td>0.000886</td>\n",
              "      <td>0.999636</td>\n",
              "      <td>26.513730</td>\n",
              "      <td>26.509053</td>\n",
              "      <td>average_merge</td>\n",
              "    </tr>\n",
              "    <tr>\n",
              "      <th>19</th>\n",
              "      <td>layer.11.intermediate.dense</td>\n",
              "      <td>3.369223</td>\n",
              "      <td>1.684612</td>\n",
              "      <td>0.001348</td>\n",
              "      <td>0.999376</td>\n",
              "      <td>37.427504</td>\n",
              "      <td>37.408827</td>\n",
              "      <td>average_merge</td>\n",
              "    </tr>\n",
              "    <tr>\n",
              "      <th>20</th>\n",
              "      <td>layer.11.output.LayerNorm</td>\n",
              "      <td>0.177058</td>\n",
              "      <td>0.088529</td>\n",
              "      <td>0.002664</td>\n",
              "      <td>0.999168</td>\n",
              "      <td>10.958463</td>\n",
              "      <td>10.916275</td>\n",
              "      <td>average_merge</td>\n",
              "    </tr>\n",
              "    <tr>\n",
              "      <th>21</th>\n",
              "      <td>layer.11.output.dense</td>\n",
              "      <td>4.516496</td>\n",
              "      <td>2.258248</td>\n",
              "      <td>0.001503</td>\n",
              "      <td>0.998428</td>\n",
              "      <td>29.660910</td>\n",
              "      <td>29.613347</td>\n",
              "      <td>average_merge</td>\n",
              "    </tr>\n",
              "    <tr>\n",
              "      <th>22</th>\n",
              "      <td>layer.2.attention.output</td>\n",
              "      <td>0.903537</td>\n",
              "      <td>0.225884</td>\n",
              "      <td>0.000600</td>\n",
              "      <td>0.999861</td>\n",
              "      <td>12.809250</td>\n",
              "      <td>12.806376</td>\n",
              "      <td>average_merge</td>\n",
              "    </tr>\n",
              "    <tr>\n",
              "      <th>23</th>\n",
              "      <td>layer.2.attention.self</td>\n",
              "      <td>2.730122</td>\n",
              "      <td>0.455020</td>\n",
              "      <td>0.000782</td>\n",
              "      <td>0.994285</td>\n",
              "      <td>25.723403</td>\n",
              "      <td>25.721191</td>\n",
              "      <td>average_merge</td>\n",
              "    </tr>\n",
              "    <tr>\n",
              "      <th>24</th>\n",
              "      <td>layer.2.intermediate.dense</td>\n",
              "      <td>1.901692</td>\n",
              "      <td>0.950846</td>\n",
              "      <td>0.000841</td>\n",
              "      <td>0.999890</td>\n",
              "      <td>51.442287</td>\n",
              "      <td>51.436262</td>\n",
              "      <td>average_merge</td>\n",
              "    </tr>\n",
              "    <tr>\n",
              "      <th>25</th>\n",
              "      <td>layer.2.output.LayerNorm</td>\n",
              "      <td>0.039161</td>\n",
              "      <td>0.019580</td>\n",
              "      <td>0.000568</td>\n",
              "      <td>0.999983</td>\n",
              "      <td>9.816624</td>\n",
              "      <td>9.817310</td>\n",
              "      <td>average_merge</td>\n",
              "    </tr>\n",
              "    <tr>\n",
              "      <th>26</th>\n",
              "      <td>layer.2.output.dense</td>\n",
              "      <td>1.614279</td>\n",
              "      <td>0.807140</td>\n",
              "      <td>0.000548</td>\n",
              "      <td>0.999881</td>\n",
              "      <td>38.636529</td>\n",
              "      <td>38.631313</td>\n",
              "      <td>average_merge</td>\n",
              "    </tr>\n",
              "    <tr>\n",
              "      <th>27</th>\n",
              "      <td>layer.3.attention.output</td>\n",
              "      <td>0.895458</td>\n",
              "      <td>0.223865</td>\n",
              "      <td>0.000580</td>\n",
              "      <td>0.999917</td>\n",
              "      <td>15.459255</td>\n",
              "      <td>15.457375</td>\n",
              "      <td>average_merge</td>\n",
              "    </tr>\n",
              "    <tr>\n",
              "      <th>28</th>\n",
              "      <td>layer.3.attention.self</td>\n",
              "      <td>2.759970</td>\n",
              "      <td>0.459995</td>\n",
              "      <td>0.000772</td>\n",
              "      <td>0.993908</td>\n",
              "      <td>24.483349</td>\n",
              "      <td>24.481266</td>\n",
              "      <td>average_merge</td>\n",
              "    </tr>\n",
              "    <tr>\n",
              "      <th>29</th>\n",
              "      <td>layer.3.intermediate.dense</td>\n",
              "      <td>1.946499</td>\n",
              "      <td>0.973249</td>\n",
              "      <td>0.000849</td>\n",
              "      <td>0.999900</td>\n",
              "      <td>54.821116</td>\n",
              "      <td>54.817402</td>\n",
              "      <td>average_merge</td>\n",
              "    </tr>\n",
              "    <tr>\n",
              "      <th>30</th>\n",
              "      <td>layer.3.output.LayerNorm</td>\n",
              "      <td>0.040442</td>\n",
              "      <td>0.020221</td>\n",
              "      <td>0.000575</td>\n",
              "      <td>0.999982</td>\n",
              "      <td>9.871782</td>\n",
              "      <td>9.872680</td>\n",
              "      <td>average_merge</td>\n",
              "    </tr>\n",
              "    <tr>\n",
              "      <th>31</th>\n",
              "      <td>layer.3.output.dense</td>\n",
              "      <td>1.586874</td>\n",
              "      <td>0.793437</td>\n",
              "      <td>0.000547</td>\n",
              "      <td>0.999909</td>\n",
              "      <td>43.777500</td>\n",
              "      <td>43.773920</td>\n",
              "      <td>average_merge</td>\n",
              "    </tr>\n",
              "    <tr>\n",
              "      <th>32</th>\n",
              "      <td>layer.4.attention.output</td>\n",
              "      <td>0.936112</td>\n",
              "      <td>0.234028</td>\n",
              "      <td>0.000619</td>\n",
              "      <td>0.999945</td>\n",
              "      <td>18.030273</td>\n",
              "      <td>18.029155</td>\n",
              "      <td>average_merge</td>\n",
              "    </tr>\n",
              "    <tr>\n",
              "      <th>33</th>\n",
              "      <td>layer.4.attention.self</td>\n",
              "      <td>2.901863</td>\n",
              "      <td>0.483644</td>\n",
              "      <td>0.000822</td>\n",
              "      <td>0.993871</td>\n",
              "      <td>25.955579</td>\n",
              "      <td>25.953299</td>\n",
              "      <td>average_merge</td>\n",
              "    </tr>\n",
              "    <tr>\n",
              "      <th>34</th>\n",
              "      <td>layer.4.intermediate.dense</td>\n",
              "      <td>1.970426</td>\n",
              "      <td>0.985213</td>\n",
              "      <td>0.000854</td>\n",
              "      <td>0.999913</td>\n",
              "      <td>59.376189</td>\n",
              "      <td>59.370646</td>\n",
              "      <td>average_merge</td>\n",
              "    </tr>\n",
              "    <tr>\n",
              "      <th>35</th>\n",
              "      <td>layer.4.output.LayerNorm</td>\n",
              "      <td>0.039110</td>\n",
              "      <td>0.019555</td>\n",
              "      <td>0.000553</td>\n",
              "      <td>0.999981</td>\n",
              "      <td>9.609283</td>\n",
              "      <td>9.609362</td>\n",
              "      <td>average_merge</td>\n",
              "    </tr>\n",
              "    <tr>\n",
              "      <th>36</th>\n",
              "      <td>layer.4.output.dense</td>\n",
              "      <td>1.614452</td>\n",
              "      <td>0.807226</td>\n",
              "      <td>0.000546</td>\n",
              "      <td>0.999918</td>\n",
              "      <td>46.736879</td>\n",
              "      <td>46.732524</td>\n",
              "      <td>average_merge</td>\n",
              "    </tr>\n",
              "    <tr>\n",
              "      <th>37</th>\n",
              "      <td>layer.5.attention.output</td>\n",
              "      <td>0.961235</td>\n",
              "      <td>0.240309</td>\n",
              "      <td>0.000626</td>\n",
              "      <td>0.999948</td>\n",
              "      <td>18.906300</td>\n",
              "      <td>18.905345</td>\n",
              "      <td>average_merge</td>\n",
              "    </tr>\n",
              "    <tr>\n",
              "      <th>38</th>\n",
              "      <td>layer.5.attention.self</td>\n",
              "      <td>2.979077</td>\n",
              "      <td>0.496513</td>\n",
              "      <td>0.000843</td>\n",
              "      <td>0.995500</td>\n",
              "      <td>24.809660</td>\n",
              "      <td>24.806429</td>\n",
              "      <td>average_merge</td>\n",
              "    </tr>\n",
              "    <tr>\n",
              "      <th>39</th>\n",
              "      <td>layer.5.intermediate.dense</td>\n",
              "      <td>2.031990</td>\n",
              "      <td>1.015995</td>\n",
              "      <td>0.000885</td>\n",
              "      <td>0.999905</td>\n",
              "      <td>58.073097</td>\n",
              "      <td>58.064454</td>\n",
              "      <td>average_merge</td>\n",
              "    </tr>\n",
              "    <tr>\n",
              "      <th>40</th>\n",
              "      <td>layer.5.output.LayerNorm</td>\n",
              "      <td>0.041671</td>\n",
              "      <td>0.020836</td>\n",
              "      <td>0.000585</td>\n",
              "      <td>0.999982</td>\n",
              "      <td>9.636222</td>\n",
              "      <td>9.635601</td>\n",
              "      <td>average_merge</td>\n",
              "    </tr>\n",
              "    <tr>\n",
              "      <th>41</th>\n",
              "      <td>layer.5.output.dense</td>\n",
              "      <td>1.686563</td>\n",
              "      <td>0.843282</td>\n",
              "      <td>0.000573</td>\n",
              "      <td>0.999903</td>\n",
              "      <td>44.844263</td>\n",
              "      <td>44.840193</td>\n",
              "      <td>average_merge</td>\n",
              "    </tr>\n",
              "    <tr>\n",
              "      <th>42</th>\n",
              "      <td>layer.6.attention.output</td>\n",
              "      <td>0.990188</td>\n",
              "      <td>0.247547</td>\n",
              "      <td>0.000664</td>\n",
              "      <td>0.999941</td>\n",
              "      <td>18.332869</td>\n",
              "      <td>18.330022</td>\n",
              "      <td>average_merge</td>\n",
              "    </tr>\n",
              "    <tr>\n",
              "      <th>43</th>\n",
              "      <td>layer.6.attention.self</td>\n",
              "      <td>3.070350</td>\n",
              "      <td>0.511725</td>\n",
              "      <td>0.000862</td>\n",
              "      <td>0.998406</td>\n",
              "      <td>25.881104</td>\n",
              "      <td>25.877350</td>\n",
              "      <td>average_merge</td>\n",
              "    </tr>\n",
              "    <tr>\n",
              "      <th>44</th>\n",
              "      <td>layer.6.intermediate.dense</td>\n",
              "      <td>2.064595</td>\n",
              "      <td>1.032297</td>\n",
              "      <td>0.000905</td>\n",
              "      <td>0.999896</td>\n",
              "      <td>56.285859</td>\n",
              "      <td>56.281254</td>\n",
              "      <td>average_merge</td>\n",
              "    </tr>\n",
              "    <tr>\n",
              "      <th>45</th>\n",
              "      <td>layer.6.output.LayerNorm</td>\n",
              "      <td>0.042831</td>\n",
              "      <td>0.021416</td>\n",
              "      <td>0.000604</td>\n",
              "      <td>0.999965</td>\n",
              "      <td>9.671364</td>\n",
              "      <td>9.671514</td>\n",
              "      <td>average_merge</td>\n",
              "    </tr>\n",
              "    <tr>\n",
              "      <th>46</th>\n",
              "      <td>layer.6.output.dense</td>\n",
              "      <td>1.637089</td>\n",
              "      <td>0.818544</td>\n",
              "      <td>0.000574</td>\n",
              "      <td>0.999907</td>\n",
              "      <td>44.569247</td>\n",
              "      <td>44.563730</td>\n",
              "      <td>average_merge</td>\n",
              "    </tr>\n",
              "    <tr>\n",
              "      <th>47</th>\n",
              "      <td>layer.7.attention.output</td>\n",
              "      <td>0.992184</td>\n",
              "      <td>0.248046</td>\n",
              "      <td>0.000659</td>\n",
              "      <td>0.999927</td>\n",
              "      <td>17.444129</td>\n",
              "      <td>17.443122</td>\n",
              "      <td>average_merge</td>\n",
              "    </tr>\n",
              "    <tr>\n",
              "      <th>48</th>\n",
              "      <td>layer.7.attention.self</td>\n",
              "      <td>3.102717</td>\n",
              "      <td>0.517120</td>\n",
              "      <td>0.000874</td>\n",
              "      <td>0.998797</td>\n",
              "      <td>25.217640</td>\n",
              "      <td>25.214099</td>\n",
              "      <td>average_merge</td>\n",
              "    </tr>\n",
              "    <tr>\n",
              "      <th>49</th>\n",
              "      <td>layer.7.intermediate.dense</td>\n",
              "      <td>2.090960</td>\n",
              "      <td>1.045480</td>\n",
              "      <td>0.000914</td>\n",
              "      <td>0.999886</td>\n",
              "      <td>54.408096</td>\n",
              "      <td>54.404120</td>\n",
              "      <td>average_merge</td>\n",
              "    </tr>\n",
              "    <tr>\n",
              "      <th>50</th>\n",
              "      <td>layer.7.output.LayerNorm</td>\n",
              "      <td>0.040819</td>\n",
              "      <td>0.020410</td>\n",
              "      <td>0.000589</td>\n",
              "      <td>0.999977</td>\n",
              "      <td>10.504101</td>\n",
              "      <td>10.504304</td>\n",
              "      <td>average_merge</td>\n",
              "    </tr>\n",
              "    <tr>\n",
              "      <th>51</th>\n",
              "      <td>layer.7.output.dense</td>\n",
              "      <td>1.607162</td>\n",
              "      <td>0.803581</td>\n",
              "      <td>0.000566</td>\n",
              "      <td>0.999903</td>\n",
              "      <td>43.076783</td>\n",
              "      <td>43.071344</td>\n",
              "      <td>average_merge</td>\n",
              "    </tr>\n",
              "    <tr>\n",
              "      <th>52</th>\n",
              "      <td>layer.8.attention.output</td>\n",
              "      <td>0.980103</td>\n",
              "      <td>0.245026</td>\n",
              "      <td>0.000643</td>\n",
              "      <td>0.999938</td>\n",
              "      <td>17.842679</td>\n",
              "      <td>17.841524</td>\n",
              "      <td>average_merge</td>\n",
              "    </tr>\n",
              "    <tr>\n",
              "      <th>53</th>\n",
              "      <td>layer.8.attention.self</td>\n",
              "      <td>3.087873</td>\n",
              "      <td>0.514646</td>\n",
              "      <td>0.000872</td>\n",
              "      <td>0.999541</td>\n",
              "      <td>25.529208</td>\n",
              "      <td>25.525955</td>\n",
              "      <td>average_merge</td>\n",
              "    </tr>\n",
              "    <tr>\n",
              "      <th>54</th>\n",
              "      <td>layer.8.intermediate.dense</td>\n",
              "      <td>2.109620</td>\n",
              "      <td>1.054810</td>\n",
              "      <td>0.000915</td>\n",
              "      <td>0.999877</td>\n",
              "      <td>52.739028</td>\n",
              "      <td>52.732221</td>\n",
              "      <td>average_merge</td>\n",
              "    </tr>\n",
              "    <tr>\n",
              "      <th>55</th>\n",
              "      <td>layer.8.output.LayerNorm</td>\n",
              "      <td>0.041905</td>\n",
              "      <td>0.020953</td>\n",
              "      <td>0.000595</td>\n",
              "      <td>0.999978</td>\n",
              "      <td>10.566531</td>\n",
              "      <td>10.566998</td>\n",
              "      <td>average_merge</td>\n",
              "    </tr>\n",
              "    <tr>\n",
              "      <th>56</th>\n",
              "      <td>layer.8.output.dense</td>\n",
              "      <td>1.589902</td>\n",
              "      <td>0.794951</td>\n",
              "      <td>0.000562</td>\n",
              "      <td>0.999907</td>\n",
              "      <td>43.473130</td>\n",
              "      <td>43.469069</td>\n",
              "      <td>average_merge</td>\n",
              "    </tr>\n",
              "    <tr>\n",
              "      <th>57</th>\n",
              "      <td>layer.9.attention.output</td>\n",
              "      <td>1.013773</td>\n",
              "      <td>0.253443</td>\n",
              "      <td>0.000650</td>\n",
              "      <td>0.999898</td>\n",
              "      <td>15.521542</td>\n",
              "      <td>15.519713</td>\n",
              "      <td>average_merge</td>\n",
              "    </tr>\n",
              "    <tr>\n",
              "      <th>58</th>\n",
              "      <td>layer.9.attention.self</td>\n",
              "      <td>3.112213</td>\n",
              "      <td>0.518702</td>\n",
              "      <td>0.000858</td>\n",
              "      <td>0.999610</td>\n",
              "      <td>25.296810</td>\n",
              "      <td>25.293728</td>\n",
              "      <td>average_merge</td>\n",
              "    </tr>\n",
              "    <tr>\n",
              "      <th>59</th>\n",
              "      <td>layer.9.intermediate.dense</td>\n",
              "      <td>2.115118</td>\n",
              "      <td>1.057559</td>\n",
              "      <td>0.000889</td>\n",
              "      <td>0.999853</td>\n",
              "      <td>48.232982</td>\n",
              "      <td>48.225610</td>\n",
              "      <td>average_merge</td>\n",
              "    </tr>\n",
              "    <tr>\n",
              "      <th>60</th>\n",
              "      <td>layer.9.output.LayerNorm</td>\n",
              "      <td>0.043297</td>\n",
              "      <td>0.021648</td>\n",
              "      <td>0.000617</td>\n",
              "      <td>0.999982</td>\n",
              "      <td>11.295835</td>\n",
              "      <td>11.297057</td>\n",
              "      <td>average_merge</td>\n",
              "    </tr>\n",
              "    <tr>\n",
              "      <th>61</th>\n",
              "      <td>layer.9.output.dense</td>\n",
              "      <td>1.510345</td>\n",
              "      <td>0.755172</td>\n",
              "      <td>0.000523</td>\n",
              "      <td>0.999911</td>\n",
              "      <td>42.288179</td>\n",
              "      <td>42.285766</td>\n",
              "      <td>average_merge</td>\n",
              "    </tr>\n",
              "    <tr>\n",
              "      <th>62</th>\n",
              "      <td>roberta.embeddings.LayerNorm</td>\n",
              "      <td>0.041296</td>\n",
              "      <td>0.020648</td>\n",
              "      <td>0.000596</td>\n",
              "      <td>0.999993</td>\n",
              "      <td>5.906350</td>\n",
              "      <td>5.905761</td>\n",
              "      <td>average_merge</td>\n",
              "    </tr>\n",
              "    <tr>\n",
              "      <th>63</th>\n",
              "      <td>roberta.embeddings.position_embeddings</td>\n",
              "      <td>0.225780</td>\n",
              "      <td>0.225780</td>\n",
              "      <td>0.000098</td>\n",
              "      <td>0.999992</td>\n",
              "      <td>55.531593</td>\n",
              "      <td>55.531975</td>\n",
              "      <td>average_merge</td>\n",
              "    </tr>\n",
              "    <tr>\n",
              "      <th>64</th>\n",
              "      <td>roberta.embeddings.token_type_embeddings</td>\n",
              "      <td>0.014642</td>\n",
              "      <td>0.014642</td>\n",
              "      <td>0.000421</td>\n",
              "      <td>0.759964</td>\n",
              "      <td>0.022328</td>\n",
              "      <td>0.018913</td>\n",
              "      <td>average_merge</td>\n",
              "    </tr>\n",
              "    <tr>\n",
              "      <th>65</th>\n",
              "      <td>roberta.embeddings.word_embeddings</td>\n",
              "      <td>1.908587</td>\n",
              "      <td>1.908587</td>\n",
              "      <td>0.000023</td>\n",
              "      <td>1.000000</td>\n",
              "      <td>2939.885986</td>\n",
              "      <td>2939.886230</td>\n",
              "      <td>average_merge</td>\n",
              "    </tr>\n",
              "    <tr>\n",
              "      <th>66</th>\n",
              "      <td>classifier.dense</td>\n",
              "      <td>18.392926</td>\n",
              "      <td>9.196463</td>\n",
              "      <td>0.010450</td>\n",
              "      <td>-0.019769</td>\n",
              "      <td>8.103898</td>\n",
              "      <td>4.353313</td>\n",
              "      <td>similarity_merge</td>\n",
              "    </tr>\n",
              "    <tr>\n",
              "      <th>67</th>\n",
              "      <td>classifier.out_proj</td>\n",
              "      <td>5.666456</td>\n",
              "      <td>2.833228</td>\n",
              "      <td>0.010992</td>\n",
              "      <td>0.478173</td>\n",
              "      <td>2.529677</td>\n",
              "      <td>1.311662</td>\n",
              "      <td>similarity_merge</td>\n",
              "    </tr>\n",
              "    <tr>\n",
              "      <th>68</th>\n",
              "      <td>layer.0.attention.output</td>\n",
              "      <td>0.863120</td>\n",
              "      <td>0.215780</td>\n",
              "      <td>0.000610</td>\n",
              "      <td>0.999874</td>\n",
              "      <td>12.162775</td>\n",
              "      <td>12.160743</td>\n",
              "      <td>similarity_merge</td>\n",
              "    </tr>\n",
              "    <tr>\n",
              "      <th>69</th>\n",
              "      <td>layer.0.attention.self</td>\n",
              "      <td>2.641122</td>\n",
              "      <td>0.440187</td>\n",
              "      <td>0.000765</td>\n",
              "      <td>0.837850</td>\n",
              "      <td>37.602540</td>\n",
              "      <td>37.599317</td>\n",
              "      <td>similarity_merge</td>\n",
              "    </tr>\n",
              "    <tr>\n",
              "      <th>70</th>\n",
              "      <td>layer.0.intermediate.dense</td>\n",
              "      <td>1.906067</td>\n",
              "      <td>0.953033</td>\n",
              "      <td>0.000873</td>\n",
              "      <td>0.999900</td>\n",
              "      <td>54.537057</td>\n",
              "      <td>54.532606</td>\n",
              "      <td>similarity_merge</td>\n",
              "    </tr>\n",
              "    <tr>\n",
              "      <th>71</th>\n",
              "      <td>layer.0.output.LayerNorm</td>\n",
              "      <td>0.040065</td>\n",
              "      <td>0.020033</td>\n",
              "      <td>0.000575</td>\n",
              "      <td>0.999995</td>\n",
              "      <td>8.321826</td>\n",
              "      <td>8.321887</td>\n",
              "      <td>similarity_merge</td>\n",
              "    </tr>\n",
              "    <tr>\n",
              "      <th>72</th>\n",
              "      <td>layer.0.output.dense</td>\n",
              "      <td>1.630438</td>\n",
              "      <td>0.815219</td>\n",
              "      <td>0.000582</td>\n",
              "      <td>0.999851</td>\n",
              "      <td>36.394897</td>\n",
              "      <td>36.391252</td>\n",
              "      <td>similarity_merge</td>\n",
              "    </tr>\n",
              "    <tr>\n",
              "      <th>73</th>\n",
              "      <td>layer.1.attention.output</td>\n",
              "      <td>0.897899</td>\n",
              "      <td>0.224475</td>\n",
              "      <td>0.000612</td>\n",
              "      <td>0.999863</td>\n",
              "      <td>12.027309</td>\n",
              "      <td>12.026306</td>\n",
              "      <td>similarity_merge</td>\n",
              "    </tr>\n",
              "    <tr>\n",
              "      <th>74</th>\n",
              "      <td>layer.1.attention.self</td>\n",
              "      <td>2.630368</td>\n",
              "      <td>0.438395</td>\n",
              "      <td>0.000741</td>\n",
              "      <td>0.996789</td>\n",
              "      <td>29.436775</td>\n",
              "      <td>29.435597</td>\n",
              "      <td>similarity_merge</td>\n",
              "    </tr>\n",
              "    <tr>\n",
              "      <th>75</th>\n",
              "      <td>layer.1.intermediate.dense</td>\n",
              "      <td>1.930398</td>\n",
              "      <td>0.965199</td>\n",
              "      <td>0.000858</td>\n",
              "      <td>0.999889</td>\n",
              "      <td>53.003073</td>\n",
              "      <td>52.997777</td>\n",
              "      <td>similarity_merge</td>\n",
              "    </tr>\n",
              "    <tr>\n",
              "      <th>76</th>\n",
              "      <td>layer.1.output.LayerNorm</td>\n",
              "      <td>0.039288</td>\n",
              "      <td>0.019644</td>\n",
              "      <td>0.000563</td>\n",
              "      <td>0.999987</td>\n",
              "      <td>8.764392</td>\n",
              "      <td>8.764871</td>\n",
              "      <td>similarity_merge</td>\n",
              "    </tr>\n",
              "    <tr>\n",
              "      <th>77</th>\n",
              "      <td>layer.1.output.dense</td>\n",
              "      <td>1.558072</td>\n",
              "      <td>0.779036</td>\n",
              "      <td>0.000548</td>\n",
              "      <td>0.999855</td>\n",
              "      <td>34.930653</td>\n",
              "      <td>34.926428</td>\n",
              "      <td>similarity_merge</td>\n",
              "    </tr>\n",
              "    <tr>\n",
              "      <th>78</th>\n",
              "      <td>layer.10.attention.output</td>\n",
              "      <td>1.005022</td>\n",
              "      <td>0.251256</td>\n",
              "      <td>0.000635</td>\n",
              "      <td>0.999839</td>\n",
              "      <td>13.003521</td>\n",
              "      <td>13.002546</td>\n",
              "      <td>similarity_merge</td>\n",
              "    </tr>\n",
              "    <tr>\n",
              "      <th>79</th>\n",
              "      <td>layer.10.attention.self</td>\n",
              "      <td>3.135011</td>\n",
              "      <td>0.522502</td>\n",
              "      <td>0.000841</td>\n",
              "      <td>0.999755</td>\n",
              "      <td>24.521202</td>\n",
              "      <td>24.519250</td>\n",
              "      <td>similarity_merge</td>\n",
              "    </tr>\n",
              "    <tr>\n",
              "      <th>80</th>\n",
              "      <td>layer.10.intermediate.dense</td>\n",
              "      <td>2.251143</td>\n",
              "      <td>1.125572</td>\n",
              "      <td>0.000921</td>\n",
              "      <td>0.999748</td>\n",
              "      <td>39.067941</td>\n",
              "      <td>39.063520</td>\n",
              "      <td>similarity_merge</td>\n",
              "    </tr>\n",
              "    <tr>\n",
              "      <th>81</th>\n",
              "      <td>layer.10.output.LayerNorm</td>\n",
              "      <td>0.046641</td>\n",
              "      <td>0.023321</td>\n",
              "      <td>0.000653</td>\n",
              "      <td>0.999978</td>\n",
              "      <td>11.643088</td>\n",
              "      <td>11.644433</td>\n",
              "      <td>similarity_merge</td>\n",
              "    </tr>\n",
              "    <tr>\n",
              "      <th>82</th>\n",
              "      <td>layer.10.output.dense</td>\n",
              "      <td>1.367454</td>\n",
              "      <td>0.683727</td>\n",
              "      <td>0.000455</td>\n",
              "      <td>0.999904</td>\n",
              "      <td>36.867718</td>\n",
              "      <td>36.866269</td>\n",
              "      <td>similarity_merge</td>\n",
              "    </tr>\n",
              "    <tr>\n",
              "      <th>83</th>\n",
              "      <td>layer.11.attention.output</td>\n",
              "      <td>1.228755</td>\n",
              "      <td>0.307189</td>\n",
              "      <td>0.000739</td>\n",
              "      <td>0.999772</td>\n",
              "      <td>13.192296</td>\n",
              "      <td>13.190925</td>\n",
              "      <td>similarity_merge</td>\n",
              "    </tr>\n",
              "    <tr>\n",
              "      <th>84</th>\n",
              "      <td>layer.11.attention.self</td>\n",
              "      <td>3.477128</td>\n",
              "      <td>0.579521</td>\n",
              "      <td>0.000911</td>\n",
              "      <td>0.999623</td>\n",
              "      <td>26.513730</td>\n",
              "      <td>26.509538</td>\n",
              "      <td>similarity_merge</td>\n",
              "    </tr>\n",
              "    <tr>\n",
              "      <th>85</th>\n",
              "      <td>layer.11.intermediate.dense</td>\n",
              "      <td>3.421831</td>\n",
              "      <td>1.710915</td>\n",
              "      <td>0.001375</td>\n",
              "      <td>0.999355</td>\n",
              "      <td>37.427504</td>\n",
              "      <td>37.412126</td>\n",
              "      <td>similarity_merge</td>\n",
              "    </tr>\n",
              "    <tr>\n",
              "      <th>86</th>\n",
              "      <td>layer.11.output.LayerNorm</td>\n",
              "      <td>0.224477</td>\n",
              "      <td>0.112238</td>\n",
              "      <td>0.003542</td>\n",
              "      <td>0.999060</td>\n",
              "      <td>10.958463</td>\n",
              "      <td>10.892159</td>\n",
              "      <td>similarity_merge</td>\n",
              "    </tr>\n",
              "    <tr>\n",
              "      <th>87</th>\n",
              "      <td>layer.11.output.dense</td>\n",
              "      <td>4.542334</td>\n",
              "      <td>2.271167</td>\n",
              "      <td>0.001547</td>\n",
              "      <td>0.998402</td>\n",
              "      <td>29.660910</td>\n",
              "      <td>29.617180</td>\n",
              "      <td>similarity_merge</td>\n",
              "    </tr>\n",
              "    <tr>\n",
              "      <th>88</th>\n",
              "      <td>layer.2.attention.output</td>\n",
              "      <td>0.928293</td>\n",
              "      <td>0.232073</td>\n",
              "      <td>0.000613</td>\n",
              "      <td>0.999854</td>\n",
              "      <td>12.809250</td>\n",
              "      <td>12.806752</td>\n",
              "      <td>similarity_merge</td>\n",
              "    </tr>\n",
              "    <tr>\n",
              "      <th>89</th>\n",
              "      <td>layer.2.attention.self</td>\n",
              "      <td>2.799263</td>\n",
              "      <td>0.466544</td>\n",
              "      <td>0.000800</td>\n",
              "      <td>0.994109</td>\n",
              "      <td>25.723403</td>\n",
              "      <td>25.721338</td>\n",
              "      <td>similarity_merge</td>\n",
              "    </tr>\n",
              "    <tr>\n",
              "      <th>90</th>\n",
              "      <td>layer.2.intermediate.dense</td>\n",
              "      <td>1.954462</td>\n",
              "      <td>0.977231</td>\n",
              "      <td>0.000864</td>\n",
              "      <td>0.999884</td>\n",
              "      <td>51.442287</td>\n",
              "      <td>51.436440</td>\n",
              "      <td>similarity_merge</td>\n",
              "    </tr>\n",
              "    <tr>\n",
              "      <th>91</th>\n",
              "      <td>layer.2.output.LayerNorm</td>\n",
              "      <td>0.039936</td>\n",
              "      <td>0.019968</td>\n",
              "      <td>0.000579</td>\n",
              "      <td>0.999983</td>\n",
              "      <td>9.816624</td>\n",
              "      <td>9.817280</td>\n",
              "      <td>similarity_merge</td>\n",
              "    </tr>\n",
              "    <tr>\n",
              "      <th>92</th>\n",
              "      <td>layer.2.output.dense</td>\n",
              "      <td>1.659310</td>\n",
              "      <td>0.829655</td>\n",
              "      <td>0.000560</td>\n",
              "      <td>0.999874</td>\n",
              "      <td>38.636529</td>\n",
              "      <td>38.631700</td>\n",
              "      <td>similarity_merge</td>\n",
              "    </tr>\n",
              "    <tr>\n",
              "      <th>93</th>\n",
              "      <td>layer.3.attention.output</td>\n",
              "      <td>0.922601</td>\n",
              "      <td>0.230650</td>\n",
              "      <td>0.000597</td>\n",
              "      <td>0.999912</td>\n",
              "      <td>15.459255</td>\n",
              "      <td>15.457411</td>\n",
              "      <td>similarity_merge</td>\n",
              "    </tr>\n",
              "    <tr>\n",
              "      <th>94</th>\n",
              "      <td>layer.3.attention.self</td>\n",
              "      <td>2.837324</td>\n",
              "      <td>0.472887</td>\n",
              "      <td>0.000790</td>\n",
              "      <td>0.993849</td>\n",
              "      <td>24.483349</td>\n",
              "      <td>24.481403</td>\n",
              "      <td>similarity_merge</td>\n",
              "    </tr>\n",
              "    <tr>\n",
              "      <th>95</th>\n",
              "      <td>layer.3.intermediate.dense</td>\n",
              "      <td>1.999714</td>\n",
              "      <td>0.999857</td>\n",
              "      <td>0.000870</td>\n",
              "      <td>0.999894</td>\n",
              "      <td>54.821116</td>\n",
              "      <td>54.817719</td>\n",
              "      <td>similarity_merge</td>\n",
              "    </tr>\n",
              "    <tr>\n",
              "      <th>96</th>\n",
              "      <td>layer.3.output.LayerNorm</td>\n",
              "      <td>0.041513</td>\n",
              "      <td>0.020756</td>\n",
              "      <td>0.000590</td>\n",
              "      <td>0.999981</td>\n",
              "      <td>9.871782</td>\n",
              "      <td>9.872611</td>\n",
              "      <td>similarity_merge</td>\n",
              "    </tr>\n",
              "    <tr>\n",
              "      <th>97</th>\n",
              "      <td>layer.3.output.dense</td>\n",
              "      <td>1.630848</td>\n",
              "      <td>0.815424</td>\n",
              "      <td>0.000562</td>\n",
              "      <td>0.999904</td>\n",
              "      <td>43.777500</td>\n",
              "      <td>43.774158</td>\n",
              "      <td>similarity_merge</td>\n",
              "    </tr>\n",
              "    <tr>\n",
              "      <th>98</th>\n",
              "      <td>layer.4.attention.output</td>\n",
              "      <td>0.963412</td>\n",
              "      <td>0.240853</td>\n",
              "      <td>0.000636</td>\n",
              "      <td>0.999942</td>\n",
              "      <td>18.030273</td>\n",
              "      <td>18.029305</td>\n",
              "      <td>similarity_merge</td>\n",
              "    </tr>\n",
              "    <tr>\n",
              "      <th>99</th>\n",
              "      <td>layer.4.attention.self</td>\n",
              "      <td>2.977424</td>\n",
              "      <td>0.496237</td>\n",
              "      <td>0.000840</td>\n",
              "      <td>0.993846</td>\n",
              "      <td>25.955579</td>\n",
              "      <td>25.953520</td>\n",
              "      <td>similarity_merge</td>\n",
              "    </tr>\n",
              "    <tr>\n",
              "      <th>100</th>\n",
              "      <td>layer.4.intermediate.dense</td>\n",
              "      <td>2.025552</td>\n",
              "      <td>1.012776</td>\n",
              "      <td>0.000879</td>\n",
              "      <td>0.999908</td>\n",
              "      <td>59.376189</td>\n",
              "      <td>59.370723</td>\n",
              "      <td>similarity_merge</td>\n",
              "    </tr>\n",
              "    <tr>\n",
              "      <th>101</th>\n",
              "      <td>layer.4.output.LayerNorm</td>\n",
              "      <td>0.040355</td>\n",
              "      <td>0.020178</td>\n",
              "      <td>0.000573</td>\n",
              "      <td>0.999980</td>\n",
              "      <td>9.609283</td>\n",
              "      <td>9.609275</td>\n",
              "      <td>similarity_merge</td>\n",
              "    </tr>\n",
              "    <tr>\n",
              "      <th>102</th>\n",
              "      <td>layer.4.output.dense</td>\n",
              "      <td>1.658128</td>\n",
              "      <td>0.829064</td>\n",
              "      <td>0.000558</td>\n",
              "      <td>0.999914</td>\n",
              "      <td>46.736879</td>\n",
              "      <td>46.732827</td>\n",
              "      <td>similarity_merge</td>\n",
              "    </tr>\n",
              "    <tr>\n",
              "      <th>103</th>\n",
              "      <td>layer.5.attention.output</td>\n",
              "      <td>0.989242</td>\n",
              "      <td>0.247310</td>\n",
              "      <td>0.000645</td>\n",
              "      <td>0.999945</td>\n",
              "      <td>18.906300</td>\n",
              "      <td>18.905462</td>\n",
              "      <td>similarity_merge</td>\n",
              "    </tr>\n",
              "    <tr>\n",
              "      <th>104</th>\n",
              "      <td>layer.5.attention.self</td>\n",
              "      <td>3.063246</td>\n",
              "      <td>0.510541</td>\n",
              "      <td>0.000867</td>\n",
              "      <td>0.995360</td>\n",
              "      <td>24.809660</td>\n",
              "      <td>24.806621</td>\n",
              "      <td>similarity_merge</td>\n",
              "    </tr>\n",
              "    <tr>\n",
              "      <th>105</th>\n",
              "      <td>layer.5.intermediate.dense</td>\n",
              "      <td>2.088028</td>\n",
              "      <td>1.044014</td>\n",
              "      <td>0.000912</td>\n",
              "      <td>0.999900</td>\n",
              "      <td>58.073097</td>\n",
              "      <td>58.064795</td>\n",
              "      <td>similarity_merge</td>\n",
              "    </tr>\n",
              "    <tr>\n",
              "      <th>106</th>\n",
              "      <td>layer.5.output.LayerNorm</td>\n",
              "      <td>0.043050</td>\n",
              "      <td>0.021525</td>\n",
              "      <td>0.000605</td>\n",
              "      <td>0.999981</td>\n",
              "      <td>9.636222</td>\n",
              "      <td>9.635326</td>\n",
              "      <td>similarity_merge</td>\n",
              "    </tr>\n",
              "    <tr>\n",
              "      <th>107</th>\n",
              "      <td>layer.5.output.dense</td>\n",
              "      <td>1.735117</td>\n",
              "      <td>0.867558</td>\n",
              "      <td>0.000591</td>\n",
              "      <td>0.999897</td>\n",
              "      <td>44.844263</td>\n",
              "      <td>44.840436</td>\n",
              "      <td>similarity_merge</td>\n",
              "    </tr>\n",
              "    <tr>\n",
              "      <th>108</th>\n",
              "      <td>layer.6.attention.output</td>\n",
              "      <td>1.021102</td>\n",
              "      <td>0.255276</td>\n",
              "      <td>0.000684</td>\n",
              "      <td>0.999937</td>\n",
              "      <td>18.332869</td>\n",
              "      <td>18.330195</td>\n",
              "      <td>similarity_merge</td>\n",
              "    </tr>\n",
              "    <tr>\n",
              "      <th>109</th>\n",
              "      <td>layer.6.attention.self</td>\n",
              "      <td>3.156638</td>\n",
              "      <td>0.526106</td>\n",
              "      <td>0.000885</td>\n",
              "      <td>0.998402</td>\n",
              "      <td>25.881104</td>\n",
              "      <td>25.877428</td>\n",
              "      <td>similarity_merge</td>\n",
              "    </tr>\n",
              "    <tr>\n",
              "      <th>110</th>\n",
              "      <td>layer.6.intermediate.dense</td>\n",
              "      <td>2.119991</td>\n",
              "      <td>1.059996</td>\n",
              "      <td>0.000930</td>\n",
              "      <td>0.999890</td>\n",
              "      <td>56.285859</td>\n",
              "      <td>56.282415</td>\n",
              "      <td>similarity_merge</td>\n",
              "    </tr>\n",
              "    <tr>\n",
              "      <th>111</th>\n",
              "      <td>layer.6.output.LayerNorm</td>\n",
              "      <td>0.043852</td>\n",
              "      <td>0.021926</td>\n",
              "      <td>0.000627</td>\n",
              "      <td>0.999964</td>\n",
              "      <td>9.671364</td>\n",
              "      <td>9.671489</td>\n",
              "      <td>similarity_merge</td>\n",
              "    </tr>\n",
              "    <tr>\n",
              "      <th>112</th>\n",
              "      <td>layer.6.output.dense</td>\n",
              "      <td>1.685045</td>\n",
              "      <td>0.842523</td>\n",
              "      <td>0.000590</td>\n",
              "      <td>0.999901</td>\n",
              "      <td>44.569247</td>\n",
              "      <td>44.564119</td>\n",
              "      <td>similarity_merge</td>\n",
              "    </tr>\n",
              "    <tr>\n",
              "      <th>113</th>\n",
              "      <td>layer.7.attention.output</td>\n",
              "      <td>1.023113</td>\n",
              "      <td>0.255778</td>\n",
              "      <td>0.000671</td>\n",
              "      <td>0.999923</td>\n",
              "      <td>17.444129</td>\n",
              "      <td>17.443012</td>\n",
              "      <td>similarity_merge</td>\n",
              "    </tr>\n",
              "    <tr>\n",
              "      <th>114</th>\n",
              "      <td>layer.7.attention.self</td>\n",
              "      <td>3.188316</td>\n",
              "      <td>0.531386</td>\n",
              "      <td>0.000894</td>\n",
              "      <td>0.998794</td>\n",
              "      <td>25.217640</td>\n",
              "      <td>25.214189</td>\n",
              "      <td>similarity_merge</td>\n",
              "    </tr>\n",
              "    <tr>\n",
              "      <th>115</th>\n",
              "      <td>layer.7.intermediate.dense</td>\n",
              "      <td>2.146628</td>\n",
              "      <td>1.073314</td>\n",
              "      <td>0.000940</td>\n",
              "      <td>0.999880</td>\n",
              "      <td>54.408096</td>\n",
              "      <td>54.403753</td>\n",
              "      <td>similarity_merge</td>\n",
              "    </tr>\n",
              "    <tr>\n",
              "      <th>116</th>\n",
              "      <td>layer.7.output.LayerNorm</td>\n",
              "      <td>0.041719</td>\n",
              "      <td>0.020860</td>\n",
              "      <td>0.000597</td>\n",
              "      <td>0.999976</td>\n",
              "      <td>10.504101</td>\n",
              "      <td>10.504424</td>\n",
              "      <td>similarity_merge</td>\n",
              "    </tr>\n",
              "    <tr>\n",
              "      <th>117</th>\n",
              "      <td>layer.7.output.dense</td>\n",
              "      <td>1.650575</td>\n",
              "      <td>0.825287</td>\n",
              "      <td>0.000581</td>\n",
              "      <td>0.999898</td>\n",
              "      <td>43.076783</td>\n",
              "      <td>43.071804</td>\n",
              "      <td>similarity_merge</td>\n",
              "    </tr>\n",
              "    <tr>\n",
              "      <th>118</th>\n",
              "      <td>layer.8.attention.output</td>\n",
              "      <td>1.014318</td>\n",
              "      <td>0.253580</td>\n",
              "      <td>0.000665</td>\n",
              "      <td>0.999934</td>\n",
              "      <td>17.842679</td>\n",
              "      <td>17.841693</td>\n",
              "      <td>similarity_merge</td>\n",
              "    </tr>\n",
              "    <tr>\n",
              "      <th>119</th>\n",
              "      <td>layer.8.attention.self</td>\n",
              "      <td>3.175193</td>\n",
              "      <td>0.529199</td>\n",
              "      <td>0.000892</td>\n",
              "      <td>0.999531</td>\n",
              "      <td>25.529208</td>\n",
              "      <td>25.526268</td>\n",
              "      <td>similarity_merge</td>\n",
              "    </tr>\n",
              "    <tr>\n",
              "      <th>120</th>\n",
              "      <td>layer.8.intermediate.dense</td>\n",
              "      <td>2.167501</td>\n",
              "      <td>1.083751</td>\n",
              "      <td>0.000940</td>\n",
              "      <td>0.999870</td>\n",
              "      <td>52.739028</td>\n",
              "      <td>52.732543</td>\n",
              "      <td>similarity_merge</td>\n",
              "    </tr>\n",
              "    <tr>\n",
              "      <th>121</th>\n",
              "      <td>layer.8.output.LayerNorm</td>\n",
              "      <td>0.043539</td>\n",
              "      <td>0.021769</td>\n",
              "      <td>0.000618</td>\n",
              "      <td>0.999977</td>\n",
              "      <td>10.566531</td>\n",
              "      <td>10.567275</td>\n",
              "      <td>similarity_merge</td>\n",
              "    </tr>\n",
              "    <tr>\n",
              "      <th>122</th>\n",
              "      <td>layer.8.output.dense</td>\n",
              "      <td>1.636698</td>\n",
              "      <td>0.818349</td>\n",
              "      <td>0.000577</td>\n",
              "      <td>0.999901</td>\n",
              "      <td>43.473130</td>\n",
              "      <td>43.469562</td>\n",
              "      <td>similarity_merge</td>\n",
              "    </tr>\n",
              "    <tr>\n",
              "      <th>123</th>\n",
              "      <td>layer.9.attention.output</td>\n",
              "      <td>1.047326</td>\n",
              "      <td>0.261831</td>\n",
              "      <td>0.000669</td>\n",
              "      <td>0.999892</td>\n",
              "      <td>15.521542</td>\n",
              "      <td>15.519613</td>\n",
              "      <td>similarity_merge</td>\n",
              "    </tr>\n",
              "    <tr>\n",
              "      <th>124</th>\n",
              "      <td>layer.9.attention.self</td>\n",
              "      <td>3.195929</td>\n",
              "      <td>0.532655</td>\n",
              "      <td>0.000880</td>\n",
              "      <td>0.999592</td>\n",
              "      <td>25.296810</td>\n",
              "      <td>25.294150</td>\n",
              "      <td>similarity_merge</td>\n",
              "    </tr>\n",
              "    <tr>\n",
              "      <th>125</th>\n",
              "      <td>layer.9.intermediate.dense</td>\n",
              "      <td>2.169482</td>\n",
              "      <td>1.084741</td>\n",
              "      <td>0.000910</td>\n",
              "      <td>0.999846</td>\n",
              "      <td>48.232982</td>\n",
              "      <td>48.225637</td>\n",
              "      <td>similarity_merge</td>\n",
              "    </tr>\n",
              "    <tr>\n",
              "      <th>126</th>\n",
              "      <td>layer.9.output.LayerNorm</td>\n",
              "      <td>0.044672</td>\n",
              "      <td>0.022336</td>\n",
              "      <td>0.000635</td>\n",
              "      <td>0.999981</td>\n",
              "      <td>11.295835</td>\n",
              "      <td>11.297455</td>\n",
              "      <td>similarity_merge</td>\n",
              "    </tr>\n",
              "    <tr>\n",
              "      <th>127</th>\n",
              "      <td>layer.9.output.dense</td>\n",
              "      <td>1.551180</td>\n",
              "      <td>0.775590</td>\n",
              "      <td>0.000535</td>\n",
              "      <td>0.999906</td>\n",
              "      <td>42.288179</td>\n",
              "      <td>42.286198</td>\n",
              "      <td>similarity_merge</td>\n",
              "    </tr>\n",
              "    <tr>\n",
              "      <th>128</th>\n",
              "      <td>roberta.embeddings.LayerNorm</td>\n",
              "      <td>0.042386</td>\n",
              "      <td>0.021193</td>\n",
              "      <td>0.000607</td>\n",
              "      <td>0.999993</td>\n",
              "      <td>5.906350</td>\n",
              "      <td>5.905791</td>\n",
              "      <td>similarity_merge</td>\n",
              "    </tr>\n",
              "    <tr>\n",
              "      <th>129</th>\n",
              "      <td>roberta.embeddings.position_embeddings</td>\n",
              "      <td>0.232987</td>\n",
              "      <td>0.232987</td>\n",
              "      <td>0.000103</td>\n",
              "      <td>0.999991</td>\n",
              "      <td>55.531593</td>\n",
              "      <td>55.532181</td>\n",
              "      <td>similarity_merge</td>\n",
              "    </tr>\n",
              "    <tr>\n",
              "      <th>130</th>\n",
              "      <td>roberta.embeddings.token_type_embeddings</td>\n",
              "      <td>0.015262</td>\n",
              "      <td>0.015262</td>\n",
              "      <td>0.000437</td>\n",
              "      <td>0.736792</td>\n",
              "      <td>0.022328</td>\n",
              "      <td>0.018691</td>\n",
              "      <td>similarity_merge</td>\n",
              "    </tr>\n",
              "    <tr>\n",
              "      <th>131</th>\n",
              "      <td>roberta.embeddings.word_embeddings</td>\n",
              "      <td>1.932783</td>\n",
              "      <td>1.932783</td>\n",
              "      <td>0.000023</td>\n",
              "      <td>1.000000</td>\n",
              "      <td>2939.885986</td>\n",
              "      <td>2939.886475</td>\n",
              "      <td>similarity_merge</td>\n",
              "    </tr>\n",
              "    <tr>\n",
              "      <th>132</th>\n",
              "      <td>classifier.dense</td>\n",
              "      <td>17.923346</td>\n",
              "      <td>8.961673</td>\n",
              "      <td>0.010139</td>\n",
              "      <td>-0.010265</td>\n",
              "      <td>8.103898</td>\n",
              "      <td>3.809210</td>\n",
              "      <td>task_arithmetic</td>\n",
              "    </tr>\n",
              "    <tr>\n",
              "      <th>133</th>\n",
              "      <td>classifier.out_proj</td>\n",
              "      <td>5.568045</td>\n",
              "      <td>2.784022</td>\n",
              "      <td>0.010746</td>\n",
              "      <td>0.480124</td>\n",
              "      <td>2.529677</td>\n",
              "      <td>1.189937</td>\n",
              "      <td>task_arithmetic</td>\n",
              "    </tr>\n",
              "    <tr>\n",
              "      <th>134</th>\n",
              "      <td>layer.0.attention.output</td>\n",
              "      <td>0.848623</td>\n",
              "      <td>0.212156</td>\n",
              "      <td>0.000598</td>\n",
              "      <td>0.999879</td>\n",
              "      <td>12.162775</td>\n",
              "      <td>12.160682</td>\n",
              "      <td>task_arithmetic</td>\n",
              "    </tr>\n",
              "    <tr>\n",
              "      <th>135</th>\n",
              "      <td>layer.0.attention.self</td>\n",
              "      <td>2.567496</td>\n",
              "      <td>0.427916</td>\n",
              "      <td>0.000734</td>\n",
              "      <td>0.851626</td>\n",
              "      <td>37.602540</td>\n",
              "      <td>37.598907</td>\n",
              "      <td>task_arithmetic</td>\n",
              "    </tr>\n",
              "    <tr>\n",
              "      <th>136</th>\n",
              "      <td>layer.0.intermediate.dense</td>\n",
              "      <td>1.853265</td>\n",
              "      <td>0.926633</td>\n",
              "      <td>0.000850</td>\n",
              "      <td>0.999905</td>\n",
              "      <td>54.537057</td>\n",
              "      <td>54.532769</td>\n",
              "      <td>task_arithmetic</td>\n",
              "    </tr>\n",
              "    <tr>\n",
              "      <th>137</th>\n",
              "      <td>layer.0.output.LayerNorm</td>\n",
              "      <td>0.039476</td>\n",
              "      <td>0.019738</td>\n",
              "      <td>0.000563</td>\n",
              "      <td>0.999995</td>\n",
              "      <td>8.321826</td>\n",
              "      <td>8.321822</td>\n",
              "      <td>task_arithmetic</td>\n",
              "    </tr>\n",
              "    <tr>\n",
              "      <th>138</th>\n",
              "      <td>layer.0.output.dense</td>\n",
              "      <td>1.585354</td>\n",
              "      <td>0.792677</td>\n",
              "      <td>0.000569</td>\n",
              "      <td>0.999859</td>\n",
              "      <td>36.394897</td>\n",
              "      <td>36.391021</td>\n",
              "      <td>task_arithmetic</td>\n",
              "    </tr>\n",
              "    <tr>\n",
              "      <th>139</th>\n",
              "      <td>layer.1.attention.output</td>\n",
              "      <td>0.875074</td>\n",
              "      <td>0.218769</td>\n",
              "      <td>0.000607</td>\n",
              "      <td>0.999870</td>\n",
              "      <td>12.027309</td>\n",
              "      <td>12.026375</td>\n",
              "      <td>task_arithmetic</td>\n",
              "    </tr>\n",
              "    <tr>\n",
              "      <th>140</th>\n",
              "      <td>layer.1.attention.self</td>\n",
              "      <td>2.563699</td>\n",
              "      <td>0.427283</td>\n",
              "      <td>0.000730</td>\n",
              "      <td>0.996881</td>\n",
              "      <td>29.436775</td>\n",
              "      <td>29.435167</td>\n",
              "      <td>task_arithmetic</td>\n",
              "    </tr>\n",
              "    <tr>\n",
              "      <th>141</th>\n",
              "      <td>layer.1.intermediate.dense</td>\n",
              "      <td>1.877771</td>\n",
              "      <td>0.938886</td>\n",
              "      <td>0.000838</td>\n",
              "      <td>0.999894</td>\n",
              "      <td>53.003073</td>\n",
              "      <td>52.998463</td>\n",
              "      <td>task_arithmetic</td>\n",
              "    </tr>\n",
              "    <tr>\n",
              "      <th>142</th>\n",
              "      <td>layer.1.output.LayerNorm</td>\n",
              "      <td>0.039588</td>\n",
              "      <td>0.019794</td>\n",
              "      <td>0.000565</td>\n",
              "      <td>0.999987</td>\n",
              "      <td>8.764392</td>\n",
              "      <td>8.765072</td>\n",
              "      <td>task_arithmetic</td>\n",
              "    </tr>\n",
              "    <tr>\n",
              "      <th>143</th>\n",
              "      <td>layer.1.output.dense</td>\n",
              "      <td>1.512781</td>\n",
              "      <td>0.756391</td>\n",
              "      <td>0.000530</td>\n",
              "      <td>0.999863</td>\n",
              "      <td>34.930653</td>\n",
              "      <td>34.925954</td>\n",
              "      <td>task_arithmetic</td>\n",
              "    </tr>\n",
              "    <tr>\n",
              "      <th>144</th>\n",
              "      <td>layer.10.attention.output</td>\n",
              "      <td>0.960543</td>\n",
              "      <td>0.240136</td>\n",
              "      <td>0.000606</td>\n",
              "      <td>0.999853</td>\n",
              "      <td>13.003521</td>\n",
              "      <td>13.002306</td>\n",
              "      <td>task_arithmetic</td>\n",
              "    </tr>\n",
              "    <tr>\n",
              "      <th>145</th>\n",
              "      <td>layer.10.attention.self</td>\n",
              "      <td>3.009257</td>\n",
              "      <td>0.501543</td>\n",
              "      <td>0.000806</td>\n",
              "      <td>0.999775</td>\n",
              "      <td>24.521202</td>\n",
              "      <td>24.518205</td>\n",
              "      <td>task_arithmetic</td>\n",
              "    </tr>\n",
              "    <tr>\n",
              "      <th>146</th>\n",
              "      <td>layer.10.intermediate.dense</td>\n",
              "      <td>2.145833</td>\n",
              "      <td>1.072917</td>\n",
              "      <td>0.000876</td>\n",
              "      <td>0.999771</td>\n",
              "      <td>39.067941</td>\n",
              "      <td>39.062006</td>\n",
              "      <td>task_arithmetic</td>\n",
              "    </tr>\n",
              "    <tr>\n",
              "      <th>147</th>\n",
              "      <td>layer.10.output.LayerNorm</td>\n",
              "      <td>0.044349</td>\n",
              "      <td>0.022174</td>\n",
              "      <td>0.000612</td>\n",
              "      <td>0.999980</td>\n",
              "      <td>11.643088</td>\n",
              "      <td>11.644056</td>\n",
              "      <td>task_arithmetic</td>\n",
              "    </tr>\n",
              "    <tr>\n",
              "      <th>148</th>\n",
              "      <td>layer.10.output.dense</td>\n",
              "      <td>1.317572</td>\n",
              "      <td>0.658786</td>\n",
              "      <td>0.000443</td>\n",
              "      <td>0.999910</td>\n",
              "      <td>36.867718</td>\n",
              "      <td>36.865623</td>\n",
              "      <td>task_arithmetic</td>\n",
              "    </tr>\n",
              "    <tr>\n",
              "      <th>149</th>\n",
              "      <td>layer.11.attention.output</td>\n",
              "      <td>1.199747</td>\n",
              "      <td>0.299937</td>\n",
              "      <td>0.000707</td>\n",
              "      <td>0.999783</td>\n",
              "      <td>13.192296</td>\n",
              "      <td>13.189363</td>\n",
              "      <td>task_arithmetic</td>\n",
              "    </tr>\n",
              "    <tr>\n",
              "      <th>150</th>\n",
              "      <td>layer.11.attention.self</td>\n",
              "      <td>3.367950</td>\n",
              "      <td>0.561325</td>\n",
              "      <td>0.000876</td>\n",
              "      <td>0.999640</td>\n",
              "      <td>26.513730</td>\n",
              "      <td>26.508689</td>\n",
              "      <td>task_arithmetic</td>\n",
              "    </tr>\n",
              "    <tr>\n",
              "      <th>151</th>\n",
              "      <td>layer.11.intermediate.dense</td>\n",
              "      <td>3.317369</td>\n",
              "      <td>1.658685</td>\n",
              "      <td>0.001321</td>\n",
              "      <td>0.999396</td>\n",
              "      <td>37.427504</td>\n",
              "      <td>37.406945</td>\n",
              "      <td>task_arithmetic</td>\n",
              "    </tr>\n",
              "    <tr>\n",
              "      <th>152</th>\n",
              "      <td>layer.11.output.LayerNorm</td>\n",
              "      <td>0.156305</td>\n",
              "      <td>0.078152</td>\n",
              "      <td>0.002300</td>\n",
              "      <td>0.999208</td>\n",
              "      <td>10.958463</td>\n",
              "      <td>10.928821</td>\n",
              "      <td>task_arithmetic</td>\n",
              "    </tr>\n",
              "    <tr>\n",
              "      <th>153</th>\n",
              "      <td>layer.11.output.dense</td>\n",
              "      <td>4.480104</td>\n",
              "      <td>2.240052</td>\n",
              "      <td>0.001474</td>\n",
              "      <td>0.998456</td>\n",
              "      <td>29.660910</td>\n",
              "      <td>29.609865</td>\n",
              "      <td>task_arithmetic</td>\n",
              "    </tr>\n",
              "    <tr>\n",
              "      <th>154</th>\n",
              "      <td>layer.2.attention.output</td>\n",
              "      <td>0.900008</td>\n",
              "      <td>0.225002</td>\n",
              "      <td>0.000599</td>\n",
              "      <td>0.999863</td>\n",
              "      <td>12.809250</td>\n",
              "      <td>12.806983</td>\n",
              "      <td>task_arithmetic</td>\n",
              "    </tr>\n",
              "    <tr>\n",
              "      <th>155</th>\n",
              "      <td>layer.2.attention.self</td>\n",
              "      <td>2.711796</td>\n",
              "      <td>0.451966</td>\n",
              "      <td>0.000775</td>\n",
              "      <td>0.994089</td>\n",
              "      <td>25.723403</td>\n",
              "      <td>25.720900</td>\n",
              "      <td>task_arithmetic</td>\n",
              "    </tr>\n",
              "    <tr>\n",
              "      <th>156</th>\n",
              "      <td>layer.2.intermediate.dense</td>\n",
              "      <td>1.894320</td>\n",
              "      <td>0.947160</td>\n",
              "      <td>0.000839</td>\n",
              "      <td>0.999891</td>\n",
              "      <td>51.442287</td>\n",
              "      <td>51.436788</td>\n",
              "      <td>task_arithmetic</td>\n",
              "    </tr>\n",
              "    <tr>\n",
              "      <th>157</th>\n",
              "      <td>layer.2.output.LayerNorm</td>\n",
              "      <td>0.038716</td>\n",
              "      <td>0.019358</td>\n",
              "      <td>0.000561</td>\n",
              "      <td>0.999982</td>\n",
              "      <td>9.816624</td>\n",
              "      <td>9.817166</td>\n",
              "      <td>task_arithmetic</td>\n",
              "    </tr>\n",
              "    <tr>\n",
              "      <th>158</th>\n",
              "      <td>layer.2.output.dense</td>\n",
              "      <td>1.606011</td>\n",
              "      <td>0.803005</td>\n",
              "      <td>0.000549</td>\n",
              "      <td>0.999882</td>\n",
              "      <td>38.636529</td>\n",
              "      <td>38.631367</td>\n",
              "      <td>task_arithmetic</td>\n",
              "    </tr>\n",
              "    <tr>\n",
              "      <th>159</th>\n",
              "      <td>layer.3.attention.output</td>\n",
              "      <td>0.887621</td>\n",
              "      <td>0.221905</td>\n",
              "      <td>0.000578</td>\n",
              "      <td>0.999918</td>\n",
              "      <td>15.459255</td>\n",
              "      <td>15.456589</td>\n",
              "      <td>task_arithmetic</td>\n",
              "    </tr>\n",
              "    <tr>\n",
              "      <th>160</th>\n",
              "      <td>layer.3.attention.self</td>\n",
              "      <td>2.747226</td>\n",
              "      <td>0.457871</td>\n",
              "      <td>0.000775</td>\n",
              "      <td>0.993609</td>\n",
              "      <td>24.483349</td>\n",
              "      <td>24.481076</td>\n",
              "      <td>task_arithmetic</td>\n",
              "    </tr>\n",
              "    <tr>\n",
              "      <th>161</th>\n",
              "      <td>layer.3.intermediate.dense</td>\n",
              "      <td>1.932721</td>\n",
              "      <td>0.966361</td>\n",
              "      <td>0.000841</td>\n",
              "      <td>0.999901</td>\n",
              "      <td>54.821116</td>\n",
              "      <td>54.817493</td>\n",
              "      <td>task_arithmetic</td>\n",
              "    </tr>\n",
              "    <tr>\n",
              "      <th>162</th>\n",
              "      <td>layer.3.output.LayerNorm</td>\n",
              "      <td>0.040048</td>\n",
              "      <td>0.020024</td>\n",
              "      <td>0.000574</td>\n",
              "      <td>0.999982</td>\n",
              "      <td>9.871782</td>\n",
              "      <td>9.872470</td>\n",
              "      <td>task_arithmetic</td>\n",
              "    </tr>\n",
              "    <tr>\n",
              "      <th>163</th>\n",
              "      <td>layer.3.output.dense</td>\n",
              "      <td>1.566343</td>\n",
              "      <td>0.783171</td>\n",
              "      <td>0.000538</td>\n",
              "      <td>0.999912</td>\n",
              "      <td>43.777500</td>\n",
              "      <td>43.773697</td>\n",
              "      <td>task_arithmetic</td>\n",
              "    </tr>\n",
              "    <tr>\n",
              "      <th>164</th>\n",
              "      <td>layer.4.attention.output</td>\n",
              "      <td>0.928856</td>\n",
              "      <td>0.232214</td>\n",
              "      <td>0.000616</td>\n",
              "      <td>0.999946</td>\n",
              "      <td>18.030273</td>\n",
              "      <td>18.029352</td>\n",
              "      <td>task_arithmetic</td>\n",
              "    </tr>\n",
              "    <tr>\n",
              "      <th>165</th>\n",
              "      <td>layer.4.attention.self</td>\n",
              "      <td>2.887685</td>\n",
              "      <td>0.481281</td>\n",
              "      <td>0.000823</td>\n",
              "      <td>0.993690</td>\n",
              "      <td>25.955579</td>\n",
              "      <td>25.953405</td>\n",
              "      <td>task_arithmetic</td>\n",
              "    </tr>\n",
              "    <tr>\n",
              "      <th>166</th>\n",
              "      <td>layer.4.intermediate.dense</td>\n",
              "      <td>1.953509</td>\n",
              "      <td>0.976754</td>\n",
              "      <td>0.000846</td>\n",
              "      <td>0.999914</td>\n",
              "      <td>59.376189</td>\n",
              "      <td>59.371187</td>\n",
              "      <td>task_arithmetic</td>\n",
              "    </tr>\n",
              "    <tr>\n",
              "      <th>167</th>\n",
              "      <td>layer.4.output.LayerNorm</td>\n",
              "      <td>0.039337</td>\n",
              "      <td>0.019668</td>\n",
              "      <td>0.000562</td>\n",
              "      <td>0.999980</td>\n",
              "      <td>9.609283</td>\n",
              "      <td>9.609246</td>\n",
              "      <td>task_arithmetic</td>\n",
              "    </tr>\n",
              "    <tr>\n",
              "      <th>168</th>\n",
              "      <td>layer.4.output.dense</td>\n",
              "      <td>1.597734</td>\n",
              "      <td>0.798867</td>\n",
              "      <td>0.000545</td>\n",
              "      <td>0.999919</td>\n",
              "      <td>46.736879</td>\n",
              "      <td>46.732226</td>\n",
              "      <td>task_arithmetic</td>\n",
              "    </tr>\n",
              "    <tr>\n",
              "      <th>169</th>\n",
              "      <td>layer.5.attention.output</td>\n",
              "      <td>0.951974</td>\n",
              "      <td>0.237994</td>\n",
              "      <td>0.000628</td>\n",
              "      <td>0.999949</td>\n",
              "      <td>18.906300</td>\n",
              "      <td>18.904980</td>\n",
              "      <td>task_arithmetic</td>\n",
              "    </tr>\n",
              "    <tr>\n",
              "      <th>170</th>\n",
              "      <td>layer.5.attention.self</td>\n",
              "      <td>2.954773</td>\n",
              "      <td>0.492462</td>\n",
              "      <td>0.000840</td>\n",
              "      <td>0.995545</td>\n",
              "      <td>24.809660</td>\n",
              "      <td>24.806235</td>\n",
              "      <td>task_arithmetic</td>\n",
              "    </tr>\n",
              "    <tr>\n",
              "      <th>171</th>\n",
              "      <td>layer.5.intermediate.dense</td>\n",
              "      <td>2.009872</td>\n",
              "      <td>1.004936</td>\n",
              "      <td>0.000875</td>\n",
              "      <td>0.999907</td>\n",
              "      <td>58.073097</td>\n",
              "      <td>58.064101</td>\n",
              "      <td>task_arithmetic</td>\n",
              "    </tr>\n",
              "    <tr>\n",
              "      <th>172</th>\n",
              "      <td>layer.5.output.LayerNorm</td>\n",
              "      <td>0.041295</td>\n",
              "      <td>0.020647</td>\n",
              "      <td>0.000586</td>\n",
              "      <td>0.999982</td>\n",
              "      <td>9.636222</td>\n",
              "      <td>9.635362</td>\n",
              "      <td>task_arithmetic</td>\n",
              "    </tr>\n",
              "    <tr>\n",
              "      <th>173</th>\n",
              "      <td>layer.5.output.dense</td>\n",
              "      <td>1.665815</td>\n",
              "      <td>0.832908</td>\n",
              "      <td>0.000567</td>\n",
              "      <td>0.999905</td>\n",
              "      <td>44.844263</td>\n",
              "      <td>44.839789</td>\n",
              "      <td>task_arithmetic</td>\n",
              "    </tr>\n",
              "    <tr>\n",
              "      <th>174</th>\n",
              "      <td>layer.6.attention.output</td>\n",
              "      <td>0.978393</td>\n",
              "      <td>0.244598</td>\n",
              "      <td>0.000666</td>\n",
              "      <td>0.999942</td>\n",
              "      <td>18.332869</td>\n",
              "      <td>18.329735</td>\n",
              "      <td>task_arithmetic</td>\n",
              "    </tr>\n",
              "    <tr>\n",
              "      <th>175</th>\n",
              "      <td>layer.6.attention.self</td>\n",
              "      <td>3.043217</td>\n",
              "      <td>0.507203</td>\n",
              "      <td>0.000857</td>\n",
              "      <td>0.998335</td>\n",
              "      <td>25.881104</td>\n",
              "      <td>25.876992</td>\n",
              "      <td>task_arithmetic</td>\n",
              "    </tr>\n",
              "    <tr>\n",
              "      <th>176</th>\n",
              "      <td>layer.6.intermediate.dense</td>\n",
              "      <td>2.046567</td>\n",
              "      <td>1.023283</td>\n",
              "      <td>0.000899</td>\n",
              "      <td>0.999898</td>\n",
              "      <td>56.285859</td>\n",
              "      <td>56.279180</td>\n",
              "      <td>task_arithmetic</td>\n",
              "    </tr>\n",
              "    <tr>\n",
              "      <th>177</th>\n",
              "      <td>layer.6.output.LayerNorm</td>\n",
              "      <td>0.043171</td>\n",
              "      <td>0.021586</td>\n",
              "      <td>0.000613</td>\n",
              "      <td>0.999963</td>\n",
              "      <td>9.671364</td>\n",
              "      <td>9.671578</td>\n",
              "      <td>task_arithmetic</td>\n",
              "    </tr>\n",
              "    <tr>\n",
              "      <th>178</th>\n",
              "      <td>layer.6.output.dense</td>\n",
              "      <td>1.623114</td>\n",
              "      <td>0.811557</td>\n",
              "      <td>0.000576</td>\n",
              "      <td>0.999908</td>\n",
              "      <td>44.569247</td>\n",
              "      <td>44.563674</td>\n",
              "      <td>task_arithmetic</td>\n",
              "    </tr>\n",
              "    <tr>\n",
              "      <th>179</th>\n",
              "      <td>layer.7.attention.output</td>\n",
              "      <td>0.984319</td>\n",
              "      <td>0.246080</td>\n",
              "      <td>0.000659</td>\n",
              "      <td>0.999928</td>\n",
              "      <td>17.444129</td>\n",
              "      <td>17.443262</td>\n",
              "      <td>task_arithmetic</td>\n",
              "    </tr>\n",
              "    <tr>\n",
              "      <th>180</th>\n",
              "      <td>layer.7.attention.self</td>\n",
              "      <td>3.082013</td>\n",
              "      <td>0.513669</td>\n",
              "      <td>0.000878</td>\n",
              "      <td>0.998699</td>\n",
              "      <td>25.217640</td>\n",
              "      <td>25.214210</td>\n",
              "      <td>task_arithmetic</td>\n",
              "    </tr>\n",
              "    <tr>\n",
              "      <th>181</th>\n",
              "      <td>layer.7.intermediate.dense</td>\n",
              "      <td>2.079870</td>\n",
              "      <td>1.039935</td>\n",
              "      <td>0.000914</td>\n",
              "      <td>0.999888</td>\n",
              "      <td>54.408096</td>\n",
              "      <td>54.404416</td>\n",
              "      <td>task_arithmetic</td>\n",
              "    </tr>\n",
              "    <tr>\n",
              "      <th>182</th>\n",
              "      <td>layer.7.output.LayerNorm</td>\n",
              "      <td>0.040307</td>\n",
              "      <td>0.020153</td>\n",
              "      <td>0.000572</td>\n",
              "      <td>0.999976</td>\n",
              "      <td>10.504101</td>\n",
              "      <td>10.504082</td>\n",
              "      <td>task_arithmetic</td>\n",
              "    </tr>\n",
              "    <tr>\n",
              "      <th>183</th>\n",
              "      <td>layer.7.output.dense</td>\n",
              "      <td>1.593642</td>\n",
              "      <td>0.796821</td>\n",
              "      <td>0.000562</td>\n",
              "      <td>0.999905</td>\n",
              "      <td>43.076783</td>\n",
              "      <td>43.071115</td>\n",
              "      <td>task_arithmetic</td>\n",
              "    </tr>\n",
              "    <tr>\n",
              "      <th>184</th>\n",
              "      <td>layer.8.attention.output</td>\n",
              "      <td>0.974779</td>\n",
              "      <td>0.243695</td>\n",
              "      <td>0.000642</td>\n",
              "      <td>0.999938</td>\n",
              "      <td>17.842679</td>\n",
              "      <td>17.841562</td>\n",
              "      <td>task_arithmetic</td>\n",
              "    </tr>\n",
              "    <tr>\n",
              "      <th>185</th>\n",
              "      <td>layer.8.attention.self</td>\n",
              "      <td>3.066478</td>\n",
              "      <td>0.511080</td>\n",
              "      <td>0.000875</td>\n",
              "      <td>0.999514</td>\n",
              "      <td>25.529208</td>\n",
              "      <td>25.525997</td>\n",
              "      <td>task_arithmetic</td>\n",
              "    </tr>\n",
              "    <tr>\n",
              "      <th>186</th>\n",
              "      <td>layer.8.intermediate.dense</td>\n",
              "      <td>2.092410</td>\n",
              "      <td>1.046205</td>\n",
              "      <td>0.000904</td>\n",
              "      <td>0.999879</td>\n",
              "      <td>52.739028</td>\n",
              "      <td>52.732292</td>\n",
              "      <td>task_arithmetic</td>\n",
              "    </tr>\n",
              "    <tr>\n",
              "      <th>187</th>\n",
              "      <td>layer.8.output.LayerNorm</td>\n",
              "      <td>0.041539</td>\n",
              "      <td>0.020770</td>\n",
              "      <td>0.000594</td>\n",
              "      <td>0.999980</td>\n",
              "      <td>10.566531</td>\n",
              "      <td>10.566654</td>\n",
              "      <td>task_arithmetic</td>\n",
              "    </tr>\n",
              "    <tr>\n",
              "      <th>188</th>\n",
              "      <td>layer.8.output.dense</td>\n",
              "      <td>1.568269</td>\n",
              "      <td>0.784135</td>\n",
              "      <td>0.000551</td>\n",
              "      <td>0.999909</td>\n",
              "      <td>43.473130</td>\n",
              "      <td>43.468697</td>\n",
              "      <td>task_arithmetic</td>\n",
              "    </tr>\n",
              "    <tr>\n",
              "      <th>189</th>\n",
              "      <td>layer.9.attention.output</td>\n",
              "      <td>0.996283</td>\n",
              "      <td>0.249071</td>\n",
              "      <td>0.000635</td>\n",
              "      <td>0.999902</td>\n",
              "      <td>15.521542</td>\n",
              "      <td>15.519431</td>\n",
              "      <td>task_arithmetic</td>\n",
              "    </tr>\n",
              "    <tr>\n",
              "      <th>190</th>\n",
              "      <td>layer.9.attention.self</td>\n",
              "      <td>3.083393</td>\n",
              "      <td>0.513899</td>\n",
              "      <td>0.000850</td>\n",
              "      <td>0.999609</td>\n",
              "      <td>25.296810</td>\n",
              "      <td>25.293645</td>\n",
              "      <td>task_arithmetic</td>\n",
              "    </tr>\n",
              "    <tr>\n",
              "      <th>191</th>\n",
              "      <td>layer.9.intermediate.dense</td>\n",
              "      <td>2.082359</td>\n",
              "      <td>1.041179</td>\n",
              "      <td>0.000873</td>\n",
              "      <td>0.999858</td>\n",
              "      <td>48.232982</td>\n",
              "      <td>48.225731</td>\n",
              "      <td>task_arithmetic</td>\n",
              "    </tr>\n",
              "    <tr>\n",
              "      <th>192</th>\n",
              "      <td>layer.9.output.LayerNorm</td>\n",
              "      <td>0.042065</td>\n",
              "      <td>0.021032</td>\n",
              "      <td>0.000594</td>\n",
              "      <td>0.999984</td>\n",
              "      <td>11.295835</td>\n",
              "      <td>11.296759</td>\n",
              "      <td>task_arithmetic</td>\n",
              "    </tr>\n",
              "    <tr>\n",
              "      <th>193</th>\n",
              "      <td>layer.9.output.dense</td>\n",
              "      <td>1.485073</td>\n",
              "      <td>0.742536</td>\n",
              "      <td>0.000510</td>\n",
              "      <td>0.999914</td>\n",
              "      <td>42.288179</td>\n",
              "      <td>42.285365</td>\n",
              "      <td>task_arithmetic</td>\n",
              "    </tr>\n",
              "    <tr>\n",
              "      <th>194</th>\n",
              "      <td>roberta.embeddings.LayerNorm</td>\n",
              "      <td>0.041269</td>\n",
              "      <td>0.020635</td>\n",
              "      <td>0.000594</td>\n",
              "      <td>0.999993</td>\n",
              "      <td>5.906350</td>\n",
              "      <td>5.905921</td>\n",
              "      <td>task_arithmetic</td>\n",
              "    </tr>\n",
              "    <tr>\n",
              "      <th>195</th>\n",
              "      <td>roberta.embeddings.position_embeddings</td>\n",
              "      <td>0.217060</td>\n",
              "      <td>0.217060</td>\n",
              "      <td>0.000092</td>\n",
              "      <td>0.999992</td>\n",
              "      <td>55.531593</td>\n",
              "      <td>55.532032</td>\n",
              "      <td>task_arithmetic</td>\n",
              "    </tr>\n",
              "    <tr>\n",
              "      <th>196</th>\n",
              "      <td>roberta.embeddings.token_type_embeddings</td>\n",
              "      <td>0.014534</td>\n",
              "      <td>0.014534</td>\n",
              "      <td>0.000419</td>\n",
              "      <td>0.764471</td>\n",
              "      <td>0.022328</td>\n",
              "      <td>0.019083</td>\n",
              "      <td>task_arithmetic</td>\n",
              "    </tr>\n",
              "    <tr>\n",
              "      <th>197</th>\n",
              "      <td>roberta.embeddings.word_embeddings</td>\n",
              "      <td>1.896783</td>\n",
              "      <td>1.896783</td>\n",
              "      <td>0.000023</td>\n",
              "      <td>1.000000</td>\n",
              "      <td>2939.885986</td>\n",
              "      <td>2939.886719</td>\n",
              "      <td>task_arithmetic</td>\n",
              "    </tr>\n",
              "  </tbody>\n",
              "</table>\n",
              "</div>"
            ],
            "text/plain": [
              "                                        layer  delta_l2_sum  delta_l2_mean  \\\n",
              "0                            classifier.dense     18.083953       9.041976   \n",
              "1                         classifier.out_proj      5.604971       2.802486   \n",
              "2                    layer.0.attention.output      0.846175       0.211544   \n",
              "3                      layer.0.attention.self      2.579264       0.429877   \n",
              "4                  layer.0.intermediate.dense      1.857648       0.928824   \n",
              "5                    layer.0.output.LayerNorm      0.038962       0.019481   \n",
              "6                        layer.0.output.dense      1.590576       0.795288   \n",
              "7                    layer.1.attention.output      0.875673       0.218918   \n",
              "8                      layer.1.attention.self      2.562401       0.427067   \n",
              "9                  layer.1.intermediate.dense      1.883280       0.941640   \n",
              "10                   layer.1.output.LayerNorm      0.038972       0.019486   \n",
              "11                       layer.1.output.dense      1.519931       0.759966   \n",
              "12                  layer.10.attention.output      0.979762       0.244941   \n",
              "13                    layer.10.attention.self      3.054308       0.509051   \n",
              "14                layer.10.intermediate.dense      2.187486       1.093743   \n",
              "15                  layer.10.output.LayerNorm      0.045533       0.022766   \n",
              "16                      layer.10.output.dense      1.335944       0.667972   \n",
              "17                  layer.11.attention.output      1.215925       0.303981   \n",
              "18                    layer.11.attention.self      3.426581       0.571097   \n",
              "19                layer.11.intermediate.dense      3.369223       1.684612   \n",
              "20                  layer.11.output.LayerNorm      0.177058       0.088529   \n",
              "21                      layer.11.output.dense      4.516496       2.258248   \n",
              "22                   layer.2.attention.output      0.903537       0.225884   \n",
              "23                     layer.2.attention.self      2.730122       0.455020   \n",
              "24                 layer.2.intermediate.dense      1.901692       0.950846   \n",
              "25                   layer.2.output.LayerNorm      0.039161       0.019580   \n",
              "26                       layer.2.output.dense      1.614279       0.807140   \n",
              "27                   layer.3.attention.output      0.895458       0.223865   \n",
              "28                     layer.3.attention.self      2.759970       0.459995   \n",
              "29                 layer.3.intermediate.dense      1.946499       0.973249   \n",
              "30                   layer.3.output.LayerNorm      0.040442       0.020221   \n",
              "31                       layer.3.output.dense      1.586874       0.793437   \n",
              "32                   layer.4.attention.output      0.936112       0.234028   \n",
              "33                     layer.4.attention.self      2.901863       0.483644   \n",
              "34                 layer.4.intermediate.dense      1.970426       0.985213   \n",
              "35                   layer.4.output.LayerNorm      0.039110       0.019555   \n",
              "36                       layer.4.output.dense      1.614452       0.807226   \n",
              "37                   layer.5.attention.output      0.961235       0.240309   \n",
              "38                     layer.5.attention.self      2.979077       0.496513   \n",
              "39                 layer.5.intermediate.dense      2.031990       1.015995   \n",
              "40                   layer.5.output.LayerNorm      0.041671       0.020836   \n",
              "41                       layer.5.output.dense      1.686563       0.843282   \n",
              "42                   layer.6.attention.output      0.990188       0.247547   \n",
              "43                     layer.6.attention.self      3.070350       0.511725   \n",
              "44                 layer.6.intermediate.dense      2.064595       1.032297   \n",
              "45                   layer.6.output.LayerNorm      0.042831       0.021416   \n",
              "46                       layer.6.output.dense      1.637089       0.818544   \n",
              "47                   layer.7.attention.output      0.992184       0.248046   \n",
              "48                     layer.7.attention.self      3.102717       0.517120   \n",
              "49                 layer.7.intermediate.dense      2.090960       1.045480   \n",
              "50                   layer.7.output.LayerNorm      0.040819       0.020410   \n",
              "51                       layer.7.output.dense      1.607162       0.803581   \n",
              "52                   layer.8.attention.output      0.980103       0.245026   \n",
              "53                     layer.8.attention.self      3.087873       0.514646   \n",
              "54                 layer.8.intermediate.dense      2.109620       1.054810   \n",
              "55                   layer.8.output.LayerNorm      0.041905       0.020953   \n",
              "56                       layer.8.output.dense      1.589902       0.794951   \n",
              "57                   layer.9.attention.output      1.013773       0.253443   \n",
              "58                     layer.9.attention.self      3.112213       0.518702   \n",
              "59                 layer.9.intermediate.dense      2.115118       1.057559   \n",
              "60                   layer.9.output.LayerNorm      0.043297       0.021648   \n",
              "61                       layer.9.output.dense      1.510345       0.755172   \n",
              "62               roberta.embeddings.LayerNorm      0.041296       0.020648   \n",
              "63     roberta.embeddings.position_embeddings      0.225780       0.225780   \n",
              "64   roberta.embeddings.token_type_embeddings      0.014642       0.014642   \n",
              "65         roberta.embeddings.word_embeddings      1.908587       1.908587   \n",
              "66                           classifier.dense     18.392926       9.196463   \n",
              "67                        classifier.out_proj      5.666456       2.833228   \n",
              "68                   layer.0.attention.output      0.863120       0.215780   \n",
              "69                     layer.0.attention.self      2.641122       0.440187   \n",
              "70                 layer.0.intermediate.dense      1.906067       0.953033   \n",
              "71                   layer.0.output.LayerNorm      0.040065       0.020033   \n",
              "72                       layer.0.output.dense      1.630438       0.815219   \n",
              "73                   layer.1.attention.output      0.897899       0.224475   \n",
              "74                     layer.1.attention.self      2.630368       0.438395   \n",
              "75                 layer.1.intermediate.dense      1.930398       0.965199   \n",
              "76                   layer.1.output.LayerNorm      0.039288       0.019644   \n",
              "77                       layer.1.output.dense      1.558072       0.779036   \n",
              "78                  layer.10.attention.output      1.005022       0.251256   \n",
              "79                    layer.10.attention.self      3.135011       0.522502   \n",
              "80                layer.10.intermediate.dense      2.251143       1.125572   \n",
              "81                  layer.10.output.LayerNorm      0.046641       0.023321   \n",
              "82                      layer.10.output.dense      1.367454       0.683727   \n",
              "83                  layer.11.attention.output      1.228755       0.307189   \n",
              "84                    layer.11.attention.self      3.477128       0.579521   \n",
              "85                layer.11.intermediate.dense      3.421831       1.710915   \n",
              "86                  layer.11.output.LayerNorm      0.224477       0.112238   \n",
              "87                      layer.11.output.dense      4.542334       2.271167   \n",
              "88                   layer.2.attention.output      0.928293       0.232073   \n",
              "89                     layer.2.attention.self      2.799263       0.466544   \n",
              "90                 layer.2.intermediate.dense      1.954462       0.977231   \n",
              "91                   layer.2.output.LayerNorm      0.039936       0.019968   \n",
              "92                       layer.2.output.dense      1.659310       0.829655   \n",
              "93                   layer.3.attention.output      0.922601       0.230650   \n",
              "94                     layer.3.attention.self      2.837324       0.472887   \n",
              "95                 layer.3.intermediate.dense      1.999714       0.999857   \n",
              "96                   layer.3.output.LayerNorm      0.041513       0.020756   \n",
              "97                       layer.3.output.dense      1.630848       0.815424   \n",
              "98                   layer.4.attention.output      0.963412       0.240853   \n",
              "99                     layer.4.attention.self      2.977424       0.496237   \n",
              "100                layer.4.intermediate.dense      2.025552       1.012776   \n",
              "101                  layer.4.output.LayerNorm      0.040355       0.020178   \n",
              "102                      layer.4.output.dense      1.658128       0.829064   \n",
              "103                  layer.5.attention.output      0.989242       0.247310   \n",
              "104                    layer.5.attention.self      3.063246       0.510541   \n",
              "105                layer.5.intermediate.dense      2.088028       1.044014   \n",
              "106                  layer.5.output.LayerNorm      0.043050       0.021525   \n",
              "107                      layer.5.output.dense      1.735117       0.867558   \n",
              "108                  layer.6.attention.output      1.021102       0.255276   \n",
              "109                    layer.6.attention.self      3.156638       0.526106   \n",
              "110                layer.6.intermediate.dense      2.119991       1.059996   \n",
              "111                  layer.6.output.LayerNorm      0.043852       0.021926   \n",
              "112                      layer.6.output.dense      1.685045       0.842523   \n",
              "113                  layer.7.attention.output      1.023113       0.255778   \n",
              "114                    layer.7.attention.self      3.188316       0.531386   \n",
              "115                layer.7.intermediate.dense      2.146628       1.073314   \n",
              "116                  layer.7.output.LayerNorm      0.041719       0.020860   \n",
              "117                      layer.7.output.dense      1.650575       0.825287   \n",
              "118                  layer.8.attention.output      1.014318       0.253580   \n",
              "119                    layer.8.attention.self      3.175193       0.529199   \n",
              "120                layer.8.intermediate.dense      2.167501       1.083751   \n",
              "121                  layer.8.output.LayerNorm      0.043539       0.021769   \n",
              "122                      layer.8.output.dense      1.636698       0.818349   \n",
              "123                  layer.9.attention.output      1.047326       0.261831   \n",
              "124                    layer.9.attention.self      3.195929       0.532655   \n",
              "125                layer.9.intermediate.dense      2.169482       1.084741   \n",
              "126                  layer.9.output.LayerNorm      0.044672       0.022336   \n",
              "127                      layer.9.output.dense      1.551180       0.775590   \n",
              "128              roberta.embeddings.LayerNorm      0.042386       0.021193   \n",
              "129    roberta.embeddings.position_embeddings      0.232987       0.232987   \n",
              "130  roberta.embeddings.token_type_embeddings      0.015262       0.015262   \n",
              "131        roberta.embeddings.word_embeddings      1.932783       1.932783   \n",
              "132                          classifier.dense     17.923346       8.961673   \n",
              "133                       classifier.out_proj      5.568045       2.784022   \n",
              "134                  layer.0.attention.output      0.848623       0.212156   \n",
              "135                    layer.0.attention.self      2.567496       0.427916   \n",
              "136                layer.0.intermediate.dense      1.853265       0.926633   \n",
              "137                  layer.0.output.LayerNorm      0.039476       0.019738   \n",
              "138                      layer.0.output.dense      1.585354       0.792677   \n",
              "139                  layer.1.attention.output      0.875074       0.218769   \n",
              "140                    layer.1.attention.self      2.563699       0.427283   \n",
              "141                layer.1.intermediate.dense      1.877771       0.938886   \n",
              "142                  layer.1.output.LayerNorm      0.039588       0.019794   \n",
              "143                      layer.1.output.dense      1.512781       0.756391   \n",
              "144                 layer.10.attention.output      0.960543       0.240136   \n",
              "145                   layer.10.attention.self      3.009257       0.501543   \n",
              "146               layer.10.intermediate.dense      2.145833       1.072917   \n",
              "147                 layer.10.output.LayerNorm      0.044349       0.022174   \n",
              "148                     layer.10.output.dense      1.317572       0.658786   \n",
              "149                 layer.11.attention.output      1.199747       0.299937   \n",
              "150                   layer.11.attention.self      3.367950       0.561325   \n",
              "151               layer.11.intermediate.dense      3.317369       1.658685   \n",
              "152                 layer.11.output.LayerNorm      0.156305       0.078152   \n",
              "153                     layer.11.output.dense      4.480104       2.240052   \n",
              "154                  layer.2.attention.output      0.900008       0.225002   \n",
              "155                    layer.2.attention.self      2.711796       0.451966   \n",
              "156                layer.2.intermediate.dense      1.894320       0.947160   \n",
              "157                  layer.2.output.LayerNorm      0.038716       0.019358   \n",
              "158                      layer.2.output.dense      1.606011       0.803005   \n",
              "159                  layer.3.attention.output      0.887621       0.221905   \n",
              "160                    layer.3.attention.self      2.747226       0.457871   \n",
              "161                layer.3.intermediate.dense      1.932721       0.966361   \n",
              "162                  layer.3.output.LayerNorm      0.040048       0.020024   \n",
              "163                      layer.3.output.dense      1.566343       0.783171   \n",
              "164                  layer.4.attention.output      0.928856       0.232214   \n",
              "165                    layer.4.attention.self      2.887685       0.481281   \n",
              "166                layer.4.intermediate.dense      1.953509       0.976754   \n",
              "167                  layer.4.output.LayerNorm      0.039337       0.019668   \n",
              "168                      layer.4.output.dense      1.597734       0.798867   \n",
              "169                  layer.5.attention.output      0.951974       0.237994   \n",
              "170                    layer.5.attention.self      2.954773       0.492462   \n",
              "171                layer.5.intermediate.dense      2.009872       1.004936   \n",
              "172                  layer.5.output.LayerNorm      0.041295       0.020647   \n",
              "173                      layer.5.output.dense      1.665815       0.832908   \n",
              "174                  layer.6.attention.output      0.978393       0.244598   \n",
              "175                    layer.6.attention.self      3.043217       0.507203   \n",
              "176                layer.6.intermediate.dense      2.046567       1.023283   \n",
              "177                  layer.6.output.LayerNorm      0.043171       0.021586   \n",
              "178                      layer.6.output.dense      1.623114       0.811557   \n",
              "179                  layer.7.attention.output      0.984319       0.246080   \n",
              "180                    layer.7.attention.self      3.082013       0.513669   \n",
              "181                layer.7.intermediate.dense      2.079870       1.039935   \n",
              "182                  layer.7.output.LayerNorm      0.040307       0.020153   \n",
              "183                      layer.7.output.dense      1.593642       0.796821   \n",
              "184                  layer.8.attention.output      0.974779       0.243695   \n",
              "185                    layer.8.attention.self      3.066478       0.511080   \n",
              "186                layer.8.intermediate.dense      2.092410       1.046205   \n",
              "187                  layer.8.output.LayerNorm      0.041539       0.020770   \n",
              "188                      layer.8.output.dense      1.568269       0.784135   \n",
              "189                  layer.9.attention.output      0.996283       0.249071   \n",
              "190                    layer.9.attention.self      3.083393       0.513899   \n",
              "191                layer.9.intermediate.dense      2.082359       1.041179   \n",
              "192                  layer.9.output.LayerNorm      0.042065       0.021032   \n",
              "193                      layer.9.output.dense      1.485073       0.742536   \n",
              "194              roberta.embeddings.LayerNorm      0.041269       0.020635   \n",
              "195    roberta.embeddings.position_embeddings      0.217060       0.217060   \n",
              "196  roberta.embeddings.token_type_embeddings      0.014534       0.014534   \n",
              "197        roberta.embeddings.word_embeddings      1.896783       1.896783   \n",
              "\n",
              "     delta_mean_abs  cosine_mean  reference_norm_mean  candidate_norm_mean  \\\n",
              "0          0.010250    -0.021167             8.103898             4.013180   \n",
              "1          0.010836     0.481004             2.529677             1.239717   \n",
              "2          0.000597     0.999880            12.162775            12.160544   \n",
              "3          0.000744     0.842738            37.602540            37.598843   \n",
              "4          0.000849     0.999905            54.537057            54.532332   \n",
              "5          0.000557     0.999996             8.321826             8.321916   \n",
              "6          0.000570     0.999858            36.394897            36.390967   \n",
              "7          0.000602     0.999870            12.027309            12.026050   \n",
              "8          0.000722     0.996896            29.436775            29.435452   \n",
              "9          0.000837     0.999894            53.003073            52.997586   \n",
              "10         0.000562     0.999988             8.764392             8.764865   \n",
              "11         0.000535     0.999862            34.930653            34.926015   \n",
              "12         0.000622     0.999847            13.003521            13.002384   \n",
              "13         0.000820     0.999766            24.521202            24.518661   \n",
              "14         0.000894     0.999762            39.067941            39.062411   \n",
              "15         0.000635     0.999979            11.643088            11.644191   \n",
              "16         0.000448     0.999908            36.867718            36.865425   \n",
              "17         0.000719     0.999777            13.192296            13.190063   \n",
              "18         0.000886     0.999636            26.513730            26.509053   \n",
              "19         0.001348     0.999376            37.427504            37.408827   \n",
              "20         0.002664     0.999168            10.958463            10.916275   \n",
              "21         0.001503     0.998428            29.660910            29.613347   \n",
              "22         0.000600     0.999861            12.809250            12.806376   \n",
              "23         0.000782     0.994285            25.723403            25.721191   \n",
              "24         0.000841     0.999890            51.442287            51.436262   \n",
              "25         0.000568     0.999983             9.816624             9.817310   \n",
              "26         0.000548     0.999881            38.636529            38.631313   \n",
              "27         0.000580     0.999917            15.459255            15.457375   \n",
              "28         0.000772     0.993908            24.483349            24.481266   \n",
              "29         0.000849     0.999900            54.821116            54.817402   \n",
              "30         0.000575     0.999982             9.871782             9.872680   \n",
              "31         0.000547     0.999909            43.777500            43.773920   \n",
              "32         0.000619     0.999945            18.030273            18.029155   \n",
              "33         0.000822     0.993871            25.955579            25.953299   \n",
              "34         0.000854     0.999913            59.376189            59.370646   \n",
              "35         0.000553     0.999981             9.609283             9.609362   \n",
              "36         0.000546     0.999918            46.736879            46.732524   \n",
              "37         0.000626     0.999948            18.906300            18.905345   \n",
              "38         0.000843     0.995500            24.809660            24.806429   \n",
              "39         0.000885     0.999905            58.073097            58.064454   \n",
              "40         0.000585     0.999982             9.636222             9.635601   \n",
              "41         0.000573     0.999903            44.844263            44.840193   \n",
              "42         0.000664     0.999941            18.332869            18.330022   \n",
              "43         0.000862     0.998406            25.881104            25.877350   \n",
              "44         0.000905     0.999896            56.285859            56.281254   \n",
              "45         0.000604     0.999965             9.671364             9.671514   \n",
              "46         0.000574     0.999907            44.569247            44.563730   \n",
              "47         0.000659     0.999927            17.444129            17.443122   \n",
              "48         0.000874     0.998797            25.217640            25.214099   \n",
              "49         0.000914     0.999886            54.408096            54.404120   \n",
              "50         0.000589     0.999977            10.504101            10.504304   \n",
              "51         0.000566     0.999903            43.076783            43.071344   \n",
              "52         0.000643     0.999938            17.842679            17.841524   \n",
              "53         0.000872     0.999541            25.529208            25.525955   \n",
              "54         0.000915     0.999877            52.739028            52.732221   \n",
              "55         0.000595     0.999978            10.566531            10.566998   \n",
              "56         0.000562     0.999907            43.473130            43.469069   \n",
              "57         0.000650     0.999898            15.521542            15.519713   \n",
              "58         0.000858     0.999610            25.296810            25.293728   \n",
              "59         0.000889     0.999853            48.232982            48.225610   \n",
              "60         0.000617     0.999982            11.295835            11.297057   \n",
              "61         0.000523     0.999911            42.288179            42.285766   \n",
              "62         0.000596     0.999993             5.906350             5.905761   \n",
              "63         0.000098     0.999992            55.531593            55.531975   \n",
              "64         0.000421     0.759964             0.022328             0.018913   \n",
              "65         0.000023     1.000000          2939.885986          2939.886230   \n",
              "66         0.010450    -0.019769             8.103898             4.353313   \n",
              "67         0.010992     0.478173             2.529677             1.311662   \n",
              "68         0.000610     0.999874            12.162775            12.160743   \n",
              "69         0.000765     0.837850            37.602540            37.599317   \n",
              "70         0.000873     0.999900            54.537057            54.532606   \n",
              "71         0.000575     0.999995             8.321826             8.321887   \n",
              "72         0.000582     0.999851            36.394897            36.391252   \n",
              "73         0.000612     0.999863            12.027309            12.026306   \n",
              "74         0.000741     0.996789            29.436775            29.435597   \n",
              "75         0.000858     0.999889            53.003073            52.997777   \n",
              "76         0.000563     0.999987             8.764392             8.764871   \n",
              "77         0.000548     0.999855            34.930653            34.926428   \n",
              "78         0.000635     0.999839            13.003521            13.002546   \n",
              "79         0.000841     0.999755            24.521202            24.519250   \n",
              "80         0.000921     0.999748            39.067941            39.063520   \n",
              "81         0.000653     0.999978            11.643088            11.644433   \n",
              "82         0.000455     0.999904            36.867718            36.866269   \n",
              "83         0.000739     0.999772            13.192296            13.190925   \n",
              "84         0.000911     0.999623            26.513730            26.509538   \n",
              "85         0.001375     0.999355            37.427504            37.412126   \n",
              "86         0.003542     0.999060            10.958463            10.892159   \n",
              "87         0.001547     0.998402            29.660910            29.617180   \n",
              "88         0.000613     0.999854            12.809250            12.806752   \n",
              "89         0.000800     0.994109            25.723403            25.721338   \n",
              "90         0.000864     0.999884            51.442287            51.436440   \n",
              "91         0.000579     0.999983             9.816624             9.817280   \n",
              "92         0.000560     0.999874            38.636529            38.631700   \n",
              "93         0.000597     0.999912            15.459255            15.457411   \n",
              "94         0.000790     0.993849            24.483349            24.481403   \n",
              "95         0.000870     0.999894            54.821116            54.817719   \n",
              "96         0.000590     0.999981             9.871782             9.872611   \n",
              "97         0.000562     0.999904            43.777500            43.774158   \n",
              "98         0.000636     0.999942            18.030273            18.029305   \n",
              "99         0.000840     0.993846            25.955579            25.953520   \n",
              "100        0.000879     0.999908            59.376189            59.370723   \n",
              "101        0.000573     0.999980             9.609283             9.609275   \n",
              "102        0.000558     0.999914            46.736879            46.732827   \n",
              "103        0.000645     0.999945            18.906300            18.905462   \n",
              "104        0.000867     0.995360            24.809660            24.806621   \n",
              "105        0.000912     0.999900            58.073097            58.064795   \n",
              "106        0.000605     0.999981             9.636222             9.635326   \n",
              "107        0.000591     0.999897            44.844263            44.840436   \n",
              "108        0.000684     0.999937            18.332869            18.330195   \n",
              "109        0.000885     0.998402            25.881104            25.877428   \n",
              "110        0.000930     0.999890            56.285859            56.282415   \n",
              "111        0.000627     0.999964             9.671364             9.671489   \n",
              "112        0.000590     0.999901            44.569247            44.564119   \n",
              "113        0.000671     0.999923            17.444129            17.443012   \n",
              "114        0.000894     0.998794            25.217640            25.214189   \n",
              "115        0.000940     0.999880            54.408096            54.403753   \n",
              "116        0.000597     0.999976            10.504101            10.504424   \n",
              "117        0.000581     0.999898            43.076783            43.071804   \n",
              "118        0.000665     0.999934            17.842679            17.841693   \n",
              "119        0.000892     0.999531            25.529208            25.526268   \n",
              "120        0.000940     0.999870            52.739028            52.732543   \n",
              "121        0.000618     0.999977            10.566531            10.567275   \n",
              "122        0.000577     0.999901            43.473130            43.469562   \n",
              "123        0.000669     0.999892            15.521542            15.519613   \n",
              "124        0.000880     0.999592            25.296810            25.294150   \n",
              "125        0.000910     0.999846            48.232982            48.225637   \n",
              "126        0.000635     0.999981            11.295835            11.297455   \n",
              "127        0.000535     0.999906            42.288179            42.286198   \n",
              "128        0.000607     0.999993             5.906350             5.905791   \n",
              "129        0.000103     0.999991            55.531593            55.532181   \n",
              "130        0.000437     0.736792             0.022328             0.018691   \n",
              "131        0.000023     1.000000          2939.885986          2939.886475   \n",
              "132        0.010139    -0.010265             8.103898             3.809210   \n",
              "133        0.010746     0.480124             2.529677             1.189937   \n",
              "134        0.000598     0.999879            12.162775            12.160682   \n",
              "135        0.000734     0.851626            37.602540            37.598907   \n",
              "136        0.000850     0.999905            54.537057            54.532769   \n",
              "137        0.000563     0.999995             8.321826             8.321822   \n",
              "138        0.000569     0.999859            36.394897            36.391021   \n",
              "139        0.000607     0.999870            12.027309            12.026375   \n",
              "140        0.000730     0.996881            29.436775            29.435167   \n",
              "141        0.000838     0.999894            53.003073            52.998463   \n",
              "142        0.000565     0.999987             8.764392             8.765072   \n",
              "143        0.000530     0.999863            34.930653            34.925954   \n",
              "144        0.000606     0.999853            13.003521            13.002306   \n",
              "145        0.000806     0.999775            24.521202            24.518205   \n",
              "146        0.000876     0.999771            39.067941            39.062006   \n",
              "147        0.000612     0.999980            11.643088            11.644056   \n",
              "148        0.000443     0.999910            36.867718            36.865623   \n",
              "149        0.000707     0.999783            13.192296            13.189363   \n",
              "150        0.000876     0.999640            26.513730            26.508689   \n",
              "151        0.001321     0.999396            37.427504            37.406945   \n",
              "152        0.002300     0.999208            10.958463            10.928821   \n",
              "153        0.001474     0.998456            29.660910            29.609865   \n",
              "154        0.000599     0.999863            12.809250            12.806983   \n",
              "155        0.000775     0.994089            25.723403            25.720900   \n",
              "156        0.000839     0.999891            51.442287            51.436788   \n",
              "157        0.000561     0.999982             9.816624             9.817166   \n",
              "158        0.000549     0.999882            38.636529            38.631367   \n",
              "159        0.000578     0.999918            15.459255            15.456589   \n",
              "160        0.000775     0.993609            24.483349            24.481076   \n",
              "161        0.000841     0.999901            54.821116            54.817493   \n",
              "162        0.000574     0.999982             9.871782             9.872470   \n",
              "163        0.000538     0.999912            43.777500            43.773697   \n",
              "164        0.000616     0.999946            18.030273            18.029352   \n",
              "165        0.000823     0.993690            25.955579            25.953405   \n",
              "166        0.000846     0.999914            59.376189            59.371187   \n",
              "167        0.000562     0.999980             9.609283             9.609246   \n",
              "168        0.000545     0.999919            46.736879            46.732226   \n",
              "169        0.000628     0.999949            18.906300            18.904980   \n",
              "170        0.000840     0.995545            24.809660            24.806235   \n",
              "171        0.000875     0.999907            58.073097            58.064101   \n",
              "172        0.000586     0.999982             9.636222             9.635362   \n",
              "173        0.000567     0.999905            44.844263            44.839789   \n",
              "174        0.000666     0.999942            18.332869            18.329735   \n",
              "175        0.000857     0.998335            25.881104            25.876992   \n",
              "176        0.000899     0.999898            56.285859            56.279180   \n",
              "177        0.000613     0.999963             9.671364             9.671578   \n",
              "178        0.000576     0.999908            44.569247            44.563674   \n",
              "179        0.000659     0.999928            17.444129            17.443262   \n",
              "180        0.000878     0.998699            25.217640            25.214210   \n",
              "181        0.000914     0.999888            54.408096            54.404416   \n",
              "182        0.000572     0.999976            10.504101            10.504082   \n",
              "183        0.000562     0.999905            43.076783            43.071115   \n",
              "184        0.000642     0.999938            17.842679            17.841562   \n",
              "185        0.000875     0.999514            25.529208            25.525997   \n",
              "186        0.000904     0.999879            52.739028            52.732292   \n",
              "187        0.000594     0.999980            10.566531            10.566654   \n",
              "188        0.000551     0.999909            43.473130            43.468697   \n",
              "189        0.000635     0.999902            15.521542            15.519431   \n",
              "190        0.000850     0.999609            25.296810            25.293645   \n",
              "191        0.000873     0.999858            48.232982            48.225731   \n",
              "192        0.000594     0.999984            11.295835            11.296759   \n",
              "193        0.000510     0.999914            42.288179            42.285365   \n",
              "194        0.000594     0.999993             5.906350             5.905921   \n",
              "195        0.000092     0.999992            55.531593            55.532032   \n",
              "196        0.000419     0.764471             0.022328             0.019083   \n",
              "197        0.000023     1.000000          2939.885986          2939.886719   \n",
              "\n",
              "                model  \n",
              "0       average_merge  \n",
              "1       average_merge  \n",
              "2       average_merge  \n",
              "3       average_merge  \n",
              "4       average_merge  \n",
              "5       average_merge  \n",
              "6       average_merge  \n",
              "7       average_merge  \n",
              "8       average_merge  \n",
              "9       average_merge  \n",
              "10      average_merge  \n",
              "11      average_merge  \n",
              "12      average_merge  \n",
              "13      average_merge  \n",
              "14      average_merge  \n",
              "15      average_merge  \n",
              "16      average_merge  \n",
              "17      average_merge  \n",
              "18      average_merge  \n",
              "19      average_merge  \n",
              "20      average_merge  \n",
              "21      average_merge  \n",
              "22      average_merge  \n",
              "23      average_merge  \n",
              "24      average_merge  \n",
              "25      average_merge  \n",
              "26      average_merge  \n",
              "27      average_merge  \n",
              "28      average_merge  \n",
              "29      average_merge  \n",
              "30      average_merge  \n",
              "31      average_merge  \n",
              "32      average_merge  \n",
              "33      average_merge  \n",
              "34      average_merge  \n",
              "35      average_merge  \n",
              "36      average_merge  \n",
              "37      average_merge  \n",
              "38      average_merge  \n",
              "39      average_merge  \n",
              "40      average_merge  \n",
              "41      average_merge  \n",
              "42      average_merge  \n",
              "43      average_merge  \n",
              "44      average_merge  \n",
              "45      average_merge  \n",
              "46      average_merge  \n",
              "47      average_merge  \n",
              "48      average_merge  \n",
              "49      average_merge  \n",
              "50      average_merge  \n",
              "51      average_merge  \n",
              "52      average_merge  \n",
              "53      average_merge  \n",
              "54      average_merge  \n",
              "55      average_merge  \n",
              "56      average_merge  \n",
              "57      average_merge  \n",
              "58      average_merge  \n",
              "59      average_merge  \n",
              "60      average_merge  \n",
              "61      average_merge  \n",
              "62      average_merge  \n",
              "63      average_merge  \n",
              "64      average_merge  \n",
              "65      average_merge  \n",
              "66   similarity_merge  \n",
              "67   similarity_merge  \n",
              "68   similarity_merge  \n",
              "69   similarity_merge  \n",
              "70   similarity_merge  \n",
              "71   similarity_merge  \n",
              "72   similarity_merge  \n",
              "73   similarity_merge  \n",
              "74   similarity_merge  \n",
              "75   similarity_merge  \n",
              "76   similarity_merge  \n",
              "77   similarity_merge  \n",
              "78   similarity_merge  \n",
              "79   similarity_merge  \n",
              "80   similarity_merge  \n",
              "81   similarity_merge  \n",
              "82   similarity_merge  \n",
              "83   similarity_merge  \n",
              "84   similarity_merge  \n",
              "85   similarity_merge  \n",
              "86   similarity_merge  \n",
              "87   similarity_merge  \n",
              "88   similarity_merge  \n",
              "89   similarity_merge  \n",
              "90   similarity_merge  \n",
              "91   similarity_merge  \n",
              "92   similarity_merge  \n",
              "93   similarity_merge  \n",
              "94   similarity_merge  \n",
              "95   similarity_merge  \n",
              "96   similarity_merge  \n",
              "97   similarity_merge  \n",
              "98   similarity_merge  \n",
              "99   similarity_merge  \n",
              "100  similarity_merge  \n",
              "101  similarity_merge  \n",
              "102  similarity_merge  \n",
              "103  similarity_merge  \n",
              "104  similarity_merge  \n",
              "105  similarity_merge  \n",
              "106  similarity_merge  \n",
              "107  similarity_merge  \n",
              "108  similarity_merge  \n",
              "109  similarity_merge  \n",
              "110  similarity_merge  \n",
              "111  similarity_merge  \n",
              "112  similarity_merge  \n",
              "113  similarity_merge  \n",
              "114  similarity_merge  \n",
              "115  similarity_merge  \n",
              "116  similarity_merge  \n",
              "117  similarity_merge  \n",
              "118  similarity_merge  \n",
              "119  similarity_merge  \n",
              "120  similarity_merge  \n",
              "121  similarity_merge  \n",
              "122  similarity_merge  \n",
              "123  similarity_merge  \n",
              "124  similarity_merge  \n",
              "125  similarity_merge  \n",
              "126  similarity_merge  \n",
              "127  similarity_merge  \n",
              "128  similarity_merge  \n",
              "129  similarity_merge  \n",
              "130  similarity_merge  \n",
              "131  similarity_merge  \n",
              "132   task_arithmetic  \n",
              "133   task_arithmetic  \n",
              "134   task_arithmetic  \n",
              "135   task_arithmetic  \n",
              "136   task_arithmetic  \n",
              "137   task_arithmetic  \n",
              "138   task_arithmetic  \n",
              "139   task_arithmetic  \n",
              "140   task_arithmetic  \n",
              "141   task_arithmetic  \n",
              "142   task_arithmetic  \n",
              "143   task_arithmetic  \n",
              "144   task_arithmetic  \n",
              "145   task_arithmetic  \n",
              "146   task_arithmetic  \n",
              "147   task_arithmetic  \n",
              "148   task_arithmetic  \n",
              "149   task_arithmetic  \n",
              "150   task_arithmetic  \n",
              "151   task_arithmetic  \n",
              "152   task_arithmetic  \n",
              "153   task_arithmetic  \n",
              "154   task_arithmetic  \n",
              "155   task_arithmetic  \n",
              "156   task_arithmetic  \n",
              "157   task_arithmetic  \n",
              "158   task_arithmetic  \n",
              "159   task_arithmetic  \n",
              "160   task_arithmetic  \n",
              "161   task_arithmetic  \n",
              "162   task_arithmetic  \n",
              "163   task_arithmetic  \n",
              "164   task_arithmetic  \n",
              "165   task_arithmetic  \n",
              "166   task_arithmetic  \n",
              "167   task_arithmetic  \n",
              "168   task_arithmetic  \n",
              "169   task_arithmetic  \n",
              "170   task_arithmetic  \n",
              "171   task_arithmetic  \n",
              "172   task_arithmetic  \n",
              "173   task_arithmetic  \n",
              "174   task_arithmetic  \n",
              "175   task_arithmetic  \n",
              "176   task_arithmetic  \n",
              "177   task_arithmetic  \n",
              "178   task_arithmetic  \n",
              "179   task_arithmetic  \n",
              "180   task_arithmetic  \n",
              "181   task_arithmetic  \n",
              "182   task_arithmetic  \n",
              "183   task_arithmetic  \n",
              "184   task_arithmetic  \n",
              "185   task_arithmetic  \n",
              "186   task_arithmetic  \n",
              "187   task_arithmetic  \n",
              "188   task_arithmetic  \n",
              "189   task_arithmetic  \n",
              "190   task_arithmetic  \n",
              "191   task_arithmetic  \n",
              "192   task_arithmetic  \n",
              "193   task_arithmetic  \n",
              "194   task_arithmetic  \n",
              "195   task_arithmetic  \n",
              "196   task_arithmetic  \n",
              "197   task_arithmetic  "
            ]
          },
          "metadata": {},
          "output_type": "display_data"
        }
      ],
      "source": [
        "weight_delta_frames = []\n",
        "layer_aggregates = []\n",
        "\n",
        "reference_model = artifacts[REFERENCE_KEY].model\n",
        "\n",
        "for name, artifact in artifacts.items():\n",
        "    if name == REFERENCE_KEY:\n",
        "        continue\n",
        "    deltas = compute_weight_deltas(reference_model, artifact.model)\n",
        "    deltas[\"model\"] = name\n",
        "    weight_delta_frames.append(deltas)\n",
        "\n",
        "    layer_summary = aggregate_parameter_stats(deltas)\n",
        "    layer_summary[\"model\"] = name\n",
        "    layer_aggregates.append(layer_summary)\n",
        "\n",
        "weight_deltas_df = pd.concat(weight_delta_frames, ignore_index=True) if weight_delta_frames else pd.DataFrame()\n",
        "layer_deltas_df = pd.concat(layer_aggregates, ignore_index=True) if layer_aggregates else pd.DataFrame()\n",
        "\n",
        "display(layer_deltas_df)"
      ]
    },
    {
      "cell_type": "code",
      "execution_count": 8,
      "metadata": {},
      "outputs": [
        {
          "data": {
            "application/vnd.plotly.v1+json": {
              "config": {
                "plotlyServerURL": "https://plot.ly"
              },
              "data": [
                {
                  "alignmentgroup": "True",
                  "hovertemplate": "model=average_merge<br>layer=%{x}<br>delta_l2_sum=%{y}<extra></extra>",
                  "legendgroup": "average_merge",
                  "marker": {
                    "color": "#636efa",
                    "pattern": {
                      "shape": ""
                    }
                  },
                  "name": "average_merge",
                  "offsetgroup": "average_merge",
                  "orientation": "v",
                  "showlegend": true,
                  "textposition": "auto",
                  "type": "bar",
                  "x": [
                    "classifier.dense",
                    "classifier.out_proj",
                    "layer.0.attention.output",
                    "layer.0.attention.self",
                    "layer.0.intermediate.dense",
                    "layer.0.output.LayerNorm",
                    "layer.0.output.dense",
                    "layer.1.attention.output",
                    "layer.1.attention.self",
                    "layer.1.intermediate.dense",
                    "layer.1.output.LayerNorm",
                    "layer.1.output.dense",
                    "layer.10.attention.output",
                    "layer.10.attention.self",
                    "layer.10.intermediate.dense",
                    "layer.10.output.LayerNorm",
                    "layer.10.output.dense",
                    "layer.11.attention.output",
                    "layer.11.attention.self",
                    "layer.11.intermediate.dense",
                    "layer.11.output.LayerNorm",
                    "layer.11.output.dense",
                    "layer.2.attention.output",
                    "layer.2.attention.self",
                    "layer.2.intermediate.dense",
                    "layer.2.output.LayerNorm",
                    "layer.2.output.dense",
                    "layer.3.attention.output",
                    "layer.3.attention.self",
                    "layer.3.intermediate.dense",
                    "layer.3.output.LayerNorm",
                    "layer.3.output.dense",
                    "layer.4.attention.output",
                    "layer.4.attention.self",
                    "layer.4.intermediate.dense",
                    "layer.4.output.LayerNorm",
                    "layer.4.output.dense",
                    "layer.5.attention.output",
                    "layer.5.attention.self",
                    "layer.5.intermediate.dense",
                    "layer.5.output.LayerNorm",
                    "layer.5.output.dense",
                    "layer.6.attention.output",
                    "layer.6.attention.self",
                    "layer.6.intermediate.dense",
                    "layer.6.output.LayerNorm",
                    "layer.6.output.dense",
                    "layer.7.attention.output",
                    "layer.7.attention.self",
                    "layer.7.intermediate.dense",
                    "layer.7.output.LayerNorm",
                    "layer.7.output.dense",
                    "layer.8.attention.output",
                    "layer.8.attention.self",
                    "layer.8.intermediate.dense",
                    "layer.8.output.LayerNorm",
                    "layer.8.output.dense",
                    "layer.9.attention.output",
                    "layer.9.attention.self",
                    "layer.9.intermediate.dense",
                    "layer.9.output.LayerNorm",
                    "layer.9.output.dense",
                    "roberta.embeddings.LayerNorm",
                    "roberta.embeddings.position_embeddings",
                    "roberta.embeddings.token_type_embeddings",
                    "roberta.embeddings.word_embeddings"
                  ],
                  "xaxis": "x",
                  "y": {
                    "bdata": "AADQ6n0VMkAAAIiefWsWQAAAAAreE+s/AACAD1WiBEAAAAAg7bj9PwAAAHjg8qM/AACAof9y+T8AAIAzgwXsPwAAQArMfwRAAAAAduoh/j8AAADgJPSjPwAAQDSjUfg/AACAATZa7z8AAIBIOW8IQAAAgIn4fwFAAAAAmA9Qpz8AAADwBmD1PwAAgEFtdPM/AADgHqNpC0AAAABhK/QKQAAAAIDTqcY/AABAZOQQEkAAAIB7xensPwAAQBZK1wVAAAAAZFRt/j8AAAAI4AykPwAAAI0W1Pk/AAAA/Zen7D8AAKAIaxQGQAAAAADcJP8/AAAAMNq0pD8AAIA51mP5PwAAgC+g9O0/AAAAvAM3B0AAAADj3Yb/PwAAAAA4BqQ/AABAdMvU+T8AAABMcMLuPwAA4Egm1QdAAAAA7YNBAEAAAACw8FWlPwAAgKYp/Po/AACAQ5+v7z8AAMC6E5AIQAAAAFRKhABAAAAAWPTtpT8AAAA1hDH6PwAAgCb5v+8/AABAXF3SCEAAAABaSboAQAAAAKBK5qQ/AACA6u+2+T8AAIDMAV3vPwAAwOD2swhAAAAAm4DgAEAAAAAQlXSlPwAAAMY8cPk/AABAd2o48D8AAADOz+UIQAAAANTC6wBAAAAAyPYqpj8AAABNXyr4PwAAACi5JKU/AAAAAF3mzD8AAACg1PyNPwAAAECSif4/",
                    "dtype": "f8"
                  },
                  "yaxis": "y"
                },
                {
                  "alignmentgroup": "True",
                  "hovertemplate": "model=similarity_merge<br>layer=%{x}<br>delta_l2_sum=%{y}<extra></extra>",
                  "legendgroup": "similarity_merge",
                  "marker": {
                    "color": "#EF553B",
                    "pattern": {
                      "shape": ""
                    }
                  },
                  "name": "similarity_merge",
                  "offsetgroup": "similarity_merge",
                  "orientation": "v",
                  "showlegend": true,
                  "textposition": "auto",
                  "type": "bar",
                  "x": [
                    "classifier.dense",
                    "classifier.out_proj",
                    "layer.0.attention.output",
                    "layer.0.attention.self",
                    "layer.0.intermediate.dense",
                    "layer.0.output.LayerNorm",
                    "layer.0.output.dense",
                    "layer.1.attention.output",
                    "layer.1.attention.self",
                    "layer.1.intermediate.dense",
                    "layer.1.output.LayerNorm",
                    "layer.1.output.dense",
                    "layer.10.attention.output",
                    "layer.10.attention.self",
                    "layer.10.intermediate.dense",
                    "layer.10.output.LayerNorm",
                    "layer.10.output.dense",
                    "layer.11.attention.output",
                    "layer.11.attention.self",
                    "layer.11.intermediate.dense",
                    "layer.11.output.LayerNorm",
                    "layer.11.output.dense",
                    "layer.2.attention.output",
                    "layer.2.attention.self",
                    "layer.2.intermediate.dense",
                    "layer.2.output.LayerNorm",
                    "layer.2.output.dense",
                    "layer.3.attention.output",
                    "layer.3.attention.self",
                    "layer.3.intermediate.dense",
                    "layer.3.output.LayerNorm",
                    "layer.3.output.dense",
                    "layer.4.attention.output",
                    "layer.4.attention.self",
                    "layer.4.intermediate.dense",
                    "layer.4.output.LayerNorm",
                    "layer.4.output.dense",
                    "layer.5.attention.output",
                    "layer.5.attention.self",
                    "layer.5.intermediate.dense",
                    "layer.5.output.LayerNorm",
                    "layer.5.output.dense",
                    "layer.6.attention.output",
                    "layer.6.attention.self",
                    "layer.6.intermediate.dense",
                    "layer.6.output.LayerNorm",
                    "layer.6.output.dense",
                    "layer.7.attention.output",
                    "layer.7.attention.self",
                    "layer.7.intermediate.dense",
                    "layer.7.output.LayerNorm",
                    "layer.7.output.dense",
                    "layer.8.attention.output",
                    "layer.8.attention.self",
                    "layer.8.intermediate.dense",
                    "layer.8.output.LayerNorm",
                    "layer.8.output.dense",
                    "layer.9.attention.output",
                    "layer.9.attention.self",
                    "layer.9.intermediate.dense",
                    "layer.9.output.LayerNorm",
                    "layer.9.output.dense",
                    "roberta.embeddings.LayerNorm",
                    "roberta.embeddings.position_embeddings",
                    "roberta.embeddings.token_type_embeddings",
                    "roberta.embeddings.word_embeddings"
                  ],
                  "xaxis": "x",
                  "y": {
                    "bdata": "AAAAx5ZkMkAAAABgc6oWQAAAAGitnus/AABgjwQhBUAAAAAWQH/+PwAAAMhwg6Q/AADAGkYW+j8AAIBFlrvsPwAAQI/+CgVAAAAA6eji/j8AAAAYjx2kPwAAQDfd7fg/AADAd5IU8D8AAKCJgBQJQAAAAEtXAgJAAAAA6GHhpz8AAABlF+H1PwAAwHv6qPM/AACgdSjRC0AAAAC26F8LQAAAABCpu8w/AABguFkrEkAAAIDpk7TtPwAA4MTjZAZAAAAA2HlF/z8AAAAYinKkPwAAwIuIjPo/AACAEvOF7T8AAMD31rIGQAAAAKDT/v8/AAAAGC5BpT8AAEC98xf6PwAAgJNF1O4/AAAAm8PRB0AAAICnVDQAQAAAAKB3qaQ/AACAerGH+j8AAICJ3qfvPwAAoC6HgQhAAACA+Ue0AEAAAAAAqQqmPwAAgKkJw/s/AABAi29W8D8AAIBiy0AJQAAAANi99QBAAAAAeMlzpj8AAEAm8vX6PwAAAAysXvA/AAAAEqyBCUAAAIAmSywBQAAAAOg7XKU/AADAzsBo+j8AAEADpjrwPwAAwMPLZglAAACA1gpXAUAAAAD4t0qmPwAAAJ/qL/o/AABAqtjB8D8AAOAKQ5EJQAAAAFEZWwFAAAAA+DHfpj8AAIAGotH4PwAAAHils6U/AAAAQIjSzT8AAADAp0GPPwAAAGCt7P4/",
                    "dtype": "f8"
                  },
                  "yaxis": "y"
                },
                {
                  "alignmentgroup": "True",
                  "hovertemplate": "model=task_arithmetic<br>layer=%{x}<br>delta_l2_sum=%{y}<extra></extra>",
                  "legendgroup": "task_arithmetic",
                  "marker": {
                    "color": "#00cc96",
                    "pattern": {
                      "shape": ""
                    }
                  },
                  "name": "task_arithmetic",
                  "offsetgroup": "task_arithmetic",
                  "orientation": "v",
                  "showlegend": true,
                  "textposition": "auto",
                  "type": "bar",
                  "x": [
                    "classifier.dense",
                    "classifier.out_proj",
                    "layer.0.attention.output",
                    "layer.0.attention.self",
                    "layer.0.intermediate.dense",
                    "layer.0.output.LayerNorm",
                    "layer.0.output.dense",
                    "layer.1.attention.output",
                    "layer.1.attention.self",
                    "layer.1.intermediate.dense",
                    "layer.1.output.LayerNorm",
                    "layer.1.output.dense",
                    "layer.10.attention.output",
                    "layer.10.attention.self",
                    "layer.10.intermediate.dense",
                    "layer.10.output.LayerNorm",
                    "layer.10.output.dense",
                    "layer.11.attention.output",
                    "layer.11.attention.self",
                    "layer.11.intermediate.dense",
                    "layer.11.output.LayerNorm",
                    "layer.11.output.dense",
                    "layer.2.attention.output",
                    "layer.2.attention.self",
                    "layer.2.intermediate.dense",
                    "layer.2.output.LayerNorm",
                    "layer.2.output.dense",
                    "layer.3.attention.output",
                    "layer.3.attention.self",
                    "layer.3.intermediate.dense",
                    "layer.3.output.LayerNorm",
                    "layer.3.output.dense",
                    "layer.4.attention.output",
                    "layer.4.attention.self",
                    "layer.4.intermediate.dense",
                    "layer.4.output.LayerNorm",
                    "layer.4.output.dense",
                    "layer.5.attention.output",
                    "layer.5.attention.self",
                    "layer.5.intermediate.dense",
                    "layer.5.output.LayerNorm",
                    "layer.5.output.dense",
                    "layer.6.attention.output",
                    "layer.6.attention.self",
                    "layer.6.intermediate.dense",
                    "layer.6.output.LayerNorm",
                    "layer.6.output.dense",
                    "layer.7.attention.output",
                    "layer.7.attention.self",
                    "layer.7.intermediate.dense",
                    "layer.7.output.LayerNorm",
                    "layer.7.output.dense",
                    "layer.8.attention.output",
                    "layer.8.attention.self",
                    "layer.8.intermediate.dense",
                    "layer.8.output.LayerNorm",
                    "layer.8.output.dense",
                    "layer.9.attention.output",
                    "layer.9.attention.self",
                    "layer.9.intermediate.dense",
                    "layer.9.output.LayerNorm",
                    "layer.9.output.dense",
                    "roberta.embeddings.LayerNorm",
                    "roberta.embeddings.position_embeddings",
                    "roberta.embeddings.token_type_embeddings",
                    "roberta.embeddings.word_embeddings"
                  ],
                  "xaxis": "x",
                  "y": {
                    "bdata": "AADAZ2DsMUAAANiCrUUWQAAAAAzsJ+s/AAAgVjuKBEAAAACp+ab9PwAAAAA4NqQ/AABArZtd+T8AAAA1nADsPwAAgNB0ggRAAAAA0lkL/j8AAAD430SkPwAAwExaNPg/AACAjsW87j8AAOAb9RIIQAAAAKyqKgFAAAAAiOK0pj8AAMC1xhT1PwAAgGMpMvM/AADAio/xCkAAAADL+IkKQAAAACDKAcQ/AABgZKDrEUAAAAB33czsPwAA4DXCsQVAAAAAACNP/j8AAAAIodKjPwAAwGg4svk/AAAASmNn7D8AAGDUUfoFQAAAABlt7P4/AAAAsCqBpD8AAEBUvQ/5PwAAgPIvue0/AACgtPoZB0AAAABzkkH/PwAAAND0I6Q/AACAmFGQ+T8AAADkknbuPwAA4M1fowdAAAAA+TcUAEAAAAAImiSlPwAAAB0up/o/AAAAc/5O7z8AACAVglgIQAAAAGBeXwBAAAAAMI0apj8AAIByRvj5PwAAAEKKf+8/AAAAiPanCEAAAIClkqMAQAAAAAAco6Q/AABAQo5/+T8AAIBMZDHvPwAA4JgliAhAAACAhUG9AEAAAACopESlPwAAQH+hF/k/AAAA74vh7z8AAODCyaoIQAAAgLWrqABAAAAAoIKJpT8AAECZ28L3PwAAAHA+IaU/AAAAgJ3Iyz8AAADgN8SNPwAAAKA5Wf4/",
                    "dtype": "f8"
                  },
                  "yaxis": "y"
                }
              ],
              "layout": {
                "barmode": "group",
                "legend": {
                  "title": {
                    "text": "model"
                  },
                  "tracegroupgap": 0
                },
                "template": {
                  "data": {
                    "bar": [
                      {
                        "error_x": {
                          "color": "#2a3f5f"
                        },
                        "error_y": {
                          "color": "#2a3f5f"
                        },
                        "marker": {
                          "line": {
                            "color": "#E5ECF6",
                            "width": 0.5
                          },
                          "pattern": {
                            "fillmode": "overlay",
                            "size": 10,
                            "solidity": 0.2
                          }
                        },
                        "type": "bar"
                      }
                    ],
                    "barpolar": [
                      {
                        "marker": {
                          "line": {
                            "color": "#E5ECF6",
                            "width": 0.5
                          },
                          "pattern": {
                            "fillmode": "overlay",
                            "size": 10,
                            "solidity": 0.2
                          }
                        },
                        "type": "barpolar"
                      }
                    ],
                    "carpet": [
                      {
                        "aaxis": {
                          "endlinecolor": "#2a3f5f",
                          "gridcolor": "white",
                          "linecolor": "white",
                          "minorgridcolor": "white",
                          "startlinecolor": "#2a3f5f"
                        },
                        "baxis": {
                          "endlinecolor": "#2a3f5f",
                          "gridcolor": "white",
                          "linecolor": "white",
                          "minorgridcolor": "white",
                          "startlinecolor": "#2a3f5f"
                        },
                        "type": "carpet"
                      }
                    ],
                    "choropleth": [
                      {
                        "colorbar": {
                          "outlinewidth": 0,
                          "ticks": ""
                        },
                        "type": "choropleth"
                      }
                    ],
                    "contour": [
                      {
                        "colorbar": {
                          "outlinewidth": 0,
                          "ticks": ""
                        },
                        "colorscale": [
                          [
                            0,
                            "#0d0887"
                          ],
                          [
                            0.1111111111111111,
                            "#46039f"
                          ],
                          [
                            0.2222222222222222,
                            "#7201a8"
                          ],
                          [
                            0.3333333333333333,
                            "#9c179e"
                          ],
                          [
                            0.4444444444444444,
                            "#bd3786"
                          ],
                          [
                            0.5555555555555556,
                            "#d8576b"
                          ],
                          [
                            0.6666666666666666,
                            "#ed7953"
                          ],
                          [
                            0.7777777777777778,
                            "#fb9f3a"
                          ],
                          [
                            0.8888888888888888,
                            "#fdca26"
                          ],
                          [
                            1,
                            "#f0f921"
                          ]
                        ],
                        "type": "contour"
                      }
                    ],
                    "contourcarpet": [
                      {
                        "colorbar": {
                          "outlinewidth": 0,
                          "ticks": ""
                        },
                        "type": "contourcarpet"
                      }
                    ],
                    "heatmap": [
                      {
                        "colorbar": {
                          "outlinewidth": 0,
                          "ticks": ""
                        },
                        "colorscale": [
                          [
                            0,
                            "#0d0887"
                          ],
                          [
                            0.1111111111111111,
                            "#46039f"
                          ],
                          [
                            0.2222222222222222,
                            "#7201a8"
                          ],
                          [
                            0.3333333333333333,
                            "#9c179e"
                          ],
                          [
                            0.4444444444444444,
                            "#bd3786"
                          ],
                          [
                            0.5555555555555556,
                            "#d8576b"
                          ],
                          [
                            0.6666666666666666,
                            "#ed7953"
                          ],
                          [
                            0.7777777777777778,
                            "#fb9f3a"
                          ],
                          [
                            0.8888888888888888,
                            "#fdca26"
                          ],
                          [
                            1,
                            "#f0f921"
                          ]
                        ],
                        "type": "heatmap"
                      }
                    ],
                    "histogram": [
                      {
                        "marker": {
                          "pattern": {
                            "fillmode": "overlay",
                            "size": 10,
                            "solidity": 0.2
                          }
                        },
                        "type": "histogram"
                      }
                    ],
                    "histogram2d": [
                      {
                        "colorbar": {
                          "outlinewidth": 0,
                          "ticks": ""
                        },
                        "colorscale": [
                          [
                            0,
                            "#0d0887"
                          ],
                          [
                            0.1111111111111111,
                            "#46039f"
                          ],
                          [
                            0.2222222222222222,
                            "#7201a8"
                          ],
                          [
                            0.3333333333333333,
                            "#9c179e"
                          ],
                          [
                            0.4444444444444444,
                            "#bd3786"
                          ],
                          [
                            0.5555555555555556,
                            "#d8576b"
                          ],
                          [
                            0.6666666666666666,
                            "#ed7953"
                          ],
                          [
                            0.7777777777777778,
                            "#fb9f3a"
                          ],
                          [
                            0.8888888888888888,
                            "#fdca26"
                          ],
                          [
                            1,
                            "#f0f921"
                          ]
                        ],
                        "type": "histogram2d"
                      }
                    ],
                    "histogram2dcontour": [
                      {
                        "colorbar": {
                          "outlinewidth": 0,
                          "ticks": ""
                        },
                        "colorscale": [
                          [
                            0,
                            "#0d0887"
                          ],
                          [
                            0.1111111111111111,
                            "#46039f"
                          ],
                          [
                            0.2222222222222222,
                            "#7201a8"
                          ],
                          [
                            0.3333333333333333,
                            "#9c179e"
                          ],
                          [
                            0.4444444444444444,
                            "#bd3786"
                          ],
                          [
                            0.5555555555555556,
                            "#d8576b"
                          ],
                          [
                            0.6666666666666666,
                            "#ed7953"
                          ],
                          [
                            0.7777777777777778,
                            "#fb9f3a"
                          ],
                          [
                            0.8888888888888888,
                            "#fdca26"
                          ],
                          [
                            1,
                            "#f0f921"
                          ]
                        ],
                        "type": "histogram2dcontour"
                      }
                    ],
                    "mesh3d": [
                      {
                        "colorbar": {
                          "outlinewidth": 0,
                          "ticks": ""
                        },
                        "type": "mesh3d"
                      }
                    ],
                    "parcoords": [
                      {
                        "line": {
                          "colorbar": {
                            "outlinewidth": 0,
                            "ticks": ""
                          }
                        },
                        "type": "parcoords"
                      }
                    ],
                    "pie": [
                      {
                        "automargin": true,
                        "type": "pie"
                      }
                    ],
                    "scatter": [
                      {
                        "fillpattern": {
                          "fillmode": "overlay",
                          "size": 10,
                          "solidity": 0.2
                        },
                        "type": "scatter"
                      }
                    ],
                    "scatter3d": [
                      {
                        "line": {
                          "colorbar": {
                            "outlinewidth": 0,
                            "ticks": ""
                          }
                        },
                        "marker": {
                          "colorbar": {
                            "outlinewidth": 0,
                            "ticks": ""
                          }
                        },
                        "type": "scatter3d"
                      }
                    ],
                    "scattercarpet": [
                      {
                        "marker": {
                          "colorbar": {
                            "outlinewidth": 0,
                            "ticks": ""
                          }
                        },
                        "type": "scattercarpet"
                      }
                    ],
                    "scattergeo": [
                      {
                        "marker": {
                          "colorbar": {
                            "outlinewidth": 0,
                            "ticks": ""
                          }
                        },
                        "type": "scattergeo"
                      }
                    ],
                    "scattergl": [
                      {
                        "marker": {
                          "colorbar": {
                            "outlinewidth": 0,
                            "ticks": ""
                          }
                        },
                        "type": "scattergl"
                      }
                    ],
                    "scattermap": [
                      {
                        "marker": {
                          "colorbar": {
                            "outlinewidth": 0,
                            "ticks": ""
                          }
                        },
                        "type": "scattermap"
                      }
                    ],
                    "scattermapbox": [
                      {
                        "marker": {
                          "colorbar": {
                            "outlinewidth": 0,
                            "ticks": ""
                          }
                        },
                        "type": "scattermapbox"
                      }
                    ],
                    "scatterpolar": [
                      {
                        "marker": {
                          "colorbar": {
                            "outlinewidth": 0,
                            "ticks": ""
                          }
                        },
                        "type": "scatterpolar"
                      }
                    ],
                    "scatterpolargl": [
                      {
                        "marker": {
                          "colorbar": {
                            "outlinewidth": 0,
                            "ticks": ""
                          }
                        },
                        "type": "scatterpolargl"
                      }
                    ],
                    "scatterternary": [
                      {
                        "marker": {
                          "colorbar": {
                            "outlinewidth": 0,
                            "ticks": ""
                          }
                        },
                        "type": "scatterternary"
                      }
                    ],
                    "surface": [
                      {
                        "colorbar": {
                          "outlinewidth": 0,
                          "ticks": ""
                        },
                        "colorscale": [
                          [
                            0,
                            "#0d0887"
                          ],
                          [
                            0.1111111111111111,
                            "#46039f"
                          ],
                          [
                            0.2222222222222222,
                            "#7201a8"
                          ],
                          [
                            0.3333333333333333,
                            "#9c179e"
                          ],
                          [
                            0.4444444444444444,
                            "#bd3786"
                          ],
                          [
                            0.5555555555555556,
                            "#d8576b"
                          ],
                          [
                            0.6666666666666666,
                            "#ed7953"
                          ],
                          [
                            0.7777777777777778,
                            "#fb9f3a"
                          ],
                          [
                            0.8888888888888888,
                            "#fdca26"
                          ],
                          [
                            1,
                            "#f0f921"
                          ]
                        ],
                        "type": "surface"
                      }
                    ],
                    "table": [
                      {
                        "cells": {
                          "fill": {
                            "color": "#EBF0F8"
                          },
                          "line": {
                            "color": "white"
                          }
                        },
                        "header": {
                          "fill": {
                            "color": "#C8D4E3"
                          },
                          "line": {
                            "color": "white"
                          }
                        },
                        "type": "table"
                      }
                    ]
                  },
                  "layout": {
                    "annotationdefaults": {
                      "arrowcolor": "#2a3f5f",
                      "arrowhead": 0,
                      "arrowwidth": 1
                    },
                    "autotypenumbers": "strict",
                    "coloraxis": {
                      "colorbar": {
                        "outlinewidth": 0,
                        "ticks": ""
                      }
                    },
                    "colorscale": {
                      "diverging": [
                        [
                          0,
                          "#8e0152"
                        ],
                        [
                          0.1,
                          "#c51b7d"
                        ],
                        [
                          0.2,
                          "#de77ae"
                        ],
                        [
                          0.3,
                          "#f1b6da"
                        ],
                        [
                          0.4,
                          "#fde0ef"
                        ],
                        [
                          0.5,
                          "#f7f7f7"
                        ],
                        [
                          0.6,
                          "#e6f5d0"
                        ],
                        [
                          0.7,
                          "#b8e186"
                        ],
                        [
                          0.8,
                          "#7fbc41"
                        ],
                        [
                          0.9,
                          "#4d9221"
                        ],
                        [
                          1,
                          "#276419"
                        ]
                      ],
                      "sequential": [
                        [
                          0,
                          "#0d0887"
                        ],
                        [
                          0.1111111111111111,
                          "#46039f"
                        ],
                        [
                          0.2222222222222222,
                          "#7201a8"
                        ],
                        [
                          0.3333333333333333,
                          "#9c179e"
                        ],
                        [
                          0.4444444444444444,
                          "#bd3786"
                        ],
                        [
                          0.5555555555555556,
                          "#d8576b"
                        ],
                        [
                          0.6666666666666666,
                          "#ed7953"
                        ],
                        [
                          0.7777777777777778,
                          "#fb9f3a"
                        ],
                        [
                          0.8888888888888888,
                          "#fdca26"
                        ],
                        [
                          1,
                          "#f0f921"
                        ]
                      ],
                      "sequentialminus": [
                        [
                          0,
                          "#0d0887"
                        ],
                        [
                          0.1111111111111111,
                          "#46039f"
                        ],
                        [
                          0.2222222222222222,
                          "#7201a8"
                        ],
                        [
                          0.3333333333333333,
                          "#9c179e"
                        ],
                        [
                          0.4444444444444444,
                          "#bd3786"
                        ],
                        [
                          0.5555555555555556,
                          "#d8576b"
                        ],
                        [
                          0.6666666666666666,
                          "#ed7953"
                        ],
                        [
                          0.7777777777777778,
                          "#fb9f3a"
                        ],
                        [
                          0.8888888888888888,
                          "#fdca26"
                        ],
                        [
                          1,
                          "#f0f921"
                        ]
                      ]
                    },
                    "colorway": [
                      "#636efa",
                      "#EF553B",
                      "#00cc96",
                      "#ab63fa",
                      "#FFA15A",
                      "#19d3f3",
                      "#FF6692",
                      "#B6E880",
                      "#FF97FF",
                      "#FECB52"
                    ],
                    "font": {
                      "color": "#2a3f5f"
                    },
                    "geo": {
                      "bgcolor": "white",
                      "lakecolor": "white",
                      "landcolor": "#E5ECF6",
                      "showlakes": true,
                      "showland": true,
                      "subunitcolor": "white"
                    },
                    "hoverlabel": {
                      "align": "left"
                    },
                    "hovermode": "closest",
                    "mapbox": {
                      "style": "light"
                    },
                    "paper_bgcolor": "white",
                    "plot_bgcolor": "#E5ECF6",
                    "polar": {
                      "angularaxis": {
                        "gridcolor": "white",
                        "linecolor": "white",
                        "ticks": ""
                      },
                      "bgcolor": "#E5ECF6",
                      "radialaxis": {
                        "gridcolor": "white",
                        "linecolor": "white",
                        "ticks": ""
                      }
                    },
                    "scene": {
                      "xaxis": {
                        "backgroundcolor": "#E5ECF6",
                        "gridcolor": "white",
                        "gridwidth": 2,
                        "linecolor": "white",
                        "showbackground": true,
                        "ticks": "",
                        "zerolinecolor": "white"
                      },
                      "yaxis": {
                        "backgroundcolor": "#E5ECF6",
                        "gridcolor": "white",
                        "gridwidth": 2,
                        "linecolor": "white",
                        "showbackground": true,
                        "ticks": "",
                        "zerolinecolor": "white"
                      },
                      "zaxis": {
                        "backgroundcolor": "#E5ECF6",
                        "gridcolor": "white",
                        "gridwidth": 2,
                        "linecolor": "white",
                        "showbackground": true,
                        "ticks": "",
                        "zerolinecolor": "white"
                      }
                    },
                    "shapedefaults": {
                      "line": {
                        "color": "#2a3f5f"
                      }
                    },
                    "ternary": {
                      "aaxis": {
                        "gridcolor": "white",
                        "linecolor": "white",
                        "ticks": ""
                      },
                      "baxis": {
                        "gridcolor": "white",
                        "linecolor": "white",
                        "ticks": ""
                      },
                      "bgcolor": "#E5ECF6",
                      "caxis": {
                        "gridcolor": "white",
                        "linecolor": "white",
                        "ticks": ""
                      }
                    },
                    "title": {
                      "x": 0.05
                    },
                    "xaxis": {
                      "automargin": true,
                      "gridcolor": "white",
                      "linecolor": "white",
                      "ticks": "",
                      "title": {
                        "standoff": 15
                      },
                      "zerolinecolor": "white",
                      "zerolinewidth": 2
                    },
                    "yaxis": {
                      "automargin": true,
                      "gridcolor": "white",
                      "linecolor": "white",
                      "ticks": "",
                      "title": {
                        "standoff": 15
                      },
                      "zerolinecolor": "white",
                      "zerolinewidth": 2
                    }
                  }
                },
                "title": {
                  "text": "Layer-level parameter movement (L2 sum)"
                },
                "xaxis": {
                  "anchor": "y",
                  "domain": [
                    0,
                    1
                  ],
                  "title": {
                    "text": "layer"
                  }
                },
                "yaxis": {
                  "anchor": "x",
                  "domain": [
                    0,
                    1
                  ],
                  "title": {
                    "text": "delta_l2_sum"
                  }
                }
              }
            }
          },
          "metadata": {},
          "output_type": "display_data"
        }
      ],
      "source": [
        "if not layer_deltas_df.empty:\n",
        "    fig = px.bar(\n",
        "        layer_deltas_df,\n",
        "        x=\"layer\",\n",
        "        y=\"delta_l2_sum\",\n",
        "        color=\"model\",\n",
        "        barmode=\"group\",\n",
        "        title=\"Layer-level parameter movement (L2 sum)\",\n",
        "    )\n",
        "    fig.show()"
      ]
    },
    {
      "cell_type": "markdown",
      "metadata": {},
      "source": [
        "## 5. Probe texts\n",
        "\n",
        "Select a small batch of utterances for forward passes. Point `file_hint` at a locale-specific corpus (one sentence per line) to replace the defaults."
      ]
    },
    {
      "cell_type": "code",
      "execution_count": 9,
      "metadata": {},
      "outputs": [
        {
          "data": {
            "text/plain": [
              "['How can I upgrade my flight booking?',\n",
              " 'Show me the weather forecast for tomorrow evening.',\n",
              " 'I need to reset the password for my online banking.',\n",
              " 'Find vegetarian restaurants near my location.',\n",
              " 'Translate this sentence into French.',\n",
              " 'Remind me to call my mom at 6 PM.']"
            ]
          },
          "execution_count": 9,
          "metadata": {},
          "output_type": "execute_result"
        }
      ],
      "source": [
        "SAMPLE_TEXTS = ensure_text_samples(\n",
        "    file_hint=PROJECT_ROOT / \"assets\" / \"sample_prompts.txt\",\n",
        "    limit=12,\n",
        ")\n",
        "SAMPLE_TEXTS"
      ]
    },
    {
      "cell_type": "markdown",
      "metadata": {},
      "source": [
        "## 6. Collect signals\n",
        "\n",
        "Run each model on the probe texts and summarise attentions, hidden states, and logits."
      ]
    },
    {
      "cell_type": "code",
      "execution_count": 10,
      "metadata": {},
      "outputs": [
        {
          "name": "stderr",
          "output_type": "stream",
          "text": [
            "XLMRobertaSdpaSelfAttention is used but `torch.nn.functional.scaled_dot_product_attention` does not support non-absolute `position_embedding_type` or `output_attentions=True` or `head_mask`. Falling back to the manual attention implementation, but specifying the manual implementation will be required from Transformers version v5.0.0 onwards. This warning can be removed using the argument `attn_implementation=\"eager\"` when loading the model.\n"
          ]
        },
        {
          "data": {
            "text/html": [
              "<div>\n",
              "<style scoped>\n",
              "    .dataframe tbody tr th:only-of-type {\n",
              "        vertical-align: middle;\n",
              "    }\n",
              "\n",
              "    .dataframe tbody tr th {\n",
              "        vertical-align: top;\n",
              "    }\n",
              "\n",
              "    .dataframe thead th {\n",
              "        text-align: right;\n",
              "    }\n",
              "</style>\n",
              "<table border=\"1\" class=\"dataframe\">\n",
              "  <thead>\n",
              "    <tr style=\"text-align: right;\">\n",
              "      <th></th>\n",
              "      <th>layer</th>\n",
              "      <th>head</th>\n",
              "      <th>mean_prob</th>\n",
              "      <th>entropy</th>\n",
              "      <th>cls_focus</th>\n",
              "      <th>diagonal_focus</th>\n",
              "      <th>model</th>\n",
              "    </tr>\n",
              "  </thead>\n",
              "  <tbody>\n",
              "    <tr>\n",
              "      <th>0</th>\n",
              "      <td>0</td>\n",
              "      <td>0</td>\n",
              "      <td>0.071429</td>\n",
              "      <td>1.851026</td>\n",
              "      <td>0.101671</td>\n",
              "      <td>0.052829</td>\n",
              "      <td>baseline</td>\n",
              "    </tr>\n",
              "    <tr>\n",
              "      <th>1</th>\n",
              "      <td>0</td>\n",
              "      <td>1</td>\n",
              "      <td>0.071429</td>\n",
              "      <td>2.002970</td>\n",
              "      <td>0.193926</td>\n",
              "      <td>0.057709</td>\n",
              "      <td>baseline</td>\n",
              "    </tr>\n",
              "    <tr>\n",
              "      <th>2</th>\n",
              "      <td>0</td>\n",
              "      <td>2</td>\n",
              "      <td>0.071429</td>\n",
              "      <td>1.730103</td>\n",
              "      <td>0.094421</td>\n",
              "      <td>0.019560</td>\n",
              "      <td>baseline</td>\n",
              "    </tr>\n",
              "    <tr>\n",
              "      <th>3</th>\n",
              "      <td>0</td>\n",
              "      <td>3</td>\n",
              "      <td>0.071429</td>\n",
              "      <td>1.527210</td>\n",
              "      <td>0.076780</td>\n",
              "      <td>0.312523</td>\n",
              "      <td>baseline</td>\n",
              "    </tr>\n",
              "    <tr>\n",
              "      <th>4</th>\n",
              "      <td>0</td>\n",
              "      <td>4</td>\n",
              "      <td>0.071429</td>\n",
              "      <td>2.062032</td>\n",
              "      <td>0.159642</td>\n",
              "      <td>0.108397</td>\n",
              "      <td>baseline</td>\n",
              "    </tr>\n",
              "  </tbody>\n",
              "</table>\n",
              "</div>"
            ],
            "text/plain": [
              "   layer  head  mean_prob   entropy  cls_focus  diagonal_focus     model\n",
              "0      0     0   0.071429  1.851026   0.101671        0.052829  baseline\n",
              "1      0     1   0.071429  2.002970   0.193926        0.057709  baseline\n",
              "2      0     2   0.071429  1.730103   0.094421        0.019560  baseline\n",
              "3      0     3   0.071429  1.527210   0.076780        0.312523  baseline\n",
              "4      0     4   0.071429  2.062032   0.159642        0.108397  baseline"
            ]
          },
          "metadata": {},
          "output_type": "display_data"
        }
      ],
      "source": [
        "signals = {\n",
        "    name: collect_model_signals(artifact, SAMPLE_TEXTS, device=DEVICE)\n",
        "    for name, artifact in artifacts.items()\n",
        "}\n",
        "\n",
        "attention_records = []\n",
        "for name, signal in signals.items():\n",
        "    attentions = signal.get(\"attentions\")\n",
        "    if not attentions:\n",
        "        continue\n",
        "    attn_df = summarize_attentions(attentions)\n",
        "    attn_df[\"model\"] = name\n",
        "    attention_records.append(attn_df)\n",
        "\n",
        "attention_df = pd.concat(attention_records, ignore_index=True) if attention_records else pd.DataFrame()\n",
        "display(attention_df.head())"
      ]
    },
    {
      "cell_type": "code",
      "execution_count": 11,
      "metadata": {},
      "outputs": [
        {
          "data": {
            "application/vnd.plotly.v1+json": {
              "config": {
                "plotlyServerURL": "https://plot.ly"
              },
              "data": [
                {
                  "alignmentgroup": "True",
                  "boxpoints": "all",
                  "hovertemplate": "model=baseline<br>layer=%{x}<br>entropy=%{y}<extra></extra>",
                  "legendgroup": "baseline",
                  "marker": {
                    "color": "#636efa"
                  },
                  "name": "baseline",
                  "notched": false,
                  "offsetgroup": "baseline",
                  "orientation": "v",
                  "showlegend": true,
                  "type": "box",
                  "x": {
                    "bdata": "AAAAAAAAAAAAAAAAAQEBAQEBAQEBAQEBAgICAgICAgICAgICAwMDAwMDAwMDAwMDBAQEBAQEBAQEBAQEBQUFBQUFBQUFBQUFBgYGBgYGBgYGBgYGBwcHBwcHBwcHBwcHCAgICAgICAgICAgICQkJCQkJCQkJCQkJCgoKCgoKCgoKCgoKCwsLCwsLCwsLCwsL",
                    "dtype": "i1"
                  },
                  "x0": " ",
                  "xaxis": "x",
                  "y": {
                    "bdata": "AAAAIM2d/T8AAABgFQYAQAAAAKCArvs/AAAAoHNv+D8AAABgCn8AQAAAAGDY0f8/AAAAoExA9z8AAADggWT6PwAAAMAhLvA/AAAA4C7j+z8AAAAgZAcAQAAAAMCJZP8/AAAAYJmR4j8AAACgGh/1PwAAACDC+uA/AAAAAMV+8D8AAABg7JnbPwAAAKADU+4/AAAA4H8M5D8AAACgYDzhPwAAAKDdQsU/AAAAQCjV8T8AAACg/FbyPwAAAKBr/+A/AAAAgBbH3T8AAAAgzkvgPwAAAGB7HN8/AAAAoMz66T8AAADgFQbbPwAAAOCYt8I/AAAAYMwE1z8AAACAOzfoPwAAAEBFrNM/AAAAYFlJ8j8AAABA2CLpPwAAACAq7cI/AAAA4E8a1j8AAADAmLLOPwAAAGA/4cE/AAAAIP1q6D8AAAAgDBHHPwAAAKAQT8E/AAAAAOjg3D8AAACAKfjoPwAAAKAELto/AAAAYG174j8AAACgb+/mPwAAAEDTjNw/AAAA4Bns8T8AAABAUwXxPwAAAKBtX+U/AAAAAF0kxz8AAAAgYYvjPwAAAMCXNuY/AAAAoK+i9D8AAADg6fS2PwAAAMCxSfA/AAAAoBQx6T8AAABgLrjzPwAAAADH4eE/AAAA4JJM8D8AAABAE1rjPwAAACChFOw/AAAAgKYP8T8AAADA8SPiPwAAAEBMpOc/AAAAQL9o7T8AAAAAdaruPwAAAEAl2uY/AAAAwOH05j8AAACgMsH1PwAAAGDDOPA/AAAA4MJD6z8AAABgDEbqPwAAAIDm+8k/AAAAYMEn8T8AAABgxUXqPwAAAEBX2uQ/AAAAYOzJ6j8AAABg7mj0PwAAAAD/YOE/AAAAYHAl7D8AAADg1wzjPwAAAOCpN9M/AAAAAB9T5z8AAAAAbwjhPwAAAKCgtOI/AAAAgNQC4T8AAADAl0PvPwAAAEC2QOc/AAAA4BY88j8AAACgKHrvPwAAAICNKuw/AAAAwKUW4j8AAACgbOrtPwAAAEACaNw/AAAAwHVm1z8AAAAAOP7yPwAAAMAV+e8/AAAAIGqG8z8AAACAB9X0PwAAAABDh9s/AAAAwGQz9D8AAADAaITwPwAAAOAmnuo/AAAAgKFz7D8AAAAghjbyPwAAAOABjes/AAAAQLAE8D8AAABgJLvoPwAAAGCrJvI/AAAAIIGV7j8AAADAwenzPwAAAABngfE/AAAAQAWA8z8AAAAATKn2PwAAACA9S+k/AAAAIALU7z8AAADg4W/8PwAAAACpivM/AAAAoORe9z8AAABAInf3PwAAACCLTfM/AAAAQI6z7z8AAABg4zH2PwAAAOCHJ/g/AAAAYOWS9z8AAADAnEf+PwAAAKDBgvc/AAAAAC0w+D8AAAAgjaP4PwAAAOCvs/c/AAAA4HHgzD8AAABgVQr9PwAAAIBm4f4/AAAAAOXB1j8AAABgLan7PwAAAEBLo/w/AAAAACG19D8AAADAPSbpPwAAAGB0suU/AAAAgAm8/j8AAACgGsj9PwAAAGDNhvU/",
                    "dtype": "f8"
                  },
                  "y0": " ",
                  "yaxis": "y"
                },
                {
                  "alignmentgroup": "True",
                  "boxpoints": "all",
                  "hovertemplate": "model=average_merge<br>layer=%{x}<br>entropy=%{y}<extra></extra>",
                  "legendgroup": "average_merge",
                  "marker": {
                    "color": "#EF553B"
                  },
                  "name": "average_merge",
                  "notched": false,
                  "offsetgroup": "average_merge",
                  "orientation": "v",
                  "showlegend": true,
                  "type": "box",
                  "x": {
                    "bdata": "AAAAAAAAAAAAAAAAAQEBAQEBAQEBAQEBAgICAgICAgICAgICAwMDAwMDAwMDAwMDBAQEBAQEBAQEBAQEBQUFBQUFBQUFBQUFBgYGBgYGBgYGBgYGBwcHBwcHBwcHBwcHCAgICAgICAgICAgICQkJCQkJCQkJCQkJCgoKCgoKCgoKCgoKCwsLCwsLCwsLCwsL",
                    "dtype": "i1"
                  },
                  "x0": " ",
                  "xaxis": "x",
                  "y": {
                    "bdata": "AAAAwNCy/T8AAADARTkAQAAAAIDyQPs/AAAAACWK+D8AAADAcY4AQAAAAABU9/8/AAAAYFRG9z8AAABAwFj6PwAAAABICPA/AAAAYJTP+z8AAABAUBIAQAAAAMBtZf8/AAAAoMA54z8AAABAmtn1PwAAAMATnuk/AAAAoCTd7z8AAACA+hLgPwAAAMDrZuw/AAAAgEbe7j8AAAAAMCTbPwAAAKBoyMk/AAAAwBqN9j8AAABAptf1PwAAAICsX+U/AAAAoKc12z8AAADALfbhPwAAAOD1ieM/AAAAQFFm5z8AAADg4YbePwAAAEA0YcQ/AAAAAGu22j8AAADArRroPwAAAGCc2dg/AAAAIImV9z8AAABAp+TvPwAAACDi888/AAAAgO7U3D8AAAAA9wnaPwAAAIASIcw/AAAAACyw7D8AAABgY1vLPwAAAOCJ9sI/AAAAAAyz5j8AAADAuELxPwAAACABzt0/AAAAYKsi5j8AAADAEI3wPwAAAMBkg98/AAAAYCBW7j8AAAAAHYTsPwAAAGAHkOI/AAAAwJRG0z8AAAAgXqbfPwAAAGAf9t8/AAAA4O009j8AAADAbya2PwAAAKDK+PE/AAAAQHD76D8AAAAgCLv2PwAAAAAQCeU/AAAAYN058j8AAACgCMjkPwAAAOBLBPI/AAAAYJt36z8AAADgVCbkPwAAAKAfveo/AAAAwCMS7D8AAABAHGjwPwAAACCOvOo/AAAAAAfD6j8AAADgdvHxPwAAAMCoVu4/AAAAgA6n7D8AAAAA4PDqPwAAAEDI59U/AAAAoBT17z8AAABgmBPuPwAAAIDRSeY/AAAAIKbd6z8AAADA04D0PwAAAGBFr+Q/AAAAgCGF7z8AAABgQLLmPwAAAGCOgdE/AAAAoKQV6T8AAADANIzePwAAAKAssOQ/AAAAoHqV4j8AAADAmL3xPwAAAKAsMfM/AAAAwJlv8j8AAAAAt4nvPwAAAGBNU/E/AAAAAIUf4j8AAADA54rvPwAAAACp59c/AAAAABP/5T8AAABAzoXyPwAAACBU/vA/AAAAQGa39D8AAADAsYbzPwAAAEA3OdM/AAAAoNBO8z8AAAAAFEzxPwAAAKAGnNw/AAAAoJRV7j8AAABgvAXxPwAAAKD/CPA/AAAAAFsN7z8AAABARLDwPwAAAAC9GfI/AAAAYNCB9D8AAABA1Gn4PwAAAMDDCe8/AAAAILgF9j8AAABAkHn3PwAAAOBOI+w/AAAAAKTG9T8AAADAbNv6PwAAAEDps/Y/AAAAAIsU9z8AAABAe579PwAAAABbl/U/AAAAIAft8z8AAADgWkb3PwAAACBS1vg/AAAAYAvH9D8AAADACHT9PwAAAMDoSfY/AAAAYGjd9j8AAACg9sX3PwAAAMBrf/Q/AAAAwO3b8D8AAABgOHL7PwAAAGC84vo/AAAAAC1W8T8AAACgBCP7PwAAAMCk7v0/AAAAwMFn+z8AAACgxv/5PwAAAAB60vA/AAAAgOVZ/D8AAABAMqH8PwAAAKBaC/Y/",
                    "dtype": "f8"
                  },
                  "y0": " ",
                  "yaxis": "y"
                },
                {
                  "alignmentgroup": "True",
                  "boxpoints": "all",
                  "hovertemplate": "model=similarity_merge<br>layer=%{x}<br>entropy=%{y}<extra></extra>",
                  "legendgroup": "similarity_merge",
                  "marker": {
                    "color": "#00cc96"
                  },
                  "name": "similarity_merge",
                  "notched": false,
                  "offsetgroup": "similarity_merge",
                  "orientation": "v",
                  "showlegend": true,
                  "type": "box",
                  "x": {
                    "bdata": "AAAAAAAAAAAAAAAAAQEBAQEBAQEBAQEBAgICAgICAgICAgICAwMDAwMDAwMDAwMDBAQEBAQEBAQEBAQEBQUFBQUFBQUFBQUFBgYGBgYGBgYGBgYGBwcHBwcHBwcHBwcHCAgICAgICAgICAgICQkJCQkJCQkJCQkJCgoKCgoKCgoKCgoKCwsLCwsLCwsLCwsL",
                    "dtype": "i1"
                  },
                  "x0": " ",
                  "xaxis": "x",
                  "y": {
                    "bdata": "AAAAgIm1/T8AAADgAkAAQAAAAOCySfs/AAAAQCuP+D8AAAAAS40AQAAAAABh9/8/AAAAgN9F9z8AAACgZFT6PwAAACCeBvA/AAAAgHHL+z8AAABA4A0AQAAAAMANY/8/AAAAgA704j8AAAAAk0/2PwAAAACX8Ok/AAAAAN3y7z8AAACALszfPwAAAADT5+0/AAAAQGae7z8AAABgUwXaPwAAAMCT0Mg/AAAAgBWn9z8AAADAcTD2PwAAAECXceY/AAAAoDuV2z8AAACgjUXiPwAAAIBiV+M/AAAAoOcv5z8AAACg3BnfPwAAAEBRn8M/AAAAwLEq2z8AAAAgdCXoPwAAAGCNP9k/AAAAAP219j8AAAAAfK/wPwAAAKCvp84/AAAAgO5C3D8AAACgwKPZPwAAAECmv8k/AAAAYLOW6z8AAAAgCYvMPwAAAEAB8sM/AAAAAIGk5T8AAACgaGfwPwAAAKDu3d0/AAAAAN3H5T8AAABAaRHwPwAAAKBq/d8/AAAAoBza6z8AAAAAEZTrPwAAAMAzfOE/AAAA4MkG1D8AAABgZWrePwAAAKAdAuA/AAAAAEPB9T8AAAAA6AO4PwAAAMCrfPE/AAAAoH9y6D8AAAAgT5z2PwAAAGCJBOQ/AAAAIBbP8T8AAAAAd5jkPwAAAMAN6/A/AAAAwGhy6z8AAABAQUjiPwAAAICq4uo/AAAAYD9J6z8AAABA8THwPwAAAKBcMes/AAAA4D416z8AAABAGi7xPwAAAKB0a+0/AAAAgNkk7D8AAABgOQDsPwAAAMBlk9U/AAAAQBOA7j8AAACghFTvPwAAAIAUseU/AAAAoFz76z8AAADAJc/yPwAAACCtTOM/AAAAwNv/7j8AAADgSiHlPwAAAMCwR9E/AAAAYKQQ6T8AAABgJKXfPwAAAMANyuQ/AAAAQIyU4z8AAACALbfxPwAAAGAjnfM/AAAAwLVU8j8AAACA/E3wPwAAAOAhk/E/AAAAoNSc4D8AAADACL3vPwAAAECD19c/AAAAgBbw6j8AAABAm3fzPwAAAEDclvI/AAAAgDwq9j8AAAAAO4H0PwAAAIDi5Nc/AAAAQPMI9D8AAABgfybzPwAAAKCQf+A/AAAAAJwp8D8AAABAjLrxPwAAAOBI+vA/AAAAIOwE8D8AAACAudXxPwAAAMDVuPI/AAAA4Doz9j8AAABA6p/5PwAAAICaA/A/AAAAQPR39z8AAADAiDj4PwAAAKAmyuw/AAAAwINu9j8AAACAwdf7PwAAAODG2/c/AAAAIL/89z8AAACgtDv9PwAAAEACgPY/AAAAwOxm8z8AAABgHhT3PwAAAKD0Bvo/AAAAABZm9D8AAAAAmX79PwAAAKCpmvY/AAAAoHi69j8AAABASEz4PwAAAMDr6fQ/AAAAYCik8D8AAABgB2D8PwAAACAaE/w/AAAAoCIg8T8AAACAzln7PwAAAOB5n/4/AAAAwOxY/D8AAABAglf7PwAAAIDgo/A/AAAAgH0r/j8AAAAA2DX9PwAAAMBsDfc/",
                    "dtype": "f8"
                  },
                  "y0": " ",
                  "yaxis": "y"
                },
                {
                  "alignmentgroup": "True",
                  "boxpoints": "all",
                  "hovertemplate": "model=task_arithmetic<br>layer=%{x}<br>entropy=%{y}<extra></extra>",
                  "legendgroup": "task_arithmetic",
                  "marker": {
                    "color": "#ab63fa"
                  },
                  "name": "task_arithmetic",
                  "notched": false,
                  "offsetgroup": "task_arithmetic",
                  "orientation": "v",
                  "showlegend": true,
                  "type": "box",
                  "x": {
                    "bdata": "AAAAAAAAAAAAAAAAAQEBAQEBAQEBAQEBAgICAgICAgICAgICAwMDAwMDAwMDAwMDBAQEBAQEBAQEBAQEBQUFBQUFBQUFBQUFBgYGBgYGBgYGBgYGBwcHBwcHBwcHBwcHCAgICAgICAgICAgICQkJCQkJCQkJCQkJCgoKCgoKCgoKCgoKCwsLCwsLCwsLCwsL",
                    "dtype": "i1"
                  },
                  "x0": " ",
                  "xaxis": "x",
                  "y": {
                    "bdata": "AAAAAO+1/T8AAAAAiC4AQAAAAODWS/s/AAAAYK2C+D8AAACgGIUAQAAAAEB/9v8/AAAAYC8u9z8AAAAA2E/6PwAAAKAX/O8/AAAAYL3I+z8AAADARx8AQAAAACCOaf8/AAAA4Ewv5D8AAADAW0T3PwAAACDxkOo/AAAAwNev7z8AAADAyOTgPwAAAEBPuOs/AAAAICrS7D8AAABAALLdPwAAAEC7T8s/AAAAQPpt9T8AAABgojH1PwAAAECxReU/AAAAAKUC3D8AAAAAkPLgPwAAAACUU+M/AAAAQGHC5z8AAABA57LcPwAAAMAbgMQ/AAAAwCTH2T8AAACAlcjoPwAAACA3ENc/AAAAIMGT9j8AAAAASFzrPwAAAMDkc8s/AAAAwBRx2z8AAAAAXV3YPwAAAGD/EMg/AAAAYAP96z8AAADAkWLGPwAAAED0jr4/AAAAwNfD5D8AAABgKQnwPwAAAMCpKdw/AAAAYPOj5D8AAAAAkFjvPwAAAAD4id4/AAAA4P6b7D8AAAAgpqnrPwAAAIDO+eI/AAAA4IILzj8AAAAgVvDdPwAAAMBhTeA/AAAAwHIC9j8AAACABWOyPwAAAKD54PA/AAAAgAU05z8AAABgi271PwAAACD0WuU/AAAAgJCn8T8AAADAWPnjPwAAACCCd/E/AAAAgE3s6z8AAADA14XiPwAAAABEqOg/AAAAQApm6j8AAABg3qzwPwAAAICCoOk/AAAAoBQJ6j8AAAAg8lzyPwAAAMBRuu0/AAAAYCua7j8AAADAedXpPwAAAKDcW9Y/AAAAwGdA8D8AAACgKrbtPwAAAGBx3+c/AAAAYFQr6z8AAABAN0P1PwAAACACH+Y/AAAAgPKU7z8AAADgekXnPwAAAABdN9Q/AAAAwJT+6T8AAADAwSrhPwAAAMDnJOQ/AAAAAIsh5T8AAAAg3+PxPwAAAIBY9fE/AAAAQF5u8j8AAABgEK/vPwAAAMBzKfE/AAAAwBHL4j8AAAAgvbXuPwAAAADV89g/AAAAQHGK4z8AAAAAOVjxPwAAACBRxe0/AAAAQFJO8z8AAACg2PbxPwAAACBkfNI/AAAAQLr28j8AAAAAZDXvPwAAAADmOuA/AAAAIKHd6z8AAABAFMzvPwAAACCa+uw/AAAAAOvn7T8AAADADAnvPwAAAICRT/E/AAAAAFe78j8AAABAyFD3PwAAAGBFP/A/AAAAYJMQ9D8AAACAjtf2PwAAAKBq7+s/AAAAwHvj9D8AAABgQwH5PwAAAMBZ4/Q/AAAAAFBd9j8AAADgvvX8PwAAAKDi6vU/AAAAoCAt8z8AAABAtOb3PwAAAGCkpPg/AAAAgF4K9j8AAAAgUVr9PwAAAIDHkfU/AAAAIBq69j8AAAAgkh74PwAAAACXiPQ/AAAAgODg8D8AAAAAbbf6PwAAAOD5oPs/AAAAYFvA8D8AAADAy5T6PwAAAOCt0fw/AAAAoEvd+j8AAAAAzMX4PwAAAKA43/A/AAAAIDEF/D8AAADgZZP7PwAAAMAJxPU/",
                    "dtype": "f8"
                  },
                  "y0": " ",
                  "yaxis": "y"
                }
              ],
              "layout": {
                "boxmode": "group",
                "legend": {
                  "title": {
                    "text": "model"
                  },
                  "tracegroupgap": 0
                },
                "template": {
                  "data": {
                    "bar": [
                      {
                        "error_x": {
                          "color": "#2a3f5f"
                        },
                        "error_y": {
                          "color": "#2a3f5f"
                        },
                        "marker": {
                          "line": {
                            "color": "#E5ECF6",
                            "width": 0.5
                          },
                          "pattern": {
                            "fillmode": "overlay",
                            "size": 10,
                            "solidity": 0.2
                          }
                        },
                        "type": "bar"
                      }
                    ],
                    "barpolar": [
                      {
                        "marker": {
                          "line": {
                            "color": "#E5ECF6",
                            "width": 0.5
                          },
                          "pattern": {
                            "fillmode": "overlay",
                            "size": 10,
                            "solidity": 0.2
                          }
                        },
                        "type": "barpolar"
                      }
                    ],
                    "carpet": [
                      {
                        "aaxis": {
                          "endlinecolor": "#2a3f5f",
                          "gridcolor": "white",
                          "linecolor": "white",
                          "minorgridcolor": "white",
                          "startlinecolor": "#2a3f5f"
                        },
                        "baxis": {
                          "endlinecolor": "#2a3f5f",
                          "gridcolor": "white",
                          "linecolor": "white",
                          "minorgridcolor": "white",
                          "startlinecolor": "#2a3f5f"
                        },
                        "type": "carpet"
                      }
                    ],
                    "choropleth": [
                      {
                        "colorbar": {
                          "outlinewidth": 0,
                          "ticks": ""
                        },
                        "type": "choropleth"
                      }
                    ],
                    "contour": [
                      {
                        "colorbar": {
                          "outlinewidth": 0,
                          "ticks": ""
                        },
                        "colorscale": [
                          [
                            0,
                            "#0d0887"
                          ],
                          [
                            0.1111111111111111,
                            "#46039f"
                          ],
                          [
                            0.2222222222222222,
                            "#7201a8"
                          ],
                          [
                            0.3333333333333333,
                            "#9c179e"
                          ],
                          [
                            0.4444444444444444,
                            "#bd3786"
                          ],
                          [
                            0.5555555555555556,
                            "#d8576b"
                          ],
                          [
                            0.6666666666666666,
                            "#ed7953"
                          ],
                          [
                            0.7777777777777778,
                            "#fb9f3a"
                          ],
                          [
                            0.8888888888888888,
                            "#fdca26"
                          ],
                          [
                            1,
                            "#f0f921"
                          ]
                        ],
                        "type": "contour"
                      }
                    ],
                    "contourcarpet": [
                      {
                        "colorbar": {
                          "outlinewidth": 0,
                          "ticks": ""
                        },
                        "type": "contourcarpet"
                      }
                    ],
                    "heatmap": [
                      {
                        "colorbar": {
                          "outlinewidth": 0,
                          "ticks": ""
                        },
                        "colorscale": [
                          [
                            0,
                            "#0d0887"
                          ],
                          [
                            0.1111111111111111,
                            "#46039f"
                          ],
                          [
                            0.2222222222222222,
                            "#7201a8"
                          ],
                          [
                            0.3333333333333333,
                            "#9c179e"
                          ],
                          [
                            0.4444444444444444,
                            "#bd3786"
                          ],
                          [
                            0.5555555555555556,
                            "#d8576b"
                          ],
                          [
                            0.6666666666666666,
                            "#ed7953"
                          ],
                          [
                            0.7777777777777778,
                            "#fb9f3a"
                          ],
                          [
                            0.8888888888888888,
                            "#fdca26"
                          ],
                          [
                            1,
                            "#f0f921"
                          ]
                        ],
                        "type": "heatmap"
                      }
                    ],
                    "histogram": [
                      {
                        "marker": {
                          "pattern": {
                            "fillmode": "overlay",
                            "size": 10,
                            "solidity": 0.2
                          }
                        },
                        "type": "histogram"
                      }
                    ],
                    "histogram2d": [
                      {
                        "colorbar": {
                          "outlinewidth": 0,
                          "ticks": ""
                        },
                        "colorscale": [
                          [
                            0,
                            "#0d0887"
                          ],
                          [
                            0.1111111111111111,
                            "#46039f"
                          ],
                          [
                            0.2222222222222222,
                            "#7201a8"
                          ],
                          [
                            0.3333333333333333,
                            "#9c179e"
                          ],
                          [
                            0.4444444444444444,
                            "#bd3786"
                          ],
                          [
                            0.5555555555555556,
                            "#d8576b"
                          ],
                          [
                            0.6666666666666666,
                            "#ed7953"
                          ],
                          [
                            0.7777777777777778,
                            "#fb9f3a"
                          ],
                          [
                            0.8888888888888888,
                            "#fdca26"
                          ],
                          [
                            1,
                            "#f0f921"
                          ]
                        ],
                        "type": "histogram2d"
                      }
                    ],
                    "histogram2dcontour": [
                      {
                        "colorbar": {
                          "outlinewidth": 0,
                          "ticks": ""
                        },
                        "colorscale": [
                          [
                            0,
                            "#0d0887"
                          ],
                          [
                            0.1111111111111111,
                            "#46039f"
                          ],
                          [
                            0.2222222222222222,
                            "#7201a8"
                          ],
                          [
                            0.3333333333333333,
                            "#9c179e"
                          ],
                          [
                            0.4444444444444444,
                            "#bd3786"
                          ],
                          [
                            0.5555555555555556,
                            "#d8576b"
                          ],
                          [
                            0.6666666666666666,
                            "#ed7953"
                          ],
                          [
                            0.7777777777777778,
                            "#fb9f3a"
                          ],
                          [
                            0.8888888888888888,
                            "#fdca26"
                          ],
                          [
                            1,
                            "#f0f921"
                          ]
                        ],
                        "type": "histogram2dcontour"
                      }
                    ],
                    "mesh3d": [
                      {
                        "colorbar": {
                          "outlinewidth": 0,
                          "ticks": ""
                        },
                        "type": "mesh3d"
                      }
                    ],
                    "parcoords": [
                      {
                        "line": {
                          "colorbar": {
                            "outlinewidth": 0,
                            "ticks": ""
                          }
                        },
                        "type": "parcoords"
                      }
                    ],
                    "pie": [
                      {
                        "automargin": true,
                        "type": "pie"
                      }
                    ],
                    "scatter": [
                      {
                        "fillpattern": {
                          "fillmode": "overlay",
                          "size": 10,
                          "solidity": 0.2
                        },
                        "type": "scatter"
                      }
                    ],
                    "scatter3d": [
                      {
                        "line": {
                          "colorbar": {
                            "outlinewidth": 0,
                            "ticks": ""
                          }
                        },
                        "marker": {
                          "colorbar": {
                            "outlinewidth": 0,
                            "ticks": ""
                          }
                        },
                        "type": "scatter3d"
                      }
                    ],
                    "scattercarpet": [
                      {
                        "marker": {
                          "colorbar": {
                            "outlinewidth": 0,
                            "ticks": ""
                          }
                        },
                        "type": "scattercarpet"
                      }
                    ],
                    "scattergeo": [
                      {
                        "marker": {
                          "colorbar": {
                            "outlinewidth": 0,
                            "ticks": ""
                          }
                        },
                        "type": "scattergeo"
                      }
                    ],
                    "scattergl": [
                      {
                        "marker": {
                          "colorbar": {
                            "outlinewidth": 0,
                            "ticks": ""
                          }
                        },
                        "type": "scattergl"
                      }
                    ],
                    "scattermap": [
                      {
                        "marker": {
                          "colorbar": {
                            "outlinewidth": 0,
                            "ticks": ""
                          }
                        },
                        "type": "scattermap"
                      }
                    ],
                    "scattermapbox": [
                      {
                        "marker": {
                          "colorbar": {
                            "outlinewidth": 0,
                            "ticks": ""
                          }
                        },
                        "type": "scattermapbox"
                      }
                    ],
                    "scatterpolar": [
                      {
                        "marker": {
                          "colorbar": {
                            "outlinewidth": 0,
                            "ticks": ""
                          }
                        },
                        "type": "scatterpolar"
                      }
                    ],
                    "scatterpolargl": [
                      {
                        "marker": {
                          "colorbar": {
                            "outlinewidth": 0,
                            "ticks": ""
                          }
                        },
                        "type": "scatterpolargl"
                      }
                    ],
                    "scatterternary": [
                      {
                        "marker": {
                          "colorbar": {
                            "outlinewidth": 0,
                            "ticks": ""
                          }
                        },
                        "type": "scatterternary"
                      }
                    ],
                    "surface": [
                      {
                        "colorbar": {
                          "outlinewidth": 0,
                          "ticks": ""
                        },
                        "colorscale": [
                          [
                            0,
                            "#0d0887"
                          ],
                          [
                            0.1111111111111111,
                            "#46039f"
                          ],
                          [
                            0.2222222222222222,
                            "#7201a8"
                          ],
                          [
                            0.3333333333333333,
                            "#9c179e"
                          ],
                          [
                            0.4444444444444444,
                            "#bd3786"
                          ],
                          [
                            0.5555555555555556,
                            "#d8576b"
                          ],
                          [
                            0.6666666666666666,
                            "#ed7953"
                          ],
                          [
                            0.7777777777777778,
                            "#fb9f3a"
                          ],
                          [
                            0.8888888888888888,
                            "#fdca26"
                          ],
                          [
                            1,
                            "#f0f921"
                          ]
                        ],
                        "type": "surface"
                      }
                    ],
                    "table": [
                      {
                        "cells": {
                          "fill": {
                            "color": "#EBF0F8"
                          },
                          "line": {
                            "color": "white"
                          }
                        },
                        "header": {
                          "fill": {
                            "color": "#C8D4E3"
                          },
                          "line": {
                            "color": "white"
                          }
                        },
                        "type": "table"
                      }
                    ]
                  },
                  "layout": {
                    "annotationdefaults": {
                      "arrowcolor": "#2a3f5f",
                      "arrowhead": 0,
                      "arrowwidth": 1
                    },
                    "autotypenumbers": "strict",
                    "coloraxis": {
                      "colorbar": {
                        "outlinewidth": 0,
                        "ticks": ""
                      }
                    },
                    "colorscale": {
                      "diverging": [
                        [
                          0,
                          "#8e0152"
                        ],
                        [
                          0.1,
                          "#c51b7d"
                        ],
                        [
                          0.2,
                          "#de77ae"
                        ],
                        [
                          0.3,
                          "#f1b6da"
                        ],
                        [
                          0.4,
                          "#fde0ef"
                        ],
                        [
                          0.5,
                          "#f7f7f7"
                        ],
                        [
                          0.6,
                          "#e6f5d0"
                        ],
                        [
                          0.7,
                          "#b8e186"
                        ],
                        [
                          0.8,
                          "#7fbc41"
                        ],
                        [
                          0.9,
                          "#4d9221"
                        ],
                        [
                          1,
                          "#276419"
                        ]
                      ],
                      "sequential": [
                        [
                          0,
                          "#0d0887"
                        ],
                        [
                          0.1111111111111111,
                          "#46039f"
                        ],
                        [
                          0.2222222222222222,
                          "#7201a8"
                        ],
                        [
                          0.3333333333333333,
                          "#9c179e"
                        ],
                        [
                          0.4444444444444444,
                          "#bd3786"
                        ],
                        [
                          0.5555555555555556,
                          "#d8576b"
                        ],
                        [
                          0.6666666666666666,
                          "#ed7953"
                        ],
                        [
                          0.7777777777777778,
                          "#fb9f3a"
                        ],
                        [
                          0.8888888888888888,
                          "#fdca26"
                        ],
                        [
                          1,
                          "#f0f921"
                        ]
                      ],
                      "sequentialminus": [
                        [
                          0,
                          "#0d0887"
                        ],
                        [
                          0.1111111111111111,
                          "#46039f"
                        ],
                        [
                          0.2222222222222222,
                          "#7201a8"
                        ],
                        [
                          0.3333333333333333,
                          "#9c179e"
                        ],
                        [
                          0.4444444444444444,
                          "#bd3786"
                        ],
                        [
                          0.5555555555555556,
                          "#d8576b"
                        ],
                        [
                          0.6666666666666666,
                          "#ed7953"
                        ],
                        [
                          0.7777777777777778,
                          "#fb9f3a"
                        ],
                        [
                          0.8888888888888888,
                          "#fdca26"
                        ],
                        [
                          1,
                          "#f0f921"
                        ]
                      ]
                    },
                    "colorway": [
                      "#636efa",
                      "#EF553B",
                      "#00cc96",
                      "#ab63fa",
                      "#FFA15A",
                      "#19d3f3",
                      "#FF6692",
                      "#B6E880",
                      "#FF97FF",
                      "#FECB52"
                    ],
                    "font": {
                      "color": "#2a3f5f"
                    },
                    "geo": {
                      "bgcolor": "white",
                      "lakecolor": "white",
                      "landcolor": "#E5ECF6",
                      "showlakes": true,
                      "showland": true,
                      "subunitcolor": "white"
                    },
                    "hoverlabel": {
                      "align": "left"
                    },
                    "hovermode": "closest",
                    "mapbox": {
                      "style": "light"
                    },
                    "paper_bgcolor": "white",
                    "plot_bgcolor": "#E5ECF6",
                    "polar": {
                      "angularaxis": {
                        "gridcolor": "white",
                        "linecolor": "white",
                        "ticks": ""
                      },
                      "bgcolor": "#E5ECF6",
                      "radialaxis": {
                        "gridcolor": "white",
                        "linecolor": "white",
                        "ticks": ""
                      }
                    },
                    "scene": {
                      "xaxis": {
                        "backgroundcolor": "#E5ECF6",
                        "gridcolor": "white",
                        "gridwidth": 2,
                        "linecolor": "white",
                        "showbackground": true,
                        "ticks": "",
                        "zerolinecolor": "white"
                      },
                      "yaxis": {
                        "backgroundcolor": "#E5ECF6",
                        "gridcolor": "white",
                        "gridwidth": 2,
                        "linecolor": "white",
                        "showbackground": true,
                        "ticks": "",
                        "zerolinecolor": "white"
                      },
                      "zaxis": {
                        "backgroundcolor": "#E5ECF6",
                        "gridcolor": "white",
                        "gridwidth": 2,
                        "linecolor": "white",
                        "showbackground": true,
                        "ticks": "",
                        "zerolinecolor": "white"
                      }
                    },
                    "shapedefaults": {
                      "line": {
                        "color": "#2a3f5f"
                      }
                    },
                    "ternary": {
                      "aaxis": {
                        "gridcolor": "white",
                        "linecolor": "white",
                        "ticks": ""
                      },
                      "baxis": {
                        "gridcolor": "white",
                        "linecolor": "white",
                        "ticks": ""
                      },
                      "bgcolor": "#E5ECF6",
                      "caxis": {
                        "gridcolor": "white",
                        "linecolor": "white",
                        "ticks": ""
                      }
                    },
                    "title": {
                      "x": 0.05
                    },
                    "xaxis": {
                      "automargin": true,
                      "gridcolor": "white",
                      "linecolor": "white",
                      "ticks": "",
                      "title": {
                        "standoff": 15
                      },
                      "zerolinecolor": "white",
                      "zerolinewidth": 2
                    },
                    "yaxis": {
                      "automargin": true,
                      "gridcolor": "white",
                      "linecolor": "white",
                      "ticks": "",
                      "title": {
                        "standoff": 15
                      },
                      "zerolinecolor": "white",
                      "zerolinewidth": 2
                    }
                  }
                },
                "title": {
                  "text": "Attention entropy by layer"
                },
                "xaxis": {
                  "anchor": "y",
                  "domain": [
                    0,
                    1
                  ],
                  "title": {
                    "text": "layer"
                  }
                },
                "yaxis": {
                  "anchor": "x",
                  "domain": [
                    0,
                    1
                  ],
                  "title": {
                    "text": "entropy"
                  }
                }
              }
            }
          },
          "metadata": {},
          "output_type": "display_data"
        },
        {
          "data": {
            "application/vnd.plotly.v1+json": {
              "config": {
                "plotlyServerURL": "https://plot.ly"
              },
              "data": [
                {
                  "hovertemplate": "model=average_merge<br>layer=%{x}<br>cls_focus=%{y}<extra></extra>",
                  "legendgroup": "average_merge",
                  "line": {
                    "color": "#636efa",
                    "dash": "solid"
                  },
                  "marker": {
                    "symbol": "circle"
                  },
                  "mode": "lines+markers",
                  "name": "average_merge",
                  "orientation": "v",
                  "showlegend": true,
                  "type": "scatter",
                  "x": {
                    "bdata": "AAECAwQFBgcICQoL",
                    "dtype": "i1"
                  },
                  "xaxis": "x",
                  "y": {
                    "bdata": "AAAAtlRZwD9VVVVNyPziPwAAABB6ouY/VVVVAmHk5j8AAADwCQ3mP6uqqrIRdeQ/VVVV9UW85j9VVVWdCGHnP6uqqhoq0OM/VVVVXWfB1D+rqqoiLBXLPwAAAFR+ZNE/",
                    "dtype": "f8"
                  },
                  "yaxis": "y"
                },
                {
                  "hovertemplate": "model=baseline<br>layer=%{x}<br>cls_focus=%{y}<extra></extra>",
                  "legendgroup": "baseline",
                  "line": {
                    "color": "#EF553B",
                    "dash": "solid"
                  },
                  "marker": {
                    "symbol": "circle"
                  },
                  "mode": "lines+markers",
                  "name": "baseline",
                  "orientation": "v",
                  "showlegend": true,
                  "type": "scatter",
                  "x": {
                    "bdata": "AAECAwQFBgcICQoL",
                    "dtype": "i1"
                  },
                  "xaxis": "x",
                  "y": {
                    "bdata": "q6qqLiGDwD+rqqquslHlPwAAACxigOc/AACAscF+6D9VVVXdksblP1VVVWWPEOU/AAAAcFXd5j9VVVXV0kboP6uqqgZoBuM/AAAAKNJg0T+rqqrmNOXIP6uqqp/fzdo/",
                    "dtype": "f8"
                  },
                  "yaxis": "y"
                },
                {
                  "hovertemplate": "model=similarity_merge<br>layer=%{x}<br>cls_focus=%{y}<extra></extra>",
                  "legendgroup": "similarity_merge",
                  "line": {
                    "color": "#00cc96",
                    "dash": "solid"
                  },
                  "marker": {
                    "symbol": "circle"
                  },
                  "mode": "lines+markers",
                  "name": "similarity_merge",
                  "orientation": "v",
                  "showlegend": true,
                  "type": "scatter",
                  "x": {
                    "bdata": "AAECAwQFBgcICQoL",
                    "dtype": "i1"
                  },
                  "xaxis": "x",
                  "y": {
                    "bdata": "VVVV0+RwwD+rqqoqL7niP1VVVTflfeY/VVVVOVb+5j8AAABIwifmPwAAAFAr0eQ/VVVVTcYG5z+rqqrKPyjnP6uqqq5cv+I/VVVVr/7R0z+rqqr6SFXJP1VVVTFLsM8/",
                    "dtype": "f8"
                  },
                  "yaxis": "y"
                },
                {
                  "hovertemplate": "model=task_arithmetic<br>layer=%{x}<br>cls_focus=%{y}<extra></extra>",
                  "legendgroup": "task_arithmetic",
                  "line": {
                    "color": "#ab63fa",
                    "dash": "solid"
                  },
                  "marker": {
                    "symbol": "circle"
                  },
                  "mode": "lines+markers",
                  "name": "task_arithmetic",
                  "orientation": "v",
                  "showlegend": true,
                  "type": "scatter",
                  "x": {
                    "bdata": "AAECAwQFBgcICQoL",
                    "dtype": "i1"
                  },
                  "xaxis": "x",
                  "y": {
                    "bdata": "VVVVAV0vwD8AAABsSdviP6uqqoYB8eY/VVVVsA1H5z9VVVUH2HHmPwAAAHhYveQ/q6qq9tPl5T+rqqp6UPXmP1VVVYHz0+Q/AAAA8OgN1j+rqqqaKZLLP6uqqoRx2tE/",
                    "dtype": "f8"
                  },
                  "yaxis": "y"
                }
              ],
              "layout": {
                "legend": {
                  "title": {
                    "text": "model"
                  },
                  "tracegroupgap": 0
                },
                "template": {
                  "data": {
                    "bar": [
                      {
                        "error_x": {
                          "color": "#2a3f5f"
                        },
                        "error_y": {
                          "color": "#2a3f5f"
                        },
                        "marker": {
                          "line": {
                            "color": "#E5ECF6",
                            "width": 0.5
                          },
                          "pattern": {
                            "fillmode": "overlay",
                            "size": 10,
                            "solidity": 0.2
                          }
                        },
                        "type": "bar"
                      }
                    ],
                    "barpolar": [
                      {
                        "marker": {
                          "line": {
                            "color": "#E5ECF6",
                            "width": 0.5
                          },
                          "pattern": {
                            "fillmode": "overlay",
                            "size": 10,
                            "solidity": 0.2
                          }
                        },
                        "type": "barpolar"
                      }
                    ],
                    "carpet": [
                      {
                        "aaxis": {
                          "endlinecolor": "#2a3f5f",
                          "gridcolor": "white",
                          "linecolor": "white",
                          "minorgridcolor": "white",
                          "startlinecolor": "#2a3f5f"
                        },
                        "baxis": {
                          "endlinecolor": "#2a3f5f",
                          "gridcolor": "white",
                          "linecolor": "white",
                          "minorgridcolor": "white",
                          "startlinecolor": "#2a3f5f"
                        },
                        "type": "carpet"
                      }
                    ],
                    "choropleth": [
                      {
                        "colorbar": {
                          "outlinewidth": 0,
                          "ticks": ""
                        },
                        "type": "choropleth"
                      }
                    ],
                    "contour": [
                      {
                        "colorbar": {
                          "outlinewidth": 0,
                          "ticks": ""
                        },
                        "colorscale": [
                          [
                            0,
                            "#0d0887"
                          ],
                          [
                            0.1111111111111111,
                            "#46039f"
                          ],
                          [
                            0.2222222222222222,
                            "#7201a8"
                          ],
                          [
                            0.3333333333333333,
                            "#9c179e"
                          ],
                          [
                            0.4444444444444444,
                            "#bd3786"
                          ],
                          [
                            0.5555555555555556,
                            "#d8576b"
                          ],
                          [
                            0.6666666666666666,
                            "#ed7953"
                          ],
                          [
                            0.7777777777777778,
                            "#fb9f3a"
                          ],
                          [
                            0.8888888888888888,
                            "#fdca26"
                          ],
                          [
                            1,
                            "#f0f921"
                          ]
                        ],
                        "type": "contour"
                      }
                    ],
                    "contourcarpet": [
                      {
                        "colorbar": {
                          "outlinewidth": 0,
                          "ticks": ""
                        },
                        "type": "contourcarpet"
                      }
                    ],
                    "heatmap": [
                      {
                        "colorbar": {
                          "outlinewidth": 0,
                          "ticks": ""
                        },
                        "colorscale": [
                          [
                            0,
                            "#0d0887"
                          ],
                          [
                            0.1111111111111111,
                            "#46039f"
                          ],
                          [
                            0.2222222222222222,
                            "#7201a8"
                          ],
                          [
                            0.3333333333333333,
                            "#9c179e"
                          ],
                          [
                            0.4444444444444444,
                            "#bd3786"
                          ],
                          [
                            0.5555555555555556,
                            "#d8576b"
                          ],
                          [
                            0.6666666666666666,
                            "#ed7953"
                          ],
                          [
                            0.7777777777777778,
                            "#fb9f3a"
                          ],
                          [
                            0.8888888888888888,
                            "#fdca26"
                          ],
                          [
                            1,
                            "#f0f921"
                          ]
                        ],
                        "type": "heatmap"
                      }
                    ],
                    "histogram": [
                      {
                        "marker": {
                          "pattern": {
                            "fillmode": "overlay",
                            "size": 10,
                            "solidity": 0.2
                          }
                        },
                        "type": "histogram"
                      }
                    ],
                    "histogram2d": [
                      {
                        "colorbar": {
                          "outlinewidth": 0,
                          "ticks": ""
                        },
                        "colorscale": [
                          [
                            0,
                            "#0d0887"
                          ],
                          [
                            0.1111111111111111,
                            "#46039f"
                          ],
                          [
                            0.2222222222222222,
                            "#7201a8"
                          ],
                          [
                            0.3333333333333333,
                            "#9c179e"
                          ],
                          [
                            0.4444444444444444,
                            "#bd3786"
                          ],
                          [
                            0.5555555555555556,
                            "#d8576b"
                          ],
                          [
                            0.6666666666666666,
                            "#ed7953"
                          ],
                          [
                            0.7777777777777778,
                            "#fb9f3a"
                          ],
                          [
                            0.8888888888888888,
                            "#fdca26"
                          ],
                          [
                            1,
                            "#f0f921"
                          ]
                        ],
                        "type": "histogram2d"
                      }
                    ],
                    "histogram2dcontour": [
                      {
                        "colorbar": {
                          "outlinewidth": 0,
                          "ticks": ""
                        },
                        "colorscale": [
                          [
                            0,
                            "#0d0887"
                          ],
                          [
                            0.1111111111111111,
                            "#46039f"
                          ],
                          [
                            0.2222222222222222,
                            "#7201a8"
                          ],
                          [
                            0.3333333333333333,
                            "#9c179e"
                          ],
                          [
                            0.4444444444444444,
                            "#bd3786"
                          ],
                          [
                            0.5555555555555556,
                            "#d8576b"
                          ],
                          [
                            0.6666666666666666,
                            "#ed7953"
                          ],
                          [
                            0.7777777777777778,
                            "#fb9f3a"
                          ],
                          [
                            0.8888888888888888,
                            "#fdca26"
                          ],
                          [
                            1,
                            "#f0f921"
                          ]
                        ],
                        "type": "histogram2dcontour"
                      }
                    ],
                    "mesh3d": [
                      {
                        "colorbar": {
                          "outlinewidth": 0,
                          "ticks": ""
                        },
                        "type": "mesh3d"
                      }
                    ],
                    "parcoords": [
                      {
                        "line": {
                          "colorbar": {
                            "outlinewidth": 0,
                            "ticks": ""
                          }
                        },
                        "type": "parcoords"
                      }
                    ],
                    "pie": [
                      {
                        "automargin": true,
                        "type": "pie"
                      }
                    ],
                    "scatter": [
                      {
                        "fillpattern": {
                          "fillmode": "overlay",
                          "size": 10,
                          "solidity": 0.2
                        },
                        "type": "scatter"
                      }
                    ],
                    "scatter3d": [
                      {
                        "line": {
                          "colorbar": {
                            "outlinewidth": 0,
                            "ticks": ""
                          }
                        },
                        "marker": {
                          "colorbar": {
                            "outlinewidth": 0,
                            "ticks": ""
                          }
                        },
                        "type": "scatter3d"
                      }
                    ],
                    "scattercarpet": [
                      {
                        "marker": {
                          "colorbar": {
                            "outlinewidth": 0,
                            "ticks": ""
                          }
                        },
                        "type": "scattercarpet"
                      }
                    ],
                    "scattergeo": [
                      {
                        "marker": {
                          "colorbar": {
                            "outlinewidth": 0,
                            "ticks": ""
                          }
                        },
                        "type": "scattergeo"
                      }
                    ],
                    "scattergl": [
                      {
                        "marker": {
                          "colorbar": {
                            "outlinewidth": 0,
                            "ticks": ""
                          }
                        },
                        "type": "scattergl"
                      }
                    ],
                    "scattermap": [
                      {
                        "marker": {
                          "colorbar": {
                            "outlinewidth": 0,
                            "ticks": ""
                          }
                        },
                        "type": "scattermap"
                      }
                    ],
                    "scattermapbox": [
                      {
                        "marker": {
                          "colorbar": {
                            "outlinewidth": 0,
                            "ticks": ""
                          }
                        },
                        "type": "scattermapbox"
                      }
                    ],
                    "scatterpolar": [
                      {
                        "marker": {
                          "colorbar": {
                            "outlinewidth": 0,
                            "ticks": ""
                          }
                        },
                        "type": "scatterpolar"
                      }
                    ],
                    "scatterpolargl": [
                      {
                        "marker": {
                          "colorbar": {
                            "outlinewidth": 0,
                            "ticks": ""
                          }
                        },
                        "type": "scatterpolargl"
                      }
                    ],
                    "scatterternary": [
                      {
                        "marker": {
                          "colorbar": {
                            "outlinewidth": 0,
                            "ticks": ""
                          }
                        },
                        "type": "scatterternary"
                      }
                    ],
                    "surface": [
                      {
                        "colorbar": {
                          "outlinewidth": 0,
                          "ticks": ""
                        },
                        "colorscale": [
                          [
                            0,
                            "#0d0887"
                          ],
                          [
                            0.1111111111111111,
                            "#46039f"
                          ],
                          [
                            0.2222222222222222,
                            "#7201a8"
                          ],
                          [
                            0.3333333333333333,
                            "#9c179e"
                          ],
                          [
                            0.4444444444444444,
                            "#bd3786"
                          ],
                          [
                            0.5555555555555556,
                            "#d8576b"
                          ],
                          [
                            0.6666666666666666,
                            "#ed7953"
                          ],
                          [
                            0.7777777777777778,
                            "#fb9f3a"
                          ],
                          [
                            0.8888888888888888,
                            "#fdca26"
                          ],
                          [
                            1,
                            "#f0f921"
                          ]
                        ],
                        "type": "surface"
                      }
                    ],
                    "table": [
                      {
                        "cells": {
                          "fill": {
                            "color": "#EBF0F8"
                          },
                          "line": {
                            "color": "white"
                          }
                        },
                        "header": {
                          "fill": {
                            "color": "#C8D4E3"
                          },
                          "line": {
                            "color": "white"
                          }
                        },
                        "type": "table"
                      }
                    ]
                  },
                  "layout": {
                    "annotationdefaults": {
                      "arrowcolor": "#2a3f5f",
                      "arrowhead": 0,
                      "arrowwidth": 1
                    },
                    "autotypenumbers": "strict",
                    "coloraxis": {
                      "colorbar": {
                        "outlinewidth": 0,
                        "ticks": ""
                      }
                    },
                    "colorscale": {
                      "diverging": [
                        [
                          0,
                          "#8e0152"
                        ],
                        [
                          0.1,
                          "#c51b7d"
                        ],
                        [
                          0.2,
                          "#de77ae"
                        ],
                        [
                          0.3,
                          "#f1b6da"
                        ],
                        [
                          0.4,
                          "#fde0ef"
                        ],
                        [
                          0.5,
                          "#f7f7f7"
                        ],
                        [
                          0.6,
                          "#e6f5d0"
                        ],
                        [
                          0.7,
                          "#b8e186"
                        ],
                        [
                          0.8,
                          "#7fbc41"
                        ],
                        [
                          0.9,
                          "#4d9221"
                        ],
                        [
                          1,
                          "#276419"
                        ]
                      ],
                      "sequential": [
                        [
                          0,
                          "#0d0887"
                        ],
                        [
                          0.1111111111111111,
                          "#46039f"
                        ],
                        [
                          0.2222222222222222,
                          "#7201a8"
                        ],
                        [
                          0.3333333333333333,
                          "#9c179e"
                        ],
                        [
                          0.4444444444444444,
                          "#bd3786"
                        ],
                        [
                          0.5555555555555556,
                          "#d8576b"
                        ],
                        [
                          0.6666666666666666,
                          "#ed7953"
                        ],
                        [
                          0.7777777777777778,
                          "#fb9f3a"
                        ],
                        [
                          0.8888888888888888,
                          "#fdca26"
                        ],
                        [
                          1,
                          "#f0f921"
                        ]
                      ],
                      "sequentialminus": [
                        [
                          0,
                          "#0d0887"
                        ],
                        [
                          0.1111111111111111,
                          "#46039f"
                        ],
                        [
                          0.2222222222222222,
                          "#7201a8"
                        ],
                        [
                          0.3333333333333333,
                          "#9c179e"
                        ],
                        [
                          0.4444444444444444,
                          "#bd3786"
                        ],
                        [
                          0.5555555555555556,
                          "#d8576b"
                        ],
                        [
                          0.6666666666666666,
                          "#ed7953"
                        ],
                        [
                          0.7777777777777778,
                          "#fb9f3a"
                        ],
                        [
                          0.8888888888888888,
                          "#fdca26"
                        ],
                        [
                          1,
                          "#f0f921"
                        ]
                      ]
                    },
                    "colorway": [
                      "#636efa",
                      "#EF553B",
                      "#00cc96",
                      "#ab63fa",
                      "#FFA15A",
                      "#19d3f3",
                      "#FF6692",
                      "#B6E880",
                      "#FF97FF",
                      "#FECB52"
                    ],
                    "font": {
                      "color": "#2a3f5f"
                    },
                    "geo": {
                      "bgcolor": "white",
                      "lakecolor": "white",
                      "landcolor": "#E5ECF6",
                      "showlakes": true,
                      "showland": true,
                      "subunitcolor": "white"
                    },
                    "hoverlabel": {
                      "align": "left"
                    },
                    "hovermode": "closest",
                    "mapbox": {
                      "style": "light"
                    },
                    "paper_bgcolor": "white",
                    "plot_bgcolor": "#E5ECF6",
                    "polar": {
                      "angularaxis": {
                        "gridcolor": "white",
                        "linecolor": "white",
                        "ticks": ""
                      },
                      "bgcolor": "#E5ECF6",
                      "radialaxis": {
                        "gridcolor": "white",
                        "linecolor": "white",
                        "ticks": ""
                      }
                    },
                    "scene": {
                      "xaxis": {
                        "backgroundcolor": "#E5ECF6",
                        "gridcolor": "white",
                        "gridwidth": 2,
                        "linecolor": "white",
                        "showbackground": true,
                        "ticks": "",
                        "zerolinecolor": "white"
                      },
                      "yaxis": {
                        "backgroundcolor": "#E5ECF6",
                        "gridcolor": "white",
                        "gridwidth": 2,
                        "linecolor": "white",
                        "showbackground": true,
                        "ticks": "",
                        "zerolinecolor": "white"
                      },
                      "zaxis": {
                        "backgroundcolor": "#E5ECF6",
                        "gridcolor": "white",
                        "gridwidth": 2,
                        "linecolor": "white",
                        "showbackground": true,
                        "ticks": "",
                        "zerolinecolor": "white"
                      }
                    },
                    "shapedefaults": {
                      "line": {
                        "color": "#2a3f5f"
                      }
                    },
                    "ternary": {
                      "aaxis": {
                        "gridcolor": "white",
                        "linecolor": "white",
                        "ticks": ""
                      },
                      "baxis": {
                        "gridcolor": "white",
                        "linecolor": "white",
                        "ticks": ""
                      },
                      "bgcolor": "#E5ECF6",
                      "caxis": {
                        "gridcolor": "white",
                        "linecolor": "white",
                        "ticks": ""
                      }
                    },
                    "title": {
                      "x": 0.05
                    },
                    "xaxis": {
                      "automargin": true,
                      "gridcolor": "white",
                      "linecolor": "white",
                      "ticks": "",
                      "title": {
                        "standoff": 15
                      },
                      "zerolinecolor": "white",
                      "zerolinewidth": 2
                    },
                    "yaxis": {
                      "automargin": true,
                      "gridcolor": "white",
                      "linecolor": "white",
                      "ticks": "",
                      "title": {
                        "standoff": 15
                      },
                      "zerolinecolor": "white",
                      "zerolinewidth": 2
                    }
                  }
                },
                "title": {
                  "text": "Average CLS attention focus"
                },
                "xaxis": {
                  "anchor": "y",
                  "domain": [
                    0,
                    1
                  ],
                  "title": {
                    "text": "layer"
                  }
                },
                "yaxis": {
                  "anchor": "x",
                  "domain": [
                    0,
                    1
                  ],
                  "title": {
                    "text": "cls_focus"
                  }
                }
              }
            }
          },
          "metadata": {},
          "output_type": "display_data"
        }
      ],
      "source": [
        "if not attention_df.empty:\n",
        "    fig = px.box(\n",
        "        attention_df,\n",
        "        x=\"layer\",\n",
        "        y=\"entropy\",\n",
        "        color=\"model\",\n",
        "        points=\"all\",\n",
        "        title=\"Attention entropy by layer\",\n",
        "    )\n",
        "    fig.show()\n",
        "\n",
        "    fig = px.line(\n",
        "        attention_df.groupby([\"model\", \"layer\"]).mean(numeric_only=True).reset_index(),\n",
        "        x=\"layer\",\n",
        "        y=\"cls_focus\",\n",
        "        color=\"model\",\n",
        "        markers=True,\n",
        "        title=\"Average CLS attention focus\",\n",
        "    )\n",
        "    fig.show()"
      ]
    },
    {
      "cell_type": "code",
      "execution_count": 12,
      "metadata": {},
      "outputs": [
        {
          "data": {
            "text/html": [
              "<div>\n",
              "<style scoped>\n",
              "    .dataframe tbody tr th:only-of-type {\n",
              "        vertical-align: middle;\n",
              "    }\n",
              "\n",
              "    .dataframe tbody tr th {\n",
              "        vertical-align: top;\n",
              "    }\n",
              "\n",
              "    .dataframe thead th {\n",
              "        text-align: right;\n",
              "    }\n",
              "</style>\n",
              "<table border=\"1\" class=\"dataframe\">\n",
              "  <thead>\n",
              "    <tr style=\"text-align: right;\">\n",
              "      <th></th>\n",
              "      <th>layer</th>\n",
              "      <th>mean_token_norm</th>\n",
              "      <th>max_token_norm</th>\n",
              "      <th>std_token_norm</th>\n",
              "      <th>sequence_mean_norm</th>\n",
              "      <th>model</th>\n",
              "    </tr>\n",
              "  </thead>\n",
              "  <tbody>\n",
              "    <tr>\n",
              "      <th>0</th>\n",
              "      <td>0</td>\n",
              "      <td>7.383190</td>\n",
              "      <td>11.213955</td>\n",
              "      <td>2.026369</td>\n",
              "      <td>7.383190</td>\n",
              "      <td>baseline</td>\n",
              "    </tr>\n",
              "    <tr>\n",
              "      <th>1</th>\n",
              "      <td>1</td>\n",
              "      <td>13.429830</td>\n",
              "      <td>25.504820</td>\n",
              "      <td>3.641388</td>\n",
              "      <td>13.429830</td>\n",
              "      <td>baseline</td>\n",
              "    </tr>\n",
              "    <tr>\n",
              "      <th>2</th>\n",
              "      <td>2</td>\n",
              "      <td>19.884916</td>\n",
              "      <td>26.351151</td>\n",
              "      <td>2.411303</td>\n",
              "      <td>19.884916</td>\n",
              "      <td>baseline</td>\n",
              "    </tr>\n",
              "    <tr>\n",
              "      <th>3</th>\n",
              "      <td>3</td>\n",
              "      <td>21.892551</td>\n",
              "      <td>26.285740</td>\n",
              "      <td>1.455102</td>\n",
              "      <td>21.892553</td>\n",
              "      <td>baseline</td>\n",
              "    </tr>\n",
              "    <tr>\n",
              "      <th>4</th>\n",
              "      <td>4</td>\n",
              "      <td>21.050301</td>\n",
              "      <td>26.788780</td>\n",
              "      <td>1.688169</td>\n",
              "      <td>21.050301</td>\n",
              "      <td>baseline</td>\n",
              "    </tr>\n",
              "  </tbody>\n",
              "</table>\n",
              "</div>"
            ],
            "text/plain": [
              "   layer  mean_token_norm  max_token_norm  std_token_norm  sequence_mean_norm  \\\n",
              "0      0         7.383190       11.213955        2.026369            7.383190   \n",
              "1      1        13.429830       25.504820        3.641388           13.429830   \n",
              "2      2        19.884916       26.351151        2.411303           19.884916   \n",
              "3      3        21.892551       26.285740        1.455102           21.892553   \n",
              "4      4        21.050301       26.788780        1.688169           21.050301   \n",
              "\n",
              "      model  \n",
              "0  baseline  \n",
              "1  baseline  \n",
              "2  baseline  \n",
              "3  baseline  \n",
              "4  baseline  "
            ]
          },
          "metadata": {},
          "output_type": "display_data"
        }
      ],
      "source": [
        "hidden_records = []\n",
        "for name, signal in signals.items():\n",
        "    hidden_states = signal.get(\"hidden_states\")\n",
        "    if not hidden_states:\n",
        "        continue\n",
        "    hidden_df = summarize_hidden_states(hidden_states)\n",
        "    hidden_df[\"model\"] = name\n",
        "    hidden_records.append(hidden_df)\n",
        "\n",
        "hidden_df = pd.concat(hidden_records, ignore_index=True) if hidden_records else pd.DataFrame()\n",
        "display(hidden_df.head())"
      ]
    },
    {
      "cell_type": "code",
      "execution_count": 13,
      "metadata": {},
      "outputs": [
        {
          "data": {
            "application/vnd.plotly.v1+json": {
              "config": {
                "plotlyServerURL": "https://plot.ly"
              },
              "data": [
                {
                  "hovertemplate": "model=baseline<br>layer=%{x}<br>mean_token_norm=%{y}<extra></extra>",
                  "legendgroup": "baseline",
                  "line": {
                    "color": "#636efa",
                    "dash": "solid"
                  },
                  "marker": {
                    "symbol": "circle"
                  },
                  "mode": "lines+markers",
                  "name": "baseline",
                  "orientation": "v",
                  "showlegend": true,
                  "type": "scatter",
                  "x": {
                    "bdata": "AAECAwQFBgcICQoLDA==",
                    "dtype": "i1"
                  },
                  "xaxis": "x",
                  "y": {
                    "bdata": "AAAA4GKIHUAAAACgEtwqQAAAAOCJ4jNAAAAAQH7kNUAAAACA4Aw1QAAAAGDQDzVAAAAA4GeKNUAAAABA3J40QAAAAIB9aTZAAAAAQNXGNkAAAABg9yM4QAAAAIBYsDdAAAAA4JAwM0A=",
                    "dtype": "f8"
                  },
                  "yaxis": "y"
                },
                {
                  "hovertemplate": "model=average_merge<br>layer=%{x}<br>mean_token_norm=%{y}<extra></extra>",
                  "legendgroup": "average_merge",
                  "line": {
                    "color": "#EF553B",
                    "dash": "solid"
                  },
                  "marker": {
                    "symbol": "circle"
                  },
                  "mode": "lines+markers",
                  "name": "average_merge",
                  "orientation": "v",
                  "showlegend": true,
                  "type": "scatter",
                  "x": {
                    "bdata": "AAECAwQFBgcICQoLDA==",
                    "dtype": "i1"
                  },
                  "xaxis": "x",
                  "y": {
                    "bdata": "AAAA4GaBHUAAAADAh8gqQAAAACACAzRAAAAAABA4NkAAAABgkyk1QAAAAAD9AjVAAAAAADOPNEAAAAAAGNczQAAAAMBKXTVAAAAAgFpENkAAAACAIuU4QAAAAKCXFzhAAAAAwKNNM0A=",
                    "dtype": "f8"
                  },
                  "yaxis": "y"
                },
                {
                  "hovertemplate": "model=similarity_merge<br>layer=%{x}<br>mean_token_norm=%{y}<extra></extra>",
                  "legendgroup": "similarity_merge",
                  "line": {
                    "color": "#00cc96",
                    "dash": "solid"
                  },
                  "marker": {
                    "symbol": "circle"
                  },
                  "mode": "lines+markers",
                  "name": "similarity_merge",
                  "orientation": "v",
                  "showlegend": true,
                  "type": "scatter",
                  "x": {
                    "bdata": "AAECAwQFBgcICQoLDA==",
                    "dtype": "i1"
                  },
                  "xaxis": "x",
                  "y": {
                    "bdata": "AAAAYNh/HUAAAABAR8IqQAAAAOBl+jNAAAAAYKQTNkAAAABggg01QAAAAIBZ6TRAAAAAgHduNEAAAABAe78zQAAAAKClUzVAAAAAYF5JNkAAAADgEcs4QAAAAGAJ+jdAAAAAQJAzM0A=",
                    "dtype": "f8"
                  },
                  "yaxis": "y"
                },
                {
                  "hovertemplate": "model=task_arithmetic<br>layer=%{x}<br>mean_token_norm=%{y}<extra></extra>",
                  "legendgroup": "task_arithmetic",
                  "line": {
                    "color": "#ab63fa",
                    "dash": "solid"
                  },
                  "marker": {
                    "symbol": "circle"
                  },
                  "mode": "lines+markers",
                  "name": "task_arithmetic",
                  "orientation": "v",
                  "showlegend": true,
                  "type": "scatter",
                  "x": {
                    "bdata": "AAECAwQFBgcICQoLDA==",
                    "dtype": "i1"
                  },
                  "xaxis": "x",
                  "y": {
                    "bdata": "AAAAoIqDHUAAAABAkMIqQAAAAADF7DNAAAAAYAYPNkAAAADABSY1QAAAAGB/IjVAAAAAgEqyNEAAAAAA/+MzQAAAAIAxdTVAAAAAQBSqNkAAAABA5984QAAAAEA4LDhAAAAA4I5LM0A=",
                    "dtype": "f8"
                  },
                  "yaxis": "y"
                }
              ],
              "layout": {
                "legend": {
                  "title": {
                    "text": "model"
                  },
                  "tracegroupgap": 0
                },
                "template": {
                  "data": {
                    "bar": [
                      {
                        "error_x": {
                          "color": "#2a3f5f"
                        },
                        "error_y": {
                          "color": "#2a3f5f"
                        },
                        "marker": {
                          "line": {
                            "color": "#E5ECF6",
                            "width": 0.5
                          },
                          "pattern": {
                            "fillmode": "overlay",
                            "size": 10,
                            "solidity": 0.2
                          }
                        },
                        "type": "bar"
                      }
                    ],
                    "barpolar": [
                      {
                        "marker": {
                          "line": {
                            "color": "#E5ECF6",
                            "width": 0.5
                          },
                          "pattern": {
                            "fillmode": "overlay",
                            "size": 10,
                            "solidity": 0.2
                          }
                        },
                        "type": "barpolar"
                      }
                    ],
                    "carpet": [
                      {
                        "aaxis": {
                          "endlinecolor": "#2a3f5f",
                          "gridcolor": "white",
                          "linecolor": "white",
                          "minorgridcolor": "white",
                          "startlinecolor": "#2a3f5f"
                        },
                        "baxis": {
                          "endlinecolor": "#2a3f5f",
                          "gridcolor": "white",
                          "linecolor": "white",
                          "minorgridcolor": "white",
                          "startlinecolor": "#2a3f5f"
                        },
                        "type": "carpet"
                      }
                    ],
                    "choropleth": [
                      {
                        "colorbar": {
                          "outlinewidth": 0,
                          "ticks": ""
                        },
                        "type": "choropleth"
                      }
                    ],
                    "contour": [
                      {
                        "colorbar": {
                          "outlinewidth": 0,
                          "ticks": ""
                        },
                        "colorscale": [
                          [
                            0,
                            "#0d0887"
                          ],
                          [
                            0.1111111111111111,
                            "#46039f"
                          ],
                          [
                            0.2222222222222222,
                            "#7201a8"
                          ],
                          [
                            0.3333333333333333,
                            "#9c179e"
                          ],
                          [
                            0.4444444444444444,
                            "#bd3786"
                          ],
                          [
                            0.5555555555555556,
                            "#d8576b"
                          ],
                          [
                            0.6666666666666666,
                            "#ed7953"
                          ],
                          [
                            0.7777777777777778,
                            "#fb9f3a"
                          ],
                          [
                            0.8888888888888888,
                            "#fdca26"
                          ],
                          [
                            1,
                            "#f0f921"
                          ]
                        ],
                        "type": "contour"
                      }
                    ],
                    "contourcarpet": [
                      {
                        "colorbar": {
                          "outlinewidth": 0,
                          "ticks": ""
                        },
                        "type": "contourcarpet"
                      }
                    ],
                    "heatmap": [
                      {
                        "colorbar": {
                          "outlinewidth": 0,
                          "ticks": ""
                        },
                        "colorscale": [
                          [
                            0,
                            "#0d0887"
                          ],
                          [
                            0.1111111111111111,
                            "#46039f"
                          ],
                          [
                            0.2222222222222222,
                            "#7201a8"
                          ],
                          [
                            0.3333333333333333,
                            "#9c179e"
                          ],
                          [
                            0.4444444444444444,
                            "#bd3786"
                          ],
                          [
                            0.5555555555555556,
                            "#d8576b"
                          ],
                          [
                            0.6666666666666666,
                            "#ed7953"
                          ],
                          [
                            0.7777777777777778,
                            "#fb9f3a"
                          ],
                          [
                            0.8888888888888888,
                            "#fdca26"
                          ],
                          [
                            1,
                            "#f0f921"
                          ]
                        ],
                        "type": "heatmap"
                      }
                    ],
                    "histogram": [
                      {
                        "marker": {
                          "pattern": {
                            "fillmode": "overlay",
                            "size": 10,
                            "solidity": 0.2
                          }
                        },
                        "type": "histogram"
                      }
                    ],
                    "histogram2d": [
                      {
                        "colorbar": {
                          "outlinewidth": 0,
                          "ticks": ""
                        },
                        "colorscale": [
                          [
                            0,
                            "#0d0887"
                          ],
                          [
                            0.1111111111111111,
                            "#46039f"
                          ],
                          [
                            0.2222222222222222,
                            "#7201a8"
                          ],
                          [
                            0.3333333333333333,
                            "#9c179e"
                          ],
                          [
                            0.4444444444444444,
                            "#bd3786"
                          ],
                          [
                            0.5555555555555556,
                            "#d8576b"
                          ],
                          [
                            0.6666666666666666,
                            "#ed7953"
                          ],
                          [
                            0.7777777777777778,
                            "#fb9f3a"
                          ],
                          [
                            0.8888888888888888,
                            "#fdca26"
                          ],
                          [
                            1,
                            "#f0f921"
                          ]
                        ],
                        "type": "histogram2d"
                      }
                    ],
                    "histogram2dcontour": [
                      {
                        "colorbar": {
                          "outlinewidth": 0,
                          "ticks": ""
                        },
                        "colorscale": [
                          [
                            0,
                            "#0d0887"
                          ],
                          [
                            0.1111111111111111,
                            "#46039f"
                          ],
                          [
                            0.2222222222222222,
                            "#7201a8"
                          ],
                          [
                            0.3333333333333333,
                            "#9c179e"
                          ],
                          [
                            0.4444444444444444,
                            "#bd3786"
                          ],
                          [
                            0.5555555555555556,
                            "#d8576b"
                          ],
                          [
                            0.6666666666666666,
                            "#ed7953"
                          ],
                          [
                            0.7777777777777778,
                            "#fb9f3a"
                          ],
                          [
                            0.8888888888888888,
                            "#fdca26"
                          ],
                          [
                            1,
                            "#f0f921"
                          ]
                        ],
                        "type": "histogram2dcontour"
                      }
                    ],
                    "mesh3d": [
                      {
                        "colorbar": {
                          "outlinewidth": 0,
                          "ticks": ""
                        },
                        "type": "mesh3d"
                      }
                    ],
                    "parcoords": [
                      {
                        "line": {
                          "colorbar": {
                            "outlinewidth": 0,
                            "ticks": ""
                          }
                        },
                        "type": "parcoords"
                      }
                    ],
                    "pie": [
                      {
                        "automargin": true,
                        "type": "pie"
                      }
                    ],
                    "scatter": [
                      {
                        "fillpattern": {
                          "fillmode": "overlay",
                          "size": 10,
                          "solidity": 0.2
                        },
                        "type": "scatter"
                      }
                    ],
                    "scatter3d": [
                      {
                        "line": {
                          "colorbar": {
                            "outlinewidth": 0,
                            "ticks": ""
                          }
                        },
                        "marker": {
                          "colorbar": {
                            "outlinewidth": 0,
                            "ticks": ""
                          }
                        },
                        "type": "scatter3d"
                      }
                    ],
                    "scattercarpet": [
                      {
                        "marker": {
                          "colorbar": {
                            "outlinewidth": 0,
                            "ticks": ""
                          }
                        },
                        "type": "scattercarpet"
                      }
                    ],
                    "scattergeo": [
                      {
                        "marker": {
                          "colorbar": {
                            "outlinewidth": 0,
                            "ticks": ""
                          }
                        },
                        "type": "scattergeo"
                      }
                    ],
                    "scattergl": [
                      {
                        "marker": {
                          "colorbar": {
                            "outlinewidth": 0,
                            "ticks": ""
                          }
                        },
                        "type": "scattergl"
                      }
                    ],
                    "scattermap": [
                      {
                        "marker": {
                          "colorbar": {
                            "outlinewidth": 0,
                            "ticks": ""
                          }
                        },
                        "type": "scattermap"
                      }
                    ],
                    "scattermapbox": [
                      {
                        "marker": {
                          "colorbar": {
                            "outlinewidth": 0,
                            "ticks": ""
                          }
                        },
                        "type": "scattermapbox"
                      }
                    ],
                    "scatterpolar": [
                      {
                        "marker": {
                          "colorbar": {
                            "outlinewidth": 0,
                            "ticks": ""
                          }
                        },
                        "type": "scatterpolar"
                      }
                    ],
                    "scatterpolargl": [
                      {
                        "marker": {
                          "colorbar": {
                            "outlinewidth": 0,
                            "ticks": ""
                          }
                        },
                        "type": "scatterpolargl"
                      }
                    ],
                    "scatterternary": [
                      {
                        "marker": {
                          "colorbar": {
                            "outlinewidth": 0,
                            "ticks": ""
                          }
                        },
                        "type": "scatterternary"
                      }
                    ],
                    "surface": [
                      {
                        "colorbar": {
                          "outlinewidth": 0,
                          "ticks": ""
                        },
                        "colorscale": [
                          [
                            0,
                            "#0d0887"
                          ],
                          [
                            0.1111111111111111,
                            "#46039f"
                          ],
                          [
                            0.2222222222222222,
                            "#7201a8"
                          ],
                          [
                            0.3333333333333333,
                            "#9c179e"
                          ],
                          [
                            0.4444444444444444,
                            "#bd3786"
                          ],
                          [
                            0.5555555555555556,
                            "#d8576b"
                          ],
                          [
                            0.6666666666666666,
                            "#ed7953"
                          ],
                          [
                            0.7777777777777778,
                            "#fb9f3a"
                          ],
                          [
                            0.8888888888888888,
                            "#fdca26"
                          ],
                          [
                            1,
                            "#f0f921"
                          ]
                        ],
                        "type": "surface"
                      }
                    ],
                    "table": [
                      {
                        "cells": {
                          "fill": {
                            "color": "#EBF0F8"
                          },
                          "line": {
                            "color": "white"
                          }
                        },
                        "header": {
                          "fill": {
                            "color": "#C8D4E3"
                          },
                          "line": {
                            "color": "white"
                          }
                        },
                        "type": "table"
                      }
                    ]
                  },
                  "layout": {
                    "annotationdefaults": {
                      "arrowcolor": "#2a3f5f",
                      "arrowhead": 0,
                      "arrowwidth": 1
                    },
                    "autotypenumbers": "strict",
                    "coloraxis": {
                      "colorbar": {
                        "outlinewidth": 0,
                        "ticks": ""
                      }
                    },
                    "colorscale": {
                      "diverging": [
                        [
                          0,
                          "#8e0152"
                        ],
                        [
                          0.1,
                          "#c51b7d"
                        ],
                        [
                          0.2,
                          "#de77ae"
                        ],
                        [
                          0.3,
                          "#f1b6da"
                        ],
                        [
                          0.4,
                          "#fde0ef"
                        ],
                        [
                          0.5,
                          "#f7f7f7"
                        ],
                        [
                          0.6,
                          "#e6f5d0"
                        ],
                        [
                          0.7,
                          "#b8e186"
                        ],
                        [
                          0.8,
                          "#7fbc41"
                        ],
                        [
                          0.9,
                          "#4d9221"
                        ],
                        [
                          1,
                          "#276419"
                        ]
                      ],
                      "sequential": [
                        [
                          0,
                          "#0d0887"
                        ],
                        [
                          0.1111111111111111,
                          "#46039f"
                        ],
                        [
                          0.2222222222222222,
                          "#7201a8"
                        ],
                        [
                          0.3333333333333333,
                          "#9c179e"
                        ],
                        [
                          0.4444444444444444,
                          "#bd3786"
                        ],
                        [
                          0.5555555555555556,
                          "#d8576b"
                        ],
                        [
                          0.6666666666666666,
                          "#ed7953"
                        ],
                        [
                          0.7777777777777778,
                          "#fb9f3a"
                        ],
                        [
                          0.8888888888888888,
                          "#fdca26"
                        ],
                        [
                          1,
                          "#f0f921"
                        ]
                      ],
                      "sequentialminus": [
                        [
                          0,
                          "#0d0887"
                        ],
                        [
                          0.1111111111111111,
                          "#46039f"
                        ],
                        [
                          0.2222222222222222,
                          "#7201a8"
                        ],
                        [
                          0.3333333333333333,
                          "#9c179e"
                        ],
                        [
                          0.4444444444444444,
                          "#bd3786"
                        ],
                        [
                          0.5555555555555556,
                          "#d8576b"
                        ],
                        [
                          0.6666666666666666,
                          "#ed7953"
                        ],
                        [
                          0.7777777777777778,
                          "#fb9f3a"
                        ],
                        [
                          0.8888888888888888,
                          "#fdca26"
                        ],
                        [
                          1,
                          "#f0f921"
                        ]
                      ]
                    },
                    "colorway": [
                      "#636efa",
                      "#EF553B",
                      "#00cc96",
                      "#ab63fa",
                      "#FFA15A",
                      "#19d3f3",
                      "#FF6692",
                      "#B6E880",
                      "#FF97FF",
                      "#FECB52"
                    ],
                    "font": {
                      "color": "#2a3f5f"
                    },
                    "geo": {
                      "bgcolor": "white",
                      "lakecolor": "white",
                      "landcolor": "#E5ECF6",
                      "showlakes": true,
                      "showland": true,
                      "subunitcolor": "white"
                    },
                    "hoverlabel": {
                      "align": "left"
                    },
                    "hovermode": "closest",
                    "mapbox": {
                      "style": "light"
                    },
                    "paper_bgcolor": "white",
                    "plot_bgcolor": "#E5ECF6",
                    "polar": {
                      "angularaxis": {
                        "gridcolor": "white",
                        "linecolor": "white",
                        "ticks": ""
                      },
                      "bgcolor": "#E5ECF6",
                      "radialaxis": {
                        "gridcolor": "white",
                        "linecolor": "white",
                        "ticks": ""
                      }
                    },
                    "scene": {
                      "xaxis": {
                        "backgroundcolor": "#E5ECF6",
                        "gridcolor": "white",
                        "gridwidth": 2,
                        "linecolor": "white",
                        "showbackground": true,
                        "ticks": "",
                        "zerolinecolor": "white"
                      },
                      "yaxis": {
                        "backgroundcolor": "#E5ECF6",
                        "gridcolor": "white",
                        "gridwidth": 2,
                        "linecolor": "white",
                        "showbackground": true,
                        "ticks": "",
                        "zerolinecolor": "white"
                      },
                      "zaxis": {
                        "backgroundcolor": "#E5ECF6",
                        "gridcolor": "white",
                        "gridwidth": 2,
                        "linecolor": "white",
                        "showbackground": true,
                        "ticks": "",
                        "zerolinecolor": "white"
                      }
                    },
                    "shapedefaults": {
                      "line": {
                        "color": "#2a3f5f"
                      }
                    },
                    "ternary": {
                      "aaxis": {
                        "gridcolor": "white",
                        "linecolor": "white",
                        "ticks": ""
                      },
                      "baxis": {
                        "gridcolor": "white",
                        "linecolor": "white",
                        "ticks": ""
                      },
                      "bgcolor": "#E5ECF6",
                      "caxis": {
                        "gridcolor": "white",
                        "linecolor": "white",
                        "ticks": ""
                      }
                    },
                    "title": {
                      "x": 0.05
                    },
                    "xaxis": {
                      "automargin": true,
                      "gridcolor": "white",
                      "linecolor": "white",
                      "ticks": "",
                      "title": {
                        "standoff": 15
                      },
                      "zerolinecolor": "white",
                      "zerolinewidth": 2
                    },
                    "yaxis": {
                      "automargin": true,
                      "gridcolor": "white",
                      "linecolor": "white",
                      "ticks": "",
                      "title": {
                        "standoff": 15
                      },
                      "zerolinecolor": "white",
                      "zerolinewidth": 2
                    }
                  }
                },
                "title": {
                  "text": "Hidden state mean token norm"
                },
                "xaxis": {
                  "anchor": "y",
                  "domain": [
                    0,
                    1
                  ],
                  "title": {
                    "text": "layer"
                  }
                },
                "yaxis": {
                  "anchor": "x",
                  "domain": [
                    0,
                    1
                  ],
                  "title": {
                    "text": "mean_token_norm"
                  }
                }
              }
            }
          },
          "metadata": {},
          "output_type": "display_data"
        }
      ],
      "source": [
        "if not hidden_df.empty:\n",
        "    fig = px.line(\n",
        "        hidden_df,\n",
        "        x=\"layer\",\n",
        "        y=\"mean_token_norm\",\n",
        "        color=\"model\",\n",
        "        markers=True,\n",
        "        title=\"Hidden state mean token norm\",\n",
        "    )\n",
        "    fig.show()"
      ]
    },
    {
      "cell_type": "code",
      "execution_count": 14,
      "metadata": {},
      "outputs": [
        {
          "data": {
            "text/html": [
              "<div>\n",
              "<style scoped>\n",
              "    .dataframe tbody tr th:only-of-type {\n",
              "        vertical-align: middle;\n",
              "    }\n",
              "\n",
              "    .dataframe tbody tr th {\n",
              "        vertical-align: top;\n",
              "    }\n",
              "\n",
              "    .dataframe thead th {\n",
              "        text-align: right;\n",
              "    }\n",
              "</style>\n",
              "<table border=\"1\" class=\"dataframe\">\n",
              "  <thead>\n",
              "    <tr style=\"text-align: right;\">\n",
              "      <th></th>\n",
              "      <th>logit_mean</th>\n",
              "      <th>logit_std</th>\n",
              "      <th>confidence_mean</th>\n",
              "      <th>confidence_std</th>\n",
              "      <th>entropy_mean</th>\n",
              "      <th>model</th>\n",
              "    </tr>\n",
              "  </thead>\n",
              "  <tbody>\n",
              "    <tr>\n",
              "      <th>0</th>\n",
              "      <td>-0.056509</td>\n",
              "      <td>1.312831</td>\n",
              "      <td>0.628810</td>\n",
              "      <td>0.314590</td>\n",
              "      <td>1.444485</td>\n",
              "      <td>baseline</td>\n",
              "    </tr>\n",
              "    <tr>\n",
              "      <th>1</th>\n",
              "      <td>-0.022508</td>\n",
              "      <td>0.172479</td>\n",
              "      <td>0.036324</td>\n",
              "      <td>0.010476</td>\n",
              "      <td>4.074453</td>\n",
              "      <td>average_merge</td>\n",
              "    </tr>\n",
              "    <tr>\n",
              "      <th>2</th>\n",
              "      <td>-0.040680</td>\n",
              "      <td>0.217057</td>\n",
              "      <td>0.037611</td>\n",
              "      <td>0.009989</td>\n",
              "      <td>4.065650</td>\n",
              "      <td>similarity_merge</td>\n",
              "    </tr>\n",
              "    <tr>\n",
              "      <th>3</th>\n",
              "      <td>-0.011449</td>\n",
              "      <td>0.180217</td>\n",
              "      <td>0.037792</td>\n",
              "      <td>0.012902</td>\n",
              "      <td>4.071555</td>\n",
              "      <td>task_arithmetic</td>\n",
              "    </tr>\n",
              "  </tbody>\n",
              "</table>\n",
              "</div>"
            ],
            "text/plain": [
              "   logit_mean  logit_std  confidence_mean  confidence_std  entropy_mean  \\\n",
              "0   -0.056509   1.312831         0.628810        0.314590      1.444485   \n",
              "1   -0.022508   0.172479         0.036324        0.010476      4.074453   \n",
              "2   -0.040680   0.217057         0.037611        0.009989      4.065650   \n",
              "3   -0.011449   0.180217         0.037792        0.012902      4.071555   \n",
              "\n",
              "              model  \n",
              "0          baseline  \n",
              "1     average_merge  \n",
              "2  similarity_merge  \n",
              "3   task_arithmetic  "
            ]
          },
          "metadata": {},
          "output_type": "display_data"
        }
      ],
      "source": [
        "logit_rows = []\n",
        "for name, signal in signals.items():\n",
        "    stats = summarize_logits(signal[\"logits\"])\n",
        "    stats[\"model\"] = name\n",
        "    logit_rows.append(stats)\n",
        "\n",
        "logit_df = pd.DataFrame(logit_rows)\n",
        "display(logit_df)"
      ]
    }
  ],
  "metadata": {
    "kernelspec": {
      "display_name": ".venv",
      "language": "python",
      "name": "python3"
    },
    "language_info": {
      "codemirror_mode": {
        "name": "ipython",
        "version": 3
      },
      "file_extension": ".py",
      "mimetype": "text/x-python",
      "name": "python",
      "nbconvert_exporter": "python",
      "pygments_lexer": "ipython3",
      "version": "3.10.18"
    }
  },
  "nbformat": 4,
  "nbformat_minor": 5
}
